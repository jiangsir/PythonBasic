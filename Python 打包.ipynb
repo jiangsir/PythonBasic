{
 "cells": [
  {
   "cell_type": "markdown",
   "metadata": {},
   "source": [
    "pip install pyinstaller  \n",
    "預設搭配 python 3.5~3.7\n",
    "\n",
    "or 與最新版 python 3.8 相容  \n",
    "pip install https://github.com/pyinstaller/pyinstaller/archive/develop.tar.gz\n",
    "\n",
    "建立資料夾: test  \n",
    "指令: pyinstaller --onefile test.py"
   ]
  },
  {
   "cell_type": "code",
   "execution_count": null,
   "metadata": {},
   "outputs": [],
   "source": []
  }
 ],
 "metadata": {
  "language_info": {
   "codemirror_mode": {
    "name": "ipython",
    "version": 3
   },
   "file_extension": ".py",
   "mimetype": "text/x-python",
   "name": "python",
   "nbconvert_exporter": "python",
   "pygments_lexer": "ipython3",
   "version": 3
  },
  "orig_nbformat": 2
 },
 "nbformat": 4,
 "nbformat_minor": 2
}
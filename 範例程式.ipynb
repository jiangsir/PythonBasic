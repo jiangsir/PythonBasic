{
 "cells": [
  {
   "cell_type": "markdown",
   "metadata": {},
   "source": [
    "### Rsync 自動異地備份\n"
   ]
  },
  {
   "cell_type": "code",
   "execution_count": null,
   "metadata": {},
   "outputs": [],
   "source": [
    "import os\n",
    "\n",
    "print(\"本程式用於 crontab 定時將 apps 資料庫 以同步的方式備份出去。\")\n",
    "print(\"請先製作好對備份主機的免密碼登入：\")\n",
    "print(\"產生key: ssh-keygen -t rsa -f id_rsa_apps_9213\")\n",
    "print(\"複製到遠端：ssh-copy-id -i id_rsa_apps_9213 root@163.32.92.13\")\n",
    "print(\"測試：ssh -i id_rsa_apps_9213 root@163.32.92.13\")\n",
    "cmd = 'rsync -av -e \"ssh -i /home/ashs0555/crontab/id_rsa_apps_9213\" /var/lib/mysql/* root@163.32.92.13:/volume1/APPS_data/mysql/'\n",
    "print(cmd)\n",
    "os.system(cmd)\n"
   ]
  },
  {
   "cell_type": "markdown",
   "metadata": {},
   "source": [
    "## 用 fire 套件設計命令列程式"
   ]
  },
  {
   "cell_type": "code",
   "execution_count": null,
   "metadata": {},
   "outputs": [],
   "source": []
  },
  {
   "cell_type": "markdown",
   "metadata": {},
   "source": [
    "### 檔案生成"
   ]
  },
  {
   "cell_type": "code",
   "execution_count": 7,
   "metadata": {},
   "outputs": [
    {
     "name": "stdout",
     "output_type": "stream",
     "text": [
      "['$RECYCLE.BIN', 'System Volume Information']\n"
     ]
    },
    {
     "data": {
      "text/plain": [
       "['$RECYCLE.BIN',\n",
       " 'DESC_0000.txt',\n",
       " 'DESC_0001.txt',\n",
       " 'DESC_0002.txt',\n",
       " 'DESC_0003.txt',\n",
       " 'DESC_0004.txt',\n",
       " 'DESC_0005.txt',\n",
       " 'DESC_0006.txt',\n",
       " 'DESC_0007.txt',\n",
       " 'DESC_0008.txt',\n",
       " 'DESC_0009.txt',\n",
       " 'System Volume Information']"
      ]
     },
     "execution_count": 7,
     "metadata": {},
     "output_type": "execute_result"
    }
   ],
   "source": [
    "import os\n",
    "basepath = 'D:\\\\'\n",
    "def create(n):\n",
    "    for i in range(10):\n",
    "        with open(basepath + 'DESC_{:04d}.txt'.format(i), 'w', encoding='UTF-8') as fp:\n",
    "            fp.write('測試文件的內容！！！')\n",
    "\n",
    "print(os.listdir(basepath))\n",
    "create(10)\n",
    "os.listdir(basepath)\n"
   ]
  },
  {
   "cell_type": "markdown",
   "metadata": {},
   "source": [
    "### 一行讀取 Excel 檔"
   ]
  },
  {
   "cell_type": "code",
   "execution_count": 6,
   "metadata": {},
   "outputs": [
    {
     "output_type": "execute_result",
     "data": {
      "text/plain": "       醫事機構代碼            醫事機構名稱               醫事機構地址        醫事機構電話  成人口罩剩餘數  \\\n0   145080011  衛生福利部花蓮醫院豐濱原住民分院      花蓮縣豐濱鄉豐濱村光豐路４１號   (03)8358141      755   \n1   291010010            連江縣立醫院        連江縣南竿鄉復興村２１７號   (083)623995        0   \n2  2303240013         臺中市中西區衛生所         臺中市西區民權路１０５號  (04)22223811        0   \n3  2311010010         基隆市中正區衛生所      基隆市中正區中正路２３６號２樓  (02)24621632        0   \n4  2311020016         基隆市七堵區衛生所  基隆市七堵區光明路２１－１（１－２樓）  (02)24562008        0   \n\n   兒童口罩剩餘數              來源資料時間  \n0      435 2020-02-19 00:15:35  \n1      168 2020-02-19 00:15:35  \n2       22 2020-02-19 00:15:35  \n3      108 2020-02-19 00:15:35  \n4       80 2020-02-19 00:15:35  ",
      "text/html": "<div>\n<style scoped>\n    .dataframe tbody tr th:only-of-type {\n        vertical-align: middle;\n    }\n\n    .dataframe tbody tr th {\n        vertical-align: top;\n    }\n\n    .dataframe thead th {\n        text-align: right;\n    }\n</style>\n<table border=\"1\" class=\"dataframe\">\n  <thead>\n    <tr style=\"text-align: right;\">\n      <th></th>\n      <th>醫事機構代碼</th>\n      <th>醫事機構名稱</th>\n      <th>醫事機構地址</th>\n      <th>醫事機構電話</th>\n      <th>成人口罩剩餘數</th>\n      <th>兒童口罩剩餘數</th>\n      <th>來源資料時間</th>\n    </tr>\n  </thead>\n  <tbody>\n    <tr>\n      <th>0</th>\n      <td>145080011</td>\n      <td>衛生福利部花蓮醫院豐濱原住民分院</td>\n      <td>花蓮縣豐濱鄉豐濱村光豐路４１號</td>\n      <td>(03)8358141</td>\n      <td>755</td>\n      <td>435</td>\n      <td>2020-02-19 00:15:35</td>\n    </tr>\n    <tr>\n      <th>1</th>\n      <td>291010010</td>\n      <td>連江縣立醫院</td>\n      <td>連江縣南竿鄉復興村２１７號</td>\n      <td>(083)623995</td>\n      <td>0</td>\n      <td>168</td>\n      <td>2020-02-19 00:15:35</td>\n    </tr>\n    <tr>\n      <th>2</th>\n      <td>2303240013</td>\n      <td>臺中市中西區衛生所</td>\n      <td>臺中市西區民權路１０５號</td>\n      <td>(04)22223811</td>\n      <td>0</td>\n      <td>22</td>\n      <td>2020-02-19 00:15:35</td>\n    </tr>\n    <tr>\n      <th>3</th>\n      <td>2311010010</td>\n      <td>基隆市中正區衛生所</td>\n      <td>基隆市中正區中正路２３６號２樓</td>\n      <td>(02)24621632</td>\n      <td>0</td>\n      <td>108</td>\n      <td>2020-02-19 00:15:35</td>\n    </tr>\n    <tr>\n      <th>4</th>\n      <td>2311020016</td>\n      <td>基隆市七堵區衛生所</td>\n      <td>基隆市七堵區光明路２１－１（１－２樓）</td>\n      <td>(02)24562008</td>\n      <td>0</td>\n      <td>80</td>\n      <td>2020-02-19 00:15:35</td>\n    </tr>\n  </tbody>\n</table>\n</div>"
     },
     "metadata": {},
     "execution_count": 6
    }
   ],
   "source": [
    "import pandas as pd\n",
    "import os\n",
    "\n",
    "df = pd.read_excel(os.path.join(os.getcwd(), 'datas', 'masks.xlsx'))\n",
    "\n",
    "### 列出前幾筆資料\n",
    "df.head()"
   ]
  },
  {
   "cell_type": "markdown",
   "metadata": {},
   "source": [
    "### gTTS google 的文字轉語音套件"
   ]
  },
  {
   "cell_type": "code",
   "execution_count": null,
   "metadata": {},
   "outputs": [],
   "source": [
    "from gtts import gTTS\n",
    "tts = gTTS(text='颱風天上課真提神！', lang='zh-tw')\n",
    "tts.save(\"ts.mp3\")"
   ]
  },
  {
   "cell_type": "markdown",
   "metadata": {},
   "source": [
    "## 爬取新聞標題,並朗讀出來"
   ]
  },
  {
   "cell_type": "code",
   "execution_count": null,
   "metadata": {},
   "outputs": [],
   "source": []
  },
  {
   "cell_type": "markdown",
   "metadata": {},
   "source": [
    "## 自動寄信並附加檔案到特定信箱"
   ]
  },
  {
   "cell_type": "code",
   "execution_count": null,
   "metadata": {},
   "outputs": [],
   "source": []
  },
  {
   "cell_type": "markdown",
   "metadata": {},
   "source": [
    "### 讀取 PM2.5 的 Open Data , 並且解析 json 資料"
   ]
  },
  {
   "cell_type": "code",
   "execution_count": null,
   "metadata": {},
   "outputs": [],
   "source": [
    "import requests\n",
    "import json\n",
    "\n",
    "res = requests.get(\"http://opendata2.epa.gov.tw/AQX.json\")\n",
    "data = json.loads(res.text)\n",
    "print(\"data is a \"+str(type(data)))\n",
    "print(\"data[0] is a \"+str(type(data[0])))\n",
    "for kh in data:\n",
    "    if kh['County'] == '高雄市' and kh['SiteName'] == '復興':\n",
    "        print(\"狀況:\"+kh['Status']+' 主要污染物：'+kh['MajorPollutant']+\", PM2.5=\"+kh['PM2.5'])"
   ]
  },
  {
   "cell_type": "markdown",
   "metadata": {},
   "source": [
    "### 利用 pytube 套件下載 youtube 影片"
   ]
  },
  {
   "cell_type": "code",
   "execution_count": null,
   "metadata": {},
   "outputs": [],
   "source": [
    "from pytube import Playlist\n",
    "\n",
    "playlist = 'https://www.youtube.com/playlist?list=PL_UnJyWUd40ElUibCO0Gi5E10UmiOa3PR'\n",
    "\n",
    "pl = Playlist(playlist)\n",
    "pl.download_all('C:\\\\Users\\\\jiangsir\\\\Downloads')\n",
    "# or if you want to download in a specific directory\n",
    "#pl.download_all('/path/to/directory/')"
   ]
  }
 ],
 "metadata": {
  "kernelspec": {
   "display_name": "Python 3",
   "language": "python",
   "name": "python3"
  },
  "language_info": {
   "codemirror_mode": {
    "name": "ipython",
    "version": 3
   },
   "file_extension": ".py",
   "mimetype": "text/x-python",
   "name": "python",
   "nbconvert_exporter": "python",
   "pygments_lexer": "ipython3",
   "version": "3.6.5"
  }
 },
 "nbformat": 4,
 "nbformat_minor": 2
}
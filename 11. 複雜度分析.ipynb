{
 "cells": [
  {
   "cell_type": "markdown",
   "metadata": {},
   "source": [
    "# 時間複雜度"
   ]
  },
  {
   "cell_type": "markdown",
   "metadata": {},
   "source": [
    "同一個程式：\n",
    "\n",
    "    用不同處理器消耗的時間可能不ㄧ樣（用a處理器可能耗費0.01秒，b處理器可能0.02)\n",
    "    用不同電腦跑出的時間不ㄧ樣（用a電腦可能耗費0.01秒，b電腦可能0.02)\n",
    "    用不同數量的數據耗費的時間不ㄧ樣（輸入1000000個Data，跟輸入1個Data耗費的時間不一樣）\n",
    "    用不同狀況的數據耗費的時間不ㄧ樣（比如說如果想把數列從小排到大，那處理1,2,3,4跟4,3,2,1兩筆資料所耗費的時間不ㄧ樣，前者一定比較快，因為根本不用做什麼就已經是小排到大了）\n",
    "\n",
    "因此，除了實際運行外，我們似乎還是需要一個不受環境、數據狀況能夠客觀描述程式的大概會耗費多少時間資源的方式這時候就需要——時間複雜度(time complexity)分析\n",
    "\n",
    "複雜度是一個數學方法。是數學當中極限的概念。\n",
    "\n",
    "## 記為 Big O,  O(n)\n",
    "\n"
   ]
  },
  {
   "cell_type": "markdown",
   "metadata": {},
   "source": [
    "## 常見的結果\n",
    "\n",
    "O(1), O(logn), O(n), O(m*n), O(nlogn), O($n^2$), "
   ]
  },
  {
   "cell_type": "code",
   "execution_count": null,
   "metadata": {},
   "outputs": [],
   "source": []
  }
 ],
 "metadata": {
  "kernelspec": {
   "display_name": "Python 3",
   "language": "python",
   "name": "python3"
  },
  "language_info": {
   "codemirror_mode": {
    "name": "ipython",
    "version": 3
   },
   "file_extension": ".py",
   "mimetype": "text/x-python",
   "name": "python",
   "nbconvert_exporter": "python",
   "pygments_lexer": "ipython3",
   "version": "3.6.5"
  }
 },
 "nbformat": 4,
 "nbformat_minor": 2
}
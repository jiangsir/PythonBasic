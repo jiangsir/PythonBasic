{
 "cells": [
  {
   "cell_type": "markdown",
   "metadata": {},
   "source": [
    "# 如何評估程式效能\n",
    "\n",
    "### 面對同一個問題，兩種不同解決方案，比較哪一個執行的比較快? \n",
    "\n",
    "就可以了嗎?\n",
    "\n",
    "即便是同一個程式：\n",
    "\n",
    "    用不同處理器消耗的時間可能不ㄧ樣（用a處理器可能耗費0.01秒，b處理器可能0.02)\n",
    "    用不同電腦跑出的時間不ㄧ樣（用a電腦可能耗費0.01秒，b電腦可能0.02)\n",
    "    用不同數量的數據耗費的時間不ㄧ樣（輸入1000000個Data，跟輸入1個Data耗費的時間不一樣）\n",
    "    用不同狀況的數據耗費的時間不ㄧ樣（比如說如果想把數列從小排到大，那處理1,2,3,4跟4,3,2,1兩筆資料所耗費的時間不ㄧ樣，前者一定比較快，因為根本不用做什麼就已經是小排到大了）\n",
    "\n",
    "因此，除了實際運行外，我們似乎還是需要一個不受環境、數據狀況能夠客觀描述程式的大概會耗費多少時間資源的方式這時候就需要——時間複雜度(time complexity)分析\n",
    "\n",
    "複雜度是一個數學方法。是數學當中極限的概念。"
   ]
  },
  {
   "cell_type": "markdown",
   "metadata": {},
   "source": [
    "# 時間複雜度\n",
    "\n",
    "## 記為 Big O,  O(n)\n",
    "\n",
    "## 常見的結果\n",
    "\n",
    "O(1), O(logn), O(n), O(nlogn), O($n^2$), O($2^n$)"
   ]
  },
  {
   "cell_type": "markdown",
   "metadata": {},
   "source": []
  },
  {
   "cell_type": "markdown",
   "metadata": {},
   "source": [
    "# 降低複雜度\n",
    "\n",
    "## 第一級：單純遞迴\n",
    "## 第二級：記憶化遞迴\n",
    "## 第三級：記憶陣列\n",
    "## 第四級：三個變數 -> 兩個變數\n",
    "## 第五級：公式解\n",
    "\n",
    "比如：\n",
    "fib(n) = fib(n-1) + fib(n-2) \n",
    "\n",
    "時間複雜度為 O($2^n$)\n",
    "\n",
    "可以進一步改為動態規劃, 花費 n 個變數的空間。\n",
    "\n",
    "```\n",
    "dp = [0 for _ in range(n)]\n",
    "dp[1] = 1\n",
    "dp[2] = 1 \n",
    "for i in range(3, n+1):\n",
    "    dp[i] = dp[i-1] + dp[i-2]\n",
    "```\n",
    "此時 時間複雜度降為 O(n)  \n",
    "空間複雜度為 O(n)\n",
    "\n",
    "進一步壓縮空間複雜度：只用 3 個變數\n",
    "```\n",
    "a, b, c = 1, 1, 2\n",
    "for i in range(3, n+1):\n",
    "    c = a + b\n",
    "    a = b\n",
    "    b = c\n",
    "```\n",
    "此時時間複雜度 O(n)  \n",
    "空間複雜度 O(1)\n",
    "\n",
    "如果更追求極致：\n",
    "濃縮成兩個變數？\n",
    "\n",
    "```\n",
    "a, b = 1, 1\n",
    "for i in range(3, n+1):\n",
    "    b = a + b\n",
    "    a = b - a\n",
    "print(b)\n",
    "```"
   ]
  },
  {
   "cell_type": "code",
   "execution_count": 3,
   "metadata": {},
   "outputs": [
    {
     "output_type": "stream",
     "name": "stdout",
     "text": "13\n"
    }
   ],
   "source": [
    "n = 7\n",
    "a, b, c = 1, 1, 2\n",
    "for i in range(3, n+1):\n",
    "    c = a + b\n",
    "    a = b\n",
    "    b = c\n",
    "\n",
    "print(c)"
   ]
  },
  {
   "cell_type": "code",
   "execution_count": 5,
   "metadata": {},
   "outputs": [
    {
     "output_type": "stream",
     "name": "stdout",
     "text": "55\n"
    }
   ],
   "source": [
    "n = 10\n",
    "a, b = 1, 1\n",
    "for i in range(3, n+1):\n",
    "    b = a + b\n",
    "    a = b - a\n",
    "print(b)"
   ]
  },
  {
   "cell_type": "code",
   "execution_count": null,
   "metadata": {},
   "outputs": [],
   "source": [
    "for i in range(N):\n",
    "    for j in range(N):\n",
    "        print(i, j)"
   ]
  },
  {
   "cell_type": "code",
   "execution_count": null,
   "metadata": {},
   "outputs": [],
   "source": [
    "for i in range(N):\n",
    "    for j in range(i, N):\n",
    "        print(i, j)\n"
   ]
  }
 ],
 "metadata": {
  "kernelspec": {
   "display_name": "Python 3",
   "language": "python",
   "name": "python3"
  },
  "language_info": {
   "codemirror_mode": {
    "name": "ipython",
    "version": 3
   },
   "file_extension": ".py",
   "mimetype": "text/x-python",
   "name": "python",
   "nbconvert_exporter": "python",
   "pygments_lexer": "ipython3",
   "version": "3.8.2-final"
  }
 },
 "nbformat": 4,
 "nbformat_minor": 2
}
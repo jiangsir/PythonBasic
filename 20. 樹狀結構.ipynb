{
 "cells": [
  {
   "cell_type": "markdown",
   "metadata": {},
   "source": [
    "# 樹狀結構\n",
    "\n"
   ]
  },
  {
   "cell_type": "markdown",
   "metadata": {},
   "source": [
    "## 樹狀結構的儲存方式：\n",
    "\n",
    "* 二維陣列\n",
    "* Link list\n",
    "* Deque\n",
    "* dict \n",
    "\n",
    "但使用鏈結串列表示圖形資料結構的程式有些複雜，可以使用字典(dict)取代，使用數值(key)對應到串列(value)，雖然會浪費較多空間，但在程式碼撰寫上可以比較容易，也較容易閱讀，程式碼執行效率也不差。"
   ]
  },
  {
   "cell_type": "code",
   "execution_count": 4,
   "metadata": {},
   "outputs": [
    {
     "output_type": "stream",
     "name": "stdout",
     "text": "{0: [1, 2, 3], 7: [0], 1: [4, 5], 3: [6]}\n"
    }
   ],
   "source": [
    "'''\n",
    "用 dict 紀錄樹狀結構\n",
    "節點資訊：\n",
    "8\n",
    "0 1\n",
    "0 2\n",
    "0 3\n",
    "7 0\n",
    "1 4\n",
    "1 5\n",
    "3 6\n",
    "'''\n",
    "N = int(input())\n",
    "tree = {}\n",
    "for i in range(N-1):\n",
    "    a, b = map(int, input().split())\n",
    "    if a in tree.keys():\n",
    "        tree[a].append(b)\n",
    "    else:\n",
    "        tree[a] = [b]\n",
    "\n",
    "print(tree)\n",
    "'''\n",
    "樹狀結構紀錄內容：\n",
    "{0: [1, 2, 3], 7: [0], 1: [4, 5], 3: [6]}\n",
    "key: 紀錄父節點\n",
    "value: 用 list 紀錄子節點\n",
    "'''\n"
   ]
  },
  {
   "cell_type": "markdown",
   "metadata": {},
   "source": [
    "## 尋找根節點\n",
    "\n",
    "一個節點不是任何人的子節點就是根節點。"
   ]
  },
  {
   "cell_type": "code",
   "execution_count": 5,
   "metadata": {},
   "outputs": [
    {
     "output_type": "stream",
     "name": "stdout",
     "text": "root= 7\n"
    }
   ],
   "source": [
    "'''\n",
    "{0: [1, 2, 3], 7: [0], 1: [4, 5], 3: [6]}\n",
    "\n",
    "根節點只有可能出現在 keys 內。因此遍歷 keys 來找根節點。\n",
    "'''\n",
    "\n",
    "for p in tree:\n",
    "    for childs in tree.values():\n",
    "        if p in childs:\n",
    "            break\n",
    "    else:\n",
    "        root = p\n",
    "        break\n",
    "\n",
    "print('root=', root)\n"
   ]
  },
  {
   "cell_type": "markdown",
   "metadata": {},
   "source": [
    "# Tree, Binary Tree\n",
    "\n",
    "1. 二元樹的節點\n",
    "2. 建立一個二元樹\n",
    "3. 在二元樹內搜尋 BST"
   ]
  },
  {
   "cell_type": "code",
   "execution_count": null,
   "metadata": {},
   "outputs": [],
   "source": [
    "class TreeNode(object):\n",
    "    def __init__(self, val):\n",
    "        self.val = val\n",
    "        self.Left = None\n",
    "        self.Right = None\n"
   ]
  },
  {
   "cell_type": "code",
   "execution_count": null,
   "metadata": {},
   "outputs": [],
   "source": [
    "def insertBST(node, val):\n",
    "    if val > node.val:\n",
    "        if node.Right == None:\n",
    "            node.Right = TreeNode(val)\n",
    "        else:\n",
    "            insertBST(node.Right, val)\n",
    "    else:\n",
    "        if node.Left == None:\n",
    "            node.Left = TreeNode(val)\n",
    "        else:\n",
    "            insertBST(node.Left, val)\n"
   ]
  },
  {
   "cell_type": "code",
   "execution_count": null,
   "metadata": {},
   "outputs": [],
   "source": [
    "def maxDepth(node):\n",
    "    if node == None:\n",
    "        return 0\n",
    "    return max(maxDepth(node.Right), maxDepth(node.Left))+1\n"
   ]
  },
  {
   "cell_type": "markdown",
   "metadata": {},
   "source": [
    "## 給定一個數列，代表數字插入的順序。 3 1 2 5 4\n",
    "\n",
    "計算這個二元樹的最大深度。"
   ]
  },
  {
   "cell_type": "code",
   "execution_count": null,
   "metadata": {},
   "outputs": [],
   "source": [
    "class TreeNode(object):\n",
    "    def __init__(self, val):\n",
    "        self.val = val\n",
    "        self.Left = None\n",
    "        self.Right = None\n",
    "\n",
    "def insertBST(node, val):\n",
    "    if val > node.val:\n",
    "        if node.Right == None:\n",
    "            node.Right = TreeNode(val)\n",
    "        else:\n",
    "            insertBST(node.Right, val)\n",
    "    else:\n",
    "        if node.Left == None:\n",
    "            node.Left = TreeNode(val)\n",
    "        else:\n",
    "            insertBST(node.Left, val)\n",
    "\n",
    "def maxDepth(node):\n",
    "    if node == None:\n",
    "        return 0\n",
    "    return max(maxDepth(node.Right), maxDepth(node.Left))+1\n",
    "\n",
    "ls = [int(x) for x in input().split()]\n",
    "root = TreeNode(ls[0])\n",
    "for x in ls[1:]:\n",
    "    insertBST(root, x)\n",
    "\n",
    "print(maxDepth(root))\n"
   ]
  },
  {
   "cell_type": "markdown",
   "metadata": {},
   "source": [
    "## Spanning Tree, Binary Search Tree"
   ]
  },
  {
   "cell_type": "markdown",
   "metadata": {},
   "source": [
    "# 前中後序"
   ]
  },
  {
   "cell_type": "markdown",
   "metadata": {},
   "source": [
    "## 兩樹葉中的最近共同祖先"
   ]
  },
  {
   "cell_type": "code",
   "execution_count": null,
   "metadata": {},
   "outputs": [],
   "source": []
  }
 ],
 "metadata": {
  "kernelspec": {
   "display_name": "Python 3",
   "language": "python",
   "name": "python3"
  },
  "language_info": {
   "codemirror_mode": {
    "name": "ipython",
    "version": 3
   },
   "file_extension": ".py",
   "mimetype": "text/x-python",
   "name": "python",
   "nbconvert_exporter": "python",
   "pygments_lexer": "ipython3",
   "version": "3.8.2-final"
  }
 },
 "nbformat": 4,
 "nbformat_minor": 2
}
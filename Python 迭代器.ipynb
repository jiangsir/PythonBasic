{
 "cells": [
  {
   "cell_type": "markdown",
   "metadata": {},
   "source": [
    "# 什麼是 iterable? \n",
    "\n",
    "如果我們從中獲取一個迭代器，那麼一個對象被稱爲iterable。 大多數Python中的內置容器是列表，元組，字符串等都是可迭代的。\n",
    "\n",
    "\n",
    "# itertools 如何使用\n",
    "\n",
    "# iteration 可以做什麼?\n",
    "\n",
    "itertools 模块提供的迭代器函数有以下几种类型：\n",
    "\n",
    "    无限迭代器：生成一个无限序列，比如自然数序列 1, 2, 3, 4, ...；\n",
    "    有限迭代器：接收一个或多个序列（sequence）作为参数，进行组合、分组和过滤等；\n",
    "    组合生成器：序列的排列、组合，求序列的笛卡儿积等；\n",
    "\n",
    "\n",
    "\n",
    "iter()函數(這又調用__iter__()方法)返回一個迭代器。\n",
    "\n",
    "\n",
    "### Iterables vs. Iterators vs. Generators\n",
    "\n",
    "    生成器其实是一种特殊的迭代器，不过这种迭代器更加优雅。\n",
    "\n"
   ]
  },
  {
   "cell_type": "code",
   "execution_count": null,
   "metadata": {},
   "outputs": [],
   "source": []
  },
  {
   "cell_type": "markdown",
   "metadata": {},
   "source": [
    "### 參考文獻:\n",
    "itertools: https://docs.python.org/zh-cn/3.6/library/itertools.html\n",
    "\n",
    "[Python 迭代器模块 itertools 简介](http://python.jobbole.com/85321/)"
   ]
  }
 ],
 "metadata": {
  "kernelspec": {
   "display_name": "Python 3",
   "language": "python",
   "name": "python3"
  },
  "language_info": {
   "codemirror_mode": {
    "name": "ipython",
    "version": 3
   },
   "file_extension": ".py",
   "mimetype": "text/x-python",
   "name": "python",
   "nbconvert_exporter": "python",
   "pygments_lexer": "ipython3",
   "version": "3.6.5"
  }
 },
 "nbformat": 4,
 "nbformat_minor": 2
}

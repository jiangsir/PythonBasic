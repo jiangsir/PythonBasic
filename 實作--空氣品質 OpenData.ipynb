{
 "cells": [
  {
   "attachments": {},
   "cell_type": "markdown",
   "metadata": {},
   "source": [
    "實作--空氣品質 OpenData \n",
    "\n",
    "空氣品質指標(AQI): https://data.gov.tw/dataset/40448\n",
    "\n",
    "JSON 資料網址: https://data.epa.gov.tw/api/v2/aqx_p_432?api_key=e8dd42e6-9b8b-43f8-991e-b3dee723a52d&limit=1000&sort=ImportDate desc&format=JSON\n",
    "\n"
   ]
  },
  {
   "cell_type": "code",
   "execution_count": 5,
   "metadata": {},
   "outputs": [
    {
     "name": "stdout",
     "output_type": "stream",
     "text": [
      "1 基隆市 基隆 50 良好\n",
      "2 新北市 汐止 59 普通\n",
      "3 新北市 萬里 57 普通\n",
      "4 新北市 新店 50 良好\n",
      "5 新北市 土城 86 普通\n",
      "6 新北市 板橋 63 普通\n",
      "7 新北市 新莊 66 普通\n",
      "8 新北市 菜寮 66 普通\n",
      "9 新北市 林口 58 普通\n",
      "10 新北市 淡水 65 普通\n",
      "11 臺北市 士林 63 普通\n",
      "12 臺北市 中山 59 普通\n",
      "13 臺北市 萬華 59 普通\n",
      "14 臺北市 古亭 56 普通\n",
      "15 臺北市 松山 53 普通\n",
      "16 臺北市 大同 70 普通\n",
      "17 桃園市 桃園 74 普通\n",
      "18 桃園市 大園 84 普通\n",
      "19 桃園市 觀音 113 對敏感族群不健康\n",
      "20 桃園市 平鎮 90 普通\n",
      "21 桃園市 龍潭 81 普通\n",
      "22 新竹縣 湖口 94 普通\n",
      "23 新竹縣 竹東 74 普通\n",
      "24 新竹市 新竹 85 普通\n",
      "25 苗栗縣 頭份 82 普通\n",
      "26 苗栗縣 苗栗 89 普通\n",
      "27 苗栗縣 三義 75 普通\n",
      "28 臺中市 豐原 84 普通\n",
      "29 臺中市 沙鹿 98 普通\n",
      "30 臺中市 大里 80 普通\n",
      "31 臺中市 忠明 83 普通\n",
      "32 臺中市 西屯 98 普通\n",
      "33 彰化縣 彰化 104 對敏感族群不健康\n",
      "34 彰化縣 線西 102 對敏感族群不健康\n",
      "35 彰化縣 二林 131 對敏感族群不健康\n",
      "36 南投縣 南投 88 普通\n",
      "37 雲林縣 斗六 111 對敏感族群不健康\n",
      "38 雲林縣 崙背 134 對敏感族群不健康\n",
      "39 嘉義縣 新港 112 對敏感族群不健康\n",
      "40 嘉義縣 朴子 112 對敏感族群不健康\n",
      "41 雲林縣 臺西 107 對敏感族群不健康\n",
      "42 嘉義市 嘉義 92 普通\n",
      "43 臺南市 新營 98 普通\n",
      "44 臺南市 善化 81 普通\n",
      "45 臺南市 安南 110 對敏感族群不健康\n",
      "46 臺南市 臺南 96 普通\n",
      "47 高雄市 美濃 70 普通\n",
      "48 高雄市 橋頭 109 對敏感族群不健康\n",
      "49 高雄市 仁武 104 對敏感族群不健康\n",
      "50 高雄市 鳳山 101 對敏感族群不健康\n",
      "51 高雄市 大寮 98 普通\n",
      "52 高雄市 林園 79 普通\n",
      "53 高雄市 楠梓 94 普通\n",
      "54 高雄市 左營 97 普通\n",
      "55 高雄市 前金 92 普通\n",
      "56 高雄市 前鎮 91 普通\n",
      "57 高雄市 小港 89 普通\n",
      "58 屏東縣 屏東 99 普通\n",
      "59 屏東縣 潮州 87 普通\n",
      "60 屏東縣 恆春 40 良好\n",
      "61 臺東縣 臺東 51 普通\n",
      "62 花蓮縣 花蓮 58 普通\n",
      "63 臺北市 陽明 71 普通\n",
      "64 宜蘭縣 宜蘭 53 普通\n",
      "65 宜蘭縣 冬山 48 良好\n",
      "66 新北市 三重 68 普通\n",
      "67 桃園市 中壢 101 對敏感族群不健康\n",
      "68 南投縣 竹山 88 普通\n",
      "69 新北市 永和 62 普通\n",
      "70 高雄市 復興 92 普通\n",
      "71 南投縣 埔里 78 普通\n",
      "72 連江縣 馬祖 84 普通\n",
      "73 金門縣 金門 57 普通\n",
      "74 澎湖縣 馬公 52 普通\n",
      "75 臺東縣 關山 58 普通\n",
      "76 雲林縣 麥寮 120 對敏感族群不健康\n",
      "77 新北市 富貴角 64 普通\n",
      "78 彰化縣 大城 108 對敏感族群不健康\n",
      "79 彰化縣 彰化(員林) 123 對敏感族群不健康\n",
      "80 高雄市 高雄(湖內) 92 普通\n",
      "81 臺南市 臺南(麻豆) 98 普通\n",
      "82 屏東縣 屏東(琉球) 61 普通\n",
      "83 桃園市 桃園(三民) 70 普通\n",
      "84 新北市 新北(樹林) 81 普通\n",
      "85 屏東縣 屏東(枋山) 37 良好\n"
     ]
    }
   ],
   "source": [
    "import requests\n",
    "\n",
    "url = 'https://data.epa.gov.tw/api/v2/aqx_p_432?api_key=e8dd42e6-9b8b-43f8-991e-b3dee723a52d&limit=1000&sort=ImportDate desc&format=JSON'\n",
    "datas = requests.get(url).json()\n",
    "\n",
    "for i in range(len(datas['records'])):\n",
    "    record = datas['records'][i]\n",
    "    print(i+1, record['county'], record['sitename'], record['aqi'], record['status'])"
   ]
  },
  {
   "attachments": {},
   "cell_type": "markdown",
   "metadata": {},
   "source": [
    "## 隨機小貓\n",
    "\n",
    "https://thecatapi.com/\n",
    "\n",
    "\n",
    "隨機小貓 URL\n",
    "https://api.thecatapi.com/v1/images/search\n",
    "\n"
   ]
  },
  {
   "cell_type": "code",
   "execution_count": 16,
   "metadata": {},
   "outputs": [
    {
     "data": {
      "text/html": [
       "<img src=\"https://cdn2.thecatapi.com/images/2m7.jpg\" width=400>"
      ],
      "text/plain": [
       "<IPython.core.display.HTML object>"
      ]
     },
     "execution_count": 16,
     "metadata": {},
     "output_type": "execute_result"
    }
   ],
   "source": [
    "import requests\n",
    "from IPython.display import HTML\n",
    "\n",
    "url = 'https://api.thecatapi.com/v1/images/search'\n",
    "\n",
    "datas = requests.get(url).json()\n",
    "\n",
    "\n",
    "HTML(f\"<img src=\\\"{datas[0]['url']}\\\" width=400>\")"
   ]
  },
  {
   "cell_type": "code",
   "execution_count": null,
   "metadata": {},
   "outputs": [],
   "source": []
  }
 ],
 "metadata": {
  "kernelspec": {
   "display_name": "base",
   "language": "python",
   "name": "python3"
  },
  "language_info": {
   "codemirror_mode": {
    "name": "ipython",
    "version": 3
   },
   "file_extension": ".py",
   "mimetype": "text/x-python",
   "name": "python",
   "nbconvert_exporter": "python",
   "pygments_lexer": "ipython3",
   "version": "3.9.5"
  },
  "orig_nbformat": 4
 },
 "nbformat": 4,
 "nbformat_minor": 2
}

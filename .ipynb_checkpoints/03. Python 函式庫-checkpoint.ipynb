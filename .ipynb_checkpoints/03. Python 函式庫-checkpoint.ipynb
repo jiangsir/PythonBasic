{
 "cells": [
  {
   "cell_type": "markdown",
   "metadata": {},
   "source": [
    "# 內建函式庫與標準函式庫\n",
    "\n",
    "Python 內建許多必要的函式，像是 input()、print() 與 len() 等，除此之外還有一些常用的函式庫，視需要再 import 即可，稱為標準函式庫，像是 math 或者 random。\n",
    "\n",
    "![](images/library.png)"
   ]
  },
  {
   "cell_type": "markdown",
   "metadata": {},
   "source": [
    "## 數學函式庫\n",
    "\n",
    "\n",
    "一些常見的數學函數已經被包含在數學函式庫當中了。\n",
    "\n",
    "引用函式庫 math，即可使用。\n",
    "\n",
    "詳細引用規範請參閱 [6. Python 引入模組與套件](6. Python 引入模組與套件.ipynb)\n",
    "\n",
    "### 函數的提示\n",
    "\n",
    "在 IDLE 中快速鍵 <h1>ctrl + shift + space</h1> 可以跳出內建函示庫提示\n",
    "\n",
    "![](images/IDLE_內建函示庫提示.PNG)\n",
    "\n",
    "\n",
    "在 IDLE 當中，鍵入函示庫名稱之後接上 . 等待 3秒鐘 即可提示該函示庫內有哪些函數可以使用\n",
    "\n",
    "![](images/IDLE_函數提示.PNG)\n",
    "\n",
    "\n",
    "函數用法提示:\n",
    "\n",
    "![](images/IDLE_函數用法.PNG)\n"
   ]
  },
  {
   "cell_type": "code",
   "execution_count": 2,
   "metadata": {},
   "outputs": [
    {
     "name": "stdout",
     "output_type": "stream",
     "text": [
      "圓周率: 3.141592653589793\n",
      "['__doc__', '__file__', '__loader__', '__name__', '__package__', '__spec__', 'acos', 'acosh', 'asin', 'asinh', 'atan', 'atan2', 'atanh', 'ceil', 'copysign', 'cos', 'cosh', 'degrees', 'e', 'erf', 'erfc', 'exp', 'expm1', 'fabs', 'factorial', 'floor', 'fmod', 'frexp', 'fsum', 'gamma', 'gcd', 'hypot', 'inf', 'isclose', 'isfinite', 'isinf', 'isnan', 'ldexp', 'lgamma', 'log', 'log10', 'log1p', 'log2', 'modf', 'nan', 'pi', 'pow', 'radians', 'sin', 'sinh', 'sqrt', 'tan', 'tanh', 'tau', 'trunc']\n",
      "Help on built-in function sqrt in module math:\n",
      "\n",
      "sqrt(...)\n",
      "    sqrt(x)\n",
      "    \n",
      "    Return the square root of x.\n",
      "\n",
      "None\n",
      "平方根: 3.0\n",
      "最大公因數: 6\n",
      "無條件捨去: 3\n",
      "絕對值: 2.0\n",
      "絕對值: 2\n",
      "Help on built-in function round in module builtins:\n",
      "\n",
      "round(...)\n",
      "    round(number[, ndigits]) -> number\n",
      "    \n",
      "    Round a number to a given precision in decimal digits (default 0 digits).\n",
      "    This returns an int when called with one argument, otherwise the\n",
      "    same type as the number. ndigits may be negative.\n",
      "\n",
      "四捨五入(2.4): 2\n",
      "四捨五入(2.5): 2\n",
      "四捨五入(3.5): 4\n",
      "四捨五入(4.5): 4\n"
     ]
    }
   ],
   "source": [
    "import math\n",
    "\n",
    "print('圓周率:', math.pi)\n",
    "\n",
    "# 查看函式庫裡面有哪些函式可供使用；\n",
    "print(dir(math))\n",
    "\n",
    "# 查看函式的使用方法\n",
    "print(help(math.sqrt))\n",
    "\n",
    "print('平方根:', math.sqrt(9))\n",
    "print('最大公因數:', math.gcd(12, 18))\n",
    "print('無條件捨去:', math.floor(3.99))\n",
    "print('絕對值:', math.fabs(-2)) # 等價於 abs(-2)\n",
    "print('絕對值:', abs(-2))\n",
    "\n",
    "\n",
    "help(round)\n",
    "\n",
    "## 四捨六入五成雙\n",
    "print('四捨五入(2.4):', round(2.4))\n",
    "print('四捨五入(2.5):', round(2.5))\n",
    "print('四捨五入(3.5):', round(3.5))\n",
    "print('四捨五入(4.5):', round(4.5))\n"
   ]
  },
  {
   "cell_type": "markdown",
   "metadata": {},
   "source": [
    "## [Python 中关于 round 函数的小坑](http://www.runoob.com/w3cnote/python-round-func-note.html)"
   ]
  },
  {
   "cell_type": "markdown",
   "metadata": {},
   "source": [
    "### 無限大的數"
   ]
  },
  {
   "cell_type": "code",
   "execution_count": 24,
   "metadata": {
    "scrolled": true
   },
   "outputs": [
    {
     "name": "stdout",
     "output_type": "stream",
     "text": [
      "無窮大: inf\n",
      "無窮大: inf\n",
      "無窮小: -inf\n"
     ]
    }
   ],
   "source": [
    "# 第一種寫法\n",
    "import math\n",
    "test = math.inf\n",
    "\n",
    "print('無窮大:', test)\n",
    "\n",
    "# 第二種寫法\n",
    "test = float('inf')\n",
    "print('無窮大:', test)\n",
    "\n",
    "print('無窮小:', -test)"
   ]
  },
  {
   "cell_type": "code",
   "execution_count": null,
   "metadata": {},
   "outputs": [],
   "source": []
  }
 ],
 "metadata": {
  "kernelspec": {
   "display_name": "Python 3",
   "language": "python",
   "name": "python3"
  },
  "language_info": {
   "codemirror_mode": {
    "name": "ipython",
    "version": 3
   },
   "file_extension": ".py",
   "mimetype": "text/x-python",
   "name": "python",
   "nbconvert_exporter": "python",
   "pygments_lexer": "ipython3",
   "version": "3.6.4"
  }
 },
 "nbformat": 4,
 "nbformat_minor": 2
}

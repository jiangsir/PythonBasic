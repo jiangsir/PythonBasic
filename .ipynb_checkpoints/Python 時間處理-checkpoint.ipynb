{
 "cells": [
  {
   "cell_type": "markdown",
   "metadata": {},
   "source": [
    "Python time模块\n",
    " Comment\n",
    "A+\n",
    "Categories：Python\n",
    "Python中时间处理有关的模块就包括：time，datetime以及calendar。这里主要讲time模块。\n",
    "\n",
    "Python中，通常有这几种方式来表示时间：1）时间戳 2）格式化的时间字符串 3）元组（struct_time）中九个元素。由于Python的time模块实现主要调用C库，所以各个平台可能有所不同。\n",
    "UTC（Coordinated Universal Time，世界协调时）亦即格林威治天文时间，世界标准时间。在中国为UTC+8。DST（Daylight Saving Time）即夏令时。\n",
    "时间戳（timestamp）的方式：通常来说，时间戳表示的是从1970年1月1日00:00:00开始按秒计算的偏移量。我们运行 \"type(time.time())\"，返回的是float类型。返回时间戳方式的函数主要有time()，clock()等。\n",
    "元组（struct_time）方式：struct_time元组共有9个元素，返回struct_time的函数主要有gmtime()，localtime()，strptime()。下面列出这种方式元组中的几个元素："
   ]
  },
  {
   "cell_type": "code",
   "execution_count": 1,
   "metadata": {},
   "outputs": [
    {
     "name": "stdout",
     "output_type": "stream",
     "text": [
      "現在時間: 2020-03-01 20:29:54.108580\n"
     ]
    }
   ],
   "source": [
    "from datetime import datetime\n",
    "print('現在時間:', datetime.now())\n"
   ]
  },
  {
   "cell_type": "markdown",
   "metadata": {},
   "source": [
    "# 將時間物件轉成字串"
   ]
  },
  {
   "cell_type": "code",
   "execution_count": 13,
   "metadata": {},
   "outputs": [
    {
     "data": {
      "text/plain": [
       "'20200301_2037'"
      ]
     },
     "execution_count": 13,
     "metadata": {},
     "output_type": "execute_result"
    }
   ],
   "source": [
    "from datetime import datetime\n",
    "now = datetime.now()\n",
    ".strftime(\"%Y%m%d_%H%M\")\n"
   ]
  },
  {
   "cell_type": "markdown",
   "metadata": {},
   "source": [
    "# 將時間字串轉換成時間物件"
   ]
  },
  {
   "cell_type": "code",
   "execution_count": 11,
   "metadata": {},
   "outputs": [
    {
     "name": "stdout",
     "output_type": "stream",
     "text": [
      "<class 'datetime.datetime'>\n",
      "2020-03-01 19:00:00\n",
      "20200301_1900\n"
     ]
    }
   ],
   "source": [
    "from datetime import datetime\n",
    "datestring = \"2020-03-01 19:00\" # 時間字串\n",
    "aaa = datetime.strptime(datestring, \"%Y-%m-%d %H:%M\") # aaa 以轉換為時間物件\n",
    "# \"%Y-%m-%d %H:%M\" 各式必須要對應到時間字串\n",
    "print(type(aaa))\n",
    "print(aaa)\n",
    "\n",
    "bbb = aaa.strftime(\"%Y%m%d_%H%M\") # 將 aaa 轉為字串\n",
    "print(bbb)"
   ]
  },
  {
   "cell_type": "code",
   "execution_count": null,
   "metadata": {},
   "outputs": [],
   "source": [
    "## PM2.5 open data 資料抓取\n",
    "\n",
    "from datetime import datetime\n",
    "import requests, time, sys\n",
    "\n",
    "url = \"https://opendata.epa.gov.tw/ws/Data/ATM00625/?$format=json\"\n",
    "interval = 60*60\n",
    "filepath = \"D:\\\\crontabdatas\\\\\"\n",
    "filename = \"pm25_{}.json\"\n",
    "\n",
    "\n",
    "errortime = 0\n",
    "while True:\n",
    "    t1 = time.time()\n",
    "    try:\n",
    "        res = requests.get(url)\n",
    "        print('現在時間:', datetime.now())\n",
    "        datetime = datetime.strptime(res.json()[0]['DataCreationDate'], \"%Y-%m-%d %H:%M\")\n",
    "        filename = filename.format(datetime.strftime(\"%Y%m%d_%H%M\"))\n",
    "        print('檔案:', filename)\n",
    "        with open(filepath + filename, 'wb') as f:\n",
    "            print('寫入檔案:', filename)\n",
    "            f.write(res.content)\n",
    "        t2 = time.time()\n",
    "        print('耗時',t2-t1, '秒')\n",
    "    except:\n",
    "        errortime = errortime + (time.time() - t1)\n",
    "        print(\"Unexpected error:\", sys.exc_info()[0])\n",
    "        continue\n",
    "\n",
    "    time.sleep(interval -(t2-t1) - errortime)\n",
    "    errortime = 0\n",
    "\n",
    "datetime = datetime.strptime(res.json()[0]['DataCreationDate'], \"%Y-%m-%d %H:%M\")\n",
    "filename = filename.format(datetime.strftime(\"%Y%m%d_%H%M\"))\n"
   ]
  },
  {
   "cell_type": "markdown",
   "metadata": {},
   "source": [
    "# 實例應用\n",
    "\n",
    "抓取 PM2.5 資料，取得資料內的更新時間。\n",
    "\n",
    "並依據這個時間決定存檔名稱。\n",
    "\n",
    "由於檔案名稱不能使用 空格以及冒號這類字元，因此時間格式必須有所更動。\n"
   ]
  },
  {
   "cell_type": "code",
   "execution_count": null,
   "metadata": {},
   "outputs": [],
   "source": [
    "## PM2.5 open data 資料抓取\n",
    "\n",
    "from datetime import datetime\n",
    "import requests, time, sys\n",
    "\n",
    "url = \"https://opendata.epa.gov.tw/ws/Data/ATM00625/?$format=json\"\n",
    "interval = 60*60\n",
    "filepath = \"D:\\\\crontabdatas\\\\\"\n",
    "filename = \"pm25_{}.json\"\n",
    "\n",
    "\n",
    "errortime = 0\n",
    "while True:\n",
    "    t1 = time.time()\n",
    "    try:\n",
    "        res = requests.get(url)\n",
    "        print('現在時間:', datetime.now())\n",
    "        datetime = datetime.strptime(res.json()[0]['DataCreationDate'], \"%Y-%m-%d %H:%M\")\n",
    "        filename = filename.format(datetime.strftime(\"%Y%m%d_%H%M\"))\n",
    "        print('檔案:', filename)\n",
    "        with open(filepath + filename, 'wb') as f:\n",
    "            print('寫入檔案:', filename)\n",
    "            f.write(res.content)\n",
    "        t2 = time.time()\n",
    "        print('耗時',t2-t1, '秒')\n",
    "    except:\n",
    "        errortime = errortime + (time.time() - t1)\n",
    "        print(\"Unexpected error:\", sys.exc_info()[0])\n",
    "        continue\n",
    "\n",
    "    time.sleep(interval -(t2-t1) - errortime)\n",
    "    errortime = 0\n"
   ]
  }
 ],
 "metadata": {
  "kernelspec": {
   "display_name": "Python 3",
   "language": "python",
   "name": "python3"
  },
  "language_info": {
   "codemirror_mode": {
    "name": "ipython",
    "version": 3
   },
   "file_extension": ".py",
   "mimetype": "text/x-python",
   "name": "python",
   "nbconvert_exporter": "python",
   "pygments_lexer": "ipython3",
   "version": "3.6.4"
  }
 },
 "nbformat": 4,
 "nbformat_minor": 2
}

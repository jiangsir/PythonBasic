{
 "cells": [
  {
   "cell_type": "markdown",
   "metadata": {},
   "source": [
    "# 使用 geopandas 來繪製地圖\n",
    "\n",
    "    pip install pandas\n",
    "    pip install geopandas\n"
   ]
  },
  {
   "cell_type": "code",
   "execution_count": 3,
   "metadata": {},
   "outputs": [
    {
     "name": "stdout",
     "output_type": "stream",
     "text": [
      "Requirement already satisfied: pandas in /Users/jiangsir/anaconda3/lib/python3.6/site-packages (1.0.3)\n",
      "Requirement already satisfied: pytz>=2017.2 in /Users/jiangsir/anaconda3/lib/python3.6/site-packages (from pandas) (2017.3)\n",
      "Requirement already satisfied: numpy>=1.13.3 in /Users/jiangsir/anaconda3/lib/python3.6/site-packages (from pandas) (1.14.0)\n",
      "Requirement already satisfied: python-dateutil>=2.6.1 in /Users/jiangsir/anaconda3/lib/python3.6/site-packages (from pandas) (2.6.1)\n",
      "Requirement already satisfied: six>=1.5 in /Users/jiangsir/anaconda3/lib/python3.6/site-packages (from python-dateutil>=2.6.1->pandas) (1.11.0)\n",
      "Requirement already satisfied: geopandas in /Users/jiangsir/anaconda3/lib/python3.6/site-packages (0.7.0)\n",
      "Requirement already satisfied: pandas>=0.23.0 in /Users/jiangsir/anaconda3/lib/python3.6/site-packages (from geopandas) (1.0.3)\n",
      "Requirement already satisfied: pyproj>=2.2.0 in /Users/jiangsir/anaconda3/lib/python3.6/site-packages (from geopandas) (2.6.0)\n",
      "Requirement already satisfied: shapely in /Users/jiangsir/anaconda3/lib/python3.6/site-packages (from geopandas) (1.7.0)\n",
      "Requirement already satisfied: fiona in /Users/jiangsir/anaconda3/lib/python3.6/site-packages (from geopandas) (1.8.13.post1)\n",
      "Requirement already satisfied: pytz>=2017.2 in /Users/jiangsir/anaconda3/lib/python3.6/site-packages (from pandas>=0.23.0->geopandas) (2017.3)\n",
      "Requirement already satisfied: python-dateutil>=2.6.1 in /Users/jiangsir/anaconda3/lib/python3.6/site-packages (from pandas>=0.23.0->geopandas) (2.6.1)\n",
      "Requirement already satisfied: numpy>=1.13.3 in /Users/jiangsir/anaconda3/lib/python3.6/site-packages (from pandas>=0.23.0->geopandas) (1.14.0)\n",
      "Requirement already satisfied: click-plugins>=1.0 in /Users/jiangsir/anaconda3/lib/python3.6/site-packages (from fiona->geopandas) (1.1.1)\n",
      "Requirement already satisfied: cligj>=0.5 in /Users/jiangsir/anaconda3/lib/python3.6/site-packages (from fiona->geopandas) (0.5.0)\n",
      "Requirement already satisfied: click<8,>=4.0 in /Users/jiangsir/anaconda3/lib/python3.6/site-packages (from fiona->geopandas) (6.7)\n",
      "Requirement already satisfied: six>=1.7 in /Users/jiangsir/anaconda3/lib/python3.6/site-packages (from fiona->geopandas) (1.11.0)\n",
      "Requirement already satisfied: munch in /Users/jiangsir/anaconda3/lib/python3.6/site-packages (from fiona->geopandas) (2.5.0)\n",
      "Requirement already satisfied: attrs>=17 in /Users/jiangsir/anaconda3/lib/python3.6/site-packages (from fiona->geopandas) (17.4.0)\n"
     ]
    }
   ],
   "source": [
    "!pip install pandas\n",
    "!pip install geopandas"
   ]
  },
  {
   "cell_type": "code",
   "execution_count": 7,
   "metadata": {},
   "outputs": [
    {
     "ename": "ModuleNotFoundError",
     "evalue": "No module named 'pandas'",
     "output_type": "error",
     "traceback": [
      "\u001b[0;31m---------------------------------------------------------------------------\u001b[0m",
      "\u001b[0;31mModuleNotFoundError\u001b[0m                       Traceback (most recent call last)",
      "\u001b[0;32m<ipython-input-7-e0aefdecae00>\u001b[0m in \u001b[0;36m<module>\u001b[0;34m()\u001b[0m\n\u001b[0;32m----> 1\u001b[0;31m \u001b[0;32mimport\u001b[0m \u001b[0mpandas\u001b[0m \u001b[0;32mas\u001b[0m \u001b[0mpd\u001b[0m\u001b[0;34m\u001b[0m\u001b[0m\n\u001b[0m\u001b[1;32m      2\u001b[0m \u001b[0;32mimport\u001b[0m \u001b[0mgeopandas\u001b[0m\u001b[0;34m\u001b[0m\u001b[0m\n\u001b[1;32m      3\u001b[0m \u001b[0;32mimport\u001b[0m \u001b[0mmatplotlib\u001b[0m\u001b[0;34m.\u001b[0m\u001b[0mpyplot\u001b[0m \u001b[0;32mas\u001b[0m \u001b[0mplt\u001b[0m\u001b[0;34m\u001b[0m\u001b[0m\n\u001b[1;32m      4\u001b[0m \u001b[0mget_ipython\u001b[0m\u001b[0;34m(\u001b[0m\u001b[0;34m)\u001b[0m\u001b[0;34m.\u001b[0m\u001b[0mrun_line_magic\u001b[0m\u001b[0;34m(\u001b[0m\u001b[0;34m'matplotlib'\u001b[0m\u001b[0;34m,\u001b[0m \u001b[0;34m'inline'\u001b[0m\u001b[0;34m)\u001b[0m\u001b[0;34m\u001b[0m\u001b[0m\n\u001b[1;32m      5\u001b[0m \u001b[0;34m\u001b[0m\u001b[0m\n",
      "\u001b[0;31mModuleNotFoundError\u001b[0m: No module named 'pandas'"
     ]
    }
   ],
   "source": [
    "#import pandas as pd\n",
    "import geopandas\n",
    "import matplotlib.pyplot as plt\n",
    "%matplotlib inline\n",
    "\n",
    "world = geopandas.read_file(geopandas.datasets.get_path('naturalearth_lowres'))\n",
    "world.plot()\n",
    "plt.show()"
   ]
  },
  {
   "cell_type": "code",
   "execution_count": null,
   "metadata": {},
   "outputs": [],
   "source": []
  }
 ],
 "metadata": {
  "file_extension": ".py",
  "kernelspec": {
   "display_name": "Python 3.6.4 64-bit",
   "language": "python",
   "name": "python36464bit39128d5730f7404897c77c0be80b9e8a"
  },
  "language_info": {
   "codemirror_mode": {
    "name": "ipython",
    "version": 3
   },
   "file_extension": ".py",
   "mimetype": "text/x-python",
   "name": "python",
   "nbconvert_exporter": "python",
   "pygments_lexer": "ipython3",
   "version": "3.6.4"
  },
  "mimetype": "text/x-python",
  "name": "python",
  "npconvert_exporter": "python",
  "pygments_lexer": "ipython3",
  "version": 3
 },
 "nbformat": 4,
 "nbformat_minor": 2
}

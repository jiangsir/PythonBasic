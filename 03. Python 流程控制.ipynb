{
 "cells": [
  {
   "cell_type": "markdown",
   "metadata": {},
   "source": [
    "# 流程控制: 循序，分支，重複\n"
   ]
  },
  {
   "cell_type": "markdown",
   "metadata": {},
   "source": [
    "### 流程控制 -- 分支\n",
    "<pre>\n",
    "a = 10\n",
    "if a==0:\n",
    "    print(\"a 等於 0\")  # 請注意，print 一定要縮排 4 個空格\n",
    "else:\n",
    "    print(\"a 不等於 0\")\n",
    "\n",
    "\n",
    "if x>60:\n",
    "    print('x=', x)\n",
    "if 條件式1:\n",
    "    敘述1\n",
    "elif 條件式2:\n",
    "    敘述2dfsdf\n",
    "else:\n",
    "    敘述3\n",
    "</pre>"
   ]
  },
  {
   "cell_type": "code",
   "execution_count": 3,
   "metadata": {},
   "outputs": [
    {
     "name": "stdout",
     "output_type": "stream",
     "text": [
      "tgjgj\n"
     ]
    },
    {
     "ename": "ValueError",
     "evalue": "invalid literal for int() with base 10: 'tgjgj'",
     "output_type": "error",
     "traceback": [
      "\u001b[1;31m---------------------------------------------------------------------------\u001b[0m",
      "\u001b[1;31mValueError\u001b[0m                                Traceback (most recent call last)",
      "\u001b[1;32m<ipython-input-3-67993862dd70>\u001b[0m in \u001b[0;36m<module>\u001b[1;34m()\u001b[0m\n\u001b[1;32m----> 1\u001b[1;33m \u001b[0mage\u001b[0m \u001b[1;33m=\u001b[0m \u001b[0mint\u001b[0m\u001b[1;33m(\u001b[0m\u001b[0minput\u001b[0m\u001b[1;33m(\u001b[0m\u001b[1;33m)\u001b[0m\u001b[1;33m)\u001b[0m\u001b[1;33m\u001b[0m\u001b[0m\n\u001b[0m\u001b[0;32m      2\u001b[0m \u001b[1;33m\u001b[0m\u001b[0m\n\u001b[0;32m      3\u001b[0m \u001b[1;32mif\u001b[0m \u001b[0mage\u001b[0m \u001b[1;33m<\u001b[0m \u001b[1;36m0\u001b[0m\u001b[1;33m:\u001b[0m\u001b[1;33m\u001b[0m\u001b[0m\n\u001b[0;32m      4\u001b[0m     \u001b[0mprint\u001b[0m\u001b[1;33m(\u001b[0m\u001b[1;34m\"輸入錯誤!\"\u001b[0m\u001b[1;33m)\u001b[0m\u001b[1;33m\u001b[0m\u001b[0m\n\u001b[0;32m      5\u001b[0m \u001b[1;32melif\u001b[0m \u001b[0mage\u001b[0m \u001b[1;33m==\u001b[0m \u001b[1;36m1\u001b[0m\u001b[1;33m:\u001b[0m\u001b[1;33m\u001b[0m\u001b[0m\n",
      "\u001b[1;31mValueError\u001b[0m: invalid literal for int() with base 10: 'tgjgj'"
     ]
    }
   ],
   "source": [
    "age = int(input())\n",
    "\n",
    "if age < 0:\n",
    "    print(\"輸入錯誤!\")\n",
    "elif age == 1:\n",
    "    print(\"相當於 14 歲的人\")\n",
    "elif age == 2:\n",
    "    print(\"相當於 22 歲的人\")\n",
    "else:\n",
    "    human = 22 + (age -2)*5\n",
    "    print(\"相當於\",human, \"歲的人\")"
   ]
  },
  {
   "cell_type": "markdown",
   "metadata": {},
   "source": [
    "## 複合條件"
   ]
  },
  {
   "cell_type": "code",
   "execution_count": 4,
   "metadata": {},
   "outputs": [
    {
     "name": "stdout",
     "output_type": "stream",
     "text": [
      "太厲害了\n"
     ]
    }
   ],
   "source": [
    "score = 99\n",
    "if score >=60 and score <90:\n",
    "    print('表現不錯')\n",
    "elif score >=90:\n",
    "    print('太厲害了')\n",
    "else:\n",
    "    print('你不及格了!!')"
   ]
  },
  {
   "cell_type": "markdown",
   "metadata": {},
   "source": [
    "## 巢狀結構\n",
    "<pre>\n",
    "if 條件1:\n",
    "    敘述1\n",
    "    if 條件2:\n",
    "        敘述2\n",
    "    elif 條件3:\n",
    "        敘述3\n",
    "    else:\n",
    "        敘述4\n",
    "elif 條件4:\n",
    "    敘述5\n",
    "else:\n",
    "    敘述6\n",
    "</pre>"
   ]
  },
  {
   "cell_type": "markdown",
   "metadata": {},
   "source": [
    "## 流程控制 -- 重複\n",
    "\n",
    "### for 迴圈\n",
    "    for 變數名稱 in 數列或字串:\n",
    "        pass\n",
    "        \n",
    "    for i in range(5):\n",
    "    相當於\n",
    "    for i in [0,1,2,3,4]:\n",
    "    \n",
    "### while 迴圈\n",
    "\n",
    "    while True:\n",
    "        print('while')\n",
    "    "
   ]
  },
  {
   "cell_type": "code",
   "execution_count": 20,
   "metadata": {},
   "outputs": [
    {
     "name": "stdout",
     "output_type": "stream",
     "text": [
      "0\n",
      "1\n",
      "2\n",
      "3\n",
      "4\n",
      "\n",
      "2\n",
      "3\n",
      "4\n",
      "\n",
      "0\n",
      "3\n",
      "6\n",
      "9\n",
      "\n"
     ]
    }
   ],
   "source": [
    "for i in range(5):\n",
    "    print(i)\n",
    "print()\n",
    "\n",
    "for i in range(2, 5):\n",
    "    print(i)\n",
    "print()\n",
    "\n",
    "for i in range(0, 10, 3):\n",
    "    print(i)\n",
    "print()"
   ]
  },
  {
   "cell_type": "code",
   "execution_count": 22,
   "metadata": {},
   "outputs": [
    {
     "name": "stdout",
     "output_type": "stream",
     "text": [
      "P\n",
      "y\n",
      "t\n",
      "h\n",
      "o\n",
      "n\n"
     ]
    }
   ],
   "source": [
    "s = 'Python'\n",
    "for i in s:\n",
    "    print(i)"
   ]
  },
  {
   "cell_type": "code",
   "execution_count": 23,
   "metadata": {},
   "outputs": [
    {
     "name": "stdout",
     "output_type": "stream",
     "text": [
      "5\n",
      "4\n",
      "3\n",
      "2\n",
      "1\n",
      "while 結束\n"
     ]
    }
   ],
   "source": [
    "n = 5\n",
    "while n>0:\n",
    "    print(n)\n",
    "    n = n - 1\n",
    "\n",
    "print(\"while 結束\")"
   ]
  },
  {
   "cell_type": "code",
   "execution_count": 5,
   "metadata": {},
   "outputs": [
    {
     "name": "stdout",
     "output_type": "stream",
     "text": [
      "10! = 3628800\n"
     ]
    }
   ],
   "source": [
    "# 累進寫法\n",
    "n = 10\n",
    "ans = 1\n",
    "for i in range(1, n+1):\n",
    "    ans = ans * i\n",
    "    \n",
    "print('10! =', ans)\n"
   ]
  },
  {
   "cell_type": "markdown",
   "metadata": {},
   "source": [
    "## 迴圈的中斷\n",
    "\n",
    "迴圈的中斷有兩種:\n",
    "\n",
    "break: 將迴圈中斷，直接結束最接近的內層迴圈\n",
    "\n",
    "continue: 略過 continue 之後的程式碼，直接跳到下一圈\n"
   ]
  },
  {
   "cell_type": "code",
   "execution_count": 11,
   "metadata": {},
   "outputs": [
    {
     "name": "stdout",
     "output_type": "stream",
     "text": [
      "1\n",
      "2\n"
     ]
    }
   ],
   "source": [
    "for i in range(1, 10):\n",
    "    if i%3 == 0:\n",
    "        break\n",
    "    print(i)"
   ]
  },
  {
   "cell_type": "code",
   "execution_count": 10,
   "metadata": {},
   "outputs": [
    {
     "name": "stdout",
     "output_type": "stream",
     "text": [
      "1\n",
      "2\n",
      "4\n",
      "5\n",
      "7\n",
      "8\n"
     ]
    }
   ],
   "source": [
    "for i in range(1, 10):\n",
    "    if i%3==0:\n",
    "        continue\n",
    "    print(i)"
   ]
  },
  {
   "cell_type": "code",
   "execution_count": 6,
   "metadata": {},
   "outputs": [
    {
     "name": "stdout",
     "output_type": "stream",
     "text": [
      "ABCDE1 到 100 之和为: 5050\n"
     ]
    }
   ],
   "source": [
    "\n",
    "k = ['A','B','C','D','E']\n",
    "\n",
    "for i in k :\n",
    "    print(i, end='')\n",
    "\n",
    "sum = 0\n",
    "counter = 1\n",
    "n = 100\n",
    "while counter <= n:\n",
    "    sum = sum + counter\n",
    "    counter += 1\n",
    " \n",
    "print(\"1 到 {} 之和为: {}\".format(n,sum))\n"
   ]
  },
  {
   "cell_type": "code",
   "execution_count": 6,
   "metadata": {},
   "outputs": [
    {
     "name": "stdout",
     "output_type": "stream",
     "text": [
      "0 小雞\n",
      "1 兩大類\n",
      "2 小喵\n",
      "3 小蟲\n"
     ]
    }
   ],
   "source": [
    "name_list = [\"小雞\", \"兩大類\", \"小喵\", \"小蟲\"]\n",
    "for index, name in enumerate(name_list):\n",
    "    print(index, name)"
   ]
  },
  {
   "cell_type": "markdown",
   "metadata": {},
   "source": [
    "\n",
    "## python 獨有的 迴圈 else:\n",
    "\n",
    "    for i in range(10):\n",
    "        print(i)\n",
    "    else:\n",
    "        print(\"迴圈順利結束\")\n"
   ]
  },
  {
   "cell_type": "markdown",
   "metadata": {},
   "source": [
    "## 質數問題"
   ]
  },
  {
   "cell_type": "code",
   "execution_count": 12,
   "metadata": {},
   "outputs": [
    {
     "name": "stdout",
     "output_type": "stream",
     "text": [
      "質數\n"
     ]
    }
   ],
   "source": [
    "# 用 for else 判斷質數\n",
    "\n",
    "n = 131\n",
    "\n",
    "for i in range(2, n):\n",
    "    if n%i==0:\n",
    "        print('非質數')\n",
    "        break\n",
    "else:\n",
    "    print(\"質數\")"
   ]
  },
  {
   "cell_type": "code",
   "execution_count": 3,
   "metadata": {},
   "outputs": [
    {
     "name": "stdout",
     "output_type": "stream",
     "text": [
      "2 3 5 7 11 13 17 19 23 29 31 37 41 43 47 53 59 61 67 71 73 79 83 89 97 "
     ]
    }
   ],
   "source": [
    "#找 0 ~ 100 所有的質數\n",
    "for num in range(2 ,100):\n",
    "    for i in range(2, num):\n",
    "        if num % i == 0:\n",
    "            break\n",
    "    else:\n",
    "        print(num, end=\" \")"
   ]
  },
  {
   "cell_type": "markdown",
   "metadata": {},
   "source": [
    "## 有關 Online Judge 讀取\n",
    "\n",
    "### 請參考 [Online Judge 讀取](Python解題相關語法/00.%20Online%20Judge%20讀取方式.ipynb)"
   ]
  }
 ],
 "metadata": {
  "kernelspec": {
   "display_name": "Python 3",
   "language": "python",
   "name": "python3"
  },
  "language_info": {
   "codemirror_mode": {
    "name": "ipython",
    "version": 3
   },
   "file_extension": ".py",
   "mimetype": "text/x-python",
   "name": "python",
   "nbconvert_exporter": "python",
   "pygments_lexer": "ipython3",
   "version": "3.6.5"
  }
 },
 "nbformat": 4,
 "nbformat_minor": 2
}

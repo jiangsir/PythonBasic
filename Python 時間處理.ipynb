{
 "cells": [
  {
   "cell_type": "markdown",
   "metadata": {},
   "source": [
    "# 時間格式\n",
    "\n",
    "%a 本地簡化星期名稱  \n",
    "%A 本地完整星期名稱  \n",
    "%b 本地簡化的月份名稱  \n",
    "%B 本地完整的月份名稱  \n",
    "%c 本地相應的日期表示和時間表示  \n",
    "** %d 月內中的一天（0-31）**  \n",
    "** %H 24小時制小時數（0-23）**  \n",
    "%I 12小時制小時數（01-12）  \n",
    "%j 年內的一天（001-366）  \n",
    "** %m 月份（01-12）**  \n",
    "** %M 分鐘數（00=59）**  \n",
    "%p 本地A.M.或P.M.的等價符  \n",
    "** %S 秒（00-59）**  \n",
    "%U 一年中的星期數（00-53）星期天為星期的開始  \n",
    "%w 星期（0-6），星期天為星期的開始  \n",
    "%W 一年中的星期數（00-53）星期一為星期的開始  \n",
    "%x 本地相應的日期表示  \n",
    "%X 本地相應的時間表示  \n",
    "%y 兩位數的年份表示（00-99）  \n",
    "** %Y 四位數的年份表示（000-9999）**  \n",
    "%Z 當前時區的名稱  \n",
    "%% %號本身  "
   ]
  },
  {
   "cell_type": "code",
   "execution_count": 1,
   "metadata": {},
   "outputs": [
    {
     "name": "stdout",
     "output_type": "stream",
     "text": [
      "現在時間: 2020-03-01 20:29:54.108580\n"
     ]
    }
   ],
   "source": [
    "from datetime import datetime\n",
    "print('現在時間:', datetime.now())\n"
   ]
  },
  {
   "cell_type": "markdown",
   "metadata": {},
   "source": [
    "# 將時間物件轉成字串"
   ]
  },
  {
   "cell_type": "code",
   "execution_count": 14,
   "metadata": {},
   "outputs": [
    {
     "data": {
      "text/plain": [
       "'20200301_2038'"
      ]
     },
     "execution_count": 14,
     "metadata": {},
     "output_type": "execute_result"
    }
   ],
   "source": [
    "from datetime import datetime\n",
    "now = datetime.now() # 取得目前時間\n",
    "now.strftime(\"%Y%m%d_%H%M\")\n"
   ]
  },
  {
   "cell_type": "markdown",
   "metadata": {},
   "source": [
    "# 將時間字串轉換成時間物件"
   ]
  },
  {
   "cell_type": "code",
   "execution_count": 11,
   "metadata": {},
   "outputs": [
    {
     "name": "stdout",
     "output_type": "stream",
     "text": [
      "<class 'datetime.datetime'>\n",
      "2020-03-01 19:00:00\n",
      "20200301_1900\n"
     ]
    }
   ],
   "source": [
    "from datetime import datetime\n",
    "datestring = \"2020-03-01 19:00\" # 時間字串\n",
    "aaa = datetime.strptime(datestring, \"%Y-%m-%d %H:%M\") # aaa 以轉換為時間物件\n",
    "# \"%Y-%m-%d %H:%M\" 各式必須要對應到時間字串\n",
    "print(type(aaa))\n",
    "print(aaa)\n",
    "\n",
    "bbb = aaa.strftime(\"%Y%m%d_%H%M\") # 將 aaa 轉為字串\n",
    "print(bbb)"
   ]
  },
  {
   "cell_type": "markdown",
   "metadata": {},
   "source": [
    "# 用 timedelta 計算天數"
   ]
  },
  {
   "cell_type": "code",
   "execution_count": 12,
   "metadata": {
    "tags": []
   },
   "outputs": [
    {
     "output_type": "stream",
     "name": "stdout",
     "text": "2020-07-08 09:32:35.062334\n2020-06-24 09:32:35.062334\n2020 年 06 月 24 日\n2020 年 07 月 08 日\n2020 年 07 月 08 日\n2020 年 07 月 15 日\n2020 年 07 月 22 日\n2020 年 07 月 29 日\n2020 年 08 月 05 日\n2020 年 08 月 12 日\n2020 年 08 月 19 日\n2020 年 08 月 26 日\n2020 年 09 月 02 日\n2020 年 09 月 09 日\n"
    }
   ],
   "source": [
    "from datetime import datetime\n",
    "from datetime import timedelta\n",
    "now = datetime.now()\n",
    "week = timedelta(days=7) # week 代表 7 天\n",
    "print(now + week) # 7 天後\n",
    "print(now - week) # 7 天前\n",
    "\n",
    "# 格式化呈現(中文)\n",
    "print((now-week).strftime('%Y {} %m {} %d {}').format('年', '月', '日'))\n",
    "print((now+week).strftime('%Y {} %m {} %d {}').format('年', '月', '日'))\n",
    "\n",
    "# 連續計算\n",
    "for i in range(10):\n",
    "    now = now + week\n",
    "    print(now.strftime('%Y {} %m {} %d {}').format('年', '月', '日'))"
   ]
  },
  {
   "cell_type": "markdown",
   "metadata": {},
   "source": [
    "# 用 Calendar 類來進行更複雜的日曆運算"
   ]
  },
  {
   "cell_type": "code",
   "execution_count": null,
   "metadata": {},
   "outputs": [],
   "source": []
  },
  {
   "cell_type": "markdown",
   "metadata": {},
   "source": [
    "# 實例應用\n",
    "\n",
    "抓取 PM2.5 資料，取得資料內的更新時間。\n",
    "\n",
    "並依據這個時間決定存檔名稱。\n",
    "\n",
    "由於檔案名稱不能使用 空格以及冒號這類字元，因此時間格式必須有所更動。\n"
   ]
  },
  {
   "cell_type": "code",
   "execution_count": null,
   "metadata": {},
   "outputs": [],
   "source": [
    "## PM2.5 open data 資料抓取\n",
    "\n",
    "from datetime import datetime\n",
    "import requests, time, sys\n",
    "\n",
    "url = \"https://opendata.epa.gov.tw/ws/Data/ATM00625/?$format=json\"\n",
    "interval = 60*60\n",
    "filepath = \"D:\\\\crontabdatas\\\\\"\n",
    "filename = \"pm25_{}.json\"\n",
    "\n",
    "\n",
    "errortime = 0\n",
    "while True:\n",
    "    t1 = time.time()\n",
    "    try:\n",
    "        res = requests.get(url)\n",
    "        print('現在時間:', datetime.now())\n",
    "        datetime = datetime.strptime(res.json()[0]['DataCreationDate'], \"%Y-%m-%d %H:%M\")\n",
    "        filename = filename.format(datetime.strftime(\"%Y%m%d_%H%M\"))\n",
    "        print('檔案:', filename)\n",
    "        with open(filepath + filename, 'wb') as f:\n",
    "            print('寫入檔案:', filename)\n",
    "            f.write(res.content)\n",
    "        t2 = time.time()\n",
    "        print('耗時',t2-t1, '秒')\n",
    "    except:\n",
    "        errortime = errortime + (time.time() - t1)\n",
    "        print(\"Unexpected error:\", sys.exc_info()[0])\n",
    "        continue\n",
    "\n",
    "    time.sleep(interval -(t2-t1) - errortime)\n",
    "    errortime = 0\n"
   ]
  }
 ],
 "metadata": {
  "kernelspec": {
   "display_name": "Python 3",
   "language": "python",
   "name": "python3"
  },
  "language_info": {
   "codemirror_mode": {
    "name": "ipython",
    "version": 3
   },
   "file_extension": ".py",
   "mimetype": "text/x-python",
   "name": "python",
   "nbconvert_exporter": "python",
   "pygments_lexer": "ipython3",
   "version": "3.8.2-final"
  }
 },
 "nbformat": 4,
 "nbformat_minor": 2
}
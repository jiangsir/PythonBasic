{
 "cells": [
  {
   "cell_type": "markdown",
   "metadata": {
    "slideshow": {
     "slide_type": "slide"
    }
   },
   "source": [
    "## 字串: 取得子字串\n",
    "\n",
    "Python 字串編號圖示：\n",
    "\n",
    "![Alt text](images/substring.png)\n",
    "\n",
    "\n",
    "幾個子字串常見的寫法： \n",
    "* :冒號前的 INDEX 省略代表從 0 開始。\n",
    "* :冒號後的 INDEX 省略代表直到最後一個字元。\n",
    "*        str[INDEX] 取得 INDEX 的字元  \n",
    "*        str[-INDEX] 取得倒數 INDEX 的字元  \n",
    "*    str[START:END] 從 START 到 END-1 的子字串  \n",
    "*    str[START:END:STEP] 從 START 到 END-1 每隔 STEP 的子字串  "
   ]
  },
  {
   "cell_type": "code",
   "execution_count": 23,
   "metadata": {
    "slideshow": {
     "slide_type": "subslide"
    }
   },
   "outputs": [
    {
     "name": "stdout",
     "output_type": "stream",
     "text": [
      "s[0]= M\n",
      "s[6:12]= Python\n",
      "s[6:]= Python\n",
      "s[:6]= Monty \n",
      "s[:]= Monty Python\n",
      "s[6:-2]= Pyth\n",
      "s[-6:]= Python\n",
      "s[0:6:2]= Mny\n",
      "s[::2]= MnyPto\n",
      "s[::-1]= nohtyP ytnoM\n"
     ]
    }
   ],
   "source": [
    "s = 'Monty Python'\n",
    "print(\"s[0]=\",s[0]) # 字串 s 的第 0 個字元，python 使用 0 based 索引\n",
    "print(\"s[6:12]=\",s[6:12]) # 6~11 的子字串 6<=index<12\n",
    "print(\"s[6:]=\",s[6:]) # 6~字串尾端 的子字串\n",
    "print(\"s[:6]=\",s[:6]) # 0～5 子字串\n",
    "print(\"s[:]=\", s[:])\n",
    "print(\"s[6:-2]=\",s[6:-2]) # 6 代表倒數第 2位\n",
    "print(\"s[-6:]=\",s[-6:]) # 取得最後 6 位\n",
    "\n",
    "print(\"s[0:6:2]=\",s[0:6:2]) # 0~5 間隔 2 個字元\n",
    "print(\"s[::2]=\",s[::2]) # 從 0 開始間隔 2 個字元\n",
    "print(\"s[::-1]=\",s[::-1]) # 獲得一個倒反的字串"
   ]
  },
  {
   "cell_type": "markdown",
   "metadata": {
    "slideshow": {
     "slide_type": "slide"
    }
   },
   "source": [
    "## 格式化輸出\n",
    "\n",
    "### 方法 str.format() 的基本用法如下:\n",
    "\n"
   ]
  },
  {
   "cell_type": "code",
   "execution_count": 24,
   "metadata": {
    "slideshow": {
     "slide_type": "subslide"
    }
   },
   "outputs": [
    {
     "name": "stdout",
     "output_type": "stream",
     "text": [
      "We are the knights who say \"Ni!\"\n",
      "spam and eggs\n",
      "eggs and spam\n",
      "eggs and spam and eggs\n",
      "This eggs is absolutely horrible.\n",
      "The story of Bill, Manfred, and Georg.\n"
     ]
    }
   ],
   "source": [
    "print('We are the {} who say \"{}!\"'.format('knights', 'Ni'))\n",
    "print('We are the '+knights+' who say \"'+Ni+'!\"')\n",
    "print('{0} and {1}'.format('spam', 'eggs'))\n",
    "print('{1} and {0}'.format('spam', 'eggs'))\n",
    "print('{1} and {0} and {1}'.format('spam', 'eggs'))\n",
    "\n",
    "# 可以直接呼叫關鍵字參數\n",
    "print('This {food} is {adjective}.'.format(food='eggs', adjective='absolutely horrible'))\n",
    "# 位置參數和關鍵字參數可以隨意組合:\n",
    "print('The story of {0}, {1}, and {other}.'.format('Bill', 'Manfred', other='Georg'))"
   ]
  },
  {
   "cell_type": "markdown",
   "metadata": {},
   "source": [
    "## Row String"
   ]
  },
  {
   "cell_type": "code",
   "execution_count": 8,
   "metadata": {},
   "outputs": [
    {
     "name": "stdout",
     "output_type": "stream",
     "text": [
      "\\t\\n\\r 特殊符號通通無效\n"
     ]
    }
   ],
   "source": []
  },
  {
   "cell_type": "markdown",
   "metadata": {},
   "source": [
    "## python 3.6 以後新的 f-strings 寫法 (Literal String Interpolation)"
   ]
  },
  {
   "cell_type": "code",
   "execution_count": 5,
   "metadata": {},
   "outputs": [
    {
     "name": "stdout",
     "output_type": "stream",
     "text": [
      "His name is Tom, he's 3 years old.\n",
      "The serial is 00002\n",
      "The serial is 00002\n",
      "Pi is 3.14\n",
      "int: 31, hex: 1f, oct: 37int: 31, hex: 1f, oct: 37\n",
      "Numbers from 1-10 are [1, 2, 3, 4, 5, 6, 7, 8, 9, 10]\n",
      "tsmc price: 217.5\n",
      "TSMC price: 217.5\n"
     ]
    }
   ],
   "source": [
    "import math \n",
    "\n",
    "name = \"Tom\"\n",
    "age = 3\n",
    "print(f\"His name is {name}, he's {age} years old.\")\n",
    "\n",
    "se = 2\n",
    "ss = f\"The serial is {se:05d}\"\n",
    "print(ss)\n",
    "\n",
    "PI = math.pi\n",
    "print(f\"Pi is {PI:.2f}\")\n",
    "\n",
    "#### 進制轉換\n",
    "print(f'int: 31, hex: {31:x}, oct: {31:o}'\n",
    "'int: 31, hex: 1f, oct: 37')\n",
    "\n",
    "#### 支援生成式\n",
    "print(f'Numbers from 1-10 are {[_ for _ in range(1, 11)]}')\n",
    "\n",
    "#### 呼叫函數\n",
    "\n",
    "def upper(s):\n",
    "     return s.upper()\n",
    "\n",
    "stock = 'tsmc'\n",
    "close = 217.5\n",
    "print(f'{stock} price: {close}')\n",
    "\n",
    "print(f'{upper(stock)} price: {close}')"
   ]
  },
  {
   "cell_type": "markdown",
   "metadata": {
    "slideshow": {
     "slide_type": "subslide"
    }
   },
   "source": [
    "## 常見的格式化參數\n",
    "\n",
    "<table class=\"code\">\n",
    "<tbody><tr>\n",
    "<th> Number </th>\n",
    "<th> Format </th>\n",
    "<th> Output </th>\n",
    "<th> Description </th>\n",
    "</tr>\n",
    "<tr>\n",
    "<td> 3.1415926  </td>\n",
    "<td> {:.2f}  </td>\n",
    "<td> 3.14  </td>\n",
    "<td> 2 decimal places </td>\n",
    "</tr>\n",
    "<tr>\n",
    "<td> 3.1415926  </td>\n",
    "<td> {:+.2f} </td>\n",
    "<td> +3.14 </td>\n",
    "<td> 2 decimal places with sign </td>\n",
    "</tr>\n",
    "<tr>\n",
    "<td> -1         </td>\n",
    "<td> {:+.2f} </td>\n",
    "<td> -1.00 </td>\n",
    "<td> 2 decimal places with sign </td>\n",
    "</tr>\n",
    "<tr>\n",
    "<td> 2.71828    </td>\n",
    "<td> {:.0f}  </td>\n",
    "<td> 3   </td>\n",
    "<td> No decimal places </td>\n",
    "</tr>\n",
    "<tr>\n",
    "<td> 5          </td>\n",
    "<td> {:0&gt;2d} </td>\n",
    "<td> 05  </td>\n",
    "<td> Pad number with zeros (left padding, width 2) </td>\n",
    "</tr>\n",
    "<tr>\n",
    "<td> 5          </td>\n",
    "<td> {:x&lt;4d} </td>\n",
    "<td> 5xxx  </td>\n",
    "<td> Pad number with x’s (right padding, width 4) </td>\n",
    "</tr>\n",
    "<tr>\n",
    "<td> 10         </td>\n",
    "<td> {:x&lt;4d} </td>\n",
    "<td> 10xx  </td>\n",
    "<td> Pad number with x’s (right padding, width 4) </td>\n",
    "</tr>\n",
    "<tr>\n",
    "<td> 1000000    </td>\n",
    "<td> {:,}    </td>\n",
    "<td> 1,000,000  </td>\n",
    "<td> Number format with comma separator </td>\n",
    "</tr>\n",
    "<tr>\n",
    "<td> 0.25       </td>\n",
    "<td> {:.2%}  </td>\n",
    "<td> 25.00%  </td>\n",
    "<td> Format percentage </td>\n",
    "</tr>\n",
    "<tr>\n",
    "<td> 1000000000 </td>\n",
    "<td> {:.2e}  </td>\n",
    "<td> 1.00e+09 </td>\n",
    "<td> Exponent notation </td>\n",
    "</tr>\n",
    "<tr>\n",
    "<td> 13         </td>\n",
    "<td> {:10d}  </td>\n",
    "<td> &nbsp;&nbsp;&nbsp;&nbsp;&nbsp;&nbsp;&nbsp;&nbsp;13 </td>\n",
    "<td> Right aligned (default, width 10) </td>\n",
    "</tr>\n",
    "<tr>\n",
    "<td> 13         </td>\n",
    "<td> {:&lt;10d} </td>\n",
    "<td> 13 </td>\n",
    "<td> Left aligned (width 10) </td>\n",
    "</tr>\n",
    "<tr>\n",
    "<td> 13         </td>\n",
    "<td> {:^10d} </td>\n",
    "<td> &nbsp;&nbsp;&nbsp;&nbsp;13 </td>\n",
    "<td> Center aligned (width 10) </td>\n",
    "</tr>\n",
    "</tbody></table>\n",
    "\n",
    "\n",
    "①.當被修約的值爲5時，如果他前面的數爲偶數且被修約數的後面沒有數時則捨棄；\n",
    "\n",
    "②.當被修約的值爲5時，如果他前面的數爲奇數時則進位；\n",
    "\n",
    "③.當被修約的值爲5時，如果他前面的數爲偶數時且被修約數的後面還有數時，則進位。\n",
    "\n",
    "寫的有點繁瑣，總之就一個概念“四捨六入五成雙”\n"
   ]
  },
  {
   "cell_type": "code",
   "execution_count": 22,
   "metadata": {},
   "outputs": [
    {
     "name": "stdout",
     "output_type": "stream",
     "text": [
      "固定寬度:   23000\n",
      "固定寬度不足補 0 : 00009\n",
      "固定寬度不足補 0 : 00029\n",
      "指定小數點位數為2 : 3.14\n",
      "指定小數點位數為0 : 4\n",
      "四捨六入雙進位 : 2, 2, 4, 3\n",
      "顯示為百分比 : 45%\n",
      "The value of PI is approximately 3.142.\n",
      "The value of PI is approximately 3.142.\n"
     ]
    }
   ],
   "source": [
    "print('固定寬度: {:7d}'.format(23000))\n",
    "print('固定寬度不足補 0 : {:05d}'.format(9))\n",
    "print('固定寬度不足補 0 : {:05d}'.format(29))\n",
    "print('指定小數點位數為2 : {:.2f}'.format(3.14159))\n",
    "print('指定小數點位數為0 : {:.0f}'.format(4.5))\n",
    "print('四捨六入雙進位 : {:.0f}, {:.0f}, {:.0f}, {:.0f}'.format(1.5, 2.5, 3.5, 2.50001))\n",
    "\n",
    "print('顯示為百分比 : {:.0%}'.format(0.45))\n",
    "\n",
    "# 舊式 代位字元\n",
    "print('The value of PI is approximately %5.3f.' % 3.14159)\n",
    "print('The value of PI is approximately {:5.3f}.'.format(3.14159))\n"
   ]
  },
  {
   "cell_type": "markdown",
   "metadata": {},
   "source": [
    "## 字串函數\n"
   ]
  },
  {
   "cell_type": "code",
   "execution_count": 2,
   "metadata": {},
   "outputs": [
    {
     "name": "stdout",
     "output_type": "stream",
     "text": [
      "s=Hello, Beauty... Beauty... Beauty... \n",
      "7\n",
      "Hello, Ugly... Ugly... Ugly... \n",
      "['Hello,', 'Beauty...', 'Beauty...', 'Beauty...']\n",
      "['Hello, ', 'eauty... ', 'eauty... ', 'eauty... ']\n",
      "HELLO, BEAUTY... BEAUTY... BEAUTY... \n",
      "hello, beauty... beauty... beauty... \n",
      "1,2,3,4\n",
      "Hello,,Beauty...,Beauty...,Beauty...\n",
      "3\n",
      "Hello, Beauty... Beauty... Beauty...\n",
      "strip:  Hello, Beauty... Beauty... Beauty... \n",
      "王O同\n",
      "村OO樹\n"
     ]
    }
   ],
   "source": [
    "s = \"Hello, \" + \"Beauty... \"*3 # 字串重複\n",
    "print(\"s=\"+s)\n",
    "print(s.find('B')) # 由左邊找起第一個找到的索引\n",
    "print(s.replace('Beauty', 'Ugly')) # 取代某個字串\n",
    "print(s.split()) # 字串分割 預設用 \" \" 分割\n",
    "print(s.split('B')) # 字串分割 用 \",\" 分割\n",
    "print(s.upper()) # 將字母變成大寫\n",
    "print(s.lower()) # 將字母變成小寫\n",
    "print(','.join(\"1 2 3 4\".split()))\n",
    "print(','.join(s.split())) # List 的每個元素中插入一個 ,\n",
    "print(s.count('Beauty')) # 計算字串出現的次數\n",
    "print(s.strip()) # 清除掉頭尾的不可見字元\n",
    "\n",
    "print(\"strip: \",s.strip(',.-')) # 清除掉頭尾的字元\n",
    "\n",
    "#將姓名中間兩個子替換成相同個數的 O\n",
    "s = \"王大同\"\n",
    "s = s.replace(s[1], \"O\")\n",
    "print(s)\n",
    "\n",
    "s = \"村上春樹\"\n",
    "s = s.replace(s[1:-1], \"O\"*len(s[1:-1]))\n",
    "print(s)\n",
    "\n",
    "# 字元與整數互換。透過 ASCII 表。\n",
    "# chr(97) ==》 A\n",
    "# ord(\"A\") ==》 97"
   ]
  },
  {
   "cell_type": "code",
   "execution_count": null,
   "metadata": {},
   "outputs": [],
   "source": []
  }
 ],
 "metadata": {
  "kernelspec": {
   "display_name": "Python 3",
   "language": "python",
   "name": "python3"
  },
  "language_info": {
   "codemirror_mode": {
    "name": "ipython",
    "version": 3
   },
   "file_extension": ".py",
   "mimetype": "text/x-python",
   "name": "python",
   "nbconvert_exporter": "python",
   "pygments_lexer": "ipython3",
   "version": "3.6.5"
  }
 },
 "nbformat": 4,
 "nbformat_minor": 2
}

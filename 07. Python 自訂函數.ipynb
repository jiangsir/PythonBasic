{
 "cells": [
  {
   "source": [
    "# 自訂函數"
   ],
   "cell_type": "markdown",
   "metadata": {}
  },
  {
   "cell_type": "markdown",
   "metadata": {},
   "source": [
    " ![images/function.png](images/function.png)\n",
    " \n",
    "\n",
    "## 自訂函數\n",
    "\n",
    "程式的函數跟數學的函數很類似，數學上說 f of x 記為 f(x)\n",
    "\n",
    "$f(x) = x^2 + 2x + 1 $  \n",
    "$f(5) = 5^2 + 2\\times5 + 1 $  \n",
    "$f(5) = 36$\n",
    "\n",
    "    函數 f 的參數=5， 結果=36\n",
    "\n",
    "$f(x, y) = (x+y)^2 + (x-y)^2$  \n",
    "$f(3, 5) = (3+5)^2 + (3-5)^2$  \n",
    "$f(3, 5) = 68$\n",
    "\n",
    "    函數 f 的參數=3, 5， 結果=68\n",
    "\n",
    "---\n",
    "程式裡的函數則是自訂名稱， func(x) \n",
    "\n",
    "\n",
    "宣告方法:(定義) \n",
    "\n",
    "    def functionname(arg0, arg1, ...):\n",
    "        statement\n",
    "\n",
    "呼叫方法:(執行)\n",
    "\n",
    "    functionname(arg0, arg1)\n",
    "    \n",
    "\n"
   ]
  },
  {
   "cell_type": "code",
   "execution_count": 12,
   "metadata": {},
   "outputs": [
    {
     "name": "stdout",
     "output_type": "stream",
     "text": [
      "800\n"
     ]
    }
   ],
   "source": [
    "# 有參數, 有回傳\n",
    "def commission(total):\n",
    "    rate=0.0\n",
    "    if total>20000:\n",
    "        rate=0.15\n",
    "    elif total>10000:\n",
    "        rate=0.1\n",
    "    else:\n",
    "        rate=0.08       \n",
    "    return int(total*rate)\n",
    "\n",
    "\n",
    "print(commission(10000))\n"
   ]
  },
  {
   "cell_type": "markdown",
   "metadata": {},
   "source": [
    " ### 函數可以有或無參數，也可以有或無回傳。因此可以組合成 4 種不同形式。"
   ]
  },
  {
   "cell_type": "code",
   "execution_count": 10,
   "metadata": {},
   "outputs": [
    {
     "name": "stdout",
     "output_type": "stream",
     "text": [
      "--------------------------------------------------------------------------------\n",
      "----------------------------------------------------------------------\n",
      "3.1415926\n"
     ]
    }
   ],
   "source": [
    "# 無參數, 無回傳\n",
    "def printLine():\n",
    "    print('-'*80)\n",
    "printLine()\n",
    "\n",
    "# 有參數, 無回傳\n",
    "def printLine(num):\n",
    "    print('-' * num)\n",
    "printLine(70)\n",
    "\n",
    "# 無參數, 有回傳\n",
    "def Pi():\n",
    "    return 3.1415926\n",
    "print(Pi())\n"
   ]
  },
  {
   "cell_type": "markdown",
   "metadata": {},
   "source": [
    "## 變數有效範圍\n",
    "\n",
    "函數內部會產生一個新的 x \n",
    "\n",
    "外部的 x 的值並不受到影響\n",
    " "
   ]
  },
  {
   "cell_type": "code",
   "execution_count": 7,
   "metadata": {},
   "outputs": [
    {
     "name": "stdout",
     "output_type": "stream",
     "text": [
      "x= 25\n",
      "x= 5\n"
     ]
    }
   ],
   "source": [
    "def sum(y):\n",
    "    y = y ** 2\n",
    "    print('y=', y)\n",
    "\n",
    "x = 5\n",
    "sum(x)\n",
    "print('x=', x)\n"
   ]
  },
  {
   "cell_type": "code",
   "execution_count": 9,
   "metadata": {},
   "outputs": [
    {
     "name": "stdout",
     "output_type": "stream",
     "text": [
      "x * y * z = 30\n",
      "z = 5\n"
     ]
    }
   ],
   "source": [
    "def f(x, y, z):\n",
    "    z = x * y * z # cannot reach z, so THIS WON'T WORK\n",
    "    print('x * y * z = ' + str(z))\n",
    "\n",
    "z = 5\n",
    "f(3,2, z)\n",
    "print(\"z =\", z)"
   ]
  },
  {
   "cell_type": "code",
   "execution_count": 1,
   "metadata": {},
   "outputs": [
    {
     "name": "stdout",
     "output_type": "stream",
     "text": [
      "3\n",
      "3\n"
     ]
    }
   ],
   "source": [
    "# 傳入 基本變數 基本資料型態\n",
    "li = 3\n",
    "\n",
    "def func(li):\n",
    "    li = 5\n",
    "\n",
    "print(li)\n",
    "func(li)\n",
    "print(li)"
   ]
  },
  {
   "cell_type": "code",
   "execution_count": 7,
   "metadata": {},
   "outputs": [
    {
     "name": "stdout",
     "output_type": "stream",
     "text": [
      "[1, 3, 5, 7, 9]\n",
      "[3, 5, 7, 9]\n"
     ]
    }
   ],
   "source": [
    "# 傳入 list , 可在函數內改變值\n",
    "\n",
    "def func(y):\n",
    "    y.remove(1)\n",
    "\n",
    "x = [1, 3, 5, 7, 9]\n",
    "print(x)\n",
    "func(x)\n",
    "print(x)"
   ]
  },
  {
   "cell_type": "markdown",
   "metadata": {},
   "source": [
    "### 函式可以回傳多個值\n",
    "\n",
    "這在很多程式當中是必須用\"資料結構\"的方式迂迴的處裡, 在 Python 當中這樣使用就非常方便。\n"
   ]
  },
  {
   "cell_type": "code",
   "execution_count": 7,
   "metadata": {},
   "outputs": [
    {
     "name": "stdout",
     "output_type": "stream",
     "text": [
      "170公分 = 5呎6吋\n"
     ]
    }
   ],
   "source": [
    "\n",
    "def cm_feet_and_inch(cm):\n",
    "    feet, r=divmod(cm, 30.48)\n",
    "    inch=r//2.54\n",
    "    return feet, inch\n",
    "\n",
    "f, i = cm_feet_and_inch(170)\n",
    "print('{}公分 = {}呎{}吋'.format(170, int(f), int(i)))\n"
   ]
  },
  {
   "cell_type": "markdown",
   "metadata": {},
   "source": [
    " # 可變長度參數"
   ]
  },
  {
   "cell_type": "code",
   "execution_count": 10,
   "metadata": {},
   "outputs": [
    {
     "name": "stdout",
     "output_type": "stream",
     "text": [
      "6\n",
      "8064\n"
     ]
    }
   ],
   "source": [
    "def multi(*numbers):\n",
    "    ans = 1\n",
    "    for num in numbers:\n",
    "        ans = ans * num\n",
    "    return ans\n",
    "        \n",
    "print(multi(3,2))\n",
    "print(multi(3,2,4,6,7,8))"
   ]
  },
  {
   "cell_type": "markdown",
   "metadata": {},
   "source": [
    "## 函式-參數預設值\n",
    "\n",
    "有設定初值的傳入參數可以在呼叫時省去傳值, 其參數值即為預定值.\n",
    "\n"
   ]
  },
  {
   "cell_type": "code",
   "execution_count": 6,
   "metadata": {},
   "outputs": [
    {
     "name": "stdout",
     "output_type": "stream",
     "text": [
      "77.33333333333333\n",
      "74.33333333333333\n"
     ]
    }
   ],
   "source": [
    "def average(chi, eng, mat, wchi=1.0, weng=1.0, wmat=1.0):\n",
    "    return (chi*wchi+eng*weng+mat*wmat)/(wchi+weng+wmat)\n",
    "\n",
    "print(average(80, 85, 67))\n",
    "\n",
    "print(average(80, 68, 70, 3.0, 2.0)) # 傳參數指定 wchi=3.0, weng=2.0"
   ]
  },
  {
   "cell_type": "markdown",
   "metadata": {},
   "source": [
    "## 匿名函數（lambda）\n",
    "\n",
    "lambda 函數的使用時機通常是有一個小函數需要宣告，但是可能只用一次，又不想費心去想函數名稱的時候，可以使用匿名函數。\n",
    "\n",
    "lambda 後面接上要傳入的參數, 冒號後面則是一個表達式。lambda 特別的地方是它回傳的是一個函數，這是函數式設計。\n",
    "\n",
    "    f = lambda x,y,z : x+y+z  \n",
    "    print f(1,2,3)  \n",
    "\n",
    "    g = lambda x,y=2,z=3 : x+y+z  \n",
    "    print g(1,z=4,y=5) \n",
    "    \n",
    " "
   ]
  },
  {
   "cell_type": "code",
   "execution_count": 2,
   "metadata": {},
   "outputs": [
    {
     "name": "stdout",
     "output_type": "stream",
     "text": [
      "6\n"
     ]
    }
   ],
   "source": [
    "f = lambda x : 2 * x\n",
    "print(f(3))"
   ]
  },
  {
   "cell_type": "code",
   "execution_count": 3,
   "metadata": {},
   "outputs": [
    {
     "name": "stdout",
     "output_type": "stream",
     "text": [
      "False\n",
      "True\n"
     ]
    }
   ],
   "source": [
    "f = lambda x: x > 10\n",
    "print(f(2))\n",
    "print(f(12))"
   ]
  },
  {
   "cell_type": "markdown",
   "metadata": {},
   "source": [
    "### lambda 表達式常用來編寫跳轉表（jump table），就是行爲的列表或字典。\n"
   ]
  },
  {
   "cell_type": "code",
   "execution_count": 2,
   "metadata": {},
   "outputs": [
    {
     "name": "stdout",
     "output_type": "stream",
     "text": [
      "4 8 16\n",
      "5 6 8\n"
     ]
    }
   ],
   "source": [
    "L = [(lambda x: x**2),  \n",
    "    (lambda x: x**3),  \n",
    "    (lambda x: x**4)]  \n",
    "print(L[0](2),L[1](2),L[2](2))\n",
    "  \n",
    "D = {'f1':(lambda: 2+3),  \n",
    "    'f2':(lambda: 2*3),  \n",
    "    'f3':(lambda: 2**3)}  \n",
    "print(D['f1'](),D['f2'](),D['f3']())\n"
   ]
  }
 ],
 "metadata": {
  "kernelspec": {
   "display_name": "Python 3",
   "language": "python",
   "name": "python3"
  },
  "language_info": {
   "codemirror_mode": {
    "name": "ipython",
    "version": 3
   },
   "file_extension": ".py",
   "mimetype": "text/x-python",
   "name": "python",
   "nbconvert_exporter": "python",
   "pygments_lexer": "ipython3",
   "version": "3.6.5"
  }
 },
 "nbformat": 4,
 "nbformat_minor": 2
}
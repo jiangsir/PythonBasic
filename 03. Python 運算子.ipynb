{
 "metadata": {
  "language_info": {
   "codemirror_mode": {
    "name": "ipython",
    "version": 3
   },
   "file_extension": ".py",
   "mimetype": "text/x-python",
   "name": "python",
   "nbconvert_exporter": "python",
   "pygments_lexer": "ipython3",
   "version": "3.6.5-final"
  },
  "orig_nbformat": 2,
  "kernelspec": {
   "name": "python3",
   "display_name": "Python 3"
  }
 },
 "nbformat": 4,
 "nbformat_minor": 2,
 "cells": [
  {
   "source": [
    "# 運算子\n",
    "\n",
    "### * 算數運算子\n",
    "### * 運算優先序\n",
    "### * 關係運算子\n",
    "### * 位元運算子\n",
    "### * 指派運算子\n",
    "### * 邏輯運算子"
   ],
   "cell_type": "markdown",
   "metadata": {}
  },
  {
   "source": [
    "## 算數運算子"
   ],
   "cell_type": "markdown",
   "metadata": {}
  },
  {
   "cell_type": "code",
   "execution_count": 1,
   "metadata": {},
   "outputs": [
    {
     "output_type": "stream",
     "name": "stdout",
     "text": [
      "8\n6\n15\n2.5\n3\n2\n1000\n"
     ]
    }
   ],
   "source": [
    "print(3 + 5) # 加\n",
    "print(8 - 2) # 減\n",
    "print(3 * 5) # 乘\n",
    "print(5 / 2) # 除\n",
    "print(13 % 5) # 餘\n",
    "print(5 // 2) # 商\n",
    "print(10 ** 3) # 指數\n"
   ]
  },
  {
   "cell_type": "code",
   "execution_count": 4,
   "metadata": {},
   "outputs": [
    {
     "output_type": "stream",
     "name": "stdout",
     "text": [
      "-16\n16\n2\n3\n-3\n2\n-3\n-2\n2\n-3\n"
     ]
    }
   ],
   "source": [
    "print(-2**4)\n",
    "print((-2)**4)\n",
    "\n",
    "'''\n",
    "被除數 / 除數 = 商 ... 餘數\n",
    "被除數 = 除數 * 商 + 餘數\n",
    "\n",
    "13 / 5 = 2 ... 3\n",
    "13 = 5 * 2 + 3\n",
    "'''\n",
    "print(13 // 5) # 商\n",
    "print(13 % 5) # 餘數\n",
    "\n",
    "'''\n",
    "-13 / 5 = -3 ... 2\n",
    "-13 = 5 * -3 + 2\n",
    "\n",
    "\n",
    "----|---I-----|-----|-----|---------------\n",
    "   -15 -13   -10    -5    0\n",
    "'''\n",
    "print((-13)//5)  # 商\n",
    "print((-13) % 5)  # 餘數\n",
    "\n",
    "'''\n",
    "13 / -5 = -3 ... -2\n",
    "13 = -5 * -3 + -2\n",
    "\n",
    "----|-----|-----|----I--|-----\n",
    "    0     5     10  13 15\n",
    "'''\n",
    "print(13 // -5) # 商\n",
    "print(13 % -5) # 餘數 0 ~ -4\n",
    "\n",
    "'''\n",
    "-13 / -5 = 2 ... -3\n",
    "-13 = -5 * 2 + -3\n",
    "\n",
    "------I---------------|----\n",
    "     -13              0\n",
    "\n",
    "'''\n",
    "print(-13 // -5) # 商\n",
    "print(-13 % -5) # 餘數"
   ]
  },
  {
   "source": [
    "## 運算優先順序\n",
    "\n",
    "下面的表格中列出了 Python 中的各種運算的優先順序順序。不過，就一般情況而言，不需要記憶，完全可以按照數學中的去理解，因為人類既然已經發明瞭數學，在計算機中進行的運算就不需要從新編寫一套新規範了，只需要符合數學中的即可。\n",
    "\n",
    "\n",
    "\n",
    "\n",
    "![img](images/operator.jpg)\n",
    "\n",
    "<table><thead><tr><th>運算子</th><th>描述</th></tr></thead><tbody><tr><td>lambda</td><td>Lambda 表示式</td></tr><tr><td>or</td><td>布林“或”</td></tr><tr><td>and</td><td>布林“與”</td></tr><tr><td>not x</td><td>布林“非”</td></tr><tr><td>in，not in</td><td>成員測試</td></tr><tr><td>is，is not</td><td>同一性測試</td></tr><tr><td>&lt;，&lt;=，&gt;，&gt;=，!=，==</td><td>比較</td></tr><tr><td>|</td><td>按位或</td></tr><tr><td>^</td><td>按位異或</td></tr><tr><td>&amp;</td><td>按位與</td></tr><tr><td>&lt;&lt;，&gt;&gt;</td><td>移位</td></tr><tr><td> ，-</td><td>加法與減法</td></tr><tr><td>*，/，%</td><td>乘法、除法與取餘</td></tr><tr><td> x，-x</td><td>正負號</td></tr><tr><td>~x</td><td>按位翻轉</td></tr><tr><td>**</td><td>指數</td></tr><tr><td>x.attribute</td><td>屬性參考</td></tr><tr><td>x[index]</td><td>下標</td></tr><tr><td>x[index:index]</td><td>定址段</td></tr><tr><td>f(arguments…)</td><td>函式呼叫</td></tr><tr><td>(experession,…)</td><td>繫結或元組顯示</td></tr><tr><td>[expression,…]</td><td>列表顯示</td></tr><tr><td>{key:datum,…}</td><td>字典顯示</td></tr><tr><td>‘expression,…’</td><td>字串轉換</td></tr></tbody></table>\n"
   ],
   "cell_type": "markdown",
   "metadata": {}
  },
  {
   "cell_type": "code",
   "execution_count": 3,
   "metadata": {},
   "outputs": [
    {
     "output_type": "stream",
     "name": "stdout",
     "text": [
      "11\n14\n"
     ]
    }
   ],
   "source": [
    "print(3 + 4 * 2) # 先乘除後加減\n",
    "print((3 + 4) * 2) # 先乘除後加減\n",
    "\n"
   ]
  },
  {
   "source": [
    "## 關係運算子\n",
    "\n",
    "Python 的關係運算子 (comparison operator) 需要兩個運算元 (operand) ，如下列表\n",
    "\n",
    "<table width=\"90%\" border=\"1\" align=\"center\"><tbody><tr><th align=\"center\">運算子</th><th align=\"center\">功能</th><th align=\"center\">範例</th></tr>\n",
    "<tr><td align=\"center\">&lt;</td><td align=\"center\">小於</td><td align=\"center\">a &lt; b</td></tr>\n",
    "<tr><td align=\"center\">&gt;</td><td align=\"center\">大於</td><td align=\"center\">a &gt; b</td></tr>\n",
    "<tr><td align=\"center\">&lt;=</td><td align=\"center\">小於等於</td><td align=\"center\">a &lt;= b</td></tr>\n",
    "<tr><td align=\"center\">&gt;=</td><td align=\"center\">大於等於</td><td align=\"center\">a &gt;= b</td></tr>\n",
    "<tr><td align=\"center\">==</td><td align=\"center\">相等</td><td align=\"center\">a == b</td></tr>\n",
    "<tr><td align=\"center\">!=</td><td align=\"center\">不相等</td><td align=\"center\">a != b</td></tr>\n",
    "</tbody></table>\n",
    "\n",
    "### 關係運算子的結果是一個布林值"
   ],
   "cell_type": "markdown",
   "metadata": {}
  },
  {
   "cell_type": "code",
   "execution_count": 5,
   "metadata": {},
   "outputs": [
    {
     "output_type": "stream",
     "name": "stdout",
     "text": [
      "False\nFalse\nFalse\nTrue\nTrue\nTrue\n0.30000000000000004\nTrue\n4\n5\n"
     ]
    }
   ],
   "source": [
    "print(0.1 + 0.2 < 0.3) \n",
    "print(0.1 + 0.2 <= 0.3) \n",
    "print(0.1 + 0.2 == 0.3) \n",
    "print(0.1 + 0.2 != 0.3) \n",
    "print(0.1 + 0.2 >= 0.3) \n",
    "print(0.1 + 0.2 > 0.3) \n",
    "\n",
    "print(0.1 + 0.2) # 小數點誤差\n",
    "\n",
    "print(3<5)\n",
    "print(3 + (3<5) ) # True 會以 1 進行整數運算\n",
    "print(5 + (3>5) ) # False 會以 0 進行整數運算"
   ]
  },
  {
   "source": [
    "## 位元運算 \n",
    "\n",
    "Python 的位移運算子 (shifting operator) 也屬於位元運算子 (bitwise operator) 的一種，全部如下列表\n",
    "<table width=\"90%\" border=\"1\" align=\"center\"><tbody><tr><th align=\"center\">運算子</th><th align=\"center\">功能</th><th align=\"center\">範例</th></tr>\n",
    "<tr><td align=\"center\">&lt;&lt;</td><td align=\"center\">向左位移</td><td align=\"center\">a &lt;&lt; n</td></tr>\n",
    "<tr><td align=\"center\">&gt;&gt;</td><td align=\"center\">向右位移</td><td align=\"center\">a &gt;&gt; n</td></tr>\n",
    "<tr><td align=\"center\">&amp;</td><td align=\"center\">位元且</td><td align=\"center\">a &amp; b</td></tr>\n",
    "<tr><td align=\"center\">|</td><td align=\"center\">位元包含或</td><td align=\"center\">a | b</td></tr>\n",
    "<tr><td align=\"center\">^</td><td align=\"center\">位元互斥或</td><td align=\"center\">a ^ b</td></tr>\n",
    "<tr><td align=\"center\">~</td><td align=\"center\">位元相反</td><td align=\"center\">~a </td></tr>\n",
    "</tbody></table>"
   ],
   "cell_type": "markdown",
   "metadata": {}
  },
  {
   "cell_type": "code",
   "execution_count": 6,
   "metadata": {},
   "outputs": [
    {
     "output_type": "stream",
     "name": "stdout",
     "text": [
      "-6\n12\n0\n1\n7\n6\n"
     ]
    }
   ],
   "source": [
    "a = 5\n",
    "b = 3\n",
    " \n",
    "print(~a)\n",
    "print(b << 2)\n",
    "print(b >> 2)\n",
    "print(a & b)\n",
    "print(a | b)\n",
    "print(a ^ b)"
   ]
  },
  {
   "source": [
    "## 指派運算\n",
    "\n",
    "Python 最基本的指派運算子 (assignment operator) 為單一個等號 = ，這是用來將等號右邊的值拷貝給給左邊的變數 (variable) 資料。等號也可以跟其他運算子 (operator) 合用，會直接將結果儲存到原變數之中，如\n",
    "\n",
    "<table width=\"90%\" border=\"1\" align=\"center\"><tbody><tr><th>運算子</th><th>功能</th><th>範例</th></tr>\n",
    "<tr><td>=</td><td>指派</td><td>a = b</td></tr>\n",
    "<tr><td>+=</td><td>相加同時指派</td><td>a += b</td></tr>\n",
    "<tr><td>-=</td><td>相減同時指派</td><td>a -= b</td></tr>\n",
    "<tr><td>\\*=</td><td>相乘同時指派</td><td>a *= b</td></tr>\n",
    "<tr><td>**=</td><td>取指數同時指派</td><td>a **= b</td></tr>\n",
    "<tr><td>/=</td><td>相除同時指派</td><td>a /= b</td></tr>\n",
    "<tr><td>//=</td><td>整數相除同時指派</td><td>a //= b</td></tr>\n",
    "<tr><td>%=</td><td>取餘數同時指派</td><td>a %= b</td></tr>\n",
    "<tr><td>&amp;=</td><td>位元且同時指派</td><td>a &amp;= b</td></tr>\n",
    "<tr><td>^=</td><td>位元互斥或同時指派</td><td>a ^= b</td></tr>\n",
    "<tr><td>|=</td><td>位元包含或同時指派</td><td>a |= b</td></tr>\n",
    "<tr><td>&lt;&lt;=</td><td>向左位移同時指派</td><td>a &lt;&lt;= b</td></tr>\n",
    "<tr><td>&gt;&gt;=</td><td>向右位移同時指派</td><td>a &gt;&gt;= b</td></tr>\n",
    "</tbody></table>"
   ],
   "cell_type": "markdown",
   "metadata": {}
  },
  {
   "cell_type": "code",
   "execution_count": 8,
   "metadata": {},
   "outputs": [
    {
     "output_type": "stream",
     "name": "stdout",
     "text": [
      "3\n2\n44\n85184\n12169.142857142857\n2433.0\n0.0\n"
     ]
    }
   ],
   "source": [
    "a = 1\n",
    " \n",
    "a += 2\n",
    "print(a)\n",
    " \n",
    "a -= 1\n",
    "print(a)\n",
    " \n",
    "a *= 22\n",
    "print(a)\n",
    " \n",
    "a **= 3\n",
    "print(a)\n",
    " \n",
    "a /= 7\n",
    "print(a)\n",
    " \n",
    "a //= 5\n",
    "print(a)\n",
    " \n",
    "a %= 3\n",
    "print(a)"
   ]
  },
  {
   "source": [
    "## 邏輯運算子\n",
    "\n",
    "Python 的邏輯運算子 (logical operator) 為關鍵字 (keyword) 中的 and 、 or 與 not ， and 為邏輯且，前後兩個運算元 (operand) 都為真，運算式 (expression) 才為真， or 為邏輯或，前後兩個運算元有一個為真，運算式就為真， not 為邏輯否，也就是真變成假，假變成真。\n",
    "\n"
   ],
   "cell_type": "markdown",
   "metadata": {}
  },
  {
   "cell_type": "code",
   "execution_count": 9,
   "metadata": {},
   "outputs": [
    {
     "output_type": "stream",
     "name": "stdout",
     "text": [
      "a < b\n"
     ]
    }
   ],
   "source": [
    "a = 12\n",
    "b = 22\n",
    " \n",
    "if a > b and a != b:\n",
    "    print(\"a > b\")\n",
    "\n",
    "if a < b or a != b:\n",
    "    print(\"a < b\")\n",
    "    \n",
    "if not a:\n",
    "    print(\"a is false\")\n",
    " "
   ]
  }
 ]
}
{
 "cells": [
  {
   "cell_type": "markdown",
   "metadata": {},
   "source": [
    "### 命令列程式開發神器\n",
    "\n",
    "事先安裝好 python-fire 套件\n",
    "\n",
    "    pip3 install fire\n",
    "\n",
    "### 本節的範例程式碼必須存成 .py 檔並在命令列執行才會生效"
   ]
  },
  {
   "cell_type": "markdown",
   "metadata": {},
   "source": [
    "### 用 function 宣告參數項\n",
    "\n",
    "    python example.py hello World\n",
    "\n",
    "> Hello World!\n",
    "\n"
   ]
  },
  {
   "cell_type": "code",
   "execution_count": null,
   "metadata": {},
   "outputs": [],
   "source": [
    "import fire\n",
    "\n",
    "def hello(name):\n",
    "  return 'Hello {name}!'.format(name=name)\n",
    "\n",
    "if __name__ == '__main__':\n",
    "  fire.Fire()\n"
   ]
  },
  {
   "cell_type": "markdown",
   "metadata": {},
   "source": [
    "### 使用多個函數\n",
    "\n",
    "    python example.py add 10 20\n",
    "> 30\n",
    "\n",
    "    python example.py multiply 10 20\n",
    "> 200\n"
   ]
  },
  {
   "cell_type": "code",
   "execution_count": null,
   "metadata": {},
   "outputs": [],
   "source": [
    "import fire\n",
    "\n",
    "def add(x, y):\n",
    "    ''' 加法 '''\n",
    "    return x + y\n",
    "\n",
    "def multiply(x, y):\n",
    "    ''' 乘法 '''\n",
    "    return x * y\n",
    "\n",
    "if __name__ == '__main__':\n",
    "  fire.Fire()\n"
   ]
  },
  {
   "cell_type": "markdown",
   "metadata": {},
   "source": [
    "> python firetest1.py\n",
    "\n",
    "    add:      <function add at 0x000001CE69272EA0>\n",
    "    multiply: <function multiply at 0x000001CE6B0E5730>\n",
    "    \n",
    "\n",
    "> python firetest1.py add\n",
    "\n",
    "    Fire trace:\n",
    "    1. Initial component\n",
    "    2. Accessed property \"add\"\n",
    "    3. ('The function received no value for the required argument:', 'x')\n",
    "\n",
    "    Type:        function\n",
    "    String form: <function add at 0x000002203C4C2EA0>\n",
    "    File:        c:\\users\\jiangsir\\downloads\\firetest1.py\n",
    "    Line:        3\n",
    "    Docstring:   加法\n",
    "\n",
    "    Usage:       firetest1.py add X Y\n",
    "                 firetest1.py add --x X --y Y"
   ]
  },
  {
   "cell_type": "markdown",
   "metadata": {},
   "source": [
    "## 用 class 的方式宣告\n",
    "\n",
    "\n",
    "### 執行方式\n",
    "\n",
    "> python firetest2.py\n",
    "\n",
    "    Type:        Calculator\n",
    "    String form: <__main__.Calculator object at 0x000001FCB6B07F28>\n",
    "    File:        c:\\users\\jiangsir\\downloads\\firetest2.py\n",
    "    Docstring:   A simple calculator class.\n",
    "\n",
    "    Usage:       firetest2.py\n",
    "                 firetest2.py double\n",
    "                 \n",
    "> python firetest2.py double\n",
    "\n",
    "    Fire trace:\n",
    "    1. Initial component\n",
    "    2. Instantiated class \"Calculator\" (firetest2.py:3)\n",
    "    3. Accessed property \"double\" (firetest2.py:6)\n",
    "    4. ('The function received no value for the required argument:', 'number')\n",
    "\n",
    "    Type:        method\n",
    "    String form: <bound method Calculator.double of <__main__.Calculator object at 0x0000014119497E80>>\n",
    "    File:        c:\\users\\jiangsir\\downloads\\firetest2.py\n",
    "    Line:        6\n",
    "    Docstring:   傳入的數 * 2\n",
    "\n",
    "    Usage:       firetest2.py double NUMBER\n",
    "                 firetest2.py double --number NUMBER\n",
    "                 \n",
    "> python firetest2.py double 3.3\n",
    "\n",
    "    6.6"
   ]
  },
  {
   "cell_type": "code",
   "execution_count": null,
   "metadata": {},
   "outputs": [],
   "source": [
    "import fire\n",
    "\n",
    "class Calculator(object):\n",
    "  \"\"\" A simple calculator class. \"\"\"\n",
    "\n",
    "    def double(self, number):\n",
    "        ''' 傳入的數 * 2 '''\n",
    "        return 2 * number\n",
    "\n",
    "if __name__ == '__main__':\n",
    "  fire.Fire(Calculator)"
   ]
  }
 ],
 "metadata": {
  "kernelspec": {
   "display_name": "Python 3",
   "language": "python",
   "name": "python3"
  },
  "language_info": {
   "codemirror_mode": {
    "name": "ipython",
    "version": 3
   },
   "file_extension": ".py",
   "mimetype": "text/x-python",
   "name": "python",
   "nbconvert_exporter": "python",
   "pygments_lexer": "ipython3",
   "version": "3.6.5"
  }
 },
 "nbformat": 4,
 "nbformat_minor": 2
}

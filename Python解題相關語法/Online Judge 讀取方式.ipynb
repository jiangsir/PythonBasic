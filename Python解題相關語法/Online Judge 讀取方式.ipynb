{
 "cells": [
  {
   "cell_type": "markdown",
   "metadata": {},
   "source": [
    "# Online Judge 常見的讀取方式\n",
    "\n",
    "* 單行\n",
    "* 多行\n",
    "* 提示行數\n",
    "\n",
    "Python 的 input 讀取進來一律是 str 因此需要再進行一次資料轉型\n",
    "\n",
    "一般在 Online Judge 上練習寫程式都會需要用到輸入，常見的讀取方式整理在此。\n",
    "\n",
    "大致有:\n",
    "* 單獨讀取一個值\n",
    "* 讀取一行中的多個值\n",
    "* 連續讀取特定行數\n",
    "* 連續讀取不特定行數\n",
    "* 連續讀取到特定條件停止\n"
   ]
  },
  {
   "cell_type": "markdown",
   "metadata": {},
   "source": [
    "## 單行 -- 單個數字\n",
    "\n",
    "提示讀入一個整數。\n",
    "\n",
    "例題: https://zerojudge.tw/ShowProblem?problemid=d049\n"
   ]
  },
  {
   "cell_type": "code",
   "execution_count": 1,
   "metadata": {},
   "outputs": [
    {
     "name": "stdout",
     "output_type": "stream",
     "text": [
      "2008\n",
      "97\n"
     ]
    }
   ],
   "source": [
    "year = int(input())\n",
    "print(year-1911)"
   ]
  },
  {
   "cell_type": "markdown",
   "metadata": {},
   "source": [
    "## 單行 -- 多個數字\n",
    "\n",
    "提示讀入一串以空格隔開的數字\n"
   ]
  },
  {
   "cell_type": "code",
   "execution_count": 2,
   "metadata": {},
   "outputs": [
    {
     "name": "stdout",
     "output_type": "stream",
     "text": [
      "2 3 4\n",
      "2\n",
      "3\n",
      "4\n"
     ]
    }
   ],
   "source": [
    "ll = input().split()\n",
    "for i in ll:\n",
    "    print(i)"
   ]
  },
  {
   "cell_type": "markdown",
   "metadata": {},
   "source": [
    "## 單行 -- 固定數量\n",
    "\n",
    "若題目告數你固定個值以空白隔開，直接放入數個變數即可。\n"
   ]
  },
  {
   "cell_type": "code",
   "execution_count": null,
   "metadata": {},
   "outputs": [],
   "source": [
    "x, y = input().split()\n",
    "print(x)\n",
    "print(y)\n",
    "\n",
    "\n",
    "\n"
   ]
  },
  {
   "cell_type": "markdown",
   "metadata": {},
   "source": [
    "### 讀取進來之後進行資料型態轉換"
   ]
  },
  {
   "cell_type": "code",
   "execution_count": null,
   "metadata": {},
   "outputs": [],
   "source": [
    "a,b,c = map(int,input().split())\n"
   ]
  },
  {
   "cell_type": "markdown",
   "metadata": {},
   "source": [
    "### 若是數個資料之間是以 , 分隔, 則禮用 split(',') 來分割"
   ]
  },
  {
   "cell_type": "code",
   "execution_count": null,
   "metadata": {},
   "outputs": [],
   "source": [
    "a,b,c = map(int,input().split(','))\n"
   ]
  },
  {
   "cell_type": "markdown",
   "metadata": {},
   "source": [
    "## 固定行數\n",
    "\n",
    "用 for 迴圈進行 input()"
   ]
  },
  {
   "cell_type": "code",
   "execution_count": null,
   "metadata": {},
   "outputs": [],
   "source": [
    "n = int(input())\n",
    "for i in range(n):\n",
    "    s = input()"
   ]
  },
  {
   "cell_type": "markdown",
   "metadata": {},
   "source": [
    "## 不固定行數，讀到檔尾"
   ]
  },
  {
   "cell_type": "code",
   "execution_count": null,
   "metadata": {},
   "outputs": [],
   "source": [
    "# 兩種做法, 第一種，用無窮迴圈不斷讀取，直到檔尾會拋出例外，捕捉例外離開迴圈。\n",
    "\n",
    "while True:\n",
    "  try:\n",
    "    s = input()\n",
    "  except:\n",
    "    break\n"
   ]
  },
  {
   "cell_type": "code",
   "execution_count": null,
   "metadata": {},
   "outputs": [],
   "source": [
    "# 第二種做法，利用 sys.stdin 來處理\n",
    "\n",
    "import sys\n",
    "\n",
    "for line in sys.stdin:\n",
    "    print(line)\n"
   ]
  },
  {
   "cell_type": "markdown",
   "metadata": {},
   "source": [
    "# 延伸參考資料\n",
    "\n",
    "[2015 年板橋高中校內培訓講義](https://docs.google.com/document/d/1A5pBTSSr-jyMsh5vCIEZhGN9W5VEFs8Z_G_u5OLsYJ0/edit?pli=1#heading=h.67l4wxj0usgf)"
   ]
  }
 ],
 "metadata": {
  "kernelspec": {
   "display_name": "Python 3",
   "language": "python",
   "name": "python3"
  },
  "language_info": {
   "codemirror_mode": {
    "name": "ipython",
    "version": 3
   },
   "file_extension": ".py",
   "mimetype": "text/x-python",
   "name": "python",
   "nbconvert_exporter": "python",
   "pygments_lexer": "ipython3",
   "version": "3.6.5"
  }
 },
 "nbformat": 4,
 "nbformat_minor": 2
}

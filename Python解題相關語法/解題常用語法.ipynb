{
 "cells": [
  {
   "cell_type": "markdown",
   "metadata": {},
   "source": [
    "## * 與 ** 的用法\n",
    "\n",
    "    * 是針對 list 或 容器 進行 unpack (star operation )\n",
    "    ** 是針對 dict (double star operation)\n",
    "\n",
    "參考說明:\n",
    "https://stackoverflow.com/questions/2921847/what-does-the-star-operator-mean\n"
   ]
  },
  {
   "cell_type": "code",
   "execution_count": 6,
   "metadata": {},
   "outputs": [
    {
     "name": "stdout",
     "output_type": "stream",
     "text": [
      "[3, 6, 7, 9, 1, 4]\n",
      "3 6 7 9 1 4\n",
      "3 6 7 9 1 4\n"
     ]
    }
   ],
   "source": [
    "ll = [3, 6, 7, 9, 1 , 4]\n",
    "# 直接 print 會有 , 跟中括號\n",
    "print(ll)\n",
    "\n",
    "# 用 star 則是用 空白隔開\n",
    "print(*ll)\n",
    "\n",
    "# 也可以用 join 來做 空白隔開, 但如果內容為 int 就必須轉 str 再轉 list 較為麻煩\n",
    "print(\" \".join(list(map(str, ll))))\n"
   ]
  },
  {
   "cell_type": "markdown",
   "metadata": {},
   "source": [
    "## sys.stdin 與 input() 的差別\n",
    "\n",
    "    input() 讀到 EOF 會拋出 except 因此要用 try except 來接\n",
    "    sys.stdin 回回傳一個 iter 包含所有的列,因此可以用 for 去繞\n",
    "    "
   ]
  },
  {
   "cell_type": "code",
   "execution_count": 8,
   "metadata": {},
   "outputs": [],
   "source": [
    "import sys\n",
    "for line in sys.stdin:\n",
    "    print('hello, ' + line)\n",
    "    "
   ]
  },
  {
   "cell_type": "code",
   "execution_count": null,
   "metadata": {},
   "outputs": [],
   "source": [
    "while True:\n",
    "    try:\n",
    "        line = input()\n",
    "        print('hello, ' + line)\n",
    "    except:\n",
    "        break"
   ]
  },
  {
   "cell_type": "markdown",
   "metadata": {},
   "source": [
    "## filter 與 lambda\n",
    "\n",
    "    n = list(filter(lambda x: x<60, f))\n",
    "\n",
    "filter 接受的 function 必須回傳 bool 才行\n",
    "<pre>\n",
    "filter(function, sequence)：对sequence中的item依次执行function(item)，将执行结果为True的item组成一个List/String/Tuple（取决于sequence的类型）返回：\n",
    ">>> def f(x): return x % 2 != 0 and x % 3 != 0 \n",
    ">>> filter(f, range(2, 25)) \n",
    "[5, 7, 11, 13, 17, 19, 23]\n",
    ">>> def f(x): return x != 'a' \n",
    ">>> filter(f, \"abcdef\") \n",
    "'bcdef'\n",
    "</pre>"
   ]
  },
  {
   "cell_type": "code",
   "execution_count": 17,
   "metadata": {},
   "outputs": [
    {
     "name": "stdout",
     "output_type": "stream",
     "text": [
      "[3, 6, 9, 12, 15, 18, 21, 24, 27, 30, 33, 36, 39, 42, 45, 48, 51, 54, 57, 60, 63, 66, 69, 72, 75, 78, 81, 84, 87, 90, 93, 96, 99]\n"
     ]
    }
   ],
   "source": [
    "# 使用filter和lambda表达式快速求出100以内所有3的倍数\n",
    "print(list(filter(lambda x : not(x % 3), range(1, 100))))"
   ]
  },
  {
   "cell_type": "markdown",
   "metadata": {},
   "source": [
    "## 快速 從 input() 建立 list\n",
    "\n",
    "    scores = [int(x) for x in aline.strip().split()]"
   ]
  },
  {
   "cell_type": "code",
   "execution_count": 1,
   "metadata": {},
   "outputs": [
    {
     "name": "stdout",
     "output_type": "stream",
     "text": [
      "2 3 6 9 12 54 3 11\n",
      "2 3 6 9 12 54 3 11\n"
     ]
    }
   ],
   "source": [
    "ll = [int(x) for x in input().split()]\n",
    "print(*ll)"
   ]
  },
  {
   "cell_type": "markdown",
   "metadata": {},
   "source": [
    "## 用 enumerate 來取得 index\n",
    "\n",
    "    for index, score in enumerate(ll):\n"
   ]
  },
  {
   "cell_type": "code",
   "execution_count": 3,
   "metadata": {},
   "outputs": [
    {
     "name": "stdout",
     "output_type": "stream",
     "text": [
      "0 3\n",
      "1 6\n",
      "2 7\n",
      "3 9\n",
      "4 1\n",
      "5 4\n"
     ]
    }
   ],
   "source": [
    "ll = [3, 6, 7, 9, 1 , 4]\n",
    "for index, score in enumerate(ll):\n",
    "    print(index, score)"
   ]
  },
  {
   "cell_type": "markdown",
   "metadata": {},
   "source": [
    "## list.sort() 與 sorted() 的差別\n"
   ]
  },
  {
   "cell_type": "code",
   "execution_count": 10,
   "metadata": {},
   "outputs": [
    {
     "name": "stdout",
     "output_type": "stream",
     "text": [
      "[1, 3, 4, 6, 7, 9]\n"
     ]
    }
   ],
   "source": [
    "ll = [3, 6, 7, 9, 1 , 4]\n",
    "#ll.sort()\n",
    "#print(ll)\n",
    "\n",
    "ll = sorted(ll)\n",
    "print(ll)"
   ]
  },
  {
   "cell_type": "markdown",
   "metadata": {},
   "source": [
    "## python 裡的二維陣列\n",
    "\n",
    "python 沒有 array 只有 list 因此用 list 來模擬二維陣列\n"
   ]
  },
  {
   "cell_type": "markdown",
   "metadata": {},
   "source": [
    "## 錯誤示範\n",
    "\n",
    "### 也就是説matrix = [array] * 3操作中，只是創建3個指向array的引用，所以一旦array改變，matrix中3個list也會隨之改變。\n"
   ]
  },
  {
   "cell_type": "code",
   "execution_count": 37,
   "metadata": {},
   "outputs": [
    {
     "name": "stdout",
     "output_type": "stream",
     "text": [
      "test = [[0, 0, 0], [0, 0, 0], [0, 0, 0]]\n",
      "test = [[233, 0, 0], [233, 0, 0], [233, 0, 0]]  <-- 只改了 test[0][0] 為何 改了3個數字??\n"
     ]
    }
   ],
   "source": [
    "\n",
    "m = n = 3\n",
    "test = [[0] * m] * n\n",
    "print(\"test =\", test)\n",
    "\n",
    "test[0][0] = 233\n",
    "print(\"test =\", test, \" <-- 只改了 test[0][0] 為何 改了3個數字??\")\n"
   ]
  },
  {
   "cell_type": "code",
   "execution_count": 39,
   "metadata": {},
   "outputs": [
    {
     "name": "stdout",
     "output_type": "stream",
     "text": [
      "[[1, 2, 3], [4, 5, 6], [7, 8, 9]]\n",
      "a[1][1]= 5\n",
      "a[1][1]= 199\n",
      "[[1, 2, 3], [4, 199, 6], [7, 8, 9]]\n",
      "[4, 199, 6]\n",
      "[4, 199, 6]\n"
     ]
    },
    {
     "ename": "TypeError",
     "evalue": "list indices must be integers or slices, not tuple",
     "output_type": "error",
     "traceback": [
      "\u001b[1;31m---------------------------------------------------------------------------\u001b[0m",
      "\u001b[1;31mTypeError\u001b[0m                                 Traceback (most recent call last)",
      "\u001b[1;32m<ipython-input-39-e43813bf333b>\u001b[0m in \u001b[0;36m<module>\u001b[1;34m()\u001b[0m\n\u001b[0;32m     10\u001b[0m \u001b[0mprint\u001b[0m\u001b[1;33m(\u001b[0m\u001b[0ma\u001b[0m\u001b[1;33m[\u001b[0m\u001b[1;36m1\u001b[0m\u001b[1;33m]\u001b[0m\u001b[1;33m[\u001b[0m\u001b[1;33m:\u001b[0m\u001b[1;33m]\u001b[0m\u001b[1;33m)\u001b[0m\u001b[1;33m\u001b[0m\u001b[0m\n\u001b[0;32m     11\u001b[0m \u001b[1;33m\u001b[0m\u001b[0m\n\u001b[1;32m---> 12\u001b[1;33m \u001b[0mprint\u001b[0m\u001b[1;33m(\u001b[0m\u001b[0ma\u001b[0m\u001b[1;33m[\u001b[0m\u001b[1;36m1\u001b[0m\u001b[1;33m,\u001b[0m\u001b[1;36m1\u001b[0m\u001b[1;33m]\u001b[0m\u001b[1;33m)\u001b[0m\u001b[1;33m\u001b[0m\u001b[0m\n\u001b[0m\u001b[0;32m     13\u001b[0m \u001b[1;34m\"\"\"相當於a[1,1]被認為是a[(1,1)],不支援元組索引\"\"\"\u001b[0m\u001b[1;33m\u001b[0m\u001b[0m\n\u001b[0;32m     14\u001b[0m \u001b[1;33m\u001b[0m\u001b[0m\n",
      "\u001b[1;31mTypeError\u001b[0m: list indices must be integers or slices, not tuple"
     ]
    }
   ],
   "source": [
    "a=[[1,2,3],[4,5,6],[7,8,9]]\n",
    "\n",
    "print(a)\n",
    "print('a[1][1]=',a[1][1])\n",
    "a[1][1] = 199\n",
    "print('a[1][1]=', a[1][1])\n",
    "print(a)\n",
    "print(a[1])\n",
    "\n",
    "print(a[1][:])\n",
    "\n",
    "print(a[1,1])\n",
    "\"\"\"相當於a[1,1]被認為是a[(1,1)],不支援元組索引\"\"\"\n",
    "\n",
    "print(a[:,1])\n"
   ]
  },
  {
   "cell_type": "markdown",
   "metadata": {},
   "source": [
    "## 列表生成式 - 廖雪峯的官方網站\n",
    "\n",
    "https://www.liaoxuefeng.com/wiki/0014316089557264a6b348958f449949df42a6d3a2e542c000/001431779637539089fd627094a43a8a7c77e6102e3a811000\n",
    "\n",
    "學會使用列表生成式，終生受益。\n"
   ]
  },
  {
   "cell_type": "code",
   "execution_count": 43,
   "metadata": {},
   "outputs": [
    {
     "ename": "TypeError",
     "evalue": "'list' object is not callable",
     "output_type": "error",
     "traceback": [
      "\u001b[1;31m---------------------------------------------------------------------------\u001b[0m",
      "\u001b[1;31mTypeError\u001b[0m                                 Traceback (most recent call last)",
      "\u001b[1;32m<ipython-input-43-09106b5e1b57>\u001b[0m in \u001b[0;36m<module>\u001b[1;34m()\u001b[0m\n\u001b[1;32m----> 1\u001b[1;33m \u001b[0mllist\u001b[0m \u001b[1;33m=\u001b[0m \u001b[0mlist\u001b[0m\u001b[1;33m(\u001b[0m\u001b[0mrange\u001b[0m\u001b[1;33m(\u001b[0m\u001b[1;36m1\u001b[0m\u001b[1;33m,\u001b[0m \u001b[1;36m11\u001b[0m\u001b[1;33m)\u001b[0m\u001b[1;33m)\u001b[0m\u001b[1;33m\u001b[0m\u001b[0m\n\u001b[0m\u001b[0;32m      2\u001b[0m \u001b[0mllist\u001b[0m\u001b[1;33m\u001b[0m\u001b[0m\n",
      "\u001b[1;31mTypeError\u001b[0m: 'list' object is not callable"
     ]
    }
   ],
   "source": [
    "llist = list(range(1, 11))\n",
    "llist"
   ]
  },
  {
   "cell_type": "code",
   "execution_count": 40,
   "metadata": {},
   "outputs": [
    {
     "data": {
      "text/plain": [
       "[1, 4, 9, 16, 25, 36, 49, 64, 81, 100]"
      ]
     },
     "execution_count": 40,
     "metadata": {},
     "output_type": "execute_result"
    }
   ],
   "source": [
    "list = [x * x for x in range(1, 11)]\n",
    "\n",
    "list\n"
   ]
  },
  {
   "cell_type": "code",
   "execution_count": 44,
   "metadata": {},
   "outputs": [
    {
     "data": {
      "text/plain": [
       "[4, 16, 36, 64, 100]"
      ]
     },
     "execution_count": 44,
     "metadata": {},
     "output_type": "execute_result"
    }
   ],
   "source": [
    "list = [x * x for x in range(1, 11) if x % 2 == 0]\n",
    "list"
   ]
  },
  {
   "cell_type": "code",
   "execution_count": 45,
   "metadata": {},
   "outputs": [
    {
     "data": {
      "text/plain": [
       "['AX', 'AY', 'AZ', 'BX', 'BY', 'BZ', 'CX', 'CY', 'CZ']"
      ]
     },
     "execution_count": 45,
     "metadata": {},
     "output_type": "execute_result"
    }
   ],
   "source": [
    "# 兩個循環, 全排列\n",
    "list = [m + n for m in 'ABC' for n in 'XYZ']\n",
    "list"
   ]
  },
  {
   "cell_type": "code",
   "execution_count": 46,
   "metadata": {},
   "outputs": [
    {
     "data": {
      "text/plain": [
       "['x=A', 'y=B', 'z=C']"
      ]
     },
     "execution_count": 46,
     "metadata": {},
     "output_type": "execute_result"
    }
   ],
   "source": [
    "d = {'x': 'A', 'y': 'B', 'z': 'C' }\n",
    "list = [k + '=' + v for k, v in d.items()]\n",
    "list"
   ]
  },
  {
   "cell_type": "code",
   "execution_count": 47,
   "metadata": {},
   "outputs": [
    {
     "data": {
      "text/plain": [
       "['hello', 'world', 'ibm', 'apple']"
      ]
     },
     "execution_count": 47,
     "metadata": {},
     "output_type": "execute_result"
    }
   ],
   "source": [
    "# 也可以使用字串函數\n",
    "\n",
    "L = ['Hello', 'World', 'IBM', 'Apple']\n",
    "list = [s.lower() for s in L]\n",
    "list"
   ]
  },
  {
   "cell_type": "code",
   "execution_count": 59,
   "metadata": {},
   "outputs": [
    {
     "name": "stdout",
     "output_type": "stream",
     "text": [
      "[0, 0, 0, 0, 0, 0, 0, 0, 0, 0]\n",
      "[0, 0, 99, 0, 0, 0, 0, 0, 0, 0]\n",
      "[0, 0, 0, 0, 0, 0, 0, 0, 0, 0]\n"
     ]
    }
   ],
   "source": [
    "# 宣告陣列\n",
    "\n",
    "row, col = 3, 10\n",
    "\n",
    "array = [[0 for i in range(col)] for j in range(row)]\n",
    "array[1][2] = 99\n",
    "\n",
    "for i in array:\n",
    "    print(i)\n",
    "\n"
   ]
  }
 ],
 "metadata": {
  "kernelspec": {
   "display_name": "Python 3",
   "language": "python",
   "name": "python3"
  },
  "language_info": {
   "codemirror_mode": {
    "name": "ipython",
    "version": 3
   },
   "file_extension": ".py",
   "mimetype": "text/x-python",
   "name": "python",
   "nbconvert_exporter": "python",
   "pygments_lexer": "ipython3",
   "version": "3.6.5"
  }
 },
 "nbformat": 4,
 "nbformat_minor": 2
}

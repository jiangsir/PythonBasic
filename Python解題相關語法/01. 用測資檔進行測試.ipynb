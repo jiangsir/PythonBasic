{
 "cells": [
  {
   "cell_type": "markdown",
   "metadata": {},
   "source": [
    "## 自建測資 -- 輸入測資\n"
   ]
  },
  {
   "cell_type": "code",
   "execution_count": 9,
   "metadata": {},
   "outputs": [
    {
     "data": {
      "text/plain": [
       "['e038.py',\n",
       " 'e038_00.in',\n",
       " 'e038_00.out',\n",
       " 'e038_01.in',\n",
       " 'e038_01.out',\n",
       " 'e038_02.in',\n",
       " 'e038_02.out',\n",
       " 'e038_03.in',\n",
       " 'e038_03.out',\n",
       " 'e038_04.in',\n",
       " 'e038_04.out',\n",
       " 'e038_05.in',\n",
       " 'e038_05.out',\n",
       " 'e038_06.in',\n",
       " 'e038_06.out',\n",
       " 'e038_07.in',\n",
       " 'e038_07.out',\n",
       " 'e038_08.in',\n",
       " 'e038_08.out',\n",
       " 'e038_09.in',\n",
       " 'e038_09.out',\n",
       " 'e038_10.in',\n",
       " 'e038_10.out',\n",
       " 'e038_11.in',\n",
       " 'e038_11.out',\n",
       " 'e038_12.in',\n",
       " 'e038_12.out',\n",
       " 'e038_13.in',\n",
       " 'e038_13.out',\n",
       " 'e038_14.in',\n",
       " 'e038_14.out',\n",
       " 'e038_15.in',\n",
       " 'e038_15.out',\n",
       " 'e038_16.in',\n",
       " 'e038_16.out',\n",
       " 'e038_17.in',\n",
       " 'e038_17.out',\n",
       " 'e038_18.in',\n",
       " 'e038_18.out',\n",
       " 'e038_19.in',\n",
       " 'e038_19.out']"
      ]
     },
     "execution_count": 9,
     "metadata": {},
     "output_type": "execute_result"
    }
   ],
   "source": [
    "import os\n",
    "import random\n",
    "\n",
    "testfilecount = 20\n",
    "problemid = 'e038'\n",
    "basepath = \"D:\\\\\"+problemid\n",
    "if not os.path.exists(basepath):\n",
    "    os.makedirs(basepath)\n",
    "\n",
    "for i in range(testfilecount):\n",
    "    filename = basepath+'\\\\'+problemid+'_{:02d}.in'.format(i)\n",
    "    n = random.randint(100, 100000)\n",
    "    ll = []\n",
    "    for j in range(n):\n",
    "        ll.append(random.randint(random.randint(1, 9999),100000))\n",
    "        \n",
    "    with open(filename, 'w') as out:\n",
    "        out.write(str(n)+'\\n'+ ' '.join(map(str, ll)))\n",
    "\n",
    "\n",
    "os.listdir(basepath)"
   ]
  },
  {
   "cell_type": "markdown",
   "metadata": {},
   "source": [
    "## 自建測資 -- 輸出測資 呼叫 problemid.py 產生 .out 檔"
   ]
  },
  {
   "cell_type": "code",
   "execution_count": 10,
   "metadata": {},
   "outputs": [
    {
     "name": "stdout",
     "output_type": "stream",
     "text": [
      "python D:\\e038\\e038.py < D:\\e038\\e038_00.in > D:\\e038\\e038_00.out\n",
      "python D:\\e038\\e038.py < D:\\e038\\e038_01.in > D:\\e038\\e038_01.out\n",
      "python D:\\e038\\e038.py < D:\\e038\\e038_02.in > D:\\e038\\e038_02.out\n",
      "python D:\\e038\\e038.py < D:\\e038\\e038_03.in > D:\\e038\\e038_03.out\n",
      "python D:\\e038\\e038.py < D:\\e038\\e038_04.in > D:\\e038\\e038_04.out\n",
      "python D:\\e038\\e038.py < D:\\e038\\e038_05.in > D:\\e038\\e038_05.out\n",
      "python D:\\e038\\e038.py < D:\\e038\\e038_06.in > D:\\e038\\e038_06.out\n",
      "python D:\\e038\\e038.py < D:\\e038\\e038_07.in > D:\\e038\\e038_07.out\n",
      "python D:\\e038\\e038.py < D:\\e038\\e038_08.in > D:\\e038\\e038_08.out\n",
      "python D:\\e038\\e038.py < D:\\e038\\e038_09.in > D:\\e038\\e038_09.out\n",
      "python D:\\e038\\e038.py < D:\\e038\\e038_10.in > D:\\e038\\e038_10.out\n",
      "python D:\\e038\\e038.py < D:\\e038\\e038_11.in > D:\\e038\\e038_11.out\n",
      "python D:\\e038\\e038.py < D:\\e038\\e038_12.in > D:\\e038\\e038_12.out\n",
      "python D:\\e038\\e038.py < D:\\e038\\e038_13.in > D:\\e038\\e038_13.out\n",
      "python D:\\e038\\e038.py < D:\\e038\\e038_14.in > D:\\e038\\e038_14.out\n",
      "python D:\\e038\\e038.py < D:\\e038\\e038_15.in > D:\\e038\\e038_15.out\n",
      "python D:\\e038\\e038.py < D:\\e038\\e038_16.in > D:\\e038\\e038_16.out\n",
      "python D:\\e038\\e038.py < D:\\e038\\e038_17.in > D:\\e038\\e038_17.out\n",
      "python D:\\e038\\e038.py < D:\\e038\\e038_18.in > D:\\e038\\e038_18.out\n",
      "python D:\\e038\\e038.py < D:\\e038\\e038_19.in > D:\\e038\\e038_19.out\n"
     ]
    },
    {
     "data": {
      "text/plain": [
       "['e038.py',\n",
       " 'e038_00.in',\n",
       " 'e038_00.out',\n",
       " 'e038_01.in',\n",
       " 'e038_01.out',\n",
       " 'e038_02.in',\n",
       " 'e038_02.out',\n",
       " 'e038_03.in',\n",
       " 'e038_03.out',\n",
       " 'e038_04.in',\n",
       " 'e038_04.out',\n",
       " 'e038_05.in',\n",
       " 'e038_05.out',\n",
       " 'e038_06.in',\n",
       " 'e038_06.out',\n",
       " 'e038_07.in',\n",
       " 'e038_07.out',\n",
       " 'e038_08.in',\n",
       " 'e038_08.out',\n",
       " 'e038_09.in',\n",
       " 'e038_09.out',\n",
       " 'e038_10.in',\n",
       " 'e038_10.out',\n",
       " 'e038_11.in',\n",
       " 'e038_11.out',\n",
       " 'e038_12.in',\n",
       " 'e038_12.out',\n",
       " 'e038_13.in',\n",
       " 'e038_13.out',\n",
       " 'e038_14.in',\n",
       " 'e038_14.out',\n",
       " 'e038_15.in',\n",
       " 'e038_15.out',\n",
       " 'e038_16.in',\n",
       " 'e038_16.out',\n",
       " 'e038_17.in',\n",
       " 'e038_17.out',\n",
       " 'e038_18.in',\n",
       " 'e038_18.out',\n",
       " 'e038_19.in',\n",
       " 'e038_19.out']"
      ]
     },
     "execution_count": 10,
     "metadata": {},
     "output_type": "execute_result"
    }
   ],
   "source": [
    "testfilecount = 20\n",
    "problemid = 'e038'\n",
    "basepath = \"D:\\\\\"+problemid\n",
    "\n",
    "for i in range(testfilecount):\n",
    "    infilename = basepath+'\\\\'+problemid+'_{:02d}.in'.format(i)\n",
    "    with open(infilename, 'r') as out:\n",
    "        s = out.read().strip()\n",
    "    \n",
    "    outfilename = basepath+'\\\\'+problemid+'_{:02d}.out'.format(i)\n",
    "    cmd = 'python '+basepath+'\\\\'+problemid+'.py < ' + infilename + ' > ' + outfilename\n",
    "    print(cmd)\n",
    "    os.system(cmd)\n",
    "        \n",
    "os.listdir(basepath)"
   ]
  },
  {
   "cell_type": "code",
   "execution_count": null,
   "metadata": {},
   "outputs": [],
   "source": []
  }
 ],
 "metadata": {
  "kernelspec": {
   "display_name": "Python 3",
   "language": "python",
   "name": "python3"
  },
  "language_info": {
   "codemirror_mode": {
    "name": "ipython",
    "version": 3
   },
   "file_extension": ".py",
   "mimetype": "text/x-python",
   "name": "python",
   "nbconvert_exporter": "python",
   "pygments_lexer": "ipython3",
   "version": "3.6.5"
  }
 },
 "nbformat": 4,
 "nbformat_minor": 2
}

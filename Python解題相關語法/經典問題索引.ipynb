{
 "cells": [
  {
   "cell_type": "markdown",
   "metadata": {},
   "source": [
    "LCS,最大連續元素和\n",
    "\n",
    "ACM/UVa 10405 zerojudge: c001\n",
    "<pre>\n",
    "先將兩個字串分析如下：c1,c2 為最後字元\n",
    "    s1 = ss1 + c1\n",
    "    s2 = ss2 + c2\n",
    "    LCS(s1, s2) =\n",
    "    LCS(ss1, s2) or LCS(ss2, s1) or LCS(ss1, ss2) , when c1 != c2\n",
    "    簡化為：max( LCS(ss1, s2), LCS(ss2, s1) )\n",
    "    LCS(ss1, ss2) + c1, when c1 == c2\n",
    "    以下有詳盡說明：\n",
    "    !(最大子序列(Maximum Subarray))[http://emn178.pixnet.net/blog/post/88907691]\n",
    "    a540. 10684 - The jackpot \n",
    "\n",
    "</pre>\n",
    "\n",
    "\n",
    "LIS/LDS\n",
    "\n",
    "MCM\n",
    "\n",
    "排列\n",
    "\n",
    "0/1 背包\n",
    "\n",
    "最短距離\n",
    "\n",
    "最小成本分析樹\n",
    "\n",
    "旅行業務員 TSP\n",
    "\n",
    "八皇后\n",
    "\n",
    "連通問題\n",
    "\n",
    "572 Oil Deposits -ZeroJudge-c129\n",
    "\n",
    "Rank the Languages - d365\n",
    "\n",
    "走棋盤問題\n",
    "\n",
    "生命遊戲\n",
    "\n",
    "點燈問題\n",
    "\n",
    "四色問題、填色問題\n",
    "\n",
    "DP走階梯\n",
    "\n",
    "DP 切蛋糕\n",
    "\n",
    "線段覆蓋\n",
    "\n",
    "區域覆蓋\n",
    "\n"
   ]
  }
 ],
 "metadata": {
  "kernelspec": {
   "display_name": "Python 3",
   "language": "python",
   "name": "python3"
  },
  "language_info": {
   "codemirror_mode": {
    "name": "ipython",
    "version": 3
   },
   "file_extension": ".py",
   "mimetype": "text/x-python",
   "name": "python",
   "nbconvert_exporter": "python",
   "pygments_lexer": "ipython3",
   "version": "3.6.5"
  }
 },
 "nbformat": 4,
 "nbformat_minor": 2
}

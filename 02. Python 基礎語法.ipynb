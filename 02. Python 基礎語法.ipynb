{
 "cells": [
  {
   "cell_type": "markdown",
   "metadata": {
    "slideshow": {
     "slide_type": "slide"
    }
   },
   "source": [
    "# Python 基本語法\n",
    "\n",
    "## 基本字串處理\n",
    "\n",
    "在 Python 中，使用單引號（'）或雙引號（\"）包起來的資料都是字串。然而，以單引號包起來的字串，如果在字串資料中遇到單引號時，則必須以 \\ 來跳脫（escape）處理，避免被誤認為字串結束。\n"
   ]
  },
  {
   "cell_type": "code",
   "execution_count": 2,
   "metadata": {
    "slideshow": {
     "slide_type": "subslide"
    }
   },
   "outputs": [
    {
     "name": "stdout",
     "output_type": "stream",
     "text": [
      "hgjhgjhgjh\n",
      "fgjhgfhgjkg\n",
      "I'm Sorry.\n",
      "print(\"Hello\")\n",
      "print(\"I'm Sorry.\")\n",
      "顯示反斜線 \\\n",
      "C:\\Documents and Settings\\ericsk\\test.dat\n",
      "\\t\\n\\r 特殊符號通通無效\n",
      "His name is Tom, he's 3 years old.\n",
      "\n",
      "<HTML><HEAD><TITLE>\n",
      "Friends CGI Demo</TITLE></HEAD>\n",
      "<BODY><H3>ERROR</H3>\n",
      "<B>%s</B><P>\n",
      "<FORM><INPUT TYPE=button VALUE=Back\n",
      "ONCLICK=\"window.history.back()\"></FORM>\n",
      "</BODY></HTML>\n",
      "\n",
      "HelloBeauty\n",
      "Hello world 2016\n",
      "Hello Beauty Beauty Beauty Beauty Beauty Beauty Beauty Beauty Beauty Beauty Beauty Beauty Beauty Beauty Beauty Beauty Beauty Beauty Beauty Beauty Beauty Beauty Beauty Beauty Beauty Beauty Beauty Beauty Beauty Beauty Beauty Beauty Beauty Beauty Beauty Beauty Beauty Beauty Beauty Beauty Beauty Beauty Beauty Beauty Beauty Beauty Beauty Beauty Beauty Beauty Beauty Beauty Beauty Beauty Beauty Beauty Beauty Beauty Beauty Beauty Beauty Beauty Beauty Beauty Beauty Beauty Beauty Beauty Beauty Beauty Beauty Beauty Beauty Beauty Beauty Beauty Beauty Beauty Beauty Beauty Beauty Beauty Beauty Beauty Beauty Beauty Beauty Beauty Beauty Beauty Beauty Beauty Beauty Beauty Beauty Beauty Beauty Beauty Beauty Beauty\n",
      "Hello Beauty Beauty Beauty Beauty Beauty Beauty Beauty Beauty Beauty Beauty Beauty Beauty Beauty Beauty Beauty Beauty Beauty Beauty Beauty Beauty Beauty Beauty Beauty Beauty Beauty Beauty Beauty Beauty Beauty Beauty Beauty Beauty Beauty Beauty Beauty Beauty Beauty Beauty Beauty Beauty Beauty Beauty Beauty Beauty Beauty Beauty Beauty Beauty Beauty Beauty Beauty Beauty Beauty Beauty Beauty Beauty Beauty Beauty Beauty Beauty Beauty Beauty Beauty Beauty Beauty Beauty Beauty Beauty Beauty Beauty Beauty Beauty Beauty Beauty Beauty Beauty Beauty Beauty Beauty Beauty Beauty Beauty Beauty Beauty Beauty Beauty Beauty Beauty Beauty Beauty Beauty Beauty Beauty Beauty Beauty Beauty Beauty Beauty Beauty Beautys 的長度= 705\n"
     ]
    }
   ],
   "source": [
    "print(\"hgjhgjhgjh\")\n",
    "print('fgjhgfhgjkg')\n",
    "print(\"I'm Sorry.\") #  可以顯示 '\n",
    "print('print(\"Hello\")') #  可以顯示 \"\n",
    "print(\"print(\\\"I'm Sorry.\\\")\") # 用反斜線(Escape字元)顯示 \"\n",
    "print(\"顯示反斜線 \\\\\") # 顯示反斜線\n",
    "print('C:\\\\Documents and Settings\\\\ericsk\\\\test.dat') # windows 路徑\n",
    "print(r'\\t\\n\\r 特殊符號通通無效') # row string 原始字串\n",
    "name = \"Tom\"\n",
    "age = 3\n",
    "print(f\"His name is {name}, he's {age} years old.\")\n",
    "\n",
    "# 三引號 方便放置複雜多行的字串\n",
    "s = '''\n",
    "<HTML><HEAD><TITLE>\n",
    "Friends CGI Demo</TITLE></HEAD>\n",
    "<BODY><H3>ERROR</H3>\n",
    "<B>%s</B><P>\n",
    "<FORM><INPUT TYPE=button VALUE=Back\n",
    "ONCLICK=\"window.history.back()\"></FORM>\n",
    "</BODY></HTML>\n",
    "'''\n",
    "print(s)\n",
    "\n",
    "print(\"Hello\" + \"Beauty\") # 用 + 串接字串\n",
    "print(\"Hello\", \"world\", 2016) # 串接！不同資料形態的串接\n",
    "s = \"Hello\" + \" Beauty\"*100 # 字串重複\n",
    "print(s)\n",
    "print(s, end='') # 字尾不換行\n",
    "print(\"s 的長度=\", len(s)) #字串長度 字串串數字用 , \n"
   ]
  },
  {
   "cell_type": "markdown",
   "metadata": {
    "slideshow": {
     "slide_type": "slide"
    }
   },
   "source": [
    "## 算數運算子"
   ]
  },
  {
   "cell_type": "code",
   "execution_count": 14,
   "metadata": {
    "slideshow": {
     "slide_type": "-"
    }
   },
   "outputs": [
    {
     "name": "stdout",
     "output_type": "stream",
     "text": [
      "8\n",
      "6\n",
      "15\n",
      "1.5\n",
      "1\n",
      "3\n",
      "1000\n",
      "14\n",
      "0.30000000000000004\n"
     ]
    }
   ],
   "source": [
    "print(3 + 5) # 加\n",
    "print(8 - 2) # 減\n",
    "print(3 * 5) # 乘\n",
    "print(3 / 2) # 除\n",
    "print(3 // 2) # 商\n",
    "print(13 % 10) # 餘\n",
    "print(10 ** 3) # 指數\n",
    "print((3 + 4) * 2) # 先乘除後加減\n",
    "print(0.1 + 0.2) # 小數點誤差\n"
   ]
  },
  {
   "cell_type": "markdown",
   "metadata": {
    "slideshow": {
     "slide_type": "slide"
    }
   },
   "source": [
    "\n",
    "## 比較運算子\n",
    "\n",
    "<pre>\n",
    "<  : 小於\n",
    "<=  : 小於等於\n",
    "> : 大於\n",
    ">= : 大於等於\n",
    "== : 相等\n",
    "!= : 不等於\n",
    "</pre>"
   ]
  },
  {
   "cell_type": "code",
   "execution_count": 6,
   "metadata": {},
   "outputs": [
    {
     "name": "stdout",
     "output_type": "stream",
     "text": [
      "False\n"
     ]
    }
   ],
   "source": [
    "print(0.1 + 0.2 == 0.3) # 小數點誤差"
   ]
  },
  {
   "cell_type": "markdown",
   "metadata": {},
   "source": [
    "## 運算優先順序\n",
    "\n",
    "下面的表格中列出了 Python 中的各種運算的優先順序順序。不過，就一般情況而言，不需要記憶，完全可以按照數學中的去理解，因為人類既然已經發明瞭數學，在計算機中進行的運算就不需要從新編寫一套新規範了，只需要符合數學中的即可。\n",
    "\n",
    "\n",
    "\n",
    "\n",
    "![img](images/operator.jpg)\n",
    "\n",
    "<table><thead><tr><th>運算子</th><th>描述</th></tr></thead><tbody><tr><td>lambda</td><td>Lambda 表示式</td></tr><tr><td>or</td><td>布林“或”</td></tr><tr><td>and</td><td>布林“與”</td></tr><tr><td>not x</td><td>布林“非”</td></tr><tr><td>in，not in</td><td>成員測試</td></tr><tr><td>is，is not</td><td>同一性測試</td></tr><tr><td>&lt;，&lt;=，&gt;，&gt;=，!=，==</td><td>比較</td></tr><tr><td>|</td><td>按位或</td></tr><tr><td>^</td><td>按位異或</td></tr><tr><td>&amp;</td><td>按位與</td></tr><tr><td>&lt;&lt;，&gt;&gt;</td><td>移位</td></tr><tr><td> ，-</td><td>加法與減法</td></tr><tr><td>*，/，%</td><td>乘法、除法與取餘</td></tr><tr><td> x，-x</td><td>正負號</td></tr><tr><td>~x</td><td>按位翻轉</td></tr><tr><td>**</td><td>指數</td></tr><tr><td>x.attribute</td><td>屬性參考</td></tr><tr><td>x[index]</td><td>下標</td></tr><tr><td>x[index:index]</td><td>定址段</td></tr><tr><td>f(arguments…)</td><td>函式呼叫</td></tr><tr><td>(experession,…)</td><td>繫結或元組顯示</td></tr><tr><td>[expression,…]</td><td>列表顯示</td></tr><tr><td>{key:datum,…}</td><td>字典顯示</td></tr><tr><td>‘expression,…’</td><td>字串轉換</td></tr></tbody></table>\n"
   ]
  },
  {
   "cell_type": "markdown",
   "metadata": {},
   "source": [
    "## 變數觀念\n",
    "\n",
    "### Python 宣告變數雖然不需要指定變數資料型態，但它仍然是強資料型態語言。\n",
    "\n",
    "![](images/variable.png)\n"
   ]
  },
  {
   "cell_type": "code",
   "execution_count": 16,
   "metadata": {},
   "outputs": [],
   "source": [
    "a = 5\n",
    "\n",
    "b = 3.14\n",
    "c = True\n",
    "d = \"Hello world\""
   ]
  },
  {
   "cell_type": "markdown",
   "metadata": {
    "slideshow": {
     "slide_type": "slide"
    }
   },
   "source": [
    "## 基本資料型態\n",
    "* 布林(Boolean):True/False \n",
    "* 整數(Integer): 整數沒有大小限制 e.q. 2016\n",
    "* 浮點數(Float): 有小數點的數字 e.q.  3.14159\n",
    "* 字串(String): 字串 e.q. “Hello”, ‘Hello’"
   ]
  },
  {
   "cell_type": "code",
   "execution_count": 8,
   "metadata": {
    "slideshow": {
     "slide_type": "subslide"
    }
   },
   "outputs": [
    {
     "name": "stdout",
     "output_type": "stream",
     "text": [
      "<class 'int'>\n",
      "<class 'float'>\n",
      "<class 'bool'>\n",
      "<class 'str'>\n"
     ]
    }
   ],
   "source": [
    "a = 5\n",
    "print(type(a))\n",
    "\n",
    "b = 3.1415926\n",
    "print(type(b))\n",
    "\n",
    "c = True\n",
    "print(type(c))\n",
    "\n",
    "d = \"Hello\"\n",
    "print(type(d))"
   ]
  },
  {
   "cell_type": "markdown",
   "metadata": {
    "slideshow": {
     "slide_type": "subslide"
    }
   },
   "source": [
    "## 資料型態轉換\n",
    "\n",
    "轉換成整數：  \n",
    "int(3.14) = 3  # 無條件捨去  \n",
    "int(“12”) = 12 # 變成可運算的數字  \n",
    "轉換成浮點數：  \n",
    "float(“3.14”) = 3.14  \n",
    "轉換成字串：  \n",
    "str(3.14) =  \"3.14\"  \n"
   ]
  },
  {
   "cell_type": "code",
   "execution_count": 17,
   "metadata": {
    "slideshow": {
     "slide_type": "subslide"
    }
   },
   "outputs": [
    {
     "name": "stdout",
     "output_type": "stream",
     "text": [
      "3\n",
      "14\n",
      "<class 'str'>\n",
      "3.1415926\n",
      "<class 'float'>\n",
      "3.1415926\n"
     ]
    }
   ],
   "source": [
    "\n",
    "print(int(3.1415926)) # 從浮點數轉換到整數會造成誤差。\n",
    "print(int(\"12\") + 2)\n",
    "pi = \"3.1415926\"\n",
    "print(type(pi))\n",
    "print(float(pi))\n",
    "print(type( float(pi) ))\n",
    "\n",
    "print(str(3.1415926))\n"
   ]
  },
  {
   "cell_type": "markdown",
   "metadata": {
    "slideshow": {
     "slide_type": "slide"
    }
   },
   "source": [
    "## 鍵盤輸入\n",
    "\n",
    "    input(\"提示\")"
   ]
  },
  {
   "cell_type": "code",
   "execution_count": 19,
   "metadata": {},
   "outputs": [
    {
     "name": "stdout",
     "output_type": "stream",
     "text": [
      "2019\n",
      "<class 'str'>\n",
      "您出生於民國 108 年\n"
     ]
    }
   ],
   "source": [
    "year = input()\n",
    "\n",
    "print(type(year))\n",
    "\n",
    "print(\"您出生於民國\", int(year)-1911, \"年\")\n"
   ]
  },
  {
   "cell_type": "markdown",
   "metadata": {},
   "source": [
    "# 內建函式庫與標準函式庫\n",
    "\n",
    "Python 內建許多必要的函式，像是 input()、print() 與 len() 等，除此之外還有一些常用的函式庫，視需要再 import 即可，稱為標準函式庫，像是 math 或者 random。"
   ]
  },
  {
   "cell_type": "markdown",
   "metadata": {},
   "source": [
    "## 數學函式庫\n",
    "\n",
    "\n",
    "一些常見的數學函數已經被包含在數學函式庫當中了。\n",
    "\n",
    "引用函式庫 math，即可使用。\n",
    "\n",
    "詳細引用規範請參閱 [6. Python 引入模組與套件](6. Python 引入模組與套件.ipynb)\n",
    "\n",
    "### 函數的提示\n",
    "\n",
    "在 IDLE 中快速鍵 ctrl + shift + space 可以跳出內建函示庫提示\n",
    "\n",
    "![](images/IDLE_內建函示庫提示.PNG)\n",
    "\n",
    "\n",
    "在 IDLE 當中，鍵入函示庫名稱之後接上 . 等待 3秒鐘 即可提示該函示庫內有哪些函數可以使用\n",
    "\n",
    "![](images/IDLE_函數提示.PNG)\n",
    "\n",
    "\n",
    "函數用法提示:\n",
    "\n",
    "![](images/IDLE_函數用法.PNG)\n"
   ]
  },
  {
   "cell_type": "code",
   "execution_count": 24,
   "metadata": {},
   "outputs": [
    {
     "name": "stdout",
     "output_type": "stream",
     "text": [
      "圓周率: 3.141592653589793\n",
      "['__doc__', '__loader__', '__name__', '__package__', '__spec__', 'acos', 'acosh', 'asin', 'asinh', 'atan', 'atan2', 'atanh', 'ceil', 'copysign', 'cos', 'cosh', 'degrees', 'e', 'erf', 'erfc', 'exp', 'expm1', 'fabs', 'factorial', 'floor', 'fmod', 'frexp', 'fsum', 'gamma', 'gcd', 'hypot', 'inf', 'isclose', 'isfinite', 'isinf', 'isnan', 'ldexp', 'lgamma', 'log', 'log10', 'log1p', 'log2', 'modf', 'nan', 'pi', 'pow', 'radians', 'sin', 'sinh', 'sqrt', 'tan', 'tanh', 'tau', 'trunc']\n",
      "Help on built-in function sqrt in module math:\n",
      "\n",
      "sqrt(...)\n",
      "    sqrt(x)\n",
      "    \n",
      "    Return the square root of x.\n",
      "\n",
      "None\n",
      "平方根: 3.0\n",
      "無條件捨去: 3\n",
      "絕對值: 2.0\n",
      "絕對值: 2\n",
      "Help on built-in function round in module builtins:\n",
      "\n",
      "round(...)\n",
      "    round(number[, ndigits]) -> number\n",
      "    \n",
      "    Round a number to a given precision in decimal digits (default 0 digits).\n",
      "    This returns an int when called with one argument, otherwise the\n",
      "    same type as the number. ndigits may be negative.\n",
      "\n",
      "四捨五入(整數): 1\n",
      "四捨五入(整數): 2\n",
      "四捨五入(小數2位) 1.23\n",
      "四捨五入(小數2位) 1.24\n"
     ]
    }
   ],
   "source": [
    "import math\n",
    "\n",
    "print('圓周率:', math.pi)\n",
    "\n",
    "# 查看函式庫裡面有哪些函式可供使用；\n",
    "print(dir(math))\n",
    "\n",
    "# 查看函式的使用方法\n",
    "print(help(math.sqrt))\n",
    "\n",
    "print('平方根:', math.sqrt(9))\n",
    "print('無條件捨去:', math.floor(3.99))\n",
    "print('絕對值:', math.fabs(-2)) # 等價於 abs(-2)\n",
    "print('絕對值:', abs(-2))\n",
    "\n",
    "help(round)\n",
    "print('四捨五入(整數):', round(1.234))\n",
    "print('四捨五入(整數):', round(1.734))\n",
    "print('四捨五入(小數2位)', round(1.234,2))\n",
    "print('四捨五入(小數2位)', round(1.235,2))"
   ]
  },
  {
   "cell_type": "markdown",
   "metadata": {},
   "source": [
    "## [Python 中关于 round 函数的小坑](http://www.runoob.com/w3cnote/python-round-func-note.html)"
   ]
  },
  {
   "cell_type": "markdown",
   "metadata": {},
   "source": [
    "### 無限大的數"
   ]
  },
  {
   "cell_type": "code",
   "execution_count": 7,
   "metadata": {
    "scrolled": true
   },
   "outputs": [
    {
     "name": "stdout",
     "output_type": "stream",
     "text": [
      "無窮大: inf\n",
      "無窮大: inf\n",
      "無窮小: -inf\n"
     ]
    }
   ],
   "source": [
    "# 第一種寫法\n",
    "import math\n",
    "test = math.inf\n",
    "\n",
    "print('無窮大:', test)\n",
    "\n",
    "# 第二種寫法\n",
    "test = float('inf')\n",
    "print('無窮大:', test)\n",
    "\n",
    "print('無窮小:', -test)"
   ]
  },
  {
   "cell_type": "markdown",
   "metadata": {},
   "source": [
    "## 註解\n",
    "\n",
    "    # 為單行註解\n",
    "    ''' 為多行註解\n",
    "    '''"
   ]
  },
  {
   "cell_type": "code",
   "execution_count": 3,
   "metadata": {},
   "outputs": [
    {
     "name": "stdout",
     "output_type": "stream",
     "text": [
      "\n"
     ]
    }
   ],
   "source": [
    "# 單行註解\n",
    "\n",
    "'''\n",
    "多行註解\n",
    "'''\n",
    "\n",
    "print()"
   ]
  },
  {
   "cell_type": "markdown",
   "metadata": {},
   "source": [
    "### 變數賦值"
   ]
  },
  {
   "cell_type": "code",
   "execution_count": 1,
   "metadata": {},
   "outputs": [
    {
     "name": "stdout",
     "output_type": "stream",
     "text": [
      "15 15 15\n",
      "3 8\n",
      "3 hellohellohello\n",
      "3 5\n",
      "5 3\n"
     ]
    }
   ],
   "source": [
    "a = 5\n",
    "\n",
    "# 多重賦值\n",
    "a = b = c = 15\n",
    "print(a, b, c)\n",
    "\n",
    "# 多重賦值, 可以用於不同型態\n",
    "a, b = 3, 8\n",
    "print(a, b)\n",
    "\n",
    "x, y = 3, \"hello\"\n",
    "print(x, y*x)\n",
    "\n",
    "# 變數值交換\n",
    "a = 3\n",
    "b = 5\n",
    "print(a, b)\n",
    "a, b = b, a\n",
    "print(a, b)\n",
    "\n",
    "tmp = a\n",
    "a = b \n",
    "b = tmp\n"
   ]
  },
  {
   "cell_type": "markdown",
   "metadata": {},
   "source": [
    "### 亂數"
   ]
  },
  {
   "cell_type": "code",
   "execution_count": 1,
   "metadata": {},
   "outputs": [
    {
     "name": "stdout",
     "output_type": "stream",
     "text": [
      "3\n",
      "0.43512010816296454\n",
      "[2230, 2843, 9848, 8166, 86, 5995, 2303, 4687, 6214, 6844, 1034, 5622, 6283, 2869, 3542, 8183, 9811, 3101, 3652, 5522, 6848, 3322, 1579, 9064, 9194, 6160, 320, 1628, 8293, 6756, 54, 5010, 5607, 8790, 1213, 9571, 7855, 5387, 3220, 691, 4709, 9746, 8002, 3601, 3448, 3015, 2480, 248, 8773, 2858, 2178, 5279, 7988, 962, 7859, 3667, 6568, 4481, 4547, 6657, 1697, 5029, 7633, 9398, 7024, 1159, 4849, 8681, 845, 2945, 9189, 8356, 8186, 6203, 5141, 1891, 3132, 4507, 3098, 3763, 6895, 8903, 3999, 5347, 7975, 4543, 4890, 5902, 3394, 8305, 6283, 3141, 1669, 9813, 9337, 8395, 2313, 2347, 2738, 6049]\n"
     ]
    }
   ],
   "source": [
    "from random import *\n",
    "\n",
    "# 產生一個 0 <= randint <=9 之間的一組整數亂數\n",
    "print(randint(0, 9))\n",
    "\n",
    "# 產生一個 0 <= rand <=1 之間的一組浮點數亂數\n",
    "print(random())\n",
    "\n",
    "ll = []\n",
    "for _ in range(100):\n",
    "    ll.append(randint(0, 9999))\n",
    "    \n",
    "print(ll)"
   ]
  },
  {
   "cell_type": "markdown",
   "metadata": {},
   "source": [
    "# 更多運算子"
   ]
  },
  {
   "cell_type": "markdown",
   "metadata": {},
   "source": [
    "## 位元運算 \n",
    "\n",
    "Python 的位移運算子 (shifting operator) 也屬於位元運算子 (bitwise operator) 的一種，全部如下列表\n",
    "<table width=\"90%\" border=\"1\" align=\"center\"><tbody><tr><th align=\"center\">運算子</th><th align=\"center\">功能</th><th align=\"center\">範例</th></tr>\n",
    "<tr><td align=\"center\">&lt;&lt;</td><td align=\"center\">向左位移</td><td align=\"center\">a &lt;&lt; n</td></tr>\n",
    "<tr><td align=\"center\">&gt;&gt;</td><td align=\"center\">向右位移</td><td align=\"center\">a &gt;&gt; n</td></tr>\n",
    "<tr><td align=\"center\">&amp;</td><td align=\"center\">位元且</td><td align=\"center\">a &amp; b</td></tr>\n",
    "<tr><td align=\"center\">|</td><td align=\"center\">位元包含或</td><td align=\"center\">a | b</td></tr>\n",
    "<tr><td align=\"center\">^</td><td align=\"center\">位元互斥或</td><td align=\"center\">a ^ b</td></tr>\n",
    "<tr><td align=\"center\">~</td><td align=\"center\">位元相反</td><td align=\"center\">~a </td></tr>\n",
    "</tbody></table>"
   ]
  },
  {
   "cell_type": "code",
   "execution_count": 1,
   "metadata": {},
   "outputs": [
    {
     "name": "stdout",
     "output_type": "stream",
     "text": [
      "-6\n",
      "12\n",
      "0\n",
      "1\n",
      "7\n",
      "6\n"
     ]
    }
   ],
   "source": [
    "a = 5\n",
    "b = 3\n",
    " \n",
    "print(~a)\n",
    "print(b << 2)\n",
    "print(b >> 2)\n",
    "print(a & b)\n",
    "print(a | b)\n",
    "print(a ^ b)"
   ]
  },
  {
   "cell_type": "markdown",
   "metadata": {},
   "source": [
    "## 關係運算子\n",
    "\n",
    "Python 的關係運算子 (comparison operator) 需要兩個運算元 (operand) ，如下列表\n",
    "\n",
    "<table width=\"90%\" border=\"1\" align=\"center\"><tbody><tr><th align=\"center\">運算子</th><th align=\"center\">功能</th><th align=\"center\">範例</th></tr>\n",
    "<tr><td align=\"center\">&lt;</td><td align=\"center\">小於</td><td align=\"center\">a &lt; b</td></tr>\n",
    "<tr><td align=\"center\">&gt;</td><td align=\"center\">大於</td><td align=\"center\">a &gt; b</td></tr>\n",
    "<tr><td align=\"center\">&lt;=</td><td align=\"center\">小於等於</td><td align=\"center\">a &lt;= b</td></tr>\n",
    "<tr><td align=\"center\">&gt;=</td><td align=\"center\">大於等於</td><td align=\"center\">a &gt;= b</td></tr>\n",
    "<tr><td align=\"center\">==</td><td align=\"center\">相等</td><td align=\"center\">a == b</td></tr>\n",
    "<tr><td align=\"center\">!=</td><td align=\"center\">不相等</td><td align=\"center\">a != b</td></tr>\n",
    "</tbody></table>"
   ]
  },
  {
   "cell_type": "code",
   "execution_count": 8,
   "metadata": {
    "scrolled": true
   },
   "outputs": [
    {
     "name": "stdout",
     "output_type": "stream",
     "text": [
      "True\n",
      "4\n",
      "3\n"
     ]
    }
   ],
   "source": [
    "a = 3\n",
    "b = 5\n",
    "\n",
    "print(a<b)\n",
    "print(a + (a<b) ) # True 會以 1 進行整數運算\n",
    "print(a + (a>b) ) # False 會以 0 進行整數運算\n"
   ]
  },
  {
   "cell_type": "markdown",
   "metadata": {},
   "source": [
    "## 指派運算\n",
    "\n",
    "Python 最基本的指派運算子 (assignment operator) 為單一個等號 = ，這是用來將等號右邊的值拷貝給給左邊的變數 (variable) 資料。等號也可以跟其他運算子 (operator) 合用，會直接將結果儲存到原變數之中，如\n",
    "\n",
    "<table width=\"90%\" border=\"1\" align=\"center\"><tbody><tr><th>運算子</th><th>功能</th><th>範例</th></tr>\n",
    "<tr><td>=</td><td>指派</td><td>a = b</td></tr>\n",
    "<tr><td>+=</td><td>相加同時指派</td><td>a += b</td></tr>\n",
    "<tr><td>-=</td><td>相減同時指派</td><td>a -= b</td></tr>\n",
    "<tr><td>\\*=</td><td>相乘同時指派</td><td>a *= b</td></tr>\n",
    "<tr><td>**=</td><td>取指數同時指派</td><td>a **= b</td></tr>\n",
    "<tr><td>/=</td><td>相除同時指派</td><td>a /= b</td></tr>\n",
    "<tr><td>//=</td><td>整數相除同時指派</td><td>a //= b</td></tr>\n",
    "<tr><td>%=</td><td>取餘數同時指派</td><td>a %= b</td></tr>\n",
    "<tr><td>&amp;=</td><td>位元且同時指派</td><td>a &amp;= b</td></tr>\n",
    "<tr><td>^=</td><td>位元互斥或同時指派</td><td>a ^= b</td></tr>\n",
    "<tr><td>|=</td><td>位元包含或同時指派</td><td>a |= b</td></tr>\n",
    "<tr><td>&lt;&lt;=</td><td>向左位移同時指派</td><td>a &lt;&lt;= b</td></tr>\n",
    "<tr><td>&gt;&gt;=</td><td>向右位移同時指派</td><td>a &gt;&gt;= b</td></tr>\n",
    "</tbody></table>"
   ]
  },
  {
   "cell_type": "code",
   "execution_count": 9,
   "metadata": {},
   "outputs": [
    {
     "name": "stdout",
     "output_type": "stream",
     "text": [
      "3\n",
      "2\n",
      "44\n",
      "85184\n",
      "12169.142857142857\n",
      "2433.0\n",
      "0.0\n"
     ]
    }
   ],
   "source": [
    "a = 1\n",
    " \n",
    "a += 2\n",
    "print(a)\n",
    " \n",
    "a -= 1\n",
    "print(a)\n",
    " \n",
    "a *= 22\n",
    "print(a)\n",
    " \n",
    "a **= 3\n",
    "print(a)\n",
    " \n",
    "a /= 7\n",
    "print(a)\n",
    " \n",
    "a //= 5\n",
    "print(a)\n",
    " \n",
    "a %= 3\n",
    "print(a)"
   ]
  },
  {
   "cell_type": "markdown",
   "metadata": {},
   "source": [
    "## 邏輯運算子\n",
    "\n",
    "Python 的邏輯運算子 (logical operator) 為關鍵字 (keyword) 中的 and 、 or 與 not ， and 為邏輯且，前後兩個運算元 (operand) 都為真，運算式 (expression) 才為真， or 為邏輯或，前後兩個運算元有一個為真，運算式就為真， not 為邏輯否，也就是真變成假，假變成真。\n",
    "\n"
   ]
  },
  {
   "cell_type": "code",
   "execution_count": 13,
   "metadata": {},
   "outputs": [
    {
     "name": "stdout",
     "output_type": "stream",
     "text": [
      "a < b\n"
     ]
    }
   ],
   "source": [
    "a = 12\n",
    "b = 22\n",
    " \n",
    "if a > b and a != b:\n",
    "    print(\"a > b\")\n",
    "\n",
    "if a < b or a != b:\n",
    "    print(\"a < b\")\n",
    "    \n",
    "if not a:\n",
    "    print(\"a is false\")\n",
    " "
   ]
  },
  {
   "cell_type": "markdown",
   "metadata": {},
   "source": [
    "## 運算式 is運算 \n",
    "\n",
    "is 為 Python 的關鍵字 (keyword) 之一，用來判斷兩個物件 (object) 是否相等，也就是判斷由內建函數 (function) id() 回傳的 id 號碼是否一樣。\n",
    "\n"
   ]
  },
  {
   "cell_type": "code",
   "execution_count": 17,
   "metadata": {},
   "outputs": [
    {
     "name": "stdout",
     "output_type": "stream",
     "text": [
      "a is b\n",
      "a is not b\n"
     ]
    }
   ],
   "source": [
    "a = 12\n",
    "b = 12\n",
    "c = 22\n",
    " \n",
    "if a is b:\n",
    "    print(\"a is b\")\n",
    "\n",
    "if a is c:\n",
    "    print(\"a is c\")\n",
    "    \n",
    "\n",
    "# 但是 is 與 is not 的使用需注意一點，對於可變 (mutable) 的資料型態，例如串列 (list) 就算有相同的內容，實際上仍會是不同的物件，例如\n",
    "    \n",
    "a = []\n",
    "b = []\n",
    " \n",
    "if a is b:\n",
    "    print(\"a is b\")\n",
    "\n",
    "if a is not b:\n",
    "    print(\"a is not b\")"
   ]
  },
  {
   "cell_type": "markdown",
   "metadata": {},
   "source": [
    "## 運算式 in運算 \n",
    "\n",
    "in 為 Python 的關鍵字 (keyword) 之一，用來判斷複合資料型態 (compound data type) 之中否有某個元素 (element) ，也就是在可包含其他物件 (object) 的物件之中判斷是否有某個物件。\n",
    "\n"
   ]
  },
  {
   "cell_type": "code",
   "execution_count": 19,
   "metadata": {},
   "outputs": [
    {
     "name": "stdout",
     "output_type": "stream",
     "text": [
      "'5' in a\n",
      "5 in b\n"
     ]
    }
   ],
   "source": [
    "a = \"0123456789\"\n",
    "b = [0, 1, 2, 3, 4, 5, 6, 7, 8, 9]\n",
    " \n",
    "if \"5\" in a:\n",
    "    print(\"'5' in a\")\n",
    "\n",
    "if \"a\" in a:\n",
    "    print(\"'a' in a\")\n",
    "\n",
    "if \"5\" in b:\n",
    "    print(\"'5' in b\")\n",
    "\n",
    "if 5 in b:\n",
    "    print(\"5 in b\")"
   ]
  }
 ],
 "metadata": {
  "celltoolbar": "Slideshow",
  "kernelspec": {
   "display_name": "Python 3",
   "language": "python",
   "name": "python3"
  },
  "language_info": {
   "codemirror_mode": {
    "name": "ipython",
    "version": 3
   },
   "file_extension": ".py",
   "mimetype": "text/x-python",
   "name": "python",
   "nbconvert_exporter": "python",
   "pygments_lexer": "ipython3",
   "version": "3.6.5"
  }
 },
 "nbformat": 4,
 "nbformat_minor": 1
}

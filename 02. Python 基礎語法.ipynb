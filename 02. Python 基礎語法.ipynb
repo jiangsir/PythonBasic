{
 "cells": [
  {
   "cell_type": "markdown",
   "metadata": {},
   "source": [
    "# Python 基本語法\n",
    "\n",
    "## * 基本字串顯示\n",
    "## * 變數賦值\n",
    "## * 讀取鍵盤輸入 input\n",
    "## * 格式化輸出 fstrings\n"
   ]
  },
  {
   "cell_type": "markdown",
   "metadata": {
    "slideshow": {
     "slide_type": "slide"
    }
   },
   "source": [
    "## 基本字串顯示\n",
    "\n",
    "print() 是一個函數，可接受一個文字或數字做為參數。\n",
    "\n",
    "在 Python 中，使用單引號（'）或雙引號（\"）包起來的資料都是字串。然而，以單引號包起來的字串，如果在字串資料中遇到單引號時，則必須以 \\ 來跳脫（escape）處理，避免被誤認為字串結束。\n",
    "\n",
    "\n",
    "\n",
    "\n"
   ]
  },
  {
   "cell_type": "code",
   "execution_count": 1,
   "metadata": {
    "slideshow": {
     "slide_type": "subslide"
    },
    "tags": []
   },
   "outputs": [
    {
     "name": "stdout",
     "output_type": "stream",
     "text": [
      "hello, world\n",
      "hello, world\n",
      "I'm Sorry.\n",
      "print(\"hello, world\")\n",
      "print(\"I'm Sorry.\")\n",
      "顯示反斜線 \\\n",
      "C:\\Users\\user\\Desktop\\test.py\n",
      "\\t\\n\\r 特殊符號通通無效\n",
      "\n",
      "<HTML><HEAD><TITLE>Friends CGI Demo\n",
      "</TITLE></HEAD>\n",
      "<BODY><H3>ERROR</H3>\n",
      "<B>%s</B><P>\n",
      "<FORM><INPUT TYPE=button VALUE=Back\n",
      "ONCLICK=\"window.history.back()\"></FORM>\n",
      "</BODY></HTML>\n",
      "\n"
     ]
    }
   ],
   "source": [
    "print(\"hello, world\")\n",
    "print('hello, world')\n",
    "\n",
    "print(\"I'm Sorry.\") #  字串內要顯示 '(單引號) ，外部的字串邊界符就要使用 \"(雙引號)\n",
    "print('print(\"hello, world\")') # 字串內要顯示 \"(雙引號) ，外部的字串邊界符就要使用 '(單引號)\n",
    "\n",
    "'''\n",
    "Escape 字元用來將它的下一個字元變成普通字元，也就是失去它的所有特殊意義。\n",
    "\n",
    "'''\n",
    "print(\"print(\\\"I'm Sorry.\\\")\") # 用反斜線 \\ (Escape字元)將下一個字元\"(雙引號)降階成為一個普通字元。\n",
    "\n",
    "print(\"顯示反斜線 \\\\\") # 用兩個反斜線顯示一個反斜線\n",
    "print('C:\\\\Users\\\\user\\\\Desktop\\\\test.py') # windows 路徑\n",
    "\n",
    "print(r'\\t\\n\\r 特殊符號通通無效') # row string 原始字串\n",
    "\n",
    "# 三引號 方便放置複雜多行的字串\n",
    "s = '''\n",
    "<HTML><HEAD><TITLE>Friends CGI Demo\n",
    "</TITLE></HEAD>\n",
    "<BODY><H3>ERROR</H3>\n",
    "<B>%s</B><P>\n",
    "<FORM><INPUT TYPE=button VALUE=Back\n",
    "ONCLICK=\"window.history.back()\"></FORM>\n",
    "</BODY></HTML>\n",
    "'''\n",
    "print(s)\n"
   ]
  },
  {
   "cell_type": "code",
   "execution_count": 2,
   "metadata": {
    "tags": []
   },
   "outputs": [
    {
     "name": "stdout",
     "output_type": "stream",
     "text": [
      "HelloBeauty\n",
      "hello2019\n",
      "Hello world 2016\n",
      "Hello Beauty Beauty Beauty Beauty Beauty Beauty Beauty Beauty Beauty Beauty Beauty Beauty Beauty Beauty Beauty Beauty Beauty Beauty Beauty Beauty Beauty Beauty Beauty Beauty Beauty Beauty Beauty Beauty Beauty Beauty Beauty Beauty Beauty Beauty Beauty Beauty Beauty Beauty Beauty Beauty Beauty Beauty Beauty Beauty Beauty Beauty Beauty Beauty Beauty Beauty Beauty Beauty Beauty Beauty Beauty Beauty Beauty Beauty Beauty Beauty Beauty Beauty Beauty Beauty Beauty Beauty Beauty Beauty Beauty Beauty Beauty Beauty Beauty Beauty Beauty Beauty Beauty Beauty Beauty Beauty Beauty Beauty Beauty Beauty Beauty Beauty Beauty Beauty Beauty Beauty Beauty Beauty Beauty Beauty Beauty Beauty Beauty Beauty Beauty Beauty\n",
      "helloworld\n",
      "字串的長度= 10\n"
     ]
    }
   ],
   "source": [
    "# 字串串接\n",
    "\n",
    "print(\"Hello\" + \"Beauty\") # 用 + 串接字串\n",
    "print(\"hello\" + str(2019)) # 不能串接數字，要把數字轉成字串\n",
    "print(\"Hello\", \"world\", 2016) # 串接！不同資料形態的串接\n",
    "\n",
    "# 字串重複\n",
    "print(\"Hello\" + \" Beauty\"*100)\n",
    "\n",
    "print(\"hello\", end='') # 字尾不換行\n",
    "print('world')\n",
    "\n",
    "print(\"字串的長度=\", len(\"helloooooo\")) #字串長度 字串串數字用 , "
   ]
  },
  {
   "cell_type": "markdown",
   "metadata": {},
   "source": [
    "## 註解\n",
    "\n",
    "    # 為單行註解\n",
    "    ''' 為多行註解\n",
    "    '''"
   ]
  },
  {
   "cell_type": "code",
   "execution_count": 6,
   "metadata": {
    "tags": []
   },
   "outputs": [
    {
     "name": "stdout",
     "output_type": "stream",
     "text": [
      "hello, world\n"
     ]
    }
   ],
   "source": [
    "# 單行註解\n",
    "\n",
    "#################\n",
    "# 註解\n",
    "#################\n",
    "\n",
    "'''\n",
    "多行註解\n",
    "多行註解\n",
    "多行註解\n",
    "'''\n",
    "\n",
    "print('hello, world')\n",
    "# print('hello, world')"
   ]
  },
  {
   "cell_type": "markdown",
   "metadata": {},
   "source": [
    "## 變數\n",
    "\n",
    "### 首先先了解什麼是資料型態? 資料型態指的是背後的儲存機制，比如: 一個 word 圖檔，不是文字，本質是圖。\n",
    "\n",
    "### Python 宣告變數雖然不需要指定變數資料型態，但它仍然是強資料型態語言。\n",
    "\n",
    "![](images/variable.png)\n"
   ]
  },
  {
   "source": [
    "## 變數賦值"
   ],
   "cell_type": "markdown",
   "metadata": {}
  },
  {
   "cell_type": "code",
   "execution_count": 2,
   "metadata": {},
   "outputs": [],
   "source": [
    "# 變數賦值\n",
    "a = 5\n",
    "b = 3.14\n",
    "c = True\n",
    "d = \"Hello world\""
   ]
  },
  {
   "cell_type": "code",
   "execution_count": 3,
   "metadata": {},
   "outputs": [
    {
     "output_type": "stream",
     "name": "stdout",
     "text": [
      "5\n15 15 15\n"
     ]
    }
   ],
   "source": [
    "# 賦值\n",
    "a = 5\n",
    "print(a)\n",
    "\n",
    "# 多重賦值\n",
    "a = b = c = 15\n",
    "print(a, b, c)"
   ]
  },
  {
   "cell_type": "code",
   "execution_count": 1,
   "metadata": {},
   "outputs": [
    {
     "output_type": "stream",
     "name": "stdout",
     "text": [
      "3 8\n"
     ]
    }
   ],
   "source": [
    "# 多重賦值\n",
    "a, b = 3, 8\n",
    "print(a, b)"
   ]
  },
  {
   "cell_type": "code",
   "execution_count": 5,
   "metadata": {},
   "outputs": [
    {
     "output_type": "stream",
     "name": "stdout",
     "text": [
      "3 hellohellohello\n"
     ]
    }
   ],
   "source": [
    "# 多重賦值, 可以用於不同型態\n",
    "x, y = 3, \"hello\"\n",
    "print(x, y*x)"
   ]
  },
  {
   "cell_type": "code",
   "execution_count": 8,
   "metadata": {},
   "outputs": [
    {
     "output_type": "stream",
     "name": "stdout",
     "text": [
      "3 5\n5 3\n3 5\n"
     ]
    }
   ],
   "source": [
    "a = 3\n",
    "b = 5\n",
    "print(a, b)\n",
    "\n",
    "# 變數值交換\n",
    "a, b = b, a\n",
    "print(a, b)\n",
    "\n",
    "# 變數值交換，另解\n",
    "tmp = a\n",
    "a = b \n",
    "b = tmp\n",
    "print(a, b)"
   ]
  },
  {
   "cell_type": "markdown",
   "metadata": {},
   "source": [
    "## 變數命名原則\n",
    "* 不可使用保留字\n",
    "* 清楚表達變數意義，勿使用 a, b, c 等意味不明的命名。\n",
    "* 變數名稱開頭必須為英文字母。\n",
    "\n",
    "\n",
    "## 變數有效範圍\n",
    "* 最小有效範圍為原則。\n",
    "* 區域變數 VS 全域變數\n"
   ]
  },
  {
   "cell_type": "code",
   "execution_count": 4,
   "metadata": {},
   "outputs": [
    {
     "name": "stdout",
     "output_type": "stream",
     "text": [
      "b.x= 100\n",
      "b.y= 10\n",
      "x= 10\n"
     ]
    }
   ],
   "source": [
    "x = 10\n",
    "y = 10\n",
    "def b():\n",
    "    x = 100\n",
    "    print('b.x=', x)\n",
    "    print('b.y=', y)\n",
    "\n",
    "b() # 100 10\n",
    "print('x=',x) # 10"
   ]
  },
  {
   "cell_type": "markdown",
   "metadata": {
    "slideshow": {
     "slide_type": "slide"
    }
   },
   "source": [
    "## 基本資料型態\n",
    "* 布林(Boolean):True/False \n",
    "* 整數(Integer): 整數沒有大小限制 e.q. 2016\n",
    "* 浮點數(Float): 有小數點的數字 e.q.  3.14159\n",
    "* 字串(String): 字串 e.q. “Hello”, ‘Hello’"
   ]
  },
  {
   "cell_type": "code",
   "execution_count": 8,
   "metadata": {
    "slideshow": {
     "slide_type": "subslide"
    }
   },
   "outputs": [
    {
     "name": "stdout",
     "output_type": "stream",
     "text": [
      "<class 'int'>\n",
      "<class 'float'>\n",
      "<class 'bool'>\n",
      "<class 'str'>\n"
     ]
    }
   ],
   "source": [
    "a = 5\n",
    "print(type(a))\n",
    "\n",
    "b = 3.1415926\n",
    "print(type(b))\n",
    "\n",
    "c = True\n",
    "print(type(c))\n",
    "\n",
    "d = \"Hello\"\n",
    "print(type(d))"
   ]
  },
  {
   "cell_type": "markdown",
   "metadata": {
    "slideshow": {
     "slide_type": "subslide"
    }
   },
   "source": [
    "## 資料型態轉換\n",
    "\n",
    "轉換成整數：  \n",
    "int(3.14) = 3  # 無條件捨去  \n",
    "int(“12”) = 12 # 變成可運算的數字  \n",
    "轉換成浮點數：  \n",
    "float(“3.14”) = 3.14  \n",
    "轉換成字串：  \n",
    "str(3.14) =  \"3.14\"  \n"
   ]
  },
  {
   "cell_type": "code",
   "execution_count": 1,
   "metadata": {
    "slideshow": {
     "slide_type": "subslide"
    }
   },
   "outputs": [
    {
     "name": "stdout",
     "output_type": "stream",
     "text": [
      "3.0\n",
      "3\n",
      "<class 'str'>\n",
      "3.1415926\n",
      "<class 'float'>\n",
      "3.1415926\n",
      "6.1415926\n"
     ]
    }
   ],
   "source": [
    "print(float(3))\n",
    "print(int(3.1415926)) # 從浮點數轉換到整數會造成誤差。\n",
    "pi = \"3.1415926\"\n",
    "print(type(pi))\n",
    "print(float(pi))\n",
    "print(type( float(pi) ))\n",
    "print(str(3.1415926))\n",
    "\n",
    "## 系統不會猜測你的意圖，必須由人明確指定資料型態\n",
    "#print(pi + 2)\n",
    "print(float(pi) + 3)\n"
   ]
  },
  {
   "cell_type": "markdown",
   "metadata": {
    "slideshow": {
     "slide_type": "slide"
    }
   },
   "source": [
    "## 讀取鍵盤輸入\n",
    "\n",
    "    input(\"提示\")"
   ]
  },
  {
   "cell_type": "code",
   "execution_count": 9,
   "metadata": {
    "tags": []
   },
   "outputs": [
    {
     "name": "stdout",
     "output_type": "stream",
     "text": [
      "Hello, I am Sorry.\n"
     ]
    }
   ],
   "source": [
    "name = input()\n",
    "print('Hello, I am '+name+'.')"
   ]
  },
  {
   "cell_type": "code",
   "execution_count": 1,
   "metadata": {},
   "outputs": [
    {
     "name": "stdout",
     "output_type": "stream",
     "text": [
      "請輸入民國年:108\n",
      "<class 'str'>\n",
      "今年是西元 2019 年\n"
     ]
    }
   ],
   "source": [
    "year = input()\n",
    "print(type(year))\n",
    "\n",
    "c = int(year) + 1911\n",
    "\n",
    "print('今年是西元 ' + str(c) + ' 年')\n",
    "\n"
   ]
  },
  {
   "cell_type": "markdown",
   "metadata": {},
   "source": [
    "## 格式化輸出\n",
    "\n",
    "## python 3.6 以後新的 f-strings 寫法 (Literal String Interpolation)\n",
    "\n",
    "f-strings 的寫法為在字串中，插入一組代位符號 {} ，在代位符號內放入變數名稱或運算式。\n",
    "代位符號可用格式如下：\n",
    "\n",
    "## {var}  \n",
    "## {var+var}  \n",
    "## {var:format}  \n"
   ]
  },
  {
   "cell_type": "code",
   "execution_count": 1,
   "metadata": {},
   "outputs": [
    {
     "name": "stdout",
     "output_type": "stream",
     "text": [
      "His name is Tom, he's 3 years old.\n",
      "x+y=8\n",
      "The serial is 00002\n",
      "Pi is 3.14\n",
      "Numbers from 1-10 are [1, 2, 3, 4, 5, 6, 7, 8, 9, 10]\n",
      "tsmc price: 217.5\n",
      "TSMC price: 217.5\n"
     ]
    }
   ],
   "source": [
    "import math \n",
    "\n",
    "name = \"Tom\"\n",
    "age = 3\n",
    "print(f\"His name is {name}, he's {age} years old.\")\n",
    "\n",
    "'''\n",
    "fstring 運算式\n",
    "'''\n",
    "x = 3\n",
    "y = 5\n",
    "print(f'x+y={x+y}')\n",
    "\n",
    "'''\n",
    "數字格式化 整數保留 5 位，前面補零\n",
    "'''\n",
    "se = 2\n",
    "ss = f\"The serial is {se:05d}\"\n",
    "print(ss)\n",
    "\n",
    "'''\n",
    "數字格式化 :.2f 精確到小數點以下 2 位\n",
    "'''\n",
    "PI = math.pi \n",
    "print(f\"Pi is {PI:.2f}\")\n",
    "\n",
    "'''\n",
    "支援生成式\n",
    "'''\n",
    "print(f'Numbers from 1-10 are {[_ for _ in range(1, 11)]}')\n",
    "\n",
    "'''\n",
    "呼叫函數\n",
    "'''\n",
    "def upper(s):\n",
    "     return s.upper()\n",
    "\n",
    "stock = 'tsmc'\n",
    "close = 217.5\n",
    "print(f'{stock} price: {close}')\n",
    "\n",
    "print(f'{upper(stock)} price: {close}')"
   ]
  },
  {
   "cell_type": "markdown",
   "metadata": {},
   "source": [
    "## 進位制的轉換、二進位、16進位、8進位\n"
   ]
  },
  {
   "cell_type": "code",
   "execution_count": 3,
   "metadata": {},
   "outputs": [
    {
     "name": "stdout",
     "output_type": "stream",
     "text": [
      "f-string 寫法:  --------------------------------------------------\n",
      "二進位：00011111\n",
      "8進位：37\n",
      "16進位：1f\n"
     ]
    }
   ],
   "source": [
    "'''\n",
    "進位制轉換\n",
    "'''\n",
    "x = 31\n",
    "width = 8  # 數字寬度\n",
    "\n",
    "print('f-string 寫法: ', '-'*50)\n",
    "print(f'二進位：{x:0{width}b}')\n",
    "print(f'8進位：{x:o}')\n",
    "print(f'16進位：{x:x}')\n"
   ]
  },
  {
   "cell_type": "markdown",
   "metadata": {},
   "source": [
    "## 常見的格式化參數\n",
    "\n",
    "<table class=\"code\">\n",
    "<tbody><tr>\n",
    "<th> Number </th>\n",
    "<th> Format </th>\n",
    "<th> Output </th>\n",
    "<th> Description </th>\n",
    "</tr>\n",
    "<tr>\n",
    "<td> 3.1415926  </td>\n",
    "<td> {:.2f}  </td>\n",
    "<td> 3.14  </td>\n",
    "<td> 2 decimal places </td>\n",
    "</tr>\n",
    "<tr>\n",
    "<td> 3.1415926  </td>\n",
    "<td> {:+.2f} </td>\n",
    "<td> +3.14 </td>\n",
    "<td> 2 decimal places with sign </td>\n",
    "</tr>\n",
    "<tr>\n",
    "<td> -1         </td>\n",
    "<td> {:+.2f} </td>\n",
    "<td> -1.00 </td>\n",
    "<td> 2 decimal places with sign </td>\n",
    "</tr>\n",
    "<tr>\n",
    "<td> 2.71828    </td>\n",
    "<td> {:.0f}  </td>\n",
    "<td> 3   </td>\n",
    "<td> No decimal places </td>\n",
    "</tr>\n",
    "<tr>\n",
    "<td> 5          </td>\n",
    "<td> {:0&gt;2d} </td>\n",
    "<td> 05  </td>\n",
    "<td> Pad number with zeros (left padding, width 2) </td>\n",
    "</tr>\n",
    "<tr>\n",
    "<td> 5          </td>\n",
    "<td> {:x&lt;4d} </td>\n",
    "<td> 5xxx  </td>\n",
    "<td> Pad number with x’s (right padding, width 4) </td>\n",
    "</tr>\n",
    "<tr>\n",
    "<td> 10         </td>\n",
    "<td> {:x&lt;4d} </td>\n",
    "<td> 10xx  </td>\n",
    "<td> Pad number with x’s (right padding, width 4) </td>\n",
    "</tr>\n",
    "<tr>\n",
    "<td> 1000000    </td>\n",
    "<td> {:,}    </td>\n",
    "<td> 1,000,000  </td>\n",
    "<td> Number format with comma separator </td>\n",
    "</tr>\n",
    "<tr>\n",
    "<td> 0.25       </td>\n",
    "<td> {:.2%}  </td>\n",
    "<td> 25.00%  </td>\n",
    "<td> Format percentage </td>\n",
    "</tr>\n",
    "<tr>\n",
    "<td> 1000000000 </td>\n",
    "<td> {:.2e}  </td>\n",
    "<td> 1.00e+09 </td>\n",
    "<td> Exponent notation </td>\n",
    "</tr>\n",
    "<tr>\n",
    "<td> 13         </td>\n",
    "<td> {:10d}  </td>\n",
    "<td> &nbsp;&nbsp;&nbsp;&nbsp;&nbsp;&nbsp;&nbsp;&nbsp;13 </td>\n",
    "<td> Right aligned (default, width 10) </td>\n",
    "</tr>\n",
    "<tr>\n",
    "<td> 13         </td>\n",
    "<td> {:&lt;10d} </td>\n",
    "<td> 13 </td>\n",
    "<td> Left aligned (width 10) </td>\n",
    "</tr>\n",
    "<tr>\n",
    "<td> 13         </td>\n",
    "<td> {:^10d} </td>\n",
    "<td> &nbsp;&nbsp;&nbsp;&nbsp;13 </td>\n",
    "<td> Center aligned (width 10) </td>\n",
    "</tr>\n",
    "</tbody></table>\n",
    "\n",
    "\n",
    "①.當被修約的值爲5時，如果他前面的數爲偶數且被修約數的後面沒有數時則捨棄；\n",
    "\n",
    "②.當被修約的值爲5時，如果他前面的數爲奇數時則進位；\n",
    "\n",
    "③.當被修約的值爲5時，如果他前面的數爲偶數時且被修約數的後面還有數時，則進位。\n",
    "\n",
    "有點繁瑣，總之就一個概念“四捨六入五成雙”\n"
   ]
  },
  {
   "cell_type": "code",
   "execution_count": 4,
   "metadata": {},
   "outputs": [
    {
     "name": "stdout",
     "output_type": "stream",
     "text": [
      "固定寬度:      29\n",
      "固定寬度不足補 0 : 00029\n",
      "固定寬度不足補 0 : 00029\n",
      "指定小數點位數為2 : 3.14\n",
      "指定小數點位數為0 : 4\n",
      "四捨六入雙進位 : 2, 2, 4, 3\n",
      "顯示為百分比 : 45%\n",
      "The value of PI is approximately 3.142.\n",
      "The value of PI is approximately 3.142.\n"
     ]
    }
   ],
   "source": [
    "\n",
    "x = 29\n",
    "print(f'固定寬度: {x:7d}')\n",
    "print(f'固定寬度不足補 0 : {x:05d}')\n",
    "print(f'固定寬度不足補 0 : {x:05d}')\n",
    "y = 3.14159\n",
    "print(f'指定小數點位數為2 : {y:.2f}')\n",
    "\n",
    "x = 4.5\n",
    "print(f'指定小數點位數為0 : {x:.0f}')\n",
    "print(f'四捨六入雙進位 : {1.5:.0f}, {2.5:.0f}, {3.5:.0f}, {2.50001:.0f}')\n",
    "print(f'顯示為百分比 : {0.45:.0%}')\n",
    "\n",
    "# 舊式 代位字元\n",
    "print('The value of PI is approximately %5.3f.' % 3.14159)\n",
    "print('The value of PI is approximately {:5.3f}.'.format(3.14159))\n"
   ]
  },
  {
   "cell_type": "markdown",
   "metadata": {},
   "source": [
    "### 亂數"
   ]
  },
  {
   "cell_type": "code",
   "execution_count": 4,
   "metadata": {},
   "outputs": [
    {
     "output_type": "stream",
     "name": "stdout",
     "text": [
      "5\n0.06599264777447844\n[9985, 3684, 499, 614, 3531, 5395, 2239, 6535, 1039, 2505, 7370, 6572, 8498, 4651, 6027, 6880, 2800, 6521, 6491, 6925, 3482, 2755, 632, 9418, 228, 6553, 5902, 7221, 6826, 863, 6038, 1913, 1686, 4216, 8869, 6105, 8194, 9874, 8398, 6031, 9353, 6887, 7411, 7248, 55, 7243, 1480, 9548, 9040, 1362, 6887, 7657, 2262, 6676, 7783, 1884, 7936, 6793, 8553, 8156, 3918, 756, 7379, 5609, 5306, 9806, 5404, 1005, 2963, 137, 1508, 8552, 3323, 2191, 6558, 5430, 2236, 3965, 8530, 1105, 2937, 6091, 5231, 517, 3474, 8403, 3720, 5320, 4396, 7245, 8111, 1772, 4905, 1941, 1659, 4632, 6381, 4569, 6184, 6358]\n"
     ]
    }
   ],
   "source": [
    "import random\n",
    "\n",
    "# 產生一個 0 <= randint <=9 之間的一組整數亂數\n",
    "print(random.randint(0, 9))\n",
    "\n",
    "# 產生一個 0 <= rand <=1 之間的一組浮點數亂數\n",
    "print(random.random())\n",
    "\n",
    "ll = []\n",
    "for _ in range(100):\n",
    "    ll.append(random.randint(0, 9999))\n",
    "    \n",
    "print(ll)"
   ]
  }
 ],
 "metadata": {
  "celltoolbar": "Slideshow",
  "kernelspec": {
   "display_name": "Python 3",
   "language": "python",
   "name": "python3"
  },
  "language_info": {
   "codemirror_mode": {
    "name": "ipython",
    "version": 3
   },
   "file_extension": ".py",
   "mimetype": "text/x-python",
   "name": "python",
   "nbconvert_exporter": "python",
   "pygments_lexer": "ipython3",
   "version": "3.6.5-final"
  }
 },
 "nbformat": 4,
 "nbformat_minor": 1
}
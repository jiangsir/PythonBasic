{
 "cells": [
  {
   "source": [
    "# Python 基本語法\n",
    "\n",
    "## * 基本字串顯示\n",
    "## * 運算順序\n",
    "## * 變數賦值\n",
    "## * 鍵盤輸入\n",
    "## * 格式化輸出\n"
   ],
   "cell_type": "markdown",
   "metadata": {}
  },
  {
   "cell_type": "markdown",
   "metadata": {
    "slideshow": {
     "slide_type": "slide"
    }
   },
   "source": [
    "## 基本字串顯示\n",
    "\n",
    "print() 是一個函數，可接受一個文字或數字做為參數。\n",
    "\n",
    "在 Python 中，使用單引號（'）或雙引號（\"）包起來的資料都是字串。然而，以單引號包起來的字串，如果在字串資料中遇到單引號時，則必須以 \\ 來跳脫（escape）處理，避免被誤認為字串結束。\n",
    "\n",
    "\n",
    "\n",
    "\n"
   ]
  },
  {
   "cell_type": "code",
   "execution_count": 1,
   "metadata": {
    "slideshow": {
     "slide_type": "subslide"
    },
    "tags": []
   },
   "outputs": [
    {
     "output_type": "stream",
     "name": "stdout",
     "text": "hello, world\nhello, world\nI'm Sorry.\nprint(\"hello, world\")\nprint(\"I'm Sorry.\")\n顯示反斜線 \\\nC:\\Users\\user\\Desktop\\test.py\n\\t\\n\\r 特殊符號通通無效\n\n<HTML><HEAD><TITLE>Friends CGI Demo\n</TITLE></HEAD>\n<BODY><H3>ERROR</H3>\n<B>%s</B><P>\n<FORM><INPUT TYPE=button VALUE=Back\nONCLICK=\"window.history.back()\"></FORM>\n</BODY></HTML>\n\n"
    }
   ],
   "source": [
    "print(\"hello, world\")\n",
    "print('hello, world')\n",
    "\n",
    "print(\"I'm Sorry.\") #  字串內要顯示 '(單引號) ，外部的字串邊界符就要使用 \"(雙引號)\n",
    "print('print(\"hello, world\")') # 字串內要顯示 \"(雙引號) ，外部的字串邊界符就要使用 '(單引號)\n",
    "\n",
    "'''\n",
    "Escape 字元用來將它的下一個字元變成普通字元，也就是失去它的所有特殊意義。\n",
    "\n",
    "'''\n",
    "print(\"print(\\\"I'm Sorry.\\\")\") # 用反斜線 \\ (Escape字元)將下一個字元\"(雙引號)降階成為一個普通字元。\n",
    "\n",
    "print(\"顯示反斜線 \\\\\") # 用兩個反斜線顯示一個反斜線\n",
    "print('C:\\\\Users\\\\user\\\\Desktop\\\\test.py') # windows 路徑\n",
    "\n",
    "print(r'\\t\\n\\r 特殊符號通通無效') # row string 原始字串\n",
    "\n",
    "# 三引號 方便放置複雜多行的字串\n",
    "s = '''\n",
    "<HTML><HEAD><TITLE>Friends CGI Demo\n",
    "</TITLE></HEAD>\n",
    "<BODY><H3>ERROR</H3>\n",
    "<B>%s</B><P>\n",
    "<FORM><INPUT TYPE=button VALUE=Back\n",
    "ONCLICK=\"window.history.back()\"></FORM>\n",
    "</BODY></HTML>\n",
    "'''\n",
    "print(s)\n"
   ]
  },
  {
   "cell_type": "code",
   "execution_count": 2,
   "metadata": {
    "tags": []
   },
   "outputs": [
    {
     "output_type": "stream",
     "name": "stdout",
     "text": "HelloBeauty\nhello2019\nHello world 2016\nHello Beauty Beauty Beauty Beauty Beauty Beauty Beauty Beauty Beauty Beauty Beauty Beauty Beauty Beauty Beauty Beauty Beauty Beauty Beauty Beauty Beauty Beauty Beauty Beauty Beauty Beauty Beauty Beauty Beauty Beauty Beauty Beauty Beauty Beauty Beauty Beauty Beauty Beauty Beauty Beauty Beauty Beauty Beauty Beauty Beauty Beauty Beauty Beauty Beauty Beauty Beauty Beauty Beauty Beauty Beauty Beauty Beauty Beauty Beauty Beauty Beauty Beauty Beauty Beauty Beauty Beauty Beauty Beauty Beauty Beauty Beauty Beauty Beauty Beauty Beauty Beauty Beauty Beauty Beauty Beauty Beauty Beauty Beauty Beauty Beauty Beauty Beauty Beauty Beauty Beauty Beauty Beauty Beauty Beauty Beauty Beauty Beauty Beauty Beauty Beauty\nhelloworld\n字串的長度= 10\n"
    }
   ],
   "source": [
    "# 字串串接\n",
    "\n",
    "print(\"Hello\" + \"Beauty\") # 用 + 串接字串\n",
    "print(\"hello\" + str(2019)) # 不能串接數字，要把數字轉成字串\n",
    "print(\"Hello\", \"world\", 2016) # 串接！不同資料形態的串接\n",
    "\n",
    "# 字串重複\n",
    "print(\"Hello\" + \" Beauty\"*100)\n",
    "\n",
    "print(\"hello\", end='') # 字尾不換行\n",
    "print('world')\n",
    "\n",
    "print(\"字串的長度=\", len(\"helloooooo\")) #字串長度 字串串數字用 , "
   ]
  },
  {
   "cell_type": "markdown",
   "metadata": {},
   "source": [
    "## 註解\n",
    "\n",
    "    # 為單行註解\n",
    "    ''' 為多行註解\n",
    "    '''"
   ]
  },
  {
   "cell_type": "code",
   "execution_count": 6,
   "metadata": {
    "tags": []
   },
   "outputs": [
    {
     "output_type": "stream",
     "name": "stdout",
     "text": "hello, world\n"
    }
   ],
   "source": [
    "# 單行註解\n",
    "\n",
    "#################\n",
    "# 註解\n",
    "#################\n",
    "\n",
    "'''\n",
    "多行註解\n",
    "多行註解\n",
    "多行註解\n",
    "'''\n",
    "\n",
    "print('hello, world')\n",
    "# print('hello, world')"
   ]
  },
  {
   "cell_type": "markdown",
   "metadata": {
    "slideshow": {
     "slide_type": "slide"
    }
   },
   "source": [
    "## 算數運算子"
   ]
  },
  {
   "cell_type": "code",
   "execution_count": 1,
   "metadata": {
    "slideshow": {
     "slide_type": "-"
    },
    "tags": []
   },
   "outputs": [
    {
     "output_type": "stream",
     "name": "stdout",
     "text": "8\n6\n15\n2.5\n3\n2\n1000\n"
    }
   ],
   "source": [
    "print(3 + 5) # 加\n",
    "print(8 - 2) # 減\n",
    "print(3 * 5) # 乘\n",
    "print(5 / 2) # 除\n",
    "print(13 % 5) # 餘\n",
    "print(5 // 2) # 商\n",
    "print(10 ** 3) # 指數\n"
   ]
  },
  {
   "cell_type": "markdown",
   "metadata": {},
   "source": [
    "## 運算優先順序\n",
    "\n",
    "下面的表格中列出了 Python 中的各種運算的優先順序順序。不過，就一般情況而言，不需要記憶，完全可以按照數學中的去理解，因為人類既然已經發明瞭數學，在計算機中進行的運算就不需要從新編寫一套新規範了，只需要符合數學中的即可。\n",
    "\n",
    "\n",
    "\n",
    "\n",
    "![img](images/operator.jpg)\n",
    "\n",
    "<table><thead><tr><th>運算子</th><th>描述</th></tr></thead><tbody><tr><td>lambda</td><td>Lambda 表示式</td></tr><tr><td>or</td><td>布林“或”</td></tr><tr><td>and</td><td>布林“與”</td></tr><tr><td>not x</td><td>布林“非”</td></tr><tr><td>in，not in</td><td>成員測試</td></tr><tr><td>is，is not</td><td>同一性測試</td></tr><tr><td>&lt;，&lt;=，&gt;，&gt;=，!=，==</td><td>比較</td></tr><tr><td>|</td><td>按位或</td></tr><tr><td>^</td><td>按位異或</td></tr><tr><td>&amp;</td><td>按位與</td></tr><tr><td>&lt;&lt;，&gt;&gt;</td><td>移位</td></tr><tr><td> ，-</td><td>加法與減法</td></tr><tr><td>*，/，%</td><td>乘法、除法與取餘</td></tr><tr><td> x，-x</td><td>正負號</td></tr><tr><td>~x</td><td>按位翻轉</td></tr><tr><td>**</td><td>指數</td></tr><tr><td>x.attribute</td><td>屬性參考</td></tr><tr><td>x[index]</td><td>下標</td></tr><tr><td>x[index:index]</td><td>定址段</td></tr><tr><td>f(arguments…)</td><td>函式呼叫</td></tr><tr><td>(experession,…)</td><td>繫結或元組顯示</td></tr><tr><td>[expression,…]</td><td>列表顯示</td></tr><tr><td>{key:datum,…}</td><td>字典顯示</td></tr><tr><td>‘expression,…’</td><td>字串轉換</td></tr></tbody></table>\n"
   ]
  },
  {
   "cell_type": "code",
   "execution_count": 7,
   "metadata": {
    "tags": []
   },
   "outputs": [
    {
     "output_type": "stream",
     "name": "stdout",
     "text": "11\n14\n-16\n16\n2\n3\n-3\n2\n-3\n-2\n2\n-3\n"
    }
   ],
   "source": [
    "print(3 + 4 * 2) # 先乘除後加減\n",
    "print((3 + 4) * 2) # 先乘除後加減\n",
    "print(-2**4)\n",
    "print((-2)**4)\n",
    "\n",
    "'''\n",
    "被除數 / 除數 = 商 ... 餘數\n",
    "被除數 = 除數 * 商 + 餘數\n",
    "\n",
    "13 / 5 = 2 ... 3\n",
    "13 = 5 * 2 + 3\n",
    "'''\n",
    "print(13 // 5) # 商\n",
    "print(13 % 5) # 餘數\n",
    "\n",
    "'''\n",
    "-13 / 5 = -3 ... 2\n",
    "-13 = 5 * -3 + 2\n",
    "\n",
    "\n",
    "----|---I-----|-----|-----|---------------\n",
    "   -15 -13   -10    -5    0\n",
    "'''\n",
    "print((-13)//5)  # 商\n",
    "print((-13) % 5)  # 餘數\n",
    "\n",
    "'''\n",
    "13 / -5 = -3 ... -2\n",
    "13 = -5 * -3 + -2\n",
    "\n",
    "----|-----|-----|----I--|-----\n",
    "    0     5     10  13 15\n",
    "'''\n",
    "print(13 // -5) # 商\n",
    "print(13 % -5) # 餘數 0 ~ -4\n",
    "\n",
    "'''\n",
    "-13 / -5 = 2 ... -3\n",
    "-13 = -5 * 2 + -3\n",
    "\n",
    "------I---------------|----\n",
    "     -13              0\n",
    "\n",
    "'''\n",
    "print(-13 // -5) # 商\n",
    "print(-13 % -5) # 餘數\n"
   ]
  },
  {
   "cell_type": "markdown",
   "metadata": {
    "slideshow": {
     "slide_type": "slide"
    }
   },
   "source": [
    "## 關係運算子\n",
    "\n",
    "Python 的關係運算子 (comparison operator) 需要兩個運算元 (operand) ，如下列表\n",
    "\n",
    "<table width=\"90%\" border=\"1\" align=\"center\"><tbody><tr><th align=\"center\">運算子</th><th align=\"center\">功能</th><th align=\"center\">範例</th></tr>\n",
    "<tr><td align=\"center\">&lt;</td><td align=\"center\">小於</td><td align=\"center\">a &lt; b</td></tr>\n",
    "<tr><td align=\"center\">&gt;</td><td align=\"center\">大於</td><td align=\"center\">a &gt; b</td></tr>\n",
    "<tr><td align=\"center\">&lt;=</td><td align=\"center\">小於等於</td><td align=\"center\">a &lt;= b</td></tr>\n",
    "<tr><td align=\"center\">&gt;=</td><td align=\"center\">大於等於</td><td align=\"center\">a &gt;= b</td></tr>\n",
    "<tr><td align=\"center\">==</td><td align=\"center\">相等</td><td align=\"center\">a == b</td></tr>\n",
    "<tr><td align=\"center\">!=</td><td align=\"center\">不相等</td><td align=\"center\">a != b</td></tr>\n",
    "</tbody></table>\n",
    "\n",
    "### 關係運算子的結果是一個布林值"
   ]
  },
  {
   "cell_type": "code",
   "execution_count": 3,
   "metadata": {},
   "outputs": [
    {
     "name": "stdout",
     "output_type": "stream",
     "text": [
      "False\n",
      "False\n",
      "False\n",
      "True\n",
      "True\n",
      "True\n",
      "0.30000000000000004\n",
      "True\n",
      "4\n",
      "5\n"
     ]
    }
   ],
   "source": [
    "print(0.1 + 0.2 < 0.3) \n",
    "print(0.1 + 0.2 <= 0.3) \n",
    "print(0.1 + 0.2 == 0.3) \n",
    "print(0.1 + 0.2 != 0.3) \n",
    "print(0.1 + 0.2 >= 0.3) \n",
    "print(0.1 + 0.2 > 0.3) \n",
    "\n",
    "print(0.1 + 0.2) # 小數點誤差\n",
    "\n",
    "print(3<5)\n",
    "print(3 + (3<5) ) # True 會以 1 進行整數運算\n",
    "print(5 + (3>5) ) # False 會以 0 進行整數運算"
   ]
  },
  {
   "cell_type": "markdown",
   "metadata": {},
   "source": [
    "## 變數\n",
    "\n",
    "### 首先先了解什麼是資料型態? 資料型態指的是背後的儲存機制，比如: 一個 word 圖檔，不是文字，本質是圖。\n",
    "\n",
    "### Python 宣告變數雖然不需要指定變數資料型態，但它仍然是強資料型態語言。\n",
    "\n",
    "![](images/variable.png)\n"
   ]
  },
  {
   "cell_type": "code",
   "execution_count": 2,
   "metadata": {},
   "outputs": [],
   "source": [
    "# 變數賦值\n",
    "a = 5\n",
    "b = 3.14\n",
    "c = True\n",
    "d = \"Hello world\""
   ]
  },
  {
   "cell_type": "markdown",
   "metadata": {},
   "source": [
    "## 變數命名原則\n",
    "* 不可使用保留字\n",
    "* 清楚表達變數意義，勿使用 a, b, c 等意味不明的命名。\n",
    "* 變數名稱開頭必須為英文字母。\n",
    "\n",
    "\n",
    "## 變數有效範圍\n",
    "* 最小有效範圍為原則。\n",
    "* 區域變數 VS 全域變數\n"
   ]
  },
  {
   "cell_type": "code",
   "execution_count": 4,
   "metadata": {},
   "outputs": [
    {
     "name": "stdout",
     "output_type": "stream",
     "text": [
      "b.x= 100\n",
      "b.y= 10\n",
      "x= 10\n"
     ]
    }
   ],
   "source": [
    "x = 10\n",
    "y = 10\n",
    "def b():\n",
    "    x = 100\n",
    "    print('b.x=', x)\n",
    "    print('b.y=', y)\n",
    "\n",
    "b() # 100 10\n",
    "print('x=',x) # 10"
   ]
  },
  {
   "cell_type": "markdown",
   "metadata": {
    "slideshow": {
     "slide_type": "slide"
    }
   },
   "source": [
    "## 基本資料型態\n",
    "* 布林(Boolean):True/False \n",
    "* 整數(Integer): 整數沒有大小限制 e.q. 2016\n",
    "* 浮點數(Float): 有小數點的數字 e.q.  3.14159\n",
    "* 字串(String): 字串 e.q. “Hello”, ‘Hello’"
   ]
  },
  {
   "cell_type": "code",
   "execution_count": 8,
   "metadata": {
    "slideshow": {
     "slide_type": "subslide"
    }
   },
   "outputs": [
    {
     "name": "stdout",
     "output_type": "stream",
     "text": [
      "<class 'int'>\n",
      "<class 'float'>\n",
      "<class 'bool'>\n",
      "<class 'str'>\n"
     ]
    }
   ],
   "source": [
    "a = 5\n",
    "print(type(a))\n",
    "\n",
    "b = 3.1415926\n",
    "print(type(b))\n",
    "\n",
    "c = True\n",
    "print(type(c))\n",
    "\n",
    "d = \"Hello\"\n",
    "print(type(d))"
   ]
  },
  {
   "cell_type": "markdown",
   "metadata": {
    "slideshow": {
     "slide_type": "subslide"
    }
   },
   "source": [
    "## 資料型態轉換\n",
    "\n",
    "轉換成整數：  \n",
    "int(3.14) = 3  # 無條件捨去  \n",
    "int(“12”) = 12 # 變成可運算的數字  \n",
    "轉換成浮點數：  \n",
    "float(“3.14”) = 3.14  \n",
    "轉換成字串：  \n",
    "str(3.14) =  \"3.14\"  \n"
   ]
  },
  {
   "cell_type": "code",
   "execution_count": 1,
   "metadata": {
    "slideshow": {
     "slide_type": "subslide"
    }
   },
   "outputs": [
    {
     "name": "stdout",
     "output_type": "stream",
     "text": [
      "3.0\n",
      "3\n",
      "<class 'str'>\n",
      "3.1415926\n",
      "<class 'float'>\n",
      "3.1415926\n",
      "6.1415926\n"
     ]
    }
   ],
   "source": [
    "print(float(3))\n",
    "print(int(3.1415926)) # 從浮點數轉換到整數會造成誤差。\n",
    "pi = \"3.1415926\"\n",
    "print(type(pi))\n",
    "print(float(pi))\n",
    "print(type( float(pi) ))\n",
    "print(str(3.1415926))\n",
    "\n",
    "## 系統不會猜測你的意圖，必須由人明確指定資料型態\n",
    "#print(pi + 2)\n",
    "print(float(pi) + 3)\n"
   ]
  },
  {
   "cell_type": "markdown",
   "metadata": {
    "slideshow": {
     "slide_type": "slide"
    }
   },
   "source": [
    "## 鍵盤輸入\n",
    "\n",
    "    input(\"提示\")"
   ]
  },
  {
   "cell_type": "code",
   "execution_count": 9,
   "metadata": {
    "tags": []
   },
   "outputs": [
    {
     "output_type": "stream",
     "name": "stdout",
     "text": "Hello, I am Sorry.\n"
    }
   ],
   "source": [
    "name = input()\n",
    "print('Hello, I am '+name+'.')"
   ]
  },
  {
   "cell_type": "code",
   "execution_count": 1,
   "metadata": {},
   "outputs": [
    {
     "name": "stdout",
     "output_type": "stream",
     "text": [
      "請輸入民國年:108\n",
      "<class 'str'>\n",
      "今年是西元 2019 年\n"
     ]
    }
   ],
   "source": [
    "year = input()\n",
    "print(type(year))\n",
    "\n",
    "c = int(year) + 1911\n",
    "\n",
    "print('今年是西元 ' + str(c) + ' 年')\n",
    "\n"
   ]
  },
  {
   "cell_type": "markdown",
   "metadata": {},
   "source": [
    "### 變數賦值"
   ]
  },
  {
   "cell_type": "code",
   "execution_count": 37,
   "metadata": {},
   "outputs": [
    {
     "name": "stdout",
     "output_type": "stream",
     "text": [
      "15 15 15\n",
      "3 8\n",
      "3 hellohellohello\n",
      "3 5\n",
      "5 3\n"
     ]
    }
   ],
   "source": [
    "# 賦值\n",
    "a = 5\n",
    "\n",
    "# 多重賦值\n",
    "a = b = c = 15\n",
    "print(a, b, c)\n",
    "\n",
    "# 多重賦值\n",
    "a, b = 3, 8\n",
    "print(a, b)\n",
    "\n",
    "# 多重賦值, 可以用於不同型態\n",
    "x, y = 3, \"hello\"\n",
    "print(x, y*x)\n",
    "\n",
    "# 變數值交換\n",
    "a = 3\n",
    "b = 5\n",
    "print(a, b)\n",
    "a, b = b, a\n",
    "print(a, b)\n",
    "\n",
    "# 變數值交換，另解\n",
    "tmp = a\n",
    "a = b \n",
    "b = tmp\n"
   ]
  },
  {
   "source": [
    "## 格式化輸出\n",
    "\n",
    "## python 3.6 以後新的 f-strings 寫法 (Literal String Interpolation)\n",
    "\n",
    "f-strings 的寫法為在字串中，插入一組代位符號 {} ，在代位符號內放入變數名稱或運算式。\n",
    "代位符號可用格式如下：\n",
    "\n",
    "## {var}  \n",
    "## {var+var}  \n",
    "## {var:format}  \n"
   ],
   "cell_type": "markdown",
   "metadata": {}
  },
  {
   "cell_type": "code",
   "execution_count": 1,
   "metadata": {},
   "outputs": [
    {
     "output_type": "stream",
     "name": "stdout",
     "text": [
      "His name is Tom, he's 3 years old.\nx+y=8\nThe serial is 00002\nPi is 3.14\nNumbers from 1-10 are [1, 2, 3, 4, 5, 6, 7, 8, 9, 10]\ntsmc price: 217.5\nTSMC price: 217.5\n"
     ]
    }
   ],
   "source": [
    "import math \n",
    "\n",
    "name = \"Tom\"\n",
    "age = 3\n",
    "print(f\"His name is {name}, he's {age} years old.\")\n",
    "\n",
    "'''\n",
    "fstring 運算式\n",
    "'''\n",
    "x = 3\n",
    "y = 5\n",
    "print(f'x+y={x+y}')\n",
    "\n",
    "'''\n",
    "數字格式化 整數保留 5 位，前面補零\n",
    "'''\n",
    "se = 2\n",
    "ss = f\"The serial is {se:05d}\"\n",
    "print(ss)\n",
    "\n",
    "'''\n",
    "數字格式化 :.2f 精確到小數點以下 2 位\n",
    "'''\n",
    "PI = math.pi \n",
    "print(f\"Pi is {PI:.2f}\")\n",
    "\n",
    "'''\n",
    "支援生成式\n",
    "'''\n",
    "print(f'Numbers from 1-10 are {[_ for _ in range(1, 11)]}')\n",
    "\n",
    "'''\n",
    "呼叫函數\n",
    "'''\n",
    "def upper(s):\n",
    "     return s.upper()\n",
    "\n",
    "stock = 'tsmc'\n",
    "close = 217.5\n",
    "print(f'{stock} price: {close}')\n",
    "\n",
    "print(f'{upper(stock)} price: {close}')"
   ]
  },
  {
   "source": [
    "## 進位制的轉換、二進位、16進位、8進位\n"
   ],
   "cell_type": "markdown",
   "metadata": {}
  },
  {
   "cell_type": "code",
   "execution_count": 3,
   "metadata": {},
   "outputs": [
    {
     "output_type": "stream",
     "name": "stdout",
     "text": [
      "f-string 寫法:  --------------------------------------------------\n二進位：00011111\n8進位：37\n16進位：1f\n"
     ]
    }
   ],
   "source": [
    "'''\n",
    "進位制轉換\n",
    "'''\n",
    "x = 31\n",
    "width = 8  # 數字寬度\n",
    "\n",
    "print('f-string 寫法: ', '-'*50)\n",
    "print(f'二進位：{x:0{width}b}')\n",
    "print(f'8進位：{x:o}')\n",
    "print(f'16進位：{x:x}')\n"
   ]
  },
  {
   "source": [
    "## 常見的格式化參數\n",
    "\n",
    "<table class=\"code\">\n",
    "<tbody><tr>\n",
    "<th> Number </th>\n",
    "<th> Format </th>\n",
    "<th> Output </th>\n",
    "<th> Description </th>\n",
    "</tr>\n",
    "<tr>\n",
    "<td> 3.1415926  </td>\n",
    "<td> {:.2f}  </td>\n",
    "<td> 3.14  </td>\n",
    "<td> 2 decimal places </td>\n",
    "</tr>\n",
    "<tr>\n",
    "<td> 3.1415926  </td>\n",
    "<td> {:+.2f} </td>\n",
    "<td> +3.14 </td>\n",
    "<td> 2 decimal places with sign </td>\n",
    "</tr>\n",
    "<tr>\n",
    "<td> -1         </td>\n",
    "<td> {:+.2f} </td>\n",
    "<td> -1.00 </td>\n",
    "<td> 2 decimal places with sign </td>\n",
    "</tr>\n",
    "<tr>\n",
    "<td> 2.71828    </td>\n",
    "<td> {:.0f}  </td>\n",
    "<td> 3   </td>\n",
    "<td> No decimal places </td>\n",
    "</tr>\n",
    "<tr>\n",
    "<td> 5          </td>\n",
    "<td> {:0&gt;2d} </td>\n",
    "<td> 05  </td>\n",
    "<td> Pad number with zeros (left padding, width 2) </td>\n",
    "</tr>\n",
    "<tr>\n",
    "<td> 5          </td>\n",
    "<td> {:x&lt;4d} </td>\n",
    "<td> 5xxx  </td>\n",
    "<td> Pad number with x’s (right padding, width 4) </td>\n",
    "</tr>\n",
    "<tr>\n",
    "<td> 10         </td>\n",
    "<td> {:x&lt;4d} </td>\n",
    "<td> 10xx  </td>\n",
    "<td> Pad number with x’s (right padding, width 4) </td>\n",
    "</tr>\n",
    "<tr>\n",
    "<td> 1000000    </td>\n",
    "<td> {:,}    </td>\n",
    "<td> 1,000,000  </td>\n",
    "<td> Number format with comma separator </td>\n",
    "</tr>\n",
    "<tr>\n",
    "<td> 0.25       </td>\n",
    "<td> {:.2%}  </td>\n",
    "<td> 25.00%  </td>\n",
    "<td> Format percentage </td>\n",
    "</tr>\n",
    "<tr>\n",
    "<td> 1000000000 </td>\n",
    "<td> {:.2e}  </td>\n",
    "<td> 1.00e+09 </td>\n",
    "<td> Exponent notation </td>\n",
    "</tr>\n",
    "<tr>\n",
    "<td> 13         </td>\n",
    "<td> {:10d}  </td>\n",
    "<td> &nbsp;&nbsp;&nbsp;&nbsp;&nbsp;&nbsp;&nbsp;&nbsp;13 </td>\n",
    "<td> Right aligned (default, width 10) </td>\n",
    "</tr>\n",
    "<tr>\n",
    "<td> 13         </td>\n",
    "<td> {:&lt;10d} </td>\n",
    "<td> 13 </td>\n",
    "<td> Left aligned (width 10) </td>\n",
    "</tr>\n",
    "<tr>\n",
    "<td> 13         </td>\n",
    "<td> {:^10d} </td>\n",
    "<td> &nbsp;&nbsp;&nbsp;&nbsp;13 </td>\n",
    "<td> Center aligned (width 10) </td>\n",
    "</tr>\n",
    "</tbody></table>\n",
    "\n",
    "\n",
    "①.當被修約的值爲5時，如果他前面的數爲偶數且被修約數的後面沒有數時則捨棄；\n",
    "\n",
    "②.當被修約的值爲5時，如果他前面的數爲奇數時則進位；\n",
    "\n",
    "③.當被修約的值爲5時，如果他前面的數爲偶數時且被修約數的後面還有數時，則進位。\n",
    "\n",
    "有點繁瑣，總之就一個概念“四捨六入五成雙”\n"
   ],
   "cell_type": "markdown",
   "metadata": {}
  },
  {
   "cell_type": "code",
   "execution_count": 4,
   "metadata": {},
   "outputs": [
    {
     "output_type": "stream",
     "name": "stdout",
     "text": [
      "固定寬度:      29\n固定寬度不足補 0 : 00029\n固定寬度不足補 0 : 00029\n指定小數點位數為2 : 3.14\n指定小數點位數為0 : 4\n四捨六入雙進位 : 2, 2, 4, 3\n顯示為百分比 : 45%\nThe value of PI is approximately 3.142.\nThe value of PI is approximately 3.142.\n"
     ]
    }
   ],
   "source": [
    "\n",
    "x = 29\n",
    "print(f'固定寬度: {x:7d}')\n",
    "print(f'固定寬度不足補 0 : {x:05d}')\n",
    "print(f'固定寬度不足補 0 : {x:05d}')\n",
    "y = 3.14159\n",
    "print(f'指定小數點位數為2 : {y:.2f}')\n",
    "\n",
    "x = 4.5\n",
    "print(f'指定小數點位數為0 : {x:.0f}')\n",
    "print(f'四捨六入雙進位 : {1.5:.0f}, {2.5:.0f}, {3.5:.0f}, {2.50001:.0f}')\n",
    "print(f'顯示為百分比 : {0.45:.0%}')\n",
    "\n",
    "# 舊式 代位字元\n",
    "print('The value of PI is approximately %5.3f.' % 3.14159)\n",
    "print('The value of PI is approximately {:5.3f}.'.format(3.14159))\n"
   ]
  },
  {
   "cell_type": "markdown",
   "metadata": {},
   "source": [
    "### 亂數"
   ]
  },
  {
   "cell_type": "code",
   "execution_count": 1,
   "metadata": {},
   "outputs": [
    {
     "name": "stdout",
     "output_type": "stream",
     "text": [
      "3\n",
      "0.43512010816296454\n",
      "[2230, 2843, 9848, 8166, 86, 5995, 2303, 4687, 6214, 6844, 1034, 5622, 6283, 2869, 3542, 8183, 9811, 3101, 3652, 5522, 6848, 3322, 1579, 9064, 9194, 6160, 320, 1628, 8293, 6756, 54, 5010, 5607, 8790, 1213, 9571, 7855, 5387, 3220, 691, 4709, 9746, 8002, 3601, 3448, 3015, 2480, 248, 8773, 2858, 2178, 5279, 7988, 962, 7859, 3667, 6568, 4481, 4547, 6657, 1697, 5029, 7633, 9398, 7024, 1159, 4849, 8681, 845, 2945, 9189, 8356, 8186, 6203, 5141, 1891, 3132, 4507, 3098, 3763, 6895, 8903, 3999, 5347, 7975, 4543, 4890, 5902, 3394, 8305, 6283, 3141, 1669, 9813, 9337, 8395, 2313, 2347, 2738, 6049]\n"
     ]
    }
   ],
   "source": [
    "from random import *\n",
    "\n",
    "# 產生一個 0 <= randint <=9 之間的一組整數亂數\n",
    "print(randint(0, 9))\n",
    "\n",
    "# 產生一個 0 <= rand <=1 之間的一組浮點數亂數\n",
    "print(random())\n",
    "\n",
    "ll = []\n",
    "for _ in range(100):\n",
    "    ll.append(randint(0, 9999))\n",
    "    \n",
    "print(ll)"
   ]
  },
  {
   "cell_type": "markdown",
   "metadata": {},
   "source": [
    "# 更多運算子"
   ]
  },
  {
   "cell_type": "markdown",
   "metadata": {},
   "source": [
    "## 位元運算 \n",
    "\n",
    "Python 的位移運算子 (shifting operator) 也屬於位元運算子 (bitwise operator) 的一種，全部如下列表\n",
    "<table width=\"90%\" border=\"1\" align=\"center\"><tbody><tr><th align=\"center\">運算子</th><th align=\"center\">功能</th><th align=\"center\">範例</th></tr>\n",
    "<tr><td align=\"center\">&lt;&lt;</td><td align=\"center\">向左位移</td><td align=\"center\">a &lt;&lt; n</td></tr>\n",
    "<tr><td align=\"center\">&gt;&gt;</td><td align=\"center\">向右位移</td><td align=\"center\">a &gt;&gt; n</td></tr>\n",
    "<tr><td align=\"center\">&amp;</td><td align=\"center\">位元且</td><td align=\"center\">a &amp; b</td></tr>\n",
    "<tr><td align=\"center\">|</td><td align=\"center\">位元包含或</td><td align=\"center\">a | b</td></tr>\n",
    "<tr><td align=\"center\">^</td><td align=\"center\">位元互斥或</td><td align=\"center\">a ^ b</td></tr>\n",
    "<tr><td align=\"center\">~</td><td align=\"center\">位元相反</td><td align=\"center\">~a </td></tr>\n",
    "</tbody></table>"
   ]
  },
  {
   "cell_type": "code",
   "execution_count": 1,
   "metadata": {},
   "outputs": [
    {
     "name": "stdout",
     "output_type": "stream",
     "text": [
      "-6\n",
      "12\n",
      "0\n",
      "1\n",
      "7\n",
      "6\n"
     ]
    }
   ],
   "source": [
    "a = 5\n",
    "b = 3\n",
    " \n",
    "print(~a)\n",
    "print(b << 2)\n",
    "print(b >> 2)\n",
    "print(a & b)\n",
    "print(a | b)\n",
    "print(a ^ b)"
   ]
  },
  {
   "cell_type": "markdown",
   "metadata": {},
   "source": [
    "## 指派運算\n",
    "\n",
    "Python 最基本的指派運算子 (assignment operator) 為單一個等號 = ，這是用來將等號右邊的值拷貝給給左邊的變數 (variable) 資料。等號也可以跟其他運算子 (operator) 合用，會直接將結果儲存到原變數之中，如\n",
    "\n",
    "<table width=\"90%\" border=\"1\" align=\"center\"><tbody><tr><th>運算子</th><th>功能</th><th>範例</th></tr>\n",
    "<tr><td>=</td><td>指派</td><td>a = b</td></tr>\n",
    "<tr><td>+=</td><td>相加同時指派</td><td>a += b</td></tr>\n",
    "<tr><td>-=</td><td>相減同時指派</td><td>a -= b</td></tr>\n",
    "<tr><td>\\*=</td><td>相乘同時指派</td><td>a *= b</td></tr>\n",
    "<tr><td>**=</td><td>取指數同時指派</td><td>a **= b</td></tr>\n",
    "<tr><td>/=</td><td>相除同時指派</td><td>a /= b</td></tr>\n",
    "<tr><td>//=</td><td>整數相除同時指派</td><td>a //= b</td></tr>\n",
    "<tr><td>%=</td><td>取餘數同時指派</td><td>a %= b</td></tr>\n",
    "<tr><td>&amp;=</td><td>位元且同時指派</td><td>a &amp;= b</td></tr>\n",
    "<tr><td>^=</td><td>位元互斥或同時指派</td><td>a ^= b</td></tr>\n",
    "<tr><td>|=</td><td>位元包含或同時指派</td><td>a |= b</td></tr>\n",
    "<tr><td>&lt;&lt;=</td><td>向左位移同時指派</td><td>a &lt;&lt;= b</td></tr>\n",
    "<tr><td>&gt;&gt;=</td><td>向右位移同時指派</td><td>a &gt;&gt;= b</td></tr>\n",
    "</tbody></table>"
   ]
  },
  {
   "cell_type": "code",
   "execution_count": 9,
   "metadata": {},
   "outputs": [
    {
     "name": "stdout",
     "output_type": "stream",
     "text": [
      "3\n",
      "2\n",
      "44\n",
      "85184\n",
      "12169.142857142857\n",
      "2433.0\n",
      "0.0\n"
     ]
    }
   ],
   "source": [
    "a = 1\n",
    " \n",
    "a += 2\n",
    "print(a)\n",
    " \n",
    "a -= 1\n",
    "print(a)\n",
    " \n",
    "a *= 22\n",
    "print(a)\n",
    " \n",
    "a **= 3\n",
    "print(a)\n",
    " \n",
    "a /= 7\n",
    "print(a)\n",
    " \n",
    "a //= 5\n",
    "print(a)\n",
    " \n",
    "a %= 3\n",
    "print(a)"
   ]
  },
  {
   "cell_type": "markdown",
   "metadata": {},
   "source": [
    "## 邏輯運算子\n",
    "\n",
    "Python 的邏輯運算子 (logical operator) 為關鍵字 (keyword) 中的 and 、 or 與 not ， and 為邏輯且，前後兩個運算元 (operand) 都為真，運算式 (expression) 才為真， or 為邏輯或，前後兩個運算元有一個為真，運算式就為真， not 為邏輯否，也就是真變成假，假變成真。\n",
    "\n"
   ]
  },
  {
   "cell_type": "code",
   "execution_count": 13,
   "metadata": {},
   "outputs": [
    {
     "name": "stdout",
     "output_type": "stream",
     "text": [
      "a < b\n"
     ]
    }
   ],
   "source": [
    "a = 12\n",
    "b = 22\n",
    " \n",
    "if a > b and a != b:\n",
    "    print(\"a > b\")\n",
    "\n",
    "if a < b or a != b:\n",
    "    print(\"a < b\")\n",
    "    \n",
    "if not a:\n",
    "    print(\"a is false\")\n",
    " "
   ]
  },
  {
   "cell_type": "markdown",
   "metadata": {},
   "source": [
    "## 運算式 is運算 \n",
    "\n",
    "is 為 Python 的關鍵字 (keyword) 之一，用來判斷兩個物件 (object) 是否相等，也就是判斷由內建函數 (function) id() 回傳的 id 號碼是否一樣。\n",
    "\n"
   ]
  },
  {
   "cell_type": "code",
   "execution_count": 17,
   "metadata": {},
   "outputs": [
    {
     "name": "stdout",
     "output_type": "stream",
     "text": [
      "a is b\n",
      "a is not b\n"
     ]
    }
   ],
   "source": [
    "a = 12\n",
    "b = 12\n",
    "c = 22\n",
    " \n",
    "if a is b:\n",
    "    print(\"a is b\")\n",
    "\n",
    "if a is c:\n",
    "    print(\"a is c\")\n",
    "    \n",
    "\n",
    "# 但是 is 與 is not 的使用需注意一點，對於可變 (mutable) 的資料型態，例如串列 (list) 就算有相同的內容，實際上仍會是不同的物件，例如\n",
    "    \n",
    "a = []\n",
    "b = []\n",
    " \n",
    "if a is b:\n",
    "    print(\"a is b\")\n",
    "\n",
    "if a is not b:\n",
    "    print(\"a is not b\")"
   ]
  },
  {
   "cell_type": "markdown",
   "metadata": {},
   "source": [
    "## 運算式 in運算 \n",
    "\n",
    "in 為 Python 的關鍵字 (keyword) 之一，用來判斷複合資料型態 (compound data type) 之中否有某個元素 (element) ，也就是在可包含其他物件 (object) 的物件之中判斷是否有某個物件。\n",
    "\n"
   ]
  },
  {
   "cell_type": "code",
   "execution_count": 19,
   "metadata": {},
   "outputs": [
    {
     "name": "stdout",
     "output_type": "stream",
     "text": [
      "'5' in a\n",
      "5 in b\n"
     ]
    }
   ],
   "source": [
    "a = \"0123456789\"\n",
    "b = [0, 1, 2, 3, 4, 5, 6, 7, 8, 9]\n",
    " \n",
    "if \"5\" in a:\n",
    "    print(\"'5' in a\")\n",
    "\n",
    "if \"a\" in a:\n",
    "    print(\"'a' in a\")\n",
    "\n",
    "if \"5\" in b:\n",
    "    print(\"'5' in b\")\n",
    "\n",
    "if 5 in b:\n",
    "    print(\"5 in b\")"
   ]
  }
 ],
 "metadata": {
  "celltoolbar": "Slideshow",
  "kernelspec": {
   "name": "Python 3.8.2 64-bit",
   "display_name": "Python 3.8.2 64-bit",
   "metadata": {
    "interpreter": {
     "hash": "aee8b7b246df8f9039afb4144a1f6fd8d2ca17a180786b69acc140d282b71a49"
    }
   }
  },
  "language_info": {
   "codemirror_mode": {
    "name": "ipython",
    "version": 3
   },
   "file_extension": ".py",
   "mimetype": "text/x-python",
   "name": "python",
   "nbconvert_exporter": "python",
   "pygments_lexer": "ipython3",
   "version": "3.8.2-final"
  }
 },
 "nbformat": 4,
 "nbformat_minor": 1
}
{
 "cells": [
  {
   "cell_type": "markdown",
   "metadata": {},
   "source": [
    "### Rsync 自動異地備份\n"
   ]
  },
  {
   "cell_type": "code",
   "execution_count": null,
   "metadata": {},
   "outputs": [],
   "source": [
    "import os\n",
    "\n",
    "print(\"本程式用於 crontab 定時將 apps 資料庫 以同步的方式備份出去。\")\n",
    "print(\"請先製作好對備份主機的免密碼登入：\")\n",
    "print(\"產生key: ssh-keygen -t rsa -f id_rsa_apps_9213\")\n",
    "print(\"複製到遠端：ssh-copy-id -i id_rsa_apps_9213 root@163.32.92.13\")\n",
    "print(\"測試：ssh -i id_rsa_apps_9213 root@163.32.92.13\")\n",
    "cmd = 'rsync -av -e \"ssh -i /home/ashs0555/crontab/id_rsa_apps_9213\" /var/lib/mysql/* root@163.32.92.13:/volume1/APPS_data/mysql/'\n",
    "print(cmd)\n",
    "os.system(cmd)\n"
   ]
  },
  {
   "cell_type": "markdown",
   "metadata": {},
   "source": [
    "## 用 fire 套件設計命令列程式"
   ]
  },
  {
   "cell_type": "code",
   "execution_count": null,
   "metadata": {},
   "outputs": [],
   "source": []
  },
  {
   "cell_type": "markdown",
   "metadata": {},
   "source": [
    "# POPCAT"
   ]
  },
  {
   "cell_type": "code",
   "execution_count": null,
   "metadata": {},
   "outputs": [],
   "source": [
    "\n",
    "import pyautogui\n",
    "while True:\n",
    "    pyautogui.press('shiftleft')  \n"
   ]
  },
  {
   "cell_type": "markdown",
   "metadata": {},
   "source": [
    "### 檔案生成"
   ]
  },
  {
   "cell_type": "code",
   "execution_count": null,
   "metadata": {},
   "outputs": [],
   "source": [
    "basepath = 'C:\\\\Users\\\\jiang\\\\Desktop'\n",
    "for i in range(10):\n",
    "    with open(f'{basepath}\\\\DESC_{i:04d}.txt', 'w', encoding='UTF-8') as fp:\n",
    "        fp.write('測試文件的內容！！！')\n",
    "        fp.close()\n"
   ]
  },
  {
   "cell_type": "markdown",
   "metadata": {},
   "source": [
    "### 一行讀取 Excel 檔"
   ]
  },
  {
   "cell_type": "code",
   "execution_count": null,
   "metadata": {},
   "outputs": [],
   "source": [
    "import pandas as pd\n",
    "import os\n",
    "\n",
    "df = pd.read_excel(os.path.join(os.getcwd(), 'datas', 'masks.xlsx'))\n",
    "\n",
    "### 列出前幾筆資料\n",
    "df.head()"
   ]
  },
  {
   "cell_type": "markdown",
   "metadata": {},
   "source": [
    "### gTTS google 的文字轉語音套件"
   ]
  },
  {
   "cell_type": "code",
   "execution_count": null,
   "metadata": {},
   "outputs": [],
   "source": [
    "from gtts import gTTS\n",
    "tts = gTTS(text='颱風天上課真提神！', lang='zh-tw')\n",
    "tts.save(\"ts.mp3\")"
   ]
  },
  {
   "cell_type": "markdown",
   "metadata": {},
   "source": [
    "## 爬取新聞標題,並朗讀出來"
   ]
  },
  {
   "cell_type": "code",
   "execution_count": null,
   "metadata": {},
   "outputs": [],
   "source": []
  },
  {
   "cell_type": "markdown",
   "metadata": {},
   "source": [
    "## 自動寄信並附加檔案到特定信箱"
   ]
  },
  {
   "cell_type": "code",
   "execution_count": null,
   "metadata": {},
   "outputs": [],
   "source": []
  },
  {
   "cell_type": "markdown",
   "metadata": {},
   "source": [
    "### 讀取 PM2.5 的 Open Data , 並且解析 json 資料"
   ]
  },
  {
   "cell_type": "code",
   "execution_count": null,
   "metadata": {},
   "outputs": [],
   "source": [
    "import requests\n",
    "import json\n",
    "\n",
    "res = requests.get(\"http://opendata2.epa.gov.tw/AQX.json\")\n",
    "data = json.loads(res.text)\n",
    "print(\"data is a \"+str(type(data)))\n",
    "print(\"data[0] is a \"+str(type(data[0])))\n",
    "for kh in data:\n",
    "    if kh['County'] == '高雄市' and kh['SiteName'] == '復興':\n",
    "        print(\"狀況:\"+kh['Status']+' 主要污染物：'+kh['MajorPollutant']+\", PM2.5=\"+kh['PM2.5'])"
   ]
  },
  {
   "cell_type": "markdown",
   "metadata": {},
   "source": [
    "### 利用 pytube 套件下載 youtube 影片"
   ]
  },
  {
   "cell_type": "code",
   "execution_count": null,
   "metadata": {},
   "outputs": [],
   "source": [
    "from pytube import Playlist\n",
    "\n",
    "playlist = 'https://www.youtube.com/playlist?list=PL_UnJyWUd40ElUibCO0Gi5E10UmiOa3PR'\n",
    "\n",
    "pl = Playlist(playlist)\n",
    "pl.download_all('C:\\\\Users\\\\jiangsir\\\\Downloads')\n",
    "# or if you want to download in a specific directory\n",
    "#pl.download_all('/path/to/directory/')"
   ]
  },
  {
   "cell_type": "markdown",
   "metadata": {},
   "source": [
    "# AutoDino"
   ]
  },
  {
   "cell_type": "code",
   "execution_count": null,
   "metadata": {},
   "outputs": [],
   "source": [
    "import pyautogui\n",
    "import sys\n",
    "\n",
    "while True:\n",
    "    # dot = pyautogui.pixel(230, 542)\n",
    "    # dot == (255,255,255)\n",
    "    x = 201 + 200\n",
    "    y = 601\n",
    "    dot2 = pyautogui.pixelMatchesColor(x,y,(255,255,255))\n",
    "    dot1 = pyautogui.pixelMatchesColor(x+20,y,(255,255,255))\n",
    "    #dot3 = pyautogui.pixelMatchesColor(210,511,(255,255,255))\n",
    "    #if (not dot1 or not dot2 or not dot3):\n",
    "    if (not dot1 or not dot2):\n",
    "        pyautogui.press('space')"
   ]
  }
 ],
 "metadata": {
  "kernelspec": {
   "display_name": "Python 3.9.5 64-bit",
   "language": "python",
   "name": "python3"
  },
  "language_info": {
   "codemirror_mode": {
    "name": "ipython",
    "version": 3
   },
   "file_extension": ".py",
   "mimetype": "text/x-python",
   "name": "python",
   "nbconvert_exporter": "python",
   "pygments_lexer": "ipython3",
   "version": "3.9.5"
  },
  "vscode": {
   "interpreter": {
    "hash": "a7afb8302c0fb84763dfb3dadcee0aac4affedbd970652f767505d81e754851b"
   }
  }
 },
 "nbformat": 4,
 "nbformat_minor": 2
}

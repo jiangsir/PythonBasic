{
 "cells": [
  {
   "cell_type": "markdown",
   "metadata": {},
   "source": [
    "## Python 並不是一個純的函數式語言，但它提供了一些函數式的設計\n",
    "\n",
    "Python中，也有几个定义好的全局函数方便使用的，像map、reduce、filter、sorted这些函数都支持函数作为参数，lambda函数就可以应用在函数式编程中。"
   ]
  },
  {
   "cell_type": "code",
   "execution_count": 1,
   "metadata": {},
   "outputs": [
    {
     "name": "stdout",
     "output_type": "stream",
     "text": [
      "[18, 9, 24, 12, 27]\n",
      "[14, 46, 28, 54, 44, 58, 26, 34, 64]\n",
      "139\n"
     ]
    }
   ],
   "source": [
    "from functools import reduce \n",
    "foo = [2, 18, 9, 22, 17, 24, 8, 12, 27]\n",
    " \n",
    "print (list(filter(lambda x: x % 3 == 0, foo)))\n",
    "#[18, 9, 24, 12, 27]\n",
    " \n",
    "print (list(map(lambda x: x * 2 + 10, foo)))\n",
    "#[14, 46, 28, 54, 44, 58, 26, 34, 64]\n",
    " \n",
    "print (reduce(lambda x, y: x + y, foo))\n",
    "#139\n"
   ]
  },
  {
   "cell_type": "markdown",
   "metadata": {},
   "source": [
    "## 惰性求值"
   ]
  },
  {
   "cell_type": "markdown",
   "metadata": {},
   "source": [
    "惰性求值\n",
    "\n",
    "在〈Python 3 Tutorial 第四堂（1）資料處理函式〉談到的 zip、filter、map，其實都是函數式程式設計中必備的基本元素，而在 Python 3.x 中，map、filter 傳回的實例並不是 list，而是個產生器（Generator），具有惰性求值的特性，這也是函數式語言中常見的特性之一。"
   ]
  },
  {
   "cell_type": "code",
   "execution_count": 2,
   "metadata": {},
   "outputs": [
    {
     "name": "stdout",
     "output_type": "stream",
     "text": [
      "['caterpillar', 'openhome']\n",
      "['Justin', 'caterpillar']\n",
      "['JUSTIN', 'CATERPILLAR', 'OPENHOME']\n",
      "[6, 11, 8]\n"
     ]
    }
   ],
   "source": [
    "lt = ['Justin', 'caterpillar', 'openhome']\n",
    "print(list(filter(lambda ele: len(ele) > 6, lt)))\n",
    "print(list(filter(lambda ele: 'i' in ele, lt)))\n",
    "print(list(map(lambda ele: ele.upper(), lt)))\n",
    "print(list(map(lambda ele: len(ele), lt)))"
   ]
  },
  {
   "cell_type": "markdown",
   "metadata": {},
   "source": [
    "## List 包含式"
   ]
  },
  {
   "cell_type": "code",
   "execution_count": 3,
   "metadata": {},
   "outputs": [
    {
     "name": "stdout",
     "output_type": "stream",
     "text": [
      "['caterpillar', 'openhome']\n",
      "['Justin', 'caterpillar']\n",
      "['JUSTIN', 'CATERPILLAR', 'OPENHOME']\n",
      "[6, 11, 8]\n"
     ]
    }
   ],
   "source": [
    "lt = ['Justin', 'caterpillar', 'openhome']\n",
    "print([ele for ele in lt if len(ele) > 6])\n",
    "print([ele for ele in lt if 'i' in ele])\n",
    "print([ele.upper() for ele in lt])\n",
    "print([len(ele) for ele in lt])"
   ]
  },
  {
   "cell_type": "code",
   "execution_count": null,
   "metadata": {},
   "outputs": [],
   "source": []
  }
 ],
 "metadata": {
  "kernelspec": {
   "display_name": "Python 3",
   "language": "python",
   "name": "python3"
  },
  "language_info": {
   "codemirror_mode": {
    "name": "ipython",
    "version": 3
   },
   "file_extension": ".py",
   "mimetype": "text/x-python",
   "name": "python",
   "nbconvert_exporter": "python",
   "pygments_lexer": "ipython3",
   "version": "3.6.5"
  }
 },
 "nbformat": 4,
 "nbformat_minor": 2
}

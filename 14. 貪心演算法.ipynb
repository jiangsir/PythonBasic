{
 "nbformat": 4,
 "nbformat_minor": 2,
 "metadata": {
  "language_info": {
   "name": "python",
   "codemirror_mode": {
    "name": "ipython",
    "version": 3
   },
   "version": "3.8.2-final"
  },
  "orig_nbformat": 2,
  "file_extension": ".py",
  "mimetype": "text/x-python",
  "name": "python",
  "npconvert_exporter": "python",
  "pygments_lexer": "ipython3",
  "version": 3,
  "kernelspec": {
   "name": "python36464bit39128d5730f7404897c77c0be80b9e8a",
   "display_name": "Python 3.6.4 64-bit"
  }
 },
 "cells": [
  {
   "cell_type": "markdown",
   "metadata": {},
   "source": [
    "# 貪心演算法\n",
    "\n",
    "    貪心演算法是指在解決問題的時候，總是選擇當前最好的，並 希望 通過一系列的最優選擇，能夠產生一個問題的全域性最優解。\n",
    "\n"
   ]
  },
  {
   "cell_type": "markdown",
   "metadata": {},
   "source": [
    "第一題：錢幣找零\n",
    "\n",
    "假如我們有1元，2元，5元，10元，20元，50元，100元面額的紙幣，他們的張數分別為c1,c2,c5,c10,c20,c50,c100。現在需要支付K元，最少需要多少張紙幣\n",
    "\n",
    "很簡單，使用貪心思想，先從最大的面值開始支付，如果不夠就繼續使用更小一點的面值，以此類推直到支付完成。\n",
    "\n"
   ]
  },
  {
   "cell_type": "markdown",
   "metadata": {},
   "source": [
    "第二題：最大整數\n",
    "\n",
    "有n個整數，把他們連成一排，組成一個最大的多位數\n",
    "\n",
    "比如：n=3 整數位 5,16,876 連成的最大整數就是：876516\n",
    "\n",
    "先把整數換成字串，比較a+b和b+a,如果a+b>=b+a，就把a放在b的前面，反之把a放在b的後面\n",
    "\n"
   ]
  },
  {
   "cell_type": "markdown",
   "metadata": {},
   "source": [
    "第三題：區間覆蓋\n",
    "\n",
    "給定一個長度為m的區間，在給出n條線段的起點和終點，從中選出儘量多的線段，要求每個線段都是獨立的，不跟其他的線段有交集。\n",
    "\n",
    "比如：m=10\n",
    "\n",
    "    線段：[6,8] [2,4] [3,5] [1,5] [5,9] [8,10]\n",
    "\n",
    "    結果：[2,4] [6,8] [8,10]\n",
    "\n",
    "    首先按照起始點排序為[1,5] [2,4] [3,5] [5,9] [6,8] [8,10]\n",
    "    然後選取左端點跟前面的已經覆蓋的區間不重合，並且右端點儘量小這樣可以讓剩下的未覆蓋的區間儘可能的大，也就可以放置更多的區間。"
   ]
  },
  {
   "cell_type": "markdown",
   "metadata": {},
   "source": [
    "# 霍夫曼編碼\n"
   ]
  },
  {
   "cell_type": "code",
   "execution_count": null,
   "metadata": {},
   "outputs": [],
   "source": []
  }
 ]
}
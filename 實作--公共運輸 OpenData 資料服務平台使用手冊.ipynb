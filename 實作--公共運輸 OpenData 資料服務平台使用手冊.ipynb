{
 "cells": [
  {
   "cell_type": "markdown",
   "metadata": {},
   "source": [
    "# 抓取 Opendata\n",
    "\n",
    "Opendata 可說是最好的資料來源。屬於結構化資料。"
   ]
  },
  {
   "cell_type": "markdown",
   "metadata": {},
   "source": [
    "# 公共運輸整合資訊流通服務平台\n",
    "\n",
    "### https://ptx.transportdata.tw/PTX/\n",
    "\n",
    "![KMRT.PNG](images/KMRT.PNG)\n",
    "\n",
    "\n",
    "![KMRT4.PNG](images/KMRT4.PNG)\n",
    "\n"
   ]
  },
  {
   "cell_type": "markdown",
   "metadata": {},
   "source": [
    "接下來進入 MetroAPI 的 Live board 直接在者裡產生所需要的 連結\n",
    "\n",
    "https://ptx.transportdata.tw/MOTC/Swagger/#!/MetroApi/MetroApi_LiveBoard\n",
    "\n",
    "\n",
    "## 接下來搜尋自己想要的資訊\n",
    "\n",
    "### 比如我想知道 文化中心站 就在 filter 內下達:  StationID eq 'O7' 來過濾條件\n",
    "\n",
    "![KMRT2.PNG](images/KMRT2.PNG)\n",
    "\n",
    "### 然後你就會取得一個 url 可以放到程式內使用:\n",
    "\n",
    "<h3>\n",
    "<pre>\n",
    "https://ptx.transportdata.tw/MOTC/v2/Rail/Metro/LiveBoard/KRTC?$filter=StationID%20eq%20'O7'&$top=30&$format=JSON\n",
    "</pre>\n",
    "</h3>\n",
    "\n",
    "\n",
    "![KMRT3.PNG](images/KMRT3.PNG)\n",
    "\n",
    "\n",
    "\n",
    "LiveBoard {\n",
    "LineNO (string, optional):\n",
    "\n",
    "路線編號 ,\n",
    "LineID (string):\n",
    "\n",
    "路線代碼 ,\n",
    "LineName (NameType):\n",
    "\n",
    "路線名稱 ,\n",
    "StationID (string):\n",
    "\n",
    "所在車站代號 ,\n",
    "StationName (NameType):\n",
    "\n",
    "所在車站名稱 ,\n",
    "TripHeadSign (string):\n",
    "\n",
    "下班車次方向描述 ,\n",
    "DestinationStaionID (string):\n",
    "\n",
    "目的地車站代號 ,\n",
    "DestinationStationName (NameType):\n",
    "\n",
    "目的地車站名稱 ,\n",
    "EstimateTime (integer):\n",
    "\n",
    "下班車次抵達時間預估(秒) ,\n",
    "SrcUpdateTime (DateTime):\n",
    "\n",
    "來源端平台資料更新時間(ISO8601格式:yyyy-MM-ddTHH:mm:sszzz) ,\n",
    "UpdateTime (DateTime):\n",
    "\n",
    "本平台資料更新時間(ISO8601格式:yyyy-MM-ddTHH:mm:sszzz)\n",
    "}"
   ]
  },
  {
   "cell_type": "markdown",
   "metadata": {},
   "source": [
    "# 必要套件"
   ]
  },
  {
   "cell_type": "code",
   "execution_count": 9,
   "metadata": {},
   "outputs": [
    {
     "name": "stdout",
     "output_type": "stream",
     "text": [
      "Requirement already satisfied: requests in c:\\users\\jiangsir\\anaconda3\\lib\\site-packages (2.17.1)\n",
      "Requirement already satisfied: urllib3<1.22,>=1.21.1 in c:\\users\\jiangsir\\anaconda3\\lib\\site-packages (from requests) (1.21.1)\n",
      "Requirement already satisfied: certifi>=2017.4.17 in c:\\users\\jiangsir\\anaconda3\\lib\\site-packages (from requests) (2018.4.16)\n",
      "Requirement already satisfied: chardet<3.1.0,>=3.0.2 in c:\\users\\jiangsir\\anaconda3\\lib\\site-packages (from requests) (3.0.4)\n",
      "Requirement already satisfied: idna<2.6,>=2.5 in c:\\users\\jiangsir\\anaconda3\\lib\\site-packages (from requests) (2.5)\n"
     ]
    }
   ],
   "source": [
    "!pip install requests"
   ]
  },
  {
   "cell_type": "markdown",
   "metadata": {},
   "source": [
    "# 完整程式碼請參考: [20190530實作1. 讀取高雄捷運月台資訊.ipynb](20190530--實作1. 讀取高雄捷運月台資訊.ipynb)"
   ]
  },
  {
   "cell_type": "markdown",
   "metadata": {},
   "source": [
    "# 高雄捷運 Opendata 使用手冊\n",
    "\n",
    "https://ptx.transportdata.tw/PTX/Download/20170124/PTX%20%20URL%20API%20%E8%A8%AD%E8%A8%88%E8%88%87Odata%E5%AF%A6%E4%BD%9C.pdf\n",
    "\n"
   ]
  },
  {
   "cell_type": "markdown",
   "metadata": {},
   "source": [
    "# 官方範例程式 github\n",
    "\n",
    "https://github.com/ptxmotc/Sample-code"
   ]
  }
 ],
 "metadata": {
  "kernelspec": {
   "display_name": "Python 3",
   "language": "python",
   "name": "python3"
  },
  "language_info": {
   "codemirror_mode": {
    "name": "ipython",
    "version": 3
   },
   "file_extension": ".py",
   "mimetype": "text/x-python",
   "name": "python",
   "nbconvert_exporter": "python",
   "pygments_lexer": "ipython3",
   "version": "3.6.5"
  }
 },
 "nbformat": 4,
 "nbformat_minor": 2
}

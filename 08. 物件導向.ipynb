{
 "cells": [
  {
   "cell_type": "markdown",
   "metadata": {},
   "source": [
    "## 類別(class)-基本使用\n",
    "---\n",
    "\n",
    "    用class敘述建立一個類別, 它可以生成多個這個類別的實例(instance). 在類別中的__init__()函式是它的建構元, 其內的self表示在記憶體中生成的那個實例.\n",
    "\n"
   ]
  },
  {
   "cell_type": "code",
   "execution_count": 8,
   "metadata": {},
   "outputs": [
    {
     "name": "stdout",
     "output_type": "stream",
     "text": [
      "Lucky\n",
      "8\n"
     ]
    }
   ],
   "source": [
    "class Dog():\n",
    "    #-------------------    \n",
    "    # __init__ 建構元\n",
    "    #-------------------\n",
    "    def __init__(self, name, age):\n",
    "        self.name = name\n",
    "        self.age = age\n",
    "\n",
    "dog = Dog(\"Lucky\", 8)  #建立一個名叫dog的Dog實體(物件)\n",
    "print(dog.name)\n",
    "print(dog.age)"
   ]
  },
  {
   "cell_type": "markdown",
   "metadata": {},
   "source": [
    "## 計算歐幾里得距離"
   ]
  },
  {
   "cell_type": "code",
   "execution_count": 2,
   "metadata": {},
   "outputs": [
    {
     "data": {
      "text/plain": [
       "2.8284271247461903"
      ]
     },
     "execution_count": 2,
     "metadata": {},
     "output_type": "execute_result"
    }
   ],
   "source": [
    "import math\n",
    "\n",
    "def dist(x1, y1, x2, y2):\n",
    "    return math.sqrt((x1-x2)*(x1-x2)+(y1-y2)*(y1-y2));\n",
    "\n",
    "dist(1, 2, 3, 4)"
   ]
  },
  {
   "cell_type": "markdown",
   "metadata": {},
   "source": [
    "## 自訂\"點\"的物件"
   ]
  },
  {
   "cell_type": "code",
   "execution_count": 3,
   "metadata": {},
   "outputs": [
    {
     "data": {
      "text/plain": [
       "2.8284271247461903"
      ]
     },
     "execution_count": 3,
     "metadata": {},
     "output_type": "execute_result"
    }
   ],
   "source": [
    "class Point():\n",
    "    #-------------------    \n",
    "    # __init__ 建構元\n",
    "    #-------------------\n",
    "    def __init__(self, x, y):\n",
    "        self.x = x\n",
    "        self.y = y\n",
    "\n",
    "def dist(p1, p2):\n",
    "    return math.sqrt((p1.x-p2.x)*(p1.x-p2.x)+(p1.y-p2.y)*(p1.y-p2.y));\n",
    "\n",
    "p1 = Point(1, 2)  #建立一個名叫 p1 的 Point 實例\n",
    "p2 = Point(3, 4)  #建立一個名叫 p2 的 Point 實例\n",
    "dist(p1, p2)"
   ]
  },
  {
   "cell_type": "markdown",
   "metadata": {},
   "source": [
    "# 用 import 引入外部類別檔\n",
    "\n",
    "    將 class 檔案存成 Dog.py 檔，其他程式檔就可以引入使用\n",
    "    \n",
    "    將 Dog.py 檔放在資料夾 Myclasses 裡面，就要用 \n",
    "    import Myclasses.Dog\n",
    "    or\n",
    "    from Myclasses import Dog\n",
    "    \n",
    "    \n",
    "## Module與Package\n",
    "    基本上一個檔案就是一個 module，裡頭可以定義 function，class，和 variable。 \n",
    "    把一個 module 想成一個檔案，那一個package就是一個目錄了。Package 可裝有 subpackage 和 module，讓你的專案更條理更組織化，最後一坨打包好還能分給別人使用。\n",
    "    \n",
    "    \n",
    "    再來是 package。我們把上面兩個檔案包在一個新的目錄 sample_package 底下：\n",
    "\n",
    "    sample_package/\n",
    "    ├── __init__.py\n",
    "    ├── sample_module.py\n",
    "    └── sample_module_import.py\n",
    "    很重要的是新增那個 __init__.py 檔。它是空的沒關係，但一定要有，有點宣稱自己是一個 package 的味道。"
   ]
  },
  {
   "cell_type": "code",
   "execution_count": 2,
   "metadata": {},
   "outputs": [
    {
     "ename": "NameError",
     "evalue": "name 'Dog' is not defined",
     "output_type": "error",
     "traceback": [
      "\u001b[1;31m---------------------------------------------------------------------------\u001b[0m",
      "\u001b[1;31mNameError\u001b[0m                                 Traceback (most recent call last)",
      "\u001b[1;32m<ipython-input-2-8dc59c2653fa>\u001b[0m in \u001b[0;36m<module>\u001b[1;34m()\u001b[0m\n\u001b[0;32m      1\u001b[0m \u001b[1;32mimport\u001b[0m \u001b[0mMyclasses\u001b[0m\u001b[1;33m.\u001b[0m\u001b[0mDog\u001b[0m\u001b[1;33m\u001b[0m\u001b[0m\n\u001b[0;32m      2\u001b[0m \u001b[1;33m\u001b[0m\u001b[0m\n\u001b[1;32m----> 3\u001b[1;33m \u001b[0mdog\u001b[0m \u001b[1;33m=\u001b[0m \u001b[0mDog\u001b[0m\u001b[1;33m(\u001b[0m\u001b[1;34m\"Lucky\"\u001b[0m\u001b[1;33m,\u001b[0m \u001b[1;36m8\u001b[0m\u001b[1;33m)\u001b[0m  \u001b[1;31m#建立一個名叫dog的Dog實體(物件)\u001b[0m\u001b[1;33m\u001b[0m\u001b[0m\n\u001b[0m\u001b[0;32m      4\u001b[0m \u001b[0mprint\u001b[0m\u001b[1;33m(\u001b[0m\u001b[0mdog\u001b[0m\u001b[1;33m.\u001b[0m\u001b[0mname\u001b[0m\u001b[1;33m)\u001b[0m\u001b[1;33m\u001b[0m\u001b[0m\n\u001b[0;32m      5\u001b[0m \u001b[0mprint\u001b[0m\u001b[1;33m(\u001b[0m\u001b[0mdog\u001b[0m\u001b[1;33m.\u001b[0m\u001b[0mage\u001b[0m\u001b[1;33m)\u001b[0m\u001b[1;33m\u001b[0m\u001b[0m\n",
      "\u001b[1;31mNameError\u001b[0m: name 'Dog' is not defined"
     ]
    }
   ],
   "source": [
    "import Myclasses.Dog\n",
    "\n",
    "dog = Dog(\"Lucky\", 8)  #建立一個名叫dog的Dog實體(物件)\n",
    "print(dog.name)\n",
    "print(dog.age)\n",
    "\n",
    "print(f\"{dog.name}現在年紀相當於人類{dog.humanage()}歲了!\")\n"
   ]
  },
  {
   "cell_type": "code",
   "execution_count": null,
   "metadata": {},
   "outputs": [],
   "source": [
    "class Dog():\n",
    "    #-------------------    \n",
    "    # __init__ 建構元\n",
    "    #-------------------\n",
    "    def __init__(self, name, age):\n",
    "        self.name = name\n",
    "        self.age = age\n",
    "    \n",
    "    def humanage(self):\n",
    "        return 22+(self.age - 2) * 5\n",
    "\n",
    "dog = Dog(\"Lucky\", 8)  #建立一個名叫dog的Dog實體(物件)\n",
    "print(dog.name)\n",
    "print(dog.age)\n",
    "\n",
    "print(f\"{dog.name}現在年紀相當於人類{dog.humanage()}歲了!\")\n"
   ]
  },
  {
   "cell_type": "code",
   "execution_count": null,
   "metadata": {},
   "outputs": [],
   "source": [
    "class Student():\n",
    "    #-------------------    \n",
    "    # __init__ 建構元\n",
    "    #-------------------\n",
    "    def __init__(self, stuNo, stuName, deptNo):\n",
    "        self.stuNo=stuNo\n",
    "        self.stuName=stuName\n",
    "        self.deptNo=deptNo\n",
    "\n",
    "    #-------------------    \n",
    "    # 取出系名的方法\n",
    "    #-------------------        \n",
    "    def dept(self):\n",
    "        if self.deptNo=='6':\n",
    "            return '資管系'\n",
    "        else:\n",
    "            return '其他系'\n",
    "\n",
    "    #-------------------    \n",
    "    # 取出學制的方法\n",
    "    #-------------------            \n",
    "    def division(self):\n",
    "        if self.stuNo[0]=='N':\n",
    "            return '進修推廣部'\n",
    "        else:\n",
    "            return '日間部'\n",
    "        \n",
    "\n",
    "# 物件初始化\n",
    "student = Student(1, '王大同', 6)\n",
    "\n",
    "print(student.stuName)"
   ]
  },
  {
   "cell_type": "markdown",
   "metadata": {},
   "source": [
    "### 類別(class)-@property\n",
    "如果改寫了類別中屬性取存的邏輯, 能讓其他程式用直接取存屬性值的方式呼叫改寫的方法, 比呼叫getter及setter方便, 也是比較推薦的作法. 改寫的屬性實際存放名稱在前方加上一個_(底線), 另外在設定屬性值的方法前加上@property修飾, 在取出屬性值的方法前加上@屬性名稱.setter的修飾. 之前加上底線的屬性名稱, 是為了和設定及取用方法的名稱有所區別.\n"
   ]
  },
  {
   "cell_type": "code",
   "execution_count": null,
   "metadata": {},
   "outputs": [],
   "source": [
    "class Student():\n",
    "    #------------------------------       \n",
    "    # 建構元\n",
    "    # 為了重新定義gender屬性的取存, \n",
    "    # 將實際存放名稱改為 _gender.\n",
    "    #------------------------------   \n",
    "    def __init__(self, stuNo, stuName, gender=None):\n",
    "        self.stuNo=stuNo\n",
    "        self.stuName=stuName\n",
    "        self.gender=gender    #這行指令會呼叫@gender.setter方法\n",
    "\n",
    "    #----------------------------------    \n",
    "    # 取用gender屬性的方法\n",
    "    # 直接用 [...=實例名稱.gender] 即可\n",
    "    #---------------------------------- \n",
    "    @property\n",
    "    def gender(self):\n",
    "        if self._gender=='M':\n",
    "            return '男'\n",
    "        elif self._gender=='F':\n",
    "            return '女'\n",
    "        else:\n",
    "            return None\n",
    "\n",
    "    #----------------------------------    \n",
    "    # 寫入gender屬性的方法\n",
    "    # 直接用 [實例名稱.gender=...] 即可\n",
    "    #---------------------------------- \n",
    "    @gender.setter\n",
    "    def gender(self, gender):\n",
    "        if gender=='M' or gender=='F':\n",
    "            self._gender=gender\n",
    "        else:\n",
    "            self._gender=None\n",
    "    \n",
    "\n",
    "    #-------------------    \n",
    "    # 取出學制的方法\n",
    "    #-------------------\n",
    "    def division(self):\n",
    "        if self.stuNo[0]=='N':\n",
    "            return '進修推廣部'\n",
    "        else:\n",
    "            return '日間部'\n",
    "        \n",
    "\n",
    "# ------------------------------------------------------------------------------------------\n",
    "\n",
    "s1=Student('1056001', '王小明', 'F')\n",
    "s2=Student('1056002', '陳小華')\n",
    "s3=Student('1056003', '李小強', 'A')\n",
    "\n",
    "print('學號:{}  姓名:{}  性別:{}  學制:{}'.format(s1.stuNo, s1.stuName, s1.gender, s1.division()))\n",
    "print('學號:{}  姓名:{}  性別:{}  學制:{}'.format(s2.stuNo, s2.stuName, s2.gender, s2.division()))\n",
    "print('學號:{}  姓名:{}  性別:{}  學制:{}'.format(s3.stuNo, s3.stuName, s3.gender, s3.division()))"
   ]
  },
  {
   "cell_type": "markdown",
   "metadata": {},
   "source": [
    "### 類別(class)-繼承\n",
    "在宣告類別敘述的小括號中加入另一個類別名稱, 加入的就是父類別, 自己稱為子類別. 所有類別最上層的父親都是object.\n",
    "\n",
    "        object\n",
    "           ^\n",
    "           |\n",
    "       Student類別       宣告成: class Student(): 或 class Student(object):\n",
    "           ^\n",
    "           |\n",
    "      IM_Student類別     宣告成: class IM_Student(Student):"
   ]
  },
  {
   "cell_type": "markdown",
   "metadata": {},
   "source": [
    "### 類別　多重繼承\n",
    "\n",
    "                     object\n",
    "                       ^\n",
    "            ___________|_____________            \n",
    "           |                         |\n",
    "       Student類別                Skill類別\n",
    "           ^                         ^ \n",
    "           |_________________________|\n",
    "                        |\n",
    "                  IM_Student類別   (繼承了2個父親)"
   ]
  }
 ],
 "metadata": {
  "kernelspec": {
   "display_name": "Python 3",
   "language": "python",
   "name": "python3"
  },
  "language_info": {
   "codemirror_mode": {
    "name": "ipython",
    "version": 3
   },
   "file_extension": ".py",
   "mimetype": "text/x-python",
   "name": "python",
   "nbconvert_exporter": "python",
   "pygments_lexer": "ipython3",
   "version": "3.6.5"
  }
 },
 "nbformat": 4,
 "nbformat_minor": 2
}

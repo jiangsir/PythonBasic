{
 "cells": [
  {
   "cell_type": "markdown",
   "metadata": {},
   "source": [
    "# 從 url 直接下載檔案"
   ]
  },
  {
   "cell_type": "code",
   "execution_count": 1,
   "metadata": {},
   "outputs": [
    {
     "name": "stdout",
     "output_type": "stream",
     "text": [
      "[{\"Site\":\"富貴角\",\"county\":\"新北市\",\"PM25\":\"9\",\"DataCreationDate\":\"2020-03-09 11:00\",\"ItemUnit\":\"μg/m3\"},{\"Site\":\"麥寮\",\"county\":\"雲林縣\",\"PM25\":\"12\",\"DataCreationDate\":\"2020-03-09 11:00\",\"ItemUnit\":\"μg/m3\"},{\"Site\":\"關山\",\"county\":\"臺東縣\",\"PM25\":\"7\",\"DataCreationDate\":\"2020-03-09 11:00\",\"ItemUnit\":\"μg/m3\"},{\"Site\":\"馬公\",\"county\":\"澎湖縣\",\"PM25\":\"21\",\"DataCreationDate\":\"2020-03-09 11:00\",\"ItemUnit\":\"μg/m3\"},{\"Site\":\"金門\",\"county\":\"金門縣\",\"PM25\":\"34\",\"DataCreationDate\":\"2020-03-09 11:00\",\"ItemUnit\":\"μg/m3\"},{\"Site\":\"馬祖\",\"county\":\"連江縣\",\"PM25\":\"24\",\"DataCreationDate\":\"2020-03-09 11:00\",\"ItemUnit\":\"μg/m3\"},{\"Site\":\"埔里\",\"county\":\"南投縣\",\"PM25\":\"20\",\"DataCreationDate\":\"2020-03-09 11:00\",\"ItemUnit\":\"μg/m3\"},{\"Site\":\"復興\",\"county\":\"高雄市\",\"PM25\":\"11\",\"DataCreationDate\":\"2020-03-09 11:00\",\"ItemUnit\":\"μg/m3\"},{\"Site\":\"永和\",\"county\":\"新北市\",\"PM25\":\"32\",\"DataCreationDate\":\"2020-03-09 11:00\",\"ItemUnit\":\"μg/m3\"},{\"Site\":\"竹山\",\"county\":\"南投縣\",\"PM25\":\"21\",\"DataCreationDate\":\"2020-03-09 11:00\",\"ItemUnit\":\"μg/m3\"},{\"Site\":\"中壢\",\"county\":\"桃園市\",\"PM25\":\"31\",\"DataCreationDate\":\"2020-03-09 11:00\",\"ItemUnit\":\"μg/m3\"},{\"Site\":\"三重\",\"county\":\"新北市\",\"PM25\":\"31\",\"DataCreationDate\":\"2020-03-09 11:00\",\"ItemUnit\":\"μg/m3\"},{\"Site\":\"冬山\",\"county\":\"宜蘭縣\",\"PM25\":\"5\",\"DataCreationDate\":\"2020-03-09 11:00\",\"ItemUnit\":\"μg/m3\"},{\"Site\":\"宜蘭\",\"county\":\"宜蘭縣\",\"PM25\":\"7\",\"DataCreationDate\":\"2020-03-09 11:00\",\"ItemUnit\":\"μg/m3\"},{\"Site\":\"陽明\",\"county\":\"臺北市\",\"PM25\":\"21\",\"DataCreationDate\":\"2020-03-09 11:00\",\"ItemUnit\":\"μg/m3\"},{\"Site\":\"花蓮\",\"county\":\"花蓮縣\",\"PM25\":\"10\",\"DataCreationDate\":\"2020-03-09 11:00\",\"ItemUnit\":\"μg/m3\"},{\"Site\":\"臺東\",\"county\":\"臺東縣\",\"PM25\":\"6\",\"DataCreationDate\":\"2020-03-09 11:00\",\"ItemUnit\":\"μg/m3\"},{\"Site\":\"恆春\",\"county\":\"屏東縣\",\"PM25\":\"9\",\"DataCreationDate\":\"2020-03-09 11:00\",\"ItemUnit\":\"μg/m3\"},{\"Site\":\"潮州\",\"county\":\"屏東縣\",\"PM25\":\"10\",\"DataCreationDate\":\"2020-03-09 11:00\",\"ItemUnit\":\"μg/m3\"},{\"Site\":\"屏東\",\"county\":\"屏東縣\",\"PM25\":\"4\",\"DataCreationDate\":\"2020-03-09 11:00\",\"ItemUnit\":\"μg/m3\"},{\"Site\":\"小港\",\"county\":\"高雄市\",\"PM25\":\"\",\"DataCreationDate\":\"2020-03-09 11:00\",\"ItemUnit\":\"μg/m3\"},{\"Site\":\"前鎮\",\"county\":\"高雄市\",\"PM25\":\"6\",\"DataCreationDate\":\"2020-03-09 11:00\",\"ItemUnit\":\"μg/m3\"},{\"Site\":\"前金\",\"county\":\"高雄市\",\"PM25\":\"7\",\"DataCreationDate\":\"2020-03-09 11:00\",\"ItemUnit\":\"μg/m3\"},{\"Site\":\"左營\",\"county\":\"高雄市\",\"PM25\":\"12\",\"DataCreationDate\":\"2020-03-09 11:00\",\"ItemUnit\":\"μg/m3\"},{\"Site\":\"楠梓\",\"county\":\"高雄市\",\"PM25\":\"13\",\"DataCreationDate\":\"2020-03-09 11:00\",\"ItemUnit\":\"μg/m3\"},{\"Site\":\"林園\",\"county\":\"高雄市\",\"PM25\":\"7\",\"DataCreationDate\":\"2020-03-09 11:00\",\"ItemUnit\":\"μg/m3\"},{\"Site\":\"大寮\",\"county\":\"高雄市\",\"PM25\":\"5\",\"DataCreationDate\":\"2020-03-09 11:00\",\"ItemUnit\":\"μg/m3\"},{\"Site\":\"關山\",\"county\":\"臺東縣\",\"PM25\":\"7\",\"DataCreationDate\":\"2020-03-09 11:00\",\"ItemUnit\":\"μg/m3\"},{\"Site\":\"富貴角\",\"county\":\"新北市\",\"PM25\":\"9\",\"DataCreationDate\":\"2020-03-09 11:00\",\"ItemUnit\":\"μg/m3\"},{\"Site\":\"麥寮\",\"county\":\"雲林縣\",\"PM25\":\"12\",\"DataCreationDate\":\"2020-03-09 11:00\",\"ItemUnit\":\"μg/m3\"},{\"Site\":\"關山\",\"county\":\"臺東縣\",\"PM25\":\"7\",\"DataCreationDate\":\"2020-03-09 11:00\",\"ItemUnit\":\"μg/m3\"},{\"Site\":\"馬公\",\"county\":\"澎湖縣\",\"PM25\":\"21\",\"DataCreationDate\":\"2020-03-09 11:00\",\"ItemUnit\":\"μg/m3\"},{\"Site\":\"金門\",\"county\":\"金門縣\",\"PM25\":\"34\",\"DataCreationDate\":\"2020-03-09 11:00\",\"ItemUnit\":\"μg/m3\"},{\"Site\":\"馬祖\",\"county\":\"連江縣\",\"PM25\":\"24\",\"DataCreationDate\":\"2020-03-09 11:00\",\"ItemUnit\":\"μg/m3\"},{\"Site\":\"中壢\",\"county\":\"桃園市\",\"PM25\":\"31\",\"DataCreationDate\":\"2020-03-09 11:00\",\"ItemUnit\":\"μg/m3\"},{\"Site\":\"三重\",\"county\":\"新北市\",\"PM25\":\"31\",\"DataCreationDate\":\"2020-03-09 11:00\",\"ItemUnit\":\"μg/m3\"},{\"Site\":\"冬山\",\"county\":\"宜蘭縣\",\"PM25\":\"5\",\"DataCreationDate\":\"2020-03-09 11:00\",\"ItemUnit\":\"μg/m3\"},{\"Site\":\"宜蘭\",\"county\":\"宜蘭縣\",\"PM25\":\"7\",\"DataCreationDate\":\"2020-03-09 11:00\",\"ItemUnit\":\"μg/m3\"},{\"Site\":\"陽明\",\"county\":\"臺北市\",\"PM25\":\"21\",\"DataCreationDate\":\"2020-03-09 11:00\",\"ItemUnit\":\"μg/m3\"},{\"Site\":\"仁武\",\"county\":\"高雄市\",\"PM25\":\"11\",\"DataCreationDate\":\"2020-03-09 11:00\",\"ItemUnit\":\"μg/m3\"},{\"Site\":\"橋頭\",\"county\":\"高雄市\",\"PM25\":\"7\",\"DataCreationDate\":\"2020-03-09 11:00\",\"ItemUnit\":\"μg/m3\"},{\"Site\":\"美濃\",\"county\":\"高雄市\",\"PM25\":\"6\",\"DataCreationDate\":\"2020-03-09 11:00\",\"ItemUnit\":\"μg/m3\"},{\"Site\":\"臺南\",\"county\":\"臺南市\",\"PM25\":\"10\",\"DataCreationDate\":\"2020-03-09 11:00\",\"ItemUnit\":\"μg/m3\"},{\"Site\":\"安南\",\"county\":\"臺南市\",\"PM25\":\"10\",\"DataCreationDate\":\"2020-03-09 11:00\",\"ItemUnit\":\"μg/m3\"},{\"Site\":\"善化\",\"county\":\"臺南市\",\"PM25\":\"15\",\"DataCreationDate\":\"2020-03-09 11:00\",\"ItemUnit\":\"μg/m3\"},{\"Site\":\"新營\",\"county\":\"臺南市\",\"PM25\":\"12\",\"DataCreationDate\":\"2020-03-09 11:00\",\"ItemUnit\":\"μg/m3\"},{\"Site\":\"嘉義\",\"county\":\"嘉義市\",\"PM25\":\"9\",\"DataCreationDate\":\"2020-03-09 11:00\",\"ItemUnit\":\"μg/m3\"},{\"Site\":\"臺西\",\"county\":\"雲林縣\",\"PM25\":\"17\",\"DataCreationDate\":\"2020-03-09 11:00\",\"ItemUnit\":\"μg/m3\"},{\"Site\":\"朴子\",\"county\":\"嘉義縣\",\"PM25\":\"11\",\"DataCreationDate\":\"2020-03-09 11:00\",\"ItemUnit\":\"μg/m3\"},{\"Site\":\"新港\",\"county\":\"嘉義縣\",\"PM25\":\"10\",\"DataCreationDate\":\"2020-03-09 11:00\",\"ItemUnit\":\"μg/m3\"},{\"Site\":\"崙背\",\"county\":\"雲林縣\",\"PM25\":\"10\",\"DataCreationDate\":\"2020-03-09 11:00\",\"ItemUnit\":\"μg/m3\"},{\"Site\":\"斗六\",\"county\":\"雲林縣\",\"PM25\":\"12\",\"DataCreationDate\":\"2020-03-09 11:00\",\"ItemUnit\":\"μg/m3\"},{\"Site\":\"南投\",\"county\":\"南投縣\",\"PM25\":\"17\",\"DataCreationDate\":\"2020-03-09 11:00\",\"ItemUnit\":\"μg/m3\"},{\"Site\":\"二林\",\"county\":\"彰化縣\",\"PM25\":\"12\",\"DataCreationDate\":\"2020-03-09 11:00\",\"ItemUnit\":\"μg/m3\"},{\"Site\":\"線西\",\"county\":\"彰化縣\",\"PM25\":\"26\",\"DataCreationDate\":\"2020-03-09 11:00\",\"ItemUnit\":\"μg/m3\"},{\"Site\":\"彰化\",\"county\":\"彰化縣\",\"PM25\":\"15\",\"DataCreationDate\":\"2020-03-09 11:00\",\"ItemUnit\":\"μg/m3\"},{\"Site\":\"西屯\",\"county\":\"臺中市\",\"PM25\":\"24\",\"DataCreationDate\":\"2020-03-09 11:00\",\"ItemUnit\":\"μg/m3\"},{\"Site\":\"忠明\",\"county\":\"臺中市\",\"PM25\":\"19\",\"DataCreationDate\":\"2020-03-09 11:00\",\"ItemUnit\":\"μg/m3\"},{\"Site\":\"大里\",\"county\":\"臺中市\",\"PM25\":\"21\",\"DataCreationDate\":\"2020-03-09 11:00\",\"ItemUnit\":\"μg/m3\"},{\"Site\":\"沙鹿\",\"county\":\"臺中市\",\"PM25\":\"21\",\"DataCreationDate\":\"2020-03-09 11:00\",\"ItemUnit\":\"μg/m3\"},{\"Site\":\"豐原\",\"county\":\"臺中市\",\"PM25\":\"19\",\"DataCreationDate\":\"2020-03-09 11:00\",\"ItemUnit\":\"μg/m3\"},{\"Site\":\"三義\",\"county\":\"苗栗縣\",\"PM25\":\"18\",\"DataCreationDate\":\"2020-03-09 11:00\",\"ItemUnit\":\"μg/m3\"},{\"Site\":\"苗栗\",\"county\":\"苗栗縣\",\"PM25\":\"17\",\"DataCreationDate\":\"2020-03-09 11:00\",\"ItemUnit\":\"μg/m3\"},{\"Site\":\"頭份\",\"county\":\"苗栗縣\",\"PM25\":\"28\",\"DataCreationDate\":\"2020-03-09 11:00\",\"ItemUnit\":\"μg/m3\"},{\"Site\":\"新竹\",\"county\":\"新竹市\",\"PM25\":\"21\",\"DataCreationDate\":\"2020-03-09 11:00\",\"ItemUnit\":\"μg/m3\"},{\"Site\":\"竹東\",\"county\":\"新竹縣\",\"PM25\":\"34\",\"DataCreationDate\":\"2020-03-09 11:00\",\"ItemUnit\":\"μg/m3\"},{\"Site\":\"湖口\",\"county\":\"新竹縣\",\"PM25\":\"28\",\"DataCreationDate\":\"2020-03-09 11:00\",\"ItemUnit\":\"μg/m3\"},{\"Site\":\"龍潭\",\"county\":\"桃園市\",\"PM25\":\"34\",\"DataCreationDate\":\"2020-03-09 11:00\",\"ItemUnit\":\"μg/m3\"},{\"Site\":\"平鎮\",\"county\":\"桃園市\",\"PM25\":\"31\",\"DataCreationDate\":\"2020-03-09 11:00\",\"ItemUnit\":\"μg/m3\"},{\"Site\":\"崙背\",\"county\":\"雲林縣\",\"PM25\":\"10\",\"DataCreationDate\":\"2020-03-09 11:00\",\"ItemUnit\":\"μg/m3\"},{\"Site\":\"富貴角\",\"county\":\"新北市\",\"PM25\":\"9\",\"DataCreationDate\":\"2020-03-09 11:00\",\"ItemUnit\":\"μg/m3\"},{\"Site\":\"麥寮\",\"county\":\"雲林縣\",\"PM25\":\"12\",\"DataCreationDate\":\"2020-03-09 11:00\",\"ItemUnit\":\"μg/m3\"},{\"Site\":\"關山\",\"county\":\"臺東縣\",\"PM25\":\"7\",\"DataCreationDate\":\"2020-03-09 11:00\",\"ItemUnit\":\"μg/m3\"},{\"Site\":\"馬公\",\"county\":\"澎湖縣\",\"PM25\":\"21\",\"DataCreationDate\":\"2020-03-09 11:00\",\"ItemUnit\":\"μg/m3\"},{\"Site\":\"金門\",\"county\":\"金門縣\",\"PM25\":\"34\",\"DataCreationDate\":\"2020-03-09 11:00\",\"ItemUnit\":\"μg/m3\"},{\"Site\":\"馬祖\",\"county\":\"連江縣\",\"PM25\":\"24\",\"DataCreationDate\":\"2020-03-09 11:00\",\"ItemUnit\":\"μg/m3\"},{\"Site\":\"埔里\",\"county\":\"南投縣\",\"PM25\":\"20\",\"DataCreationDate\":\"2020-03-09 11:00\",\"ItemUnit\":\"μg/m3\"},{\"Site\":\"復興\",\"county\":\"高雄市\",\"PM25\":\"11\",\"DataCreationDate\":\"2020-03-09 11:00\",\"ItemUnit\":\"μg/m3\"},{\"Site\":\"永和\",\"county\":\"新北市\",\"PM25\":\"32\",\"DataCreationDate\":\"2020-03-09 11:00\",\"ItemUnit\":\"μg/m3\"},{\"Site\":\"竹山\",\"county\":\"南投縣\",\"PM25\":\"21\",\"DataCreationDate\":\"2020-03-09 11:00\",\"ItemUnit\":\"μg/m3\"},{\"Site\":\"中壢\",\"county\":\"桃園市\",\"PM25\":\"31\",\"DataCreationDate\":\"2020-03-09 11:00\",\"ItemUnit\":\"μg/m3\"},{\"Site\":\"三重\",\"county\":\"新北市\",\"PM25\":\"31\",\"DataCreationDate\":\"2020-03-09 11:00\",\"ItemUnit\":\"μg/m3\"},{\"Site\":\"冬山\",\"county\":\"宜蘭縣\",\"PM25\":\"5\",\"DataCreationDate\":\"2020-03-09 11:00\",\"ItemUnit\":\"μg/m3\"},{\"Site\":\"宜蘭\",\"county\":\"宜蘭縣\",\"PM25\":\"7\",\"DataCreationDate\":\"2020-03-09 11:00\",\"ItemUnit\":\"μg/m3\"},{\"Site\":\"陽明\",\"county\":\"臺北市\",\"PM25\":\"21\",\"DataCreationDate\":\"2020-03-09 11:00\",\"ItemUnit\":\"μg/m3\"},{\"Site\":\"花蓮\",\"county\":\"花蓮縣\",\"PM25\":\"10\",\"DataCreationDate\":\"2020-03-09 11:00\",\"ItemUnit\":\"μg/m3\"},{\"Site\":\"臺東\",\"county\":\"臺東縣\",\"PM25\":\"6\",\"DataCreationDate\":\"2020-03-09 11:00\",\"ItemUnit\":\"μg/m3\"},{\"Site\":\"恆春\",\"county\":\"屏東縣\",\"PM25\":\"9\",\"DataCreationDate\":\"2020-03-09 11:00\",\"ItemUnit\":\"μg/m3\"},{\"Site\":\"潮州\",\"county\":\"屏東縣\",\"PM25\":\"10\",\"DataCreationDate\":\"2020-03-09 11:00\",\"ItemUnit\":\"μg/m3\"},{\"Site\":\"屏東\",\"county\":\"屏東縣\",\"PM25\":\"4\",\"DataCreationDate\":\"2020-03-09 11:00\",\"ItemUnit\":\"μg/m3\"},{\"Site\":\"小港\",\"county\":\"高雄市\",\"PM25\":\"\",\"DataCreationDate\":\"2020-03-09 11:00\",\"ItemUnit\":\"μg/m3\"},{\"Site\":\"前鎮\",\"county\":\"高雄市\",\"PM25\":\"6\",\"DataCreationDate\":\"2020-03-09 11:00\",\"ItemUnit\":\"μg/m3\"},{\"Site\":\"前金\",\"county\":\"高雄市\",\"PM25\":\"7\",\"DataCreationDate\":\"2020-03-09 11:00\",\"ItemUnit\":\"μg/m3\"},{\"Site\":\"左營\",\"county\":\"高雄市\",\"PM25\":\"12\",\"DataCreationDate\":\"2020-03-09 11:00\",\"ItemUnit\":\"μg/m3\"},{\"Site\":\"楠梓\",\"county\":\"高雄市\",\"PM25\":\"13\",\"DataCreationDate\":\"2020-03-09 11:00\",\"ItemUnit\":\"μg/m3\"},{\"Site\":\"林園\",\"county\":\"高雄市\",\"PM25\":\"7\",\"DataCreationDate\":\"2020-03-09 11:00\",\"ItemUnit\":\"μg/m3\"},{\"Site\":\"大寮\",\"county\":\"高雄市\",\"PM25\":\"5\",\"DataCreationDate\":\"2020-03-09 11:00\",\"ItemUnit\":\"μg/m3\"},{\"Site\":\"鳳山\",\"county\":\"高雄市\",\"PM25\":\"6\",\"DataCreationDate\":\"2020-03-09 11:00\",\"ItemUnit\":\"μg/m3\"},{\"Site\":\"仁武\",\"county\":\"高雄市\",\"PM25\":\"11\",\"DataCreationDate\":\"2020-03-09 11:00\",\"ItemUnit\":\"μg/m3\"},{\"Site\":\"橋頭\",\"county\":\"高雄市\",\"PM25\":\"7\",\"DataCreationDate\":\"2020-03-09 11:00\",\"ItemUnit\":\"μg/m3\"},{\"Site\":\"美濃\",\"county\":\"高雄市\",\"PM25\":\"6\",\"DataCreationDate\":\"2020-03-09 11:00\",\"ItemUnit\":\"μg/m3\"},{\"Site\":\"臺南\",\"county\":\"臺南市\",\"PM25\":\"10\",\"DataCreationDate\":\"2020-03-09 11:00\",\"ItemUnit\":\"μg/m3\"},{\"Site\":\"安南\",\"county\":\"臺南市\",\"PM25\":\"10\",\"DataCreationDate\":\"2020-03-09 11:00\",\"ItemUnit\":\"μg/m3\"},{\"Site\":\"善化\",\"county\":\"臺南市\",\"PM25\":\"15\",\"DataCreationDate\":\"2020-03-09 11:00\",\"ItemUnit\":\"μg/m3\"},{\"Site\":\"新營\",\"county\":\"臺南市\",\"PM25\":\"12\",\"DataCreationDate\":\"2020-03-09 11:00\",\"ItemUnit\":\"μg/m3\"},{\"Site\":\"嘉義\",\"county\":\"嘉義市\",\"PM25\":\"9\",\"DataCreationDate\":\"2020-03-09 11:00\",\"ItemUnit\":\"μg/m3\"},{\"Site\":\"臺西\",\"county\":\"雲林縣\",\"PM25\":\"17\",\"DataCreationDate\":\"2020-03-09 11:00\",\"ItemUnit\":\"μg/m3\"},{\"Site\":\"朴子\",\"county\":\"嘉義縣\",\"PM25\":\"11\",\"DataCreationDate\":\"2020-03-09 11:00\",\"ItemUnit\":\"μg/m3\"},{\"Site\":\"新港\",\"county\":\"嘉義縣\",\"PM25\":\"10\",\"DataCreationDate\":\"2020-03-09 11:00\",\"ItemUnit\":\"μg/m3\"},{\"Site\":\"測站（試運轉）\",\"county\":\"雲林縣\",\"PM25\":\"6\",\"DataCreationDate\":\"2019-01-02 09:00\",\"ItemUnit\":\"μg/m3\"},{\"Site\":\"斗六\",\"county\":\"雲林縣\",\"PM25\":\"12\",\"DataCreationDate\":\"2020-03-09 11:00\",\"ItemUnit\":\"μg/m3\"},{\"Site\":\"南投\",\"county\":\"南投縣\",\"PM25\":\"17\",\"DataCreationDate\":\"2020-03-09 11:00\",\"ItemUnit\":\"μg/m3\"},{\"Site\":\"二林\",\"county\":\"彰化縣\",\"PM25\":\"12\",\"DataCreationDate\":\"2020-03-09 11:00\",\"ItemUnit\":\"μg/m3\"},{\"Site\":\"線西\",\"county\":\"彰化縣\",\"PM25\":\"26\",\"DataCreationDate\":\"2020-03-09 11:00\",\"ItemUnit\":\"μg/m3\"},{\"Site\":\"彰化\",\"county\":\"彰化縣\",\"PM25\":\"15\",\"DataCreationDate\":\"2020-03-09 11:00\",\"ItemUnit\":\"μg/m3\"},{\"Site\":\"西屯\",\"county\":\"臺中市\",\"PM25\":\"24\",\"DataCreationDate\":\"2020-03-09 11:00\",\"ItemUnit\":\"μg/m3\"},{\"Site\":\"忠明\",\"county\":\"臺中市\",\"PM25\":\"19\",\"DataCreationDate\":\"2020-03-09 11:00\",\"ItemUnit\":\"μg/m3\"},{\"Site\":\"大里\",\"county\":\"臺中市\",\"PM25\":\"21\",\"DataCreationDate\":\"2020-03-09 11:00\",\"ItemUnit\":\"μg/m3\"},{\"Site\":\"沙鹿\",\"county\":\"臺中市\",\"PM25\":\"21\",\"DataCreationDate\":\"2020-03-09 11:00\",\"ItemUnit\":\"μg/m3\"},{\"Site\":\"豐原\",\"county\":\"臺中市\",\"PM25\":\"19\",\"DataCreationDate\":\"2020-03-09 11:00\",\"ItemUnit\":\"μg/m3\"},{\"Site\":\"三義\",\"county\":\"苗栗縣\",\"PM25\":\"18\",\"DataCreationDate\":\"2020-03-09 11:00\",\"ItemUnit\":\"μg/m3\"},{\"Site\":\"苗栗\",\"county\":\"苗栗縣\",\"PM25\":\"17\",\"DataCreationDate\":\"2020-03-09 11:00\",\"ItemUnit\":\"μg/m3\"},{\"Site\":\"頭份\",\"county\":\"苗栗縣\",\"PM25\":\"28\",\"DataCreationDate\":\"2020-03-09 11:00\",\"ItemUnit\":\"μg/m3\"},{\"Site\":\"新竹\",\"county\":\"新竹市\",\"PM25\":\"21\",\"DataCreationDate\":\"2020-03-09 11:00\",\"ItemUnit\":\"μg/m3\"},{\"Site\":\"竹東\",\"county\":\"新竹縣\",\"PM25\":\"34\",\"DataCreationDate\":\"2020-03-09 11:00\",\"ItemUnit\":\"μg/m3\"},{\"Site\":\"湖口\",\"county\":\"新竹縣\",\"PM25\":\"28\",\"DataCreationDate\":\"2020-03-09 11:00\",\"ItemUnit\":\"μg/m3\"},{\"Site\":\"龍潭\",\"county\":\"桃園市\",\"PM25\":\"34\",\"DataCreationDate\":\"2020-03-09 11:00\",\"ItemUnit\":\"μg/m3\"},{\"Site\":\"平鎮\",\"county\":\"桃園市\",\"PM25\":\"31\",\"DataCreationDate\":\"2020-03-09 11:00\",\"ItemUnit\":\"μg/m3\"},{\"Site\":\"觀音\",\"county\":\"桃園市\",\"PM25\":\"16\",\"DataCreationDate\":\"2020-03-09 11:00\",\"ItemUnit\":\"μg/m3\"},{\"Site\":\"大園\",\"county\":\"桃園市\",\"PM25\":\"\",\"DataCreationDate\":\"2020-03-09 11:00\",\"ItemUnit\":\"μg/m3\"},{\"Site\":\"桃園\",\"county\":\"桃園市\",\"PM25\":\"22\",\"DataCreationDate\":\"2020-03-09 11:00\",\"ItemUnit\":\"μg/m3\"},{\"Site\":\"大同\",\"county\":\"臺北市\",\"PM25\":\"32\",\"DataCreationDate\":\"2020-03-09 11:00\",\"ItemUnit\":\"μg/m3\"},{\"Site\":\"松山\",\"county\":\"臺北市\",\"PM25\":\"31\",\"DataCreationDate\":\"2020-03-09 11:00\",\"ItemUnit\":\"μg/m3\"},{\"Site\":\"古亭\",\"county\":\"臺北市\",\"PM25\":\"22\",\"DataCreationDate\":\"2020-03-09 11:00\",\"ItemUnit\":\"μg/m3\"},{\"Site\":\"萬華\",\"county\":\"臺北市\",\"PM25\":\"32\",\"DataCreationDate\":\"2020-03-09 11:00\",\"ItemUnit\":\"μg/m3\"},{\"Site\":\"中山\",\"county\":\"臺北市\",\"PM25\":\"32\",\"DataCreationDate\":\"2020-03-09 11:00\",\"ItemUnit\":\"μg/m3\"},{\"Site\":\"士林\",\"county\":\"臺北市\",\"PM25\":\"27\",\"DataCreationDate\":\"2020-03-09 11:00\",\"ItemUnit\":\"μg/m3\"},{\"Site\":\"淡水\",\"county\":\"新北市\",\"PM25\":\"19\",\"DataCreationDate\":\"2020-03-09 11:00\",\"ItemUnit\":\"μg/m3\"},{\"Site\":\"林口\",\"county\":\"新北市\",\"PM25\":\"25\",\"DataCreationDate\":\"2020-03-09 11:00\",\"ItemUnit\":\"μg/m3\"},{\"Site\":\"菜寮\",\"county\":\"新北市\",\"PM25\":\"25\",\"DataCreationDate\":\"2020-03-09 11:00\",\"ItemUnit\":\"μg/m3\"},{\"Site\":\"新莊\",\"county\":\"新北市\",\"PM25\":\"\",\"DataCreationDate\":\"2020-03-09 11:00\",\"ItemUnit\":\"μg/m3\"},{\"Site\":\"板橋\",\"county\":\"新北市\",\"PM25\":\"25\",\"DataCreationDate\":\"2020-03-09 11:00\",\"ItemUnit\":\"μg/m3\"},{\"Site\":\"土城\",\"county\":\"新北市\",\"PM25\":\"23\",\"DataCreationDate\":\"2020-03-09 11:00\",\"ItemUnit\":\"μg/m3\"},{\"Site\":\"新店\",\"county\":\"新北市\",\"PM25\":\"18\",\"DataCreationDate\":\"2020-03-09 11:00\",\"ItemUnit\":\"μg/m3\"},{\"Site\":\"萬里\",\"county\":\"新北市\",\"PM25\":\"20\",\"DataCreationDate\":\"2020-03-09 11:00\",\"ItemUnit\":\"μg/m3\"},{\"Site\":\"汐止\",\"county\":\"新北市\",\"PM25\":\"22\",\"DataCreationDate\":\"2020-03-09 10:00\",\"ItemUnit\":\"μg/m3\"},{\"Site\":\"基隆\",\"county\":\"基隆市\",\"PM25\":\"18\",\"DataCreationDate\":\"2020-03-09 11:00\",\"ItemUnit\":\"μg/m3\"}]\n"
     ]
    }
   ],
   "source": [
    "import requests\n",
    "\n",
    "url = \"https://opendata.epa.gov.tw/ws/Data/ATM00625/?$format=json\"\n",
    "res = requests.get(url)\n",
    "print(res.text)\n",
    "\n",
    "with open(\"D:\\\\pm25.json\", 'wb') as f:\n",
    "    f.write(res.content)\n"
   ]
  },
  {
   "cell_type": "markdown",
   "metadata": {},
   "source": [
    "# 避免蓋掉舊檔，用時間做檔名\n",
    "\n",
    "%a 本地簡化星期名稱  \n",
    "%A 本地完整星期名稱  \n",
    "%b 本地簡化的月份名稱  \n",
    "%B 本地完整的月份名稱  \n",
    "%c 本地相應的日期表示和時間表示  \n",
    "** %d 月內中的一天（0-31）**  \n",
    "** %H 24小時制小時數（0-23）**  \n",
    "%I 12小時制小時數（01-12）  \n",
    "%j 年內的一天（001-366）  \n",
    "** %m 月份（01-12）**  \n",
    "** %M 分鐘數（00=59）**  \n",
    "%p 本地A.M.或P.M.的等價符  \n",
    "** %S 秒（00-59）**  \n",
    "%U 一年中的星期數（00-53）星期天為星期的開始  \n",
    "%w 星期（0-6），星期天為星期的開始  \n",
    "%W 一年中的星期數（00-53）星期一為星期的開始  \n",
    "%x 本地相應的日期表示  \n",
    "%X 本地相應的時間表示  \n",
    "%y 兩位數的年份表示（00-99）  \n",
    "** %Y 四位數的年份表示（000-9999）**  \n",
    "%Z 當前時區的名稱  \n",
    "%% %號本身  "
   ]
  },
  {
   "cell_type": "code",
   "execution_count": 2,
   "metadata": {},
   "outputs": [
    {
     "name": "stdout",
     "output_type": "stream",
     "text": [
      "2020-03-09 10:32:35.951997\n",
      "時間格式化 20200309_103235\n",
      "寫入完成 2020-03-09 10:32:35.951997\n"
     ]
    }
   ],
   "source": [
    "import requests, time\n",
    "from datetime import datetime\n",
    "\n",
    "現在 = datetime.now()\n",
    "print(現在)\n",
    "ftime = 現在.strftime(\"%Y%m%d_%H%M%S\")\n",
    "print(\"時間格式化\", ftime)\n",
    "\n",
    "with open(\"D:\\\\pm25_\"+ftime+\".json\", 'wb') as f:\n",
    "    #f.write(res.content)\n",
    "    f.write(b\"xxxxxx\")\n",
    "    print(\"寫入完成\", 現在)\n",
    "\n"
   ]
  },
  {
   "cell_type": "markdown",
   "metadata": {},
   "source": [
    "# 每隔幾分鐘抓一次，並新增一個檔案"
   ]
  },
  {
   "cell_type": "code",
   "execution_count": null,
   "metadata": {},
   "outputs": [],
   "source": [
    "import requests, time\n",
    "from datetime import datetime\n",
    "\n",
    "while True:\n",
    "    url = \"https://opendata.epa.gov.tw/ws/Data/ATM00625/?$format=json\"\n",
    "    res = requests.get(url)\n",
    "    print(res.text)\n",
    "\n",
    "    現在 = datetime.now()\n",
    "    ftime = 現在.strftime(\"%Y%m%d_%H%M%S\")\n",
    "    print(\"時間格式化\", ftime)\n",
    "\n",
    "    with open(\"D:\\\\pm25_\"+ftime+\".json\", 'wb') as f:\n",
    "        #f.write(res.content)\n",
    "        f.write(res.content)\n",
    "        print(\"寫入完成\", 現在)\n",
    "\n",
    "    time.sleep(60*5)"
   ]
  },
  {
   "cell_type": "markdown",
   "metadata": {},
   "source": [
    "# 還是有問題: 雖然每隔 5 分鐘執行一次，但是，執行需要花時間的，尤其抓外網的資料，動輒花費幾十秒。那實際上後面時間誤差就會越來越大。\n",
    "\n",
    "## 解法: sleep 的時間扣掉執行的時間。"
   ]
  },
  {
   "cell_type": "code",
   "execution_count": null,
   "metadata": {},
   "outputs": [],
   "source": [
    "import requests, time\n",
    "from datetime import datetime\n",
    "\n",
    "while True:\n",
    "    start = datetime.now()\n",
    "    url = \"https://opendata.epa.gov.tw/ws/Data/ATM00625/?$format=json\"\n",
    "    res = requests.get(url)\n",
    "    print(res.text)\n",
    "\n",
    "    現在 = datetime.now()\n",
    "    ftime = 現在.strftime(\"%Y%m%d_%H%M%S\")\n",
    "    print(\"時間格式化\", ftime)\n",
    "\n",
    "    with open(\"D:\\\\pm25_\"+ftime+\".json\", 'wb') as f:\n",
    "        #f.write(res.content)\n",
    "        f.write(res.content)\n",
    "        print(\"寫入完成\", 現在)\n",
    "    td = datetime.now() - start\n",
    "    print(\"花費\", td.seconds, \"秒\")\n",
    "    time.sleep(60*5-td.seconds)"
   ]
  },
  {
   "cell_type": "markdown",
   "metadata": {},
   "source": [
    "# 時間戳記用 \"現在\" 合理嗎? 是不是可以用這批資料更新的時間來當作時間戳記呢?\n",
    "\n",
    "## 由字串轉時間物件\n",
    "\n",
    "    parse\n",
    "    \n",
    "    datetime.strptime(\"時間字串\", \"時間格式\")\n",
    "    \n",
    "    # 範例\n",
    "    datetime.strptime(\"03-09-2020 11:00\", \"%m-%d-%Y %H:%M\")\n",
    "    datetime.strptime(\"2020-03-09 11:00\", \"%Y-%m-%d %H:%M\")\n",
    "    datetime.strptime(\"2020-03-09 11:00:00\", \"%Y-%m-%d %H:%M:%S\")\n",
    "    datetime.strptime(\"20200309110000\", \"%Y%m%d%H%M%S\")\n"
   ]
  },
  {
   "cell_type": "code",
   "execution_count": null,
   "metadata": {},
   "outputs": [],
   "source": [
    "import requests, time\n",
    "from datetime import datetime\n",
    "\n",
    "while True:\n",
    "    start = datetime.now()\n",
    "    url = \"https://opendata.epa.gov.tw/ws/Data/ATM00625/?$format=json\"\n",
    "    \n",
    "    try:\n",
    "        res = requests.get(url)\n",
    "    except:\n",
    "        print('ffffff')\n",
    "        time.sleep(10)\n",
    "        continue\n",
    "\n",
    "    datas = res.json()\n",
    "    creationDate = datetime.strptime(datas[0]['DataCreationDate'], \"%Y-%m-%d %H:%M\")\n",
    "    ftime = creationDate.strftime(\"%Y%m%d%H%M\")\n",
    "    with open(\"D:\\\\pm25_\"+ftime+\".json\", 'wb') as f:\n",
    "        f.write(res.content)\n",
    "\n",
    "    td = datetime.now() - start\n",
    "    print(\"花費\", td.seconds, \"秒\")\n",
    "    time.sleep(60*30-td.seconds)"
   ]
  },
  {
   "cell_type": "markdown",
   "metadata": {},
   "source": [
    "# 如果網路不穩或者資料主機暫時出錯，該如何確保可以繼續抓下去?\n",
    "\n",
    "    這裡是進行例外處理的語法\n",
    "    \n",
    "    try:\n",
    "        xxxxx\n",
    "    except:\n",
    "        xxxxx\n",
    "       \n"
   ]
  },
  {
   "cell_type": "code",
   "execution_count": 3,
   "metadata": {},
   "outputs": [
    {
     "name": "stdout",
     "output_type": "stream",
     "text": [
      "糟糕，網站連不上!!\n"
     ]
    }
   ],
   "source": [
    "import requests\n",
    "url = \"https://opendataxxxxx.epa.gov.tw/ws/Data/ATM00625/?$format=json\"\n",
    "try:\n",
    "    res = requests.get(url)\n",
    "    print(res.text)\n",
    "except:\n",
    "    print('糟糕，網站連不上!!')\n"
   ]
  },
  {
   "cell_type": "markdown",
   "metadata": {},
   "source": [
    "# 取出某測站一整天的數值\n",
    "\n",
    "依據檔名規則取得每個時間點的數值"
   ]
  },
  {
   "cell_type": "code",
   "execution_count": 14,
   "metadata": {},
   "outputs": [
    {
     "name": "stdout",
     "output_type": "stream",
     "text": [
      "時, PM2.5\n",
      "00,  23\n",
      "01,  21\n",
      "02,  20\n",
      "03,  26\n",
      "04,  24\n",
      "05,  21\n",
      "06,  27\n",
      "07,  31\n",
      "08,  28\n",
      "09,  29\n",
      "10,  30\n",
      "11,  33\n",
      "12,  25\n",
      "13,  22\n",
      "14,  19\n",
      "15,  23\n",
      "16,  19\n",
      "17,  13\n",
      "18,  12\n",
      "19,  15\n",
      "20,  15\n",
      "21,  15\n",
      "22,  18\n",
      "23,  21\n"
     ]
    }
   ],
   "source": [
    "import requests, time, json, sys\n",
    "from datetime import datetime, timedelta\n",
    "\n",
    "start = datetime(2020, 3, 8, 0, 0)\n",
    "\n",
    "print(\"時, PM2.5\")\n",
    "for i in range(24):\n",
    "    ftime = start.strftime(\"%Y%m%d%H%M\")\n",
    "    filename = \"D:\\\\pm25_\"+ftime+\".json\"\n",
    "    try:\n",
    "        with open(filename, 'r', encoding=\"UTF-8\") as f:\n",
    "            datas = json.loads(f.read())\n",
    "            print(start.strftime(\"%H\")+\", \", datas[7]['PM25'])\n",
    "    except:\n",
    "        print(filename, sys.exc_info()[0], \"not found!!\")\n",
    "\n",
    "    start = start + timedelta(hours=1) \n"
   ]
  },
  {
   "cell_type": "markdown",
   "metadata": {},
   "source": [
    "# 測站資料直接存入 excel\n",
    "\n",
    "使用 pandas 套件"
   ]
  },
  {
   "cell_type": "code",
   "execution_count": 25,
   "metadata": {},
   "outputs": [
    {
     "name": "stdout",
     "output_type": "stream",
     "text": [
      "時\tPM2.5\n",
      "00\t23\n",
      "01\t21\n",
      "02\t20\n",
      "03\t26\n",
      "04\t24\n",
      "05\t21\n",
      "06\t27\n",
      "07\t31\n",
      "08\t28\n",
      "09\t29\n",
      "10\t30\n",
      "11\t33\n",
      "12\t25\n",
      "13\t22\n",
      "14\t19\n",
      "15\t23\n",
      "16\t19\n",
      "17\t13\n",
      "18\t12\n",
      "19\t15\n"
     ]
    },
    {
     "data": {
      "text/html": [
       "<div>\n",
       "<style scoped>\n",
       "    .dataframe tbody tr th:only-of-type {\n",
       "        vertical-align: middle;\n",
       "    }\n",
       "\n",
       "    .dataframe tbody tr th {\n",
       "        vertical-align: top;\n",
       "    }\n",
       "\n",
       "    .dataframe thead th {\n",
       "        text-align: right;\n",
       "    }\n",
       "</style>\n",
       "<table border=\"1\" class=\"dataframe\">\n",
       "  <thead>\n",
       "    <tr style=\"text-align: right;\">\n",
       "      <th></th>\n",
       "      <th>時</th>\n",
       "      <th>PM2.5</th>\n",
       "    </tr>\n",
       "  </thead>\n",
       "  <tbody>\n",
       "    <tr>\n",
       "      <th>0</th>\n",
       "      <td>00</td>\n",
       "      <td>23</td>\n",
       "    </tr>\n",
       "    <tr>\n",
       "      <th>1</th>\n",
       "      <td>01</td>\n",
       "      <td>21</td>\n",
       "    </tr>\n",
       "    <tr>\n",
       "      <th>2</th>\n",
       "      <td>02</td>\n",
       "      <td>20</td>\n",
       "    </tr>\n",
       "    <tr>\n",
       "      <th>3</th>\n",
       "      <td>03</td>\n",
       "      <td>26</td>\n",
       "    </tr>\n",
       "    <tr>\n",
       "      <th>4</th>\n",
       "      <td>04</td>\n",
       "      <td>24</td>\n",
       "    </tr>\n",
       "    <tr>\n",
       "      <th>5</th>\n",
       "      <td>05</td>\n",
       "      <td>21</td>\n",
       "    </tr>\n",
       "    <tr>\n",
       "      <th>6</th>\n",
       "      <td>06</td>\n",
       "      <td>27</td>\n",
       "    </tr>\n",
       "    <tr>\n",
       "      <th>7</th>\n",
       "      <td>07</td>\n",
       "      <td>31</td>\n",
       "    </tr>\n",
       "    <tr>\n",
       "      <th>8</th>\n",
       "      <td>08</td>\n",
       "      <td>28</td>\n",
       "    </tr>\n",
       "    <tr>\n",
       "      <th>9</th>\n",
       "      <td>09</td>\n",
       "      <td>29</td>\n",
       "    </tr>\n",
       "    <tr>\n",
       "      <th>10</th>\n",
       "      <td>10</td>\n",
       "      <td>30</td>\n",
       "    </tr>\n",
       "    <tr>\n",
       "      <th>11</th>\n",
       "      <td>11</td>\n",
       "      <td>33</td>\n",
       "    </tr>\n",
       "    <tr>\n",
       "      <th>12</th>\n",
       "      <td>12</td>\n",
       "      <td>25</td>\n",
       "    </tr>\n",
       "    <tr>\n",
       "      <th>13</th>\n",
       "      <td>13</td>\n",
       "      <td>22</td>\n",
       "    </tr>\n",
       "    <tr>\n",
       "      <th>14</th>\n",
       "      <td>14</td>\n",
       "      <td>19</td>\n",
       "    </tr>\n",
       "    <tr>\n",
       "      <th>15</th>\n",
       "      <td>15</td>\n",
       "      <td>23</td>\n",
       "    </tr>\n",
       "    <tr>\n",
       "      <th>16</th>\n",
       "      <td>16</td>\n",
       "      <td>19</td>\n",
       "    </tr>\n",
       "    <tr>\n",
       "      <th>17</th>\n",
       "      <td>17</td>\n",
       "      <td>13</td>\n",
       "    </tr>\n",
       "    <tr>\n",
       "      <th>18</th>\n",
       "      <td>18</td>\n",
       "      <td>12</td>\n",
       "    </tr>\n",
       "    <tr>\n",
       "      <th>19</th>\n",
       "      <td>19</td>\n",
       "      <td>15</td>\n",
       "    </tr>\n",
       "  </tbody>\n",
       "</table>\n",
       "</div>"
      ],
      "text/plain": [
       "     時  PM2.5\n",
       "0   00     23\n",
       "1   01     21\n",
       "2   02     20\n",
       "3   03     26\n",
       "4   04     24\n",
       "5   05     21\n",
       "6   06     27\n",
       "7   07     31\n",
       "8   08     28\n",
       "9   09     29\n",
       "10  10     30\n",
       "11  11     33\n",
       "12  12     25\n",
       "13  13     22\n",
       "14  14     19\n",
       "15  15     23\n",
       "16  16     19\n",
       "17  17     13\n",
       "18  18     12\n",
       "19  19     15"
      ]
     },
     "execution_count": 25,
     "metadata": {},
     "output_type": "execute_result"
    }
   ],
   "source": [
    "import requests, time, json\n",
    "from datetime import datetime, timedelta\n",
    "import pandas as pd\n",
    "\n",
    "start = datetime(2020, 3, 8, 0, 0)\n",
    "\n",
    "df = pd.DataFrame()\n",
    "\n",
    "print(\"時\\tPM2.5\")\n",
    "\n",
    "col1 = []\n",
    "col2 = []\n",
    "for i in range(20):\n",
    "    ftime = start.strftime(\"%Y%m%d%H%M\")\n",
    "    filename = \"D:\\\\pm25_\"+ftime+\".json\"\n",
    "    try:\n",
    "        with open(filename, 'r', encoding=\"UTF-8\") as f:\n",
    "            datas = json.loads(f.read())\n",
    "            print(start.strftime(\"%H\")+\"\\t\"+datas[7]['PM25'])\n",
    "            col1.append(start.strftime(\"%H\"))\n",
    "            col2.append(int(datas[7]['PM25']))\n",
    "    except e:\n",
    "        print(filename, e, \"not found!!\")\n",
    "\n",
    "    start = start + timedelta(hours=1) \n",
    "    \n",
    "df['時'] = pd.Series(col1)\n",
    "df['PM2.5'] = pd.Series(col2)\n",
    "\n",
    "#df.to_excel('D:\\\\pm25.xlsx')\n",
    "df"
   ]
  },
  {
   "cell_type": "markdown",
   "metadata": {},
   "source": [
    "# 讀取 Excel 直接畫成折線圖"
   ]
  },
  {
   "cell_type": "code",
   "execution_count": null,
   "metadata": {},
   "outputs": [],
   "source": []
  }
 ],
 "metadata": {
  "kernelspec": {
   "display_name": "Python 3",
   "language": "python",
   "name": "python3"
  },
  "language_info": {
   "codemirror_mode": {
    "name": "ipython",
    "version": 3
   },
   "file_extension": ".py",
   "mimetype": "text/x-python",
   "name": "python",
   "nbconvert_exporter": "python",
   "pygments_lexer": "ipython3",
   "version": "3.6.5"
  }
 },
 "nbformat": 4,
 "nbformat_minor": 2
}

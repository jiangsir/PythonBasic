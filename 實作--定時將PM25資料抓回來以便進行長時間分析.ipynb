{
 "cells": [
  {
   "cell_type": "markdown",
   "metadata": {},
   "source": [
    "# 從 url 直接下載檔案"
   ]
  },
  {
   "cell_type": "code",
   "execution_count": 3,
   "metadata": {},
   "outputs": [],
   "source": [
    "import requests\n",
    "\n",
    "url = \"https://opendata.epa.gov.tw/ws/Data/ATM00625/?$format=json\"\n",
    "res = requests.get(url)\n",
    "print(res.text)\n",
    "\n",
    "with open(\"D:\\\\pm25.json\", 'wb') as f:\n",
    "    f.write(res.content)\n",
    ""
   ]
  },
  {
   "cell_type": "markdown",
   "metadata": {},
   "source": [
    "# 避免蓋掉舊檔，用時間做檔名\n",
    "\n",
    "%a 本地簡化星期名稱  \n",
    "%A 本地完整星期名稱  \n",
    "%b 本地簡化的月份名稱  \n",
    "%B 本地完整的月份名稱  \n",
    "%c 本地相應的日期表示和時間表示  \n",
    "** %d 月內中的一天（0-31）**  \n",
    "** %H 24小時制小時數（0-23）**  \n",
    "%I 12小時制小時數（01-12）  \n",
    "%j 年內的一天（001-366）  \n",
    "** %m 月份（01-12）**  \n",
    "** %M 分鐘數（00=59）**  \n",
    "%p 本地A.M.或P.M.的等價符  \n",
    "** %S 秒（00-59）**  \n",
    "%U 一年中的星期數（00-53）星期天為星期的開始  \n",
    "%w 星期（0-6），星期天為星期的開始  \n",
    "%W 一年中的星期數（00-53）星期一為星期的開始  \n",
    "%x 本地相應的日期表示  \n",
    "%X 本地相應的時間表示  \n",
    "%y 兩位數的年份表示（00-99）  \n",
    "** %Y 四位數的年份表示（000-9999）**  \n",
    "%Z 當前時區的名稱  \n",
    "%% %號本身  "
   ]
  },
  {
   "cell_type": "code",
   "execution_count": 2,
   "metadata": {},
   "outputs": [
    {
     "name": "stdout",
     "output_type": "stream",
     "text": [
      "2020-03-09 10:32:35.951997\n",
      "時間格式化 20200309_103235\n",
      "寫入完成 2020-03-09 10:32:35.951997\n"
     ]
    }
   ],
   "source": [
    "import requests, time\n",
    "from datetime import datetime\n",
    "\n",
    "現在 = datetime.now()\n",
    "print(現在)\n",
    "ftime = 現在.strftime(\"%Y%m%d_%H%M%S\")\n",
    "print(\"時間格式化\", ftime)\n",
    "\n",
    "with open(\"D:\\\\pm25_\"+ftime+\".json\", 'wb') as f:\n",
    "    #f.write(res.content)\n",
    "    f.write(b\"xxxxxx\")\n",
    "    print(\"寫入完成\", 現在)\n",
    "\n"
   ]
  },
  {
   "cell_type": "markdown",
   "metadata": {},
   "source": [
    "# 每隔幾分鐘抓一次，並新增一個檔案"
   ]
  },
  {
   "cell_type": "code",
   "execution_count": null,
   "metadata": {},
   "outputs": [],
   "source": [
    "import requests, time\n",
    "from datetime import datetime\n",
    "\n",
    "while True:\n",
    "    url = \"https://opendata.epa.gov.tw/ws/Data/ATM00625/?$format=json\"\n",
    "    res = requests.get(url)\n",
    "    print(res.text)\n",
    "\n",
    "    現在 = datetime.now()\n",
    "    ftime = 現在.strftime(\"%Y%m%d_%H%M%S\")\n",
    "    print(\"時間格式化\", ftime)\n",
    "\n",
    "    with open(\"D:\\\\pm25_\"+ftime+\".json\", 'wb') as f:\n",
    "        #f.write(res.content)\n",
    "        f.write(res.content)\n",
    "        print(\"寫入完成\", 現在)\n",
    "\n",
    "    time.sleep(60*5)"
   ]
  },
  {
   "cell_type": "markdown",
   "metadata": {},
   "source": [
    "# 還是有問題: 雖然每隔 5 分鐘執行一次，但是，執行需要花時間的，尤其抓外網的資料，動輒花費幾十秒。那實際上後面時間誤差就會越來越大。\n",
    "\n",
    "## 解法: sleep 的時間扣掉執行的時間。"
   ]
  },
  {
   "cell_type": "code",
   "execution_count": null,
   "metadata": {},
   "outputs": [],
   "source": [
    "import requests, time\n",
    "from datetime import datetime\n",
    "\n",
    "while True:\n",
    "    start = datetime.now()\n",
    "    url = \"https://opendata.epa.gov.tw/ws/Data/ATM00625/?$format=json\"\n",
    "    res = requests.get(url)\n",
    "    print(res.text)\n",
    "\n",
    "    現在 = datetime.now()\n",
    "    ftime = 現在.strftime(\"%Y%m%d_%H%M%S\")\n",
    "    print(\"時間格式化\", ftime)\n",
    "\n",
    "    with open(\"D:\\\\pm25_\"+ftime+\".json\", 'wb') as f:\n",
    "        #f.write(res.content)\n",
    "        f.write(res.content)\n",
    "        print(\"寫入完成\", 現在)\n",
    "    td = datetime.now() - start\n",
    "    print(\"花費\", td.seconds, \"秒\")\n",
    "    time.sleep(60*5-td.seconds)"
   ]
  },
  {
   "cell_type": "markdown",
   "metadata": {},
   "source": [
    "# 時間戳記用 \"現在\" 合理嗎? 是不是可以用這批資料更新的時間來當作時間戳記呢?\n",
    "\n",
    "## 由字串轉時間物件\n",
    "\n",
    "    parse\n",
    "    \n",
    "    datetime.strptime(\"時間字串\", \"時間格式\")\n",
    "    \n",
    "    # 範例\n",
    "    datetime.strptime(\"03-09-2020 11:00\", \"%m-%d-%Y %H:%M\")\n",
    "    datetime.strptime(\"2020-03-09 11:00\", \"%Y-%m-%d %H:%M\")\n",
    "    datetime.strptime(\"2020-03-09 11:00:00\", \"%Y-%m-%d %H:%M:%S\")\n",
    "    datetime.strptime(\"20200309110000\", \"%Y%m%d%H%M%S\")\n"
   ]
  },
  {
   "cell_type": "code",
   "execution_count": null,
   "metadata": {},
   "outputs": [],
   "source": [
    "import requests, time\n",
    "from datetime import datetime\n",
    "\n",
    "while True:\n",
    "    start = datetime.now()\n",
    "    url = \"https://opendata.epa.gov.tw/ws/Data/ATM00625/?$format=json\"\n",
    "    \n",
    "    try:\n",
    "        res = requests.get(url)\n",
    "    except:\n",
    "        print('ffffff')\n",
    "        time.sleep(10)\n",
    "        continue\n",
    "\n",
    "    datas = res.json()\n",
    "    creationDate = datetime.strptime(datas[0]['DataCreationDate'], \"%Y-%m-%d %H:%M\")\n",
    "    ftime = creationDate.strftime(\"%Y%m%d%H%M\")\n",
    "    with open(\"D:\\\\pm25_\"+ftime+\".json\", 'wb') as f:\n",
    "        f.write(res.content)\n",
    "\n",
    "    td = datetime.now() - start\n",
    "    print(\"花費\", td.seconds, \"秒\")\n",
    "    time.sleep(60*30-td.seconds)"
   ]
  },
  {
   "cell_type": "markdown",
   "metadata": {},
   "source": [
    "# 如果網路不穩或者資料主機暫時出錯，該如何確保可以繼續抓下去?\n",
    "\n",
    "    這裡是進行例外處理的語法\n",
    "    \n",
    "    try:\n",
    "        xxxxx\n",
    "    except:\n",
    "        xxxxx\n",
    "       \n"
   ]
  },
  {
   "cell_type": "code",
   "execution_count": 2,
   "metadata": {
    "tags": [
     "outputPrepend",
     "outputPrepend",
     "outputPrepend",
     "outputPrepend",
     "outputPrepend",
     "outputPrepend",
     "outputPrepend",
     "outputPrepend",
     "outputPrepend",
     "outputPrepend",
     "outputPrepend",
     "outputPrepend",
     "outputPrepend",
     "outputPrepend",
     "outputPrepend",
     "outputPrepend",
     "outputPrepend",
     "outputPrepend",
     "outputPrepend",
     "outputPrepend",
     "outputPrepend",
     "outputPrepend",
     "outputPrepend",
     "outputPrepend",
     "outputPrepend",
     "outputPrepend",
     "outputPrepend",
     "outputPrepend",
     "outputPrepend",
     "outputPrepend",
     "outputPrepend",
     "outputPrepend",
     "outputPrepend",
     "outputPrepend",
     "outputPrepend",
     "outputPrepend",
     "outputPrepend",
     "outputPrepend",
     "outputPrepend",
     "outputPrepend",
     "outputPrepend",
     "outputPrepend",
     "outputPrepend",
     "outputPrepend",
     "outputPrepend",
     "outputPrepend",
     "outputPrepend",
     "outputPrepend",
     "outputPrepend",
     "outputPrepend",
     "outputPrepend",
     "outputPrepend",
     "outputPrepend",
     "outputPrepend",
     "outputPrepend",
     "outputPrepend",
     "outputPrepend",
     "outputPrepend",
     "outputPrepend",
     "outputPrepend",
     "outputPrepend",
     "outputPrepend",
     "outputPrepend",
     "outputPrepend",
     "outputPrepend",
     "outputPrepend",
     "outputPrepend",
     "outputPrepend",
     "outputPrepend",
     "outputPrepend",
     "outputPrepend",
     "outputPrepend",
     "outputPrepend",
     "outputPrepend",
     "outputPrepend",
     "outputPrepend",
     "outputPrepend",
     "outputPrepend",
     "outputPrepend",
     "outputPrepend",
     "outputPrepend",
     "outputPrepend",
     "outputPrepend",
     "outputPrepend",
     "outputPrepend",
     "outputPrepend",
     "outputPrepend",
     "outputPrepend",
     "outputPrepend",
     "outputPrepend",
     "outputPrepend",
     "outputPrepend",
     "outputPrepend",
     "outputPrepend",
     "outputPrepend",
     "outputPrepend"
    ]
   },
   "outputs": [
    {
     "output_type": "stream",
     "name": "stdout",
     "text": "糟糕，網站連不上!! 等待10秒再試一次\n糟糕，網站連不上!! 等待10秒再試一次\n"
    },
    {
     "output_type": "error",
     "ename": "KeyboardInterrupt",
     "evalue": "",
     "traceback": [
      "\u001b[1;31m---------------------------------------------------------------------------\u001b[0m",
      "\u001b[1;31mgaierror\u001b[0m                                  Traceback (most recent call last)",
      "\u001b[1;32m~\\Anaconda3\\lib\\site-packages\\urllib3\\connection.py\u001b[0m in \u001b[0;36m_new_conn\u001b[1;34m(self)\u001b[0m\n\u001b[0;32m    140\u001b[0m             conn = connection.create_connection(\n\u001b[1;32m--> 141\u001b[1;33m                 (self.host, self.port), self.timeout, **extra_kw)\n\u001b[0m\u001b[0;32m    142\u001b[0m \u001b[1;33m\u001b[0m\u001b[0m\n",
      "\u001b[1;32m~\\Anaconda3\\lib\\site-packages\\urllib3\\util\\connection.py\u001b[0m in \u001b[0;36mcreate_connection\u001b[1;34m(address, timeout, source_address, socket_options)\u001b[0m\n\u001b[0;32m     59\u001b[0m \u001b[1;33m\u001b[0m\u001b[0m\n\u001b[1;32m---> 60\u001b[1;33m     \u001b[1;32mfor\u001b[0m \u001b[0mres\u001b[0m \u001b[1;32min\u001b[0m \u001b[0msocket\u001b[0m\u001b[1;33m.\u001b[0m\u001b[0mgetaddrinfo\u001b[0m\u001b[1;33m(\u001b[0m\u001b[0mhost\u001b[0m\u001b[1;33m,\u001b[0m \u001b[0mport\u001b[0m\u001b[1;33m,\u001b[0m \u001b[0mfamily\u001b[0m\u001b[1;33m,\u001b[0m \u001b[0msocket\u001b[0m\u001b[1;33m.\u001b[0m\u001b[0mSOCK_STREAM\u001b[0m\u001b[1;33m)\u001b[0m\u001b[1;33m:\u001b[0m\u001b[1;33m\u001b[0m\u001b[0m\n\u001b[0m\u001b[0;32m     61\u001b[0m         \u001b[0maf\u001b[0m\u001b[1;33m,\u001b[0m \u001b[0msocktype\u001b[0m\u001b[1;33m,\u001b[0m \u001b[0mproto\u001b[0m\u001b[1;33m,\u001b[0m \u001b[0mcanonname\u001b[0m\u001b[1;33m,\u001b[0m \u001b[0msa\u001b[0m \u001b[1;33m=\u001b[0m \u001b[0mres\u001b[0m\u001b[1;33m\u001b[0m\u001b[0m\n",
      "\u001b[1;32m~\\Anaconda3\\lib\\socket.py\u001b[0m in \u001b[0;36mgetaddrinfo\u001b[1;34m(host, port, family, type, proto, flags)\u001b[0m\n\u001b[0;32m    744\u001b[0m     \u001b[0maddrlist\u001b[0m \u001b[1;33m=\u001b[0m \u001b[1;33m[\u001b[0m\u001b[1;33m]\u001b[0m\u001b[1;33m\u001b[0m\u001b[0m\n\u001b[1;32m--> 745\u001b[1;33m     \u001b[1;32mfor\u001b[0m \u001b[0mres\u001b[0m \u001b[1;32min\u001b[0m \u001b[0m_socket\u001b[0m\u001b[1;33m.\u001b[0m\u001b[0mgetaddrinfo\u001b[0m\u001b[1;33m(\u001b[0m\u001b[0mhost\u001b[0m\u001b[1;33m,\u001b[0m \u001b[0mport\u001b[0m\u001b[1;33m,\u001b[0m \u001b[0mfamily\u001b[0m\u001b[1;33m,\u001b[0m \u001b[0mtype\u001b[0m\u001b[1;33m,\u001b[0m \u001b[0mproto\u001b[0m\u001b[1;33m,\u001b[0m \u001b[0mflags\u001b[0m\u001b[1;33m)\u001b[0m\u001b[1;33m:\u001b[0m\u001b[1;33m\u001b[0m\u001b[0m\n\u001b[0m\u001b[0;32m    746\u001b[0m         \u001b[0maf\u001b[0m\u001b[1;33m,\u001b[0m \u001b[0msocktype\u001b[0m\u001b[1;33m,\u001b[0m \u001b[0mproto\u001b[0m\u001b[1;33m,\u001b[0m \u001b[0mcanonname\u001b[0m\u001b[1;33m,\u001b[0m \u001b[0msa\u001b[0m \u001b[1;33m=\u001b[0m \u001b[0mres\u001b[0m\u001b[1;33m\u001b[0m\u001b[0m\n",
      "\u001b[1;31mgaierror\u001b[0m: [Errno 11001] getaddrinfo failed",
      "\nDuring handling of the above exception, another exception occurred:\n",
      "\u001b[1;31mNewConnectionError\u001b[0m                        Traceback (most recent call last)",
      "\u001b[1;32m~\\Anaconda3\\lib\\site-packages\\urllib3\\connectionpool.py\u001b[0m in \u001b[0;36murlopen\u001b[1;34m(self, method, url, body, headers, retries, redirect, assert_same_host, timeout, pool_timeout, release_conn, chunked, body_pos, **response_kw)\u001b[0m\n\u001b[0;32m    599\u001b[0m                                                   \u001b[0mbody\u001b[0m\u001b[1;33m=\u001b[0m\u001b[0mbody\u001b[0m\u001b[1;33m,\u001b[0m \u001b[0mheaders\u001b[0m\u001b[1;33m=\u001b[0m\u001b[0mheaders\u001b[0m\u001b[1;33m,\u001b[0m\u001b[1;33m\u001b[0m\u001b[0m\n\u001b[1;32m--> 600\u001b[1;33m                                                   chunked=chunked)\n\u001b[0m\u001b[0;32m    601\u001b[0m \u001b[1;33m\u001b[0m\u001b[0m\n",
      "\u001b[1;32m~\\Anaconda3\\lib\\site-packages\\urllib3\\connectionpool.py\u001b[0m in \u001b[0;36m_make_request\u001b[1;34m(self, conn, method, url, timeout, chunked, **httplib_request_kw)\u001b[0m\n\u001b[0;32m    344\u001b[0m         \u001b[1;32mtry\u001b[0m\u001b[1;33m:\u001b[0m\u001b[1;33m\u001b[0m\u001b[0m\n\u001b[1;32m--> 345\u001b[1;33m             \u001b[0mself\u001b[0m\u001b[1;33m.\u001b[0m\u001b[0m_validate_conn\u001b[0m\u001b[1;33m(\u001b[0m\u001b[0mconn\u001b[0m\u001b[1;33m)\u001b[0m\u001b[1;33m\u001b[0m\u001b[0m\n\u001b[0m\u001b[0;32m    346\u001b[0m         \u001b[1;32mexcept\u001b[0m \u001b[1;33m(\u001b[0m\u001b[0mSocketTimeout\u001b[0m\u001b[1;33m,\u001b[0m \u001b[0mBaseSSLError\u001b[0m\u001b[1;33m)\u001b[0m \u001b[1;32mas\u001b[0m \u001b[0me\u001b[0m\u001b[1;33m:\u001b[0m\u001b[1;33m\u001b[0m\u001b[0m\n",
      "\u001b[1;32m~\\Anaconda3\\lib\\site-packages\\urllib3\\connectionpool.py\u001b[0m in \u001b[0;36m_validate_conn\u001b[1;34m(self, conn)\u001b[0m\n\u001b[0;32m    843\u001b[0m         \u001b[1;32mif\u001b[0m \u001b[1;32mnot\u001b[0m \u001b[0mgetattr\u001b[0m\u001b[1;33m(\u001b[0m\u001b[0mconn\u001b[0m\u001b[1;33m,\u001b[0m \u001b[1;34m'sock'\u001b[0m\u001b[1;33m,\u001b[0m \u001b[1;32mNone\u001b[0m\u001b[1;33m)\u001b[0m\u001b[1;33m:\u001b[0m  \u001b[1;31m# AppEngine might not have  `.sock`\u001b[0m\u001b[1;33m\u001b[0m\u001b[0m\n\u001b[1;32m--> 844\u001b[1;33m             \u001b[0mconn\u001b[0m\u001b[1;33m.\u001b[0m\u001b[0mconnect\u001b[0m\u001b[1;33m(\u001b[0m\u001b[1;33m)\u001b[0m\u001b[1;33m\u001b[0m\u001b[0m\n\u001b[0m\u001b[0;32m    845\u001b[0m \u001b[1;33m\u001b[0m\u001b[0m\n",
      "\u001b[1;32m~\\Anaconda3\\lib\\site-packages\\urllib3\\connection.py\u001b[0m in \u001b[0;36mconnect\u001b[1;34m(self)\u001b[0m\n\u001b[0;32m    283\u001b[0m         \u001b[1;31m# Add certificate verification\u001b[0m\u001b[1;33m\u001b[0m\u001b[1;33m\u001b[0m\u001b[0m\n\u001b[1;32m--> 284\u001b[1;33m         \u001b[0mconn\u001b[0m \u001b[1;33m=\u001b[0m \u001b[0mself\u001b[0m\u001b[1;33m.\u001b[0m\u001b[0m_new_conn\u001b[0m\u001b[1;33m(\u001b[0m\u001b[1;33m)\u001b[0m\u001b[1;33m\u001b[0m\u001b[0m\n\u001b[0m\u001b[0;32m    285\u001b[0m \u001b[1;33m\u001b[0m\u001b[0m\n",
      "\u001b[1;32m~\\Anaconda3\\lib\\site-packages\\urllib3\\connection.py\u001b[0m in \u001b[0;36m_new_conn\u001b[1;34m(self)\u001b[0m\n\u001b[0;32m    149\u001b[0m             raise NewConnectionError(\n\u001b[1;32m--> 150\u001b[1;33m                 self, \"Failed to establish a new connection: %s\" % e)\n\u001b[0m\u001b[0;32m    151\u001b[0m \u001b[1;33m\u001b[0m\u001b[0m\n",
      "\u001b[1;31mNewConnectionError\u001b[0m: <urllib3.connection.VerifiedHTTPSConnection object at 0x00000209308114E0>: Failed to establish a new connection: [Errno 11001] getaddrinfo failed",
      "\nDuring handling of the above exception, another exception occurred:\n",
      "\u001b[1;31mMaxRetryError\u001b[0m                             Traceback (most recent call last)",
      "\u001b[1;32m~\\Anaconda3\\lib\\site-packages\\requests\\adapters.py\u001b[0m in \u001b[0;36msend\u001b[1;34m(self, request, stream, timeout, verify, cert, proxies)\u001b[0m\n\u001b[0;32m    439\u001b[0m                     \u001b[0mretries\u001b[0m\u001b[1;33m=\u001b[0m\u001b[0mself\u001b[0m\u001b[1;33m.\u001b[0m\u001b[0mmax_retries\u001b[0m\u001b[1;33m,\u001b[0m\u001b[1;33m\u001b[0m\u001b[0m\n\u001b[1;32m--> 440\u001b[1;33m                     \u001b[0mtimeout\u001b[0m\u001b[1;33m=\u001b[0m\u001b[0mtimeout\u001b[0m\u001b[1;33m\u001b[0m\u001b[0m\n\u001b[0m\u001b[0;32m    441\u001b[0m                 )\n",
      "\u001b[1;32m~\\Anaconda3\\lib\\site-packages\\urllib3\\connectionpool.py\u001b[0m in \u001b[0;36murlopen\u001b[1;34m(self, method, url, body, headers, retries, redirect, assert_same_host, timeout, pool_timeout, release_conn, chunked, body_pos, **response_kw)\u001b[0m\n\u001b[0;32m    648\u001b[0m             retries = retries.increment(method, url, error=e, _pool=self,\n\u001b[1;32m--> 649\u001b[1;33m                                         _stacktrace=sys.exc_info()[2])\n\u001b[0m\u001b[0;32m    650\u001b[0m             \u001b[0mretries\u001b[0m\u001b[1;33m.\u001b[0m\u001b[0msleep\u001b[0m\u001b[1;33m(\u001b[0m\u001b[1;33m)\u001b[0m\u001b[1;33m\u001b[0m\u001b[0m\n",
      "\u001b[1;32m~\\Anaconda3\\lib\\site-packages\\urllib3\\util\\retry.py\u001b[0m in \u001b[0;36mincrement\u001b[1;34m(self, method, url, response, error, _pool, _stacktrace)\u001b[0m\n\u001b[0;32m    387\u001b[0m         \u001b[1;32mif\u001b[0m \u001b[0mnew_retry\u001b[0m\u001b[1;33m.\u001b[0m\u001b[0mis_exhausted\u001b[0m\u001b[1;33m(\u001b[0m\u001b[1;33m)\u001b[0m\u001b[1;33m:\u001b[0m\u001b[1;33m\u001b[0m\u001b[0m\n\u001b[1;32m--> 388\u001b[1;33m             \u001b[1;32mraise\u001b[0m \u001b[0mMaxRetryError\u001b[0m\u001b[1;33m(\u001b[0m\u001b[0m_pool\u001b[0m\u001b[1;33m,\u001b[0m \u001b[0murl\u001b[0m\u001b[1;33m,\u001b[0m \u001b[0merror\u001b[0m \u001b[1;32mor\u001b[0m \u001b[0mResponseError\u001b[0m\u001b[1;33m(\u001b[0m\u001b[0mcause\u001b[0m\u001b[1;33m)\u001b[0m\u001b[1;33m)\u001b[0m\u001b[1;33m\u001b[0m\u001b[0m\n\u001b[0m\u001b[0;32m    389\u001b[0m \u001b[1;33m\u001b[0m\u001b[0m\n",
      "\u001b[1;31mMaxRetryError\u001b[0m: HTTPSConnectionPool(host='opendataxxxxx.epa.gov.tw', port=443): Max retries exceeded with url: /ws/Data/ATM00625/?$format=json (Caused by NewConnectionError('<urllib3.connection.VerifiedHTTPSConnection object at 0x00000209308114E0>: Failed to establish a new connection: [Errno 11001] getaddrinfo failed',))",
      "\nDuring handling of the above exception, another exception occurred:\n",
      "\u001b[1;31mConnectionError\u001b[0m                           Traceback (most recent call last)",
      "\u001b[1;32m<ipython-input-2-e894194673fc>\u001b[0m in \u001b[0;36m<module>\u001b[1;34m()\u001b[0m\n\u001b[0;32m      4\u001b[0m     \u001b[1;32mtry\u001b[0m\u001b[1;33m:\u001b[0m\u001b[1;33m\u001b[0m\u001b[0m\n\u001b[1;32m----> 5\u001b[1;33m         \u001b[0mres\u001b[0m \u001b[1;33m=\u001b[0m \u001b[0mrequests\u001b[0m\u001b[1;33m.\u001b[0m\u001b[0mget\u001b[0m\u001b[1;33m(\u001b[0m\u001b[0murl\u001b[0m\u001b[1;33m)\u001b[0m\u001b[1;33m\u001b[0m\u001b[0m\n\u001b[0m\u001b[0;32m      6\u001b[0m         \u001b[0mprint\u001b[0m\u001b[1;33m(\u001b[0m\u001b[0mres\u001b[0m\u001b[1;33m.\u001b[0m\u001b[0mtext\u001b[0m\u001b[1;33m)\u001b[0m\u001b[1;33m\u001b[0m\u001b[0m\n",
      "\u001b[1;32m~\\Anaconda3\\lib\\site-packages\\requests\\api.py\u001b[0m in \u001b[0;36mget\u001b[1;34m(url, params, **kwargs)\u001b[0m\n\u001b[0;32m     71\u001b[0m     \u001b[0mkwargs\u001b[0m\u001b[1;33m.\u001b[0m\u001b[0msetdefault\u001b[0m\u001b[1;33m(\u001b[0m\u001b[1;34m'allow_redirects'\u001b[0m\u001b[1;33m,\u001b[0m \u001b[1;32mTrue\u001b[0m\u001b[1;33m)\u001b[0m\u001b[1;33m\u001b[0m\u001b[0m\n\u001b[1;32m---> 72\u001b[1;33m     \u001b[1;32mreturn\u001b[0m \u001b[0mrequest\u001b[0m\u001b[1;33m(\u001b[0m\u001b[1;34m'get'\u001b[0m\u001b[1;33m,\u001b[0m \u001b[0murl\u001b[0m\u001b[1;33m,\u001b[0m \u001b[0mparams\u001b[0m\u001b[1;33m=\u001b[0m\u001b[0mparams\u001b[0m\u001b[1;33m,\u001b[0m \u001b[1;33m**\u001b[0m\u001b[0mkwargs\u001b[0m\u001b[1;33m)\u001b[0m\u001b[1;33m\u001b[0m\u001b[0m\n\u001b[0m\u001b[0;32m     73\u001b[0m \u001b[1;33m\u001b[0m\u001b[0m\n",
      "\u001b[1;32m~\\Anaconda3\\lib\\site-packages\\requests\\api.py\u001b[0m in \u001b[0;36mrequest\u001b[1;34m(method, url, **kwargs)\u001b[0m\n\u001b[0;32m     57\u001b[0m     \u001b[1;32mwith\u001b[0m \u001b[0msessions\u001b[0m\u001b[1;33m.\u001b[0m\u001b[0mSession\u001b[0m\u001b[1;33m(\u001b[0m\u001b[1;33m)\u001b[0m \u001b[1;32mas\u001b[0m \u001b[0msession\u001b[0m\u001b[1;33m:\u001b[0m\u001b[1;33m\u001b[0m\u001b[0m\n\u001b[1;32m---> 58\u001b[1;33m         \u001b[1;32mreturn\u001b[0m \u001b[0msession\u001b[0m\u001b[1;33m.\u001b[0m\u001b[0mrequest\u001b[0m\u001b[1;33m(\u001b[0m\u001b[0mmethod\u001b[0m\u001b[1;33m=\u001b[0m\u001b[0mmethod\u001b[0m\u001b[1;33m,\u001b[0m \u001b[0murl\u001b[0m\u001b[1;33m=\u001b[0m\u001b[0murl\u001b[0m\u001b[1;33m,\u001b[0m \u001b[1;33m**\u001b[0m\u001b[0mkwargs\u001b[0m\u001b[1;33m)\u001b[0m\u001b[1;33m\u001b[0m\u001b[0m\n\u001b[0m\u001b[0;32m     59\u001b[0m \u001b[1;33m\u001b[0m\u001b[0m\n",
      "\u001b[1;32m~\\Anaconda3\\lib\\site-packages\\requests\\sessions.py\u001b[0m in \u001b[0;36mrequest\u001b[1;34m(self, method, url, params, data, headers, cookies, files, auth, timeout, allow_redirects, proxies, hooks, stream, verify, cert, json)\u001b[0m\n\u001b[0;32m    512\u001b[0m         \u001b[0msend_kwargs\u001b[0m\u001b[1;33m.\u001b[0m\u001b[0mupdate\u001b[0m\u001b[1;33m(\u001b[0m\u001b[0msettings\u001b[0m\u001b[1;33m)\u001b[0m\u001b[1;33m\u001b[0m\u001b[0m\n\u001b[1;32m--> 513\u001b[1;33m         \u001b[0mresp\u001b[0m \u001b[1;33m=\u001b[0m \u001b[0mself\u001b[0m\u001b[1;33m.\u001b[0m\u001b[0msend\u001b[0m\u001b[1;33m(\u001b[0m\u001b[0mprep\u001b[0m\u001b[1;33m,\u001b[0m \u001b[1;33m**\u001b[0m\u001b[0msend_kwargs\u001b[0m\u001b[1;33m)\u001b[0m\u001b[1;33m\u001b[0m\u001b[0m\n\u001b[0m\u001b[0;32m    514\u001b[0m \u001b[1;33m\u001b[0m\u001b[0m\n",
      "\u001b[1;32m~\\Anaconda3\\lib\\site-packages\\requests\\sessions.py\u001b[0m in \u001b[0;36msend\u001b[1;34m(self, request, **kwargs)\u001b[0m\n\u001b[0;32m    622\u001b[0m         \u001b[1;31m# Send the request\u001b[0m\u001b[1;33m\u001b[0m\u001b[1;33m\u001b[0m\u001b[0m\n\u001b[1;32m--> 623\u001b[1;33m         \u001b[0mr\u001b[0m \u001b[1;33m=\u001b[0m \u001b[0madapter\u001b[0m\u001b[1;33m.\u001b[0m\u001b[0msend\u001b[0m\u001b[1;33m(\u001b[0m\u001b[0mrequest\u001b[0m\u001b[1;33m,\u001b[0m \u001b[1;33m**\u001b[0m\u001b[0mkwargs\u001b[0m\u001b[1;33m)\u001b[0m\u001b[1;33m\u001b[0m\u001b[0m\n\u001b[0m\u001b[0;32m    624\u001b[0m \u001b[1;33m\u001b[0m\u001b[0m\n",
      "\u001b[1;32m~\\Anaconda3\\lib\\site-packages\\requests\\adapters.py\u001b[0m in \u001b[0;36msend\u001b[1;34m(self, request, stream, timeout, verify, cert, proxies)\u001b[0m\n\u001b[0;32m    503\u001b[0m \u001b[1;33m\u001b[0m\u001b[0m\n\u001b[1;32m--> 504\u001b[1;33m             \u001b[1;32mraise\u001b[0m \u001b[0mConnectionError\u001b[0m\u001b[1;33m(\u001b[0m\u001b[0me\u001b[0m\u001b[1;33m,\u001b[0m \u001b[0mrequest\u001b[0m\u001b[1;33m=\u001b[0m\u001b[0mrequest\u001b[0m\u001b[1;33m)\u001b[0m\u001b[1;33m\u001b[0m\u001b[0m\n\u001b[0m\u001b[0;32m    505\u001b[0m \u001b[1;33m\u001b[0m\u001b[0m\n",
      "\u001b[1;31mConnectionError\u001b[0m: HTTPSConnectionPool(host='opendataxxxxx.epa.gov.tw', port=443): Max retries exceeded with url: /ws/Data/ATM00625/?$format=json (Caused by NewConnectionError('<urllib3.connection.VerifiedHTTPSConnection object at 0x00000209308114E0>: Failed to establish a new connection: [Errno 11001] getaddrinfo failed',))",
      "\nDuring handling of the above exception, another exception occurred:\n",
      "\u001b[1;31mKeyboardInterrupt\u001b[0m                         Traceback (most recent call last)",
      "\u001b[1;32m<ipython-input-2-e894194673fc>\u001b[0m in \u001b[0;36m<module>\u001b[1;34m()\u001b[0m\n\u001b[0;32m      7\u001b[0m     \u001b[1;32mexcept\u001b[0m\u001b[1;33m:\u001b[0m\u001b[1;33m\u001b[0m\u001b[0m\n\u001b[0;32m      8\u001b[0m         \u001b[0mprint\u001b[0m\u001b[1;33m(\u001b[0m\u001b[1;34m'糟糕，網站連不上!! 等待10秒再試一次'\u001b[0m\u001b[1;33m)\u001b[0m\u001b[1;33m\u001b[0m\u001b[0m\n\u001b[1;32m----> 9\u001b[1;33m         \u001b[0mtime\u001b[0m\u001b[1;33m.\u001b[0m\u001b[0msleep\u001b[0m\u001b[1;33m(\u001b[0m\u001b[1;36m10\u001b[0m\u001b[1;33m)\u001b[0m\u001b[1;33m\u001b[0m\u001b[0m\n\u001b[0m",
      "\u001b[1;31mKeyboardInterrupt\u001b[0m: "
     ]
    }
   ],
   "source": [
    "import requests, time\n",
    "url = \"https://opendataxxxxx.epa.gov.tw/ws/Data/ATM00625/?$format=json\"\n",
    "while True:\n",
    "    try:\n",
    "        res = requests.get(url)\n",
    "        print(res.text)\n",
    "    except:\n",
    "        print('糟糕，網站連不上!! 等待10秒再試一次')\n",
    "        time.sleep(10)"
   ]
  },
  {
   "cell_type": "markdown",
   "metadata": {},
   "source": [
    "# 取出某測站一整天的數值\n",
    "\n",
    "依據檔名規則取得每個時間點的數值"
   ]
  },
  {
   "cell_type": "code",
   "execution_count": 2,
   "metadata": {
    "tags": [
     "outputPrepend",
     "outputPrepend",
     "outputPrepend"
    ]
   },
   "outputs": [
    {
     "output_type": "stream",
     "name": "stdout",
     "text": "時, PM2.5\n00,  28\n01,  25\n02,  26\n03,  22\n04,  24\n05,  27\n06,  27\n07,  29\n08,  37\n09,  36\n10,  22\n11,  19\n12,  16\n13,  14\n14,  \n15,  19\n16,  18\n17,  16\n18,  15\n19,  17\n20,  21\n21,  18\n22,  24\n23,  21\n"
    }
   ],
   "source": [
    "import requests, time, json, sys, os\n",
    "from datetime import datetime, timedelta\n",
    "\n",
    "start = datetime(2020, 3, 17, 0, 0)\n",
    "\n",
    "print(\"時, PM2.5\")\n",
    "for i in range(24):\n",
    "    ftime = start.strftime(\"%Y%m%d%H%M\")\n",
    "    filename = os.path.join(os.getcwd(), 'datas', 'pm25', f'pm25_{ftime}.json')\n",
    "    #filename = 'D:\\\\'+f'pm25_{ftime}.json'\n",
    "    try:\n",
    "        with open(filename, 'r', encoding='UTF-8') as f:\n",
    "            datas = json.loads(f.read())\n",
    "            \n",
    "            print(start.strftime(\"%H\")+\", \", datas[7]['PM25'])\n",
    "    except:\n",
    "        print(filename, sys.exc_info())\n",
    "\n",
    "    start = start + timedelta(hours=1) \n"
   ]
  },
  {
   "cell_type": "markdown",
   "metadata": {},
   "source": [
    "# 測站資料直接存入 excel\n",
    "\n",
    "使用 pandas 套件\n",
    "\n",
    "    pip install pandas"
   ]
  },
  {
   "cell_type": "code",
   "execution_count": 3,
   "metadata": {},
   "outputs": [
    {
     "output_type": "execute_result",
     "data": {
      "text/plain": "     時  復興\n0   00  23\n1   01  21\n2   02  20\n3   03  26\n4   04  24\n5   05  21\n6   06  27\n7   07  31\n8   08  28\n9   09  29\n10  10  30\n11  11  33\n12  12  25\n13  13  22\n14  14  19\n15  15  23\n16  16  19\n17  17  13\n18  18  12\n19  19  15\n20  20  15\n21  21  15\n22  22  18\n23  23  21",
      "text/html": "<div>\n<style scoped>\n    .dataframe tbody tr th:only-of-type {\n        vertical-align: middle;\n    }\n\n    .dataframe tbody tr th {\n        vertical-align: top;\n    }\n\n    .dataframe thead th {\n        text-align: right;\n    }\n</style>\n<table border=\"1\" class=\"dataframe\">\n  <thead>\n    <tr style=\"text-align: right;\">\n      <th></th>\n      <th>時</th>\n      <th>復興</th>\n    </tr>\n  </thead>\n  <tbody>\n    <tr>\n      <th>0</th>\n      <td>00</td>\n      <td>23</td>\n    </tr>\n    <tr>\n      <th>1</th>\n      <td>01</td>\n      <td>21</td>\n    </tr>\n    <tr>\n      <th>2</th>\n      <td>02</td>\n      <td>20</td>\n    </tr>\n    <tr>\n      <th>3</th>\n      <td>03</td>\n      <td>26</td>\n    </tr>\n    <tr>\n      <th>4</th>\n      <td>04</td>\n      <td>24</td>\n    </tr>\n    <tr>\n      <th>5</th>\n      <td>05</td>\n      <td>21</td>\n    </tr>\n    <tr>\n      <th>6</th>\n      <td>06</td>\n      <td>27</td>\n    </tr>\n    <tr>\n      <th>7</th>\n      <td>07</td>\n      <td>31</td>\n    </tr>\n    <tr>\n      <th>8</th>\n      <td>08</td>\n      <td>28</td>\n    </tr>\n    <tr>\n      <th>9</th>\n      <td>09</td>\n      <td>29</td>\n    </tr>\n    <tr>\n      <th>10</th>\n      <td>10</td>\n      <td>30</td>\n    </tr>\n    <tr>\n      <th>11</th>\n      <td>11</td>\n      <td>33</td>\n    </tr>\n    <tr>\n      <th>12</th>\n      <td>12</td>\n      <td>25</td>\n    </tr>\n    <tr>\n      <th>13</th>\n      <td>13</td>\n      <td>22</td>\n    </tr>\n    <tr>\n      <th>14</th>\n      <td>14</td>\n      <td>19</td>\n    </tr>\n    <tr>\n      <th>15</th>\n      <td>15</td>\n      <td>23</td>\n    </tr>\n    <tr>\n      <th>16</th>\n      <td>16</td>\n      <td>19</td>\n    </tr>\n    <tr>\n      <th>17</th>\n      <td>17</td>\n      <td>13</td>\n    </tr>\n    <tr>\n      <th>18</th>\n      <td>18</td>\n      <td>12</td>\n    </tr>\n    <tr>\n      <th>19</th>\n      <td>19</td>\n      <td>15</td>\n    </tr>\n    <tr>\n      <th>20</th>\n      <td>20</td>\n      <td>15</td>\n    </tr>\n    <tr>\n      <th>21</th>\n      <td>21</td>\n      <td>15</td>\n    </tr>\n    <tr>\n      <th>22</th>\n      <td>22</td>\n      <td>18</td>\n    </tr>\n    <tr>\n      <th>23</th>\n      <td>23</td>\n      <td>21</td>\n    </tr>\n  </tbody>\n</table>\n</div>"
     },
     "metadata": {},
     "execution_count": 3
    }
   ],
   "source": [
    "import requests, time, json\n",
    "from datetime import datetime, timedelta\n",
    "import pandas as pd\n",
    "\n",
    "start = datetime(2020, 3, 8, 0, 0)\n",
    "\n",
    "df = pd.DataFrame()\n",
    "#print(\"時, \"+datas[7]['Site'])\n",
    "col1 = []\n",
    "col2 = []\n",
    "for i in range(24):\n",
    "    ftime = start.strftime(\"%Y%m%d%H%M\")\n",
    "    filename = f\"D:\\\\pm25_{ftime}.json\"\n",
    "    try:\n",
    "        with open(filename, 'r', encoding=\"UTF-8\") as f:\n",
    "            datas = json.loads(f.read())\n",
    "            #print(start.strftime(\"%H\")+\"\\t\"+datas[7]['PM25'])\n",
    "            col1.append(start.strftime(\"%H\"))\n",
    "            col2.append(int(datas[7]['PM25']))\n",
    "    except e:\n",
    "        print(filename, e)\n",
    "\n",
    "    start = start + timedelta(hours=1) \n",
    "    \n",
    "df['小時'] = pd.Series(col1) # 轉成 pandas series 1維\n",
    "df[datas[7]['Site']] = pd.Series(col2)\n",
    "\n",
    "df.to_excel('D:\\\\pm25.xlsx')\n",
    "df"
   ]
  },
  {
   "cell_type": "markdown",
   "metadata": {},
   "source": [
    "# 多個測站比較"
   ]
  },
  {
   "cell_type": "code",
   "execution_count": 4,
   "metadata": {},
   "outputs": [
    {
     "output_type": "stream",
     "name": "stdout",
     "text": "時, 復興, 永和\n00, 23, 20\n01, 21, 18\n02, 20, 19\n03, 26, 13\n04, 24, 14\n05, 21, 13\n06, 27, 11\n07, 31, 17\n08, 28, 13\n09, 29, 9\n10, 30, 10\n11, 33, 8\n12, 25, 12\n13, 22, 10\n14, 19, 9\n15, 23, 7\n16, 19, 4\n17, 13, 1\n18, 12, 3\n19, 15, 5\n20, 15, 3\n21, 15, 3\n22, 18, 3\n23, 21, 5\n"
    },
    {
     "output_type": "execute_result",
     "data": {
      "text/plain": "     時  復興  永和\n0   00  23  20\n1   01  21  18\n2   02  20  19\n3   03  26  13\n4   04  24  14\n5   05  21  13\n6   06  27  11\n7   07  31  17\n8   08  28  13\n9   09  29   9\n10  10  30  10\n11  11  33   8\n12  12  25  12\n13  13  22  10\n14  14  19   9\n15  15  23   7\n16  16  19   4\n17  17  13   1\n18  18  12   3\n19  19  15   5\n20  20  15   3\n21  21  15   3\n22  22  18   3\n23  23  21   5",
      "text/html": "<div>\n<style scoped>\n    .dataframe tbody tr th:only-of-type {\n        vertical-align: middle;\n    }\n\n    .dataframe tbody tr th {\n        vertical-align: top;\n    }\n\n    .dataframe thead th {\n        text-align: right;\n    }\n</style>\n<table border=\"1\" class=\"dataframe\">\n  <thead>\n    <tr style=\"text-align: right;\">\n      <th></th>\n      <th>時</th>\n      <th>復興</th>\n      <th>永和</th>\n    </tr>\n  </thead>\n  <tbody>\n    <tr>\n      <th>0</th>\n      <td>00</td>\n      <td>23</td>\n      <td>20</td>\n    </tr>\n    <tr>\n      <th>1</th>\n      <td>01</td>\n      <td>21</td>\n      <td>18</td>\n    </tr>\n    <tr>\n      <th>2</th>\n      <td>02</td>\n      <td>20</td>\n      <td>19</td>\n    </tr>\n    <tr>\n      <th>3</th>\n      <td>03</td>\n      <td>26</td>\n      <td>13</td>\n    </tr>\n    <tr>\n      <th>4</th>\n      <td>04</td>\n      <td>24</td>\n      <td>14</td>\n    </tr>\n    <tr>\n      <th>5</th>\n      <td>05</td>\n      <td>21</td>\n      <td>13</td>\n    </tr>\n    <tr>\n      <th>6</th>\n      <td>06</td>\n      <td>27</td>\n      <td>11</td>\n    </tr>\n    <tr>\n      <th>7</th>\n      <td>07</td>\n      <td>31</td>\n      <td>17</td>\n    </tr>\n    <tr>\n      <th>8</th>\n      <td>08</td>\n      <td>28</td>\n      <td>13</td>\n    </tr>\n    <tr>\n      <th>9</th>\n      <td>09</td>\n      <td>29</td>\n      <td>9</td>\n    </tr>\n    <tr>\n      <th>10</th>\n      <td>10</td>\n      <td>30</td>\n      <td>10</td>\n    </tr>\n    <tr>\n      <th>11</th>\n      <td>11</td>\n      <td>33</td>\n      <td>8</td>\n    </tr>\n    <tr>\n      <th>12</th>\n      <td>12</td>\n      <td>25</td>\n      <td>12</td>\n    </tr>\n    <tr>\n      <th>13</th>\n      <td>13</td>\n      <td>22</td>\n      <td>10</td>\n    </tr>\n    <tr>\n      <th>14</th>\n      <td>14</td>\n      <td>19</td>\n      <td>9</td>\n    </tr>\n    <tr>\n      <th>15</th>\n      <td>15</td>\n      <td>23</td>\n      <td>7</td>\n    </tr>\n    <tr>\n      <th>16</th>\n      <td>16</td>\n      <td>19</td>\n      <td>4</td>\n    </tr>\n    <tr>\n      <th>17</th>\n      <td>17</td>\n      <td>13</td>\n      <td>1</td>\n    </tr>\n    <tr>\n      <th>18</th>\n      <td>18</td>\n      <td>12</td>\n      <td>3</td>\n    </tr>\n    <tr>\n      <th>19</th>\n      <td>19</td>\n      <td>15</td>\n      <td>5</td>\n    </tr>\n    <tr>\n      <th>20</th>\n      <td>20</td>\n      <td>15</td>\n      <td>3</td>\n    </tr>\n    <tr>\n      <th>21</th>\n      <td>21</td>\n      <td>15</td>\n      <td>3</td>\n    </tr>\n    <tr>\n      <th>22</th>\n      <td>22</td>\n      <td>18</td>\n      <td>3</td>\n    </tr>\n    <tr>\n      <th>23</th>\n      <td>23</td>\n      <td>21</td>\n      <td>5</td>\n    </tr>\n  </tbody>\n</table>\n</div>"
     },
     "metadata": {},
     "execution_count": 4
    }
   ],
   "source": [
    "import requests, time, json\n",
    "from datetime import datetime, timedelta\n",
    "import pandas as pd\n",
    "\n",
    "start = datetime(2020, 3, 8, 0, 0)\n",
    "\n",
    "df = pd.DataFrame()\n",
    "\n",
    "print(f\"時, {datas[7]['Site']}, {datas[8]['Site']}\")\n",
    "\n",
    "col1 = []\n",
    "col2 = []\n",
    "col3 = []\n",
    "for i in range(24):\n",
    "    ftime = start.strftime(\"%Y%m%d%H%M\")\n",
    "    filename = f\"D:\\\\pm25_{ftime}.json\"\n",
    "    try:\n",
    "        with open(filename, 'r', encoding=\"UTF-8\") as f:\n",
    "            datas = json.loads(f.read())\n",
    "            print(start.strftime(\"%H\")+\", \"+datas[7]['PM25']+\", \"+datas[8]['PM25'])\n",
    "            col1.append(start.strftime(\"%H\"))\n",
    "            col2.append(int(datas[7]['PM25']))\n",
    "            col3.append(int(datas[8]['PM25']))\n",
    "    except e:\n",
    "        print(filename, e)\n",
    "\n",
    "    start = start + timedelta(hours=1) \n",
    "    \n",
    "df['時'] = pd.Series(col1)\n",
    "df[datas[7]['Site']] = pd.Series(col2)\n",
    "df[datas[8]['Site']] = pd.Series(col3)\n",
    "\n",
    "df.to_excel('D:\\\\pm25.xlsx')\n",
    "df"
   ]
  },
  {
   "cell_type": "markdown",
   "metadata": {},
   "source": [
    "# 直接將數據繪製成折線圖"
   ]
  },
  {
   "cell_type": "code",
   "execution_count": 5,
   "metadata": {},
   "outputs": [
    {
     "output_type": "stream",
     "name": "stdout",
     "text": "復興 00,  28\n復興 01,  25\n復興 02,  26\n復興 03,  22\n復興 04,  24\n復興 05,  27\n復興 06,  27\n復興 07,  29\n復興 08,  37\n復興 09,  36\n復興 10,  22\n復興 11,  19\n復興 12,  16\n復興 13,  14\nc:\\Users\\user\\Documents\\PythonBasic\\datas\\pm25\\pm25_202003171400.json (<class 'ValueError'>, ValueError(\"invalid literal for int() with base 10: ''\",), <traceback object at 0x0000028877B2A8C8>)\n復興 15,  19\n復興 16,  18\n復興 17,  16\n復興 18,  15\n復興 19,  17\n復興 20,  21\n復興 21,  18\n復興 22,  24\n復興 23,  21\n"
    }
   ],
   "source": [
    "import requests, time, json, sys, os\n",
    "from datetime import datetime, timedelta\n",
    "import matplotlib.pyplot as plt\n",
    "#%matplotlib inline\n",
    "\n",
    "start = datetime(2020, 3, 17, 0, 0)\n",
    "\n",
    "axis_x = []\n",
    "axis_y = []\n",
    "for i in range(24):\n",
    "    ftime = start.strftime(\"%Y%m%d%H%M\")\n",
    "    filename = os.path.join(os.getcwd(), \"datas\", \"pm25\", f\"pm25_{ftime}.json\")\n",
    "    try:\n",
    "        with open(filename, 'r', encoding=\"UTF-8\") as f:\n",
    "            datas = json.loads(f.read())\n",
    "            axis_x.append(start.strftime(\"%H\"))\n",
    "            axis_y.append(int(datas[7]['PM25']))\n",
    "            print(datas[7]['Site'], start.strftime(\"%H\")+\", \", datas[7]['PM25'])\n",
    "    except:\n",
    "        print(filename, sys.exc_info())\n",
    "        axis_y.append(-1)\n",
    "\n",
    "    start = start + timedelta(hours=1) \n",
    "\n",
    "plt.figure(figsize=(15,10),dpi=100,linewidth = 2)\n",
    "try:\n",
    "    plt.plot(axis_x,axis_y,'o-',color = 'g', label=\"PM25\")\n",
    "except:\n",
    "    print(sys.exc_info()[0])\n",
    "    pass"
   ]
  },
  {
   "cell_type": "code",
   "execution_count": null,
   "metadata": {},
   "outputs": [],
   "source": []
  }
 ],
 "metadata": {
  "kernelspec": {
   "display_name": "Python 3",
   "language": "python",
   "name": "python3"
  },
  "language_info": {
   "codemirror_mode": {
    "name": "ipython",
    "version": 3
   },
   "file_extension": ".py",
   "mimetype": "text/x-python",
   "name": "python",
   "nbconvert_exporter": "python",
   "pygments_lexer": "ipython3",
   "version": "3.6.5-final"
  }
 },
 "nbformat": 4,
 "nbformat_minor": 2
}
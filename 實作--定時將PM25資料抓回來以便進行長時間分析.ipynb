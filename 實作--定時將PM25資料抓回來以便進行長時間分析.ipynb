{
 "cells": [
  {
   "cell_type": "markdown",
   "metadata": {},
   "source": [
    "# 從 url 直接下載檔案"
   ]
  },
  {
   "cell_type": "code",
   "execution_count": 1,
   "metadata": {},
   "outputs": [
    {
     "name": "stdout",
     "output_type": "stream",
     "text": [
      "[{\"Site\":\"富貴角\",\"county\":\"新北市\",\"PM25\":\"9\",\"DataCreationDate\":\"2020-03-09 11:00\",\"ItemUnit\":\"μg/m3\"},{\"Site\":\"麥寮\",\"county\":\"雲林縣\",\"PM25\":\"12\",\"DataCreationDate\":\"2020-03-09 11:00\",\"ItemUnit\":\"μg/m3\"},{\"Site\":\"關山\",\"county\":\"臺東縣\",\"PM25\":\"7\",\"DataCreationDate\":\"2020-03-09 11:00\",\"ItemUnit\":\"μg/m3\"},{\"Site\":\"馬公\",\"county\":\"澎湖縣\",\"PM25\":\"21\",\"DataCreationDate\":\"2020-03-09 11:00\",\"ItemUnit\":\"μg/m3\"},{\"Site\":\"金門\",\"county\":\"金門縣\",\"PM25\":\"34\",\"DataCreationDate\":\"2020-03-09 11:00\",\"ItemUnit\":\"μg/m3\"},{\"Site\":\"馬祖\",\"county\":\"連江縣\",\"PM25\":\"24\",\"DataCreationDate\":\"2020-03-09 11:00\",\"ItemUnit\":\"μg/m3\"},{\"Site\":\"埔里\",\"county\":\"南投縣\",\"PM25\":\"20\",\"DataCreationDate\":\"2020-03-09 11:00\",\"ItemUnit\":\"μg/m3\"},{\"Site\":\"復興\",\"county\":\"高雄市\",\"PM25\":\"11\",\"DataCreationDate\":\"2020-03-09 11:00\",\"ItemUnit\":\"μg/m3\"},{\"Site\":\"永和\",\"county\":\"新北市\",\"PM25\":\"32\",\"DataCreationDate\":\"2020-03-09 11:00\",\"ItemUnit\":\"μg/m3\"},{\"Site\":\"竹山\",\"county\":\"南投縣\",\"PM25\":\"21\",\"DataCreationDate\":\"2020-03-09 11:00\",\"ItemUnit\":\"μg/m3\"},{\"Site\":\"中壢\",\"county\":\"桃園市\",\"PM25\":\"31\",\"DataCreationDate\":\"2020-03-09 11:00\",\"ItemUnit\":\"μg/m3\"},{\"Site\":\"三重\",\"county\":\"新北市\",\"PM25\":\"31\",\"DataCreationDate\":\"2020-03-09 11:00\",\"ItemUnit\":\"μg/m3\"},{\"Site\":\"冬山\",\"county\":\"宜蘭縣\",\"PM25\":\"5\",\"DataCreationDate\":\"2020-03-09 11:00\",\"ItemUnit\":\"μg/m3\"},{\"Site\":\"宜蘭\",\"county\":\"宜蘭縣\",\"PM25\":\"7\",\"DataCreationDate\":\"2020-03-09 11:00\",\"ItemUnit\":\"μg/m3\"},{\"Site\":\"陽明\",\"county\":\"臺北市\",\"PM25\":\"21\",\"DataCreationDate\":\"2020-03-09 11:00\",\"ItemUnit\":\"μg/m3\"},{\"Site\":\"花蓮\",\"county\":\"花蓮縣\",\"PM25\":\"10\",\"DataCreationDate\":\"2020-03-09 11:00\",\"ItemUnit\":\"μg/m3\"},{\"Site\":\"臺東\",\"county\":\"臺東縣\",\"PM25\":\"6\",\"DataCreationDate\":\"2020-03-09 11:00\",\"ItemUnit\":\"μg/m3\"},{\"Site\":\"恆春\",\"county\":\"屏東縣\",\"PM25\":\"9\",\"DataCreationDate\":\"2020-03-09 11:00\",\"ItemUnit\":\"μg/m3\"},{\"Site\":\"潮州\",\"county\":\"屏東縣\",\"PM25\":\"10\",\"DataCreationDate\":\"2020-03-09 11:00\",\"ItemUnit\":\"μg/m3\"},{\"Site\":\"屏東\",\"county\":\"屏東縣\",\"PM25\":\"4\",\"DataCreationDate\":\"2020-03-09 11:00\",\"ItemUnit\":\"μg/m3\"},{\"Site\":\"小港\",\"county\":\"高雄市\",\"PM25\":\"\",\"DataCreationDate\":\"2020-03-09 11:00\",\"ItemUnit\":\"μg/m3\"},{\"Site\":\"前鎮\",\"county\":\"高雄市\",\"PM25\":\"6\",\"DataCreationDate\":\"2020-03-09 11:00\",\"ItemUnit\":\"μg/m3\"},{\"Site\":\"前金\",\"county\":\"高雄市\",\"PM25\":\"7\",\"DataCreationDate\":\"2020-03-09 11:00\",\"ItemUnit\":\"μg/m3\"},{\"Site\":\"左營\",\"county\":\"高雄市\",\"PM25\":\"12\",\"DataCreationDate\":\"2020-03-09 11:00\",\"ItemUnit\":\"μg/m3\"},{\"Site\":\"楠梓\",\"county\":\"高雄市\",\"PM25\":\"13\",\"DataCreationDate\":\"2020-03-09 11:00\",\"ItemUnit\":\"μg/m3\"},{\"Site\":\"林園\",\"county\":\"高雄市\",\"PM25\":\"7\",\"DataCreationDate\":\"2020-03-09 11:00\",\"ItemUnit\":\"μg/m3\"},{\"Site\":\"大寮\",\"county\":\"高雄市\",\"PM25\":\"5\",\"DataCreationDate\":\"2020-03-09 11:00\",\"ItemUnit\":\"μg/m3\"},{\"Site\":\"關山\",\"county\":\"臺東縣\",\"PM25\":\"7\",\"DataCreationDate\":\"2020-03-09 11:00\",\"ItemUnit\":\"μg/m3\"},{\"Site\":\"富貴角\",\"county\":\"新北市\",\"PM25\":\"9\",\"DataCreationDate\":\"2020-03-09 11:00\",\"ItemUnit\":\"μg/m3\"},{\"Site\":\"麥寮\",\"county\":\"雲林縣\",\"PM25\":\"12\",\"DataCreationDate\":\"2020-03-09 11:00\",\"ItemUnit\":\"μg/m3\"},{\"Site\":\"關山\",\"county\":\"臺東縣\",\"PM25\":\"7\",\"DataCreationDate\":\"2020-03-09 11:00\",\"ItemUnit\":\"μg/m3\"},{\"Site\":\"馬公\",\"county\":\"澎湖縣\",\"PM25\":\"21\",\"DataCreationDate\":\"2020-03-09 11:00\",\"ItemUnit\":\"μg/m3\"},{\"Site\":\"金門\",\"county\":\"金門縣\",\"PM25\":\"34\",\"DataCreationDate\":\"2020-03-09 11:00\",\"ItemUnit\":\"μg/m3\"},{\"Site\":\"馬祖\",\"county\":\"連江縣\",\"PM25\":\"24\",\"DataCreationDate\":\"2020-03-09 11:00\",\"ItemUnit\":\"μg/m3\"},{\"Site\":\"中壢\",\"county\":\"桃園市\",\"PM25\":\"31\",\"DataCreationDate\":\"2020-03-09 11:00\",\"ItemUnit\":\"μg/m3\"},{\"Site\":\"三重\",\"county\":\"新北市\",\"PM25\":\"31\",\"DataCreationDate\":\"2020-03-09 11:00\",\"ItemUnit\":\"μg/m3\"},{\"Site\":\"冬山\",\"county\":\"宜蘭縣\",\"PM25\":\"5\",\"DataCreationDate\":\"2020-03-09 11:00\",\"ItemUnit\":\"μg/m3\"},{\"Site\":\"宜蘭\",\"county\":\"宜蘭縣\",\"PM25\":\"7\",\"DataCreationDate\":\"2020-03-09 11:00\",\"ItemUnit\":\"μg/m3\"},{\"Site\":\"陽明\",\"county\":\"臺北市\",\"PM25\":\"21\",\"DataCreationDate\":\"2020-03-09 11:00\",\"ItemUnit\":\"μg/m3\"},{\"Site\":\"仁武\",\"county\":\"高雄市\",\"PM25\":\"11\",\"DataCreationDate\":\"2020-03-09 11:00\",\"ItemUnit\":\"μg/m3\"},{\"Site\":\"橋頭\",\"county\":\"高雄市\",\"PM25\":\"7\",\"DataCreationDate\":\"2020-03-09 11:00\",\"ItemUnit\":\"μg/m3\"},{\"Site\":\"美濃\",\"county\":\"高雄市\",\"PM25\":\"6\",\"DataCreationDate\":\"2020-03-09 11:00\",\"ItemUnit\":\"μg/m3\"},{\"Site\":\"臺南\",\"county\":\"臺南市\",\"PM25\":\"10\",\"DataCreationDate\":\"2020-03-09 11:00\",\"ItemUnit\":\"μg/m3\"},{\"Site\":\"安南\",\"county\":\"臺南市\",\"PM25\":\"10\",\"DataCreationDate\":\"2020-03-09 11:00\",\"ItemUnit\":\"μg/m3\"},{\"Site\":\"善化\",\"county\":\"臺南市\",\"PM25\":\"15\",\"DataCreationDate\":\"2020-03-09 11:00\",\"ItemUnit\":\"μg/m3\"},{\"Site\":\"新營\",\"county\":\"臺南市\",\"PM25\":\"12\",\"DataCreationDate\":\"2020-03-09 11:00\",\"ItemUnit\":\"μg/m3\"},{\"Site\":\"嘉義\",\"county\":\"嘉義市\",\"PM25\":\"9\",\"DataCreationDate\":\"2020-03-09 11:00\",\"ItemUnit\":\"μg/m3\"},{\"Site\":\"臺西\",\"county\":\"雲林縣\",\"PM25\":\"17\",\"DataCreationDate\":\"2020-03-09 11:00\",\"ItemUnit\":\"μg/m3\"},{\"Site\":\"朴子\",\"county\":\"嘉義縣\",\"PM25\":\"11\",\"DataCreationDate\":\"2020-03-09 11:00\",\"ItemUnit\":\"μg/m3\"},{\"Site\":\"新港\",\"county\":\"嘉義縣\",\"PM25\":\"10\",\"DataCreationDate\":\"2020-03-09 11:00\",\"ItemUnit\":\"μg/m3\"},{\"Site\":\"崙背\",\"county\":\"雲林縣\",\"PM25\":\"10\",\"DataCreationDate\":\"2020-03-09 11:00\",\"ItemUnit\":\"μg/m3\"},{\"Site\":\"斗六\",\"county\":\"雲林縣\",\"PM25\":\"12\",\"DataCreationDate\":\"2020-03-09 11:00\",\"ItemUnit\":\"μg/m3\"},{\"Site\":\"南投\",\"county\":\"南投縣\",\"PM25\":\"17\",\"DataCreationDate\":\"2020-03-09 11:00\",\"ItemUnit\":\"μg/m3\"},{\"Site\":\"二林\",\"county\":\"彰化縣\",\"PM25\":\"12\",\"DataCreationDate\":\"2020-03-09 11:00\",\"ItemUnit\":\"μg/m3\"},{\"Site\":\"線西\",\"county\":\"彰化縣\",\"PM25\":\"26\",\"DataCreationDate\":\"2020-03-09 11:00\",\"ItemUnit\":\"μg/m3\"},{\"Site\":\"彰化\",\"county\":\"彰化縣\",\"PM25\":\"15\",\"DataCreationDate\":\"2020-03-09 11:00\",\"ItemUnit\":\"μg/m3\"},{\"Site\":\"西屯\",\"county\":\"臺中市\",\"PM25\":\"24\",\"DataCreationDate\":\"2020-03-09 11:00\",\"ItemUnit\":\"μg/m3\"},{\"Site\":\"忠明\",\"county\":\"臺中市\",\"PM25\":\"19\",\"DataCreationDate\":\"2020-03-09 11:00\",\"ItemUnit\":\"μg/m3\"},{\"Site\":\"大里\",\"county\":\"臺中市\",\"PM25\":\"21\",\"DataCreationDate\":\"2020-03-09 11:00\",\"ItemUnit\":\"μg/m3\"},{\"Site\":\"沙鹿\",\"county\":\"臺中市\",\"PM25\":\"21\",\"DataCreationDate\":\"2020-03-09 11:00\",\"ItemUnit\":\"μg/m3\"},{\"Site\":\"豐原\",\"county\":\"臺中市\",\"PM25\":\"19\",\"DataCreationDate\":\"2020-03-09 11:00\",\"ItemUnit\":\"μg/m3\"},{\"Site\":\"三義\",\"county\":\"苗栗縣\",\"PM25\":\"18\",\"DataCreationDate\":\"2020-03-09 11:00\",\"ItemUnit\":\"μg/m3\"},{\"Site\":\"苗栗\",\"county\":\"苗栗縣\",\"PM25\":\"17\",\"DataCreationDate\":\"2020-03-09 11:00\",\"ItemUnit\":\"μg/m3\"},{\"Site\":\"頭份\",\"county\":\"苗栗縣\",\"PM25\":\"28\",\"DataCreationDate\":\"2020-03-09 11:00\",\"ItemUnit\":\"μg/m3\"},{\"Site\":\"新竹\",\"county\":\"新竹市\",\"PM25\":\"21\",\"DataCreationDate\":\"2020-03-09 11:00\",\"ItemUnit\":\"μg/m3\"},{\"Site\":\"竹東\",\"county\":\"新竹縣\",\"PM25\":\"34\",\"DataCreationDate\":\"2020-03-09 11:00\",\"ItemUnit\":\"μg/m3\"},{\"Site\":\"湖口\",\"county\":\"新竹縣\",\"PM25\":\"28\",\"DataCreationDate\":\"2020-03-09 11:00\",\"ItemUnit\":\"μg/m3\"},{\"Site\":\"龍潭\",\"county\":\"桃園市\",\"PM25\":\"34\",\"DataCreationDate\":\"2020-03-09 11:00\",\"ItemUnit\":\"μg/m3\"},{\"Site\":\"平鎮\",\"county\":\"桃園市\",\"PM25\":\"31\",\"DataCreationDate\":\"2020-03-09 11:00\",\"ItemUnit\":\"μg/m3\"},{\"Site\":\"崙背\",\"county\":\"雲林縣\",\"PM25\":\"10\",\"DataCreationDate\":\"2020-03-09 11:00\",\"ItemUnit\":\"μg/m3\"},{\"Site\":\"富貴角\",\"county\":\"新北市\",\"PM25\":\"9\",\"DataCreationDate\":\"2020-03-09 11:00\",\"ItemUnit\":\"μg/m3\"},{\"Site\":\"麥寮\",\"county\":\"雲林縣\",\"PM25\":\"12\",\"DataCreationDate\":\"2020-03-09 11:00\",\"ItemUnit\":\"μg/m3\"},{\"Site\":\"關山\",\"county\":\"臺東縣\",\"PM25\":\"7\",\"DataCreationDate\":\"2020-03-09 11:00\",\"ItemUnit\":\"μg/m3\"},{\"Site\":\"馬公\",\"county\":\"澎湖縣\",\"PM25\":\"21\",\"DataCreationDate\":\"2020-03-09 11:00\",\"ItemUnit\":\"μg/m3\"},{\"Site\":\"金門\",\"county\":\"金門縣\",\"PM25\":\"34\",\"DataCreationDate\":\"2020-03-09 11:00\",\"ItemUnit\":\"μg/m3\"},{\"Site\":\"馬祖\",\"county\":\"連江縣\",\"PM25\":\"24\",\"DataCreationDate\":\"2020-03-09 11:00\",\"ItemUnit\":\"μg/m3\"},{\"Site\":\"埔里\",\"county\":\"南投縣\",\"PM25\":\"20\",\"DataCreationDate\":\"2020-03-09 11:00\",\"ItemUnit\":\"μg/m3\"},{\"Site\":\"復興\",\"county\":\"高雄市\",\"PM25\":\"11\",\"DataCreationDate\":\"2020-03-09 11:00\",\"ItemUnit\":\"μg/m3\"},{\"Site\":\"永和\",\"county\":\"新北市\",\"PM25\":\"32\",\"DataCreationDate\":\"2020-03-09 11:00\",\"ItemUnit\":\"μg/m3\"},{\"Site\":\"竹山\",\"county\":\"南投縣\",\"PM25\":\"21\",\"DataCreationDate\":\"2020-03-09 11:00\",\"ItemUnit\":\"μg/m3\"},{\"Site\":\"中壢\",\"county\":\"桃園市\",\"PM25\":\"31\",\"DataCreationDate\":\"2020-03-09 11:00\",\"ItemUnit\":\"μg/m3\"},{\"Site\":\"三重\",\"county\":\"新北市\",\"PM25\":\"31\",\"DataCreationDate\":\"2020-03-09 11:00\",\"ItemUnit\":\"μg/m3\"},{\"Site\":\"冬山\",\"county\":\"宜蘭縣\",\"PM25\":\"5\",\"DataCreationDate\":\"2020-03-09 11:00\",\"ItemUnit\":\"μg/m3\"},{\"Site\":\"宜蘭\",\"county\":\"宜蘭縣\",\"PM25\":\"7\",\"DataCreationDate\":\"2020-03-09 11:00\",\"ItemUnit\":\"μg/m3\"},{\"Site\":\"陽明\",\"county\":\"臺北市\",\"PM25\":\"21\",\"DataCreationDate\":\"2020-03-09 11:00\",\"ItemUnit\":\"μg/m3\"},{\"Site\":\"花蓮\",\"county\":\"花蓮縣\",\"PM25\":\"10\",\"DataCreationDate\":\"2020-03-09 11:00\",\"ItemUnit\":\"μg/m3\"},{\"Site\":\"臺東\",\"county\":\"臺東縣\",\"PM25\":\"6\",\"DataCreationDate\":\"2020-03-09 11:00\",\"ItemUnit\":\"μg/m3\"},{\"Site\":\"恆春\",\"county\":\"屏東縣\",\"PM25\":\"9\",\"DataCreationDate\":\"2020-03-09 11:00\",\"ItemUnit\":\"μg/m3\"},{\"Site\":\"潮州\",\"county\":\"屏東縣\",\"PM25\":\"10\",\"DataCreationDate\":\"2020-03-09 11:00\",\"ItemUnit\":\"μg/m3\"},{\"Site\":\"屏東\",\"county\":\"屏東縣\",\"PM25\":\"4\",\"DataCreationDate\":\"2020-03-09 11:00\",\"ItemUnit\":\"μg/m3\"},{\"Site\":\"小港\",\"county\":\"高雄市\",\"PM25\":\"\",\"DataCreationDate\":\"2020-03-09 11:00\",\"ItemUnit\":\"μg/m3\"},{\"Site\":\"前鎮\",\"county\":\"高雄市\",\"PM25\":\"6\",\"DataCreationDate\":\"2020-03-09 11:00\",\"ItemUnit\":\"μg/m3\"},{\"Site\":\"前金\",\"county\":\"高雄市\",\"PM25\":\"7\",\"DataCreationDate\":\"2020-03-09 11:00\",\"ItemUnit\":\"μg/m3\"},{\"Site\":\"左營\",\"county\":\"高雄市\",\"PM25\":\"12\",\"DataCreationDate\":\"2020-03-09 11:00\",\"ItemUnit\":\"μg/m3\"},{\"Site\":\"楠梓\",\"county\":\"高雄市\",\"PM25\":\"13\",\"DataCreationDate\":\"2020-03-09 11:00\",\"ItemUnit\":\"μg/m3\"},{\"Site\":\"林園\",\"county\":\"高雄市\",\"PM25\":\"7\",\"DataCreationDate\":\"2020-03-09 11:00\",\"ItemUnit\":\"μg/m3\"},{\"Site\":\"大寮\",\"county\":\"高雄市\",\"PM25\":\"5\",\"DataCreationDate\":\"2020-03-09 11:00\",\"ItemUnit\":\"μg/m3\"},{\"Site\":\"鳳山\",\"county\":\"高雄市\",\"PM25\":\"6\",\"DataCreationDate\":\"2020-03-09 11:00\",\"ItemUnit\":\"μg/m3\"},{\"Site\":\"仁武\",\"county\":\"高雄市\",\"PM25\":\"11\",\"DataCreationDate\":\"2020-03-09 11:00\",\"ItemUnit\":\"μg/m3\"},{\"Site\":\"橋頭\",\"county\":\"高雄市\",\"PM25\":\"7\",\"DataCreationDate\":\"2020-03-09 11:00\",\"ItemUnit\":\"μg/m3\"},{\"Site\":\"美濃\",\"county\":\"高雄市\",\"PM25\":\"6\",\"DataCreationDate\":\"2020-03-09 11:00\",\"ItemUnit\":\"μg/m3\"},{\"Site\":\"臺南\",\"county\":\"臺南市\",\"PM25\":\"10\",\"DataCreationDate\":\"2020-03-09 11:00\",\"ItemUnit\":\"μg/m3\"},{\"Site\":\"安南\",\"county\":\"臺南市\",\"PM25\":\"10\",\"DataCreationDate\":\"2020-03-09 11:00\",\"ItemUnit\":\"μg/m3\"},{\"Site\":\"善化\",\"county\":\"臺南市\",\"PM25\":\"15\",\"DataCreationDate\":\"2020-03-09 11:00\",\"ItemUnit\":\"μg/m3\"},{\"Site\":\"新營\",\"county\":\"臺南市\",\"PM25\":\"12\",\"DataCreationDate\":\"2020-03-09 11:00\",\"ItemUnit\":\"μg/m3\"},{\"Site\":\"嘉義\",\"county\":\"嘉義市\",\"PM25\":\"9\",\"DataCreationDate\":\"2020-03-09 11:00\",\"ItemUnit\":\"μg/m3\"},{\"Site\":\"臺西\",\"county\":\"雲林縣\",\"PM25\":\"17\",\"DataCreationDate\":\"2020-03-09 11:00\",\"ItemUnit\":\"μg/m3\"},{\"Site\":\"朴子\",\"county\":\"嘉義縣\",\"PM25\":\"11\",\"DataCreationDate\":\"2020-03-09 11:00\",\"ItemUnit\":\"μg/m3\"},{\"Site\":\"新港\",\"county\":\"嘉義縣\",\"PM25\":\"10\",\"DataCreationDate\":\"2020-03-09 11:00\",\"ItemUnit\":\"μg/m3\"},{\"Site\":\"測站（試運轉）\",\"county\":\"雲林縣\",\"PM25\":\"6\",\"DataCreationDate\":\"2019-01-02 09:00\",\"ItemUnit\":\"μg/m3\"},{\"Site\":\"斗六\",\"county\":\"雲林縣\",\"PM25\":\"12\",\"DataCreationDate\":\"2020-03-09 11:00\",\"ItemUnit\":\"μg/m3\"},{\"Site\":\"南投\",\"county\":\"南投縣\",\"PM25\":\"17\",\"DataCreationDate\":\"2020-03-09 11:00\",\"ItemUnit\":\"μg/m3\"},{\"Site\":\"二林\",\"county\":\"彰化縣\",\"PM25\":\"12\",\"DataCreationDate\":\"2020-03-09 11:00\",\"ItemUnit\":\"μg/m3\"},{\"Site\":\"線西\",\"county\":\"彰化縣\",\"PM25\":\"26\",\"DataCreationDate\":\"2020-03-09 11:00\",\"ItemUnit\":\"μg/m3\"},{\"Site\":\"彰化\",\"county\":\"彰化縣\",\"PM25\":\"15\",\"DataCreationDate\":\"2020-03-09 11:00\",\"ItemUnit\":\"μg/m3\"},{\"Site\":\"西屯\",\"county\":\"臺中市\",\"PM25\":\"24\",\"DataCreationDate\":\"2020-03-09 11:00\",\"ItemUnit\":\"μg/m3\"},{\"Site\":\"忠明\",\"county\":\"臺中市\",\"PM25\":\"19\",\"DataCreationDate\":\"2020-03-09 11:00\",\"ItemUnit\":\"μg/m3\"},{\"Site\":\"大里\",\"county\":\"臺中市\",\"PM25\":\"21\",\"DataCreationDate\":\"2020-03-09 11:00\",\"ItemUnit\":\"μg/m3\"},{\"Site\":\"沙鹿\",\"county\":\"臺中市\",\"PM25\":\"21\",\"DataCreationDate\":\"2020-03-09 11:00\",\"ItemUnit\":\"μg/m3\"},{\"Site\":\"豐原\",\"county\":\"臺中市\",\"PM25\":\"19\",\"DataCreationDate\":\"2020-03-09 11:00\",\"ItemUnit\":\"μg/m3\"},{\"Site\":\"三義\",\"county\":\"苗栗縣\",\"PM25\":\"18\",\"DataCreationDate\":\"2020-03-09 11:00\",\"ItemUnit\":\"μg/m3\"},{\"Site\":\"苗栗\",\"county\":\"苗栗縣\",\"PM25\":\"17\",\"DataCreationDate\":\"2020-03-09 11:00\",\"ItemUnit\":\"μg/m3\"},{\"Site\":\"頭份\",\"county\":\"苗栗縣\",\"PM25\":\"28\",\"DataCreationDate\":\"2020-03-09 11:00\",\"ItemUnit\":\"μg/m3\"},{\"Site\":\"新竹\",\"county\":\"新竹市\",\"PM25\":\"21\",\"DataCreationDate\":\"2020-03-09 11:00\",\"ItemUnit\":\"μg/m3\"},{\"Site\":\"竹東\",\"county\":\"新竹縣\",\"PM25\":\"34\",\"DataCreationDate\":\"2020-03-09 11:00\",\"ItemUnit\":\"μg/m3\"},{\"Site\":\"湖口\",\"county\":\"新竹縣\",\"PM25\":\"28\",\"DataCreationDate\":\"2020-03-09 11:00\",\"ItemUnit\":\"μg/m3\"},{\"Site\":\"龍潭\",\"county\":\"桃園市\",\"PM25\":\"34\",\"DataCreationDate\":\"2020-03-09 11:00\",\"ItemUnit\":\"μg/m3\"},{\"Site\":\"平鎮\",\"county\":\"桃園市\",\"PM25\":\"31\",\"DataCreationDate\":\"2020-03-09 11:00\",\"ItemUnit\":\"μg/m3\"},{\"Site\":\"觀音\",\"county\":\"桃園市\",\"PM25\":\"16\",\"DataCreationDate\":\"2020-03-09 11:00\",\"ItemUnit\":\"μg/m3\"},{\"Site\":\"大園\",\"county\":\"桃園市\",\"PM25\":\"\",\"DataCreationDate\":\"2020-03-09 11:00\",\"ItemUnit\":\"μg/m3\"},{\"Site\":\"桃園\",\"county\":\"桃園市\",\"PM25\":\"22\",\"DataCreationDate\":\"2020-03-09 11:00\",\"ItemUnit\":\"μg/m3\"},{\"Site\":\"大同\",\"county\":\"臺北市\",\"PM25\":\"32\",\"DataCreationDate\":\"2020-03-09 11:00\",\"ItemUnit\":\"μg/m3\"},{\"Site\":\"松山\",\"county\":\"臺北市\",\"PM25\":\"31\",\"DataCreationDate\":\"2020-03-09 11:00\",\"ItemUnit\":\"μg/m3\"},{\"Site\":\"古亭\",\"county\":\"臺北市\",\"PM25\":\"22\",\"DataCreationDate\":\"2020-03-09 11:00\",\"ItemUnit\":\"μg/m3\"},{\"Site\":\"萬華\",\"county\":\"臺北市\",\"PM25\":\"32\",\"DataCreationDate\":\"2020-03-09 11:00\",\"ItemUnit\":\"μg/m3\"},{\"Site\":\"中山\",\"county\":\"臺北市\",\"PM25\":\"32\",\"DataCreationDate\":\"2020-03-09 11:00\",\"ItemUnit\":\"μg/m3\"},{\"Site\":\"士林\",\"county\":\"臺北市\",\"PM25\":\"27\",\"DataCreationDate\":\"2020-03-09 11:00\",\"ItemUnit\":\"μg/m3\"},{\"Site\":\"淡水\",\"county\":\"新北市\",\"PM25\":\"19\",\"DataCreationDate\":\"2020-03-09 11:00\",\"ItemUnit\":\"μg/m3\"},{\"Site\":\"林口\",\"county\":\"新北市\",\"PM25\":\"25\",\"DataCreationDate\":\"2020-03-09 11:00\",\"ItemUnit\":\"μg/m3\"},{\"Site\":\"菜寮\",\"county\":\"新北市\",\"PM25\":\"25\",\"DataCreationDate\":\"2020-03-09 11:00\",\"ItemUnit\":\"μg/m3\"},{\"Site\":\"新莊\",\"county\":\"新北市\",\"PM25\":\"\",\"DataCreationDate\":\"2020-03-09 11:00\",\"ItemUnit\":\"μg/m3\"},{\"Site\":\"板橋\",\"county\":\"新北市\",\"PM25\":\"25\",\"DataCreationDate\":\"2020-03-09 11:00\",\"ItemUnit\":\"μg/m3\"},{\"Site\":\"土城\",\"county\":\"新北市\",\"PM25\":\"23\",\"DataCreationDate\":\"2020-03-09 11:00\",\"ItemUnit\":\"μg/m3\"},{\"Site\":\"新店\",\"county\":\"新北市\",\"PM25\":\"18\",\"DataCreationDate\":\"2020-03-09 11:00\",\"ItemUnit\":\"μg/m3\"},{\"Site\":\"萬里\",\"county\":\"新北市\",\"PM25\":\"20\",\"DataCreationDate\":\"2020-03-09 11:00\",\"ItemUnit\":\"μg/m3\"},{\"Site\":\"汐止\",\"county\":\"新北市\",\"PM25\":\"22\",\"DataCreationDate\":\"2020-03-09 10:00\",\"ItemUnit\":\"μg/m3\"},{\"Site\":\"基隆\",\"county\":\"基隆市\",\"PM25\":\"18\",\"DataCreationDate\":\"2020-03-09 11:00\",\"ItemUnit\":\"μg/m3\"}]\n"
     ]
    }
   ],
   "source": [
    "import requests\n",
    "\n",
    "url = \"https://opendata.epa.gov.tw/ws/Data/ATM00625/?$format=json\"\n",
    "res = requests.get(url)\n",
    "print(res.text)\n",
    "\n",
    "with open(\"D:\\\\pm25.json\", 'wb') as f:\n",
    "    f.write(res.content)\n"
   ]
  },
  {
   "cell_type": "markdown",
   "metadata": {},
   "source": [
    "# 避免蓋掉舊檔，用時間做檔名\n",
    "\n",
    "%a 本地簡化星期名稱  \n",
    "%A 本地完整星期名稱  \n",
    "%b 本地簡化的月份名稱  \n",
    "%B 本地完整的月份名稱  \n",
    "%c 本地相應的日期表示和時間表示  \n",
    "** %d 月內中的一天（0-31）**  \n",
    "** %H 24小時制小時數（0-23）**  \n",
    "%I 12小時制小時數（01-12）  \n",
    "%j 年內的一天（001-366）  \n",
    "** %m 月份（01-12）**  \n",
    "** %M 分鐘數（00=59）**  \n",
    "%p 本地A.M.或P.M.的等價符  \n",
    "** %S 秒（00-59）**  \n",
    "%U 一年中的星期數（00-53）星期天為星期的開始  \n",
    "%w 星期（0-6），星期天為星期的開始  \n",
    "%W 一年中的星期數（00-53）星期一為星期的開始  \n",
    "%x 本地相應的日期表示  \n",
    "%X 本地相應的時間表示  \n",
    "%y 兩位數的年份表示（00-99）  \n",
    "** %Y 四位數的年份表示（000-9999）**  \n",
    "%Z 當前時區的名稱  \n",
    "%% %號本身  "
   ]
  },
  {
   "cell_type": "code",
   "execution_count": 2,
   "metadata": {},
   "outputs": [
    {
     "name": "stdout",
     "output_type": "stream",
     "text": [
      "2020-03-09 10:32:35.951997\n",
      "時間格式化 20200309_103235\n",
      "寫入完成 2020-03-09 10:32:35.951997\n"
     ]
    }
   ],
   "source": [
    "import requests, time\n",
    "from datetime import datetime\n",
    "\n",
    "現在 = datetime.now()\n",
    "print(現在)\n",
    "ftime = 現在.strftime(\"%Y%m%d_%H%M%S\")\n",
    "print(\"時間格式化\", ftime)\n",
    "\n",
    "with open(\"D:\\\\pm25_\"+ftime+\".json\", 'wb') as f:\n",
    "    #f.write(res.content)\n",
    "    f.write(b\"xxxxxx\")\n",
    "    print(\"寫入完成\", 現在)\n",
    "\n"
   ]
  },
  {
   "cell_type": "markdown",
   "metadata": {},
   "source": [
    "# 每隔幾分鐘抓一次，並新增一個檔案"
   ]
  },
  {
   "cell_type": "code",
   "execution_count": null,
   "metadata": {},
   "outputs": [],
   "source": [
    "import requests, time\n",
    "from datetime import datetime\n",
    "\n",
    "while True:\n",
    "    url = \"https://opendata.epa.gov.tw/ws/Data/ATM00625/?$format=json\"\n",
    "    res = requests.get(url)\n",
    "    print(res.text)\n",
    "\n",
    "    現在 = datetime.now()\n",
    "    ftime = 現在.strftime(\"%Y%m%d_%H%M%S\")\n",
    "    print(\"時間格式化\", ftime)\n",
    "\n",
    "    with open(\"D:\\\\pm25_\"+ftime+\".json\", 'wb') as f:\n",
    "        #f.write(res.content)\n",
    "        f.write(res.content)\n",
    "        print(\"寫入完成\", 現在)\n",
    "\n",
    "    time.sleep(60*5)"
   ]
  },
  {
   "cell_type": "markdown",
   "metadata": {},
   "source": [
    "# 還是有問題: 雖然每隔 5 分鐘執行一次，但是，執行需要花時間的，尤其抓外網的資料，動輒花費幾十秒。那實際上後面時間誤差就會越來越大。\n",
    "\n",
    "## 解法: sleep 的時間扣掉執行的時間。"
   ]
  },
  {
   "cell_type": "code",
   "execution_count": null,
   "metadata": {},
   "outputs": [],
   "source": [
    "import requests, time\n",
    "from datetime import datetime\n",
    "\n",
    "while True:\n",
    "    start = datetime.now()\n",
    "    url = \"https://opendata.epa.gov.tw/ws/Data/ATM00625/?$format=json\"\n",
    "    res = requests.get(url)\n",
    "    print(res.text)\n",
    "\n",
    "    現在 = datetime.now()\n",
    "    ftime = 現在.strftime(\"%Y%m%d_%H%M%S\")\n",
    "    print(\"時間格式化\", ftime)\n",
    "\n",
    "    with open(\"D:\\\\pm25_\"+ftime+\".json\", 'wb') as f:\n",
    "        #f.write(res.content)\n",
    "        f.write(res.content)\n",
    "        print(\"寫入完成\", 現在)\n",
    "    td = datetime.now() - start\n",
    "    print(\"花費\", td.seconds, \"秒\")\n",
    "    time.sleep(60*5-td.seconds)"
   ]
  },
  {
   "cell_type": "markdown",
   "metadata": {},
   "source": [
    "# 時間戳記用 \"現在\" 合理嗎? 是不是可以用這批資料更新的時間來當作時間戳記呢?\n",
    "\n",
    "## 由字串轉時間物件\n",
    "\n",
    "    parse\n",
    "    \n",
    "    datetime.strptime(\"時間字串\", \"時間格式\")\n",
    "    \n",
    "    # 範例\n",
    "    datetime.strptime(\"03-09-2020 11:00\", \"%m-%d-%Y %H:%M\")\n",
    "    datetime.strptime(\"2020-03-09 11:00\", \"%Y-%m-%d %H:%M\")\n",
    "    datetime.strptime(\"2020-03-09 11:00:00\", \"%Y-%m-%d %H:%M:%S\")\n",
    "    datetime.strptime(\"20200309110000\", \"%Y%m%d%H%M%S\")\n"
   ]
  },
  {
   "cell_type": "code",
   "execution_count": null,
   "metadata": {},
   "outputs": [],
   "source": [
    "import requests, time\n",
    "from datetime import datetime\n",
    "\n",
    "while True:\n",
    "    start = datetime.now()\n",
    "    url = \"https://opendata.epa.gov.tw/ws/Data/ATM00625/?$format=json\"\n",
    "    \n",
    "    try:\n",
    "        res = requests.get(url)\n",
    "    except:\n",
    "        print('ffffff')\n",
    "        time.sleep(10)\n",
    "        continue\n",
    "\n",
    "    datas = res.json()\n",
    "    creationDate = datetime.strptime(datas[0]['DataCreationDate'], \"%Y-%m-%d %H:%M\")\n",
    "    ftime = creationDate.strftime(\"%Y%m%d%H%M\")\n",
    "    with open(\"D:\\\\pm25_\"+ftime+\".json\", 'wb') as f:\n",
    "        f.write(res.content)\n",
    "\n",
    "    td = datetime.now() - start\n",
    "    print(\"花費\", td.seconds, \"秒\")\n",
    "    time.sleep(60*30-td.seconds)"
   ]
  },
  {
   "cell_type": "markdown",
   "metadata": {},
   "source": [
    "# 如果網路不穩或者資料主機暫時出錯，該如何確保可以繼續抓下去?\n",
    "\n",
    "    這裡是進行例外處理的語法\n",
    "    \n",
    "    try:\n",
    "        xxxxx\n",
    "    except:\n",
    "        xxxxx\n",
    "       \n"
   ]
  },
  {
   "cell_type": "code",
   "execution_count": 3,
   "metadata": {},
   "outputs": [
    {
     "name": "stdout",
     "output_type": "stream",
     "text": [
      "糟糕，網站連不上!!\n"
     ]
    }
   ],
   "source": [
    "import requests\n",
    "url = \"https://opendataxxxxx.epa.gov.tw/ws/Data/ATM00625/?$format=json\"\n",
    "try:\n",
    "    res = requests.get(url)\n",
    "    print(res.text)\n",
    "except:\n",
    "    print('糟糕，網站連不上!!')\n"
   ]
  },
  {
   "cell_type": "markdown",
   "metadata": {},
   "source": [
    "# 取出某測站一整天的數值\n",
    "\n",
    "依據檔名規則取得每個時間點的數值"
   ]
  },
  {
   "cell_type": "code",
   "execution_count": 14,
   "metadata": {},
   "outputs": [
    {
     "name": "stdout",
     "output_type": "stream",
     "text": [
      "時, PM2.5\n",
      "00,  23\n",
      "01,  21\n",
      "02,  20\n",
      "03,  26\n",
      "04,  24\n",
      "05,  21\n",
      "06,  27\n",
      "07,  31\n",
      "08,  28\n",
      "09,  29\n",
      "10,  30\n",
      "11,  33\n",
      "12,  25\n",
      "13,  22\n",
      "14,  19\n",
      "15,  23\n",
      "16,  19\n",
      "17,  13\n",
      "18,  12\n",
      "19,  15\n",
      "20,  15\n",
      "21,  15\n",
      "22,  18\n",
      "23,  21\n"
     ]
    }
   ],
   "source": [
    "import requests, time, json, sys\n",
    "from datetime import datetime, timedelta\n",
    "\n",
    "start = datetime(2020, 3, 8, 0, 0)\n",
    "\n",
    "print(\"時, PM2.5\")\n",
    "for i in range(24):\n",
    "    ftime = start.strftime(\"%Y%m%d%H%M\")\n",
    "    filename = \"D:\\\\pm25_\"+ftime+\".json\"\n",
    "    try:\n",
    "        with open(filename, 'r', encoding=\"UTF-8\") as f:\n",
    "            datas = json.loads(f.read())\n",
    "            print(start.strftime(\"%H\")+\", \", datas[7]['PM25'])\n",
    "    except:\n",
    "        print(filename, sys.exc_info()[0], \"not found!!\")\n",
    "\n",
    "    start = start + timedelta(hours=1) \n"
   ]
  },
  {
   "cell_type": "markdown",
   "metadata": {},
   "source": [
    "# 測站資料直接存入 excel\n",
    "\n",
    "使用 pandas 套件"
   ]
  },
  {
   "cell_type": "code",
   "execution_count": 25,
   "metadata": {},
   "outputs": [
    {
     "name": "stdout",
     "output_type": "stream",
     "text": [
      "時\tPM2.5\n",
      "00\t23\n",
      "01\t21\n",
      "02\t20\n",
      "03\t26\n",
      "04\t24\n",
      "05\t21\n",
      "06\t27\n",
      "07\t31\n",
      "08\t28\n",
      "09\t29\n",
      "10\t30\n",
      "11\t33\n",
      "12\t25\n",
      "13\t22\n",
      "14\t19\n",
      "15\t23\n",
      "16\t19\n",
      "17\t13\n",
      "18\t12\n",
      "19\t15\n"
     ]
    },
    {
     "data": {
      "text/html": [
       "<div>\n",
       "<style scoped>\n",
       "    .dataframe tbody tr th:only-of-type {\n",
       "        vertical-align: middle;\n",
       "    }\n",
       "\n",
       "    .dataframe tbody tr th {\n",
       "        vertical-align: top;\n",
       "    }\n",
       "\n",
       "    .dataframe thead th {\n",
       "        text-align: right;\n",
       "    }\n",
       "</style>\n",
       "<table border=\"1\" class=\"dataframe\">\n",
       "  <thead>\n",
       "    <tr style=\"text-align: right;\">\n",
       "      <th></th>\n",
       "      <th>時</th>\n",
       "      <th>PM2.5</th>\n",
       "    </tr>\n",
       "  </thead>\n",
       "  <tbody>\n",
       "    <tr>\n",
       "      <th>0</th>\n",
       "      <td>00</td>\n",
       "      <td>23</td>\n",
       "    </tr>\n",
       "    <tr>\n",
       "      <th>1</th>\n",
       "      <td>01</td>\n",
       "      <td>21</td>\n",
       "    </tr>\n",
       "    <tr>\n",
       "      <th>2</th>\n",
       "      <td>02</td>\n",
       "      <td>20</td>\n",
       "    </tr>\n",
       "    <tr>\n",
       "      <th>3</th>\n",
       "      <td>03</td>\n",
       "      <td>26</td>\n",
       "    </tr>\n",
       "    <tr>\n",
       "      <th>4</th>\n",
       "      <td>04</td>\n",
       "      <td>24</td>\n",
       "    </tr>\n",
       "    <tr>\n",
       "      <th>5</th>\n",
       "      <td>05</td>\n",
       "      <td>21</td>\n",
       "    </tr>\n",
       "    <tr>\n",
       "      <th>6</th>\n",
       "      <td>06</td>\n",
       "      <td>27</td>\n",
       "    </tr>\n",
       "    <tr>\n",
       "      <th>7</th>\n",
       "      <td>07</td>\n",
       "      <td>31</td>\n",
       "    </tr>\n",
       "    <tr>\n",
       "      <th>8</th>\n",
       "      <td>08</td>\n",
       "      <td>28</td>\n",
       "    </tr>\n",
       "    <tr>\n",
       "      <th>9</th>\n",
       "      <td>09</td>\n",
       "      <td>29</td>\n",
       "    </tr>\n",
       "    <tr>\n",
       "      <th>10</th>\n",
       "      <td>10</td>\n",
       "      <td>30</td>\n",
       "    </tr>\n",
       "    <tr>\n",
       "      <th>11</th>\n",
       "      <td>11</td>\n",
       "      <td>33</td>\n",
       "    </tr>\n",
       "    <tr>\n",
       "      <th>12</th>\n",
       "      <td>12</td>\n",
       "      <td>25</td>\n",
       "    </tr>\n",
       "    <tr>\n",
       "      <th>13</th>\n",
       "      <td>13</td>\n",
       "      <td>22</td>\n",
       "    </tr>\n",
       "    <tr>\n",
       "      <th>14</th>\n",
       "      <td>14</td>\n",
       "      <td>19</td>\n",
       "    </tr>\n",
       "    <tr>\n",
       "      <th>15</th>\n",
       "      <td>15</td>\n",
       "      <td>23</td>\n",
       "    </tr>\n",
       "    <tr>\n",
       "      <th>16</th>\n",
       "      <td>16</td>\n",
       "      <td>19</td>\n",
       "    </tr>\n",
       "    <tr>\n",
       "      <th>17</th>\n",
       "      <td>17</td>\n",
       "      <td>13</td>\n",
       "    </tr>\n",
       "    <tr>\n",
       "      <th>18</th>\n",
       "      <td>18</td>\n",
       "      <td>12</td>\n",
       "    </tr>\n",
       "    <tr>\n",
       "      <th>19</th>\n",
       "      <td>19</td>\n",
       "      <td>15</td>\n",
       "    </tr>\n",
       "  </tbody>\n",
       "</table>\n",
       "</div>"
      ],
      "text/plain": [
       "     時  PM2.5\n",
       "0   00     23\n",
       "1   01     21\n",
       "2   02     20\n",
       "3   03     26\n",
       "4   04     24\n",
       "5   05     21\n",
       "6   06     27\n",
       "7   07     31\n",
       "8   08     28\n",
       "9   09     29\n",
       "10  10     30\n",
       "11  11     33\n",
       "12  12     25\n",
       "13  13     22\n",
       "14  14     19\n",
       "15  15     23\n",
       "16  16     19\n",
       "17  17     13\n",
       "18  18     12\n",
       "19  19     15"
      ]
     },
     "execution_count": 25,
     "metadata": {},
     "output_type": "execute_result"
    }
   ],
   "source": [
    "import requests, time, json\n",
    "from datetime import datetime, timedelta\n",
    "import pandas as pd\n",
    "\n",
    "start = datetime(2020, 3, 8, 0, 0)\n",
    "\n",
    "df = pd.DataFrame()\n",
    "\n",
    "print(\"時\\tPM2.5\")\n",
    "\n",
    "col1 = []\n",
    "col2 = []\n",
    "for i in range(20):\n",
    "    ftime = start.strftime(\"%Y%m%d%H%M\")\n",
    "    filename = \"D:\\\\pm25_\"+ftime+\".json\"\n",
    "    try:\n",
    "        with open(filename, 'r', encoding=\"UTF-8\") as f:\n",
    "            datas = json.loads(f.read())\n",
    "            print(start.strftime(\"%H\")+\"\\t\"+datas[7]['PM25'])\n",
    "            col1.append(start.strftime(\"%H\"))\n",
    "            col2.append(int(datas[7]['PM25']))\n",
    "    except e:\n",
    "        print(filename, e, \"not found!!\")\n",
    "\n",
    "    start = start + timedelta(hours=1) \n",
    "    \n",
    "df['時'] = pd.Series(col1)\n",
    "df['PM2.5'] = pd.Series(col2)\n",
    "\n",
    "#df.to_excel('D:\\\\pm25.xlsx')\n",
    "df"
   ]
  },
  {
   "cell_type": "markdown",
   "metadata": {},
   "source": [
    "# 讀取 Excel 直接畫成折線圖"
   ]
  },
  {
   "cell_type": "code",
   "execution_count": null,
   "metadata": {},
   "outputs": [],
   "source": []
  },
  {
   "cell_type": "markdown",
   "metadata": {},
   "source": [
    "# 直接將數據繪製成折線圖"
   ]
  },
  {
   "cell_type": "code",
   "execution_count": 16,
   "metadata": {},
   "outputs": [
    {
     "output_type": "stream",
     "name": "stdout",
     "text": "復興 00,  28\n復興 01,  35\n復興 02,  39\n復興 03,  42\n復興 04,  43\n復興 05,  44\n復興 06,  40\n復興 07,  29\n復興 08,  32\n復興 09,  32\n復興 10,  28\n復興 11,  23\n復興 12,  20\n復興 13,  16\n復興 14,  15\n復興 15,  15\n復興 16,  16\n復興 17,  27\n復興 18,  28\n復興 19,  33\n復興 20,  44\n復興 21,  44\n復興 22,  42\n復興 23,  43\n"
    },
    {
     "output_type": "display_data",
     "data": {
      "text/plain": "<Figure size 1500x1000 with 1 Axes>",
      "image/svg+xml": "<?xml version=\"1.0\" encoding=\"utf-8\" standalone=\"no\"?>\r\n<!DOCTYPE svg PUBLIC \"-//W3C//DTD SVG 1.1//EN\"\r\n  \"http://www.w3.org/Graphics/SVG/1.1/DTD/svg11.dtd\">\r\n<!-- Created with matplotlib (http://matplotlib.org/) -->\r\n<svg height=\"578.178125pt\" version=\"1.1\" viewBox=\"0 0 874.625 578.178125\" width=\"874.625pt\" xmlns=\"http://www.w3.org/2000/svg\" xmlns:xlink=\"http://www.w3.org/1999/xlink\">\r\n <defs>\r\n  <style type=\"text/css\">\r\n*{stroke-linecap:butt;stroke-linejoin:round;}\r\n  </style>\r\n </defs>\r\n <g id=\"figure_1\">\r\n  <g id=\"patch_1\">\r\n   <path d=\"M 0 578.178125 \r\nL 874.625 578.178125 \r\nL 874.625 0 \r\nL 0 0 \r\nz\r\n\" style=\"fill:none;\"/>\r\n  </g>\r\n  <g id=\"axes_1\">\r\n   <g id=\"patch_2\">\r\n    <path d=\"M 26.925 554.3 \r\nL 863.925 554.3 \r\nL 863.925 10.7 \r\nL 26.925 10.7 \r\nz\r\n\" style=\"fill:#ffffff;\"/>\r\n   </g>\r\n   <g id=\"matplotlib.axis_1\">\r\n    <g id=\"xtick_1\">\r\n     <g id=\"line2d_1\">\r\n      <defs>\r\n       <path d=\"M 0 0 \r\nL 0 3.5 \r\n\" id=\"m7e35216594\" style=\"stroke:#000000;stroke-width:0.8;\"/>\r\n      </defs>\r\n      <g>\r\n       <use style=\"stroke:#000000;stroke-width:0.8;\" x=\"64.970455\" xlink:href=\"#m7e35216594\" y=\"554.3\"/>\r\n      </g>\r\n     </g>\r\n     <g id=\"text_1\">\r\n      <!-- 00 -->\r\n      <defs>\r\n       <path d=\"M 31.78125 66.40625 \r\nQ 24.171875 66.40625 20.328125 58.90625 \r\nQ 16.5 51.421875 16.5 36.375 \r\nQ 16.5 21.390625 20.328125 13.890625 \r\nQ 24.171875 6.390625 31.78125 6.390625 \r\nQ 39.453125 6.390625 43.28125 13.890625 \r\nQ 47.125 21.390625 47.125 36.375 \r\nQ 47.125 51.421875 43.28125 58.90625 \r\nQ 39.453125 66.40625 31.78125 66.40625 \r\nz\r\nM 31.78125 74.21875 \r\nQ 44.046875 74.21875 50.515625 64.515625 \r\nQ 56.984375 54.828125 56.984375 36.375 \r\nQ 56.984375 17.96875 50.515625 8.265625 \r\nQ 44.046875 -1.421875 31.78125 -1.421875 \r\nQ 19.53125 -1.421875 13.0625 8.265625 \r\nQ 6.59375 17.96875 6.59375 36.375 \r\nQ 6.59375 54.828125 13.0625 64.515625 \r\nQ 19.53125 74.21875 31.78125 74.21875 \r\nz\r\n\" id=\"DejaVuSans-30\"/>\r\n      </defs>\r\n      <g transform=\"translate(58.607955 568.898438)scale(0.1 -0.1)\">\r\n       <use xlink:href=\"#DejaVuSans-30\"/>\r\n       <use x=\"63.623047\" xlink:href=\"#DejaVuSans-30\"/>\r\n      </g>\r\n     </g>\r\n    </g>\r\n    <g id=\"xtick_2\">\r\n     <g id=\"line2d_2\">\r\n      <g>\r\n       <use style=\"stroke:#000000;stroke-width:0.8;\" x=\"98.053458\" xlink:href=\"#m7e35216594\" y=\"554.3\"/>\r\n      </g>\r\n     </g>\r\n     <g id=\"text_2\">\r\n      <!-- 01 -->\r\n      <defs>\r\n       <path d=\"M 12.40625 8.296875 \r\nL 28.515625 8.296875 \r\nL 28.515625 63.921875 \r\nL 10.984375 60.40625 \r\nL 10.984375 69.390625 \r\nL 28.421875 72.90625 \r\nL 38.28125 72.90625 \r\nL 38.28125 8.296875 \r\nL 54.390625 8.296875 \r\nL 54.390625 0 \r\nL 12.40625 0 \r\nz\r\n\" id=\"DejaVuSans-31\"/>\r\n      </defs>\r\n      <g transform=\"translate(91.690958 568.898438)scale(0.1 -0.1)\">\r\n       <use xlink:href=\"#DejaVuSans-30\"/>\r\n       <use x=\"63.623047\" xlink:href=\"#DejaVuSans-31\"/>\r\n      </g>\r\n     </g>\r\n    </g>\r\n    <g id=\"xtick_3\">\r\n     <g id=\"line2d_3\">\r\n      <g>\r\n       <use style=\"stroke:#000000;stroke-width:0.8;\" x=\"131.136462\" xlink:href=\"#m7e35216594\" y=\"554.3\"/>\r\n      </g>\r\n     </g>\r\n     <g id=\"text_3\">\r\n      <!-- 02 -->\r\n      <defs>\r\n       <path d=\"M 19.1875 8.296875 \r\nL 53.609375 8.296875 \r\nL 53.609375 0 \r\nL 7.328125 0 \r\nL 7.328125 8.296875 \r\nQ 12.9375 14.109375 22.625 23.890625 \r\nQ 32.328125 33.6875 34.8125 36.53125 \r\nQ 39.546875 41.84375 41.421875 45.53125 \r\nQ 43.3125 49.21875 43.3125 52.78125 \r\nQ 43.3125 58.59375 39.234375 62.25 \r\nQ 35.15625 65.921875 28.609375 65.921875 \r\nQ 23.96875 65.921875 18.8125 64.3125 \r\nQ 13.671875 62.703125 7.8125 59.421875 \r\nL 7.8125 69.390625 \r\nQ 13.765625 71.78125 18.9375 73 \r\nQ 24.125 74.21875 28.421875 74.21875 \r\nQ 39.75 74.21875 46.484375 68.546875 \r\nQ 53.21875 62.890625 53.21875 53.421875 \r\nQ 53.21875 48.921875 51.53125 44.890625 \r\nQ 49.859375 40.875 45.40625 35.40625 \r\nQ 44.1875 33.984375 37.640625 27.21875 \r\nQ 31.109375 20.453125 19.1875 8.296875 \r\nz\r\n\" id=\"DejaVuSans-32\"/>\r\n      </defs>\r\n      <g transform=\"translate(124.773962 568.898438)scale(0.1 -0.1)\">\r\n       <use xlink:href=\"#DejaVuSans-30\"/>\r\n       <use x=\"63.623047\" xlink:href=\"#DejaVuSans-32\"/>\r\n      </g>\r\n     </g>\r\n    </g>\r\n    <g id=\"xtick_4\">\r\n     <g id=\"line2d_4\">\r\n      <g>\r\n       <use style=\"stroke:#000000;stroke-width:0.8;\" x=\"164.219466\" xlink:href=\"#m7e35216594\" y=\"554.3\"/>\r\n      </g>\r\n     </g>\r\n     <g id=\"text_4\">\r\n      <!-- 03 -->\r\n      <defs>\r\n       <path d=\"M 40.578125 39.3125 \r\nQ 47.65625 37.796875 51.625 33 \r\nQ 55.609375 28.21875 55.609375 21.1875 \r\nQ 55.609375 10.40625 48.1875 4.484375 \r\nQ 40.765625 -1.421875 27.09375 -1.421875 \r\nQ 22.515625 -1.421875 17.65625 -0.515625 \r\nQ 12.796875 0.390625 7.625 2.203125 \r\nL 7.625 11.71875 \r\nQ 11.71875 9.328125 16.59375 8.109375 \r\nQ 21.484375 6.890625 26.8125 6.890625 \r\nQ 36.078125 6.890625 40.9375 10.546875 \r\nQ 45.796875 14.203125 45.796875 21.1875 \r\nQ 45.796875 27.640625 41.28125 31.265625 \r\nQ 36.765625 34.90625 28.71875 34.90625 \r\nL 20.21875 34.90625 \r\nL 20.21875 43.015625 \r\nL 29.109375 43.015625 \r\nQ 36.375 43.015625 40.234375 45.921875 \r\nQ 44.09375 48.828125 44.09375 54.296875 \r\nQ 44.09375 59.90625 40.109375 62.90625 \r\nQ 36.140625 65.921875 28.71875 65.921875 \r\nQ 24.65625 65.921875 20.015625 65.03125 \r\nQ 15.375 64.15625 9.8125 62.3125 \r\nL 9.8125 71.09375 \r\nQ 15.4375 72.65625 20.34375 73.4375 \r\nQ 25.25 74.21875 29.59375 74.21875 \r\nQ 40.828125 74.21875 47.359375 69.109375 \r\nQ 53.90625 64.015625 53.90625 55.328125 \r\nQ 53.90625 49.265625 50.4375 45.09375 \r\nQ 46.96875 40.921875 40.578125 39.3125 \r\nz\r\n\" id=\"DejaVuSans-33\"/>\r\n      </defs>\r\n      <g transform=\"translate(157.856966 568.898438)scale(0.1 -0.1)\">\r\n       <use xlink:href=\"#DejaVuSans-30\"/>\r\n       <use x=\"63.623047\" xlink:href=\"#DejaVuSans-33\"/>\r\n      </g>\r\n     </g>\r\n    </g>\r\n    <g id=\"xtick_5\">\r\n     <g id=\"line2d_5\">\r\n      <g>\r\n       <use style=\"stroke:#000000;stroke-width:0.8;\" x=\"197.30247\" xlink:href=\"#m7e35216594\" y=\"554.3\"/>\r\n      </g>\r\n     </g>\r\n     <g id=\"text_5\">\r\n      <!-- 04 -->\r\n      <defs>\r\n       <path d=\"M 37.796875 64.3125 \r\nL 12.890625 25.390625 \r\nL 37.796875 25.390625 \r\nz\r\nM 35.203125 72.90625 \r\nL 47.609375 72.90625 \r\nL 47.609375 25.390625 \r\nL 58.015625 25.390625 \r\nL 58.015625 17.1875 \r\nL 47.609375 17.1875 \r\nL 47.609375 0 \r\nL 37.796875 0 \r\nL 37.796875 17.1875 \r\nL 4.890625 17.1875 \r\nL 4.890625 26.703125 \r\nz\r\n\" id=\"DejaVuSans-34\"/>\r\n      </defs>\r\n      <g transform=\"translate(190.93997 568.898438)scale(0.1 -0.1)\">\r\n       <use xlink:href=\"#DejaVuSans-30\"/>\r\n       <use x=\"63.623047\" xlink:href=\"#DejaVuSans-34\"/>\r\n      </g>\r\n     </g>\r\n    </g>\r\n    <g id=\"xtick_6\">\r\n     <g id=\"line2d_6\">\r\n      <g>\r\n       <use style=\"stroke:#000000;stroke-width:0.8;\" x=\"230.385474\" xlink:href=\"#m7e35216594\" y=\"554.3\"/>\r\n      </g>\r\n     </g>\r\n     <g id=\"text_6\">\r\n      <!-- 05 -->\r\n      <defs>\r\n       <path d=\"M 10.796875 72.90625 \r\nL 49.515625 72.90625 \r\nL 49.515625 64.59375 \r\nL 19.828125 64.59375 \r\nL 19.828125 46.734375 \r\nQ 21.96875 47.46875 24.109375 47.828125 \r\nQ 26.265625 48.1875 28.421875 48.1875 \r\nQ 40.625 48.1875 47.75 41.5 \r\nQ 54.890625 34.8125 54.890625 23.390625 \r\nQ 54.890625 11.625 47.5625 5.09375 \r\nQ 40.234375 -1.421875 26.90625 -1.421875 \r\nQ 22.3125 -1.421875 17.546875 -0.640625 \r\nQ 12.796875 0.140625 7.71875 1.703125 \r\nL 7.71875 11.625 \r\nQ 12.109375 9.234375 16.796875 8.0625 \r\nQ 21.484375 6.890625 26.703125 6.890625 \r\nQ 35.15625 6.890625 40.078125 11.328125 \r\nQ 45.015625 15.765625 45.015625 23.390625 \r\nQ 45.015625 31 40.078125 35.4375 \r\nQ 35.15625 39.890625 26.703125 39.890625 \r\nQ 22.75 39.890625 18.8125 39.015625 \r\nQ 14.890625 38.140625 10.796875 36.28125 \r\nz\r\n\" id=\"DejaVuSans-35\"/>\r\n      </defs>\r\n      <g transform=\"translate(224.022974 568.898438)scale(0.1 -0.1)\">\r\n       <use xlink:href=\"#DejaVuSans-30\"/>\r\n       <use x=\"63.623047\" xlink:href=\"#DejaVuSans-35\"/>\r\n      </g>\r\n     </g>\r\n    </g>\r\n    <g id=\"xtick_7\">\r\n     <g id=\"line2d_7\">\r\n      <g>\r\n       <use style=\"stroke:#000000;stroke-width:0.8;\" x=\"263.468478\" xlink:href=\"#m7e35216594\" y=\"554.3\"/>\r\n      </g>\r\n     </g>\r\n     <g id=\"text_7\">\r\n      <!-- 06 -->\r\n      <defs>\r\n       <path d=\"M 33.015625 40.375 \r\nQ 26.375 40.375 22.484375 35.828125 \r\nQ 18.609375 31.296875 18.609375 23.390625 \r\nQ 18.609375 15.53125 22.484375 10.953125 \r\nQ 26.375 6.390625 33.015625 6.390625 \r\nQ 39.65625 6.390625 43.53125 10.953125 \r\nQ 47.40625 15.53125 47.40625 23.390625 \r\nQ 47.40625 31.296875 43.53125 35.828125 \r\nQ 39.65625 40.375 33.015625 40.375 \r\nz\r\nM 52.59375 71.296875 \r\nL 52.59375 62.3125 \r\nQ 48.875 64.0625 45.09375 64.984375 \r\nQ 41.3125 65.921875 37.59375 65.921875 \r\nQ 27.828125 65.921875 22.671875 59.328125 \r\nQ 17.53125 52.734375 16.796875 39.40625 \r\nQ 19.671875 43.65625 24.015625 45.921875 \r\nQ 28.375 48.1875 33.59375 48.1875 \r\nQ 44.578125 48.1875 50.953125 41.515625 \r\nQ 57.328125 34.859375 57.328125 23.390625 \r\nQ 57.328125 12.15625 50.6875 5.359375 \r\nQ 44.046875 -1.421875 33.015625 -1.421875 \r\nQ 20.359375 -1.421875 13.671875 8.265625 \r\nQ 6.984375 17.96875 6.984375 36.375 \r\nQ 6.984375 53.65625 15.1875 63.9375 \r\nQ 23.390625 74.21875 37.203125 74.21875 \r\nQ 40.921875 74.21875 44.703125 73.484375 \r\nQ 48.484375 72.75 52.59375 71.296875 \r\nz\r\n\" id=\"DejaVuSans-36\"/>\r\n      </defs>\r\n      <g transform=\"translate(257.105978 568.898438)scale(0.1 -0.1)\">\r\n       <use xlink:href=\"#DejaVuSans-30\"/>\r\n       <use x=\"63.623047\" xlink:href=\"#DejaVuSans-36\"/>\r\n      </g>\r\n     </g>\r\n    </g>\r\n    <g id=\"xtick_8\">\r\n     <g id=\"line2d_8\">\r\n      <g>\r\n       <use style=\"stroke:#000000;stroke-width:0.8;\" x=\"296.551482\" xlink:href=\"#m7e35216594\" y=\"554.3\"/>\r\n      </g>\r\n     </g>\r\n     <g id=\"text_8\">\r\n      <!-- 07 -->\r\n      <defs>\r\n       <path d=\"M 8.203125 72.90625 \r\nL 55.078125 72.90625 \r\nL 55.078125 68.703125 \r\nL 28.609375 0 \r\nL 18.3125 0 \r\nL 43.21875 64.59375 \r\nL 8.203125 64.59375 \r\nz\r\n\" id=\"DejaVuSans-37\"/>\r\n      </defs>\r\n      <g transform=\"translate(290.188982 568.898438)scale(0.1 -0.1)\">\r\n       <use xlink:href=\"#DejaVuSans-30\"/>\r\n       <use x=\"63.623047\" xlink:href=\"#DejaVuSans-37\"/>\r\n      </g>\r\n     </g>\r\n    </g>\r\n    <g id=\"xtick_9\">\r\n     <g id=\"line2d_9\">\r\n      <g>\r\n       <use style=\"stroke:#000000;stroke-width:0.8;\" x=\"329.634486\" xlink:href=\"#m7e35216594\" y=\"554.3\"/>\r\n      </g>\r\n     </g>\r\n     <g id=\"text_9\">\r\n      <!-- 08 -->\r\n      <defs>\r\n       <path d=\"M 31.78125 34.625 \r\nQ 24.75 34.625 20.71875 30.859375 \r\nQ 16.703125 27.09375 16.703125 20.515625 \r\nQ 16.703125 13.921875 20.71875 10.15625 \r\nQ 24.75 6.390625 31.78125 6.390625 \r\nQ 38.8125 6.390625 42.859375 10.171875 \r\nQ 46.921875 13.96875 46.921875 20.515625 \r\nQ 46.921875 27.09375 42.890625 30.859375 \r\nQ 38.875 34.625 31.78125 34.625 \r\nz\r\nM 21.921875 38.8125 \r\nQ 15.578125 40.375 12.03125 44.71875 \r\nQ 8.5 49.078125 8.5 55.328125 \r\nQ 8.5 64.0625 14.71875 69.140625 \r\nQ 20.953125 74.21875 31.78125 74.21875 \r\nQ 42.671875 74.21875 48.875 69.140625 \r\nQ 55.078125 64.0625 55.078125 55.328125 \r\nQ 55.078125 49.078125 51.53125 44.71875 \r\nQ 48 40.375 41.703125 38.8125 \r\nQ 48.828125 37.15625 52.796875 32.3125 \r\nQ 56.78125 27.484375 56.78125 20.515625 \r\nQ 56.78125 9.90625 50.3125 4.234375 \r\nQ 43.84375 -1.421875 31.78125 -1.421875 \r\nQ 19.734375 -1.421875 13.25 4.234375 \r\nQ 6.78125 9.90625 6.78125 20.515625 \r\nQ 6.78125 27.484375 10.78125 32.3125 \r\nQ 14.796875 37.15625 21.921875 38.8125 \r\nz\r\nM 18.3125 54.390625 \r\nQ 18.3125 48.734375 21.84375 45.5625 \r\nQ 25.390625 42.390625 31.78125 42.390625 \r\nQ 38.140625 42.390625 41.71875 45.5625 \r\nQ 45.3125 48.734375 45.3125 54.390625 \r\nQ 45.3125 60.0625 41.71875 63.234375 \r\nQ 38.140625 66.40625 31.78125 66.40625 \r\nQ 25.390625 66.40625 21.84375 63.234375 \r\nQ 18.3125 60.0625 18.3125 54.390625 \r\nz\r\n\" id=\"DejaVuSans-38\"/>\r\n      </defs>\r\n      <g transform=\"translate(323.271986 568.898438)scale(0.1 -0.1)\">\r\n       <use xlink:href=\"#DejaVuSans-30\"/>\r\n       <use x=\"63.623047\" xlink:href=\"#DejaVuSans-38\"/>\r\n      </g>\r\n     </g>\r\n    </g>\r\n    <g id=\"xtick_10\">\r\n     <g id=\"line2d_10\">\r\n      <g>\r\n       <use style=\"stroke:#000000;stroke-width:0.8;\" x=\"362.71749\" xlink:href=\"#m7e35216594\" y=\"554.3\"/>\r\n      </g>\r\n     </g>\r\n     <g id=\"text_10\">\r\n      <!-- 09 -->\r\n      <defs>\r\n       <path d=\"M 10.984375 1.515625 \r\nL 10.984375 10.5 \r\nQ 14.703125 8.734375 18.5 7.8125 \r\nQ 22.3125 6.890625 25.984375 6.890625 \r\nQ 35.75 6.890625 40.890625 13.453125 \r\nQ 46.046875 20.015625 46.78125 33.40625 \r\nQ 43.953125 29.203125 39.59375 26.953125 \r\nQ 35.25 24.703125 29.984375 24.703125 \r\nQ 19.046875 24.703125 12.671875 31.3125 \r\nQ 6.296875 37.9375 6.296875 49.421875 \r\nQ 6.296875 60.640625 12.9375 67.421875 \r\nQ 19.578125 74.21875 30.609375 74.21875 \r\nQ 43.265625 74.21875 49.921875 64.515625 \r\nQ 56.59375 54.828125 56.59375 36.375 \r\nQ 56.59375 19.140625 48.40625 8.859375 \r\nQ 40.234375 -1.421875 26.421875 -1.421875 \r\nQ 22.703125 -1.421875 18.890625 -0.6875 \r\nQ 15.09375 0.046875 10.984375 1.515625 \r\nz\r\nM 30.609375 32.421875 \r\nQ 37.25 32.421875 41.125 36.953125 \r\nQ 45.015625 41.5 45.015625 49.421875 \r\nQ 45.015625 57.28125 41.125 61.84375 \r\nQ 37.25 66.40625 30.609375 66.40625 \r\nQ 23.96875 66.40625 20.09375 61.84375 \r\nQ 16.21875 57.28125 16.21875 49.421875 \r\nQ 16.21875 41.5 20.09375 36.953125 \r\nQ 23.96875 32.421875 30.609375 32.421875 \r\nz\r\n\" id=\"DejaVuSans-39\"/>\r\n      </defs>\r\n      <g transform=\"translate(356.35499 568.898438)scale(0.1 -0.1)\">\r\n       <use xlink:href=\"#DejaVuSans-30\"/>\r\n       <use x=\"63.623047\" xlink:href=\"#DejaVuSans-39\"/>\r\n      </g>\r\n     </g>\r\n    </g>\r\n    <g id=\"xtick_11\">\r\n     <g id=\"line2d_11\">\r\n      <g>\r\n       <use style=\"stroke:#000000;stroke-width:0.8;\" x=\"395.800494\" xlink:href=\"#m7e35216594\" y=\"554.3\"/>\r\n      </g>\r\n     </g>\r\n     <g id=\"text_11\">\r\n      <!-- 10 -->\r\n      <g transform=\"translate(389.437994 568.898438)scale(0.1 -0.1)\">\r\n       <use xlink:href=\"#DejaVuSans-31\"/>\r\n       <use x=\"63.623047\" xlink:href=\"#DejaVuSans-30\"/>\r\n      </g>\r\n     </g>\r\n    </g>\r\n    <g id=\"xtick_12\">\r\n     <g id=\"line2d_12\">\r\n      <g>\r\n       <use style=\"stroke:#000000;stroke-width:0.8;\" x=\"428.883498\" xlink:href=\"#m7e35216594\" y=\"554.3\"/>\r\n      </g>\r\n     </g>\r\n     <g id=\"text_12\">\r\n      <!-- 11 -->\r\n      <g transform=\"translate(422.520998 568.898438)scale(0.1 -0.1)\">\r\n       <use xlink:href=\"#DejaVuSans-31\"/>\r\n       <use x=\"63.623047\" xlink:href=\"#DejaVuSans-31\"/>\r\n      </g>\r\n     </g>\r\n    </g>\r\n    <g id=\"xtick_13\">\r\n     <g id=\"line2d_13\">\r\n      <g>\r\n       <use style=\"stroke:#000000;stroke-width:0.8;\" x=\"461.966502\" xlink:href=\"#m7e35216594\" y=\"554.3\"/>\r\n      </g>\r\n     </g>\r\n     <g id=\"text_13\">\r\n      <!-- 12 -->\r\n      <g transform=\"translate(455.604002 568.898438)scale(0.1 -0.1)\">\r\n       <use xlink:href=\"#DejaVuSans-31\"/>\r\n       <use x=\"63.623047\" xlink:href=\"#DejaVuSans-32\"/>\r\n      </g>\r\n     </g>\r\n    </g>\r\n    <g id=\"xtick_14\">\r\n     <g id=\"line2d_14\">\r\n      <g>\r\n       <use style=\"stroke:#000000;stroke-width:0.8;\" x=\"495.049506\" xlink:href=\"#m7e35216594\" y=\"554.3\"/>\r\n      </g>\r\n     </g>\r\n     <g id=\"text_14\">\r\n      <!-- 13 -->\r\n      <g transform=\"translate(488.687006 568.898438)scale(0.1 -0.1)\">\r\n       <use xlink:href=\"#DejaVuSans-31\"/>\r\n       <use x=\"63.623047\" xlink:href=\"#DejaVuSans-33\"/>\r\n      </g>\r\n     </g>\r\n    </g>\r\n    <g id=\"xtick_15\">\r\n     <g id=\"line2d_15\">\r\n      <g>\r\n       <use style=\"stroke:#000000;stroke-width:0.8;\" x=\"528.13251\" xlink:href=\"#m7e35216594\" y=\"554.3\"/>\r\n      </g>\r\n     </g>\r\n     <g id=\"text_15\">\r\n      <!-- 14 -->\r\n      <g transform=\"translate(521.77001 568.898438)scale(0.1 -0.1)\">\r\n       <use xlink:href=\"#DejaVuSans-31\"/>\r\n       <use x=\"63.623047\" xlink:href=\"#DejaVuSans-34\"/>\r\n      </g>\r\n     </g>\r\n    </g>\r\n    <g id=\"xtick_16\">\r\n     <g id=\"line2d_16\">\r\n      <g>\r\n       <use style=\"stroke:#000000;stroke-width:0.8;\" x=\"561.215514\" xlink:href=\"#m7e35216594\" y=\"554.3\"/>\r\n      </g>\r\n     </g>\r\n     <g id=\"text_16\">\r\n      <!-- 15 -->\r\n      <g transform=\"translate(554.853014 568.898438)scale(0.1 -0.1)\">\r\n       <use xlink:href=\"#DejaVuSans-31\"/>\r\n       <use x=\"63.623047\" xlink:href=\"#DejaVuSans-35\"/>\r\n      </g>\r\n     </g>\r\n    </g>\r\n    <g id=\"xtick_17\">\r\n     <g id=\"line2d_17\">\r\n      <g>\r\n       <use style=\"stroke:#000000;stroke-width:0.8;\" x=\"594.298518\" xlink:href=\"#m7e35216594\" y=\"554.3\"/>\r\n      </g>\r\n     </g>\r\n     <g id=\"text_17\">\r\n      <!-- 16 -->\r\n      <g transform=\"translate(587.936018 568.898438)scale(0.1 -0.1)\">\r\n       <use xlink:href=\"#DejaVuSans-31\"/>\r\n       <use x=\"63.623047\" xlink:href=\"#DejaVuSans-36\"/>\r\n      </g>\r\n     </g>\r\n    </g>\r\n    <g id=\"xtick_18\">\r\n     <g id=\"line2d_18\">\r\n      <g>\r\n       <use style=\"stroke:#000000;stroke-width:0.8;\" x=\"627.381522\" xlink:href=\"#m7e35216594\" y=\"554.3\"/>\r\n      </g>\r\n     </g>\r\n     <g id=\"text_18\">\r\n      <!-- 17 -->\r\n      <g transform=\"translate(621.019022 568.898438)scale(0.1 -0.1)\">\r\n       <use xlink:href=\"#DejaVuSans-31\"/>\r\n       <use x=\"63.623047\" xlink:href=\"#DejaVuSans-37\"/>\r\n      </g>\r\n     </g>\r\n    </g>\r\n    <g id=\"xtick_19\">\r\n     <g id=\"line2d_19\">\r\n      <g>\r\n       <use style=\"stroke:#000000;stroke-width:0.8;\" x=\"660.464526\" xlink:href=\"#m7e35216594\" y=\"554.3\"/>\r\n      </g>\r\n     </g>\r\n     <g id=\"text_19\">\r\n      <!-- 18 -->\r\n      <g transform=\"translate(654.102026 568.898438)scale(0.1 -0.1)\">\r\n       <use xlink:href=\"#DejaVuSans-31\"/>\r\n       <use x=\"63.623047\" xlink:href=\"#DejaVuSans-38\"/>\r\n      </g>\r\n     </g>\r\n    </g>\r\n    <g id=\"xtick_20\">\r\n     <g id=\"line2d_20\">\r\n      <g>\r\n       <use style=\"stroke:#000000;stroke-width:0.8;\" x=\"693.54753\" xlink:href=\"#m7e35216594\" y=\"554.3\"/>\r\n      </g>\r\n     </g>\r\n     <g id=\"text_20\">\r\n      <!-- 19 -->\r\n      <g transform=\"translate(687.18503 568.898438)scale(0.1 -0.1)\">\r\n       <use xlink:href=\"#DejaVuSans-31\"/>\r\n       <use x=\"63.623047\" xlink:href=\"#DejaVuSans-39\"/>\r\n      </g>\r\n     </g>\r\n    </g>\r\n    <g id=\"xtick_21\">\r\n     <g id=\"line2d_21\">\r\n      <g>\r\n       <use style=\"stroke:#000000;stroke-width:0.8;\" x=\"726.630534\" xlink:href=\"#m7e35216594\" y=\"554.3\"/>\r\n      </g>\r\n     </g>\r\n     <g id=\"text_21\">\r\n      <!-- 20 -->\r\n      <g transform=\"translate(720.268034 568.898438)scale(0.1 -0.1)\">\r\n       <use xlink:href=\"#DejaVuSans-32\"/>\r\n       <use x=\"63.623047\" xlink:href=\"#DejaVuSans-30\"/>\r\n      </g>\r\n     </g>\r\n    </g>\r\n    <g id=\"xtick_22\">\r\n     <g id=\"line2d_22\">\r\n      <g>\r\n       <use style=\"stroke:#000000;stroke-width:0.8;\" x=\"759.713538\" xlink:href=\"#m7e35216594\" y=\"554.3\"/>\r\n      </g>\r\n     </g>\r\n     <g id=\"text_22\">\r\n      <!-- 21 -->\r\n      <g transform=\"translate(753.351038 568.898438)scale(0.1 -0.1)\">\r\n       <use xlink:href=\"#DejaVuSans-32\"/>\r\n       <use x=\"63.623047\" xlink:href=\"#DejaVuSans-31\"/>\r\n      </g>\r\n     </g>\r\n    </g>\r\n    <g id=\"xtick_23\">\r\n     <g id=\"line2d_23\">\r\n      <g>\r\n       <use style=\"stroke:#000000;stroke-width:0.8;\" x=\"792.796542\" xlink:href=\"#m7e35216594\" y=\"554.3\"/>\r\n      </g>\r\n     </g>\r\n     <g id=\"text_23\">\r\n      <!-- 22 -->\r\n      <g transform=\"translate(786.434042 568.898438)scale(0.1 -0.1)\">\r\n       <use xlink:href=\"#DejaVuSans-32\"/>\r\n       <use x=\"63.623047\" xlink:href=\"#DejaVuSans-32\"/>\r\n      </g>\r\n     </g>\r\n    </g>\r\n    <g id=\"xtick_24\">\r\n     <g id=\"line2d_24\">\r\n      <g>\r\n       <use style=\"stroke:#000000;stroke-width:0.8;\" x=\"825.879545\" xlink:href=\"#m7e35216594\" y=\"554.3\"/>\r\n      </g>\r\n     </g>\r\n     <g id=\"text_24\">\r\n      <!-- 23 -->\r\n      <g transform=\"translate(819.517045 568.898438)scale(0.1 -0.1)\">\r\n       <use xlink:href=\"#DejaVuSans-32\"/>\r\n       <use x=\"63.623047\" xlink:href=\"#DejaVuSans-33\"/>\r\n      </g>\r\n     </g>\r\n    </g>\r\n   </g>\r\n   <g id=\"matplotlib.axis_2\">\r\n    <g id=\"ytick_1\">\r\n     <g id=\"line2d_25\">\r\n      <defs>\r\n       <path d=\"M 0 0 \r\nL -3.5 0 \r\n\" id=\"m733f1ab837\" style=\"stroke:#000000;stroke-width:0.8;\"/>\r\n      </defs>\r\n      <g>\r\n       <use style=\"stroke:#000000;stroke-width:0.8;\" x=\"26.925\" xlink:href=\"#m733f1ab837\" y=\"529.590909\"/>\r\n      </g>\r\n     </g>\r\n     <g id=\"text_25\">\r\n      <!-- 15 -->\r\n      <g transform=\"translate(7.2 533.390128)scale(0.1 -0.1)\">\r\n       <use xlink:href=\"#DejaVuSans-31\"/>\r\n       <use x=\"63.623047\" xlink:href=\"#DejaVuSans-35\"/>\r\n      </g>\r\n     </g>\r\n    </g>\r\n    <g id=\"ytick_2\">\r\n     <g id=\"line2d_26\">\r\n      <g>\r\n       <use style=\"stroke:#000000;stroke-width:0.8;\" x=\"26.925\" xlink:href=\"#m733f1ab837\" y=\"444.387147\"/>\r\n      </g>\r\n     </g>\r\n     <g id=\"text_26\">\r\n      <!-- 20 -->\r\n      <g transform=\"translate(7.2 448.186366)scale(0.1 -0.1)\">\r\n       <use xlink:href=\"#DejaVuSans-32\"/>\r\n       <use x=\"63.623047\" xlink:href=\"#DejaVuSans-30\"/>\r\n      </g>\r\n     </g>\r\n    </g>\r\n    <g id=\"ytick_3\">\r\n     <g id=\"line2d_27\">\r\n      <g>\r\n       <use style=\"stroke:#000000;stroke-width:0.8;\" x=\"26.925\" xlink:href=\"#m733f1ab837\" y=\"359.183386\"/>\r\n      </g>\r\n     </g>\r\n     <g id=\"text_27\">\r\n      <!-- 25 -->\r\n      <g transform=\"translate(7.2 362.982604)scale(0.1 -0.1)\">\r\n       <use xlink:href=\"#DejaVuSans-32\"/>\r\n       <use x=\"63.623047\" xlink:href=\"#DejaVuSans-35\"/>\r\n      </g>\r\n     </g>\r\n    </g>\r\n    <g id=\"ytick_4\">\r\n     <g id=\"line2d_28\">\r\n      <g>\r\n       <use style=\"stroke:#000000;stroke-width:0.8;\" x=\"26.925\" xlink:href=\"#m733f1ab837\" y=\"273.979624\"/>\r\n      </g>\r\n     </g>\r\n     <g id=\"text_28\">\r\n      <!-- 30 -->\r\n      <g transform=\"translate(7.2 277.778843)scale(0.1 -0.1)\">\r\n       <use xlink:href=\"#DejaVuSans-33\"/>\r\n       <use x=\"63.623047\" xlink:href=\"#DejaVuSans-30\"/>\r\n      </g>\r\n     </g>\r\n    </g>\r\n    <g id=\"ytick_5\">\r\n     <g id=\"line2d_29\">\r\n      <g>\r\n       <use style=\"stroke:#000000;stroke-width:0.8;\" x=\"26.925\" xlink:href=\"#m733f1ab837\" y=\"188.775862\"/>\r\n      </g>\r\n     </g>\r\n     <g id=\"text_29\">\r\n      <!-- 35 -->\r\n      <g transform=\"translate(7.2 192.575081)scale(0.1 -0.1)\">\r\n       <use xlink:href=\"#DejaVuSans-33\"/>\r\n       <use x=\"63.623047\" xlink:href=\"#DejaVuSans-35\"/>\r\n      </g>\r\n     </g>\r\n    </g>\r\n    <g id=\"ytick_6\">\r\n     <g id=\"line2d_30\">\r\n      <g>\r\n       <use style=\"stroke:#000000;stroke-width:0.8;\" x=\"26.925\" xlink:href=\"#m733f1ab837\" y=\"103.5721\"/>\r\n      </g>\r\n     </g>\r\n     <g id=\"text_30\">\r\n      <!-- 40 -->\r\n      <g transform=\"translate(7.2 107.371319)scale(0.1 -0.1)\">\r\n       <use xlink:href=\"#DejaVuSans-34\"/>\r\n       <use x=\"63.623047\" xlink:href=\"#DejaVuSans-30\"/>\r\n      </g>\r\n     </g>\r\n    </g>\r\n    <g id=\"ytick_7\">\r\n     <g id=\"line2d_31\">\r\n      <g>\r\n       <use style=\"stroke:#000000;stroke-width:0.8;\" x=\"26.925\" xlink:href=\"#m733f1ab837\" y=\"18.368339\"/>\r\n      </g>\r\n     </g>\r\n     <g id=\"text_31\">\r\n      <!-- 45 -->\r\n      <g transform=\"translate(7.2 22.167557)scale(0.1 -0.1)\">\r\n       <use xlink:href=\"#DejaVuSans-34\"/>\r\n       <use x=\"63.623047\" xlink:href=\"#DejaVuSans-35\"/>\r\n      </g>\r\n     </g>\r\n    </g>\r\n   </g>\r\n   <g id=\"line2d_32\">\r\n    <path clip-path=\"url(#p4cc52fb0e5)\" d=\"M 64.970455 308.061129 \r\nL 98.053458 188.775862 \r\nL 131.136462 120.612853 \r\nL 164.219466 69.490596 \r\nL 197.30247 52.449843 \r\nL 230.385474 35.409091 \r\nL 263.468478 103.5721 \r\nL 296.551482 291.020376 \r\nL 329.634486 239.898119 \r\nL 362.71749 239.898119 \r\nL 395.800494 308.061129 \r\nL 428.883498 393.26489 \r\nL 461.966502 444.387147 \r\nL 495.049506 512.550157 \r\nL 528.13251 529.590909 \r\nL 561.215514 529.590909 \r\nL 594.298518 512.550157 \r\nL 627.381522 325.101881 \r\nL 660.464526 308.061129 \r\nL 693.54753 222.857367 \r\nL 726.630534 35.409091 \r\nL 759.713538 35.409091 \r\nL 792.796542 69.490596 \r\nL 825.879545 52.449843 \r\n\" style=\"fill:none;stroke:#008000;stroke-linecap:square;stroke-width:1.5;\"/>\r\n    <defs>\r\n     <path d=\"M 0 3 \r\nC 0.795609 3 1.55874 2.683901 2.12132 2.12132 \r\nC 2.683901 1.55874 3 0.795609 3 0 \r\nC 3 -0.795609 2.683901 -1.55874 2.12132 -2.12132 \r\nC 1.55874 -2.683901 0.795609 -3 0 -3 \r\nC -0.795609 -3 -1.55874 -2.683901 -2.12132 -2.12132 \r\nC -2.683901 -1.55874 -3 -0.795609 -3 0 \r\nC -3 0.795609 -2.683901 1.55874 -2.12132 2.12132 \r\nC -1.55874 2.683901 -0.795609 3 0 3 \r\nz\r\n\" id=\"m2aa5ac3bc1\" style=\"stroke:#008000;\"/>\r\n    </defs>\r\n    <g clip-path=\"url(#p4cc52fb0e5)\">\r\n     <use style=\"fill:#008000;stroke:#008000;\" x=\"64.970455\" xlink:href=\"#m2aa5ac3bc1\" y=\"308.061129\"/>\r\n     <use style=\"fill:#008000;stroke:#008000;\" x=\"98.053458\" xlink:href=\"#m2aa5ac3bc1\" y=\"188.775862\"/>\r\n     <use style=\"fill:#008000;stroke:#008000;\" x=\"131.136462\" xlink:href=\"#m2aa5ac3bc1\" y=\"120.612853\"/>\r\n     <use style=\"fill:#008000;stroke:#008000;\" x=\"164.219466\" xlink:href=\"#m2aa5ac3bc1\" y=\"69.490596\"/>\r\n     <use style=\"fill:#008000;stroke:#008000;\" x=\"197.30247\" xlink:href=\"#m2aa5ac3bc1\" y=\"52.449843\"/>\r\n     <use style=\"fill:#008000;stroke:#008000;\" x=\"230.385474\" xlink:href=\"#m2aa5ac3bc1\" y=\"35.409091\"/>\r\n     <use style=\"fill:#008000;stroke:#008000;\" x=\"263.468478\" xlink:href=\"#m2aa5ac3bc1\" y=\"103.5721\"/>\r\n     <use style=\"fill:#008000;stroke:#008000;\" x=\"296.551482\" xlink:href=\"#m2aa5ac3bc1\" y=\"291.020376\"/>\r\n     <use style=\"fill:#008000;stroke:#008000;\" x=\"329.634486\" xlink:href=\"#m2aa5ac3bc1\" y=\"239.898119\"/>\r\n     <use style=\"fill:#008000;stroke:#008000;\" x=\"362.71749\" xlink:href=\"#m2aa5ac3bc1\" y=\"239.898119\"/>\r\n     <use style=\"fill:#008000;stroke:#008000;\" x=\"395.800494\" xlink:href=\"#m2aa5ac3bc1\" y=\"308.061129\"/>\r\n     <use style=\"fill:#008000;stroke:#008000;\" x=\"428.883498\" xlink:href=\"#m2aa5ac3bc1\" y=\"393.26489\"/>\r\n     <use style=\"fill:#008000;stroke:#008000;\" x=\"461.966502\" xlink:href=\"#m2aa5ac3bc1\" y=\"444.387147\"/>\r\n     <use style=\"fill:#008000;stroke:#008000;\" x=\"495.049506\" xlink:href=\"#m2aa5ac3bc1\" y=\"512.550157\"/>\r\n     <use style=\"fill:#008000;stroke:#008000;\" x=\"528.13251\" xlink:href=\"#m2aa5ac3bc1\" y=\"529.590909\"/>\r\n     <use style=\"fill:#008000;stroke:#008000;\" x=\"561.215514\" xlink:href=\"#m2aa5ac3bc1\" y=\"529.590909\"/>\r\n     <use style=\"fill:#008000;stroke:#008000;\" x=\"594.298518\" xlink:href=\"#m2aa5ac3bc1\" y=\"512.550157\"/>\r\n     <use style=\"fill:#008000;stroke:#008000;\" x=\"627.381522\" xlink:href=\"#m2aa5ac3bc1\" y=\"325.101881\"/>\r\n     <use style=\"fill:#008000;stroke:#008000;\" x=\"660.464526\" xlink:href=\"#m2aa5ac3bc1\" y=\"308.061129\"/>\r\n     <use style=\"fill:#008000;stroke:#008000;\" x=\"693.54753\" xlink:href=\"#m2aa5ac3bc1\" y=\"222.857367\"/>\r\n     <use style=\"fill:#008000;stroke:#008000;\" x=\"726.630534\" xlink:href=\"#m2aa5ac3bc1\" y=\"35.409091\"/>\r\n     <use style=\"fill:#008000;stroke:#008000;\" x=\"759.713538\" xlink:href=\"#m2aa5ac3bc1\" y=\"35.409091\"/>\r\n     <use style=\"fill:#008000;stroke:#008000;\" x=\"792.796542\" xlink:href=\"#m2aa5ac3bc1\" y=\"69.490596\"/>\r\n     <use style=\"fill:#008000;stroke:#008000;\" x=\"825.879545\" xlink:href=\"#m2aa5ac3bc1\" y=\"52.449843\"/>\r\n    </g>\r\n   </g>\r\n   <g id=\"patch_3\">\r\n    <path d=\"M 26.925 554.3 \r\nL 26.925 10.7 \r\n\" style=\"fill:none;stroke:#000000;stroke-linecap:square;stroke-linejoin:miter;stroke-width:0.8;\"/>\r\n   </g>\r\n   <g id=\"patch_4\">\r\n    <path d=\"M 863.925 554.3 \r\nL 863.925 10.7 \r\n\" style=\"fill:none;stroke:#000000;stroke-linecap:square;stroke-linejoin:miter;stroke-width:0.8;\"/>\r\n   </g>\r\n   <g id=\"patch_5\">\r\n    <path d=\"M 26.925 554.3 \r\nL 863.925 554.3 \r\n\" style=\"fill:none;stroke:#000000;stroke-linecap:square;stroke-linejoin:miter;stroke-width:0.8;\"/>\r\n   </g>\r\n   <g id=\"patch_6\">\r\n    <path d=\"M 26.925 10.7 \r\nL 863.925 10.7 \r\n\" style=\"fill:none;stroke:#000000;stroke-linecap:square;stroke-linejoin:miter;stroke-width:0.8;\"/>\r\n   </g>\r\n  </g>\r\n </g>\r\n <defs>\r\n  <clipPath id=\"p4cc52fb0e5\">\r\n   <rect height=\"543.6\" width=\"837\" x=\"26.925\" y=\"10.7\"/>\r\n  </clipPath>\r\n </defs>\r\n</svg>\r\n",
      "image/png": "[encoded data removed]"
     },
     "metadata": {}
    }
   ],
   "source": [
    "import requests, time, json, sys, os\n",
    "from datetime import datetime, timedelta\n",
    "import matplotlib.pyplot as plt\n",
    "#%matplotlib inline\n",
    "\n",
    "start = datetime(2020, 3, 18, 0, 0)\n",
    "\n",
    "axis_x = []\n",
    "axis_y = []\n",
    "for i in range(24):\n",
    "    ftime = start.strftime(\"%Y%m%d%H%M\")\n",
    "    basepath = os.getcwd()\n",
    "    filename = os.path.join(basepath, \"data\", \"pm25_\"+ftime+\".json\")\n",
    "    try:\n",
    "        with open(filename, 'r', encoding=\"UTF-8\") as f:\n",
    "            datas = json.loads(f.read())\n",
    "            axis_x.append(start.strftime(\"%H\"))\n",
    "            axis_y.append(int(datas[7]['PM25']))\n",
    "            print(datas[7]['Site'], start.strftime(\"%H\")+\", \", datas[7]['PM25'])\n",
    "    except:\n",
    "        print(filename, sys.exc_info()[0], \"not found!!\")\n",
    "\n",
    "    start = start + timedelta(hours=1) \n",
    "\n",
    "plt.figure(figsize=(15,10),dpi=100,linewidth = 2)\n",
    "try:\n",
    "    plt.plot(axis_x,axis_y,'o-',color = 'g', label=\"PM25\")\n",
    "except:\n",
    "    print(sys.exc_info()[0])\n",
    "    pass"
   ]
  },
  {
   "cell_type": "markdown",
   "metadata": {},
   "source": [
    "# 打點在地圖上。"
   ]
  },
  {
   "cell_type": "code",
   "execution_count": 1,
   "metadata": {},
   "outputs": [
    {
     "output_type": "error",
     "ename": "ModuleNotFoundError",
     "evalue": "No module named 'geopandas'",
     "traceback": [
      "\u001b[0;31m---------------------------------------------------------------------------\u001b[0m",
      "\u001b[0;31mModuleNotFoundError\u001b[0m                       Traceback (most recent call last)",
      "\u001b[0;32m<ipython-input-1-b3ad0e8bdc80>\u001b[0m in \u001b[0;36m<module>\u001b[0;34m()\u001b[0m\n\u001b[1;32m      1\u001b[0m \u001b[0;34m\u001b[0m\u001b[0m\n\u001b[1;32m      2\u001b[0m \u001b[0;32mimport\u001b[0m \u001b[0mpandas\u001b[0m \u001b[0;32mas\u001b[0m \u001b[0mpd\u001b[0m\u001b[0;34m\u001b[0m\u001b[0m\n\u001b[0;32m----> 3\u001b[0;31m \u001b[0;32mimport\u001b[0m \u001b[0mgeopandas\u001b[0m\u001b[0;34m\u001b[0m\u001b[0m\n\u001b[0m\u001b[1;32m      4\u001b[0m \u001b[0;32mimport\u001b[0m \u001b[0mmatplotlib\u001b[0m\u001b[0;34m.\u001b[0m\u001b[0mpyplot\u001b[0m \u001b[0;32mas\u001b[0m \u001b[0mplt\u001b[0m\u001b[0;34m\u001b[0m\u001b[0m\n\u001b[1;32m      5\u001b[0m \u001b[0mget_ipython\u001b[0m\u001b[0;34m(\u001b[0m\u001b[0;34m)\u001b[0m\u001b[0;34m.\u001b[0m\u001b[0mrun_line_magic\u001b[0m\u001b[0;34m(\u001b[0m\u001b[0;34m'matplotlib'\u001b[0m\u001b[0;34m,\u001b[0m \u001b[0;34m'inline'\u001b[0m\u001b[0;34m)\u001b[0m\u001b[0;34m\u001b[0m\u001b[0m\n",
      "\u001b[0;31mModuleNotFoundError\u001b[0m: No module named 'geopandas'"
     ]
    }
   ],
   "source": [
    "\n",
    "import pandas as pd\n",
    "import geopandas\n",
    "import matplotlib.pyplot as plt\n",
    "%matplotlib inline\n",
    "\n",
    "world = geopandas.read_file(geopandas.datasets.get_path('naturalearth_lowres'))\n",
    "world.plot()\n",
    "plt.show()\n",
    "\n",
    "\n",
    ""
   ]
  },
  {
   "cell_type": "code",
   "execution_count": null,
   "metadata": {},
   "outputs": [],
   "source": []
  }
 ],
 "metadata": {
  "kernelspec": {
   "display_name": "Python 3",
   "language": "python",
   "name": "python3"
  },
  "language_info": {
   "codemirror_mode": {
    "name": "ipython",
    "version": 3
   },
   "file_extension": ".py",
   "mimetype": "text/x-python",
   "name": "python",
   "nbconvert_exporter": "python",
   "pygments_lexer": "ipython3",
   "version": "3.8.0-final"
  }
 },
 "nbformat": 4,
 "nbformat_minor": 2
}
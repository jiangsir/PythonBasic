{
 "cells": [
  {
   "cell_type": "markdown",
   "metadata": {},
   "source": [
    "# 動態規劃\n",
    "\n",
    "### 就是把重複計算的部分記錄下來，以便後續取用\n",
    "\n",
    "會大大降低計算時間"
   ]
  },
  {
   "cell_type": "code",
   "execution_count": 4,
   "metadata": {},
   "outputs": [
    {
     "name": "stdout",
     "output_type": "stream",
     "text": [
      "89\n"
     ]
    }
   ],
   "source": [
    "# 費氏數列 DP 版\n",
    "\n",
    "fib = [0 for _ in range(0, 100)]\n",
    "\n",
    "n = 10\n",
    "\n",
    "for i in range(n+1):\n",
    "    if i == 0:\n",
    "        fib[i] = 1\n",
    "    elif i == 1:\n",
    "        fib[i] = 1\n",
    "    else:\n",
    "        fib[i] = fib[i-1] + fib[i-2]\n",
    "\n",
    "print(fib[n])"
   ]
  },
  {
   "cell_type": "markdown",
   "metadata": {},
   "source": [
    "## LCS"
   ]
  },
  {
   "cell_type": "markdown",
   "metadata": {},
   "source": [
    "## a252:Another LCS"
   ]
  },
  {
   "cell_type": "markdown",
   "metadata": {},
   "source": [
    "## b123:最大矩形"
   ]
  },
  {
   "cell_type": "markdown",
   "metadata": {},
   "source": [
    "## b184:裝貨櫃問題"
   ]
  },
  {
   "cell_type": "markdown",
   "metadata": {},
   "source": [
    "### 參考文獻:\n",
    "\n",
    "[北一女中ZeroJudge DP問題集合](http://web.fg.tp.edu.tw/~tfgcsblog/blog/wp-content/uploads/2016/07/Zerojudge%E9%A1%8C%E5%BA%AB%E5%88%86%E9%A1%9EDP%E7%AF%87.pdf)"
   ]
  }
 ],
 "metadata": {
  "kernelspec": {
   "display_name": "Python 3",
   "language": "python",
   "name": "python3"
  },
  "language_info": {
   "codemirror_mode": {
    "name": "ipython",
    "version": 3
   },
   "file_extension": ".py",
   "mimetype": "text/x-python",
   "name": "python",
   "nbconvert_exporter": "python",
   "pygments_lexer": "ipython3",
   "version": "3.6.5"
  }
 },
 "nbformat": 4,
 "nbformat_minor": 2
}

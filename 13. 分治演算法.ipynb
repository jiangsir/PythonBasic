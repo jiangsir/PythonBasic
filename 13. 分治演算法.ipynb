{
 "nbformat": 4,
 "nbformat_minor": 2,
 "metadata": {
  "language_info": {
   "name": "python",
   "codemirror_mode": {
    "name": "ipython",
    "version": 3
   },
   "version": "3.8.2-final"
  },
  "orig_nbformat": 2,
  "file_extension": ".py",
  "mimetype": "text/x-python",
  "name": "python",
  "npconvert_exporter": "python",
  "pygments_lexer": "ipython3",
  "version": 3,
  "kernelspec": {
   "name": "python36464bit39128d5730f7404897c77c0be80b9e8a",
   "display_name": "Python 3.6.4 64-bit"
  }
 },
 "cells": [
  {
   "cell_type": "markdown",
   "metadata": {},
   "source": [
    "# 分治演算法"
   ]
  },
  {
   "cell_type": "markdown",
   "metadata": {},
   "source": [
    "# 分治演算法\n",
    "\n",
    "    實際上就是類似於數學歸納法，找到解決本問題的求解方程公式，然後根據方程公式設計遞迴程式。\n",
    "\n",
    "    1、一定是先找到最小問題規模時的求解方法\n",
    "    2、然後考慮隨著問題規模增大時的求解方法\n",
    "    3、找到求解的遞迴函式式後（各種規模或因子），設計遞迴程式即可。\n"
   ]
  },
  {
   "cell_type": "markdown",
   "metadata": {},
   "source": [
    "# 範例程式: a 的 b 次方"
   ]
  },
  {
   "cell_type": "markdown",
   "metadata": {},
   "source": [
    "### 例子：求一組資料的逆序對個數\n",
    "\n",
    "有序對就是左邊小於右邊，逆序對就是左邊大於右邊，比如一組數2,4,1,5,6。逆序對就是(2,1) (4,3) (4,1) (3,1)\n",
    "\n",
    "我們可以通過歸併排序來實現，歸併排序中有個操作是把兩個有序的小組合併成一個有序陣列，在合併的過程中我們就可以計算著兩個小組的逆序對數了。\n",
    "\n",
    "比如一組資料 1,5,6,2,3,4。\n",
    "\n",
    "首先將其分成兩部分分別排序 ： 1,5,6和2,3,4,\n",
    "\n",
    "這裡分組已經排序完成，下面就是兩組合併成一組\n",
    "\n",
    "準備一個空陣列\n",
    "1和2比較，1比2小，1放入陣列\n",
    "5和2比較5比2大，2放入陣列中，5和5後面的都比2大，說明可以組成逆序對，所以這裡逆序對個數+2\n",
    "5和3比較，5比3大，3放入陣列中，5和5後面的都比2大，說明可以組成逆序對，所以這裡逆序對個數+2\n",
    "5和4比較，5比4大，4放入陣列中，5和5後面的都比2大，說明可以組成逆序對，所以這裡逆序對個數+2\n",
    "最後5和6放入陣列中排序完成\n",
    "結果逆序對的個數就是2+2+2=6"
   ]
  },
  {
   "cell_type": "markdown",
   "metadata": {},
   "source": [
    "# 最大子陣列 Maximum Subarray"
   ]
  },
  {
   "cell_type": "code",
   "execution_count": null,
   "metadata": {},
   "outputs": [],
   "source": []
  }
 ]
}
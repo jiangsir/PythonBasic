{
 "cells": [
  {
   "cell_type": "markdown",
   "metadata": {},
   "source": [
    "# 經典題庫集"
   ]
  },
  {
   "cell_type": "code",
   "execution_count": 8,
   "metadata": {},
   "outputs": [
    {
     "name": "stdout",
     "output_type": "stream",
     "text": [
      "with.\" up come they what see \"We'll retaliation. expected the of said Kudlow tomorrow,\" or evening this even or today more know may \"We goods. Chinese of billion $200 on 25% to rate the increased it when week last US the by on put hike tariff the for retaliate to Chinese the expect officials US whether asked when do,\" I think \"I said, He Sunday.\" News \"Fox on Wallace Chris News' Fox told Kudlow Chinese,\" the by backtracking was there China, in ago weeks two is, problem the but ... case the that's think still I and -- talks constructive well, moving were \"We would. it indicated has Beijing as goods Chinese on tariffs in week last increase its for US the against retaliate to China expects he said and month next Japan in summit economic G20 the at Jinping Xi President Chinese meet will Trump possibility\" \"strong a is there Sunday said adviser, economic top Trump's Donald President Kudlow, (CNN)Larry Washington\n"
     ]
    }
   ],
   "source": [
    "#s = \"Trump's top economic adviser Larry Kudlow says the US expects China to retaliate soon\"\n",
    "s = '''\n",
    "Washington (CNN)Larry Kudlow, President Donald Trump's top economic adviser, said Sunday there is a \"strong possibility\" Trump will meet Chinese President Xi Jinping at the G20 economic summit in Japan next month and said he expects China to retaliate against the US for its increase last week in tariffs on Chinese goods as Beijing has indicated it would.\n",
    "\n",
    "\"We were moving well, constructive talks -- and I still think that's the case ... but the problem is, two weeks ago in China, there was backtracking by the Chinese,\" Kudlow told Fox News' Chris Wallace on \"Fox News Sunday.\"\n",
    "He said, \"I think I do,\" when asked whether US officials expect the Chinese to retaliate for the tariff hike put on by the US last week when it increased the rate to 25% on $200 billion of Chinese goods.\n",
    "\"We may know more today or even this evening or tomorrow,\" Kudlow said of the expected retaliation. \"We'll see what they come up with.\"\n",
    "'''\n",
    "\n",
    "s = input()\n",
    "li = s.split()\n",
    "\n",
    "print(*reversed(li))"
   ]
  },
  {
   "cell_type": "code",
   "execution_count": 12,
   "metadata": {},
   "outputs": [
    {
     "data": {
      "text/plain": [
       "18"
      ]
     },
     "execution_count": 12,
     "metadata": {},
     "output_type": "execute_result"
    }
   ],
   "source": [
    "x = 3\n",
    "\n",
    "2 * x ** 2"
   ]
  }
 ],
 "metadata": {
  "kernelspec": {
   "display_name": "Python 3",
   "language": "python",
   "name": "python3"
  },
  "language_info": {
   "codemirror_mode": {
    "name": "ipython",
    "version": 3
   },
   "file_extension": ".py",
   "mimetype": "text/x-python",
   "name": "python",
   "nbconvert_exporter": "python",
   "pygments_lexer": "ipython3",
   "version": "3.6.5"
  }
 },
 "nbformat": 4,
 "nbformat_minor": 2
}

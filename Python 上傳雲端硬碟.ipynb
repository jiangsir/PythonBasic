{
 "cells": [
  {
   "cell_type": "markdown",
   "metadata": {},
   "source": [
    "## [Python 使用 Google 雲端硬碟 API 自動進行文字辨識教學](https://blog.gtwang.org/programming/automation-of-google-ocr-using-python-tutorial/)\n",
    "\n",
    "\n",
    "開發程式之前，請先參考[Google Developers 官方文件](https://developers.google.com/drive/v3/web/quickstart/python)的 Python 範例，看懂之後再把程式碼改成自動上傳圖片、下載文字檔的 Python 程式，以下是完整的程式碼。"
   ]
  },
  {
   "cell_type": "code",
   "execution_count": 4,
   "metadata": {},
   "outputs": [
    {
     "name": "stdout",
     "output_type": "stream",
     "text": [
      "Requirement already up-to-date: google-api-python-client in c:\\users\\jiangsir\\anaconda3\\lib\\site-packages (1.7.4)\n",
      "Collecting gspread\n",
      "  Downloading https://files.pythonhosted.org/packages/95/35/c71e32929d1ce56dee17f3e51d167067c8361b87391140ceb1e50bece12b/gspread-3.0.1-py3-none-any.whl\n",
      "Collecting oauth2client\n",
      "  Downloading https://files.pythonhosted.org/packages/95/a9/4f25a14d23f0786b64875b91784607c2277eff25d48f915e39ff0cff505a/oauth2client-4.1.3-py2.py3-none-any.whl (98kB)\n",
      "Requirement already satisfied, skipping upgrade: six<2dev,>=1.6.1 in c:\\users\\jiangsir\\anaconda3\\lib\\site-packages (from google-api-python-client) (1.11.0)\n",
      "Requirement already satisfied, skipping upgrade: google-auth>=1.4.1 in c:\\users\\jiangsir\\anaconda3\\lib\\site-packages (from google-api-python-client) (1.5.1)\n",
      "Requirement already satisfied, skipping upgrade: uritemplate<4dev,>=3.0.0 in c:\\users\\jiangsir\\anaconda3\\lib\\site-packages (from google-api-python-client) (3.0.0)\n",
      "Requirement already satisfied, skipping upgrade: httplib2<1dev,>=0.9.2 in c:\\users\\jiangsir\\anaconda3\\lib\\site-packages (from google-api-python-client) (0.11.3)\n",
      "Requirement already satisfied, skipping upgrade: google-auth-httplib2>=0.0.3 in c:\\users\\jiangsir\\anaconda3\\lib\\site-packages (from google-api-python-client) (0.0.3)\n",
      "Requirement already satisfied, skipping upgrade: requests>=2.2.1 in c:\\users\\jiangsir\\anaconda3\\lib\\site-packages (from gspread) (2.18.4)\n",
      "Requirement already satisfied, skipping upgrade: rsa>=3.1.4 in c:\\users\\jiangsir\\anaconda3\\lib\\site-packages (from oauth2client) (4.0)\n",
      "Requirement already satisfied, skipping upgrade: pyasn1-modules>=0.0.5 in c:\\users\\jiangsir\\anaconda3\\lib\\site-packages (from oauth2client) (0.2.2)\n",
      "Requirement already satisfied, skipping upgrade: pyasn1>=0.1.7 in c:\\users\\jiangsir\\anaconda3\\lib\\site-packages (from oauth2client) (0.4.4)\n",
      "Requirement already satisfied, skipping upgrade: cachetools>=2.0.0 in c:\\users\\jiangsir\\anaconda3\\lib\\site-packages (from google-auth>=1.4.1->google-api-python-client) (2.1.0)\n",
      "Requirement already satisfied, skipping upgrade: chardet<3.1.0,>=3.0.2 in c:\\users\\jiangsir\\anaconda3\\lib\\site-packages (from requests>=2.2.1->gspread) (3.0.4)\n",
      "Requirement already satisfied, skipping upgrade: idna<2.7,>=2.5 in c:\\users\\jiangsir\\anaconda3\\lib\\site-packages (from requests>=2.2.1->gspread) (2.6)\n",
      "Requirement already satisfied, skipping upgrade: urllib3<1.23,>=1.21.1 in c:\\users\\jiangsir\\anaconda3\\lib\\site-packages (from requests>=2.2.1->gspread) (1.22)\n",
      "Requirement already satisfied, skipping upgrade: certifi>=2017.4.17 in c:\\users\\jiangsir\\anaconda3\\lib\\site-packages (from requests>=2.2.1->gspread) (2018.4.16)\n",
      "Installing collected packages: gspread, oauth2client\n",
      "Successfully installed gspread-3.0.1 oauth2client-4.1.3\n"
     ]
    },
    {
     "name": "stderr",
     "output_type": "stream",
     "text": [
      "You are using pip version 18.0, however version 18.1 is available.\n",
      "You should consider upgrading via the 'python -m pip install --upgrade pip' command.\n"
     ]
    }
   ],
   "source": [
    "!pip3 install --upgrade google-api-python-client gspread oauth2client"
   ]
  },
  {
   "cell_type": "code",
   "execution_count": 5,
   "metadata": {},
   "outputs": [
    {
     "name": "stderr",
     "output_type": "stream",
     "text": [
      "usage: ipykernel_launcher.py [-h] [--auth_host_name AUTH_HOST_NAME]\n",
      "                             [--noauth_local_webserver]\n",
      "                             [--auth_host_port [AUTH_HOST_PORT [AUTH_HOST_PORT ...]]]\n",
      "                             [--logging_level {DEBUG,INFO,WARNING,ERROR,CRITICAL}]\n",
      "ipykernel_launcher.py: error: unrecognized arguments: -f C:\\Users\\jiangsir\\AppData\\Roaming\\jupyter\\runtime\\kernel-7840ac8b-42f3-4a59-91c0-dcab5903ece3.json\n"
     ]
    },
    {
     "ename": "SystemExit",
     "evalue": "2",
     "output_type": "error",
     "traceback": [
      "An exception has occurred, use %tb to see the full traceback.\n",
      "\u001b[1;31mSystemExit\u001b[0m\u001b[1;31m:\u001b[0m 2\n"
     ]
    },
    {
     "name": "stderr",
     "output_type": "stream",
     "text": [
      "C:\\Users\\jiangsir\\Anaconda3\\lib\\site-packages\\IPython\\core\\interactiveshell.py:2971: UserWarning: To exit: use 'exit', 'quit', or Ctrl-D.\n",
      "  warn(\"To exit: use 'exit', 'quit', or Ctrl-D.\", stacklevel=1)\n"
     ]
    }
   ],
   "source": [
    "#!/usr/bin/python3\n",
    "from __future__ import print_function\n",
    "import httplib2\n",
    "import os\n",
    "import io\n",
    "\n",
    "from apiclient import discovery\n",
    "from oauth2client import client\n",
    "from oauth2client import tools\n",
    "from oauth2client.file import Storage\n",
    "from apiclient.http import MediaFileUpload, MediaIoBaseDownload\n",
    "\n",
    "try:\n",
    "  import argparse\n",
    "  flags = argparse.ArgumentParser(parents=[tools.argparser]).parse_args()\n",
    "except ImportError:\n",
    "  flags = None\n",
    "\n",
    "SCOPES = 'https://www.googleapis.com/auth/drive'\n",
    "CLIENT_SECRET_FILE = 'client_id.json'\n",
    "APPLICATION_NAME = 'Python OCR'\n",
    "\n",
    "def get_credentials():\n",
    "  \"\"\"取得有效的憑證\n",
    "     若沒有憑證，或是已儲存的憑證無效，就會自動取得新憑證\n",
    "\n",
    "     傳回值：取得的憑證\n",
    "  \"\"\"\n",
    "  credential_path = os.path.join(\"./\", 'google-ocr-credential.json')\n",
    "  store = Storage(credential_path)\n",
    "  credentials = store.get()\n",
    "  if not credentials or credentials.invalid:\n",
    "    flow = client.flow_from_clientsecrets(CLIENT_SECRET_FILE, SCOPES)\n",
    "    flow.user_agent = APPLICATION_NAME\n",
    "    if flags:\n",
    "      credentials = tools.run_flow(flow, store, flags)\n",
    "    else: # Needed only for compatibility with Python 2.6\n",
    "      credentials = tools.run(flow, store)\n",
    "    print('憑證儲存於：' + credential_path)\n",
    "  return credentials\n",
    "\n",
    "def main():\n",
    "\n",
    "  # 取得憑證、認證、建立 Google 雲端硬碟 API 服務物件\n",
    "  credentials = get_credentials()\n",
    "  http = credentials.authorize(httplib2.Http())\n",
    "  service = discovery.build('drive', 'v3', http=http)\n",
    "\n",
    "  # 包含文字內容的圖片檔案（png、jpg、bmp、gif、pdf）\n",
    "  imgfile = 'sample.jpg'\n",
    "\n",
    "  # 輸出辨識結果的文字檔案\n",
    "  txtfile = 'output.txt'\n",
    "\n",
    "  # 上傳成 Google 文件檔，讓 Google 雲端硬碟自動辨識文字\n",
    "  mime = 'application/vnd.google-apps.document'\n",
    "  res = service.files().create(\n",
    "    body={\n",
    "      'name': imgfile,\n",
    "      'mimeType': mime\n",
    "    },\n",
    "    media_body=MediaFileUpload(imgfile, mimetype=mime, resumable=True)\n",
    "  ).execute()\n",
    "\n",
    "  # 下載辨識結果，儲存為文字檔案\n",
    "  downloader = MediaIoBaseDownload(\n",
    "    io.FileIO(txtfile, 'wb'),\n",
    "    service.files().export_media(fileId=res['id'], mimeType=\"text/plain\")\n",
    "  )\n",
    "  done = False\n",
    "  while done is False:\n",
    "    status, done = downloader.next_chunk()\n",
    "\n",
    "  # 刪除剛剛上傳的 Google 文件檔案\n",
    "  service.files().delete(fileId=res['id']).execute()\n",
    "\n",
    "if __name__ == '__main__':\n",
    "  main()"
   ]
  },
  {
   "cell_type": "markdown",
   "metadata": {},
   "source": [
    "## [使用Python上傳資料到Google試算表](https://sites.google.com/site/zsgititit/home/python-cheng-shi-she-ji/shi-yongpython-shang-chuan-zi-liao-daogoogle-shi-suan-biao)"
   ]
  },
  {
   "cell_type": "code",
   "execution_count": 10,
   "metadata": {},
   "outputs": [
    {
     "name": "stdout",
     "output_type": "stream",
     "text": [
      "將資料記錄在試算表 UploadByPython 每 60 秒\n",
      "按下 Ctrl-C中斷執行\n",
      "無法連線Google試算表  ('Unexpected credentials type', None, 'Expected', 'service_account')\n"
     ]
    },
    {
     "ename": "SystemExit",
     "evalue": "1",
     "output_type": "error",
     "traceback": [
      "An exception has occurred, use %tb to see the full traceback.\n",
      "\u001b[1;31mSystemExit\u001b[0m\u001b[1;31m:\u001b[0m 1\n"
     ]
    },
    {
     "name": "stderr",
     "output_type": "stream",
     "text": [
      "C:\\Users\\jiangsir\\Anaconda3\\lib\\site-packages\\IPython\\core\\interactiveshell.py:2971: UserWarning: To exit: use 'exit', 'quit', or Ctrl-D.\n",
      "  warn(\"To exit: use 'exit', 'quit', or Ctrl-D.\", stacklevel=1)\n"
     ]
    }
   ],
   "source": [
    "import sys\n",
    "import time\n",
    "import datetime\n",
    "import gspread\n",
    "from oauth2client.service_account import ServiceAccountCredentials as SAC\n",
    "GDriveJSON = 'client_id.json'\n",
    "GSpreadSheet = 'UploadByPython'\n",
    "WaitSecond = 60\n",
    "print('將資料記錄在試算表' ,GSpreadSheet , '每' ,WaitSecond ,'秒')\n",
    "print('按下 Ctrl-C中斷執行')\n",
    "count = 1\n",
    "while True:\n",
    "    try:\n",
    "        scope = ['https://spreadsheets.google.com/feeds']\n",
    "        key = SAC.from_json_keyfile_name(GDriveJSON, scope)\n",
    "        gc = gspread.authorize(key)\n",
    "        worksheet = gc.open(GSpreadSheet).sheet1\n",
    "    except Exception as ex:\n",
    "        print('無法連線Google試算表 ', ex)\n",
    "        sys.exit(1)\n",
    "    worksheet.append_row((datetime.datetime.now(), count))\n",
    "    count = count+1\n",
    "    print('新增一列資料到試算表' ,GSpreadSheet)\n",
    "    time.sleep(WaitSecond)"
   ]
  }
 ],
 "metadata": {
  "kernelspec": {
   "display_name": "Python 3",
   "language": "python",
   "name": "python3"
  },
  "language_info": {
   "codemirror_mode": {
    "name": "ipython",
    "version": 3
   },
   "file_extension": ".py",
   "mimetype": "text/x-python",
   "name": "python",
   "nbconvert_exporter": "python",
   "pygments_lexer": "ipython3",
   "version": "3.6.5"
  }
 },
 "nbformat": 4,
 "nbformat_minor": 2
}

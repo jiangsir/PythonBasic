{
 "cells": [
  {
   "cell_type": "markdown",
   "metadata": {},
   "source": [
    "Python subprocess模块\n",
    " Comment\n",
    "A+\n",
    "Categories：Python\n",
    "从Python 2.4开始，Python引入subprocess模块来管理子进程，以取代一些旧模块的方法：如 os.system、os.spawn*、os.popen*、popen2.*、commands.*不但可以调用外部的命令作为子进程，而且可以连接到子进程的input/output/error管道，获取相关的返回信息。\n",
    "\n",
    "subprocess以及常用的封装函数\n",
    "运行python的时候，我们都是在创建并运行一个进程。像Linux进程那样，一个进程可以fork一个子进程，并让这个子进程exec另外一个程序。在Python中，我们通过标准库中的subprocess包来fork一个子进程，并运行一个外部的程序。\n",
    "\n",
    "subprocess包中定义有数个创建子进程的函数，这些函数分别以不同的方式创建子进程，所以我们可以根据需要来从中选取一个使用。另外subprocess还提供了一些管理标准流(standard stream)和管道(pipe)的工具，从而在进程间使用文本通信。\n",
    "\n",
    "subprocess.call()\n",
    "\n",
    "父进程等待子进程完成\n",
    "\n",
    "返回退出信息(returncode，相当于Linux exit code)\n",
    "\n",
    "subprocess.check_call()\n",
    "\n",
    "父进程等待子进程完成\n",
    "\n",
    "返回0\n",
    "\n",
    "检查退出信息，如果returncode不为0，则举出错误subprocess.CalledProcessError，该对象包含有returncode属性，可用try...except...来检查\n",
    "\n",
    "subprocess.check_output()\n",
    "\n",
    "父进程等待子进程完成\n",
    "\n",
    "返回子进程向标准输出的输出结果\n",
    "\n",
    "检查退出信息，如果returncode不为0，则举出错误subprocess.CalledProcessError，该对象包含有returncode属性和output属性，output属性为标准输出的输出结果，可用try...except...来检查。\n",
    "\n",
    "这三个函数的使用方法相类似，下面来以subprocess.call()举例说明:\n",
    "\n",
    ">>> import subprocess\n",
    ">>> retcode = subprocess.call([\"ls\", \"-l\"])\n",
    "#和shell中命令ls -a显示结果一样\n",
    ">>> print retcode\n",
    "0\n",
    "将程序名(ls)和所带的参数(-l)一起放在一个表中传递给subprocess.call()\n",
    "\n",
    "shell默认为False，在Linux下，shell=False时, Popen调用os.execvp()执行args指定的程序；shell=True时，如果args是字符串，Popen直接调用系统的Shell来执行args指定的程序，如果args是一个序列，则args的第一项是定义程序命令字符串，其它项是调用系统Shell时的附加参数。\n",
    "\n",
    "上面例子也可以写成如下：\n",
    "\n",
    ">>> retcode = subprocess.call(\"ls -l\",shell=True)\n",
    "在Windows下，不论shell的值如何，Popen调用CreateProcess()执行args指定的外部程序。如果args是一个序列，则先用list2cmdline()转化为字符串，但需要注意的是，并不是MS Windows下所有的程序都可以用list2cmdline来转化为命令行字符串。"
   ]
  },
  {
   "cell_type": "code",
   "execution_count": null,
   "metadata": {},
   "outputs": [],
   "source": []
  }
 ],
 "metadata": {
  "kernelspec": {
   "display_name": "Python 3",
   "language": "python",
   "name": "python3"
  },
  "language_info": {
   "codemirror_mode": {
    "name": "ipython",
    "version": 3
   },
   "file_extension": ".py",
   "mimetype": "text/x-python",
   "name": "python",
   "nbconvert_exporter": "python",
   "pygments_lexer": "ipython3",
   "version": "3.6.5"
  }
 },
 "nbformat": 4,
 "nbformat_minor": 2
}

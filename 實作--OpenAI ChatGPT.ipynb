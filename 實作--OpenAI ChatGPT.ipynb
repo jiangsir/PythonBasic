{
 "cells": [
  {
   "cell_type": "code",
   "execution_count": 7,
   "metadata": {},
   "outputs": [
    {
     "name": "stdout",
     "output_type": "stream",
     "text": [
      "1. Dictionary：在今天的教育環境裡，詞典是學習的必備工具。 中文：字典 \n",
      "2. Indict: 他已經被證實犯有詐欺罪，因此被起訴。 中文：起訴\n",
      "3. Benediction: 我們在宗教儀式上聽到了一個祝福的話語。 中文：祝福\n",
      "4. Dictation: 老師要學生從書裡朗讀出來，所以分配了一個口頭測驗。 中文：朗讀\n",
      "5. Prediction: 預測未來將是一件難事。 中文：預測\n",
      "6. Contradict: 他們之間互相矛盾，他們的觀點無法被合理化。 中文：矛盾\n",
      "7. Malediction: 他發出邪惡的咒詛，發出痛恨的心情。 中文：詛咒\n",
      "8. Interdict: 國家或統治者於某行動時對其他人可能執行的行動作出禁止令。 中文：禁止\n",
      "9. Subjection: 普普通通人得在政治或社會上服從於某個權威官方。 中文：服從\n",
      "10. Diction: 他用非常得體的話語表達自己的想法。 中文：表達\n"
     ]
    }
   ],
   "source": [
    "import requests, ignore\n",
    "api_key = ignore.openai_apikey\n",
    "headers = {\"Authorization\": \"Bearer \" + api_key}\n",
    "#url = \"https://api.openai.com/v1/engines/davinci/completions\"\n",
    "url = \"https://api.openai.com/v1/completions\"\n",
    "\n",
    "Q = input(\"發問:\")\n",
    "data = {\n",
    "    'prompt': Q,\n",
    "    'max_tokens': 2048,\n",
    "    'temperature': 0.9,\n",
    "    'top_p': 1,\n",
    "    'frequency_penalty': 0,\n",
    "    'presence_penalty': 0,\n",
    "    'model': 'text-davinci-003'\n",
    "}\n",
    "response = requests.post(url, headers=headers, json=data)\n",
    "datas = response.json()\n",
    "print(datas[\"choices\"][0][\"text\"].strip())\n"
   ]
  },
  {
   "cell_type": "code",
   "execution_count": null,
   "metadata": {},
   "outputs": [],
   "source": []
  }
 ],
 "metadata": {
  "kernelspec": {
   "display_name": "base",
   "language": "python",
   "name": "python3"
  },
  "language_info": {
   "codemirror_mode": {
    "name": "ipython",
    "version": 3
   },
   "file_extension": ".py",
   "mimetype": "text/x-python",
   "name": "python",
   "nbconvert_exporter": "python",
   "pygments_lexer": "ipython3",
   "version": "3.9.5"
  },
  "orig_nbformat": 4
 },
 "nbformat": 4,
 "nbformat_minor": 2
}

{
 "cells": [
  {
   "cell_type": "markdown",
   "metadata": {},
   "source": [
    "# 除錯 (Debug)\n",
    "\n",
    "* print 大法\n",
    "* 用 IDLE 除錯\n",
    "* 用 vscode 除錯"
   ]
  },
  {
   "cell_type": "markdown",
   "metadata": {},
   "source": [
    "### 直接在想要觀察變數值的地方 print 這些變數以便觀察。最簡單直覺。但有點不方便。"
   ]
  },
  {
   "cell_type": "markdown",
   "metadata": {},
   "source": [
    "## 用 IDLE 除錯\n",
    "\n",
    "![](https://github.com/jiangsir/Images/raw/master/debugger_idle1.PNG)\n",
    "![](https://github.com/jiangsir/Images/raw/master/debugger_idle2.PNG)"
   ]
  },
  {
   "cell_type": "markdown",
   "metadata": {},
   "source": [
    "## 用 vscode 除錯"
   ]
  },
  {
   "cell_type": "markdown",
   "metadata": {},
   "source": [
    "### 按 F5 開始除錯  \n",
    "\n",
    "![](https://github.com/jiangsir/Images/raw/master/debugger_vscode1.png)\n"
   ]
  },
  {
   "cell_type": "code",
   "execution_count": null,
   "metadata": {},
   "outputs": [],
   "source": []
  }
 ],
 "metadata": {
  "language_info": {
   "name": "python",
   "codemirror_mode": {
    "name": "ipython",
    "version": 3
   },
   "version": "3.8.0-final"
  },
  "orig_nbformat": 2,
  "file_extension": ".py",
  "mimetype": "text/x-python",
  "name": "python",
  "npconvert_exporter": "python",
  "pygments_lexer": "ipython3",
  "version": 3,
  "kernelspec": {
   "name": "python38032bitd7b2e921f56d4b579e6ee8c89afd3de9",
   "display_name": "Python 3.8.0 32-bit"
  }
 },
 "nbformat": 4,
 "nbformat_minor": 2
}
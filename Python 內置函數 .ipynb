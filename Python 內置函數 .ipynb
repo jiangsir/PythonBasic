{
 "cells": [
  {
   "cell_type": "markdown",
   "metadata": {},
   "source": [
    "## map, filter, reduce, lambda\n"
   ]
  },
  {
   "cell_type": "markdown",
   "metadata": {},
   "source": [
    "## enmurator\n"
   ]
  },
  {
   "cell_type": "markdown",
   "metadata": {},
   "source": [
    "## 內置函數\n",
    "\n",
    "參考網址: \n",
    "http://www.cnblogs.com/sesshoumaru/p/6140987.html\n",
    "\n",
    "<pre>\n",
    "数学运算(7个)\n",
    "    类型转换(24个)\n",
    "    序列操作(8个)\n",
    "    对象操作(7个)\n",
    "    反射操作(8个)\n",
    "    变量操作(2个)\n",
    "    交互操作(2个)\n",
    "    文件操作(1个)\n",
    "    编译执行(4个)\n",
    "    装饰器(3个)\n",
    "    \n",
    "</pre>"
   ]
  },
  {
   "cell_type": "markdown",
   "metadata": {},
   "source": [
    "all：判断可迭代对象的每个元素是否都为True值"
   ]
  },
  {
   "cell_type": "code",
   "execution_count": null,
   "metadata": {},
   "outputs": [],
   "source": [
    ">>> all([1,2]) #列表中每个元素逻辑值均为True，返回True\n",
    "True\n",
    ">>> all([0,1,2]) #列表中0的逻辑值为False，返回False\n",
    "False\n",
    ">>> all(()) #空元组\n",
    "True\n",
    ">>> all({}) #空字典\n",
    "True"
   ]
  },
  {
   "cell_type": "markdown",
   "metadata": {},
   "source": [
    "any：判断可迭代对象的元素是否有为True值的元素"
   ]
  },
  {
   "cell_type": "code",
   "execution_count": null,
   "metadata": {},
   "outputs": [],
   "source": [
    ">>> any([0,1,2]) #列表元素有一个为True，则返回True\n",
    "True\n",
    ">>> any([0,0]) #列表元素全部为False，则返回False\n",
    "False\n",
    ">>> any([]) #空列表\n",
    "False\n",
    ">>> any({}) #空字典\n",
    "False"
   ]
  },
  {
   "cell_type": "markdown",
   "metadata": {},
   "source": [
    "filter：使用指定方法过滤可迭代对象的元素"
   ]
  },
  {
   "cell_type": "code",
   "execution_count": null,
   "metadata": {},
   "outputs": [],
   "source": [
    ">>> a = list(range(1,10)) #定义序列\n",
    ">>> a\n",
    "[1, 2, 3, 4, 5, 6, 7, 8, 9]\n",
    ">>> def if_odd(x): #定义奇数判断函数\n",
    "    return x%2==1\n",
    "\n",
    ">>> list(filter(if_odd,a)) #筛选序列中的奇数\n",
    "[1, 3, 5, 7, 9]"
   ]
  },
  {
   "cell_type": "markdown",
   "metadata": {},
   "source": [
    "map：使用指定方法去作用传入的每个可迭代对象的元素，生成新的可迭代对象"
   ]
  },
  {
   "cell_type": "code",
   "execution_count": null,
   "metadata": {},
   "outputs": [],
   "source": [
    ">>> a = map(ord,'abcd')\n",
    ">>> a\n",
    "<map object at 0x03994E50>\n",
    ">>> list(a)\n",
    "[97, 98, 99, 100]"
   ]
  },
  {
   "cell_type": "markdown",
   "metadata": {},
   "source": [
    "next：返回可迭代对象中的下一个元素值"
   ]
  },
  {
   "cell_type": "code",
   "execution_count": null,
   "metadata": {},
   "outputs": [],
   "source": [
    ">>> a = iter('abcd')\n",
    ">>> next(a)\n",
    "'a'\n",
    ">>> next(a)\n",
    "'b'\n",
    ">>> next(a)\n",
    "'c'\n",
    ">>> next(a)\n",
    "'d'\n",
    ">>> next(a)\n",
    "Traceback (most recent call last):\n",
    "  File \"<pyshell#18>\", line 1, in <module>\n",
    "    next(a)\n",
    "StopIteration\n",
    "\n",
    "#传入default参数后，如果可迭代对象还有元素没有返回，则依次返回其元素值，如果所有元素已经返回，则返回default指定的默认值而不抛出StopIteration 异常\n",
    ">>> next(a,'e')\n",
    "'e'\n",
    ">>> next(a,'e')\n",
    "'e'"
   ]
  },
  {
   "cell_type": "markdown",
   "metadata": {},
   "source": [
    "reversed：反转序列生成新的可迭代对象"
   ]
  },
  {
   "cell_type": "code",
   "execution_count": null,
   "metadata": {},
   "outputs": [],
   "source": [
    ">>> a = reversed(range(10)) # 传入range对象\n",
    ">>> a # 类型变成迭代器\n",
    "<range_iterator object at 0x035634E8>\n",
    ">>> list(a)\n",
    "[9, 8, 7, 6, 5, 4, 3, 2, 1, 0]"
   ]
  },
  {
   "cell_type": "markdown",
   "metadata": {},
   "source": [
    "sorted：对可迭代对象进行排序，返回一个新的列表"
   ]
  },
  {
   "cell_type": "code",
   "execution_count": null,
   "metadata": {},
   "outputs": [],
   "source": [
    ">>> a = ['a','b','d','c','B','A']\n",
    ">>> a\n",
    "['a', 'b', 'd', 'c', 'B', 'A']\n",
    "\n",
    ">>> sorted(a) # 默认按字符ascii码排序\n",
    "['A', 'B', 'a', 'b', 'c', 'd']\n",
    "\n",
    ">>> sorted(a,key = str.lower) # 转换成小写后再排序，'a'和'A'值一样，'b'和'B'值一样\n",
    "['a', 'A', 'b', 'B', 'c', 'd']"
   ]
  },
  {
   "cell_type": "markdown",
   "metadata": {},
   "source": [
    "zip：聚合传入的每个迭代器中相同位置的元素，返回一个新的元组类型迭代器"
   ]
  },
  {
   "cell_type": "code",
   "execution_count": null,
   "metadata": {},
   "outputs": [],
   "source": [
    ">>> x = [1,2,3] #长度3\n",
    ">>> y = [4,5,6,7,8] #长度5\n",
    ">>> list(zip(x,y)) # 取最小长度3\n",
    "[(1, 4), (2, 5), (3, 6)]"
   ]
  }
 ],
 "metadata": {
  "kernelspec": {
   "display_name": "Python 3",
   "language": "python",
   "name": "python3"
  },
  "language_info": {
   "codemirror_mode": {
    "name": "ipython",
    "version": 3
   },
   "file_extension": ".py",
   "mimetype": "text/x-python",
   "name": "python",
   "nbconvert_exporter": "python",
   "pygments_lexer": "ipython3",
   "version": "3.6.5"
  }
 },
 "nbformat": 4,
 "nbformat_minor": 2
}

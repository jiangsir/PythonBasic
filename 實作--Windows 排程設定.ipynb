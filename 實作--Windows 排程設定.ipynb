{
 "cells": [
  {
   "cell_type": "markdown",
   "metadata": {},
   "source": [
    "## 利用 Windows 排程設定來定時執行\n",
    "\n",
    "\n",
    "![](images/win_crontab1.PNG)\n",
    "![](images/win_crontab2.PNG)\n",
    "![](images/win_crontab3.PNG)\n",
    "\n",
    "起始位置: 在命令提示字元當中下 where python 指令來尋找 python 絕對路徑。"
   ]
  },
  {
   "cell_type": "markdown",
   "metadata": {},
   "source": []
  }
 ],
 "metadata": {
  "kernelspec": {
   "display_name": "Python 3",
   "language": "python",
   "name": "python3"
  },
  "language_info": {
   "codemirror_mode": {
    "name": "ipython",
    "version": 3
   },
   "file_extension": ".py",
   "mimetype": "text/x-python",
   "name": "python",
   "nbconvert_exporter": "python",
   "pygments_lexer": "ipython3",
   "version": "3.6.5"
  }
 },
 "nbformat": 4,
 "nbformat_minor": 2
}

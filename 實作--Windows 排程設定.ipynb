{
 "cells": [
  {
   "cell_type": "markdown",
   "metadata": {},
   "source": [
    "# 在 windows 系統上定時執行共可以有兩種方法:\n",
    "* 利用 windows 排程設定\n",
    "* 利用 win10 的 wsl Linux 子系統內的 crontab"
   ]
  },
  {
   "cell_type": "markdown",
   "metadata": {},
   "source": [
    "## 利用 Windows 排程設定來定時執行\n",
    "\n",
    "![](https://github.com/jiangsir/Images/raw/master/win_crontab1.PNG)\n",
    "![](https://github.com/jiangsir/Images/raw/master/win_crontab2.PNG)\n",
    "![](https://github.com/jiangsir/Images/raw/master/win_crontab3.PNG)\n",
    "\n",
    "在起始位置: 在命令提示字元當中下 where python 指令來尋找 python 絕對路徑。"
   ]
  },
  {
   "cell_type": "markdown",
   "metadata": {},
   "source": [
    "## 利用 win10 的 Linux Subsystem (WSL)\n",
    "\n",
    "1. 首先須先確定您的 win10 系統是否有安裝 Linux Subsystem?\n",
    "\n",
    "1. 設定開機啟動 crontab 服務\n",
    "    在 \"啟動\" 資料夾內新增一個捷徑。  \n",
    "    指令: C:\\Windows\\System32\\wsl.exe sudo /etc/init.d/cron start  \n",
    "    ![](https://github.com/jiangsir/Images/raw/master/cron_start.PNG)  \n",
    "    ![](https://github.com/jiangsir/Images/raw/master/startup.PNG)  \n",
    "\n",
    "2. 設定為免密碼執行  \n",
    "    sudo visudo  \n",
    "    加入: %sudo ALL=NOPASSWD: /etc/init.d/cron start  \n",
    "    加入: useraccount ALL=(ALL:ALL) ALL\n",
    "3. 設定 crontab  \n",
    "    crontab -e  \n",
    "    設定定時執行指令。\n"
   ]
  },
  {
   "cell_type": "code",
   "execution_count": null,
   "metadata": {},
   "outputs": [],
   "source": []
  }
 ],
 "metadata": {
  "kernelspec": {
   "display_name": "Python 3",
   "language": "python",
   "name": "python3"
  },
  "language_info": {
   "codemirror_mode": {
    "name": "ipython",
    "version": 3
   },
   "file_extension": ".py",
   "mimetype": "text/x-python",
   "name": "python",
   "nbconvert_exporter": "python",
   "pygments_lexer": "ipython3",
   "version": "3.6.5-final"
  }
 },
 "nbformat": 4,
 "nbformat_minor": 2
}
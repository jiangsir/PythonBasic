{
 "cells": [
  {
   "cell_type": "markdown",
   "metadata": {},
   "source": [
    "## Line Notify\n",
    "\n",
    "### 到設定網址  https://notify-bot.line.me/zh_TW/  進行登入\n",
    "\n",
    "![1](images/line1.jpg)\n",
    "![2](images/line2.jpg)\n",
    "![3](images/line3.jpg)\n",
    "\n",
    "\n",
    "\n",
    "最後獲得一個 token\n",
    "        \n",
    "        token: ukXxSRM1TIZd9hRx1CGSVAjOoJhqA6VtXrhtSp09LHL"
   ]
  },
  {
   "cell_type": "code",
   "execution_count": null,
   "metadata": {},
   "outputs": [],
   "source": [
    "!pip install requests\n",
    "\n",
    "# 使用 IDLE 的同學，請在電腦的\"命令提示字元\" 執行 cmd 也可以\n",
    "\n",
    "#執行 \"pip install requests\"\n"
   ]
  },
  {
   "cell_type": "markdown",
   "metadata": {},
   "source": [
    "# 傳 LINE 訊息"
   ]
  },
  {
   "cell_type": "code",
   "execution_count": 1,
   "metadata": {},
   "outputs": [
    {
     "name": "stdout",
     "output_type": "stream",
     "text": [
      "<Response [200]>\n"
     ]
    }
   ],
   "source": [
    "import requests\n",
    "\n",
    "token = 'ukXxSRM1TIZd9hRx1CGSVAjOoJhqA6VtXrhtSp09LHL' # LINE 個人\n",
    "url = \"https://notify-api.line.me/api/notify\"\n",
    "headers = {\n",
    "    \"Authorization\": \"Bearer \" + token, \n",
    "    \"Content-Type\" : \"application/x-www-form-urlencoded\"\n",
    "}\n",
    "msg = 'kkkkkkkkhkhjguihj'\n",
    "payload = {'message': msg}\n",
    "r = requests.post(url, headers = headers, params = payload)\n",
    "print(r)"
   ]
  },
  {
   "cell_type": "markdown",
   "metadata": {},
   "source": [
    "# 報時"
   ]
  },
  {
   "cell_type": "code",
   "execution_count": null,
   "metadata": {},
   "outputs": [],
   "source": [
    "import requests, time\n",
    "\n",
    "token = 'ukXxSRM1TIZd9hRx1CGSVAjOoJhqA6VtXrhtSp09LHL' # LINE 個人\n",
    "\n",
    "url = \"https://notify-api.line.me/api/notify\"\n",
    "headers = {\n",
    "    \"Authorization\": \"Bearer \" + token, \n",
    "    \"Content-Type\" : \"application/x-www-form-urlencoded\"\n",
    "}\n",
    "\n",
    "while True:\n",
    "    msg = '自動報時: ' + time.strftime(\"%Y-%m-%d %H:%M:%S\", time.localtime())\n",
    "    payload = {'message': msg}\n",
    "    r = requests.post(url, headers = headers, params = payload)\n",
    "    print(msg, r)\n",
    "    time.sleep(60*60) # 每隔 1 小時傳送一次"
   ]
  },
  {
   "cell_type": "markdown",
   "metadata": {},
   "source": [
    "## 表情符號\n",
    "\n",
    "表情符號編號參考文件:  \n",
    "https://devdocs.line.me/files/sticker_list.pdf"
   ]
  },
  {
   "cell_type": "code",
   "execution_count": 2,
   "metadata": {},
   "outputs": [
    {
     "name": "stdout",
     "output_type": "stream",
     "text": [
      "實驗表情符號(1, 1) <Response [200]>\n",
      "實驗表情符號(1, 2) <Response [200]>\n",
      "實驗表情符號(1, 3) <Response [200]>\n",
      "實驗表情符號(1, 4) <Response [200]>\n",
      "實驗表情符號(1, 5) <Response [200]>\n",
      "實驗表情符號(1, 6) <Response [200]>\n",
      "實驗表情符號(1, 7) <Response [200]>\n",
      "實驗表情符號(1, 8) <Response [200]>\n",
      "實驗表情符號(1, 9) <Response [200]>\n",
      "實驗表情符號(1, 10) <Response [200]>\n",
      "實驗表情符號(1, 11) <Response [200]>\n",
      "實驗表情符號(1, 12) <Response [200]>\n",
      "實驗表情符號(1, 13) <Response [200]>\n",
      "實驗表情符號(1, 14) <Response [200]>\n",
      "實驗表情符號(1, 15) <Response [200]>\n",
      "實驗表情符號(1, 16) <Response [200]>\n",
      "實驗表情符號(1, 17) <Response [200]>\n",
      "實驗表情符號(1, 18) <Response [400]>\n",
      "實驗表情符號(1, 19) <Response [400]>\n",
      "實驗表情符號(1, 20) <Response [400]>\n",
      "實驗表情符號(1, 21) <Response [200]>\n",
      "實驗表情符號(1, 22) <Response [400]>\n",
      "實驗表情符號(1, 23) <Response [400]>\n",
      "實驗表情符號(1, 24) <Response [400]>\n",
      "實驗表情符號(1, 25) <Response [400]>\n",
      "實驗表情符號(1, 26) <Response [400]>\n",
      "實驗表情符號(1, 27) <Response [400]>\n",
      "實驗表情符號(1, 28) <Response [400]>\n",
      "實驗表情符號(1, 29) <Response [400]>\n",
      "實驗表情符號(1, 30) <Response [400]>\n",
      "實驗表情符號(1, 31) <Response [400]>\n",
      "實驗表情符號(1, 32) <Response [400]>\n",
      "實驗表情符號(1, 33) <Response [400]>\n",
      "實驗表情符號(1, 34) <Response [400]>\n",
      "實驗表情符號(1, 35) <Response [400]>\n",
      "實驗表情符號(1, 36) <Response [400]>\n",
      "實驗表情符號(1, 37) <Response [400]>\n",
      "實驗表情符號(1, 38) <Response [400]>\n",
      "實驗表情符號(1, 39) <Response [400]>\n",
      "實驗表情符號(1, 40) <Response [400]>\n",
      "實驗表情符號(1, 41) <Response [400]>\n",
      "實驗表情符號(1, 42) <Response [400]>\n",
      "實驗表情符號(1, 43) <Response [400]>\n",
      "實驗表情符號(1, 44) <Response [400]>\n",
      "實驗表情符號(1, 45) <Response [400]>\n",
      "實驗表情符號(1, 46) <Response [400]>\n",
      "實驗表情符號(1, 47) <Response [400]>\n",
      "實驗表情符號(1, 48) <Response [400]>\n",
      "實驗表情符號(1, 49) <Response [400]>\n",
      "實驗表情符號(1, 50) <Response [400]>\n",
      "實驗表情符號(1, 51) <Response [400]>\n",
      "實驗表情符號(1, 52) <Response [400]>\n",
      "實驗表情符號(1, 53) <Response [400]>\n",
      "實驗表情符號(1, 54) <Response [400]>\n",
      "實驗表情符號(1, 55) <Response [400]>\n",
      "實驗表情符號(1, 56) <Response [400]>\n",
      "實驗表情符號(1, 57) <Response [400]>\n",
      "實驗表情符號(1, 58) <Response [400]>\n",
      "實驗表情符號(1, 59) <Response [400]>\n",
      "實驗表情符號(1, 60) <Response [400]>\n",
      "實驗表情符號(1, 61) <Response [400]>\n",
      "實驗表情符號(1, 62) <Response [400]>\n",
      "實驗表情符號(1, 63) <Response [400]>\n",
      "實驗表情符號(1, 64) <Response [400]>\n",
      "實驗表情符號(1, 65) <Response [400]>\n",
      "實驗表情符號(1, 66) <Response [400]>\n",
      "實驗表情符號(1, 67) <Response [400]>\n",
      "實驗表情符號(1, 68) <Response [400]>\n",
      "實驗表情符號(1, 69) <Response [400]>\n",
      "實驗表情符號(1, 70) <Response [400]>\n",
      "實驗表情符號(1, 71) <Response [400]>\n",
      "實驗表情符號(1, 72) <Response [400]>\n",
      "實驗表情符號(1, 73) <Response [400]>\n",
      "實驗表情符號(1, 74) <Response [400]>\n",
      "實驗表情符號(1, 75) <Response [400]>\n",
      "實驗表情符號(1, 76) <Response [400]>\n",
      "實驗表情符號(1, 77) <Response [400]>\n",
      "實驗表情符號(1, 78) <Response [400]>\n",
      "實驗表情符號(1, 79) <Response [400]>\n",
      "實驗表情符號(1, 80) <Response [400]>\n",
      "實驗表情符號(1, 81) <Response [400]>\n",
      "實驗表情符號(1, 82) <Response [400]>\n",
      "實驗表情符號(1, 83) <Response [400]>\n",
      "實驗表情符號(1, 84) <Response [400]>\n",
      "實驗表情符號(1, 85) <Response [400]>\n",
      "實驗表情符號(1, 86) <Response [400]>\n",
      "實驗表情符號(1, 87) <Response [400]>\n",
      "實驗表情符號(1, 88) <Response [400]>\n",
      "實驗表情符號(1, 89) <Response [400]>\n",
      "實驗表情符號(1, 90) <Response [400]>\n",
      "實驗表情符號(1, 91) <Response [400]>\n",
      "實驗表情符號(1, 92) <Response [400]>\n",
      "實驗表情符號(1, 93) <Response [400]>\n",
      "實驗表情符號(1, 94) <Response [400]>\n",
      "實驗表情符號(1, 95) <Response [400]>\n",
      "實驗表情符號(1, 96) <Response [400]>\n",
      "實驗表情符號(1, 97) <Response [400]>\n",
      "實驗表情符號(1, 98) <Response [400]>\n",
      "實驗表情符號(1, 99) <Response [400]>\n",
      "實驗表情符號(1, 100) <Response [200]>\n",
      "實驗表情符號(1, 101) <Response [200]>\n",
      "實驗表情符號(1, 102) <Response [200]>\n",
      "實驗表情符號(1, 103) <Response [200]>\n",
      "實驗表情符號(1, 104) <Response [200]>\n",
      "實驗表情符號(1, 105) <Response [200]>\n",
      "實驗表情符號(1, 106) <Response [200]>\n",
      "實驗表情符號(1, 107) <Response [200]>\n",
      "實驗表情符號(1, 108) <Response [200]>\n",
      "實驗表情符號(1, 109) <Response [200]>\n",
      "實驗表情符號(1, 110) <Response [200]>\n",
      "實驗表情符號(1, 111) <Response [200]>\n",
      "實驗表情符號(1, 112) <Response [200]>\n",
      "實驗表情符號(1, 113) <Response [200]>\n",
      "實驗表情符號(1, 114) <Response [200]>\n",
      "實驗表情符號(1, 115) <Response [200]>\n",
      "實驗表情符號(1, 116) <Response [200]>\n",
      "實驗表情符號(1, 117) <Response [200]>\n",
      "實驗表情符號(1, 118) <Response [200]>\n",
      "實驗表情符號(1, 119) <Response [200]>\n"
     ]
    }
   ],
   "source": [
    "import requests\n",
    "\n",
    "token = 'ukXxSRM1TIZd9hRx1CGSVAjOoJhqA6VtXrhtSp09LHL'\n",
    "\n",
    "url = \"https://notify-api.line.me/api/notify\"\n",
    "headers = {\n",
    "    \"Authorization\": \"Bearer \" + token, \n",
    "    \"Content-Type\" : \"application/x-www-form-urlencoded\"\n",
    "}\n",
    "\n",
    "STKPKGID = 1 # STKPKGID\n",
    "STKID = 2  # STKID\n",
    "for STKID in range(1, 120):\n",
    "    msg = '實驗表情符號({}, {})'.format(STKPKGID, STKID)\n",
    "    #payload = {\"message\": msg, \"stickerPackageId\": STKPKGID, 'stickerId': STKID}\n",
    "    payload = {\"message\": msg, \"stickerPackageId\": STKPKGID, 'stickerId': STKID}\n",
    "    r = requests.post(url, headers = headers, params = payload)\n",
    "    print(msg, r)"
   ]
  },
  {
   "cell_type": "markdown",
   "metadata": {},
   "source": [
    "# 傳遞罐頭訊息"
   ]
  },
  {
   "cell_type": "code",
   "execution_count": null,
   "metadata": {},
   "outputs": [],
   "source": [
    "import requests, time\n",
    "\n",
    "token = 'ukXxSRM1TIZd9hRx1CGSVAjOoJhqA6VtXrhtSp09LHL' # LINE 個人\n",
    "url = \"https://notify-api.line.me/api/notify\"\n",
    "headers = {\n",
    "    \"Authorization\": \"Bearer \" + token, \n",
    "    \"Content-Type\" : \"application/x-www-form-urlencoded\"\n",
    "}\n",
    "\n",
    "messages = ['訊息1', '訊息2', '訊息3', '訊息4', '訊息5', '訊息6', '訊息7', '訊息8']\n",
    "for message in messages:\n",
    "    payload = {'message': message}\n",
    "    r = requests.post(url, headers = headers, params = payload)\n",
    "    print(message, r)\n",
    "    time.sleep(5) # 每間隔 5 秒送一個訊息"
   ]
  },
  {
   "cell_type": "markdown",
   "metadata": {},
   "source": [
    "# 從檔案讀取訊息"
   ]
  },
  {
   "cell_type": "code",
   "execution_count": null,
   "metadata": {},
   "outputs": [],
   "source": [
    "import requests\n",
    "\n",
    "token = 'ukXxSRM1TIZd9hRx1CGSVAjOoJhqA6VtXrhtSp09LHL' # LINE 個人\n",
    "url = \"https://notify-api.line.me/api/notify\"\n",
    "headers = {\n",
    "    \"Authorization\": \"Bearer \" + token, \n",
    "    \"Content-Type\" : \"application/x-www-form-urlencoded\"\n",
    "}\n",
    "\n",
    "with open(\"data\\\\檔案訊息.txt\", encoding=\"UTF-8\") as fp:\n",
    "    for message in fp.readlines():\n",
    "        payload = {'message': message.strip()}\n",
    "        r = requests.post(url, headers = headers, params = payload)\n",
    "        print(message, r)\n"
   ]
  },
  {
   "cell_type": "markdown",
   "metadata": {},
   "source": [
    "# 傳遞圖片"
   ]
  },
  {
   "cell_type": "code",
   "execution_count": null,
   "metadata": {},
   "outputs": [],
   "source": [
    "import requests\n",
    "def SendMessageToLineNotify(message, picurl):\n",
    "    Token = \"ukXxSRM1TIZd9hRx1CGSVAjOoJhqA6VtXrhtSp09LHL\"\n",
    "    url = \"https://notify-api.line.me/api/notify\"    \n",
    "    payload = {'message':message,\n",
    "               'imageThumbnail':picurl,\n",
    "               'imageFullsize':picurl,\n",
    "               #'stickerPackageId':1,\n",
    "               #'stickerId':106\n",
    "              }\n",
    "    header = {'Content-Type':'application/x-www-form-urlencoded',\n",
    "              'Authorization':'Bearer ' + Token\n",
    "             }\n",
    "    resp=requests.post(url, headers=header, data=payload)\n",
    "    print(resp.text)\n",
    "\n",
    "message = '圖片'\n",
    "picurl = 'https://stickershop.line-scdn.net/stickershop/v1/product/3577116/LINEStorePC/main.png'\n",
    "SendMessageToLineNotify(message, picurl)"
   ]
  }
 ],
 "metadata": {
  "kernelspec": {
   "display_name": "Python 3",
   "language": "python",
   "name": "python3"
  },
  "language_info": {
   "codemirror_mode": {
    "name": "ipython",
    "version": 3
   },
   "file_extension": ".py",
   "mimetype": "text/x-python",
   "name": "python",
   "nbconvert_exporter": "python",
   "pygments_lexer": "ipython3",
   "version": "3.6.5"
  }
 },
 "nbformat": 4,
 "nbformat_minor": 2
}

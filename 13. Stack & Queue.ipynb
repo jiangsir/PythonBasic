{
 "cells": [
  {
   "cell_type": "markdown",
   "metadata": {},
   "source": [
    "![ss](images/stack.gif)![qq](images/queue.gif)"
   ]
  },
  {
   "cell_type": "markdown",
   "metadata": {},
   "source": [
    "# stack & queue \n",
    "\n",
    "在 python 中可以用 list or deque 來實現這兩個資料結構。"
   ]
  },
  {
   "cell_type": "markdown",
   "metadata": {},
   "source": [
    "## 用 list 實現 stack"
   ]
  },
  {
   "cell_type": "code",
   "execution_count": 1,
   "metadata": {},
   "outputs": [
    {
     "name": "stdout",
     "output_type": "stream",
     "text": [
      "[3, 4, 5, 6, 7]\n",
      "[3, 4, 5, 6]\n"
     ]
    }
   ],
   "source": [
    "stack = [3, 4, 5] \n",
    "stack.append(6) \n",
    "stack.append(7) \n",
    "print(stack) #output : [3, 4, 5, 6, 7] \n",
    "stack.pop() #output : 7 \n",
    "print(stack) #output : [3, 4, 5, 6]\n"
   ]
  },
  {
   "cell_type": "markdown",
   "metadata": {},
   "source": [
    "## 用 deque 實現 stack"
   ]
  },
  {
   "cell_type": "code",
   "execution_count": 3,
   "metadata": {},
   "outputs": [
    {
     "name": "stdout",
     "output_type": "stream",
     "text": [
      "deque([3, 4, 5, 6, 7])\n",
      "[3, 4, 5, 6]\n"
     ]
    }
   ],
   "source": [
    "from collections import deque \n",
    "stack1 = deque([3, 4, 5]) \n",
    "stack1.append(6) \n",
    "stack1.append(7) \n",
    "print(stack1) #output : deque([3, 4, 5, 6, 7]) \n",
    "stack1.pop() #output : 7 \n",
    "print(list(stack1)) #output : [3, 4, 5, 6]\n"
   ]
  },
  {
   "cell_type": "markdown",
   "metadata": {},
   "source": [
    "## 用 list 實現 queue\n",
    "\n",
    "由於 list 的資料結構的限制，對於 queue 的操作會導致效率不佳，因此應該以 deque 來實作。\n",
    "\n",
    "## 用 deque 實現 queue\n",
    "\n",
    "collections.deque是为了高效实现插入和删除操作的双向列表，适合用于队列和栈。"
   ]
  },
  {
   "cell_type": "code",
   "execution_count": 4,
   "metadata": {},
   "outputs": [
    {
     "name": "stdout",
     "output_type": "stream",
     "text": [
      "deque([3, 4, 5, 6, 7])\n",
      "[4, 5, 6, 7]\n"
     ]
    }
   ],
   "source": [
    "from collections import deque \n",
    "queue = deque([3, 4, 5]) \n",
    "queue.append(6) \n",
    "queue.append(7) \n",
    "print(queue) #output : deque([3, 4, 5, 6, 7]) \n",
    "queue.popleft() #output : 3 \n",
    "print(list(queue)) #output : [4, 5, 6, 7]\n"
   ]
  },
  {
   "cell_type": "code",
   "execution_count": null,
   "metadata": {},
   "outputs": [],
   "source": []
  }
 ],
 "metadata": {
  "kernelspec": {
   "display_name": "Python 3",
   "language": "python",
   "name": "python3"
  },
  "language_info": {
   "codemirror_mode": {
    "name": "ipython",
    "version": 3
   },
   "file_extension": ".py",
   "mimetype": "text/x-python",
   "name": "python",
   "nbconvert_exporter": "python",
   "pygments_lexer": "ipython3",
   "version": "3.6.5"
  }
 },
 "nbformat": 4,
 "nbformat_minor": 2
}

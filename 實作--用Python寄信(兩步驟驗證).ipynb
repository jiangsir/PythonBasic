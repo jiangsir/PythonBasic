{
 "cells": [
  {
   "cell_type": "markdown",
   "metadata": {},
   "source": [
    "## 要讓 Python 寄信，需先申請**應用程式密碼**\n",
    "\n",
    "## 要申請應用程式密碼，必須先開通二步驟認證。\n",
    "\n",
    "### 登入 Google 帳戶 --> Goolge 帳戶\n",
    "\n",
    "\n",
    "![GoogleLogin.PNG](images/GoogleLogin.PNG)\n",
    "\n",
    "![GoogleLogin2.PNG](images/GoogleLogin2.PNG)\n",
    "\n",
    "![GoogleLogin5.PNG](images/GoogleLogin5.PNG)\n",
    "\n",
    "\n",
    "### 自訂應用程式\n",
    "\n",
    "![GoogleLogin3.PNG](images/GoogleLogin3.PNG)\n",
    "\n",
    "![GoogleLogin4.PNG](images/GoogleLogin4.PNG)\n"
   ]
  },
  {
   "cell_type": "markdown",
   "metadata": {},
   "source": [
    "# 跟郵件伺服器打招呼"
   ]
  },
  {
   "cell_type": "code",
   "execution_count": 5,
   "metadata": {},
   "outputs": [
    {
     "data": {
      "text/plain": [
       "(451, b'4.4.2 Timeout - closing connection. q12sm68473960pfh.158 - gsmtp')"
      ]
     },
     "execution_count": 5,
     "metadata": {},
     "output_type": "execute_result"
    }
   ],
   "source": [
    "import smtplib  \n",
    "smtpssl=smtplib.SMTP_SSL(\"smtp.gmail.com\", 465) \n",
    "smtp.ehlo()"
   ]
  },
  {
   "cell_type": "markdown",
   "metadata": {},
   "source": [
    "# 嘗試用帳號密碼登入 -- 用密碼登入會失敗"
   ]
  },
  {
   "cell_type": "code",
   "execution_count": 4,
   "metadata": {},
   "outputs": [
    {
     "ename": "SMTPAuthenticationError",
     "evalue": "(535, b'5.7.8 Username and Password not accepted. Learn more at\\n5.7.8  https://support.google.com/mail/?p=BadCredentials z30sm71614044pfq.154 - gsmtp')",
     "output_type": "error",
     "traceback": [
      "\u001b[1;31m---------------------------------------------------------------------------\u001b[0m",
      "\u001b[1;31mSMTPAuthenticationError\u001b[0m                   Traceback (most recent call last)",
      "\u001b[1;32m<ipython-input-4-028811a21b98>\u001b[0m in \u001b[0;36m<module>\u001b[1;34m()\u001b[0m\n\u001b[0;32m      1\u001b[0m \u001b[1;32mimport\u001b[0m \u001b[0msmtplib\u001b[0m\u001b[1;33m\u001b[0m\u001b[0m\n\u001b[0;32m      2\u001b[0m \u001b[0msmtpssl\u001b[0m\u001b[1;33m=\u001b[0m\u001b[0msmtplib\u001b[0m\u001b[1;33m.\u001b[0m\u001b[0mSMTP_SSL\u001b[0m\u001b[1;33m(\u001b[0m\u001b[1;34m\"smtp.gmail.com\"\u001b[0m\u001b[1;33m,\u001b[0m \u001b[1;36m465\u001b[0m\u001b[1;33m)\u001b[0m\u001b[1;33m\u001b[0m\u001b[0m\n\u001b[1;32m----> 3\u001b[1;33m \u001b[0msmtpssl\u001b[0m\u001b[1;33m.\u001b[0m\u001b[0mlogin\u001b[0m\u001b[1;33m(\u001b[0m\u001b[1;34m\"mailtest1458@gmail.com\"\u001b[0m\u001b[1;33m,\u001b[0m \u001b[1;34m\"xxxxxxxx\"\u001b[0m\u001b[1;33m)\u001b[0m\u001b[1;33m\u001b[0m\u001b[0m\n\u001b[0m",
      "\u001b[1;32m~\\Anaconda3\\lib\\smtplib.py\u001b[0m in \u001b[0;36mlogin\u001b[1;34m(self, user, password, initial_response_ok)\u001b[0m\n\u001b[0;32m    728\u001b[0m \u001b[1;33m\u001b[0m\u001b[0m\n\u001b[0;32m    729\u001b[0m         \u001b[1;31m# We could not login successfully.  Return result of last attempt.\u001b[0m\u001b[1;33m\u001b[0m\u001b[1;33m\u001b[0m\u001b[0m\n\u001b[1;32m--> 730\u001b[1;33m         \u001b[1;32mraise\u001b[0m \u001b[0mlast_exception\u001b[0m\u001b[1;33m\u001b[0m\u001b[0m\n\u001b[0m\u001b[0;32m    731\u001b[0m \u001b[1;33m\u001b[0m\u001b[0m\n\u001b[0;32m    732\u001b[0m     \u001b[1;32mdef\u001b[0m \u001b[0mstarttls\u001b[0m\u001b[1;33m(\u001b[0m\u001b[0mself\u001b[0m\u001b[1;33m,\u001b[0m \u001b[0mkeyfile\u001b[0m\u001b[1;33m=\u001b[0m\u001b[1;32mNone\u001b[0m\u001b[1;33m,\u001b[0m \u001b[0mcertfile\u001b[0m\u001b[1;33m=\u001b[0m\u001b[1;32mNone\u001b[0m\u001b[1;33m,\u001b[0m \u001b[0mcontext\u001b[0m\u001b[1;33m=\u001b[0m\u001b[1;32mNone\u001b[0m\u001b[1;33m)\u001b[0m\u001b[1;33m:\u001b[0m\u001b[1;33m\u001b[0m\u001b[0m\n",
      "\u001b[1;32m~\\Anaconda3\\lib\\smtplib.py\u001b[0m in \u001b[0;36mlogin\u001b[1;34m(self, user, password, initial_response_ok)\u001b[0m\n\u001b[0;32m    719\u001b[0m                 (code, resp) = self.auth(\n\u001b[0;32m    720\u001b[0m                     \u001b[0mauthmethod\u001b[0m\u001b[1;33m,\u001b[0m \u001b[0mgetattr\u001b[0m\u001b[1;33m(\u001b[0m\u001b[0mself\u001b[0m\u001b[1;33m,\u001b[0m \u001b[0mmethod_name\u001b[0m\u001b[1;33m)\u001b[0m\u001b[1;33m,\u001b[0m\u001b[1;33m\u001b[0m\u001b[0m\n\u001b[1;32m--> 721\u001b[1;33m                     initial_response_ok=initial_response_ok)\n\u001b[0m\u001b[0;32m    722\u001b[0m                 \u001b[1;31m# 235 == 'Authentication successful'\u001b[0m\u001b[1;33m\u001b[0m\u001b[1;33m\u001b[0m\u001b[0m\n\u001b[0;32m    723\u001b[0m                 \u001b[1;31m# 503 == 'Error: already authenticated'\u001b[0m\u001b[1;33m\u001b[0m\u001b[1;33m\u001b[0m\u001b[0m\n",
      "\u001b[1;32m~\\Anaconda3\\lib\\smtplib.py\u001b[0m in \u001b[0;36mauth\u001b[1;34m(self, mechanism, authobject, initial_response_ok)\u001b[0m\n\u001b[0;32m    640\u001b[0m         \u001b[1;32mif\u001b[0m \u001b[0mcode\u001b[0m \u001b[1;32min\u001b[0m \u001b[1;33m(\u001b[0m\u001b[1;36m235\u001b[0m\u001b[1;33m,\u001b[0m \u001b[1;36m503\u001b[0m\u001b[1;33m)\u001b[0m\u001b[1;33m:\u001b[0m\u001b[1;33m\u001b[0m\u001b[0m\n\u001b[0;32m    641\u001b[0m             \u001b[1;32mreturn\u001b[0m \u001b[1;33m(\u001b[0m\u001b[0mcode\u001b[0m\u001b[1;33m,\u001b[0m \u001b[0mresp\u001b[0m\u001b[1;33m)\u001b[0m\u001b[1;33m\u001b[0m\u001b[0m\n\u001b[1;32m--> 642\u001b[1;33m         \u001b[1;32mraise\u001b[0m \u001b[0mSMTPAuthenticationError\u001b[0m\u001b[1;33m(\u001b[0m\u001b[0mcode\u001b[0m\u001b[1;33m,\u001b[0m \u001b[0mresp\u001b[0m\u001b[1;33m)\u001b[0m\u001b[1;33m\u001b[0m\u001b[0m\n\u001b[0m\u001b[0;32m    643\u001b[0m \u001b[1;33m\u001b[0m\u001b[0m\n\u001b[0;32m    644\u001b[0m     \u001b[1;32mdef\u001b[0m \u001b[0mauth_cram_md5\u001b[0m\u001b[1;33m(\u001b[0m\u001b[0mself\u001b[0m\u001b[1;33m,\u001b[0m \u001b[0mchallenge\u001b[0m\u001b[1;33m=\u001b[0m\u001b[1;32mNone\u001b[0m\u001b[1;33m)\u001b[0m\u001b[1;33m:\u001b[0m\u001b[1;33m\u001b[0m\u001b[0m\n",
      "\u001b[1;31mSMTPAuthenticationError\u001b[0m: (535, b'5.7.8 Username and Password not accepted. Learn more at\\n5.7.8  https://support.google.com/mail/?p=BadCredentials z30sm71614044pfq.154 - gsmtp')"
     ]
    }
   ],
   "source": [
    "import smtplib \n",
    "smtpssl=smtplib.SMTP_SSL(\"smtp.gmail.com\", 465) \n",
    "smtpssl.login(\"mailtest1458@gmail.com\", \"xxxxxxxx\")"
   ]
  },
  {
   "cell_type": "markdown",
   "metadata": {},
   "source": [
    "# oops! 出錯了!\n",
    "\n",
    "### 必須進入 Google 帳號管理為應用程式產生特別的密碼才行\n",
    "\n",
    "但要注意! 帳戶要先設定兩階段驗證後才會出現 應用程式密碼。\n",
    "\n",
    "在彈出頁面中顯示了一組應用程式專用密碼, 須立即複製到記事本中儲存, 因為只要關閉此頁面便無法查出此密碼, 只能刪除再重新產生 :\n",
    "\n",
    "    wbpwiranswgebhvq\n"
   ]
  },
  {
   "cell_type": "markdown",
   "metadata": {},
   "source": [
    "# 嘗試用「應用程式密碼」登入伺服器\n",
    "![GoogleLogin4.PNG](images/GoogleLogin4.PNG)\n"
   ]
  },
  {
   "cell_type": "code",
   "execution_count": 1,
   "metadata": {},
   "outputs": [
    {
     "data": {
      "text/plain": [
       "(235, b'2.7.0 Accepted')"
      ]
     },
     "execution_count": 1,
     "metadata": {},
     "output_type": "execute_result"
    }
   ],
   "source": [
    "import smtplib \n",
    "smtpssl=smtplib.SMTP_SSL(\"smtp.gmail.com\", 465) \n",
    "smtpssl.login(\"mailtest1458@gmail.com\", \"wbpwiranswgebhvq\")"
   ]
  },
  {
   "cell_type": "markdown",
   "metadata": {},
   "source": [
    "# 寄一封信試試看"
   ]
  },
  {
   "cell_type": "code",
   "execution_count": 2,
   "metadata": {},
   "outputs": [
    {
     "data": {
      "text/plain": [
       "(221, b'2.0.0 closing connection b14sm9903339pfi.92 - gsmtp')"
      ]
     },
     "execution_count": 2,
     "metadata": {},
     "output_type": "execute_result"
    }
   ],
   "source": [
    "import smtplib \n",
    "smtpssl=smtplib.SMTP_SSL(\"smtp.gmail.com\", 465) \n",
    "smtpssl.login(\"mailtest1458@gmail.com\", \"wbpwiranswgebhvq\")\n",
    "from_addr = 'mailtest1458@gmail.com'\n",
    "to_addr = 'jiangsir@tea.nknush.kh.edu.tw'\n",
    "msg = 'Subject:Python Test mail!!!\\n'\n",
    "msg += 'test mail content'\n",
    "smtpssl.sendmail(from_addr, to_addr, msg, mail_options=(), rcpt_options=())\n",
    "smtpssl.quit() "
   ]
  },
  {
   "cell_type": "markdown",
   "metadata": {},
   "source": [
    "# 寄送中文信件 -- 用 MIME 協定\n",
    "\n",
    "解決此問題的辦法是使用多用途郵件擴展協定 MIME (Multiplepurpose Internet Mail Extensions), "
   ]
  },
  {
   "cell_type": "code",
   "execution_count": 21,
   "metadata": {},
   "outputs": [
    {
     "data": {
      "text/plain": [
       "(221, b'2.0.0 closing connection s21sm38823568pfm.3 - gsmtp')"
      ]
     },
     "execution_count": 21,
     "metadata": {},
     "output_type": "execute_result"
    }
   ],
   "source": [
    "import smtplib \n",
    "from email.mime.text import MIMEText  \n",
    "\n",
    "smtpssl=smtplib.SMTP_SSL(\"smtp.gmail.com\", 465) \n",
    "smtpssl.login(\"mailtest1458@gmail.com\", \"wbpwiranswgebhvq\")\n",
    "msg = 'test mail 中文內容測試'\n",
    "mime=MIMEText(msg, \"plain\", \"utf-8\")  \n",
    "mime[\"Subject\"]=\"Python中文信件!!!(MIME)\"\n",
    "\n",
    "# 顯示的名稱\n",
    "mime[\"From\"]=\"我是誰?\"\n",
    "mime[\"To\"]=\"jiangsir@tea.nknush.kh.edu.tw\"\n",
    "\n",
    "# 寄件者，收件者\n",
    "from_addr = 'mailtest1458@gmail.com'\n",
    "to_addr = 'jiangsir@tea.nknush.kh.edu.tw'\n",
    "\n",
    "smtpssl.sendmail(from_addr, to_addr, mime.as_string())\n",
    "smtpssl.quit() "
   ]
  },
  {
   "cell_type": "markdown",
   "metadata": {},
   "source": [
    "# 傳送 HTML 信件 -- 使用 MIME 協定"
   ]
  },
  {
   "cell_type": "code",
   "execution_count": 3,
   "metadata": {},
   "outputs": [
    {
     "output_type": "error",
     "ename": "SMTPAuthenticationError",
     "evalue": "(535, b'5.7.8 Username and Password not accepted. Learn more at\\n5.7.8  https://support.google.com/mail/?p=BadCredentials a31sm44474857pgb.93 - gsmtp')",
     "traceback": [
      "\u001b[1;31m---------------------------------------------------------------------------\u001b[0m",
      "\u001b[1;31mSMTPAuthenticationError\u001b[0m                   Traceback (most recent call last)",
      "\u001b[1;32m<ipython-input-3-65e51d468113>\u001b[0m in \u001b[0;36m<module>\u001b[1;34m()\u001b[0m\n\u001b[0;32m     21\u001b[0m \u001b[1;33m\u001b[0m\u001b[0m\n\u001b[0;32m     22\u001b[0m \u001b[0msmtpssl\u001b[0m\u001b[1;33m=\u001b[0m\u001b[0msmtplib\u001b[0m\u001b[1;33m.\u001b[0m\u001b[0mSMTP_SSL\u001b[0m\u001b[1;33m(\u001b[0m\u001b[1;34m\"smtp.gmail.com\"\u001b[0m\u001b[1;33m,\u001b[0m \u001b[1;36m465\u001b[0m\u001b[1;33m)\u001b[0m\u001b[1;33m\u001b[0m\u001b[0m\n\u001b[1;32m---> 23\u001b[1;33m \u001b[0msmtpssl\u001b[0m\u001b[1;33m.\u001b[0m\u001b[0mlogin\u001b[0m\u001b[1;33m(\u001b[0m\u001b[1;34m\"mailtest1458@gmail.com\"\u001b[0m\u001b[1;33m,\u001b[0m \u001b[1;34m\"wbpwiranswgebhvq\"\u001b[0m\u001b[1;33m)\u001b[0m\u001b[1;33m\u001b[0m\u001b[0m\n\u001b[0m\u001b[0;32m     24\u001b[0m \u001b[1;33m\u001b[0m\u001b[0m\n\u001b[0;32m     25\u001b[0m \u001b[0mfrom_addr\u001b[0m\u001b[1;33m=\u001b[0m\u001b[1;34m\"mailtest1458@gmail.com\"\u001b[0m\u001b[1;33m\u001b[0m\u001b[0m\n",
      "\u001b[1;32m~\\Anaconda3\\lib\\smtplib.py\u001b[0m in \u001b[0;36mlogin\u001b[1;34m(self, user, password, initial_response_ok)\u001b[0m\n\u001b[0;32m    728\u001b[0m \u001b[1;33m\u001b[0m\u001b[0m\n\u001b[0;32m    729\u001b[0m         \u001b[1;31m# We could not login successfully.  Return result of last attempt.\u001b[0m\u001b[1;33m\u001b[0m\u001b[1;33m\u001b[0m\u001b[0m\n\u001b[1;32m--> 730\u001b[1;33m         \u001b[1;32mraise\u001b[0m \u001b[0mlast_exception\u001b[0m\u001b[1;33m\u001b[0m\u001b[0m\n\u001b[0m\u001b[0;32m    731\u001b[0m \u001b[1;33m\u001b[0m\u001b[0m\n\u001b[0;32m    732\u001b[0m     \u001b[1;32mdef\u001b[0m \u001b[0mstarttls\u001b[0m\u001b[1;33m(\u001b[0m\u001b[0mself\u001b[0m\u001b[1;33m,\u001b[0m \u001b[0mkeyfile\u001b[0m\u001b[1;33m=\u001b[0m\u001b[1;32mNone\u001b[0m\u001b[1;33m,\u001b[0m \u001b[0mcertfile\u001b[0m\u001b[1;33m=\u001b[0m\u001b[1;32mNone\u001b[0m\u001b[1;33m,\u001b[0m \u001b[0mcontext\u001b[0m\u001b[1;33m=\u001b[0m\u001b[1;32mNone\u001b[0m\u001b[1;33m)\u001b[0m\u001b[1;33m:\u001b[0m\u001b[1;33m\u001b[0m\u001b[0m\n",
      "\u001b[1;32m~\\Anaconda3\\lib\\smtplib.py\u001b[0m in \u001b[0;36mlogin\u001b[1;34m(self, user, password, initial_response_ok)\u001b[0m\n\u001b[0;32m    719\u001b[0m                 (code, resp) = self.auth(\n\u001b[0;32m    720\u001b[0m                     \u001b[0mauthmethod\u001b[0m\u001b[1;33m,\u001b[0m \u001b[0mgetattr\u001b[0m\u001b[1;33m(\u001b[0m\u001b[0mself\u001b[0m\u001b[1;33m,\u001b[0m \u001b[0mmethod_name\u001b[0m\u001b[1;33m)\u001b[0m\u001b[1;33m,\u001b[0m\u001b[1;33m\u001b[0m\u001b[0m\n\u001b[1;32m--> 721\u001b[1;33m                     initial_response_ok=initial_response_ok)\n\u001b[0m\u001b[0;32m    722\u001b[0m                 \u001b[1;31m# 235 == 'Authentication successful'\u001b[0m\u001b[1;33m\u001b[0m\u001b[1;33m\u001b[0m\u001b[0m\n\u001b[0;32m    723\u001b[0m                 \u001b[1;31m# 503 == 'Error: already authenticated'\u001b[0m\u001b[1;33m\u001b[0m\u001b[1;33m\u001b[0m\u001b[0m\n",
      "\u001b[1;32m~\\Anaconda3\\lib\\smtplib.py\u001b[0m in \u001b[0;36mauth\u001b[1;34m(self, mechanism, authobject, initial_response_ok)\u001b[0m\n\u001b[0;32m    640\u001b[0m         \u001b[1;32mif\u001b[0m \u001b[0mcode\u001b[0m \u001b[1;32min\u001b[0m \u001b[1;33m(\u001b[0m\u001b[1;36m235\u001b[0m\u001b[1;33m,\u001b[0m \u001b[1;36m503\u001b[0m\u001b[1;33m)\u001b[0m\u001b[1;33m:\u001b[0m\u001b[1;33m\u001b[0m\u001b[0m\n\u001b[0;32m    641\u001b[0m             \u001b[1;32mreturn\u001b[0m \u001b[1;33m(\u001b[0m\u001b[0mcode\u001b[0m\u001b[1;33m,\u001b[0m \u001b[0mresp\u001b[0m\u001b[1;33m)\u001b[0m\u001b[1;33m\u001b[0m\u001b[0m\n\u001b[1;32m--> 642\u001b[1;33m         \u001b[1;32mraise\u001b[0m \u001b[0mSMTPAuthenticationError\u001b[0m\u001b[1;33m(\u001b[0m\u001b[0mcode\u001b[0m\u001b[1;33m,\u001b[0m \u001b[0mresp\u001b[0m\u001b[1;33m)\u001b[0m\u001b[1;33m\u001b[0m\u001b[0m\n\u001b[0m\u001b[0;32m    643\u001b[0m \u001b[1;33m\u001b[0m\u001b[0m\n\u001b[0;32m    644\u001b[0m     \u001b[1;32mdef\u001b[0m \u001b[0mauth_cram_md5\u001b[0m\u001b[1;33m(\u001b[0m\u001b[0mself\u001b[0m\u001b[1;33m,\u001b[0m \u001b[0mchallenge\u001b[0m\u001b[1;33m=\u001b[0m\u001b[1;32mNone\u001b[0m\u001b[1;33m)\u001b[0m\u001b[1;33m:\u001b[0m\u001b[1;33m\u001b[0m\u001b[0m\n",
      "\u001b[1;31mSMTPAuthenticationError\u001b[0m: (535, b'5.7.8 Username and Password not accepted. Learn more at\\n5.7.8  https://support.google.com/mail/?p=BadCredentials a31sm44474857pgb.93 - gsmtp')"
     ]
    }
   ],
   "source": [
    "import smtplib\n",
    "from email.mime.text import MIMEText\n",
    "\n",
    "html=\"\"\"\n",
    "<!doctype html>\n",
    "<html>\n",
    "<head>\n",
    "  <meta charset='utf-8'>\n",
    "  <title>HTML mail</title>\n",
    "</head>\n",
    "<body>\n",
    "  <b>HTML 郵件測試</b>\n",
    "</body>\n",
    "</html>\n",
    "\"\"\"\n",
    "mime=MIMEText(html, \"html\", \"utf-8\")\n",
    "mime[\"Subject\"]=\"寄送HTML 郵件(MIME)\"\n",
    "mime[\"From\"]=\"我是誰?\"\n",
    "mime[\"To\"]=\"你是誰?\"\n",
    "msg=mime.as_string()\n",
    "\n",
    "smtpssl=smtplib.SMTP_SSL(\"smtp.gmail.com\", 465) \n",
    "smtpssl.login(\"mailtest1458@gmail.com\", \"wbpwiranswgebhvq\")\n",
    "\n",
    "from_addr=\"mailtest1458@gmail.com\"\n",
    "to_addr=[\"jiangzero@gmail.com\"]\n",
    "status=smtpssl.sendmail(from_addr, to_addr, msg)\n",
    "if status=={}:\n",
    "    print(\"郵件傳送成功!\")\n",
    "else:\n",
    "    print(\"郵件傳送失敗!\")\n",
    "smtpssl.quit()"
   ]
  },
  {
   "source": [
    "## 郵寄附件 -- 以 Bebras 2020 挑戰證明群發為例"
   ],
   "cell_type": "markdown",
   "metadata": {}
  },
  {
   "cell_type": "code",
   "execution_count": 2,
   "metadata": {
    "tags": []
   },
   "outputs": [
    {
     "output_type": "stream",
     "name": "stdout",
     "text": [
      "can read faile filename= 910181.pdf fp= /mnt/c/Users/user/Downloads/109Bebras成績證明/910181.pdf\n",
      "sendmail from mailer@zerojudge.tw to ['910181@stu.nknush.kh.edu.tw'] --- 郵件傳送成功!\n",
      "can read faile filename= 910182.pdf fp= /mnt/c/Users/user/Downloads/109Bebras成績證明/910182.pdf\n",
      "sendmail from mailer@zerojudge.tw to ['910182@stu.nknush.kh.edu.tw'] --- 郵件傳送成功!\n",
      "can read faile filename= 910183.pdf fp= /mnt/c/Users/user/Downloads/109Bebras成績證明/910183.pdf\n",
      "sendmail from mailer@zerojudge.tw to ['910183@stu.nknush.kh.edu.tw'] --- 郵件傳送成功!\n",
      "can read faile filename= 910184.pdf fp= /mnt/c/Users/user/Downloads/109Bebras成績證明/910184.pdf\n",
      "sendmail from mailer@zerojudge.tw to ['910184@stu.nknush.kh.edu.tw'] --- 郵件傳送成功!\n",
      "can read faile filename= 910185.pdf fp= /mnt/c/Users/user/Downloads/109Bebras成績證明/910185.pdf\n",
      "sendmail from mailer@zerojudge.tw to ['910185@stu.nknush.kh.edu.tw'] --- 郵件傳送成功!\n",
      "can read faile filename= 910186.pdf fp= /mnt/c/Users/user/Downloads/109Bebras成績證明/910186.pdf\n",
      "sendmail from mailer@zerojudge.tw to ['910186@stu.nknush.kh.edu.tw'] --- 郵件傳送成功!\n",
      "can read faile filename= 910187.pdf fp= /mnt/c/Users/user/Downloads/109Bebras成績證明/910187.pdf\n",
      "sendmail from mailer@zerojudge.tw to ['910187@stu.nknush.kh.edu.tw'] --- 郵件傳送成功!\n",
      "can read faile filename= 910188.pdf fp= /mnt/c/Users/user/Downloads/109Bebras成績證明/910188.pdf\n",
      "sendmail from mailer@zerojudge.tw to ['910188@stu.nknush.kh.edu.tw'] --- 郵件傳送成功!\n",
      "can read faile filename= 910189.pdf fp= /mnt/c/Users/user/Downloads/109Bebras成績證明/910189.pdf\n",
      "sendmail from mailer@zerojudge.tw to ['910189@stu.nknush.kh.edu.tw'] --- 郵件傳送成功!\n",
      "can read faile filename= 910190.pdf fp= /mnt/c/Users/user/Downloads/109Bebras成績證明/910190.pdf\n",
      "sendmail from mailer@zerojudge.tw to ['910190@stu.nknush.kh.edu.tw'] --- 郵件傳送成功!\n",
      "can read faile filename= 910191.pdf fp= /mnt/c/Users/user/Downloads/109Bebras成績證明/910191.pdf\n",
      "sendmail from mailer@zerojudge.tw to ['910191@stu.nknush.kh.edu.tw'] --- 郵件傳送成功!\n",
      "can read faile filename= 910192.pdf fp= /mnt/c/Users/user/Downloads/109Bebras成績證明/910192.pdf\n",
      "sendmail from mailer@zerojudge.tw to ['910192@stu.nknush.kh.edu.tw'] --- 郵件傳送成功!\n",
      "can read faile filename= 910193.pdf fp= /mnt/c/Users/user/Downloads/109Bebras成績證明/910193.pdf\n",
      "sendmail from mailer@zerojudge.tw to ['910193@stu.nknush.kh.edu.tw'] --- 郵件傳送成功!\n",
      "can read faile filename= 910194.pdf fp= /mnt/c/Users/user/Downloads/109Bebras成績證明/910194.pdf\n",
      "sendmail from mailer@zerojudge.tw to ['910194@stu.nknush.kh.edu.tw'] --- 郵件傳送成功!\n",
      "can read faile filename= 910195.pdf fp= /mnt/c/Users/user/Downloads/109Bebras成績證明/910195.pdf\n",
      "sendmail from mailer@zerojudge.tw to ['910195@stu.nknush.kh.edu.tw'] --- 郵件傳送成功!\n",
      "can read faile filename= 910196.pdf fp= /mnt/c/Users/user/Downloads/109Bebras成績證明/910196.pdf\n",
      "sendmail from mailer@zerojudge.tw to ['910196@stu.nknush.kh.edu.tw'] --- 郵件傳送成功!\n",
      "can read faile filename= 910197.pdf fp= /mnt/c/Users/user/Downloads/109Bebras成績證明/910197.pdf\n",
      "sendmail from mailer@zerojudge.tw to ['910197@stu.nknush.kh.edu.tw'] --- 郵件傳送成功!\n",
      "can read faile filename= 910198.pdf fp= /mnt/c/Users/user/Downloads/109Bebras成績證明/910198.pdf\n",
      "sendmail from mailer@zerojudge.tw to ['910198@stu.nknush.kh.edu.tw'] --- 郵件傳送成功!\n",
      "can read faile filename= 910199.pdf fp= /mnt/c/Users/user/Downloads/109Bebras成績證明/910199.pdf\n",
      "sendmail from mailer@zerojudge.tw to ['910199@stu.nknush.kh.edu.tw'] --- 郵件傳送成功!\n",
      "can read faile filename= 910200.pdf fp= /mnt/c/Users/user/Downloads/109Bebras成績證明/910200.pdf\n",
      "sendmail from mailer@zerojudge.tw to ['910200@stu.nknush.kh.edu.tw'] --- 郵件傳送成功!\n",
      "can read faile filename= 910201.pdf fp= /mnt/c/Users/user/Downloads/109Bebras成績證明/910201.pdf\n",
      "sendmail from mailer@zerojudge.tw to ['910201@stu.nknush.kh.edu.tw'] --- 郵件傳送成功!\n",
      "can read faile filename= 910202.pdf fp= /mnt/c/Users/user/Downloads/109Bebras成績證明/910202.pdf\n",
      "sendmail from mailer@zerojudge.tw to ['910202@stu.nknush.kh.edu.tw'] --- 郵件傳送成功!\n",
      "can read faile filename= 910203.pdf fp= /mnt/c/Users/user/Downloads/109Bebras成績證明/910203.pdf\n",
      "sendmail from mailer@zerojudge.tw to ['910203@stu.nknush.kh.edu.tw'] --- 郵件傳送成功!\n",
      "can read faile filename= 910204.pdf fp= /mnt/c/Users/user/Downloads/109Bebras成績證明/910204.pdf\n",
      "sendmail from mailer@zerojudge.tw to ['910204@stu.nknush.kh.edu.tw'] --- 郵件傳送成功!\n",
      "can read faile filename= 910205.pdf fp= /mnt/c/Users/user/Downloads/109Bebras成績證明/910205.pdf\n",
      "sendmail from mailer@zerojudge.tw to ['910205@stu.nknush.kh.edu.tw'] --- 郵件傳送成功!\n",
      "can read faile filename= 910206.pdf fp= /mnt/c/Users/user/Downloads/109Bebras成績證明/910206.pdf\n",
      "sendmail from mailer@zerojudge.tw to ['910206@stu.nknush.kh.edu.tw'] --- 郵件傳送成功!\n",
      "can read faile filename= 910207.pdf fp= /mnt/c/Users/user/Downloads/109Bebras成績證明/910207.pdf\n",
      "sendmail from mailer@zerojudge.tw to ['910207@stu.nknush.kh.edu.tw'] --- 郵件傳送成功!\n",
      "can read faile filename= 910208.pdf fp= /mnt/c/Users/user/Downloads/109Bebras成績證明/910208.pdf\n",
      "sendmail from mailer@zerojudge.tw to ['910208@stu.nknush.kh.edu.tw'] --- 郵件傳送成功!\n",
      "can read faile filename= 910209.pdf fp= /mnt/c/Users/user/Downloads/109Bebras成績證明/910209.pdf\n",
      "sendmail from mailer@zerojudge.tw to ['910209@stu.nknush.kh.edu.tw'] --- 郵件傳送成功!\n",
      "can read faile filename= 910210.pdf fp= /mnt/c/Users/user/Downloads/109Bebras成績證明/910210.pdf\n",
      "sendmail from mailer@zerojudge.tw to ['910210@stu.nknush.kh.edu.tw'] --- 郵件傳送成功!\n",
      "can read faile filename= 910211.pdf fp= /mnt/c/Users/user/Downloads/109Bebras成績證明/910211.pdf\n",
      "sendmail from mailer@zerojudge.tw to ['910211@stu.nknush.kh.edu.tw'] --- 郵件傳送成功!\n",
      "can read faile filename= 910212.pdf fp= /mnt/c/Users/user/Downloads/109Bebras成績證明/910212.pdf\n",
      "sendmail from mailer@zerojudge.tw to ['910212@stu.nknush.kh.edu.tw'] --- 郵件傳送成功!\n",
      "can read faile filename= 910213.pdf fp= /mnt/c/Users/user/Downloads/109Bebras成績證明/910213.pdf\n",
      "sendmail from mailer@zerojudge.tw to ['910213@stu.nknush.kh.edu.tw'] --- 郵件傳送成功!\n",
      "can read faile filename= 910214.pdf fp= /mnt/c/Users/user/Downloads/109Bebras成績證明/910214.pdf\n",
      "sendmail from mailer@zerojudge.tw to ['910214@stu.nknush.kh.edu.tw'] --- 郵件傳送成功!\n",
      "can read faile filename= 910215.pdf fp= /mnt/c/Users/user/Downloads/109Bebras成績證明/910215.pdf\n",
      "sendmail from mailer@zerojudge.tw to ['910215@stu.nknush.kh.edu.tw'] --- 郵件傳送成功!\n",
      "can read faile filename= 910216.pdf fp= /mnt/c/Users/user/Downloads/109Bebras成績證明/910216.pdf\n",
      "sendmail from mailer@zerojudge.tw to ['910216@stu.nknush.kh.edu.tw'] --- 郵件傳送成功!\n",
      "can read faile filename= 910217.pdf fp= /mnt/c/Users/user/Downloads/109Bebras成績證明/910217.pdf\n",
      "sendmail from mailer@zerojudge.tw to ['910217@stu.nknush.kh.edu.tw'] --- 郵件傳送成功!\n",
      "can read faile filename= 910218.pdf fp= /mnt/c/Users/user/Downloads/109Bebras成績證明/910218.pdf\n",
      "sendmail from mailer@zerojudge.tw to ['910218@stu.nknush.kh.edu.tw'] --- 郵件傳送成功!\n",
      "can read faile filename= 910219.pdf fp= /mnt/c/Users/user/Downloads/109Bebras成績證明/910219.pdf\n",
      "sendmail from mailer@zerojudge.tw to ['910219@stu.nknush.kh.edu.tw'] --- 郵件傳送成功!\n",
      "can read faile filename= 910220.pdf fp= /mnt/c/Users/user/Downloads/109Bebras成績證明/910220.pdf\n",
      "sendmail from mailer@zerojudge.tw to ['910220@stu.nknush.kh.edu.tw'] --- 郵件傳送成功!\n",
      "can read faile filename= 910221.pdf fp= /mnt/c/Users/user/Downloads/109Bebras成績證明/910221.pdf\n",
      "sendmail from mailer@zerojudge.tw to ['910221@stu.nknush.kh.edu.tw'] --- 郵件傳送成功!\n",
      "can read faile filename= 910222.pdf fp= /mnt/c/Users/user/Downloads/109Bebras成績證明/910222.pdf\n",
      "sendmail from mailer@zerojudge.tw to ['910222@stu.nknush.kh.edu.tw'] --- 郵件傳送成功!\n",
      "can read faile filename= 910223.pdf fp= /mnt/c/Users/user/Downloads/109Bebras成績證明/910223.pdf\n",
      "sendmail from mailer@zerojudge.tw to ['910223@stu.nknush.kh.edu.tw'] --- 郵件傳送成功!\n",
      "can read faile filename= 910224.pdf fp= /mnt/c/Users/user/Downloads/109Bebras成績證明/910224.pdf\n",
      "sendmail from mailer@zerojudge.tw to ['910224@stu.nknush.kh.edu.tw'] --- 郵件傳送成功!\n",
      "can read faile filename= 910225.pdf fp= /mnt/c/Users/user/Downloads/109Bebras成績證明/910225.pdf\n",
      "sendmail from mailer@zerojudge.tw to ['910225@stu.nknush.kh.edu.tw'] --- 郵件傳送成功!\n",
      "can read faile filename= 910226.pdf fp= /mnt/c/Users/user/Downloads/109Bebras成績證明/910226.pdf\n",
      "sendmail from mailer@zerojudge.tw to ['910226@stu.nknush.kh.edu.tw'] --- 郵件傳送成功!\n",
      "can read faile filename= 910227.pdf fp= /mnt/c/Users/user/Downloads/109Bebras成績證明/910227.pdf\n",
      "sendmail from mailer@zerojudge.tw to ['910227@stu.nknush.kh.edu.tw'] --- 郵件傳送成功!\n",
      "can read faile filename= 910228.pdf fp= /mnt/c/Users/user/Downloads/109Bebras成績證明/910228.pdf\n",
      "sendmail from mailer@zerojudge.tw to ['910228@stu.nknush.kh.edu.tw'] --- 郵件傳送成功!\n",
      "can read faile filename= 910229.pdf fp= /mnt/c/Users/user/Downloads/109Bebras成績證明/910229.pdf\n",
      "sendmail from mailer@zerojudge.tw to ['910229@stu.nknush.kh.edu.tw'] --- 郵件傳送成功!\n",
      "can read faile filename= 910230.pdf fp= /mnt/c/Users/user/Downloads/109Bebras成績證明/910230.pdf\n",
      "sendmail from mailer@zerojudge.tw to ['910230@stu.nknush.kh.edu.tw'] --- 郵件傳送成功!\n",
      "can read faile filename= 910231.pdf fp= /mnt/c/Users/user/Downloads/109Bebras成績證明/910231.pdf\n",
      "sendmail from mailer@zerojudge.tw to ['910231@stu.nknush.kh.edu.tw'] --- 郵件傳送成功!\n",
      "can read faile filename= 910232.pdf fp= /mnt/c/Users/user/Downloads/109Bebras成績證明/910232.pdf\n",
      "sendmail from mailer@zerojudge.tw to ['910232@stu.nknush.kh.edu.tw'] --- 郵件傳送成功!\n",
      "can read faile filename= 910233.pdf fp= /mnt/c/Users/user/Downloads/109Bebras成績證明/910233.pdf\n",
      "sendmail from mailer@zerojudge.tw to ['910233@stu.nknush.kh.edu.tw'] --- 郵件傳送成功!\n",
      "can read faile filename= 910234.pdf fp= /mnt/c/Users/user/Downloads/109Bebras成績證明/910234.pdf\n",
      "sendmail from mailer@zerojudge.tw to ['910234@stu.nknush.kh.edu.tw'] --- 郵件傳送成功!\n",
      "can read faile filename= 910235.pdf fp= /mnt/c/Users/user/Downloads/109Bebras成績證明/910235.pdf\n",
      "sendmail from mailer@zerojudge.tw to ['910235@stu.nknush.kh.edu.tw'] --- 郵件傳送成功!\n",
      "can read faile filename= 910236.pdf fp= /mnt/c/Users/user/Downloads/109Bebras成績證明/910236.pdf\n",
      "sendmail from mailer@zerojudge.tw to ['910236@stu.nknush.kh.edu.tw'] --- 郵件傳送成功!\n",
      "can read faile filename= 910237.pdf fp= /mnt/c/Users/user/Downloads/109Bebras成績證明/910237.pdf\n",
      "sendmail from mailer@zerojudge.tw to ['910237@stu.nknush.kh.edu.tw'] --- 郵件傳送成功!\n",
      "can read faile filename= 910238.pdf fp= /mnt/c/Users/user/Downloads/109Bebras成績證明/910238.pdf\n",
      "sendmail from mailer@zerojudge.tw to ['910238@stu.nknush.kh.edu.tw'] --- 郵件傳送成功!\n",
      "can read faile filename= 910239.pdf fp= /mnt/c/Users/user/Downloads/109Bebras成績證明/910239.pdf\n",
      "sendmail from mailer@zerojudge.tw to ['910239@stu.nknush.kh.edu.tw'] --- 郵件傳送成功!\n",
      "can read faile filename= 910240.pdf fp= /mnt/c/Users/user/Downloads/109Bebras成績證明/910240.pdf\n",
      "sendmail from mailer@zerojudge.tw to ['910240@stu.nknush.kh.edu.tw'] --- 郵件傳送成功!\n",
      "can read faile filename= 910241.pdf fp= /mnt/c/Users/user/Downloads/109Bebras成績證明/910241.pdf\n",
      "sendmail from mailer@zerojudge.tw to ['910241@stu.nknush.kh.edu.tw'] --- 郵件傳送成功!\n",
      "can read faile filename= 910242.pdf fp= /mnt/c/Users/user/Downloads/109Bebras成績證明/910242.pdf\n",
      "sendmail from mailer@zerojudge.tw to ['910242@stu.nknush.kh.edu.tw'] --- 郵件傳送成功!\n",
      "can read faile filename= 910243.pdf fp= /mnt/c/Users/user/Downloads/109Bebras成績證明/910243.pdf\n",
      "sendmail from mailer@zerojudge.tw to ['910243@stu.nknush.kh.edu.tw'] --- 郵件傳送成功!\n",
      "can read faile filename= 910244.pdf fp= /mnt/c/Users/user/Downloads/109Bebras成績證明/910244.pdf\n",
      "sendmail from mailer@zerojudge.tw to ['910244@stu.nknush.kh.edu.tw'] --- 郵件傳送成功!\n",
      "can read faile filename= 910245.pdf fp= /mnt/c/Users/user/Downloads/109Bebras成績證明/910245.pdf\n",
      "sendmail from mailer@zerojudge.tw to ['910245@stu.nknush.kh.edu.tw'] --- 郵件傳送成功!\n",
      "can read faile filename= 910246.pdf fp= /mnt/c/Users/user/Downloads/109Bebras成績證明/910246.pdf\n",
      "sendmail from mailer@zerojudge.tw to ['910246@stu.nknush.kh.edu.tw'] --- 郵件傳送成功!\n",
      "can read faile filename= 910247.pdf fp= /mnt/c/Users/user/Downloads/109Bebras成績證明/910247.pdf\n",
      "sendmail from mailer@zerojudge.tw to ['910247@stu.nknush.kh.edu.tw'] --- 郵件傳送成功!\n",
      "can read faile filename= 910248.pdf fp= /mnt/c/Users/user/Downloads/109Bebras成績證明/910248.pdf\n",
      "sendmail from mailer@zerojudge.tw to ['910248@stu.nknush.kh.edu.tw'] --- 郵件傳送成功!\n",
      "can read faile filename= 910249.pdf fp= /mnt/c/Users/user/Downloads/109Bebras成績證明/910249.pdf\n",
      "sendmail from mailer@zerojudge.tw to ['910249@stu.nknush.kh.edu.tw'] --- 郵件傳送成功!\n",
      "can read faile filename= 910250.pdf fp= /mnt/c/Users/user/Downloads/109Bebras成績證明/910250.pdf\n",
      "sendmail from mailer@zerojudge.tw to ['910250@stu.nknush.kh.edu.tw'] --- 郵件傳送成功!\n",
      "can read faile filename= 910251.pdf fp= /mnt/c/Users/user/Downloads/109Bebras成績證明/910251.pdf\n",
      "sendmail from mailer@zerojudge.tw to ['910251@stu.nknush.kh.edu.tw'] --- 郵件傳送成功!\n",
      "can read faile filename= 910252.pdf fp= /mnt/c/Users/user/Downloads/109Bebras成績證明/910252.pdf\n",
      "sendmail from mailer@zerojudge.tw to ['910252@stu.nknush.kh.edu.tw'] --- 郵件傳送成功!\n",
      "can read faile filename= 910253.pdf fp= /mnt/c/Users/user/Downloads/109Bebras成績證明/910253.pdf\n",
      "sendmail from mailer@zerojudge.tw to ['910253@stu.nknush.kh.edu.tw'] --- 郵件傳送成功!\n",
      "can read faile filename= 910254.pdf fp= /mnt/c/Users/user/Downloads/109Bebras成績證明/910254.pdf\n",
      "sendmail from mailer@zerojudge.tw to ['910254@stu.nknush.kh.edu.tw'] --- 郵件傳送成功!\n",
      "can read faile filename= 910255.pdf fp= /mnt/c/Users/user/Downloads/109Bebras成績證明/910255.pdf\n",
      "sendmail from mailer@zerojudge.tw to ['910255@stu.nknush.kh.edu.tw'] --- 郵件傳送成功!\n",
      "can read faile filename= 910256.pdf fp= /mnt/c/Users/user/Downloads/109Bebras成績證明/910256.pdf\n",
      "sendmail from mailer@zerojudge.tw to ['910256@stu.nknush.kh.edu.tw'] --- 郵件傳送成功!\n",
      "can read faile filename= 910257.pdf fp= /mnt/c/Users/user/Downloads/109Bebras成績證明/910257.pdf\n",
      "sendmail from mailer@zerojudge.tw to ['910257@stu.nknush.kh.edu.tw'] --- 郵件傳送成功!\n",
      "can read faile filename= 910258.pdf fp= /mnt/c/Users/user/Downloads/109Bebras成績證明/910258.pdf\n",
      "sendmail from mailer@zerojudge.tw to ['910258@stu.nknush.kh.edu.tw'] --- 郵件傳送成功!\n",
      "can read faile filename= 910259.pdf fp= /mnt/c/Users/user/Downloads/109Bebras成績證明/910259.pdf\n",
      "sendmail from mailer@zerojudge.tw to ['910259@stu.nknush.kh.edu.tw'] --- 郵件傳送成功!\n",
      "can read faile filename= 910260.pdf fp= /mnt/c/Users/user/Downloads/109Bebras成績證明/910260.pdf\n",
      "sendmail from mailer@zerojudge.tw to ['910260@stu.nknush.kh.edu.tw'] --- 郵件傳送成功!\n",
      "can read faile filename= 910261.pdf fp= /mnt/c/Users/user/Downloads/109Bebras成績證明/910261.pdf\n",
      "sendmail from mailer@zerojudge.tw to ['910261@stu.nknush.kh.edu.tw'] --- 郵件傳送成功!\n",
      "can read faile filename= 910262.pdf fp= /mnt/c/Users/user/Downloads/109Bebras成績證明/910262.pdf\n",
      "sendmail from mailer@zerojudge.tw to ['910262@stu.nknush.kh.edu.tw'] --- 郵件傳送成功!\n",
      "can read faile filename= 910263.pdf fp= /mnt/c/Users/user/Downloads/109Bebras成績證明/910263.pdf\n",
      "sendmail from mailer@zerojudge.tw to ['910263@stu.nknush.kh.edu.tw'] --- 郵件傳送成功!\n",
      "can read faile filename= 910264.pdf fp= /mnt/c/Users/user/Downloads/109Bebras成績證明/910264.pdf\n",
      "sendmail from mailer@zerojudge.tw to ['910264@stu.nknush.kh.edu.tw'] --- 郵件傳送成功!\n",
      "can read faile filename= 910265.pdf fp= /mnt/c/Users/user/Downloads/109Bebras成績證明/910265.pdf\n",
      "sendmail from mailer@zerojudge.tw to ['910265@stu.nknush.kh.edu.tw'] --- 郵件傳送成功!\n",
      "can read faile filename= 910266.pdf fp= /mnt/c/Users/user/Downloads/109Bebras成績證明/910266.pdf\n",
      "sendmail from mailer@zerojudge.tw to ['910266@stu.nknush.kh.edu.tw'] --- 郵件傳送成功!\n",
      "can read faile filename= 910267.pdf fp= /mnt/c/Users/user/Downloads/109Bebras成績證明/910267.pdf\n",
      "sendmail from mailer@zerojudge.tw to ['910267@stu.nknush.kh.edu.tw'] --- 郵件傳送成功!\n",
      "can read faile filename= 910268.pdf fp= /mnt/c/Users/user/Downloads/109Bebras成績證明/910268.pdf\n",
      "sendmail from mailer@zerojudge.tw to ['910268@stu.nknush.kh.edu.tw'] --- 郵件傳送成功!\n",
      "can read faile filename= 910269.pdf fp= /mnt/c/Users/user/Downloads/109Bebras成績證明/910269.pdf\n",
      "sendmail from mailer@zerojudge.tw to ['910269@stu.nknush.kh.edu.tw'] --- 郵件傳送成功!\n",
      "can read faile filename= 910270.pdf fp= /mnt/c/Users/user/Downloads/109Bebras成績證明/910270.pdf\n",
      "sendmail from mailer@zerojudge.tw to ['910270@stu.nknush.kh.edu.tw'] --- 郵件傳送成功!\n",
      "can read faile filename= 910271.pdf fp= /mnt/c/Users/user/Downloads/109Bebras成績證明/910271.pdf\n",
      "sendmail from mailer@zerojudge.tw to ['910271@stu.nknush.kh.edu.tw'] --- 郵件傳送成功!\n",
      "can read faile filename= 910272.pdf fp= /mnt/c/Users/user/Downloads/109Bebras成績證明/910272.pdf\n",
      "sendmail from mailer@zerojudge.tw to ['910272@stu.nknush.kh.edu.tw'] --- 郵件傳送成功!\n",
      "can read faile filename= 910273.pdf fp= /mnt/c/Users/user/Downloads/109Bebras成績證明/910273.pdf\n",
      "sendmail from mailer@zerojudge.tw to ['910273@stu.nknush.kh.edu.tw'] --- 郵件傳送成功!\n",
      "can read faile filename= 910274.pdf fp= /mnt/c/Users/user/Downloads/109Bebras成績證明/910274.pdf\n",
      "sendmail from mailer@zerojudge.tw to ['910274@stu.nknush.kh.edu.tw'] --- 郵件傳送成功!\n",
      "can read faile filename= 910275.pdf fp= /mnt/c/Users/user/Downloads/109Bebras成績證明/910275.pdf\n",
      "sendmail from mailer@zerojudge.tw to ['910275@stu.nknush.kh.edu.tw'] --- 郵件傳送成功!\n",
      "can read faile filename= 910276.pdf fp= /mnt/c/Users/user/Downloads/109Bebras成績證明/910276.pdf\n",
      "sendmail from mailer@zerojudge.tw to ['910276@stu.nknush.kh.edu.tw'] --- 郵件傳送成功!\n",
      "can read faile filename= 910277.pdf fp= /mnt/c/Users/user/Downloads/109Bebras成績證明/910277.pdf\n",
      "sendmail from mailer@zerojudge.tw to ['910277@stu.nknush.kh.edu.tw'] --- 郵件傳送成功!\n",
      "can read faile filename= 910278.pdf fp= /mnt/c/Users/user/Downloads/109Bebras成績證明/910278.pdf\n",
      "sendmail from mailer@zerojudge.tw to ['910278@stu.nknush.kh.edu.tw'] --- 郵件傳送成功!\n",
      "can read faile filename= 910279.pdf fp= /mnt/c/Users/user/Downloads/109Bebras成績證明/910279.pdf\n",
      "sendmail from mailer@zerojudge.tw to ['910279@stu.nknush.kh.edu.tw'] --- 郵件傳送成功!\n",
      "can read faile filename= 910280.pdf fp= /mnt/c/Users/user/Downloads/109Bebras成績證明/910280.pdf\n",
      "sendmail from mailer@zerojudge.tw to ['910280@stu.nknush.kh.edu.tw'] --- 郵件傳送成功!\n",
      "can read faile filename= 910281.pdf fp= /mnt/c/Users/user/Downloads/109Bebras成績證明/910281.pdf\n",
      "sendmail from mailer@zerojudge.tw to ['910281@stu.nknush.kh.edu.tw'] --- 郵件傳送成功!\n",
      "can read faile filename= 910282.pdf fp= /mnt/c/Users/user/Downloads/109Bebras成績證明/910282.pdf\n",
      "sendmail from mailer@zerojudge.tw to ['910282@stu.nknush.kh.edu.tw'] --- 郵件傳送成功!\n",
      "can read faile filename= 910283.pdf fp= /mnt/c/Users/user/Downloads/109Bebras成績證明/910283.pdf\n",
      "sendmail from mailer@zerojudge.tw to ['910283@stu.nknush.kh.edu.tw'] --- 郵件傳送成功!\n",
      "can read faile filename= 910284.pdf fp= /mnt/c/Users/user/Downloads/109Bebras成績證明/910284.pdf\n",
      "sendmail from mailer@zerojudge.tw to ['910284@stu.nknush.kh.edu.tw'] --- 郵件傳送成功!\n",
      "can read faile filename= 910285.pdf fp= /mnt/c/Users/user/Downloads/109Bebras成績證明/910285.pdf\n",
      "sendmail from mailer@zerojudge.tw to ['910285@stu.nknush.kh.edu.tw'] --- 郵件傳送成功!\n",
      "can read faile filename= 910286.pdf fp= /mnt/c/Users/user/Downloads/109Bebras成績證明/910286.pdf\n",
      "sendmail from mailer@zerojudge.tw to ['910286@stu.nknush.kh.edu.tw'] --- 郵件傳送成功!\n",
      "can read faile filename= 910287.pdf fp= /mnt/c/Users/user/Downloads/109Bebras成績證明/910287.pdf\n",
      "sendmail from mailer@zerojudge.tw to ['910287@stu.nknush.kh.edu.tw'] --- 郵件傳送成功!\n",
      "can read faile filename= 910288.pdf fp= /mnt/c/Users/user/Downloads/109Bebras成績證明/910288.pdf\n",
      "sendmail from mailer@zerojudge.tw to ['910288@stu.nknush.kh.edu.tw'] --- 郵件傳送成功!\n",
      "can read faile filename= 910289.pdf fp= /mnt/c/Users/user/Downloads/109Bebras成績證明/910289.pdf\n",
      "sendmail from mailer@zerojudge.tw to ['910289@stu.nknush.kh.edu.tw'] --- 郵件傳送成功!\n"
     ]
    }
   ],
   "source": [
    "import os\n",
    "import sys\n",
    "import smtplib\n",
    "from email import encoders\n",
    "from email.mime.base import MIMEBase\n",
    "from email.mime.multipart import MIMEMultipart\n",
    "from email.mime.text import MIMEText\n",
    "\n",
    "\n",
    "COMMASPACE = ', '\n",
    "subject = '高師大附中 109學年度國際運算思維挑戰賽 挑戰證明'\n",
    "from_addr = \"mailer@zerojudge.tw\"\n",
    "app_passwd = \"zridfkvaolgtoekp\"\n",
    "to_addr = [\"\"]\n",
    "to_domain = 'gmail.com' # email domain: stu.nknush.kh.edu.tw\n",
    "\n",
    "# attachePath = 'C:\\\\Users\\\\user\\\\Downloads\\\\109Bebras成績證明\\\\'\n",
    "attachePath = '/mnt/c/Users/user/Downloads/109Bebras成績證明/'\n",
    "attachments = sorted(os.listdir(attachePath))  # 取得成績證明資料夾的所有檔案\n",
    "#attachments = [attachePath+name for name in os.listdir(attachePath)]\n",
    "\n",
    "\n",
    "def main():\n",
    "    # html 格式的信件內容\n",
    "    htmlcontent = \"\"\"\n",
    "    <!doctype html>\n",
    "    <html>\n",
    "    <head>\n",
    "    <meta charset='utf-8'>\n",
    "    <title>HTML mail</title>\n",
    "    </head>\n",
    "    <body>\n",
    "    <b>運算思維挑戰賽挑戰證明</b>\n",
    "    </body>\n",
    "    </html>\n",
    "    \"\"\"\n",
    "\n",
    "    # 讀取所有的挑戰證明檔案\n",
    "    for filename in attachments:\n",
    "        # 建立郵件主題\n",
    "        content = MIMEMultipart()  # 建立MIMEMultipart物件\n",
    "        content[\"subject\"] = subject  # 郵件標題\n",
    "        content[\"from\"] = from_addr  # 寄件者\n",
    "        to_addr[0] = filename.split('.')[0] + to_domain  # 收件者 email\n",
    "        content[\"to\"] = to_addr[0]  # 收件者\n",
    "\n",
    "        content.attach(MIMEText(htmlcontent, 'html'))\n",
    "\n",
    "        try:\n",
    "            with open(attachePath+filename, 'rb') as fp:\n",
    "                print('讀取 filename=', fp.name)\n",
    "                msg = MIMEBase('application', \"octet-stream\")\n",
    "                msg.set_payload(fp.read())\n",
    "\n",
    "            encoders.encode_base64(msg)\n",
    "            msg.add_header('Content-Disposition', 'attachment',\n",
    "                           filename=os.path.basename(filename))\n",
    "            content.attach(msg)\n",
    "\n",
    "        except:\n",
    "            print(\"Unable to open one of the attachments. Error: \",\n",
    "                  sys.exc_info()[0])\n",
    "            raise\n",
    "\n",
    "        # 寄送EMAIL\n",
    "        smtpssl = smtplib.SMTP_SSL(\"smtp.gmail.com\", 465)\n",
    "        smtpssl.login(from_addr, app_passwd)\n",
    "        print('sendmail from', from_addr, 'to', to_addr, end=\"\")\n",
    "        status = smtpssl.sendmail(from_addr, to_addr, content.as_string())\n",
    "        smtpssl.quit()\n",
    "        if status == {}:\n",
    "            print(' --- 郵件傳送成功!')\n",
    "        else:\n",
    "            print(' --- 失敗', status)\n",
    "\n",
    "\n",
    "if __name__ == '__main__':\n",
    "    main()\n"
   ]
  },
  {
   "cell_type": "markdown",
   "metadata": {},
   "source": [
    "### 參考文獻\n",
    "\n",
    "http://yhhuang1966.blogspot.com/2018/10/python-gmail.html\n"
   ]
  }
 ],
 "metadata": {
  "kernelspec": {
   "name": "python3",
   "display_name": "Python 3.6.9 64-bit",
   "metadata": {
    "interpreter": {
     "hash": "31f2aee4e71d21fbe5cf8b01ff0e069b9275f58929596ceb00d14d90e3e16cd6"
    }
   }
  },
  "language_info": {
   "codemirror_mode": {
    "name": "ipython",
    "version": 3
   },
   "file_extension": ".py",
   "mimetype": "text/x-python",
   "name": "python",
   "nbconvert_exporter": "python",
   "pygments_lexer": "ipython3",
   "version": "3.6.9-final"
  }
 },
 "nbformat": 4,
 "nbformat_minor": 2
}
{
 "cells": [
  {
   "cell_type": "markdown",
   "metadata": {},
   "source": [
    "## 要讓 Python 寄信，需先申請**應用程式密碼**\n",
    "\n",
    "## 要申請應用程式密碼，必須先開通二步驟認證。\n",
    "\n",
    "### 登入 Google 帳戶 --> Goolge 帳戶\n",
    "\n",
    "\n",
    "![GoogleLogin.PNG](images/GoogleLogin.PNG)\n",
    "\n",
    "![GoogleLogin2.PNG](images/GoogleLogin2.PNG)\n",
    "\n",
    "![GoogleLogin5.PNG](images/GoogleLogin5.PNG)\n",
    "\n",
    "\n",
    "### 自訂應用程式\n",
    "\n",
    "![GoogleLogin3.PNG](images/GoogleLogin3.PNG)\n",
    "\n",
    "![GoogleLogin4.PNG](images/GoogleLogin4.PNG)\n"
   ]
  },
  {
   "cell_type": "markdown",
   "metadata": {},
   "source": [
    "# 跟郵件伺服器打招呼"
   ]
  },
  {
   "cell_type": "code",
   "execution_count": 5,
   "metadata": {},
   "outputs": [
    {
     "data": {
      "text/plain": [
       "(451, b'4.4.2 Timeout - closing connection. q12sm68473960pfh.158 - gsmtp')"
      ]
     },
     "execution_count": 5,
     "metadata": {},
     "output_type": "execute_result"
    }
   ],
   "source": [
    "import smtplib  \n",
    "smtpssl=smtplib.SMTP_SSL(\"smtp.gmail.com\", 465) \n",
    "smtp.ehlo()"
   ]
  },
  {
   "cell_type": "markdown",
   "metadata": {},
   "source": [
    "# 嘗試用帳號密碼登入 -- 用密碼登入會失敗"
   ]
  },
  {
   "cell_type": "code",
   "execution_count": 4,
   "metadata": {},
   "outputs": [
    {
     "ename": "SMTPAuthenticationError",
     "evalue": "(535, b'5.7.8 Username and Password not accepted. Learn more at\\n5.7.8  https://support.google.com/mail/?p=BadCredentials z30sm71614044pfq.154 - gsmtp')",
     "output_type": "error",
     "traceback": [
      "\u001b[1;31m---------------------------------------------------------------------------\u001b[0m",
      "\u001b[1;31mSMTPAuthenticationError\u001b[0m                   Traceback (most recent call last)",
      "\u001b[1;32m<ipython-input-4-028811a21b98>\u001b[0m in \u001b[0;36m<module>\u001b[1;34m()\u001b[0m\n\u001b[0;32m      1\u001b[0m \u001b[1;32mimport\u001b[0m \u001b[0msmtplib\u001b[0m\u001b[1;33m\u001b[0m\u001b[0m\n\u001b[0;32m      2\u001b[0m \u001b[0msmtpssl\u001b[0m\u001b[1;33m=\u001b[0m\u001b[0msmtplib\u001b[0m\u001b[1;33m.\u001b[0m\u001b[0mSMTP_SSL\u001b[0m\u001b[1;33m(\u001b[0m\u001b[1;34m\"smtp.gmail.com\"\u001b[0m\u001b[1;33m,\u001b[0m \u001b[1;36m465\u001b[0m\u001b[1;33m)\u001b[0m\u001b[1;33m\u001b[0m\u001b[0m\n\u001b[1;32m----> 3\u001b[1;33m \u001b[0msmtpssl\u001b[0m\u001b[1;33m.\u001b[0m\u001b[0mlogin\u001b[0m\u001b[1;33m(\u001b[0m\u001b[1;34m\"mailtest1458@gmail.com\"\u001b[0m\u001b[1;33m,\u001b[0m \u001b[1;34m\"xxxxxxxx\"\u001b[0m\u001b[1;33m)\u001b[0m\u001b[1;33m\u001b[0m\u001b[0m\n\u001b[0m",
      "\u001b[1;32m~\\Anaconda3\\lib\\smtplib.py\u001b[0m in \u001b[0;36mlogin\u001b[1;34m(self, user, password, initial_response_ok)\u001b[0m\n\u001b[0;32m    728\u001b[0m \u001b[1;33m\u001b[0m\u001b[0m\n\u001b[0;32m    729\u001b[0m         \u001b[1;31m# We could not login successfully.  Return result of last attempt.\u001b[0m\u001b[1;33m\u001b[0m\u001b[1;33m\u001b[0m\u001b[0m\n\u001b[1;32m--> 730\u001b[1;33m         \u001b[1;32mraise\u001b[0m \u001b[0mlast_exception\u001b[0m\u001b[1;33m\u001b[0m\u001b[0m\n\u001b[0m\u001b[0;32m    731\u001b[0m \u001b[1;33m\u001b[0m\u001b[0m\n\u001b[0;32m    732\u001b[0m     \u001b[1;32mdef\u001b[0m \u001b[0mstarttls\u001b[0m\u001b[1;33m(\u001b[0m\u001b[0mself\u001b[0m\u001b[1;33m,\u001b[0m \u001b[0mkeyfile\u001b[0m\u001b[1;33m=\u001b[0m\u001b[1;32mNone\u001b[0m\u001b[1;33m,\u001b[0m \u001b[0mcertfile\u001b[0m\u001b[1;33m=\u001b[0m\u001b[1;32mNone\u001b[0m\u001b[1;33m,\u001b[0m \u001b[0mcontext\u001b[0m\u001b[1;33m=\u001b[0m\u001b[1;32mNone\u001b[0m\u001b[1;33m)\u001b[0m\u001b[1;33m:\u001b[0m\u001b[1;33m\u001b[0m\u001b[0m\n",
      "\u001b[1;32m~\\Anaconda3\\lib\\smtplib.py\u001b[0m in \u001b[0;36mlogin\u001b[1;34m(self, user, password, initial_response_ok)\u001b[0m\n\u001b[0;32m    719\u001b[0m                 (code, resp) = self.auth(\n\u001b[0;32m    720\u001b[0m                     \u001b[0mauthmethod\u001b[0m\u001b[1;33m,\u001b[0m \u001b[0mgetattr\u001b[0m\u001b[1;33m(\u001b[0m\u001b[0mself\u001b[0m\u001b[1;33m,\u001b[0m \u001b[0mmethod_name\u001b[0m\u001b[1;33m)\u001b[0m\u001b[1;33m,\u001b[0m\u001b[1;33m\u001b[0m\u001b[0m\n\u001b[1;32m--> 721\u001b[1;33m                     initial_response_ok=initial_response_ok)\n\u001b[0m\u001b[0;32m    722\u001b[0m                 \u001b[1;31m# 235 == 'Authentication successful'\u001b[0m\u001b[1;33m\u001b[0m\u001b[1;33m\u001b[0m\u001b[0m\n\u001b[0;32m    723\u001b[0m                 \u001b[1;31m# 503 == 'Error: already authenticated'\u001b[0m\u001b[1;33m\u001b[0m\u001b[1;33m\u001b[0m\u001b[0m\n",
      "\u001b[1;32m~\\Anaconda3\\lib\\smtplib.py\u001b[0m in \u001b[0;36mauth\u001b[1;34m(self, mechanism, authobject, initial_response_ok)\u001b[0m\n\u001b[0;32m    640\u001b[0m         \u001b[1;32mif\u001b[0m \u001b[0mcode\u001b[0m \u001b[1;32min\u001b[0m \u001b[1;33m(\u001b[0m\u001b[1;36m235\u001b[0m\u001b[1;33m,\u001b[0m \u001b[1;36m503\u001b[0m\u001b[1;33m)\u001b[0m\u001b[1;33m:\u001b[0m\u001b[1;33m\u001b[0m\u001b[0m\n\u001b[0;32m    641\u001b[0m             \u001b[1;32mreturn\u001b[0m \u001b[1;33m(\u001b[0m\u001b[0mcode\u001b[0m\u001b[1;33m,\u001b[0m \u001b[0mresp\u001b[0m\u001b[1;33m)\u001b[0m\u001b[1;33m\u001b[0m\u001b[0m\n\u001b[1;32m--> 642\u001b[1;33m         \u001b[1;32mraise\u001b[0m \u001b[0mSMTPAuthenticationError\u001b[0m\u001b[1;33m(\u001b[0m\u001b[0mcode\u001b[0m\u001b[1;33m,\u001b[0m \u001b[0mresp\u001b[0m\u001b[1;33m)\u001b[0m\u001b[1;33m\u001b[0m\u001b[0m\n\u001b[0m\u001b[0;32m    643\u001b[0m \u001b[1;33m\u001b[0m\u001b[0m\n\u001b[0;32m    644\u001b[0m     \u001b[1;32mdef\u001b[0m \u001b[0mauth_cram_md5\u001b[0m\u001b[1;33m(\u001b[0m\u001b[0mself\u001b[0m\u001b[1;33m,\u001b[0m \u001b[0mchallenge\u001b[0m\u001b[1;33m=\u001b[0m\u001b[1;32mNone\u001b[0m\u001b[1;33m)\u001b[0m\u001b[1;33m:\u001b[0m\u001b[1;33m\u001b[0m\u001b[0m\n",
      "\u001b[1;31mSMTPAuthenticationError\u001b[0m: (535, b'5.7.8 Username and Password not accepted. Learn more at\\n5.7.8  https://support.google.com/mail/?p=BadCredentials z30sm71614044pfq.154 - gsmtp')"
     ]
    }
   ],
   "source": [
    "import smtplib \n",
    "smtpssl=smtplib.SMTP_SSL(\"smtp.gmail.com\", 465) \n",
    "smtpssl.login(\"mailtest1458@gmail.com\", \"xxxxxxxx\")"
   ]
  },
  {
   "cell_type": "markdown",
   "metadata": {},
   "source": [
    "# oops! 出錯了!\n",
    "\n",
    "### 必須進入 Google 帳號管理為應用程式產生特別的密碼才行\n",
    "\n",
    "但要注意! 帳戶要先設定兩階段驗證後才會出現 應用程式密碼。\n",
    "\n",
    "在彈出頁面中顯示了一組應用程式專用密碼, 須立即複製到記事本中儲存, 因為只要關閉此頁面便無法查出此密碼, 只能刪除再重新產生 :\n",
    "\n",
    "    wbpwiranswgebhvq\n"
   ]
  },
  {
   "cell_type": "markdown",
   "metadata": {},
   "source": [
    "# 嘗試用「應用程式密碼」登入伺服器\n",
    "![GoogleLogin4.PNG](images/GoogleLogin4.PNG)\n"
   ]
  },
  {
   "cell_type": "code",
   "execution_count": 1,
   "metadata": {},
   "outputs": [
    {
     "data": {
      "text/plain": [
       "(235, b'2.7.0 Accepted')"
      ]
     },
     "execution_count": 1,
     "metadata": {},
     "output_type": "execute_result"
    }
   ],
   "source": [
    "import smtplib \n",
    "smtpssl=smtplib.SMTP_SSL(\"smtp.gmail.com\", 465) \n",
    "smtpssl.login(\"mailtest1458@gmail.com\", \"wbpwiranswgebhvq\")"
   ]
  },
  {
   "cell_type": "markdown",
   "metadata": {},
   "source": [
    "# 寄一封信試試看"
   ]
  },
  {
   "cell_type": "code",
   "execution_count": 2,
   "metadata": {},
   "outputs": [
    {
     "data": {
      "text/plain": [
       "(221, b'2.0.0 closing connection b14sm9903339pfi.92 - gsmtp')"
      ]
     },
     "execution_count": 2,
     "metadata": {},
     "output_type": "execute_result"
    }
   ],
   "source": [
    "import smtplib \n",
    "smtpssl=smtplib.SMTP_SSL(\"smtp.gmail.com\", 465) \n",
    "smtpssl.login(\"mailtest1458@gmail.com\", \"wbpwiranswgebhvq\")\n",
    "from_addr = 'mailtest1458@gmail.com'\n",
    "to_addr = 'jiangsir@tea.nknush.kh.edu.tw'\n",
    "msg = 'Subject:Python Test mail!!!\\n'\n",
    "msg += 'test mail content'\n",
    "smtpssl.sendmail(from_addr, to_addr, msg, mail_options=(), rcpt_options=())\n",
    "smtpssl.quit() "
   ]
  },
  {
   "cell_type": "markdown",
   "metadata": {},
   "source": [
    "# 寄送中文信件 -- 用 MIME 協定\n",
    "\n",
    "解決此問題的辦法是使用多用途郵件擴展協定 MIME (Multiplepurpose Internet Mail Extensions), "
   ]
  },
  {
   "cell_type": "code",
   "execution_count": 21,
   "metadata": {},
   "outputs": [
    {
     "data": {
      "text/plain": [
       "(221, b'2.0.0 closing connection s21sm38823568pfm.3 - gsmtp')"
      ]
     },
     "execution_count": 21,
     "metadata": {},
     "output_type": "execute_result"
    }
   ],
   "source": [
    "import smtplib \n",
    "from email.mime.text import MIMEText  \n",
    "\n",
    "smtpssl=smtplib.SMTP_SSL(\"smtp.gmail.com\", 465) \n",
    "smtpssl.login(\"mailtest1458@gmail.com\", \"wbpwiranswgebhvq\")\n",
    "msg = 'test mail 中文內容測試'\n",
    "mime=MIMEText(msg, \"plain\", \"utf-8\")  \n",
    "mime[\"Subject\"]=\"Python中文信件!!!(MIME)\"\n",
    "\n",
    "# 顯示的名稱\n",
    "mime[\"From\"]=\"我是誰?\"\n",
    "mime[\"To\"]=\"jiangsir@tea.nknush.kh.edu.tw\"\n",
    "\n",
    "# 寄件者，收件者\n",
    "from_addr = 'mailtest1458@gmail.com'\n",
    "to_addr = 'jiangsir@tea.nknush.kh.edu.tw'\n",
    "\n",
    "smtpssl.sendmail(from_addr, to_addr, mime.as_string())\n",
    "smtpssl.quit() "
   ]
  },
  {
   "cell_type": "markdown",
   "metadata": {},
   "source": [
    "# 傳送 HTML 信件 -- 使用 MIME 協定"
   ]
  },
  {
   "cell_type": "code",
   "execution_count": 3,
   "metadata": {},
   "outputs": [
    {
     "name": "stdout",
     "output_type": "stream",
     "text": [
      "郵件傳送成功!\n"
     ]
    },
    {
     "data": {
      "text/plain": [
       "(221, b'2.0.0 closing connection t24sm4190990pfe.110 - gsmtp')"
      ]
     },
     "execution_count": 3,
     "metadata": {},
     "output_type": "execute_result"
    }
   ],
   "source": [
    "import smtplib\n",
    "from email.mime.text import MIMEText\n",
    "\n",
    "html=\"\"\"\n",
    "<!doctype html>\n",
    "<html>\n",
    "<head>\n",
    "  <meta charset='utf-8'>\n",
    "  <title>HTML mail</title>\n",
    "</head>\n",
    "<body>\n",
    "  <b>HTML 郵件測試</b>\n",
    "</body>\n",
    "</html>\n",
    "\"\"\"\n",
    "mime=MIMEText(html, \"html\", \"utf-8\")\n",
    "mime[\"Subject\"]=\"寄送HTML 郵件(MIME)\"\n",
    "mime[\"From\"]=\"我是誰?\"\n",
    "mime[\"To\"]=\"你是誰?\"\n",
    "msg=mime.as_string()\n",
    "\n",
    "smtpssl=smtplib.SMTP_SSL(\"smtp.gmail.com\", 465) \n",
    "smtpssl.login(\"mailtest1458@gmail.com\", \"wbpwiranswgebhvq\")\n",
    "\n",
    "from_addr=\"mailtest1458@gmail.com\"\n",
    "to_addr=[\"jiangzero@gmail.com\"]\n",
    "status=smtpssl.sendmail(from_addr, to_addr, msg)\n",
    "if status=={}:\n",
    "    print(\"郵件傳送成功!\")\n",
    "else:\n",
    "    print(\"郵件傳送失敗!\")\n",
    "smtpssl.quit()"
   ]
  },
  {
   "cell_type": "markdown",
   "metadata": {},
   "source": [
    "### 參考文獻\n",
    "\n",
    "http://yhhuang1966.blogspot.com/2018/10/python-gmail.html\n"
   ]
  }
 ],
 "metadata": {
  "kernelspec": {
   "display_name": "Python 3",
   "language": "python",
   "name": "python3"
  },
  "language_info": {
   "codemirror_mode": {
    "name": "ipython",
    "version": 3
   },
   "file_extension": ".py",
   "mimetype": "text/x-python",
   "name": "python",
   "nbconvert_exporter": "python",
   "pygments_lexer": "ipython3",
   "version": "3.6.5"
  }
 },
 "nbformat": 4,
 "nbformat_minor": 2
}

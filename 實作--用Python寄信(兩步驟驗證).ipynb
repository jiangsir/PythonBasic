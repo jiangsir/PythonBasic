{
 "cells": [
  {
   "cell_type": "markdown",
   "metadata": {},
   "source": [
    "## 要讓 Python 寄信，需先申請**應用程式密碼**\n",
    "\n",
    "## 要申請應用程式密碼，必須先開通二步驟認證。\n",
    "\n",
    "### 登入 Google 帳戶 --> Goolge 帳戶\n",
    "\n",
    "\n",
    "![GoogleLogin.PNG](images/GoogleLogin.PNG)\n",
    "\n",
    "![GoogleLogin2.PNG](images/GoogleLogin2.PNG)\n",
    "\n",
    "![GoogleLogin5.PNG](images/GoogleLogin5.PNG)\n",
    "\n",
    "\n",
    "### 自訂應用程式\n",
    "\n",
    "![GoogleLogin3.PNG](images/GoogleLogin3.PNG)\n",
    "\n",
    "![GoogleLogin4.PNG](images/GoogleLogin4.PNG)\n"
   ]
  },
  {
   "cell_type": "markdown",
   "metadata": {},
   "source": [
    "# 跟郵件伺服器打招呼"
   ]
  },
  {
   "cell_type": "code",
   "execution_count": 5,
   "metadata": {},
   "outputs": [
    {
     "data": {
      "text/plain": [
       "(451, b'4.4.2 Timeout - closing connection. q12sm68473960pfh.158 - gsmtp')"
      ]
     },
     "execution_count": 5,
     "metadata": {},
     "output_type": "execute_result"
    }
   ],
   "source": [
    "import smtplib  \n",
    "smtpssl=smtplib.SMTP_SSL(\"smtp.gmail.com\", 465) \n",
    "smtp.ehlo()"
   ]
  },
  {
   "cell_type": "markdown",
   "metadata": {},
   "source": [
    "# 嘗試用帳號密碼登入 -- 用密碼登入會失敗"
   ]
  },
  {
   "cell_type": "code",
   "execution_count": 4,
   "metadata": {},
   "outputs": [
    {
     "ename": "SMTPAuthenticationError",
     "evalue": "(535, b'5.7.8 Username and Password not accepted. Learn more at\\n5.7.8  https://support.google.com/mail/?p=BadCredentials z30sm71614044pfq.154 - gsmtp')",
     "output_type": "error",
     "traceback": [
      "\u001b[1;31m---------------------------------------------------------------------------\u001b[0m",
      "\u001b[1;31mSMTPAuthenticationError\u001b[0m                   Traceback (most recent call last)",
      "\u001b[1;32m<ipython-input-4-028811a21b98>\u001b[0m in \u001b[0;36m<module>\u001b[1;34m()\u001b[0m\n\u001b[0;32m      1\u001b[0m \u001b[1;32mimport\u001b[0m \u001b[0msmtplib\u001b[0m\u001b[1;33m\u001b[0m\u001b[0m\n\u001b[0;32m      2\u001b[0m \u001b[0msmtpssl\u001b[0m\u001b[1;33m=\u001b[0m\u001b[0msmtplib\u001b[0m\u001b[1;33m.\u001b[0m\u001b[0mSMTP_SSL\u001b[0m\u001b[1;33m(\u001b[0m\u001b[1;34m\"smtp.gmail.com\"\u001b[0m\u001b[1;33m,\u001b[0m \u001b[1;36m465\u001b[0m\u001b[1;33m)\u001b[0m\u001b[1;33m\u001b[0m\u001b[0m\n\u001b[1;32m----> 3\u001b[1;33m \u001b[0msmtpssl\u001b[0m\u001b[1;33m.\u001b[0m\u001b[0mlogin\u001b[0m\u001b[1;33m(\u001b[0m\u001b[1;34m\"mailtest1458@gmail.com\"\u001b[0m\u001b[1;33m,\u001b[0m \u001b[1;34m\"xxxxxxxx\"\u001b[0m\u001b[1;33m)\u001b[0m\u001b[1;33m\u001b[0m\u001b[0m\n\u001b[0m",
      "\u001b[1;32m~\\Anaconda3\\lib\\smtplib.py\u001b[0m in \u001b[0;36mlogin\u001b[1;34m(self, user, password, initial_response_ok)\u001b[0m\n\u001b[0;32m    728\u001b[0m \u001b[1;33m\u001b[0m\u001b[0m\n\u001b[0;32m    729\u001b[0m         \u001b[1;31m# We could not login successfully.  Return result of last attempt.\u001b[0m\u001b[1;33m\u001b[0m\u001b[1;33m\u001b[0m\u001b[0m\n\u001b[1;32m--> 730\u001b[1;33m         \u001b[1;32mraise\u001b[0m \u001b[0mlast_exception\u001b[0m\u001b[1;33m\u001b[0m\u001b[0m\n\u001b[0m\u001b[0;32m    731\u001b[0m \u001b[1;33m\u001b[0m\u001b[0m\n\u001b[0;32m    732\u001b[0m     \u001b[1;32mdef\u001b[0m \u001b[0mstarttls\u001b[0m\u001b[1;33m(\u001b[0m\u001b[0mself\u001b[0m\u001b[1;33m,\u001b[0m \u001b[0mkeyfile\u001b[0m\u001b[1;33m=\u001b[0m\u001b[1;32mNone\u001b[0m\u001b[1;33m,\u001b[0m \u001b[0mcertfile\u001b[0m\u001b[1;33m=\u001b[0m\u001b[1;32mNone\u001b[0m\u001b[1;33m,\u001b[0m \u001b[0mcontext\u001b[0m\u001b[1;33m=\u001b[0m\u001b[1;32mNone\u001b[0m\u001b[1;33m)\u001b[0m\u001b[1;33m:\u001b[0m\u001b[1;33m\u001b[0m\u001b[0m\n",
      "\u001b[1;32m~\\Anaconda3\\lib\\smtplib.py\u001b[0m in \u001b[0;36mlogin\u001b[1;34m(self, user, password, initial_response_ok)\u001b[0m\n\u001b[0;32m    719\u001b[0m                 (code, resp) = self.auth(\n\u001b[0;32m    720\u001b[0m                     \u001b[0mauthmethod\u001b[0m\u001b[1;33m,\u001b[0m \u001b[0mgetattr\u001b[0m\u001b[1;33m(\u001b[0m\u001b[0mself\u001b[0m\u001b[1;33m,\u001b[0m \u001b[0mmethod_name\u001b[0m\u001b[1;33m)\u001b[0m\u001b[1;33m,\u001b[0m\u001b[1;33m\u001b[0m\u001b[0m\n\u001b[1;32m--> 721\u001b[1;33m                     initial_response_ok=initial_response_ok)\n\u001b[0m\u001b[0;32m    722\u001b[0m                 \u001b[1;31m# 235 == 'Authentication successful'\u001b[0m\u001b[1;33m\u001b[0m\u001b[1;33m\u001b[0m\u001b[0m\n\u001b[0;32m    723\u001b[0m                 \u001b[1;31m# 503 == 'Error: already authenticated'\u001b[0m\u001b[1;33m\u001b[0m\u001b[1;33m\u001b[0m\u001b[0m\n",
      "\u001b[1;32m~\\Anaconda3\\lib\\smtplib.py\u001b[0m in \u001b[0;36mauth\u001b[1;34m(self, mechanism, authobject, initial_response_ok)\u001b[0m\n\u001b[0;32m    640\u001b[0m         \u001b[1;32mif\u001b[0m \u001b[0mcode\u001b[0m \u001b[1;32min\u001b[0m \u001b[1;33m(\u001b[0m\u001b[1;36m235\u001b[0m\u001b[1;33m,\u001b[0m \u001b[1;36m503\u001b[0m\u001b[1;33m)\u001b[0m\u001b[1;33m:\u001b[0m\u001b[1;33m\u001b[0m\u001b[0m\n\u001b[0;32m    641\u001b[0m             \u001b[1;32mreturn\u001b[0m \u001b[1;33m(\u001b[0m\u001b[0mcode\u001b[0m\u001b[1;33m,\u001b[0m \u001b[0mresp\u001b[0m\u001b[1;33m)\u001b[0m\u001b[1;33m\u001b[0m\u001b[0m\n\u001b[1;32m--> 642\u001b[1;33m         \u001b[1;32mraise\u001b[0m \u001b[0mSMTPAuthenticationError\u001b[0m\u001b[1;33m(\u001b[0m\u001b[0mcode\u001b[0m\u001b[1;33m,\u001b[0m \u001b[0mresp\u001b[0m\u001b[1;33m)\u001b[0m\u001b[1;33m\u001b[0m\u001b[0m\n\u001b[0m\u001b[0;32m    643\u001b[0m \u001b[1;33m\u001b[0m\u001b[0m\n\u001b[0;32m    644\u001b[0m     \u001b[1;32mdef\u001b[0m \u001b[0mauth_cram_md5\u001b[0m\u001b[1;33m(\u001b[0m\u001b[0mself\u001b[0m\u001b[1;33m,\u001b[0m \u001b[0mchallenge\u001b[0m\u001b[1;33m=\u001b[0m\u001b[1;32mNone\u001b[0m\u001b[1;33m)\u001b[0m\u001b[1;33m:\u001b[0m\u001b[1;33m\u001b[0m\u001b[0m\n",
      "\u001b[1;31mSMTPAuthenticationError\u001b[0m: (535, b'5.7.8 Username and Password not accepted. Learn more at\\n5.7.8  https://support.google.com/mail/?p=BadCredentials z30sm71614044pfq.154 - gsmtp')"
     ]
    }
   ],
   "source": [
    "import smtplib \n",
    "smtpssl=smtplib.SMTP_SSL(\"smtp.gmail.com\", 465) \n",
    "smtpssl.login(\"mailtest1458@gmail.com\", \"xxxxxxxx\")"
   ]
  },
  {
   "cell_type": "markdown",
   "metadata": {},
   "source": [
    "# oops! 出錯了!\n",
    "\n",
    "### 必須進入 Google 帳號管理為應用程式產生特別的密碼才行\n",
    "\n",
    "但要注意! 帳戶要先設定兩階段驗證後才會出現 應用程式密碼。\n",
    "\n",
    "在彈出頁面中顯示了一組應用程式專用密碼, 須立即複製到記事本中儲存, 因為只要關閉此頁面便無法查出此密碼, 只能刪除再重新產生 :\n",
    "\n",
    "    wbpwiranswgebhvq\n"
   ]
  },
  {
   "cell_type": "markdown",
   "metadata": {},
   "source": [
    "# 嘗試用「應用程式密碼」登入伺服器\n",
    "![GoogleLogin4.PNG](images/GoogleLogin4.PNG)\n"
   ]
  },
  {
   "cell_type": "code",
   "execution_count": 1,
   "metadata": {},
   "outputs": [
    {
     "data": {
      "text/plain": [
       "(235, b'2.7.0 Accepted')"
      ]
     },
     "execution_count": 1,
     "metadata": {},
     "output_type": "execute_result"
    }
   ],
   "source": [
    "import smtplib \n",
    "smtpssl=smtplib.SMTP_SSL(\"smtp.gmail.com\", 465) \n",
    "smtpssl.login(\"mailtest1458@gmail.com\", \"wbpwiranswgebhvq\")"
   ]
  },
  {
   "cell_type": "markdown",
   "metadata": {},
   "source": [
    "# 寄一封信試試看"
   ]
  },
  {
   "cell_type": "code",
   "execution_count": 2,
   "metadata": {},
   "outputs": [
    {
     "data": {
      "text/plain": [
       "(221, b'2.0.0 closing connection b14sm9903339pfi.92 - gsmtp')"
      ]
     },
     "execution_count": 2,
     "metadata": {},
     "output_type": "execute_result"
    }
   ],
   "source": [
    "import smtplib \n",
    "smtpssl=smtplib.SMTP_SSL(\"smtp.gmail.com\", 465) \n",
    "smtpssl.login(\"mailtest1458@gmail.com\", \"wbpwiranswgebhvq\")\n",
    "from_addr = 'mailtest1458@gmail.com'\n",
    "to_addr = 'jiangsir@tea.nknush.kh.edu.tw'\n",
    "msg = 'Subject:Python Test mail!!!\\n'\n",
    "msg += 'test mail content'\n",
    "smtpssl.sendmail(from_addr, to_addr, msg, mail_options=(), rcpt_options=())\n",
    "smtpssl.quit() "
   ]
  },
  {
   "cell_type": "markdown",
   "metadata": {},
   "source": [
    "# 寄送中文信件 -- 用 MIME 協定\n",
    "\n",
    "解決此問題的辦法是使用多用途郵件擴展協定 MIME (Multiplepurpose Internet Mail Extensions), "
   ]
  },
  {
   "cell_type": "code",
   "execution_count": 21,
   "metadata": {},
   "outputs": [
    {
     "data": {
      "text/plain": [
       "(221, b'2.0.0 closing connection s21sm38823568pfm.3 - gsmtp')"
      ]
     },
     "execution_count": 21,
     "metadata": {},
     "output_type": "execute_result"
    }
   ],
   "source": [
    "import smtplib \n",
    "from email.mime.text import MIMEText  \n",
    "\n",
    "smtpssl=smtplib.SMTP_SSL(\"smtp.gmail.com\", 465) \n",
    "smtpssl.login(\"mailtest1458@gmail.com\", \"wbpwiranswgebhvq\")\n",
    "msg = 'test mail 中文內容測試'\n",
    "mime=MIMEText(msg, \"plain\", \"utf-8\")  \n",
    "mime[\"Subject\"]=\"Python中文信件!!!(MIME)\"\n",
    "\n",
    "# 顯示的名稱\n",
    "mime[\"From\"]=\"我是誰?\"\n",
    "mime[\"To\"]=\"jiangsir@tea.nknush.kh.edu.tw\"\n",
    "\n",
    "# 寄件者，收件者\n",
    "from_addr = 'mailtest1458@gmail.com'\n",
    "to_addr = 'jiangsir@tea.nknush.kh.edu.tw'\n",
    "\n",
    "smtpssl.sendmail(from_addr, to_addr, mime.as_string())\n",
    "smtpssl.quit() "
   ]
  },
  {
   "cell_type": "markdown",
   "metadata": {},
   "source": [
    "# 傳送 HTML 信件 -- 使用 MIME 協定"
   ]
  },
  {
   "cell_type": "code",
   "execution_count": 3,
   "metadata": {},
   "outputs": [
    {
     "output_type": "error",
     "ename": "SMTPAuthenticationError",
     "evalue": "(535, b'5.7.8 Username and Password not accepted. Learn more at\\n5.7.8  https://support.google.com/mail/?p=BadCredentials a31sm44474857pgb.93 - gsmtp')",
     "traceback": [
      "\u001b[1;31m---------------------------------------------------------------------------\u001b[0m",
      "\u001b[1;31mSMTPAuthenticationError\u001b[0m                   Traceback (most recent call last)",
      "\u001b[1;32m<ipython-input-3-65e51d468113>\u001b[0m in \u001b[0;36m<module>\u001b[1;34m()\u001b[0m\n\u001b[0;32m     21\u001b[0m \u001b[1;33m\u001b[0m\u001b[0m\n\u001b[0;32m     22\u001b[0m \u001b[0msmtpssl\u001b[0m\u001b[1;33m=\u001b[0m\u001b[0msmtplib\u001b[0m\u001b[1;33m.\u001b[0m\u001b[0mSMTP_SSL\u001b[0m\u001b[1;33m(\u001b[0m\u001b[1;34m\"smtp.gmail.com\"\u001b[0m\u001b[1;33m,\u001b[0m \u001b[1;36m465\u001b[0m\u001b[1;33m)\u001b[0m\u001b[1;33m\u001b[0m\u001b[0m\n\u001b[1;32m---> 23\u001b[1;33m \u001b[0msmtpssl\u001b[0m\u001b[1;33m.\u001b[0m\u001b[0mlogin\u001b[0m\u001b[1;33m(\u001b[0m\u001b[1;34m\"mailtest1458@gmail.com\"\u001b[0m\u001b[1;33m,\u001b[0m \u001b[1;34m\"wbpwiranswgebhvq\"\u001b[0m\u001b[1;33m)\u001b[0m\u001b[1;33m\u001b[0m\u001b[0m\n\u001b[0m\u001b[0;32m     24\u001b[0m \u001b[1;33m\u001b[0m\u001b[0m\n\u001b[0;32m     25\u001b[0m \u001b[0mfrom_addr\u001b[0m\u001b[1;33m=\u001b[0m\u001b[1;34m\"mailtest1458@gmail.com\"\u001b[0m\u001b[1;33m\u001b[0m\u001b[0m\n",
      "\u001b[1;32m~\\Anaconda3\\lib\\smtplib.py\u001b[0m in \u001b[0;36mlogin\u001b[1;34m(self, user, password, initial_response_ok)\u001b[0m\n\u001b[0;32m    728\u001b[0m \u001b[1;33m\u001b[0m\u001b[0m\n\u001b[0;32m    729\u001b[0m         \u001b[1;31m# We could not login successfully.  Return result of last attempt.\u001b[0m\u001b[1;33m\u001b[0m\u001b[1;33m\u001b[0m\u001b[0m\n\u001b[1;32m--> 730\u001b[1;33m         \u001b[1;32mraise\u001b[0m \u001b[0mlast_exception\u001b[0m\u001b[1;33m\u001b[0m\u001b[0m\n\u001b[0m\u001b[0;32m    731\u001b[0m \u001b[1;33m\u001b[0m\u001b[0m\n\u001b[0;32m    732\u001b[0m     \u001b[1;32mdef\u001b[0m \u001b[0mstarttls\u001b[0m\u001b[1;33m(\u001b[0m\u001b[0mself\u001b[0m\u001b[1;33m,\u001b[0m \u001b[0mkeyfile\u001b[0m\u001b[1;33m=\u001b[0m\u001b[1;32mNone\u001b[0m\u001b[1;33m,\u001b[0m \u001b[0mcertfile\u001b[0m\u001b[1;33m=\u001b[0m\u001b[1;32mNone\u001b[0m\u001b[1;33m,\u001b[0m \u001b[0mcontext\u001b[0m\u001b[1;33m=\u001b[0m\u001b[1;32mNone\u001b[0m\u001b[1;33m)\u001b[0m\u001b[1;33m:\u001b[0m\u001b[1;33m\u001b[0m\u001b[0m\n",
      "\u001b[1;32m~\\Anaconda3\\lib\\smtplib.py\u001b[0m in \u001b[0;36mlogin\u001b[1;34m(self, user, password, initial_response_ok)\u001b[0m\n\u001b[0;32m    719\u001b[0m                 (code, resp) = self.auth(\n\u001b[0;32m    720\u001b[0m                     \u001b[0mauthmethod\u001b[0m\u001b[1;33m,\u001b[0m \u001b[0mgetattr\u001b[0m\u001b[1;33m(\u001b[0m\u001b[0mself\u001b[0m\u001b[1;33m,\u001b[0m \u001b[0mmethod_name\u001b[0m\u001b[1;33m)\u001b[0m\u001b[1;33m,\u001b[0m\u001b[1;33m\u001b[0m\u001b[0m\n\u001b[1;32m--> 721\u001b[1;33m                     initial_response_ok=initial_response_ok)\n\u001b[0m\u001b[0;32m    722\u001b[0m                 \u001b[1;31m# 235 == 'Authentication successful'\u001b[0m\u001b[1;33m\u001b[0m\u001b[1;33m\u001b[0m\u001b[0m\n\u001b[0;32m    723\u001b[0m                 \u001b[1;31m# 503 == 'Error: already authenticated'\u001b[0m\u001b[1;33m\u001b[0m\u001b[1;33m\u001b[0m\u001b[0m\n",
      "\u001b[1;32m~\\Anaconda3\\lib\\smtplib.py\u001b[0m in \u001b[0;36mauth\u001b[1;34m(self, mechanism, authobject, initial_response_ok)\u001b[0m\n\u001b[0;32m    640\u001b[0m         \u001b[1;32mif\u001b[0m \u001b[0mcode\u001b[0m \u001b[1;32min\u001b[0m \u001b[1;33m(\u001b[0m\u001b[1;36m235\u001b[0m\u001b[1;33m,\u001b[0m \u001b[1;36m503\u001b[0m\u001b[1;33m)\u001b[0m\u001b[1;33m:\u001b[0m\u001b[1;33m\u001b[0m\u001b[0m\n\u001b[0;32m    641\u001b[0m             \u001b[1;32mreturn\u001b[0m \u001b[1;33m(\u001b[0m\u001b[0mcode\u001b[0m\u001b[1;33m,\u001b[0m \u001b[0mresp\u001b[0m\u001b[1;33m)\u001b[0m\u001b[1;33m\u001b[0m\u001b[0m\n\u001b[1;32m--> 642\u001b[1;33m         \u001b[1;32mraise\u001b[0m \u001b[0mSMTPAuthenticationError\u001b[0m\u001b[1;33m(\u001b[0m\u001b[0mcode\u001b[0m\u001b[1;33m,\u001b[0m \u001b[0mresp\u001b[0m\u001b[1;33m)\u001b[0m\u001b[1;33m\u001b[0m\u001b[0m\n\u001b[0m\u001b[0;32m    643\u001b[0m \u001b[1;33m\u001b[0m\u001b[0m\n\u001b[0;32m    644\u001b[0m     \u001b[1;32mdef\u001b[0m \u001b[0mauth_cram_md5\u001b[0m\u001b[1;33m(\u001b[0m\u001b[0mself\u001b[0m\u001b[1;33m,\u001b[0m \u001b[0mchallenge\u001b[0m\u001b[1;33m=\u001b[0m\u001b[1;32mNone\u001b[0m\u001b[1;33m)\u001b[0m\u001b[1;33m:\u001b[0m\u001b[1;33m\u001b[0m\u001b[0m\n",
      "\u001b[1;31mSMTPAuthenticationError\u001b[0m: (535, b'5.7.8 Username and Password not accepted. Learn more at\\n5.7.8  https://support.google.com/mail/?p=BadCredentials a31sm44474857pgb.93 - gsmtp')"
     ]
    }
   ],
   "source": [
    "import smtplib\n",
    "from email.mime.text import MIMEText\n",
    "\n",
    "html=\"\"\"\n",
    "<!doctype html>\n",
    "<html>\n",
    "<head>\n",
    "  <meta charset='utf-8'>\n",
    "  <title>HTML mail</title>\n",
    "</head>\n",
    "<body>\n",
    "  <b>HTML 郵件測試</b>\n",
    "</body>\n",
    "</html>\n",
    "\"\"\"\n",
    "mime=MIMEText(html, \"html\", \"utf-8\")\n",
    "mime[\"Subject\"]=\"寄送HTML 郵件(MIME)\"\n",
    "mime[\"From\"]=\"我是誰?\"\n",
    "mime[\"To\"]=\"你是誰?\"\n",
    "msg=mime.as_string()\n",
    "\n",
    "smtpssl=smtplib.SMTP_SSL(\"smtp.gmail.com\", 465) \n",
    "smtpssl.login(\"mailtest1458@gmail.com\", \"wbpwiranswgebhvq\")\n",
    "\n",
    "from_addr=\"mailtest1458@gmail.com\"\n",
    "to_addr=[\"jiangzero@gmail.com\"]\n",
    "status=smtpssl.sendmail(from_addr, to_addr, msg)\n",
    "if status=={}:\n",
    "    print(\"郵件傳送成功!\")\n",
    "else:\n",
    "    print(\"郵件傳送失敗!\")\n",
    "smtpssl.quit()"
   ]
  },
  {
   "source": [
    "## 郵寄附件"
   ],
   "cell_type": "markdown",
   "metadata": {}
  },
  {
   "cell_type": "code",
   "execution_count": 7,
   "metadata": {
    "tags": []
   },
   "outputs": [
    {
     "output_type": "stream",
     "name": "stdout",
     "text": [
      "can read faile filename= 810276.pdf fp= <_io.BufferedReader name='C:\\\\Users\\\\user\\\\Downloads\\\\109Bebras成績證明\\\\810276.pdf'>\n",
      "sendmail from mailer@zerojudge.tw to ['810276@stu.nknush.kh.edu.tw'] --- 郵件傳送成功!\n",
      "can read faile filename= 810277.pdf fp= <_io.BufferedReader name='C:\\\\Users\\\\user\\\\Downloads\\\\109Bebras成績證明\\\\810277.pdf'>\n",
      "sendmail from mailer@zerojudge.tw to ['810277@stu.nknush.kh.edu.tw'] --- 郵件傳送成功!\n",
      "can read faile filename= 810278.pdf fp= <_io.BufferedReader name='C:\\\\Users\\\\user\\\\Downloads\\\\109Bebras成績證明\\\\810278.pdf'>\n",
      "sendmail from mailer@zerojudge.tw to ['810278@stu.nknush.kh.edu.tw'] --- 郵件傳送成功!\n",
      "can read faile filename= 810279.pdf fp= <_io.BufferedReader name='C:\\\\Users\\\\user\\\\Downloads\\\\109Bebras成績證明\\\\810279.pdf'>\n",
      "sendmail from mailer@zerojudge.tw to ['810279@stu.nknush.kh.edu.tw'] --- 郵件傳送成功!\n",
      "can read faile filename= 810280.pdf fp= <_io.BufferedReader name='C:\\\\Users\\\\user\\\\Downloads\\\\109Bebras成績證明\\\\810280.pdf'>\n",
      "sendmail from mailer@zerojudge.tw to ['810280@stu.nknush.kh.edu.tw'] --- 郵件傳送成功!\n",
      "can read faile filename= 810281.pdf fp= <_io.BufferedReader name='C:\\\\Users\\\\user\\\\Downloads\\\\109Bebras成績證明\\\\810281.pdf'>\n",
      "sendmail from mailer@zerojudge.tw to ['810281@stu.nknush.kh.edu.tw'] --- 郵件傳送成功!\n",
      "can read faile filename= 810282.pdf fp= <_io.BufferedReader name='C:\\\\Users\\\\user\\\\Downloads\\\\109Bebras成績證明\\\\810282.pdf'>\n",
      "sendmail from mailer@zerojudge.tw to ['810282@stu.nknush.kh.edu.tw'] --- 郵件傳送成功!\n",
      "can read faile filename= 810283.pdf fp= <_io.BufferedReader name='C:\\\\Users\\\\user\\\\Downloads\\\\109Bebras成績證明\\\\810283.pdf'>\n",
      "sendmail from mailer@zerojudge.tw to ['810283@stu.nknush.kh.edu.tw'] --- 郵件傳送成功!\n",
      "can read faile filename= 810284.pdf fp= <_io.BufferedReader name='C:\\\\Users\\\\user\\\\Downloads\\\\109Bebras成績證明\\\\810284.pdf'>\n",
      "sendmail from mailer@zerojudge.tw to ['810284@stu.nknush.kh.edu.tw'] --- 郵件傳送成功!\n",
      "can read faile filename= 810285.pdf fp= <_io.BufferedReader name='C:\\\\Users\\\\user\\\\Downloads\\\\109Bebras成績證明\\\\810285.pdf'>\n",
      "sendmail from mailer@zerojudge.tw to ['810285@stu.nknush.kh.edu.tw'] --- 郵件傳送成功!\n",
      "can read faile filename= 810286.pdf fp= <_io.BufferedReader name='C:\\\\Users\\\\user\\\\Downloads\\\\109Bebras成績證明\\\\810286.pdf'>\n",
      "sendmail from mailer@zerojudge.tw to ['810286@stu.nknush.kh.edu.tw'] --- 郵件傳送成功!\n",
      "can read faile filename= 810287.pdf fp= <_io.BufferedReader name='C:\\\\Users\\\\user\\\\Downloads\\\\109Bebras成績證明\\\\810287.pdf'>\n",
      "sendmail from mailer@zerojudge.tw to ['810287@stu.nknush.kh.edu.tw'] --- 郵件傳送成功!\n",
      "can read faile filename= 810288.pdf fp= <_io.BufferedReader name='C:\\\\Users\\\\user\\\\Downloads\\\\109Bebras成績證明\\\\810288.pdf'>\n",
      "sendmail from mailer@zerojudge.tw to ['810288@stu.nknush.kh.edu.tw'] --- 郵件傳送成功!\n",
      "can read faile filename= 810289.pdf fp= <_io.BufferedReader name='C:\\\\Users\\\\user\\\\Downloads\\\\109Bebras成績證明\\\\810289.pdf'>\n",
      "sendmail from mailer@zerojudge.tw to ['810289@stu.nknush.kh.edu.tw'] --- 郵件傳送成功!\n",
      "can read faile filename= 810290.pdf fp= <_io.BufferedReader name='C:\\\\Users\\\\user\\\\Downloads\\\\109Bebras成績證明\\\\810290.pdf'>\n",
      "sendmail from mailer@zerojudge.tw to ['810290@stu.nknush.kh.edu.tw'] --- 郵件傳送成功!\n",
      "can read faile filename= 810291.pdf fp= <_io.BufferedReader name='C:\\\\Users\\\\user\\\\Downloads\\\\109Bebras成績證明\\\\810291.pdf'>\n",
      "sendmail from mailer@zerojudge.tw to ['810291@stu.nknush.kh.edu.tw'] --- 郵件傳送成功!\n",
      "can read faile filename= 810292.pdf fp= <_io.BufferedReader name='C:\\\\Users\\\\user\\\\Downloads\\\\109Bebras成績證明\\\\810292.pdf'>\n",
      "sendmail from mailer@zerojudge.tw to ['810292@stu.nknush.kh.edu.tw'] --- 郵件傳送成功!\n",
      "can read faile filename= 810293.pdf fp= <_io.BufferedReader name='C:\\\\Users\\\\user\\\\Downloads\\\\109Bebras成績證明\\\\810293.pdf'>\n",
      "sendmail from mailer@zerojudge.tw to ['810293@stu.nknush.kh.edu.tw'] --- 郵件傳送成功!\n",
      "can read faile filename= 810294.pdf fp= <_io.BufferedReader name='C:\\\\Users\\\\user\\\\Downloads\\\\109Bebras成績證明\\\\810294.pdf'>\n",
      "sendmail from mailer@zerojudge.tw to ['810294@stu.nknush.kh.edu.tw'] --- 郵件傳送成功!\n",
      "can read faile filename= 810296.pdf fp= <_io.BufferedReader name='C:\\\\Users\\\\user\\\\Downloads\\\\109Bebras成績證明\\\\810296.pdf'>\n",
      "sendmail from mailer@zerojudge.tw to ['810296@stu.nknush.kh.edu.tw'] --- 郵件傳送成功!\n",
      "can read faile filename= 810297.pdf fp= <_io.BufferedReader name='C:\\\\Users\\\\user\\\\Downloads\\\\109Bebras成績證明\\\\810297.pdf'>\n",
      "sendmail from mailer@zerojudge.tw to ['810297@stu.nknush.kh.edu.tw'] --- 郵件傳送成功!\n",
      "can read faile filename= 910146.pdf fp= <_io.BufferedReader name='C:\\\\Users\\\\user\\\\Downloads\\\\109Bebras成績證明\\\\910146.pdf'>\n",
      "sendmail from mailer@zerojudge.tw to ['910146@stu.nknush.kh.edu.tw'] --- 郵件傳送成功!\n",
      "can read faile filename= 910147.pdf fp= <_io.BufferedReader name='C:\\\\Users\\\\user\\\\Downloads\\\\109Bebras成績證明\\\\910147.pdf'>\n",
      "sendmail from mailer@zerojudge.tw to ['910147@stu.nknush.kh.edu.tw'] --- 郵件傳送成功!\n",
      "can read faile filename= 910148.pdf fp= <_io.BufferedReader name='C:\\\\Users\\\\user\\\\Downloads\\\\109Bebras成績證明\\\\910148.pdf'>\n",
      "sendmail from mailer@zerojudge.tw to ['910148@stu.nknush.kh.edu.tw'] --- 郵件傳送成功!\n",
      "can read faile filename= 910149.pdf fp= <_io.BufferedReader name='C:\\\\Users\\\\user\\\\Downloads\\\\109Bebras成績證明\\\\910149.pdf'>\n",
      "sendmail from mailer@zerojudge.tw to ['910149@stu.nknush.kh.edu.tw'] --- 郵件傳送成功!\n",
      "can read faile filename= 910150.pdf fp= <_io.BufferedReader name='C:\\\\Users\\\\user\\\\Downloads\\\\109Bebras成績證明\\\\910150.pdf'>\n",
      "sendmail from mailer@zerojudge.tw to ['910150@stu.nknush.kh.edu.tw'] --- 郵件傳送成功!\n",
      "can read faile filename= 910151.pdf fp= <_io.BufferedReader name='C:\\\\Users\\\\user\\\\Downloads\\\\109Bebras成績證明\\\\910151.pdf'>\n",
      "sendmail from mailer@zerojudge.tw to ['910151@stu.nknush.kh.edu.tw'] --- 郵件傳送成功!\n",
      "can read faile filename= 910152.pdf fp= <_io.BufferedReader name='C:\\\\Users\\\\user\\\\Downloads\\\\109Bebras成績證明\\\\910152.pdf'>\n",
      "sendmail from mailer@zerojudge.tw to ['910152@stu.nknush.kh.edu.tw'] --- 郵件傳送成功!\n",
      "can read faile filename= 910153.pdf fp= <_io.BufferedReader name='C:\\\\Users\\\\user\\\\Downloads\\\\109Bebras成績證明\\\\910153.pdf'>\n",
      "sendmail from mailer@zerojudge.tw to ['910153@stu.nknush.kh.edu.tw'] --- 郵件傳送成功!\n",
      "can read faile filename= 910154.pdf fp= <_io.BufferedReader name='C:\\\\Users\\\\user\\\\Downloads\\\\109Bebras成績證明\\\\910154.pdf'>\n",
      "sendmail from mailer@zerojudge.tw to ['910154@stu.nknush.kh.edu.tw'] --- 郵件傳送成功!\n",
      "can read faile filename= 910155.pdf fp= <_io.BufferedReader name='C:\\\\Users\\\\user\\\\Downloads\\\\109Bebras成績證明\\\\910155.pdf'>\n",
      "sendmail from mailer@zerojudge.tw to ['910155@stu.nknush.kh.edu.tw'] --- 郵件傳送成功!\n",
      "can read faile filename= 910156.pdf fp= <_io.BufferedReader name='C:\\\\Users\\\\user\\\\Downloads\\\\109Bebras成績證明\\\\910156.pdf'>\n",
      "sendmail from mailer@zerojudge.tw to ['910156@stu.nknush.kh.edu.tw'] --- 郵件傳送成功!\n",
      "can read faile filename= 910157.pdf fp= <_io.BufferedReader name='C:\\\\Users\\\\user\\\\Downloads\\\\109Bebras成績證明\\\\910157.pdf'>\n",
      "sendmail from mailer@zerojudge.tw to ['910157@stu.nknush.kh.edu.tw'] --- 郵件傳送成功!\n",
      "can read faile filename= 910158.pdf fp= <_io.BufferedReader name='C:\\\\Users\\\\user\\\\Downloads\\\\109Bebras成績證明\\\\910158.pdf'>\n",
      "sendmail from mailer@zerojudge.tw to ['910158@stu.nknush.kh.edu.tw'] --- 郵件傳送成功!\n",
      "can read faile filename= 910159.pdf fp= <_io.BufferedReader name='C:\\\\Users\\\\user\\\\Downloads\\\\109Bebras成績證明\\\\910159.pdf'>\n",
      "sendmail from mailer@zerojudge.tw to ['910159@stu.nknush.kh.edu.tw'] --- 郵件傳送成功!\n",
      "can read faile filename= 910160.pdf fp= <_io.BufferedReader name='C:\\\\Users\\\\user\\\\Downloads\\\\109Bebras成績證明\\\\910160.pdf'>\n",
      "sendmail from mailer@zerojudge.tw to ['910160@stu.nknush.kh.edu.tw'] --- 郵件傳送成功!\n",
      "can read faile filename= 910161.pdf fp= <_io.BufferedReader name='C:\\\\Users\\\\user\\\\Downloads\\\\109Bebras成績證明\\\\910161.pdf'>\n",
      "sendmail from mailer@zerojudge.tw to ['910161@stu.nknush.kh.edu.tw'] --- 郵件傳送成功!\n",
      "can read faile filename= 910162.pdf fp= <_io.BufferedReader name='C:\\\\Users\\\\user\\\\Downloads\\\\109Bebras成績證明\\\\910162.pdf'>\n",
      "sendmail from mailer@zerojudge.tw to ['910162@stu.nknush.kh.edu.tw'] --- 郵件傳送成功!\n",
      "can read faile filename= 910163.pdf fp= <_io.BufferedReader name='C:\\\\Users\\\\user\\\\Downloads\\\\109Bebras成績證明\\\\910163.pdf'>\n",
      "sendmail from mailer@zerojudge.tw to ['910163@stu.nknush.kh.edu.tw'] --- 郵件傳送成功!\n",
      "can read faile filename= 910164.pdf fp= <_io.BufferedReader name='C:\\\\Users\\\\user\\\\Downloads\\\\109Bebras成績證明\\\\910164.pdf'>\n",
      "sendmail from mailer@zerojudge.tw to ['910164@stu.nknush.kh.edu.tw'] --- 郵件傳送成功!\n",
      "can read faile filename= 910165.pdf fp= <_io.BufferedReader name='C:\\\\Users\\\\user\\\\Downloads\\\\109Bebras成績證明\\\\910165.pdf'>\n",
      "sendmail from mailer@zerojudge.tw to ['910165@stu.nknush.kh.edu.tw'] --- 郵件傳送成功!\n",
      "can read faile filename= 910166.pdf fp= <_io.BufferedReader name='C:\\\\Users\\\\user\\\\Downloads\\\\109Bebras成績證明\\\\910166.pdf'>\n",
      "sendmail from mailer@zerojudge.tw to ['910166@stu.nknush.kh.edu.tw'] --- 郵件傳送成功!\n",
      "can read faile filename= 910167.pdf fp= <_io.BufferedReader name='C:\\\\Users\\\\user\\\\Downloads\\\\109Bebras成績證明\\\\910167.pdf'>\n",
      "sendmail from mailer@zerojudge.tw to ['910167@stu.nknush.kh.edu.tw'] --- 郵件傳送成功!\n",
      "can read faile filename= 910168.pdf fp= <_io.BufferedReader name='C:\\\\Users\\\\user\\\\Downloads\\\\109Bebras成績證明\\\\910168.pdf'>\n",
      "sendmail from mailer@zerojudge.tw to ['910168@stu.nknush.kh.edu.tw'] --- 郵件傳送成功!\n",
      "can read faile filename= 910169.pdf fp= <_io.BufferedReader name='C:\\\\Users\\\\user\\\\Downloads\\\\109Bebras成績證明\\\\910169.pdf'>\n",
      "sendmail from mailer@zerojudge.tw to ['910169@stu.nknush.kh.edu.tw'] --- 郵件傳送成功!\n",
      "can read faile filename= 910170.pdf fp= <_io.BufferedReader name='C:\\\\Users\\\\user\\\\Downloads\\\\109Bebras成績證明\\\\910170.pdf'>\n",
      "sendmail from mailer@zerojudge.tw to ['910170@stu.nknush.kh.edu.tw'] --- 郵件傳送成功!\n",
      "can read faile filename= 910171.pdf fp= <_io.BufferedReader name='C:\\\\Users\\\\user\\\\Downloads\\\\109Bebras成績證明\\\\910171.pdf'>\n",
      "sendmail from mailer@zerojudge.tw to ['910171@stu.nknush.kh.edu.tw'] --- 郵件傳送成功!\n",
      "can read faile filename= 910172.pdf fp= <_io.BufferedReader name='C:\\\\Users\\\\user\\\\Downloads\\\\109Bebras成績證明\\\\910172.pdf'>\n",
      "sendmail from mailer@zerojudge.tw to ['910172@stu.nknush.kh.edu.tw'] --- 郵件傳送成功!\n",
      "can read faile filename= 910173.pdf fp= <_io.BufferedReader name='C:\\\\Users\\\\user\\\\Downloads\\\\109Bebras成績證明\\\\910173.pdf'>\n",
      "sendmail from mailer@zerojudge.tw to ['910173@stu.nknush.kh.edu.tw'] --- 郵件傳送成功!\n",
      "can read faile filename= 910174.pdf fp= <_io.BufferedReader name='C:\\\\Users\\\\user\\\\Downloads\\\\109Bebras成績證明\\\\910174.pdf'>\n",
      "sendmail from mailer@zerojudge.tw to ['910174@stu.nknush.kh.edu.tw'] --- 郵件傳送成功!\n",
      "can read faile filename= 910175.pdf fp= <_io.BufferedReader name='C:\\\\Users\\\\user\\\\Downloads\\\\109Bebras成績證明\\\\910175.pdf'>\n",
      "sendmail from mailer@zerojudge.tw to ['910175@stu.nknush.kh.edu.tw'] --- 郵件傳送成功!\n",
      "can read faile filename= 910176.pdf fp= <_io.BufferedReader name='C:\\\\Users\\\\user\\\\Downloads\\\\109Bebras成績證明\\\\910176.pdf'>\n",
      "sendmail from mailer@zerojudge.tw to ['910176@stu.nknush.kh.edu.tw'] --- 郵件傳送成功!\n",
      "can read faile filename= 910177.pdf fp= <_io.BufferedReader name='C:\\\\Users\\\\user\\\\Downloads\\\\109Bebras成績證明\\\\910177.pdf'>\n",
      "sendmail from mailer@zerojudge.tw to ['910177@stu.nknush.kh.edu.tw'] --- 郵件傳送成功!\n",
      "can read faile filename= 910178.pdf fp= <_io.BufferedReader name='C:\\\\Users\\\\user\\\\Downloads\\\\109Bebras成績證明\\\\910178.pdf'>\n",
      "sendmail from mailer@zerojudge.tw to ['910178@stu.nknush.kh.edu.tw'] --- 郵件傳送成功!\n",
      "can read faile filename= 910179.pdf fp= <_io.BufferedReader name='C:\\\\Users\\\\user\\\\Downloads\\\\109Bebras成績證明\\\\910179.pdf'>\n",
      "sendmail from mailer@zerojudge.tw to ['910179@stu.nknush.kh.edu.tw'] --- 郵件傳送成功!\n",
      "can read faile filename= 910180.pdf fp= <_io.BufferedReader name='C:\\\\Users\\\\user\\\\Downloads\\\\109Bebras成績證明\\\\910180.pdf'>\n",
      "sendmail from mailer@zerojudge.tw to ['910180@stu.nknush.kh.edu.tw'] --- 郵件傳送成功!\n",
      "can read faile filename= 910181.pdf fp= <_io.BufferedReader name='C:\\\\Users\\\\user\\\\Downloads\\\\109Bebras成績證明\\\\910181.pdf'>\n",
      "sendmail from mailer@zerojudge.tw to ['910181@stu.nknush.kh.edu.tw']"
     ]
    },
    {
     "output_type": "error",
     "ename": "SMTPDataError",
     "evalue": "(550, b'5.4.5 Daily user sending quota exceeded. e13sm45762400pgh.54 - gsmtp')",
     "traceback": [
      "\u001b[1;31m---------------------------------------------------------------------------\u001b[0m",
      "\u001b[1;31mSMTPDataError\u001b[0m                             Traceback (most recent call last)",
      "\u001b[1;32m<ipython-input-7-2119d6ea621e>\u001b[0m in \u001b[0;36m<module>\u001b[1;34m()\u001b[0m\n\u001b[0;32m     72\u001b[0m \u001b[1;33m\u001b[0m\u001b[0m\n\u001b[0;32m     73\u001b[0m \u001b[1;32mif\u001b[0m \u001b[0m__name__\u001b[0m \u001b[1;33m==\u001b[0m \u001b[1;34m'__main__'\u001b[0m\u001b[1;33m:\u001b[0m\u001b[1;33m\u001b[0m\u001b[0m\n\u001b[1;32m---> 74\u001b[1;33m     \u001b[0mmain\u001b[0m\u001b[1;33m(\u001b[0m\u001b[1;33m)\u001b[0m\u001b[1;33m\u001b[0m\u001b[0m\n\u001b[0m",
      "\u001b[1;32m<ipython-input-7-2119d6ea621e>\u001b[0m in \u001b[0;36mmain\u001b[1;34m()\u001b[0m\n\u001b[0;32m     64\u001b[0m         \u001b[0msmtpssl\u001b[0m\u001b[1;33m.\u001b[0m\u001b[0mlogin\u001b[0m\u001b[1;33m(\u001b[0m\u001b[0mfrom_addr\u001b[0m\u001b[1;33m,\u001b[0m \u001b[0mapp_passwd\u001b[0m\u001b[1;33m)\u001b[0m\u001b[1;33m\u001b[0m\u001b[0m\n\u001b[0;32m     65\u001b[0m         \u001b[0mprint\u001b[0m\u001b[1;33m(\u001b[0m\u001b[1;34m'sendmail from'\u001b[0m\u001b[1;33m,\u001b[0m \u001b[0mfrom_addr\u001b[0m\u001b[1;33m,\u001b[0m \u001b[1;34m'to'\u001b[0m\u001b[1;33m,\u001b[0m \u001b[0mto_addr\u001b[0m\u001b[1;33m,\u001b[0m \u001b[0mend\u001b[0m\u001b[1;33m=\u001b[0m\u001b[1;34m\"\"\u001b[0m\u001b[1;33m)\u001b[0m\u001b[1;33m\u001b[0m\u001b[0m\n\u001b[1;32m---> 66\u001b[1;33m         \u001b[0mstatus\u001b[0m \u001b[1;33m=\u001b[0m \u001b[0msmtpssl\u001b[0m\u001b[1;33m.\u001b[0m\u001b[0msendmail\u001b[0m\u001b[1;33m(\u001b[0m\u001b[0mfrom_addr\u001b[0m\u001b[1;33m,\u001b[0m \u001b[0mto_addr\u001b[0m\u001b[1;33m,\u001b[0m \u001b[0mcontent\u001b[0m\u001b[1;33m.\u001b[0m\u001b[0mas_string\u001b[0m\u001b[1;33m(\u001b[0m\u001b[1;33m)\u001b[0m\u001b[1;33m)\u001b[0m\u001b[1;33m\u001b[0m\u001b[0m\n\u001b[0m\u001b[0;32m     67\u001b[0m         \u001b[0msmtpssl\u001b[0m\u001b[1;33m.\u001b[0m\u001b[0mquit\u001b[0m\u001b[1;33m(\u001b[0m\u001b[1;33m)\u001b[0m\u001b[1;33m\u001b[0m\u001b[0m\n\u001b[0;32m     68\u001b[0m         \u001b[1;32mif\u001b[0m \u001b[0mstatus\u001b[0m \u001b[1;33m==\u001b[0m \u001b[1;33m{\u001b[0m\u001b[1;33m}\u001b[0m\u001b[1;33m:\u001b[0m\u001b[1;33m\u001b[0m\u001b[0m\n",
      "\u001b[1;32m~\\Anaconda3\\lib\\smtplib.py\u001b[0m in \u001b[0;36msendmail\u001b[1;34m(self, from_addr, to_addrs, msg, mail_options, rcpt_options)\u001b[0m\n\u001b[0;32m    880\u001b[0m             \u001b[0mself\u001b[0m\u001b[1;33m.\u001b[0m\u001b[0m_rset\u001b[0m\u001b[1;33m(\u001b[0m\u001b[1;33m)\u001b[0m\u001b[1;33m\u001b[0m\u001b[0m\n\u001b[0;32m    881\u001b[0m             \u001b[1;32mraise\u001b[0m \u001b[0mSMTPRecipientsRefused\u001b[0m\u001b[1;33m(\u001b[0m\u001b[0msenderrs\u001b[0m\u001b[1;33m)\u001b[0m\u001b[1;33m\u001b[0m\u001b[0m\n\u001b[1;32m--> 882\u001b[1;33m         \u001b[1;33m(\u001b[0m\u001b[0mcode\u001b[0m\u001b[1;33m,\u001b[0m \u001b[0mresp\u001b[0m\u001b[1;33m)\u001b[0m \u001b[1;33m=\u001b[0m \u001b[0mself\u001b[0m\u001b[1;33m.\u001b[0m\u001b[0mdata\u001b[0m\u001b[1;33m(\u001b[0m\u001b[0mmsg\u001b[0m\u001b[1;33m)\u001b[0m\u001b[1;33m\u001b[0m\u001b[0m\n\u001b[0m\u001b[0;32m    883\u001b[0m         \u001b[1;32mif\u001b[0m \u001b[0mcode\u001b[0m \u001b[1;33m!=\u001b[0m \u001b[1;36m250\u001b[0m\u001b[1;33m:\u001b[0m\u001b[1;33m\u001b[0m\u001b[0m\n\u001b[0;32m    884\u001b[0m             \u001b[1;32mif\u001b[0m \u001b[0mcode\u001b[0m \u001b[1;33m==\u001b[0m \u001b[1;36m421\u001b[0m\u001b[1;33m:\u001b[0m\u001b[1;33m\u001b[0m\u001b[0m\n",
      "\u001b[1;32m~\\Anaconda3\\lib\\smtplib.py\u001b[0m in \u001b[0;36mdata\u001b[1;34m(self, msg)\u001b[0m\n\u001b[0;32m    558\u001b[0m             \u001b[0mself\u001b[0m\u001b[1;33m.\u001b[0m\u001b[0m_print_debug\u001b[0m\u001b[1;33m(\u001b[0m\u001b[1;34m'data:'\u001b[0m\u001b[1;33m,\u001b[0m \u001b[1;33m(\u001b[0m\u001b[0mcode\u001b[0m\u001b[1;33m,\u001b[0m \u001b[0mrepl\u001b[0m\u001b[1;33m)\u001b[0m\u001b[1;33m)\u001b[0m\u001b[1;33m\u001b[0m\u001b[0m\n\u001b[0;32m    559\u001b[0m         \u001b[1;32mif\u001b[0m \u001b[0mcode\u001b[0m \u001b[1;33m!=\u001b[0m \u001b[1;36m354\u001b[0m\u001b[1;33m:\u001b[0m\u001b[1;33m\u001b[0m\u001b[0m\n\u001b[1;32m--> 560\u001b[1;33m             \u001b[1;32mraise\u001b[0m \u001b[0mSMTPDataError\u001b[0m\u001b[1;33m(\u001b[0m\u001b[0mcode\u001b[0m\u001b[1;33m,\u001b[0m \u001b[0mrepl\u001b[0m\u001b[1;33m)\u001b[0m\u001b[1;33m\u001b[0m\u001b[0m\n\u001b[0m\u001b[0;32m    561\u001b[0m         \u001b[1;32melse\u001b[0m\u001b[1;33m:\u001b[0m\u001b[1;33m\u001b[0m\u001b[0m\n\u001b[0;32m    562\u001b[0m             \u001b[1;32mif\u001b[0m \u001b[0misinstance\u001b[0m\u001b[1;33m(\u001b[0m\u001b[0mmsg\u001b[0m\u001b[1;33m,\u001b[0m \u001b[0mstr\u001b[0m\u001b[1;33m)\u001b[0m\u001b[1;33m:\u001b[0m\u001b[1;33m\u001b[0m\u001b[0m\n",
      "\u001b[1;31mSMTPDataError\u001b[0m: (550, b'5.4.5 Daily user sending quota exceeded. e13sm45762400pgh.54 - gsmtp')"
     ]
    }
   ],
   "source": [
    "import os, sys, smtplib\n",
    "from email import encoders\n",
    "from email.mime.base import MIMEBase\n",
    "from email.mime.multipart import MIMEMultipart\n",
    "from email.mime.text import MIMEText\n",
    "\n",
    "\n",
    "COMMASPACE = ', '\n",
    "subject = '高師大附中 109學年度國際運算思維挑戰賽 挑戰證明'\n",
    "from_addr = \"mailer@zerojudge.tw\"\n",
    "app_passwd = \"zridfkvaolgtoekp\"\n",
    "to_addr = [\"\"]\n",
    "# 檔案位置 在windows底下記得要加上r 如下 要完整的路徑\n",
    "attachePath = 'C:\\\\Users\\\\user\\\\Downloads\\\\109Bebras成績證明\\\\'\n",
    "attachments = os.listdir(attachePath)\n",
    "#attachments = [attachePath+name for name in os.listdir(attachePath)]\n",
    "\n",
    "def main():\n",
    "    # sender = '你的EMAIL'\n",
    "    # gmail_password = '你的EMAIL密碼'\n",
    "    # recipients = ['收件人01的EMAIL','收件人02的EMAIL']\n",
    "    htmlcontent = \"\"\"\n",
    "    <!doctype html>\n",
    "    <html>\n",
    "    <head>\n",
    "    <meta charset='utf-8'>\n",
    "    <title>HTML mail</title>\n",
    "    </head>\n",
    "    <body>\n",
    "    <b>運算思維挑戰賽挑戰證明</b>\n",
    "    </body>\n",
    "    </html>\n",
    "    \"\"\"\n",
    "\n",
    "    # 加入檔案到MAIL底下\n",
    "    for filename in attachments:\n",
    "        # 建立郵件主題\n",
    "        content = MIMEMultipart()  #建立MIMEMultipart物件\n",
    "        content[\"subject\"] = subject  #郵件標題\n",
    "        content[\"from\"] = from_addr  #寄件者\n",
    "\n",
    "        content.attach(MIMEText(htmlcontent, 'html'))\n",
    "        to_addr[0] = filename.split('.')[0]+'@stu.nknush.kh.edu.tw'\n",
    "        content[\"to\"] = to_addr[0] #收件者\n",
    "\n",
    "        try:\n",
    "            with open(attachePath+filename, 'rb') as fp:\n",
    "                print('can read faile filename=',filename, 'fp=', fp)\n",
    "                msg = MIMEBase('application', \"octet-stream\")\n",
    "                msg.set_payload(fp.read())\n",
    "\n",
    "            encoders.encode_base64(msg)\n",
    "            msg.add_header('Content-Disposition', 'attachment',\n",
    "                           filename=os.path.basename(filename))\n",
    "            content.attach(msg)\n",
    "\n",
    "        except:\n",
    "            print(\"Unable to open one of the attachments. Error: \",\n",
    "                  sys.exc_info()[0])\n",
    "            raise\n",
    "\n",
    "        # 寄送EMAIL\n",
    "        smtpssl = smtplib.SMTP_SSL(\"smtp.gmail.com\", 465)\n",
    "        smtpssl.login(from_addr, app_passwd)\n",
    "        print('sendmail from', from_addr, 'to', to_addr, end=\"\")\n",
    "        status = smtpssl.sendmail(from_addr, to_addr, content.as_string())\n",
    "        smtpssl.quit()\n",
    "        if status == {}:\n",
    "            print(' --- 郵件傳送成功!')\n",
    "        else:\n",
    "            print(' --- 失敗', status)\n",
    "\n",
    "if __name__ == '__main__':\n",
    "    main()\n"
   ]
  },
  {
   "cell_type": "markdown",
   "metadata": {},
   "source": [
    "### 參考文獻\n",
    "\n",
    "http://yhhuang1966.blogspot.com/2018/10/python-gmail.html\n"
   ]
  }
 ],
 "metadata": {
  "kernelspec": {
   "display_name": "Python 3",
   "language": "python",
   "name": "python3"
  },
  "language_info": {
   "codemirror_mode": {
    "name": "ipython",
    "version": 3
   },
   "file_extension": ".py",
   "mimetype": "text/x-python",
   "name": "python",
   "nbconvert_exporter": "python",
   "pygments_lexer": "ipython3",
   "version": "3.6.5-final"
  }
 },
 "nbformat": 4,
 "nbformat_minor": 2
}
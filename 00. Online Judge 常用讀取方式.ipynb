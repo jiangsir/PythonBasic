{
 "cells": [
  {
   "cell_type": "markdown",
   "metadata": {},
   "source": [
    "# Online Judge 常見的讀取方式\n",
    "\n",
    "一般在 Online Judge 上練習寫程式都會需要用到輸入，常見的讀取方式整理在此。\n",
    "\n",
    "Online Judge 資料輸入方式分為兩大類:\n",
    "\n",
    "* 固定行數: 明確指定輸入格式與行數\n",
    "    * 單行單值\n",
    "    * 單行多值\n",
    "    * 指定行數\n",
    "* 不定行數: \n",
    "    * 連續讀取直到特定條件，如 0 0 0 0\n",
    "    * 連續讀取直到到檔案結束(EOF, End of File)\n"
   ]
  },
  {
   "cell_type": "markdown",
   "metadata": {},
   "source": [
    "## 固定行數: 單行單值\n",
    "\n",
    "提示讀入一個整數。\n",
    "\n",
    "例題: https://zerojudge.tw/ShowProblem?problemid=d049\n"
   ]
  },
  {
   "cell_type": "code",
   "execution_count": 1,
   "metadata": {},
   "outputs": [
    {
     "name": "stdout",
     "output_type": "stream",
     "text": [
      "2008\n",
      "97\n"
     ]
    }
   ],
   "source": [
    "year = int(input())\n",
    "print(year-1911)"
   ]
  },
  {
   "cell_type": "markdown",
   "metadata": {},
   "source": [
    "## 固定行數: 單行多值\n",
    "\n",
    "提示讀入一串以空格隔開的數字\n",
    "\n",
    "用 split 分割字串"
   ]
  },
  {
   "cell_type": "code",
   "execution_count": 2,
   "metadata": {},
   "outputs": [
    {
     "name": "stdout",
     "output_type": "stream",
     "text": [
      "2 3 4\n",
      "2\n",
      "3\n",
      "4\n"
     ]
    }
   ],
   "source": [
    "# 讀取整行，並且分割為 list\n",
    "ll = input().split()\n",
    "print(ll[0])\n",
    "print(ll[1])\n",
    "print(ll[2])\n",
    "    \n",
    "# 若只有少數值，比如 2 個或 3 個，也可以直接分別指定\n",
    "x, y = input().split()\n",
    "print(x)\n",
    "print(y)"
   ]
  },
  {
   "cell_type": "markdown",
   "metadata": {},
   "source": [
    "## 固定行數: 指定行數\n",
    "\n",
    "這類型輸入會給你一個值 n 代表行數  \n",
    "然後用一個迴圈執行 n 次讀入後續測資"
   ]
  },
  {
   "cell_type": "code",
   "execution_count": 1,
   "metadata": {},
   "outputs": [
    {
     "name": "stdout",
     "output_type": "stream",
     "text": [
      "10\n",
      "aaa\n",
      "讀到:  aaa\n",
      "bbb\n",
      "讀到:  bbb\n",
      "ccc\n",
      "讀到:  ccc\n",
      "ddd\n",
      "讀到:  ddd\n",
      "eee\n",
      "讀到:  eee\n",
      "fff\n",
      "讀到:  fff\n",
      "ggg\n",
      "讀到:  ggg\n",
      "hhh\n",
      "讀到:  hhh\n",
      "iii\n",
      "讀到:  iii\n",
      "jjj\n",
      "讀到:  jjj\n"
     ]
    }
   ],
   "source": [
    "n = int(input())\n",
    "\n",
    "for _ in range(n):\n",
    "    s = input()\n",
    "    print('讀到: ', s)\n"
   ]
  },
  {
   "cell_type": "markdown",
   "metadata": {},
   "source": [
    "## 不定行數: 特定條件結束\n",
    "\n",
    "不定行數就要使用 while 來讀取。"
   ]
  },
  {
   "cell_type": "code",
   "execution_count": null,
   "metadata": {},
   "outputs": [],
   "source": [
    "while True:\n",
    "    s = input()\n",
    "    if s == '0 0 0 0':\n",
    "        break\n",
    "    print('讀到並處理', s)"
   ]
  },
  {
   "cell_type": "markdown",
   "metadata": {},
   "source": [
    "## 不定行數: 讀到檔尾"
   ]
  },
  {
   "cell_type": "code",
   "execution_count": null,
   "metadata": {},
   "outputs": [],
   "source": [
    "# 兩種做法, 第一種，用無窮迴圈不斷讀取，直到檔尾會拋出例外，捕捉例外離開迴圈。\n",
    "\n",
    "while True:\n",
    "    try:\n",
    "        s = input()\n",
    "    except:\n",
    "        break\n"
   ]
  },
  {
   "cell_type": "code",
   "execution_count": 4,
   "metadata": {},
   "outputs": [],
   "source": [
    "# 第二種做法，利用 sys.stdin 來處理\n",
    "\n",
    "import sys\n",
    "\n",
    "for s in sys.stdin:\n",
    "    print(s)\n"
   ]
  },
  {
   "cell_type": "markdown",
   "metadata": {},
   "source": [
    "## 資料型態轉換"
   ]
  },
  {
   "cell_type": "markdown",
   "metadata": {},
   "source": [
    "### 讀取進來之後進行資料型態轉換\n",
    "\n",
    "因為讀取進來資料都是字串，輸入測資是整數的話就必須要進行資料轉型。"
   ]
  },
  {
   "cell_type": "code",
   "execution_count": 2,
   "metadata": {},
   "outputs": [
    {
     "output_type": "error",
     "ename": "ValueError",
     "evalue": "not enough values to unpack (expected 3, got 0)",
     "traceback": [
      "\u001b[0;31m---------------------------------------------------------------------------\u001b[0m",
      "\u001b[0;31mValueError\u001b[0m                                Traceback (most recent call last)",
      "\u001b[0;32m<ipython-input-2-e0a41dbccb82>\u001b[0m in \u001b[0;36m<module>\u001b[0;34m()\u001b[0m\n\u001b[1;32m      1\u001b[0m \u001b[0;31m# 使用 map 來轉換資料型態\u001b[0m\u001b[0;34m\u001b[0m\u001b[0;34m\u001b[0m\u001b[0m\n\u001b[0;32m----> 2\u001b[0;31m \u001b[0ma\u001b[0m\u001b[0;34m,\u001b[0m\u001b[0mb\u001b[0m\u001b[0;34m,\u001b[0m\u001b[0mc\u001b[0m \u001b[0;34m=\u001b[0m \u001b[0mmap\u001b[0m\u001b[0;34m(\u001b[0m\u001b[0mint\u001b[0m\u001b[0;34m,\u001b[0m\u001b[0minput\u001b[0m\u001b[0;34m(\u001b[0m\u001b[0;34m)\u001b[0m\u001b[0;34m.\u001b[0m\u001b[0msplit\u001b[0m\u001b[0;34m(\u001b[0m\u001b[0;34m)\u001b[0m\u001b[0;34m)\u001b[0m\u001b[0;34m\u001b[0m\u001b[0m\n\u001b[0m\u001b[1;32m      3\u001b[0m \u001b[0;34m\u001b[0m\u001b[0m\n\u001b[1;32m      4\u001b[0m \u001b[0;31m# 使用列表生成式來生產列表\u001b[0m\u001b[0;34m\u001b[0m\u001b[0;34m\u001b[0m\u001b[0m\n\u001b[1;32m      5\u001b[0m \u001b[0ma\u001b[0m\u001b[0;34m,\u001b[0m \u001b[0mb\u001b[0m\u001b[0;34m,\u001b[0m \u001b[0mc\u001b[0m \u001b[0;34m=\u001b[0m \u001b[0;34m[\u001b[0m\u001b[0mint\u001b[0m\u001b[0;34m(\u001b[0m\u001b[0mx\u001b[0m\u001b[0;34m)\u001b[0m \u001b[0;32mfor\u001b[0m \u001b[0mx\u001b[0m \u001b[0;32min\u001b[0m \u001b[0minput\u001b[0m\u001b[0;34m(\u001b[0m\u001b[0;34m)\u001b[0m\u001b[0;34m.\u001b[0m\u001b[0msplit\u001b[0m\u001b[0;34m(\u001b[0m\u001b[0;34m)\u001b[0m\u001b[0;34m]\u001b[0m\u001b[0;34m\u001b[0m\u001b[0m\n",
      "\u001b[0;31mValueError\u001b[0m: not enough values to unpack (expected 3, got 0)"
     ]
    }
   ],
   "source": [
    "# 使用 map 來轉換資料型態\n",
    "a,b,c = map(int, input().split())\n",
    "\n",
    "# map 轉換完畢之後再轉換為 list\n",
    "ls = list(map(int, input().split()))\n",
    "\n",
    "# 使用列表生成式來生產列表\n",
    "a, b, c = [int(x) for x in input().split()] # 分別指定給變數\n",
    "ls = [int(x) for x in input().split()] # 直接指定為 list\n"
   ]
  },
  {
   "cell_type": "markdown",
   "metadata": {},
   "source": [
    "### 若是數個資料之間是以 , 分隔, 則用 split(',') 來分割"
   ]
  },
  {
   "cell_type": "code",
   "execution_count": null,
   "metadata": {},
   "outputs": [],
   "source": [
    "a,b,c = map(int,input().split(','))\n",
    "\n",
    "a, b, c = [int(x) for x in input().split(',')]\n"
   ]
  }
 ],
 "metadata": {
  "kernelspec": {
   "display_name": "Python 3",
   "language": "python",
   "name": "python3"
  },
  "language_info": {
   "codemirror_mode": {
    "name": "ipython",
    "version": 3
   },
   "file_extension": ".py",
   "mimetype": "text/x-python",
   "name": "python",
   "nbconvert_exporter": "python",
   "pygments_lexer": "ipython3",
   "version": "3.6.4-final"
  }
 },
 "nbformat": 4,
 "nbformat_minor": 2
}
{
 "cells": [
  {
   "cell_type": "markdown",
   "metadata": {
    "slideshow": {
     "slide_type": "subslide"
    }
   },
   "source": [
    "# 本講義設計工具 jupyter notebook & Markdown\n",
    "\n",
    "jupyter notebook 不僅是一個 python 程式的執行環境, 也可以透過 RISE 套件輔助變成投影片顯示\n",
    "\n",
    "[Markdown 語法講義](http://markdown.tw/)\n",
    "\n",
    "\n",
    "## 使用 jupyter notebook 投影片\n",
    "\n",
    "使用 RISE 來呈現投影片  \n",
    "官網： https://github.com/damianavila/RISE\n",
    "\n",
    "最簡單的安裝方式：\n",
    "\n",
    "使用 conda 進行安裝\n",
    "\n",
    "    conda install -c conda-forge rise\n"
   ]
  },
  {
   "cell_type": "markdown",
   "metadata": {
    "slideshow": {
     "slide_type": "slide"
    }
   },
   "source": [
    "# 本課程的使用方式\n",
    "\n",
    "## 課程的進度會以一般同學的進度為主，但已經完成的同學可以提前閱讀課程內容，並練習範例程式。若無法立即了解，也可以事後再進入課程當中再次練習。"
   ]
  }
 ],
 "metadata": {
  "celltoolbar": "Slideshow",
  "kernelspec": {
   "display_name": "Python 3",
   "language": "python",
   "name": "python3"
  },
  "language_info": {
   "codemirror_mode": {
    "name": "ipython",
    "version": 3
   },
   "file_extension": ".py",
   "mimetype": "text/x-python",
   "name": "python",
   "nbconvert_exporter": "python",
   "pygments_lexer": "ipython3",
   "version": "3.6.5"
  }
 },
 "nbformat": 4,
 "nbformat_minor": 1
}

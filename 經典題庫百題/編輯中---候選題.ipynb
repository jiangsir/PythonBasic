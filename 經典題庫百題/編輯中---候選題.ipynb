{
 "cells": [
  {
   "cell_type": "markdown",
   "metadata": {},
   "source": [
    "# 計算組合數\n",
    "編寫函數，參數是兩個非負整數n和m\n",
    "傳回組合數結果\n",
    "\n",
    "C(n, m) = n! / ((n − m)! × m!)\n",
    "\n",
    "其中，m<=n<=25m \n",
    "例如：n=25, m=12時，答案為5200300。\n",
    "\n"
   ]
  },
  {
   "cell_type": "markdown",
   "metadata": {},
   "source": [
    "## 直覺寫法\n",
    "\n",
    "```C++\n",
    "long long factorial(int n){\n",
    "    long long m=1; \n",
    "    for (int i=1; i<=n; i++)\n",
    "        m *= i;\n",
    "    return m;\n",
    "}\n",
    "\n",
    "long long C(int n, int m)\n",
    "{\n",
    "    return factorial(n) / (factorial(n-m)*factorial(m));\n",
    "}\n",
    "\n",
    "```"
   ]
  },
  {
   "cell_type": "markdown",
   "metadata": {},
   "source": [
    "# 即使最終答案在我們選擇的資料型別內，計算的中間結果仍可能溢位。"
   ]
  },
  {
   "cell_type": "markdown",
   "metadata": {},
   "source": [
    "對複雜的運算式進行簡化  \n",
    "減少計算量(約分)、避免中間結果溢出\n",
    "\n",
    "```C++\n",
    "long long C(int n, int m){\n",
    "    if (m < n-m) m = n-m;\n",
    "    long long ans = 1;\n",
    "    for (int i=m+1; i<=n; i++) ans *= i;\n",
    "    for (int i = 1; i<=n-m; i++) ans /= i;\n",
    "    return ans;\n",
    "}\n",
    "```"
   ]
  },
  {
   "cell_type": "markdown",
   "metadata": {},
   "source": [
    "# 習題3-8 循環小數(UVa202)\n",
    "\n",
    "Repeating Decimals  \n",
    "輸入整數a和b (0<=a<=3000, 1<=b<=3000)。  \n",
    "輸出a/b的循環小數表示以及循環節長度。  \n",
    "例如：a=5, b=43  \n",
    "小數表示為0.(116279069767441860465), 循環節為 21  "
   ]
  },
  {
   "cell_type": "markdown",
   "metadata": {},
   "source": [
    "# 習題3-7 DNA序列(UVa1368)\n",
    "\n",
    "給定m個長度均爲n的DNA序列，求一個DNA序列，使其到所有序列的總hamming距離儘量小  \n",
    "兩個等長字串的Hamming distance等於字元不同的位置個數。例如：ACGT和GCGA的Hamming distance 為2(左數第1、4個字元不同)  \n",
    "輸入整數m和n(4<=m<=50, 4<=n<=1000)，以及m個長度為n的DNA序列(只包含字母A, C, G, T). 輸出到m個序列的Hamming distance和最小的DNA序列和對應的距離。   ，如有多解，輸出最小解。  \n",
    "\n",
    "\n",
    "    Sample Input \n",
    "    3 \n",
    "    5 8 \n",
    "    TATGATAC \n",
    "    TAAGCTAC \n",
    "    AAAGATCC \n",
    "    TGAGATAC \n",
    "    TAAGATGT \n",
    "    4 10 \n",
    "    ACGTACGTAC \n",
    "    CCGTACGTAG \n",
    "    GCGTACGTAT \n",
    "    TCGTACGTAA \n",
    "    6 10 \n",
    "    ATGTTACCAT \n",
    "    AAGTTACGAT \n",
    "    AACAAAGCAA \n",
    "    AAGTTACCTT \n",
    "    AAGTTACCAA \n",
    "    TACTTACCAA\n",
    "\n",
    "    Sample Output \n",
    "\n",
    "    TAAGATAC \n",
    "    7 \n",
    "    ACGTACGTAA \n",
    "    6 \n",
    "    AAGTTACCAA \n",
    "    12"
   ]
  },
  {
   "cell_type": "markdown",
   "metadata": {},
   "source": [
    "# 習題3-4 週期串(Uva 455)\n",
    "    如果一個字串可以由某個長度為k的字串重複多次得到，則稱該串以 k 為週期。\n",
    "    例如，abcabcabcabc以3為週期(注意，它也以6、12為週期)\n",
    "    輸入一個長度不超過80的字串，輸出其最小週期。\n"
   ]
  },
  {
   "cell_type": "markdown",
   "metadata": {},
   "source": [
    "# 習題3-2 分子量(Uva 1586)\n",
    "\n",
    "    列出一種物質的分子式(不帶括弧)，求分子量。\n",
    "    本題中的分子式只包含4種原子，分別為C, H, O, N，分子量分別為 12.01, 1.008, 16.00, 14.01 (單位：g/mol)。\n",
    "    例如：\n",
    "    C6H5OH 分子量為 94.108g/mol"
   ]
  },
  {
   "cell_type": "markdown",
   "metadata": {},
   "source": [
    "# 習題3-1 得分(Uva 1585)\n",
    "    列出一個由O和X組成的字串(長度為1~80)，統計得分。每個O的得分為目前連續出現的O的個數，X的得分為0。例如：\n",
    "    OOXXOXXOOO的得分為\n",
    "    1+2+0+0+1+0+1+0+0+1+2+3"
   ]
  },
  {
   "cell_type": "markdown",
   "metadata": {},
   "source": [
    "# 習題3-2 分子量(Uva 1586)\n",
    "    列出一種物質的分子式(不帶括弧)，求分子量。\n",
    "    本題中的分子式只包含4種原子，分別為C, H, O, N，分子量分別為 12.01, 1.008, 16.00, 14.01 (單位：g/mol)。\n",
    "    例如：\n",
    "    C6H5OH 分子量為 94.108g/mol"
   ]
  },
  {
   "cell_type": "markdown",
   "metadata": {},
   "source": [
    "# Day2: 陣列與字串\n",
    "    掌握一維陣列、二維陣列的宣告與使用\n",
    "    memset, memcpy     (string.h)\n",
    "    掌握字串宣告、指定值、比較與連接方式\n",
    "    熟悉ASCII碼與ctype.h的字元函數\n",
    "    競賽題目精選：UVa272, 10082, 401, 340, 1583, 1584\n",
    "    1585, 1586, 1225, 455, 227, 232, 1368, 202, 10340, 1587"
   ]
  }
 ],
 "metadata": {
  "kernelspec": {
   "display_name": "Python 3",
   "language": "python",
   "name": "python3"
  },
  "language_info": {
   "codemirror_mode": {
    "name": "ipython",
    "version": 3
   },
   "file_extension": ".py",
   "mimetype": "text/x-python",
   "name": "python",
   "nbconvert_exporter": "python",
   "pygments_lexer": "ipython3",
   "version": "3.6.5"
  }
 },
 "nbformat": 4,
 "nbformat_minor": 2
}

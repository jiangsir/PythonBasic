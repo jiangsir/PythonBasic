{
 "cells": [
  {
   "cell_type": "markdown",
   "metadata": {},
   "source": [
    "# 遞迴\n",
    "\n",
    "遞迴的通俗說明:\n",
    "\n",
    "    假設你在一個電影院，你想知道自己坐在哪一排，但是前面人很多，你懶得去數了，於是你問前一排的人「你坐在哪一排？」，這樣前面的人 (代號 A) 回答你以後，你就知道自己在哪一排了——只要把 A 的答案加一，就是自己所在的排了。不料 A 比你還懶，他也不想數，於是他也問他前面的人 B「你坐在哪一排？」，這樣 A 可以用和你一模一樣的步驟知道自己所在的排。然後 B 也如法炮製。直到他們這一串人問到了最前面的一排，第一排的人告訴問問題的人「我在第一排」。最後大家就都知道自己在哪一排了。\n",
    "\n",
    "遞迴的數學意義:\n",
    "\n",
    "### 高一下數學1-1C觀念01遞迴關係 : 影片\n",
    "\n",
    "[![高一下數學1-1C觀念01遞迴關係](https://img.youtube.com/vi/Z3reUEQWi28/0.jpg)](https://www.youtube.com/watch?v=Z3reUEQWi28)\n",
    "\n",
    "### 由遞迴式求出一般項\n",
    "\n",
    "[![高一下數學1-1C觀念05後項=r*前項+d之遞迴關係](https://img.youtube.com/vi/ie-yQJgHVsY/0.jpg)](https://www.youtube.com/watch?v=ie-yQJgHVsY)\n",
    "\n",
    "\n",
    "### 數學歸納法\n",
    "[![高一下數學1-1D觀念01為何需要數學歸納法](https://img.youtube.com/vi/Y3TYDVcRehA/0.jpg)](https://www.youtube.com/watch?v=Y3TYDVcRehA)\n",
    "\n",
    "\n",
    "* 連加、連乘\n",
    "* Fib\n",
    "* 平面圓形切割\n",
    "* 猶太敢死隊問題\n",
    "* 約瑟夫問題\n",
    "* 香檳塔 1, 2, 3\n",
    "* 堆磚塊問題\n",
    "* "
   ]
  },
  {
   "cell_type": "markdown",
   "metadata": {},
   "source": [
    "## 遞迴問題首先要思考不要落入無窮迴圈\n",
    "\n",
    "<img src=\"images/recursion.gif\" alt=\"drawing\" width=\"200\"/>\n",
    "\n",
    "必須明確定義好終止條件。\n",
    "\n",
    "<img src=\"images/doll.jpg\" alt=\"drawing\" width=\"780\"/>\n",
    "\n"
   ]
  },
  {
   "cell_type": "markdown",
   "metadata": {},
   "source": [
    "## 請計算以下 n 層香檳塔總共有幾個香檳杯?\n",
    "\n",
    "    第一層有一個杯子、第二層有兩個杯子、第 n 層有 n 個杯子、依此類推。\n",
    "    \n",
    "<img src=\"images/recursion_line.jpg\">\n",
    "\n",
    "\n",
    "\n",
    "    先寫出遞迴式:\n",
    "    sum(n) = 1 , n == 1\n",
    "    sum(n) = sum(n-1) + n, n > 1\n",
    " \n",
    " "
   ]
  },
  {
   "cell_type": "code",
   "execution_count": 1,
   "metadata": {},
   "outputs": [
    {
     "name": "stdout",
     "output_type": "stream",
     "text": [
      "55\n"
     ]
    }
   ],
   "source": [
    "def sum(n):\n",
    "    if n == 1:\n",
    "        return 1\n",
    "    else:\n",
    "        return sum(n-1) + n\n",
    "\n",
    "n = 10\n",
    "print(sum(n))"
   ]
  },
  {
   "cell_type": "markdown",
   "metadata": {},
   "source": [
    "## 請計算 三角錐形香檳塔的香檳杯總數\n",
    "\n",
    "    第一層有一個杯子、第二層有 3 個杯子、第 n 層有 n*(n+1)/2 個杯子、依此類推。\n",
    "\n",
    "<img src=\"images/recursion_triangle.jpg\">"
   ]
  },
  {
   "cell_type": "code",
   "execution_count": null,
   "metadata": {},
   "outputs": [],
   "source": []
  },
  {
   "cell_type": "markdown",
   "metadata": {},
   "source": [
    "## 請計算金字塔型香檳塔的香檳杯總數\n",
    "\n",
    "<img src=\"images/recursion_square.jpg\">"
   ]
  },
  {
   "cell_type": "markdown",
   "metadata": {},
   "source": [
    "## 平面切割\n",
    "<div style=\"float: left; vertical-align:middle;\">\n",
    "<img src=\"images/recursion_cut1.png\" width=200 style=\"float: left;\"><img src=\"images/recursion_cut2.png\" width=200 style=\"float: left;\"><img src=\"images/recursion_cut3.png\" width=200 style=\"float: left;\"><img src=\"images/recursion_cut4.png\" width=200 style=\"float: left;\"><img src=\"images/recursion_cut5.png\" width=200 style=\"float: left;\"></div>\n",
    "\n",
    "### 請問，在一個平面上切 n 刀，最多可以切出多少個區域?\n",
    "\n",
    "請寫出遞迴式:\n",
    "\n",
    "    cut(n) = 1 ; n =0\n",
    "    cut(n) = 2 ; n = 1\n",
    "    cut(n) = cut(n-1)+n; \n",
    "    "
   ]
  },
  {
   "cell_type": "markdown",
   "metadata": {},
   "source": [
    "## 最大公因數 GCD\n",
    "\n",
    "請寫出遞迴式:\n",
    "\n",
    "    gcd(a, b) = b; when a%b==0\n",
    "    gcd(a, b) = gcd(b, a%b)"
   ]
  },
  {
   "cell_type": "markdown",
   "metadata": {},
   "source": [
    "## 費式數列 Fibonacci\n",
    "\n",
    "請寫出遞迴式:\n",
    "\n",
    "    fib(n) = 1; when n==0\n",
    "    fib(n) = 1; when n==1\n",
    "    fib(n) = fib(n-1) + fib(n-2)"
   ]
  },
  {
   "cell_type": "markdown",
   "metadata": {},
   "source": [
    "## 排列，給你幾個字元，比如 a, b, c 請問能排出多少種不同順序?\n",
    "\n",
    "    比如: \n",
    "    a b c \n",
    "    a c b\n",
    "    b a c\n",
    "    b c a\n",
    "    ...."
   ]
  },
  {
   "cell_type": "markdown",
   "metadata": {},
   "source": []
  },
  {
   "cell_type": "markdown",
   "metadata": {},
   "source": [
    "### 小朋友下樓梯\n",
    "\n",
    "    小朋友很喜歡在樓梯間玩耍，有時一步一步下樓，有時候一次兩步。有一天，聰明的小明，在旁邊觀察沉思，他想知道，如果混和各種步伐，小朋友總共到底有幾種下樓梯的方式?\n",
    "    假設，樓梯有 n 階，小朋友可以用 1 or 2 步，的方式下樓梯，總共可以有幾種方式下樓?\n",
    "    \n",
    "![](images/step.PNG)\n",
    "    "
   ]
  },
  {
   "cell_type": "code",
   "execution_count": 10,
   "metadata": {},
   "outputs": [
    {
     "data": {
      "text/plain": [
       "89"
      ]
     },
     "execution_count": 10,
     "metadata": {},
     "output_type": "execute_result"
    }
   ],
   "source": [
    "def step(n):\n",
    "    if n == 1:\n",
    "        return 1\n",
    "    elif n == 2:\n",
    "        return 2\n",
    "    else:\n",
    "        return step(n-1) + step(n-2)\n",
    "\n",
    "\n",
    "step(10)"
   ]
  },
  {
   "cell_type": "code",
   "execution_count": null,
   "metadata": {},
   "outputs": [],
   "source": [
    "# 如果可以 跨 1 階, 2 階, 3 階 呢? \n",
    "\n",
    "def step(n):\n",
    "    if n == 1:\n",
    "        return 1\n",
    "    elif n == 2:\n",
    "        return 2\n",
    "    elif n == 3:\n",
    "        return 4\n",
    "    else:\n",
    "        return step(n-1) + step(n-2) + step(n-3)\n",
    "\n",
    "\n",
    "step(100)"
   ]
  },
  {
   "cell_type": "markdown",
   "metadata": {},
   "source": [
    "### 坐位子\n",
    "\n",
    "    如果有n張椅子，每個人都不希望旁邊有其他人坐。總共有多少種坐法呢？\n",
    "    \n",
    "    \n",
    "![](images/chair.PNG)"
   ]
  },
  {
   "cell_type": "code",
   "execution_count": null,
   "metadata": {},
   "outputs": [],
   "source": []
  },
  {
   "cell_type": "markdown",
   "metadata": {},
   "source": [
    "## 遞迴暴搜\n",
    "\n",
    "     一般情況下，拍賣行的拍賣師在拍賣商品的時候都是從低價開始起拍，由買方報價，最後誰出的價格高，商品就歸誰所有。但海亮有個毛毛拍賣行，拍賣師毛毛在拍賣商品時正好相反：總是從高價開始起拍，如果沒有人舉成交牌就降價，而且毛毛在降價時還有規律：假如第i次報價為w元，那麼第i 1次報價為w-a或者w-b元，如果降到p元時，你認為價格合適，趕快第一個舉成交牌，你就花p元買下了商品。\n",
    "     任務：毛毛把商品從w元降到p元的方法總數。 \n",
    "    \n",
    "    解析:\n",
    "    從w元有很多方法可以降成p元，但不變的是每一次只能降a元或b元，所以，我們可以定義一個遞迴函式search（Int start ,int end）,start代表當前的拍賣金額狀態，所以start一開始就是w，end代表結束時的金額，即為p。End不定義也可以，定義了方便理解。"
   ]
  },
  {
   "cell_type": "code",
   "execution_count": 5,
   "metadata": {},
   "outputs": [
    {
     "data": {
      "text/plain": [
       "3"
      ]
     },
     "execution_count": 5,
     "metadata": {},
     "output_type": "execute_result"
    }
   ],
   "source": [
    "def search(start, end):\n",
    "    if start == end:\n",
    "        return 1\n",
    "    elif start < end:\n",
    "        return 0\n",
    "    else:\n",
    "        return search(start -a, end) + search(start - b, end)\n",
    "\n",
    "\n",
    "s = '10 3 2 3'\n",
    "w, p, a, b = [int(x) for x in s.split()]\n",
    "\n",
    "search(w, p)"
   ]
  },
  {
   "cell_type": "markdown",
   "metadata": {},
   "source": [
    "# 遞迴提升效能之路\n",
    "\n",
    "由於遞迴會需要額外的 stack 空間來儲存與彈出，因此會占用較大的空間以及效能較低。而且有些遞迴解法會有大量重複計算的問題，都是應該改寫的目標。\n",
    "\n",
    "    遞迴函式具有很好的可讀性和可維護性，但是大部分情況下程式效率不如非遞迴函式，所以在程式設計中一般喜歡先用遞迴解決問題，在保證方法正確的前提下再轉換為非遞迴函式以提高效率。\n",
    "\n",
    "* 遞迴改迴圈\n",
    "* 遞迴改 DP"
   ]
  },
  {
   "cell_type": "code",
   "execution_count": null,
   "metadata": {},
   "outputs": [],
   "source": []
  },
  {
   "cell_type": "code",
   "execution_count": null,
   "metadata": {},
   "outputs": [],
   "source": []
  },
  {
   "cell_type": "markdown",
   "metadata": {},
   "source": [
    "### 參考文獻:\n",
    "[黃健庭教學網站(遞迴)](https://sites.google.com/site/zsgititit/home/python-cheng-shi-she-ji/di-hui-python)"
   ]
  }
 ],
 "metadata": {
  "kernelspec": {
   "display_name": "Python 3",
   "language": "python",
   "name": "python3"
  },
  "language_info": {
   "codemirror_mode": {
    "name": "ipython",
    "version": 3
   },
   "file_extension": ".py",
   "mimetype": "text/x-python",
   "name": "python",
   "nbconvert_exporter": "python",
   "pygments_lexer": "ipython3",
   "version": "3.6.5"
  }
 },
 "nbformat": 4,
 "nbformat_minor": 2
}

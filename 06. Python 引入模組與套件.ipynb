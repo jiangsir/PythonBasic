{
 "cells": [
  {
   "cell_type": "markdown",
   "metadata": {},
   "source": [
    "## 使用系統函式庫"
   ]
  },
  {
   "cell_type": "code",
   "execution_count": 8,
   "metadata": {},
   "outputs": [
    {
     "name": "stdout",
     "output_type": "stream",
     "text": [
      "63\n",
      "nt\n",
      "C:\\Users\\jiangsir\\Documents\\107-1_PythonBasic\n",
      "恢復\n"
     ]
    }
   ],
   "source": [
    "import random\n",
    "\n",
    "# 呼叫亂數\n",
    "print(random.randint(0, 99))\n",
    "\n",
    "import os\n",
    "print(os.name)\n",
    "print(os.getcwd())\n",
    "\n",
    "import time\n",
    "# 暫停 秒數\n",
    "time.sleep(3)\n",
    "print('恢復')\n",
    "\n"
   ]
  },
  {
   "cell_type": "markdown",
   "metadata": {},
   "source": [
    "### 使用外部函式庫"
   ]
  },
  {
   "cell_type": "code",
   "execution_count": 7,
   "metadata": {},
   "outputs": [
    {
     "name": "stdout",
     "output_type": "stream",
     "text": [
      "Collecting BeautifulSoup\n",
      "  Using cached https://files.pythonhosted.org/packages/1e/ee/295988deca1a5a7accd783d0dfe14524867e31abb05b6c0eeceee49c759d/BeautifulSoup-3.2.1.tar.gz\n",
      "    Complete output from command python setup.py egg_info:\n",
      "    Traceback (most recent call last):\n",
      "      File \"<string>\", line 1, in <module>\n",
      "      File \"C:\\Users\\jiangsir\\AppData\\Local\\Temp\\pip-install-l0379pwm\\BeautifulSoup\\setup.py\", line 22\n",
      "        print \"Unit tests have failed!\"\n",
      "                                      ^\n",
      "    SyntaxError: Missing parentheses in call to 'print'. Did you mean print(\"Unit tests have failed!\")?\n",
      "    \n",
      "    ----------------------------------------\n"
     ]
    },
    {
     "name": "stderr",
     "output_type": "stream",
     "text": [
      "Command \"python setup.py egg_info\" failed with error code 1 in C:\\Users\\jiangsir\\AppData\\Local\\Temp\\pip-install-l0379pwm\\BeautifulSoup\\\n"
     ]
    }
   ],
   "source": [
    "!pip install BeautifulSoup\n",
    "import os\n",
    "from bs4 import BeautifulSoup\n"
   ]
  },
  {
   "cell_type": "markdown",
   "metadata": {},
   "source": [
    "### 呼叫模組\n",
    "\n",
    "也就是呼叫另一個程式檔。\n",
    "呼叫方式大致上有 3 種:\n",
    "\n",
    "* import xxxx\n",
    "* from xxxx import xxx\n",
    "* import xxxx as xx"
   ]
  },
  {
   "cell_type": "markdown",
   "metadata": {},
   "source": [
    "### 函式-使用套件(Packages)\n",
    "\n",
    "<pre>將模組(1個或多個)存在一個獨立的資料夾中, 其內增加一個 __init__.py 檔案(一個沒有內容的空檔案), 該資料夾名稱(也許有多層)即是套件名稱. 其他程式可以用import指令匯入.</pre>\n",
    "\n",
    "\n",
    "架構範例:\n",
    "    \n",
    "    |___ main.py\n",
    "    |\n",
    "    |___ <edu>\n",
    "         |___ __init__.py  (init前後有2個底線)\n",
    "         |___ ntub.py \n",
    "         \n",
    "放入套件當中的模組可以用以下幾種方式引入:\n",
    "\n",
    "* import edu.ntub\n",
    "    * 呼叫: edu.ntub.commission()\n",
    "* from edu import ntub\n",
    "    * 呼叫: ntub.commission()\n",
    "* from edu.ntub import commission()\n",
    "    * 呼叫: commission()\n",
    "* import edu.ntub as ntub\n",
    "    * 呼叫: ntub.commission()"
   ]
  },
  {
   "cell_type": "markdown",
   "metadata": {},
   "source": [
    "## Module與Package\n",
    "    基本上一個檔案就是一個 module，裡頭可以定義 function，class，和 variable。 \n",
    "    把一個 module 想成一個檔案，那一個package就是一個目錄了。Package 可裝有 subpackage 和 module，讓你的專案更條理更組織化，最後一坨打包好還能分給別人使用。"
   ]
  }
 ],
 "metadata": {
  "kernelspec": {
   "display_name": "Python 3",
   "language": "python",
   "name": "python3"
  },
  "language_info": {
   "codemirror_mode": {
    "name": "ipython",
    "version": 3
   },
   "file_extension": ".py",
   "mimetype": "text/x-python",
   "name": "python",
   "nbconvert_exporter": "python",
   "pygments_lexer": "ipython3",
   "version": "3.6.5"
  }
 },
 "nbformat": 4,
 "nbformat_minor": 2
}

{
 "cells": [
  {
   "cell_type": "markdown",
   "metadata": {},
   "source": [
    "# re(regular expression)是很方便的字串處理module。可以把原本需要很多處理字串判斷式的程式碼用更簡便的方式呈現。\n",
    "\n",
    "\n",
    "\n",
    "\n",
    "![](images/re.png)"
   ]
  },
  {
   "cell_type": "markdown",
   "metadata": {},
   "source": [
    "## match"
   ]
  },
  {
   "cell_type": "code",
   "execution_count": 1,
   "metadata": {},
   "outputs": [
    {
     "name": "stdout",
     "output_type": "stream",
     "text": [
      "matchObj.group() :  Cats are smarter than dogs\n",
      "matchObj.group(1) :  Cats\n",
      "matchObj.group(2) :  smarter\n"
     ]
    }
   ],
   "source": [
    "import re\n",
    "\n",
    "line = \"Cats are smarter than dogs\"\n",
    "\n",
    "matchObj = re.match('(.*) are (.*?) .*', line, re.M|re.I)\n",
    "\n",
    "if matchObj:\n",
    "    print(\"matchObj.group() : \", matchObj.group())\n",
    "    print(\"matchObj.group(1) : \", matchObj.group(1))\n",
    "    print(\"matchObj.group(2) : \", matchObj.group(2))\n",
    "else:\n",
    "    print(\"No match!!\")"
   ]
  },
  {
   "cell_type": "markdown",
   "metadata": {},
   "source": [
    "# re.findall()"
   ]
  },
  {
   "cell_type": "code",
   "execution_count": 1,
   "metadata": {},
   "outputs": [
    {
     "name": "stdout",
     "output_type": "stream",
     "text": [
      "['abbbbc', 'bc']\n",
      "['12', '11', '10']\n",
      "['can', 'man', 'fan']\n",
      "['591.', 'dot.', 'yes.']\n",
      "['I love cats', 'I love dogs']\n"
     ]
    }
   ],
   "source": [
    "import re\n",
    "# 練習抓abbbbc, bc\n",
    "test_string = 'find abbbbc, bc, skip c, acc'\n",
    "pattern = 'a*b+c'\n",
    "ans=re.findall(pattern,test_string)\n",
    "print(ans)\n",
    "# 練習找數字\n",
    "test_string = '12 Drummers Drumming, 11 Pipers Piping, 10 Lords a Leaping'\n",
    "pattern = '[0-9]+'\n",
    "ans=re.findall(pattern,test_string)\n",
    "print(ans)\n",
    "# 練習找文字\n",
    "test_string = 'find: can, man, fan, skip: dan, ran, pan'\n",
    "pattern = '[cmf]an'\n",
    "ans=re.findall(pattern,test_string)\n",
    "print(ans)\n",
    "# 練習跳脫符號\n",
    "test_string = 'find: 591., dot., yes., skip: non!'\n",
    "pattern = '.{3}\\.'\n",
    "ans=re.findall(pattern,test_string)\n",
    "print(ans)\n",
    "# 條件式搜尋\n",
    "test_string = 'find: I love cats, I love dogs, skip: I love logs, I love cogs'\n",
    "pattern = 'I love cats|I love dogs'\n",
    "ans=re.findall(pattern,test_string)\n",
    "print(ans)"
   ]
  },
  {
   "cell_type": "markdown",
   "metadata": {},
   "source": [
    "## search\n",
    "search函數"
   ]
  },
  {
   "cell_type": "code",
   "execution_count": null,
   "metadata": {},
   "outputs": [],
   "source": [
    "import re\n",
    "\n",
    "line = \"Cats are smarter than dogs\";\n",
    "\n",
    "searchObj = re.search( r'(.*) are (.*?) .*', line, re.M|re.I)\n",
    "\n",
    "if searchObj:\n",
    "   print \"searchObj.group() : \", searchObj.group()\n",
    "   print \"searchObj.group(1) : \", searchObj.group(1)\n",
    "   print \"searchObj.group(2) : \", searchObj.group(2)\n",
    "else:\n",
    "   print \"Nothing found!!\""
   ]
  }
 ],
 "metadata": {
  "kernelspec": {
   "display_name": "Python 3",
   "language": "python",
   "name": "python3"
  },
  "language_info": {
   "codemirror_mode": {
    "name": "ipython",
    "version": 3
   },
   "file_extension": ".py",
   "mimetype": "text/x-python",
   "name": "python",
   "nbconvert_exporter": "python",
   "pygments_lexer": "ipython3",
   "version": "3.6.5"
  }
 },
 "nbformat": 4,
 "nbformat_minor": 2
}

{
 "cells": [
  {
   "cell_type": "markdown",
   "metadata": {},
   "source": [
    "# 先備知識: stack, queue"
   ]
  },
  {
   "cell_type": "markdown",
   "metadata": {},
   "source": [
    "## DFS \n",
    "\n",
    "    從w元有很多方法可以降成p元，但不變的是每一次只能降a元或b元，所以，我們可以定義一個遞迴函式search（Int start ,int end）,start代表當前的拍賣金額狀態，所以start一開始就是w，end代表結束時的金額，即為p。End不定義也可以，定義了方便理解。\n",
    "    \n",
    "    "
   ]
  },
  {
   "cell_type": "code",
   "execution_count": 5,
   "metadata": {},
   "outputs": [
    {
     "data": {
      "text/plain": [
       "22"
      ]
     },
     "execution_count": 5,
     "metadata": {},
     "output_type": "execute_result"
    }
   ],
   "source": [
    "def search(start, end):\n",
    "    if start == end:\n",
    "        return 1\n",
    "    elif start < end:\n",
    "        return 0\n",
    "    else:\n",
    "        return search(start -a, end) + search(start - b, end)\n",
    "    \n",
    "w = 30\n",
    "p = 5\n",
    "a = 3\n",
    "b = 5\n",
    "\n",
    "search(w, p)"
   ]
  },
  {
   "cell_type": "markdown",
   "metadata": {},
   "source": [
    "## 參考文獻:\n",
    "\n",
    "搜尋入門略談: 拍賣、DP、回溯、迷宮(DFS搜尋)\n",
    "\n",
    "https://codertw.com/%E7%A8%8B%E5%BC%8F%E8%AA%9E%E8%A8%80/477607/\n",
    "\n",
    "\n"
   ]
  }
 ],
 "metadata": {
  "kernelspec": {
   "display_name": "Python 3",
   "language": "python",
   "name": "python3"
  },
  "language_info": {
   "codemirror_mode": {
    "name": "ipython",
    "version": 3
   },
   "file_extension": ".py",
   "mimetype": "text/x-python",
   "name": "python",
   "nbconvert_exporter": "python",
   "pygments_lexer": "ipython3",
   "version": "3.6.5"
  }
 },
 "nbformat": 4,
 "nbformat_minor": 2
}

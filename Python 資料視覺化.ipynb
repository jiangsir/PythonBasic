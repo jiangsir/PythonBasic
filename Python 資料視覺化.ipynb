{
 "cells": [
  {
   "cell_type": "markdown",
   "metadata": {},
   "source": [
    "# Python 資料視覺化\n",
    "\n",
    "* Plotly\n",
    "* Pyechart\n"
   ]
  },
  {
   "cell_type": "markdown",
   "metadata": {},
   "source": [
    "## Plotly 使用方式\n"
   ]
  },
  {
   "cell_type": "code",
   "execution_count": 114,
   "metadata": {},
   "outputs": [
    {
     "output_type": "stream",
     "name": "stdout",
     "text": "Requirement already satisfied: plotly==3.10.0 in c:\\users\\user\\anaconda3\\lib\\site-packages (3.10.0)\nRequirement already satisfied: retrying>=1.3.3 in c:\\users\\user\\anaconda3\\lib\\site-packages (from plotly==3.10.0) (1.3.3)\nRequirement already satisfied: pytz in c:\\users\\user\\anaconda3\\lib\\site-packages (from plotly==3.10.0) (2018.4)\nRequirement already satisfied: requests in c:\\users\\user\\anaconda3\\lib\\site-packages (from plotly==3.10.0) (2.17.1)\nRequirement already satisfied: nbformat>=4.2 in c:\\users\\user\\anaconda3\\lib\\site-packages (from plotly==3.10.0) (4.4.0)\nRequirement already satisfied: six in c:\\users\\user\\anaconda3\\lib\\site-packages (from plotly==3.10.0) (1.11.0)\nRequirement already satisfied: decorator>=4.0.6 in c:\\users\\user\\anaconda3\\lib\\site-packages (from plotly==3.10.0) (4.3.0)\nRequirement already satisfied: chardet<3.1.0,>=3.0.2 in c:\\users\\user\\anaconda3\\lib\\site-packages (from requests->plotly==3.10.0) (3.0.4)\nRequirement already satisfied: urllib3<1.22,>=1.21.1 in c:\\users\\user\\anaconda3\\lib\\site-packages (from requests->plotly==3.10.0) (1.21.1)\nRequirement already satisfied: certifi>=2017.4.17 in c:\\users\\user\\anaconda3\\lib\\site-packages (from requests->plotly==3.10.0) (2020.4.5.1)\nRequirement already satisfied: idna<2.6,>=2.5 in c:\\users\\user\\anaconda3\\lib\\site-packages (from requests->plotly==3.10.0) (2.5)\nRequirement already satisfied: ipython_genutils in c:\\users\\user\\anaconda3\\lib\\site-packages (from nbformat>=4.2->plotly==3.10.0) (0.2.0)\nRequirement already satisfied: traitlets>=4.1 in c:\\users\\user\\anaconda3\\lib\\site-packages (from nbformat>=4.2->plotly==3.10.0) (4.3.2)\nRequirement already satisfied: jsonschema!=2.5.0,>=2.4 in c:\\users\\user\\anaconda3\\lib\\site-packages (from nbformat>=4.2->plotly==3.10.0) (2.6.0)\nRequirement already satisfied: jupyter_core in c:\\users\\user\\anaconda3\\lib\\site-packages (from nbformat>=4.2->plotly==3.10.0) (4.4.0)\nWARNING: You are using pip version 20.0.2; however, version 20.1 is available.\nYou should consider upgrading via the 'c:\\users\\user\\anaconda3\\python.exe -m pip install --upgrade pip' command.\nRequirement already satisfied: seaborn in c:\\users\\user\\anaconda3\\lib\\site-packages (0.8.1)\nRequirement already satisfied: numpy in c:\\users\\user\\anaconda3\\lib\\site-packages (from seaborn) (1.14.3)\nRequirement already satisfied: scipy in c:\\users\\user\\anaconda3\\lib\\site-packages (from seaborn) (1.1.0)\nRequirement already satisfied: matplotlib in c:\\users\\user\\anaconda3\\lib\\site-packages (from seaborn) (3.1.0)\nRequirement already satisfied: pandas in c:\\users\\user\\anaconda3\\lib\\site-packages (from seaborn) (0.23.0)\nRequirement already satisfied: cycler>=0.10 in c:\\users\\user\\anaconda3\\lib\\site-packages (from matplotlib->seaborn) (0.10.0)\nRequirement already satisfied: pyparsing!=2.0.4,!=2.1.2,!=2.1.6,>=2.0.1 in c:\\users\\user\\anaconda3\\lib\\site-packages (from matplotlib->seaborn) (2.2.0)\nRequirement already satisfied: kiwisolver>=1.0.1 in c:\\users\\user\\anaconda3\\lib\\site-packages (from matplotlib->seaborn) (1.0.1)\nRequirement already satisfied: python-dateutil>=2.1 in c:\\users\\user\\anaconda3\\lib\\site-packages (from matplotlib->seaborn) (2.7.3)\nRequirement already satisfied: pytz>=2011k in c:\\users\\user\\anaconda3\\lib\\site-packages (from pandas->seaborn) (2018.4)\nRequirement already satisfied: six in c:\\users\\user\\anaconda3\\lib\\site-packages (from cycler>=0.10->matplotlib->seaborn) (1.11.0)\nRequirement already satisfied: setuptools in c:\\users\\user\\anaconda3\\lib\\site-packages (from kiwisolver>=1.0.1->matplotlib->seaborn) (40.4.3)\nWARNING: You are using pip version 20.0.2; however, version 20.1 is available.\nYou should consider upgrading via the 'c:\\users\\user\\anaconda3\\python.exe -m pip install --upgrade pip' command.\nRequirement already satisfied: plotly==3.10.0 in c:\\users\\user\\anaconda3\\lib\\site-packages (3.10.0)\nRequirement already satisfied: requests in c:\\users\\user\\anaconda3\\lib\\site-packages (from plotly==3.10.0) (2.17.1)\nRequirement already satisfied: retrying>=1.3.3 in c:\\users\\user\\anaconda3\\lib\\site-packages (from plotly==3.10.0) (1.3.3)\nRequirement already satisfied: pytz in c:\\users\\user\\anaconda3\\lib\\site-packages (from plotly==3.10.0) (2018.4)\nRequirement already satisfied: nbformat>=4.2 in c:\\users\\user\\anaconda3\\lib\\site-packages (from plotly==3.10.0) (4.4.0)\nRequirement already satisfied: six in c:\\users\\user\\anaconda3\\lib\\site-packages (from plotly==3.10.0) (1.11.0)\nRequirement already satisfied: decorator>=4.0.6 in c:\\users\\user\\anaconda3\\lib\\site-packages (from plotly==3.10.0) (4.3.0)\nRequirement already satisfied: idna<2.6,>=2.5 in c:\\users\\user\\anaconda3\\lib\\site-packages (from requests->plotly==3.10.0) (2.5)\nRequirement already satisfied: urllib3<1.22,>=1.21.1 in c:\\users\\user\\anaconda3\\lib\\site-packages (from requests->plotly==3.10.0) (1.21.1)\nRequirement already satisfied: certifi>=2017.4.17 in c:\\users\\user\\anaconda3\\lib\\site-packages (from requests->plotly==3.10.0) (2020.4.5.1)\nRequirement already satisfied: chardet<3.1.0,>=3.0.2 in c:\\users\\user\\anaconda3\\lib\\site-packages (from requests->plotly==3.10.0) (3.0.4)\nRequirement already satisfied: ipython_genutils in c:\\users\\user\\anaconda3\\lib\\site-packages (from nbformat>=4.2->plotly==3.10.0) (0.2.0)\nRequirement already satisfied: traitlets>=4.1 in c:\\users\\user\\anaconda3\\lib\\site-packages (from nbformat>=4.2->plotly==3.10.0) (4.3.2)\nRequirement already satisfied: jsonschema!=2.5.0,>=2.4 in c:\\users\\user\\anaconda3\\lib\\site-packages (from nbformat>=4.2->plotly==3.10.0) (2.6.0)\nRequirement already satisfied: jupyter_core in c:\\users\\user\\anaconda3\\lib\\site-packages (from nbformat>=4.2->plotly==3.10.0) (4.4.0)\nWARNING: You are using pip version 20.0.2; however, version 20.1 is available.\nYou should consider upgrading via the 'c:\\users\\user\\anaconda3\\python.exe -m pip install --upgrade pip' command.\nRequirement already satisfied: seaborn in c:\\users\\user\\anaconda3\\lib\\site-packages (0.8.1)\nRequirement already satisfied: numpy in c:\\users\\user\\anaconda3\\lib\\site-packages (from seaborn) (1.14.3)\nRequirement already satisfied: scipy in c:\\users\\user\\anaconda3\\lib\\site-packages (from seaborn) (1.1.0)\nRequirement already satisfied: matplotlib in c:\\users\\user\\anaconda3\\lib\\site-packages (from seaborn) (3.1.0)\nRequirement already satisfied: pandas in c:\\users\\user\\anaconda3\\lib\\site-packages (from seaborn) (0.23.0)\nRequirement already satisfied: python-dateutil>=2.1 in c:\\users\\user\\anaconda3\\lib\\site-packages (from matplotlib->seaborn) (2.7.3)\nRequirement already satisfied: cycler>=0.10 in c:\\users\\user\\anaconda3\\lib\\site-packages (from matplotlib->seaborn) (0.10.0)\nRequirement already satisfied: pyparsing!=2.0.4,!=2.1.2,!=2.1.6,>=2.0.1 in c:\\users\\user\\anaconda3\\lib\\site-packages (from matplotlib->seaborn) (2.2.0)\nRequirement already satisfied: kiwisolver>=1.0.1 in c:\\users\\user\\anaconda3\\lib\\site-packages (from matplotlib->seaborn) (1.0.1)\nRequirement already satisfied: pytz>=2011k in c:\\users\\user\\anaconda3\\lib\\site-packages (from pandas->seaborn) (2018.4)\nRequirement already satisfied: six>=1.5 in c:\\users\\user\\anaconda3\\lib\\site-packages (from python-dateutil>=2.1->matplotlib->seaborn) (1.11.0)\nRequirement already satisfied: setuptools in c:\\users\\user\\anaconda3\\lib\\site-packages (from kiwisolver>=1.0.1->matplotlib->seaborn) (40.4.3)\nWARNING: You are using pip version 20.0.2; however, version 20.1 is available.\nYou should consider upgrading via the 'c:\\users\\user\\anaconda3\\python.exe -m pip install --upgrade pip' command.\n"
    }
   ],
   "source": [
    "#!pip3 install plotly\n",
    "#!pip3 uninstall cufflinks \n",
    "!pip install plotly==3.10.0\n",
    "!pip install seaborn\n",
    "!pip3 install plotly==3.10.0\n",
    "!pip3 install seaborn"
   ]
  },
  {
   "cell_type": "code",
   "execution_count": 11,
   "metadata": {},
   "outputs": [
    {
     "output_type": "execute_result",
     "data": {
      "text/plain": "     Is Python the main language you use for your current projects?  \\\n0                                                   Yes               \n1                                                   Yes               \n2                                                   Yes               \n3        No, I don’t use Python for my current projects               \n4                                                   Yes               \n...                                                 ...               \n9501                                                Yes               \n9502           No, I use Python as a secondary language               \n9503                                                Yes               \n9504                                                Yes               \n9505     No, I don’t use Python for my current projects               \n\n     None:What other language(s) do you use?  \\\n0                                        NaN   \n1                                        NaN   \n2                                        NaN   \n3                                        NaN   \n4                                        NaN   \n...                                      ...   \n9501                                     NaN   \n9502                                     NaN   \n9503                                    None   \n9504                                     NaN   \n9505                                     NaN   \n\n     Java:What other language(s) do you use?  \\\n0                                        NaN   \n1                                        NaN   \n2                                        NaN   \n3                                        NaN   \n4                                       Java   \n...                                      ...   \n9501                                     NaN   \n9502                                    Java   \n9503                                     NaN   \n9504                                     NaN   \n9505                                     NaN   \n\n     JavaScript:What other language(s) do you use?  \\\n0                                       JavaScript   \n1                                       JavaScript   \n2                                       JavaScript   \n3                                              NaN   \n4                                              NaN   \n...                                            ...   \n9501                                    JavaScript   \n9502                                           NaN   \n9503                                           NaN   \n9504                                           NaN   \n9505                                           NaN   \n\n     C/C++:What other language(s) do you use?  \\\n0                                         NaN   \n1                                         NaN   \n2                                         NaN   \n3                                         NaN   \n4                                         NaN   \n...                                       ...   \n9501                                      NaN   \n9502                                    C/C++   \n9503                                      NaN   \n9504                                    C/C++   \n9505                                      NaN   \n\n     PHP:What other language(s) do you use?  \\\n0                                       PHP   \n1                                       NaN   \n2                                       NaN   \n3                                       NaN   \n4                                       NaN   \n...                                     ...   \n9501                                    PHP   \n9502                                    NaN   \n9503                                    NaN   \n9504                                    NaN   \n9505                                    NaN   \n\n     C#:What other language(s) do you use?  \\\n0                                      NaN   \n1                                      NaN   \n2                                      NaN   \n3                                       C#   \n4                                      NaN   \n...                                    ...   \n9501                                   NaN   \n9502                                    C#   \n9503                                   NaN   \n9504                                   NaN   \n9505                                   NaN   \n\n     Ruby:What other language(s) do you use?  \\\n0                                        NaN   \n1                                        NaN   \n2                                        NaN   \n3                                        NaN   \n4                                        NaN   \n...                                      ...   \n9501                                     NaN   \n9502                                     NaN   \n9503                                     NaN   \n9504                                     NaN   \n9505                                     NaN   \n\n     Bash / Shell:What other language(s) do you use?  \\\n0                                       Bash / Shell   \n1                                                NaN   \n2                                                NaN   \n3                                                NaN   \n4                                                NaN   \n...                                              ...   \n9501                                             NaN   \n9502                                             NaN   \n9503                                             NaN   \n9504                                             NaN   \n9505                                             NaN   \n\n     Objective-C:What other language(s) do you use?  ...  \\\n0                                               NaN  ...   \n1                                               NaN  ...   \n2                                               NaN  ...   \n3                                               NaN  ...   \n4                                               NaN  ...   \n...                                             ...  ...   \n9501                                    Objective-C  ...   \n9502                                            NaN  ...   \n9503                                            NaN  ...   \n9504                                            NaN  ...   \n9505                                            NaN  ...   \n\n     Technical support:Which of the following best describes your job role(s)?  \\\n0                                                   NaN                          \n1                                                   NaN                          \n2                                                   NaN                          \n3                                                   NaN                          \n4                                                   NaN                          \n...                                                 ...                          \n9501                                                NaN                          \n9502                                                NaN                          \n9503                                                NaN                          \n9504                                                NaN                          \n9505                                                NaN                          \n\n     Data analyst:Which of the following best describes your job role(s)?  \\\n0                                                   NaN                     \n1                                                   NaN                     \n2                                                   NaN                     \n3                                                   NaN                     \n4                                                   NaN                     \n...                                                 ...                     \n9501                                                NaN                     \n9502                                                NaN                     \n9503                                                NaN                     \n9504                                                NaN                     \n9505                                                NaN                     \n\n     Business analyst:Which of the following best describes your job role(s)?  \\\n0                                                   NaN                         \n1                                                   NaN                         \n2                                                   NaN                         \n3                                                   NaN                         \n4                                                   NaN                         \n...                                                 ...                         \n9501                                                NaN                         \n9502                                                NaN                         \n9503                                                NaN                         \n9504                                                NaN                         \n9505                                                NaN                         \n\n     Team lead:Which of the following best describes your job role(s)?  \\\n0                                                   NaN                  \n1                                             Team lead                  \n2                                                   NaN                  \n3                                                   NaN                  \n4                                                   NaN                  \n...                                                 ...                  \n9501                                                NaN                  \n9502                                                NaN                  \n9503                                                NaN                  \n9504                                                NaN                  \n9505                                                NaN                  \n\n     Product manager:Which of the following best describes your job role(s)?  \\\n0                                                   NaN                        \n1                                                   NaN                        \n2                                                   NaN                        \n3                                                   NaN                        \n4                                                   NaN                        \n...                                                 ...                        \n9501                                                NaN                        \n9502                                                NaN                        \n9503                                    Product manager                        \n9504                                                NaN                        \n9505                                                NaN                        \n\n     CIO / CEO / CTO:Which of the following best describes your job role(s)?  \\\n0                                                   NaN                        \n1                                                   NaN                        \n2                                                   NaN                        \n3                                                   NaN                        \n4                                                   NaN                        \n...                                                 ...                        \n9501                                                NaN                        \n9502                                                NaN                        \n9503                                                NaN                        \n9504                                                NaN                        \n9505                                                NaN                        \n\n     Systems analyst:Which of the following best describes your job role(s)?  \\\n0                                                   NaN                        \n1                                                   NaN                        \n2                                                   NaN                        \n3                                                   NaN                        \n4                                                   NaN                        \n...                                                 ...                        \n9501                                                NaN                        \n9502                                                NaN                        \n9503                                                NaN                        \n9504                                                NaN                        \n9505                                                NaN                        \n\n     Other - Write In::Which of the following best describes your job role(s)?  \\\n0                                                   NaN                          \n1                                                   NaN                          \n2                                                   NaN                          \n3                                                   NaN                          \n4                                                   NaN                          \n...                                                 ...                          \n9501                                                NaN                          \n9502                                                NaN                          \n9503                                                NaN                          \n9504                                                NaN                          \n9505                                                NaN                          \n\n     Could you tell us your age range? What country do you live in?  \n0                          60 or older                        Italy  \n1                                40-49               United Kingdom  \n2                                40-49                       France  \n3                        17 or younger                        Spain  \n4                                18-20                       Israel  \n...                                ...                          ...  \n9501                             21-29                        India  \n9502                             21-29                        China  \n9503                             30-39                        Japan  \n9504                             21-29                        India  \n9505                             30-39                United States  \n\n[9506 rows x 162 columns]",
      "text/html": "<div>\n<style scoped>\n    .dataframe tbody tr th:only-of-type {\n        vertical-align: middle;\n    }\n\n    .dataframe tbody tr th {\n        vertical-align: top;\n    }\n\n    .dataframe thead th {\n        text-align: right;\n    }\n</style>\n<table border=\"1\" class=\"dataframe\">\n  <thead>\n    <tr style=\"text-align: right;\">\n      <th></th>\n      <th>Is Python the main language you use for your current projects?</th>\n      <th>None:What other language(s) do you use?</th>\n      <th>Java:What other language(s) do you use?</th>\n      <th>JavaScript:What other language(s) do you use?</th>\n      <th>C/C++:What other language(s) do you use?</th>\n      <th>PHP:What other language(s) do you use?</th>\n      <th>C#:What other language(s) do you use?</th>\n      <th>Ruby:What other language(s) do you use?</th>\n      <th>Bash / Shell:What other language(s) do you use?</th>\n      <th>Objective-C:What other language(s) do you use?</th>\n      <th>...</th>\n      <th>Technical support:Which of the following best describes your job role(s)?</th>\n      <th>Data analyst:Which of the following best describes your job role(s)?</th>\n      <th>Business analyst:Which of the following best describes your job role(s)?</th>\n      <th>Team lead:Which of the following best describes your job role(s)?</th>\n      <th>Product manager:Which of the following best describes your job role(s)?</th>\n      <th>CIO / CEO / CTO:Which of the following best describes your job role(s)?</th>\n      <th>Systems analyst:Which of the following best describes your job role(s)?</th>\n      <th>Other - Write In::Which of the following best describes your job role(s)?</th>\n      <th>Could you tell us your age range?</th>\n      <th>What country do you live in?</th>\n    </tr>\n  </thead>\n  <tbody>\n    <tr>\n      <th>0</th>\n      <td>Yes</td>\n      <td>NaN</td>\n      <td>NaN</td>\n      <td>JavaScript</td>\n      <td>NaN</td>\n      <td>PHP</td>\n      <td>NaN</td>\n      <td>NaN</td>\n      <td>Bash / Shell</td>\n      <td>NaN</td>\n      <td>...</td>\n      <td>NaN</td>\n      <td>NaN</td>\n      <td>NaN</td>\n      <td>NaN</td>\n      <td>NaN</td>\n      <td>NaN</td>\n      <td>NaN</td>\n      <td>NaN</td>\n      <td>60 or older</td>\n      <td>Italy</td>\n    </tr>\n    <tr>\n      <th>1</th>\n      <td>Yes</td>\n      <td>NaN</td>\n      <td>NaN</td>\n      <td>JavaScript</td>\n      <td>NaN</td>\n      <td>NaN</td>\n      <td>NaN</td>\n      <td>NaN</td>\n      <td>NaN</td>\n      <td>NaN</td>\n      <td>...</td>\n      <td>NaN</td>\n      <td>NaN</td>\n      <td>NaN</td>\n      <td>Team lead</td>\n      <td>NaN</td>\n      <td>NaN</td>\n      <td>NaN</td>\n      <td>NaN</td>\n      <td>40-49</td>\n      <td>United Kingdom</td>\n    </tr>\n    <tr>\n      <th>2</th>\n      <td>Yes</td>\n      <td>NaN</td>\n      <td>NaN</td>\n      <td>JavaScript</td>\n      <td>NaN</td>\n      <td>NaN</td>\n      <td>NaN</td>\n      <td>NaN</td>\n      <td>NaN</td>\n      <td>NaN</td>\n      <td>...</td>\n      <td>NaN</td>\n      <td>NaN</td>\n      <td>NaN</td>\n      <td>NaN</td>\n      <td>NaN</td>\n      <td>NaN</td>\n      <td>NaN</td>\n      <td>NaN</td>\n      <td>40-49</td>\n      <td>France</td>\n    </tr>\n    <tr>\n      <th>3</th>\n      <td>No, I don’t use Python for my current projects</td>\n      <td>NaN</td>\n      <td>NaN</td>\n      <td>NaN</td>\n      <td>NaN</td>\n      <td>NaN</td>\n      <td>C#</td>\n      <td>NaN</td>\n      <td>NaN</td>\n      <td>NaN</td>\n      <td>...</td>\n      <td>NaN</td>\n      <td>NaN</td>\n      <td>NaN</td>\n      <td>NaN</td>\n      <td>NaN</td>\n      <td>NaN</td>\n      <td>NaN</td>\n      <td>NaN</td>\n      <td>17 or younger</td>\n      <td>Spain</td>\n    </tr>\n    <tr>\n      <th>4</th>\n      <td>Yes</td>\n      <td>NaN</td>\n      <td>Java</td>\n      <td>NaN</td>\n      <td>NaN</td>\n      <td>NaN</td>\n      <td>NaN</td>\n      <td>NaN</td>\n      <td>NaN</td>\n      <td>NaN</td>\n      <td>...</td>\n      <td>NaN</td>\n      <td>NaN</td>\n      <td>NaN</td>\n      <td>NaN</td>\n      <td>NaN</td>\n      <td>NaN</td>\n      <td>NaN</td>\n      <td>NaN</td>\n      <td>18-20</td>\n      <td>Israel</td>\n    </tr>\n    <tr>\n      <th>...</th>\n      <td>...</td>\n      <td>...</td>\n      <td>...</td>\n      <td>...</td>\n      <td>...</td>\n      <td>...</td>\n      <td>...</td>\n      <td>...</td>\n      <td>...</td>\n      <td>...</td>\n      <td>...</td>\n      <td>...</td>\n      <td>...</td>\n      <td>...</td>\n      <td>...</td>\n      <td>...</td>\n      <td>...</td>\n      <td>...</td>\n      <td>...</td>\n      <td>...</td>\n      <td>...</td>\n    </tr>\n    <tr>\n      <th>9501</th>\n      <td>Yes</td>\n      <td>NaN</td>\n      <td>NaN</td>\n      <td>JavaScript</td>\n      <td>NaN</td>\n      <td>PHP</td>\n      <td>NaN</td>\n      <td>NaN</td>\n      <td>NaN</td>\n      <td>Objective-C</td>\n      <td>...</td>\n      <td>NaN</td>\n      <td>NaN</td>\n      <td>NaN</td>\n      <td>NaN</td>\n      <td>NaN</td>\n      <td>NaN</td>\n      <td>NaN</td>\n      <td>NaN</td>\n      <td>21-29</td>\n      <td>India</td>\n    </tr>\n    <tr>\n      <th>9502</th>\n      <td>No, I use Python as a secondary language</td>\n      <td>NaN</td>\n      <td>Java</td>\n      <td>NaN</td>\n      <td>C/C++</td>\n      <td>NaN</td>\n      <td>C#</td>\n      <td>NaN</td>\n      <td>NaN</td>\n      <td>NaN</td>\n      <td>...</td>\n      <td>NaN</td>\n      <td>NaN</td>\n      <td>NaN</td>\n      <td>NaN</td>\n      <td>NaN</td>\n      <td>NaN</td>\n      <td>NaN</td>\n      <td>NaN</td>\n      <td>21-29</td>\n      <td>China</td>\n    </tr>\n    <tr>\n      <th>9503</th>\n      <td>Yes</td>\n      <td>None</td>\n      <td>NaN</td>\n      <td>NaN</td>\n      <td>NaN</td>\n      <td>NaN</td>\n      <td>NaN</td>\n      <td>NaN</td>\n      <td>NaN</td>\n      <td>NaN</td>\n      <td>...</td>\n      <td>NaN</td>\n      <td>NaN</td>\n      <td>NaN</td>\n      <td>NaN</td>\n      <td>Product manager</td>\n      <td>NaN</td>\n      <td>NaN</td>\n      <td>NaN</td>\n      <td>30-39</td>\n      <td>Japan</td>\n    </tr>\n    <tr>\n      <th>9504</th>\n      <td>Yes</td>\n      <td>NaN</td>\n      <td>NaN</td>\n      <td>NaN</td>\n      <td>C/C++</td>\n      <td>NaN</td>\n      <td>NaN</td>\n      <td>NaN</td>\n      <td>NaN</td>\n      <td>NaN</td>\n      <td>...</td>\n      <td>NaN</td>\n      <td>NaN</td>\n      <td>NaN</td>\n      <td>NaN</td>\n      <td>NaN</td>\n      <td>NaN</td>\n      <td>NaN</td>\n      <td>NaN</td>\n      <td>21-29</td>\n      <td>India</td>\n    </tr>\n    <tr>\n      <th>9505</th>\n      <td>No, I don’t use Python for my current projects</td>\n      <td>NaN</td>\n      <td>NaN</td>\n      <td>NaN</td>\n      <td>NaN</td>\n      <td>NaN</td>\n      <td>NaN</td>\n      <td>NaN</td>\n      <td>NaN</td>\n      <td>NaN</td>\n      <td>...</td>\n      <td>NaN</td>\n      <td>NaN</td>\n      <td>NaN</td>\n      <td>NaN</td>\n      <td>NaN</td>\n      <td>NaN</td>\n      <td>NaN</td>\n      <td>NaN</td>\n      <td>30-39</td>\n      <td>United States</td>\n    </tr>\n  </tbody>\n</table>\n<p>9506 rows × 162 columns</p>\n</div>"
     },
     "metadata": {},
     "execution_count": 11
    }
   ],
   "source": [
    "import pandas as pd\n",
    "import os\n",
    "\n",
    "os.getcwd()\n",
    "\n",
    "df = pd.read_csv(os.getcwd()+'/datas/pythondevsurvey2017_raw_data.txt')\n",
    "df"
   ]
  },
  {
   "cell_type": "code",
   "execution_count": 119,
   "metadata": {},
   "outputs": [
    {
     "output_type": "error",
     "ename": "ModuleNotFoundError",
     "evalue": "No module named 'plotly'",
     "traceback": [
      "\u001b[1;31m---------------------------------------------------------------------------\u001b[0m",
      "\u001b[1;31mModuleNotFoundError\u001b[0m                       Traceback (most recent call last)",
      "\u001b[1;32m<ipython-input-119-26f6a42b5624>\u001b[0m in \u001b[0;36m<module>\u001b[1;34m\u001b[0m\n\u001b[1;32m----> 1\u001b[1;33m \u001b[1;32mimport\u001b[0m \u001b[0mplotly\u001b[0m\u001b[1;33m.\u001b[0m\u001b[0mgraph_objs\u001b[0m \u001b[1;32mas\u001b[0m \u001b[0mgo\u001b[0m\u001b[1;33m\u001b[0m\u001b[1;33m\u001b[0m\u001b[0m\n\u001b[0m\u001b[0;32m      2\u001b[0m \u001b[1;32mimport\u001b[0m \u001b[0mplotly\u001b[0m\u001b[1;33m.\u001b[0m\u001b[0mplotly\u001b[0m \u001b[1;32mas\u001b[0m \u001b[0mpy\u001b[0m\u001b[1;33m\u001b[0m\u001b[1;33m\u001b[0m\u001b[0m\n\u001b[0;32m      3\u001b[0m \u001b[1;31m# from plotly import tools\u001b[0m\u001b[1;33m\u001b[0m\u001b[1;33m\u001b[0m\u001b[1;33m\u001b[0m\u001b[0m\n\u001b[0;32m      4\u001b[0m \u001b[1;32mfrom\u001b[0m \u001b[0mplotly\u001b[0m\u001b[1;33m.\u001b[0m\u001b[0moffline\u001b[0m \u001b[1;32mimport\u001b[0m \u001b[0minit_notebook_mode\u001b[0m\u001b[1;33m\u001b[0m\u001b[1;33m\u001b[0m\u001b[0m\n\u001b[0;32m      5\u001b[0m \u001b[1;32mimport\u001b[0m \u001b[0mplotly\u001b[0m\u001b[1;33m.\u001b[0m\u001b[0moffline\u001b[0m \u001b[1;32mas\u001b[0m \u001b[0moffline\u001b[0m\u001b[1;33m\u001b[0m\u001b[1;33m\u001b[0m\u001b[0m\n",
      "\u001b[1;31mModuleNotFoundError\u001b[0m: No module named 'plotly'"
     ]
    }
   ],
   "source": [
    "import plotly.graph_objs as go\n",
    "import plotly.plotly as py\n",
    "# from plotly import tools\n",
    "from plotly.offline import init_notebook_mode\n",
    "import plotly.offline as offline\n",
    "import numpy as np\n",
    "import pandas as pd\n",
    "import seaborn as sns\n",
    "from matplotlib.colors import rgb2hex"
   ]
  },
  {
   "cell_type": "code",
   "execution_count": 122,
   "metadata": {},
   "outputs": [
    {
     "output_type": "error",
     "ename": "NameError",
     "evalue": "name 'init_notebook_mode' is not defined",
     "traceback": [
      "\u001b[1;31m---------------------------------------------------------------------------\u001b[0m",
      "\u001b[1;31mNameError\u001b[0m                                 Traceback (most recent call last)",
      "\u001b[1;32m<ipython-input-122-b6be025d8fde>\u001b[0m in \u001b[0;36m<module>\u001b[1;34m\u001b[0m\n\u001b[1;32m----> 1\u001b[1;33m \u001b[0minit_notebook_mode\u001b[0m\u001b[1;33m(\u001b[0m\u001b[0mconnected\u001b[0m\u001b[1;33m=\u001b[0m\u001b[1;32mFalse\u001b[0m\u001b[1;33m)\u001b[0m\u001b[1;33m\u001b[0m\u001b[1;33m\u001b[0m\u001b[0m\n\u001b[0m",
      "\u001b[1;31mNameError\u001b[0m: name 'init_notebook_mode' is not defined"
     ]
    }
   ],
   "source": [
    "init_notebook_mode(connected=False)\n"
   ]
  },
  {
   "cell_type": "code",
   "execution_count": 125,
   "metadata": {},
   "outputs": [
    {
     "output_type": "error",
     "ename": "NameError",
     "evalue": "name 'go' is not defined",
     "traceback": [
      "\u001b[1;31m---------------------------------------------------------------------------\u001b[0m",
      "\u001b[1;31mNameError\u001b[0m                                 Traceback (most recent call last)",
      "\u001b[1;32m<ipython-input-125-ea29abff441b>\u001b[0m in \u001b[0;36m<module>\u001b[1;34m\u001b[0m\n\u001b[0;32m      2\u001b[0m \u001b[1;31m# 颜色支持 rgb 和 十六进制格式\u001b[0m\u001b[1;33m\u001b[0m\u001b[1;33m\u001b[0m\u001b[1;33m\u001b[0m\u001b[0m\n\u001b[0;32m      3\u001b[0m \u001b[1;31m# 对于大数据量可以使用 go.Scattergl 进行绘制\u001b[0m\u001b[1;33m\u001b[0m\u001b[1;33m\u001b[0m\u001b[1;33m\u001b[0m\u001b[0m\n\u001b[1;32m----> 4\u001b[1;33m trace1 = go.Scatter(x=np.arange(100), y = np.random.rand(100), mode='lines+markers',\n\u001b[0m\u001b[0;32m      5\u001b[0m                    marker={\n\u001b[0;32m      6\u001b[0m                        \u001b[1;34m'color'\u001b[0m\u001b[1;33m:\u001b[0m \u001b[1;34m'red'\u001b[0m\u001b[1;33m\u001b[0m\u001b[1;33m\u001b[0m\u001b[0m\n",
      "\u001b[1;31mNameError\u001b[0m: name 'go' is not defined"
     ]
    }
   ],
   "source": [
    "# mode 可以是 ['lines', 'markers', 'text'] 三者的任意组合\n",
    "# 颜色支持 rgb 和 十六进制格式\n",
    "# 对于大数据量可以使用 go.Scattergl 进行绘制\n",
    "trace1 = go.Scatter(x=np.arange(100), y = np.random.rand(100), mode='lines+markers',\n",
    "                   marker={\n",
    "                       'color': 'red'\n",
    "                   })\n",
    "data = [trace1]\n",
    "layout = {\n",
    "    'title': '散点+折线'\n",
    "}\n",
    "# go.FigureWidget(data=data, layout=layout)\n",
    "\n",
    "fig = go.Figure(data=data, layout=layout)\n",
    "# py.iplot(fig, show_link=False)\n",
    "\n",
    "offline.iplot(fig, show_link=False)"
   ]
  },
  {
   "cell_type": "markdown",
   "metadata": {},
   "source": [
    "# pyechart 使用方式\n",
    "\n",
    "## 使用範例：https://gallery.pyecharts.org/#/Bar/bar_stack0"
   ]
  },
  {
   "cell_type": "code",
   "execution_count": 128,
   "metadata": {},
   "outputs": [
    {
     "output_type": "stream",
     "name": "stdout",
     "text": "Requirement already satisfied: pyecharts in c:\\users\\user\\anaconda3\\lib\\site-packages (1.7.1)\nRequirement already satisfied: prettytable in c:\\users\\user\\anaconda3\\lib\\site-packages (from pyecharts) (0.7.2)\nRequirement already satisfied: jinja2 in c:\\users\\user\\anaconda3\\lib\\site-packages (from pyecharts) (2.10)\nRequirement already satisfied: simplejson in c:\\users\\user\\anaconda3\\lib\\site-packages (from pyecharts) (3.17.0)\nRequirement already satisfied: MarkupSafe>=0.23 in c:\\users\\user\\anaconda3\\lib\\site-packages (from jinja2->pyecharts) (1.0)\nWARNING: You are using pip version 20.0.2; however, version 20.1 is available.\nYou should consider upgrading via the 'c:\\users\\user\\anaconda3\\python.exe -m pip install --upgrade pip' command.\nRequirement already up-to-date: pyecharts in c:\\users\\user\\anaconda3\\lib\\site-packages (1.7.1)\nRequirement already satisfied, skipping upgrade: prettytable in c:\\users\\user\\anaconda3\\lib\\site-packages (from pyecharts) (0.7.2)\nRequirement already satisfied, skipping upgrade: simplejson in c:\\users\\user\\anaconda3\\lib\\site-packages (from pyecharts) (3.17.0)\nRequirement already satisfied, skipping upgrade: jinja2 in c:\\users\\user\\anaconda3\\lib\\site-packages (from pyecharts) (2.10)\nRequirement already satisfied, skipping upgrade: MarkupSafe>=0.23 in c:\\users\\user\\anaconda3\\lib\\site-packages (from jinja2->pyecharts) (1.0)\nWARNING: You are using pip version 20.0.2; however, version 20.1 is available.\nYou should consider upgrading via the 'c:\\users\\user\\anaconda3\\python.exe -m pip install --upgrade pip' command.\n"
    }
   ],
   "source": [
    "!pip3 install pyecharts \n",
    "!pip3 install pyecharts -U\n",
    "#!pip3 install pip pyecharts==0.1.9.4"
   ]
  },
  {
   "cell_type": "code",
   "execution_count": 130,
   "metadata": {},
   "outputs": [
    {
     "output_type": "stream",
     "name": "stdout",
     "text": "Requirement already satisfied: echarts-countries-pypkg in c:\\users\\user\\anaconda3\\lib\\site-packages (0.1.6)\nRequirement already satisfied: pyecharts-jupyter-installer==0.0.3 in c:\\users\\user\\anaconda3\\lib\\site-packages (from echarts-countries-pypkg) (0.0.3)\nRequirement already satisfied: lml>=0.0.2 in c:\\users\\user\\anaconda3\\lib\\site-packages (from echarts-countries-pypkg) (0.0.9)\nWARNING: You are using pip version 20.0.2; however, version 20.1 is available.\nYou should consider upgrading via the 'c:\\users\\user\\anaconda3\\python.exe -m pip install --upgrade pip' command.\n"
    }
   ],
   "source": [
    "!pip3 install echarts-countries-pypkg"
   ]
  },
  {
   "cell_type": "code",
   "execution_count": 143,
   "metadata": {},
   "outputs": [
    {
     "output_type": "execute_result",
     "data": {
      "text/plain": "<pyecharts.render.display.HTML at 0x44396d0>",
      "text/html": "\n<script>\n    require.config({\n        paths: {\n            'echarts':'https://assets.pyecharts.org/assets/echarts.min'\n        }\n    });\n</script>\n\n        <div id=\"2a7260b647fd4e16b898ab521ef30739\" style=\"width:450px; height:300px;\"></div>\n\n<script>\n        require(['echarts'], function(echarts) {\n                var chart_2a7260b647fd4e16b898ab521ef30739 = echarts.init(\n                    document.getElementById('2a7260b647fd4e16b898ab521ef30739'), 'white', {renderer: 'canvas'});\n                var option_2a7260b647fd4e16b898ab521ef30739 = {\n    \"animation\": true,\n    \"animationThreshold\": 2000,\n    \"animationDuration\": 1000,\n    \"animationEasing\": \"cubicOut\",\n    \"animationDelay\": 0,\n    \"animationDurationUpdate\": 300,\n    \"animationEasingUpdate\": \"cubicOut\",\n    \"animationDelayUpdate\": 0,\n    \"color\": [\n        \"#c23531\",\n        \"#2f4554\",\n        \"#61a0a8\",\n        \"#d48265\",\n        \"#749f83\",\n        \"#ca8622\",\n        \"#bda29a\",\n        \"#6e7074\",\n        \"#546570\",\n        \"#c4ccd3\",\n        \"#f05b72\",\n        \"#ef5b9c\",\n        \"#f47920\",\n        \"#905a3d\",\n        \"#fab27b\",\n        \"#2a5caa\",\n        \"#444693\",\n        \"#726930\",\n        \"#b2d235\",\n        \"#6d8346\",\n        \"#ac6767\",\n        \"#1d953f\",\n        \"#6950a1\",\n        \"#918597\"\n    ],\n    \"series\": [\n        {\n            \"type\": \"bar\",\n            \"name\": \"\\u679c\\u5b50\\u72f8\",\n            \"data\": [\n                5,\n                20,\n                36,\n                10,\n                75,\n                90\n            ],\n            \"barCategoryGap\": \"20%\",\n            \"label\": {\n                \"show\": true,\n                \"position\": \"top\",\n                \"margin\": 8\n            }\n        }\n    ],\n    \"legend\": [\n        {\n            \"data\": [\n                \"\\u679c\\u5b50\\u72f8\"\n            ],\n            \"selected\": {\n                \"\\u679c\\u5b50\\u72f8\": true\n            }\n        }\n    ],\n    \"tooltip\": {\n        \"show\": true,\n        \"trigger\": \"item\",\n        \"triggerOn\": \"mousemove|click\",\n        \"axisPointer\": {\n            \"type\": \"line\"\n        },\n        \"textStyle\": {\n            \"fontSize\": 14\n        },\n        \"borderWidth\": 0\n    },\n    \"xAxis\": [\n        {\n            \"show\": true,\n            \"scale\": false,\n            \"nameLocation\": \"end\",\n            \"nameGap\": 15,\n            \"gridIndex\": 0,\n            \"inverse\": false,\n            \"offset\": 0,\n            \"splitNumber\": 5,\n            \"minInterval\": 0,\n            \"splitLine\": {\n                \"show\": false,\n                \"lineStyle\": {\n                    \"show\": true,\n                    \"width\": 1,\n                    \"opacity\": 1,\n                    \"curveness\": 0,\n                    \"type\": \"solid\"\n                }\n            },\n            \"data\": [\n                \"\\u860b\\u679c\",\n                \"\\u9cf3\\u68a8\",\n                \"\\u6a58\\u5b50\",\n                \"\\u897f\\u74dc\",\n                \"\\u8292\\u679c\",\n                \"\\u68d7\\u5b50\"\n            ]\n        }\n    ],\n    \"yAxis\": [\n        {\n            \"show\": true,\n            \"scale\": false,\n            \"nameLocation\": \"end\",\n            \"nameGap\": 15,\n            \"gridIndex\": 0,\n            \"inverse\": false,\n            \"offset\": 0,\n            \"splitNumber\": 5,\n            \"minInterval\": 0,\n            \"splitLine\": {\n                \"show\": false,\n                \"lineStyle\": {\n                    \"show\": true,\n                    \"width\": 1,\n                    \"opacity\": 1,\n                    \"curveness\": 0,\n                    \"type\": \"solid\"\n                }\n            }\n        }\n    ]\n};\n                chart_2a7260b647fd4e16b898ab521ef30739.setOption(option_2a7260b647fd4e16b898ab521ef30739);\n        });\n    </script>\n"
     },
     "metadata": {},
     "execution_count": 143
    }
   ],
   "source": [
    "#柱狀圖-Bar\n",
    "from pyecharts import options as opts\n",
    "from pyecharts.charts import Bar\n",
    "bar = Bar(init_opts=opts.InitOpts(width=\"450px\", height=\"300px\"))\n",
    "bar.add_xaxis([\"蘋果\", \"鳳梨\", \"橘子\", \"西瓜\", \"芒果\", \"棗子\"])\n",
    "bar.add_yaxis(\"果子狸\", [5, 20, 36, 10, 75, 90])\n",
    "\n",
    "#bar.render()\n",
    "bar.load_javascript()\n",
    "bar.render_notebook()\n"
   ]
  },
  {
   "cell_type": "code",
   "execution_count": 1,
   "metadata": {},
   "outputs": [
    {
     "output_type": "execute_result",
     "data": {
      "text/plain": "<pyecharts.render.display.HTML at 0x1744898>",
      "text/html": "\n<script>\n    require.config({\n        paths: {\n            'echarts':'https://assets.pyecharts.org/assets/echarts.min'\n        }\n    });\n</script>\n\n        <div id=\"15ef2b795c53416e82db5584c3682b37\" style=\"width:900px; height:500px;\"></div>\n\n<script>\n        require(['echarts'], function(echarts) {\n                var chart_15ef2b795c53416e82db5584c3682b37 = echarts.init(\n                    document.getElementById('15ef2b795c53416e82db5584c3682b37'), 'white', {renderer: 'canvas'});\n                var option_15ef2b795c53416e82db5584c3682b37 = {\n    \"animation\": true,\n    \"animationThreshold\": 2000,\n    \"animationDuration\": 1000,\n    \"animationEasing\": \"cubicOut\",\n    \"animationDelay\": 0,\n    \"animationDurationUpdate\": 300,\n    \"animationEasingUpdate\": \"cubicOut\",\n    \"animationDelayUpdate\": 0,\n    \"color\": [\n        \"#c23531\",\n        \"#2f4554\",\n        \"#61a0a8\",\n        \"#d48265\",\n        \"#749f83\",\n        \"#ca8622\",\n        \"#bda29a\",\n        \"#6e7074\",\n        \"#546570\",\n        \"#c4ccd3\",\n        \"#f05b72\",\n        \"#ef5b9c\",\n        \"#f47920\",\n        \"#905a3d\",\n        \"#fab27b\",\n        \"#2a5caa\",\n        \"#444693\",\n        \"#726930\",\n        \"#b2d235\",\n        \"#6d8346\",\n        \"#ac6767\",\n        \"#1d953f\",\n        \"#6950a1\",\n        \"#918597\"\n    ],\n    \"series\": [\n        {\n            \"type\": \"line\",\n            \"name\": \"\\u5546\\u5bb6A\",\n            \"connectNulls\": false,\n            \"symbolSize\": 4,\n            \"showSymbol\": true,\n            \"smooth\": false,\n            \"step\": false,\n            \"data\": [\n                [\n                    \"\\u54c8\\u58eb\\u5947\",\n                    123\n                ],\n                [\n                    \"\\u8428\\u6469\\u8036\",\n                    84\n                ],\n                [\n                    \"\\u6cf0\\u8fea\",\n                    30\n                ],\n                [\n                    \"\\u91d1\\u6bdb\",\n                    122\n                ],\n                [\n                    \"\\u7267\\u7f8a\\u72ac\",\n                    97\n                ],\n                [\n                    \"\\u5409\\u5a03\\u5a03\",\n                    64\n                ],\n                [\n                    \"\\u67ef\\u57fa\",\n                    51\n                ]\n            ],\n            \"hoverAnimation\": true,\n            \"label\": {\n                \"show\": true,\n                \"position\": \"top\",\n                \"margin\": 8\n            },\n            \"lineStyle\": {\n                \"show\": true,\n                \"width\": 1,\n                \"opacity\": 1,\n                \"curveness\": 0,\n                \"type\": \"solid\"\n            },\n            \"areaStyle\": {\n                \"opacity\": 0\n            },\n            \"zlevel\": 0,\n            \"z\": 0\n        },\n        {\n            \"type\": \"line\",\n            \"name\": \"\\u5546\\u5bb6B\",\n            \"connectNulls\": false,\n            \"symbolSize\": 4,\n            \"showSymbol\": true,\n            \"smooth\": false,\n            \"step\": false,\n            \"data\": [\n                [\n                    \"\\u54c8\\u58eb\\u5947\",\n                    64\n                ],\n                [\n                    \"\\u8428\\u6469\\u8036\",\n                    59\n                ],\n                [\n                    \"\\u6cf0\\u8fea\",\n                    58\n                ],\n                [\n                    \"\\u91d1\\u6bdb\",\n                    93\n                ],\n                [\n                    \"\\u7267\\u7f8a\\u72ac\",\n                    110\n                ],\n                [\n                    \"\\u5409\\u5a03\\u5a03\",\n                    80\n                ],\n                [\n                    \"\\u67ef\\u57fa\",\n                    23\n                ]\n            ],\n            \"hoverAnimation\": true,\n            \"label\": {\n                \"show\": true,\n                \"position\": \"top\",\n                \"margin\": 8\n            },\n            \"lineStyle\": {\n                \"show\": true,\n                \"width\": 1,\n                \"opacity\": 1,\n                \"curveness\": 0,\n                \"type\": \"solid\"\n            },\n            \"areaStyle\": {\n                \"opacity\": 0\n            },\n            \"zlevel\": 0,\n            \"z\": 0\n        }\n    ],\n    \"legend\": [\n        {\n            \"data\": [\n                \"\\u5546\\u5bb6A\",\n                \"\\u5546\\u5bb6B\"\n            ],\n            \"selected\": {\n                \"\\u5546\\u5bb6A\": true,\n                \"\\u5546\\u5bb6B\": true\n            },\n            \"show\": true,\n            \"padding\": 5,\n            \"itemGap\": 10,\n            \"itemWidth\": 25,\n            \"itemHeight\": 14\n        }\n    ],\n    \"tooltip\": {\n        \"show\": true,\n        \"trigger\": \"item\",\n        \"triggerOn\": \"mousemove|click\",\n        \"axisPointer\": {\n            \"type\": \"line\"\n        },\n        \"textStyle\": {\n            \"fontSize\": 14\n        },\n        \"borderWidth\": 0\n    },\n    \"xAxis\": [\n        {\n            \"show\": true,\n            \"scale\": false,\n            \"nameLocation\": \"end\",\n            \"nameGap\": 15,\n            \"gridIndex\": 0,\n            \"inverse\": false,\n            \"offset\": 0,\n            \"splitNumber\": 5,\n            \"minInterval\": 0,\n            \"splitLine\": {\n                \"show\": false,\n                \"lineStyle\": {\n                    \"show\": true,\n                    \"width\": 1,\n                    \"opacity\": 1,\n                    \"curveness\": 0,\n                    \"type\": \"solid\"\n                }\n            },\n            \"data\": [\n                \"\\u54c8\\u58eb\\u5947\",\n                \"\\u8428\\u6469\\u8036\",\n                \"\\u6cf0\\u8fea\",\n                \"\\u91d1\\u6bdb\",\n                \"\\u7267\\u7f8a\\u72ac\",\n                \"\\u5409\\u5a03\\u5a03\",\n                \"\\u67ef\\u57fa\"\n            ]\n        }\n    ],\n    \"yAxis\": [\n        {\n            \"show\": true,\n            \"scale\": false,\n            \"nameLocation\": \"end\",\n            \"nameGap\": 15,\n            \"gridIndex\": 0,\n            \"inverse\": false,\n            \"offset\": 0,\n            \"splitNumber\": 5,\n            \"minInterval\": 0,\n            \"splitLine\": {\n                \"show\": false,\n                \"lineStyle\": {\n                    \"show\": true,\n                    \"width\": 1,\n                    \"opacity\": 1,\n                    \"curveness\": 0,\n                    \"type\": \"solid\"\n                }\n            }\n        }\n    ],\n    \"title\": [\n        {\n            \"text\": \"Line-\\u57fa\\u672c\\u793a\\u4f8b\",\n            \"padding\": 5,\n            \"itemGap\": 10\n        }\n    ]\n};\n                chart_15ef2b795c53416e82db5584c3682b37.setOption(option_15ef2b795c53416e82db5584c3682b37);\n        });\n    </script>\n"
     },
     "metadata": {},
     "execution_count": 1
    }
   ],
   "source": [
    "import pyecharts.options as opts\n",
    "from pyecharts.charts import Line\n",
    "from pyecharts.faker import Faker\n",
    "\n",
    "c = (\n",
    "    Line()\n",
    "    .add_xaxis(Faker.choose())\n",
    "    .add_yaxis(\"商家A\", Faker.values())\n",
    "    .add_yaxis(\"商家B\", Faker.values())\n",
    "    .set_global_opts(title_opts=opts.TitleOpts(title=\"Line-基本示例\"))\n",
    ")\n",
    "\n",
    "c.render_notebook()"
   ]
  },
  {
   "cell_type": "code",
   "execution_count": 153,
   "metadata": {},
   "outputs": [
    {
     "output_type": "stream",
     "name": "stdout",
     "text": "['可乐', '雪碧', '橙汁', '绿茶', '奶茶', '百威', '青岛']\n[38, 63, 84, 67, 98, 81, 91]\n"
    },
    {
     "output_type": "execute_result",
     "data": {
      "text/plain": "<pyecharts.render.display.HTML at 0x43c8550>",
      "text/html": "\n<script>\n    require.config({\n        paths: {\n            'echarts':'https://assets.pyecharts.org/assets/echarts.min'\n        }\n    });\n</script>\n\n        <div id=\"79642fdb1f814cc5ac67b4cee7500cb8\" style=\"width:900px; height:500px;\"></div>\n\n<script>\n        require(['echarts'], function(echarts) {\n                var chart_79642fdb1f814cc5ac67b4cee7500cb8 = echarts.init(\n                    document.getElementById('79642fdb1f814cc5ac67b4cee7500cb8'), 'white', {renderer: 'canvas'});\n                var option_79642fdb1f814cc5ac67b4cee7500cb8 = {\n    \"animation\": true,\n    \"animationThreshold\": 2000,\n    \"animationDuration\": 1000,\n    \"animationEasing\": \"cubicOut\",\n    \"animationDelay\": 0,\n    \"animationDurationUpdate\": 300,\n    \"animationEasingUpdate\": \"cubicOut\",\n    \"animationDelayUpdate\": 0,\n    \"color\": [\n        \"#c23531\",\n        \"#2f4554\",\n        \"#61a0a8\",\n        \"#d48265\",\n        \"#749f83\",\n        \"#ca8622\",\n        \"#bda29a\",\n        \"#6e7074\",\n        \"#546570\",\n        \"#c4ccd3\",\n        \"#f05b72\",\n        \"#ef5b9c\",\n        \"#f47920\",\n        \"#905a3d\",\n        \"#fab27b\",\n        \"#2a5caa\",\n        \"#444693\",\n        \"#726930\",\n        \"#b2d235\",\n        \"#6d8346\",\n        \"#ac6767\",\n        \"#1d953f\",\n        \"#6950a1\",\n        \"#918597\"\n    ],\n    \"series\": [\n        {\n            \"type\": \"pie\",\n            \"clockwise\": true,\n            \"data\": [\n                {\n                    \"name\": \"\\u53ef\\u4e50\",\n                    \"value\": 142\n                },\n                {\n                    \"name\": \"\\u96ea\\u78a7\",\n                    \"value\": 22\n                },\n                {\n                    \"name\": \"\\u6a59\\u6c41\",\n                    \"value\": 67\n                },\n                {\n                    \"name\": \"\\u7eff\\u8336\",\n                    \"value\": 95\n                },\n                {\n                    \"name\": \"\\u5976\\u8336\",\n                    \"value\": 87\n                },\n                {\n                    \"name\": \"\\u767e\\u5a01\",\n                    \"value\": 140\n                },\n                {\n                    \"name\": \"\\u9752\\u5c9b\",\n                    \"value\": 123\n                }\n            ],\n            \"radius\": [\n                \"0%\",\n                \"75%\"\n            ],\n            \"center\": [\n                \"50%\",\n                \"50%\"\n            ],\n            \"label\": {\n                \"show\": true,\n                \"position\": \"top\",\n                \"margin\": 8,\n                \"formatter\": \"{b}: {c}\"\n            },\n            \"rippleEffect\": {\n                \"show\": true,\n                \"brushType\": \"stroke\",\n                \"scale\": 2.5,\n                \"period\": 4\n            }\n        }\n    ],\n    \"legend\": [\n        {\n            \"data\": [\n                \"\\u53ef\\u4e50\",\n                \"\\u96ea\\u78a7\",\n                \"\\u6a59\\u6c41\",\n                \"\\u7eff\\u8336\",\n                \"\\u5976\\u8336\",\n                \"\\u767e\\u5a01\",\n                \"\\u9752\\u5c9b\"\n            ],\n            \"selected\": {},\n            \"show\": true,\n            \"padding\": 5,\n            \"itemGap\": 10,\n            \"itemWidth\": 25,\n            \"itemHeight\": 14\n        }\n    ],\n    \"tooltip\": {\n        \"show\": true,\n        \"trigger\": \"item\",\n        \"triggerOn\": \"mousemove|click\",\n        \"axisPointer\": {\n            \"type\": \"line\"\n        },\n        \"textStyle\": {\n            \"fontSize\": 14\n        },\n        \"borderWidth\": 0\n    },\n    \"title\": [\n        {\n            \"text\": \"Pie-\\u57fa\\u672c\\u793a\\u4f8b\",\n            \"padding\": 5,\n            \"itemGap\": 10\n        }\n    ]\n};\n                chart_79642fdb1f814cc5ac67b4cee7500cb8.setOption(option_79642fdb1f814cc5ac67b4cee7500cb8);\n        });\n    </script>\n"
     },
     "metadata": {},
     "execution_count": 153
    }
   ],
   "source": [
    "from pyecharts import options as opts\n",
    "from pyecharts.charts import Pie\n",
    "from pyecharts.faker import Faker\n",
    "\n",
    "print(Faker.choose())\n",
    "print(Faker.values())\n",
    "\n",
    "c = (\n",
    "    Pie()\n",
    "    .add(\"\", [list(z) for z in zip(Faker.choose(), Faker.values())])\n",
    "    .set_global_opts(title_opts=opts.TitleOpts(title=\"Pie-基本示例\"))\n",
    "    .set_series_opts(label_opts=opts.LabelOpts(formatter=\"{b}: {c}\"))\n",
    ")\n",
    "\n",
    "c.render_notebook()"
   ]
  },
  {
   "cell_type": "code",
   "execution_count": 160,
   "metadata": {},
   "outputs": [
    {
     "output_type": "execute_result",
     "data": {
      "text/plain": "<pyecharts.render.display.HTML at 0x44395e0>",
      "text/html": "\n<script>\n    require.config({\n        paths: {\n            'echarts':'https://assets.pyecharts.org/assets/echarts.min'\n        }\n    });\n</script>\n\n        <div id=\"c697fa0d1e3247b1bd558c786e5325f8\" style=\"width:900px; height:500px;\"></div>\n\n<script>\n        require(['echarts'], function(echarts) {\n                var chart_c697fa0d1e3247b1bd558c786e5325f8 = echarts.init(\n                    document.getElementById('c697fa0d1e3247b1bd558c786e5325f8'), 'white', {renderer: 'canvas'});\n                var option_c697fa0d1e3247b1bd558c786e5325f8 = {\n    \"animation\": true,\n    \"animationThreshold\": 2000,\n    \"animationDuration\": 1000,\n    \"animationEasing\": \"cubicOut\",\n    \"animationDelay\": 0,\n    \"animationDurationUpdate\": 300,\n    \"animationEasingUpdate\": \"cubicOut\",\n    \"animationDelayUpdate\": 0,\n    \"color\": [\n        \"#c23531\",\n        \"#2f4554\",\n        \"#61a0a8\",\n        \"#d48265\",\n        \"#749f83\",\n        \"#ca8622\",\n        \"#bda29a\",\n        \"#6e7074\",\n        \"#546570\",\n        \"#c4ccd3\",\n        \"#f05b72\",\n        \"#ef5b9c\",\n        \"#f47920\",\n        \"#905a3d\",\n        \"#fab27b\",\n        \"#2a5caa\",\n        \"#444693\",\n        \"#726930\",\n        \"#b2d235\",\n        \"#6d8346\",\n        \"#ac6767\",\n        \"#1d953f\",\n        \"#6950a1\",\n        \"#918597\"\n    ],\n    \"series\": [\n        {\n            \"type\": \"gauge\",\n            \"title\": {\n                \"show\": true,\n                \"position\": \"top\",\n                \"margin\": 8\n            },\n            \"detail\": {\n                \"show\": true,\n                \"position\": \"top\",\n                \"margin\": 8,\n                \"formatter\": \"{value}%\"\n            },\n            \"min\": 0,\n            \"max\": 100,\n            \"splitNumber\": 10,\n            \"radius\": \"75%\",\n            \"startAngle\": 225,\n            \"endAngle\": -45,\n            \"data\": [\n                {\n                    \"name\": \"\\u5b8c\\u6210\\u5ea6\",\n                    \"value\": 87.9\n                }\n            ]\n        }\n    ],\n    \"legend\": [\n        {\n            \"data\": [\n                \"\"\n            ],\n            \"selected\": {\n                \"\": true\n            },\n            \"show\": true,\n            \"padding\": 5,\n            \"itemGap\": 10,\n            \"itemWidth\": 25,\n            \"itemHeight\": 14\n        }\n    ],\n    \"tooltip\": {\n        \"show\": true,\n        \"trigger\": \"item\",\n        \"triggerOn\": \"mousemove|click\",\n        \"axisPointer\": {\n            \"type\": \"line\"\n        },\n        \"textStyle\": {\n            \"fontSize\": 14\n        },\n        \"borderWidth\": 0\n    },\n    \"title\": [\n        {\n            \"text\": \"Gauge-\\u7bc4\\u4f8b\",\n            \"padding\": 5,\n            \"itemGap\": 10\n        }\n    ]\n};\n                chart_c697fa0d1e3247b1bd558c786e5325f8.setOption(option_c697fa0d1e3247b1bd558c786e5325f8);\n        });\n    </script>\n"
     },
     "metadata": {},
     "execution_count": 160
    }
   ],
   "source": [
    "from pyecharts import options as opts\n",
    "from pyecharts.charts import Gauge, Page\n",
    "c = (\n",
    "    Gauge()\n",
    "    .add(\"\", [(\"完成度\", 87.9)])\n",
    "    .set_global_opts(title_opts=opts.TitleOpts(title=\"Gauge-範例\"))\n",
    ")\n",
    "c.render_notebook()\n"
   ]
  },
  {
   "cell_type": "code",
   "execution_count": 1,
   "metadata": {},
   "outputs": [
    {
     "output_type": "execute_result",
     "data": {
      "text/plain": "<pyecharts.render.display.HTML at 0x2257e07dd30>",
      "text/html": "\n<script>\n    require.config({\n        paths: {\n            'echarts':'https://assets.pyecharts.org/assets/echarts.min'\n        }\n    });\n</script>\n\n        <div id=\"931d2e69099942bba9b2cc6eb7f7bc49\" style=\"width:900px; height:500px;\"></div>\n\n<script>\n        require(['echarts'], function(echarts) {\n                var chart_931d2e69099942bba9b2cc6eb7f7bc49 = echarts.init(\n                    document.getElementById('931d2e69099942bba9b2cc6eb7f7bc49'), 'white', {renderer: 'canvas'});\n                var option_931d2e69099942bba9b2cc6eb7f7bc49 = {\n    \"animation\": true,\n    \"animationThreshold\": 2000,\n    \"animationDuration\": 1000,\n    \"animationEasing\": \"cubicOut\",\n    \"animationDelay\": 0,\n    \"animationDurationUpdate\": 300,\n    \"animationEasingUpdate\": \"cubicOut\",\n    \"animationDelayUpdate\": 0,\n    \"color\": [\n        \"#c23531\",\n        \"#2f4554\",\n        \"#61a0a8\",\n        \"#d48265\",\n        \"#749f83\",\n        \"#ca8622\",\n        \"#bda29a\",\n        \"#6e7074\",\n        \"#546570\",\n        \"#c4ccd3\",\n        \"#f05b72\",\n        \"#ef5b9c\",\n        \"#f47920\",\n        \"#905a3d\",\n        \"#fab27b\",\n        \"#2a5caa\",\n        \"#444693\",\n        \"#726930\",\n        \"#b2d235\",\n        \"#6d8346\",\n        \"#ac6767\",\n        \"#1d953f\",\n        \"#6950a1\",\n        \"#918597\"\n    ],\n    \"series\": [\n        {\n            \"type\": \"bar\",\n            \"name\": \"\\u5546\\u5bb6A\",\n            \"data\": [\n                114,\n                55,\n                27,\n                101,\n                125,\n                27,\n                105\n            ],\n            \"barCategoryGap\": \"20%\",\n            \"label\": {\n                \"show\": true,\n                \"position\": \"top\",\n                \"margin\": 8\n            }\n        },\n        {\n            \"type\": \"bar\",\n            \"name\": \"\\u5546\\u5bb6B\",\n            \"data\": [\n                57,\n                134,\n                137,\n                129,\n                145,\n                60,\n                49\n            ],\n            \"barCategoryGap\": \"20%\",\n            \"label\": {\n                \"show\": true,\n                \"position\": \"top\",\n                \"margin\": 8\n            }\n        }\n    ],\n    \"legend\": [\n        {\n            \"data\": [\n                \"\\u5546\\u5bb6A\",\n                \"\\u5546\\u5bb6B\"\n            ],\n            \"selected\": {\n                \"\\u5546\\u5bb6A\": true,\n                \"\\u5546\\u5bb6B\": true\n            },\n            \"show\": true,\n            \"padding\": 5,\n            \"itemGap\": 10,\n            \"itemWidth\": 25,\n            \"itemHeight\": 14\n        }\n    ],\n    \"tooltip\": {\n        \"show\": true,\n        \"trigger\": \"item\",\n        \"triggerOn\": \"mousemove|click\",\n        \"axisPointer\": {\n            \"type\": \"line\"\n        },\n        \"textStyle\": {\n            \"fontSize\": 14\n        },\n        \"borderWidth\": 0\n    },\n    \"xAxis\": [\n        {\n            \"show\": true,\n            \"scale\": false,\n            \"nameLocation\": \"end\",\n            \"nameGap\": 15,\n            \"gridIndex\": 0,\n            \"inverse\": false,\n            \"offset\": 0,\n            \"splitNumber\": 5,\n            \"minInterval\": 0,\n            \"splitLine\": {\n                \"show\": false,\n                \"lineStyle\": {\n                    \"show\": true,\n                    \"width\": 1,\n                    \"opacity\": 1,\n                    \"curveness\": 0,\n                    \"type\": \"solid\"\n                }\n            },\n            \"data\": [\n                \"\\u886c\\u886b\",\n                \"\\u6bdb\\u8863\",\n                \"\\u9886\\u5e26\",\n                \"\\u88e4\\u5b50\",\n                \"\\u98ce\\u8863\",\n                \"\\u9ad8\\u8ddf\\u978b\",\n                \"\\u889c\\u5b50\"\n            ]\n        }\n    ],\n    \"yAxis\": [\n        {\n            \"show\": true,\n            \"scale\": false,\n            \"nameLocation\": \"end\",\n            \"nameGap\": 15,\n            \"gridIndex\": 0,\n            \"inverse\": false,\n            \"offset\": 0,\n            \"splitNumber\": 5,\n            \"minInterval\": 0,\n            \"splitLine\": {\n                \"show\": false,\n                \"lineStyle\": {\n                    \"show\": true,\n                    \"width\": 1,\n                    \"opacity\": 1,\n                    \"curveness\": 0,\n                    \"type\": \"solid\"\n                }\n            }\n        }\n    ],\n    \"title\": [\n        {\n            \"text\": \"\\u67d0\\u5546\\u573a\\u9500\\u552e\\u60c5\\u51b5\",\n            \"padding\": 5,\n            \"itemGap\": 10\n        }\n    ]\n};\n                chart_931d2e69099942bba9b2cc6eb7f7bc49.setOption(option_931d2e69099942bba9b2cc6eb7f7bc49);\n        });\n    </script>\n"
     },
     "metadata": {},
     "execution_count": 1
    }
   ],
   "source": [
    "from pyecharts.charts import Bar\n",
    "from pyecharts import options as opts\n",
    "\n",
    "\n",
    "# 不习惯链式调用的开发者依旧可以单独调用方法\n",
    "bar = Bar()\n",
    "bar.add_xaxis([\"衬衫\", \"毛衣\", \"领带\", \"裤子\", \"风衣\", \"高跟鞋\", \"袜子\"])\n",
    "bar.add_yaxis(\"商家A\", [114, 55, 27, 101, 125, 27, 105])\n",
    "bar.add_yaxis(\"商家B\", [57, 134, 137, 129, 145, 60, 49])\n",
    "bar.set_global_opts(title_opts=opts.TitleOpts(title=\"某商场销售情况\"))\n",
    "bar.render_notebook()"
   ]
  },
  {
   "cell_type": "code",
   "execution_count": 167,
   "metadata": {},
   "outputs": [
    {
     "output_type": "execute_result",
     "data": {
      "text/plain": "<pyecharts.render.display.HTML at 0x4439b08>",
      "text/html": "\n<script>\n    require.config({\n        paths: {\n            'echarts':'https://assets.pyecharts.org/assets/echarts.min'\n        }\n    });\n</script>\n\n        <div id=\"43056d9cdb934156a11e8945f380293c\" style=\"width:1200px; height:600px;\"></div>\n\n<script>\n        require(['echarts'], function(echarts) {\n                var chart_43056d9cdb934156a11e8945f380293c = echarts.init(\n                    document.getElementById('43056d9cdb934156a11e8945f380293c'), 'white', {renderer: 'canvas'});\n                var option_43056d9cdb934156a11e8945f380293c = {\n    \"animation\": true,\n    \"animationThreshold\": 2000,\n    \"animationDuration\": 1000,\n    \"animationEasing\": \"cubicOut\",\n    \"animationDelay\": 0,\n    \"animationDurationUpdate\": 300,\n    \"animationEasingUpdate\": \"cubicOut\",\n    \"animationDelayUpdate\": 0,\n    \"color\": [\n        \"#c23531\",\n        \"#2f4554\",\n        \"#61a0a8\",\n        \"#d48265\",\n        \"#749f83\",\n        \"#ca8622\",\n        \"#bda29a\",\n        \"#6e7074\",\n        \"#546570\",\n        \"#c4ccd3\",\n        \"#f05b72\",\n        \"#ef5b9c\",\n        \"#f47920\",\n        \"#905a3d\",\n        \"#fab27b\",\n        \"#2a5caa\",\n        \"#444693\",\n        \"#726930\",\n        \"#b2d235\",\n        \"#6d8346\",\n        \"#ac6767\",\n        \"#1d953f\",\n        \"#6950a1\",\n        \"#918597\"\n    ],\n    \"series\": [\n        {\n            \"type\": \"bar\",\n            \"name\": \"\\u84b8\\u53d1\\u91cf\",\n            \"data\": [\n                2.0,\n                4.9,\n                7.0,\n                23.2,\n                25.6,\n                76.7,\n                135.6,\n                162.2,\n                32.6,\n                20.0,\n                6.4,\n                3.3\n            ],\n            \"barCategoryGap\": \"20%\",\n            \"label\": {\n                \"show\": false,\n                \"position\": \"top\",\n                \"margin\": 8\n            }\n        },\n        {\n            \"type\": \"bar\",\n            \"name\": \"\\u964d\\u6c34\\u91cf\",\n            \"data\": [\n                2.6,\n                5.9,\n                9.0,\n                26.4,\n                28.7,\n                70.7,\n                175.6,\n                182.2,\n                48.7,\n                18.8,\n                6.0,\n                2.3\n            ],\n            \"barCategoryGap\": \"20%\",\n            \"label\": {\n                \"show\": false,\n                \"position\": \"top\",\n                \"margin\": 8\n            }\n        },\n        {\n            \"type\": \"line\",\n            \"name\": \"\\u5e73\\u5747\\u6e29\\u5ea6\",\n            \"connectNulls\": false,\n            \"yAxisIndex\": 1,\n            \"symbolSize\": 4,\n            \"showSymbol\": true,\n            \"smooth\": false,\n            \"step\": false,\n            \"data\": [\n                [\n                    \"1\\u6708\",\n                    2.0\n                ],\n                [\n                    \"2\\u6708\",\n                    2.2\n                ],\n                [\n                    \"3\\u6708\",\n                    3.3\n                ],\n                [\n                    \"4\\u6708\",\n                    4.5\n                ],\n                [\n                    \"5\\u6708\",\n                    6.3\n                ],\n                [\n                    \"6\\u6708\",\n                    10.2\n                ],\n                [\n                    \"7\\u6708\",\n                    20.3\n                ],\n                [\n                    \"8\\u6708\",\n                    23.4\n                ],\n                [\n                    \"9\\u6708\",\n                    23.0\n                ],\n                [\n                    \"10\\u6708\",\n                    16.5\n                ],\n                [\n                    \"11\\u6708\",\n                    12.0\n                ],\n                [\n                    \"12\\u6708\",\n                    6.2\n                ]\n            ],\n            \"hoverAnimation\": true,\n            \"label\": {\n                \"show\": false,\n                \"position\": \"top\",\n                \"margin\": 8\n            },\n            \"lineStyle\": {\n                \"show\": true,\n                \"width\": 1,\n                \"opacity\": 1,\n                \"curveness\": 0,\n                \"type\": \"solid\"\n            },\n            \"areaStyle\": {\n                \"opacity\": 0\n            },\n            \"zlevel\": 0,\n            \"z\": 0\n        }\n    ],\n    \"legend\": [\n        {\n            \"data\": [\n                \"\\u84b8\\u53d1\\u91cf\",\n                \"\\u964d\\u6c34\\u91cf\",\n                \"\\u5e73\\u5747\\u6e29\\u5ea6\"\n            ],\n            \"selected\": {\n                \"\\u84b8\\u53d1\\u91cf\": true,\n                \"\\u964d\\u6c34\\u91cf\": true\n            },\n            \"show\": true,\n            \"padding\": 5,\n            \"itemGap\": 10,\n            \"itemWidth\": 25,\n            \"itemHeight\": 14\n        }\n    ],\n    \"tooltip\": {\n        \"show\": true,\n        \"trigger\": \"axis\",\n        \"triggerOn\": \"mousemove|click\",\n        \"axisPointer\": {\n            \"type\": \"cross\"\n        },\n        \"textStyle\": {\n            \"fontSize\": 14\n        },\n        \"borderWidth\": 0\n    },\n    \"xAxis\": [\n        {\n            \"type\": \"category\",\n            \"show\": true,\n            \"scale\": false,\n            \"nameLocation\": \"end\",\n            \"nameGap\": 15,\n            \"gridIndex\": 0,\n            \"axisPointer\": {\n                \"show\": true,\n                \"type\": \"shadow\"\n            },\n            \"inverse\": false,\n            \"offset\": 0,\n            \"splitNumber\": 5,\n            \"minInterval\": 0,\n            \"splitLine\": {\n                \"show\": false,\n                \"lineStyle\": {\n                    \"show\": true,\n                    \"width\": 1,\n                    \"opacity\": 1,\n                    \"curveness\": 0,\n                    \"type\": \"solid\"\n                }\n            },\n            \"data\": [\n                \"1\\u6708\",\n                \"2\\u6708\",\n                \"3\\u6708\",\n                \"4\\u6708\",\n                \"5\\u6708\",\n                \"6\\u6708\",\n                \"7\\u6708\",\n                \"8\\u6708\",\n                \"9\\u6708\",\n                \"10\\u6708\",\n                \"11\\u6708\",\n                \"12\\u6708\"\n            ]\n        }\n    ],\n    \"yAxis\": [\n        {\n            \"type\": \"value\",\n            \"name\": \"\\u6c34\\u91cf\",\n            \"show\": true,\n            \"scale\": false,\n            \"nameLocation\": \"end\",\n            \"nameGap\": 15,\n            \"interval\": 50,\n            \"gridIndex\": 0,\n            \"axisTick\": {\n                \"show\": true,\n                \"alignWithLabel\": false,\n                \"inside\": false\n            },\n            \"axisLabel\": {\n                \"show\": true,\n                \"position\": \"top\",\n                \"margin\": 8,\n                \"formatter\": \"{value} ml\"\n            },\n            \"inverse\": false,\n            \"offset\": 0,\n            \"splitNumber\": 5,\n            \"min\": 0,\n            \"max\": 250,\n            \"minInterval\": 0,\n            \"splitLine\": {\n                \"show\": true,\n                \"lineStyle\": {\n                    \"show\": true,\n                    \"width\": 1,\n                    \"opacity\": 1,\n                    \"curveness\": 0,\n                    \"type\": \"solid\"\n                }\n            }\n        },\n        {\n            \"type\": \"value\",\n            \"name\": \"\\u6e29\\u5ea6\",\n            \"show\": true,\n            \"scale\": false,\n            \"nameLocation\": \"end\",\n            \"nameGap\": 15,\n            \"interval\": 5,\n            \"gridIndex\": 0,\n            \"axisLabel\": {\n                \"show\": true,\n                \"position\": \"top\",\n                \"margin\": 8,\n                \"formatter\": \"{value} \\u00b0C\"\n            },\n            \"inverse\": false,\n            \"offset\": 0,\n            \"splitNumber\": 5,\n            \"min\": 0,\n            \"max\": 25,\n            \"minInterval\": 0,\n            \"splitLine\": {\n                \"show\": false,\n                \"lineStyle\": {\n                    \"show\": true,\n                    \"width\": 1,\n                    \"opacity\": 1,\n                    \"curveness\": 0,\n                    \"type\": \"solid\"\n                }\n            }\n        }\n    ],\n    \"title\": [\n        {\n            \"padding\": 5,\n            \"itemGap\": 10\n        }\n    ]\n};\n                chart_43056d9cdb934156a11e8945f380293c.setOption(option_43056d9cdb934156a11e8945f380293c);\n        });\n    </script>\n"
     },
     "metadata": {},
     "execution_count": 167
    }
   ],
   "source": [
    "import pyecharts.options as opts\n",
    "from pyecharts.charts import Bar, Line\n",
    "\n",
    "\"\"\"\n",
    "Gallery 使用 pyecharts 1.1.0\n",
    "参考地址: https://www.echartsjs.com/examples/editor.html?c=mix-line-bar\n",
    "\n",
    "目前无法实现的功能:\n",
    "\n",
    "1、暂无\n",
    "\"\"\"\n",
    "\n",
    "x_data = [\"1月\", \"2月\", \"3月\", \"4月\", \"5月\", \"6月\", \"7月\", \"8月\", \"9月\", \"10月\", \"11月\", \"12月\"]\n",
    "\n",
    "bar = (\n",
    "    Bar(init_opts=opts.InitOpts(width=\"1200px\", height=\"600px\"))\n",
    "    .add_xaxis(xaxis_data=x_data)\n",
    "    .add_yaxis(\n",
    "        series_name=\"蒸发量\",\n",
    "        yaxis_data=[\n",
    "            2.0,\n",
    "            4.9,\n",
    "            7.0,\n",
    "            23.2,\n",
    "            25.6,\n",
    "            76.7,\n",
    "            135.6,\n",
    "            162.2,\n",
    "            32.6,\n",
    "            20.0,\n",
    "            6.4,\n",
    "            3.3,\n",
    "        ],\n",
    "        label_opts=opts.LabelOpts(is_show=False),\n",
    "    )\n",
    "    .add_yaxis(\n",
    "        series_name=\"降水量\",\n",
    "        yaxis_data=[\n",
    "            2.6,\n",
    "            5.9,\n",
    "            9.0,\n",
    "            26.4,\n",
    "            28.7,\n",
    "            70.7,\n",
    "            175.6,\n",
    "            182.2,\n",
    "            48.7,\n",
    "            18.8,\n",
    "            6.0,\n",
    "            2.3,\n",
    "        ],\n",
    "        label_opts=opts.LabelOpts(is_show=False),\n",
    "    )\n",
    "    .extend_axis(\n",
    "        yaxis=opts.AxisOpts(\n",
    "            name=\"温度\",\n",
    "            type_=\"value\",\n",
    "            min_=0,\n",
    "            max_=25,\n",
    "            interval=5,\n",
    "            axislabel_opts=opts.LabelOpts(formatter=\"{value} °C\"),\n",
    "        )\n",
    "    )\n",
    "    .set_global_opts(\n",
    "        tooltip_opts=opts.TooltipOpts(\n",
    "            is_show=True, trigger=\"axis\", axis_pointer_type=\"cross\"\n",
    "        ),\n",
    "        xaxis_opts=opts.AxisOpts(\n",
    "            type_=\"category\",\n",
    "            axispointer_opts=opts.AxisPointerOpts(is_show=True, type_=\"shadow\"),\n",
    "        ),\n",
    "        yaxis_opts=opts.AxisOpts(\n",
    "            name=\"水量\",\n",
    "            type_=\"value\",\n",
    "            min_=0,\n",
    "            max_=250,\n",
    "            interval=50,\n",
    "            axislabel_opts=opts.LabelOpts(formatter=\"{value} ml\"),\n",
    "            axistick_opts=opts.AxisTickOpts(is_show=True),\n",
    "            splitline_opts=opts.SplitLineOpts(is_show=True),\n",
    "        ),\n",
    "    )\n",
    ")\n",
    "\n",
    "line = (\n",
    "    Line()\n",
    "    .add_xaxis(xaxis_data=x_data)\n",
    "    .add_yaxis(\n",
    "        series_name=\"平均温度\",\n",
    "        yaxis_index=1,\n",
    "        y_axis=[2.0, 2.2, 3.3, 4.5, 6.3, 10.2, 20.3, 23.4, 23.0, 16.5, 12.0, 6.2],\n",
    "        label_opts=opts.LabelOpts(is_show=False),\n",
    "    )\n",
    ")\n",
    "\n",
    "bar.overlap(line).render_notebook()"
   ]
  },
  {
   "cell_type": "code",
   "execution_count": 168,
   "metadata": {},
   "outputs": [
    {
     "output_type": "execute_result",
     "data": {
      "text/plain": "<pyecharts.render.display.HTML at 0x439e1d8>",
      "text/html": "\n<script>\n    require.config({\n        paths: {\n            'echarts':'https://assets.pyecharts.org/assets/echarts.min', '台湾':'https://assets.pyecharts.org/assets/maps/taiwan'\n        }\n    });\n</script>\n\n        <div id=\"c8f96ee100424587be5296db0cb44377\" style=\"width:900px; height:500px;\"></div>\n\n<script>\n        require(['echarts', '台湾'], function(echarts) {\n                var chart_c8f96ee100424587be5296db0cb44377 = echarts.init(\n                    document.getElementById('c8f96ee100424587be5296db0cb44377'), 'white', {renderer: 'canvas'});\n                var option_c8f96ee100424587be5296db0cb44377 = {\n    \"animation\": true,\n    \"animationThreshold\": 2000,\n    \"animationDuration\": 1000,\n    \"animationEasing\": \"cubicOut\",\n    \"animationDelay\": 0,\n    \"animationDurationUpdate\": 300,\n    \"animationEasingUpdate\": \"cubicOut\",\n    \"animationDelayUpdate\": 0,\n    \"color\": [\n        \"#c23531\",\n        \"#2f4554\",\n        \"#61a0a8\",\n        \"#d48265\",\n        \"#749f83\",\n        \"#ca8622\",\n        \"#bda29a\",\n        \"#6e7074\",\n        \"#546570\",\n        \"#c4ccd3\",\n        \"#f05b72\",\n        \"#ef5b9c\",\n        \"#f47920\",\n        \"#905a3d\",\n        \"#fab27b\",\n        \"#2a5caa\",\n        \"#444693\",\n        \"#726930\",\n        \"#b2d235\",\n        \"#6d8346\",\n        \"#ac6767\",\n        \"#1d953f\",\n        \"#6950a1\",\n        \"#918597\"\n    ],\n    \"series\": [],\n    \"legend\": [\n        {\n            \"data\": [],\n            \"selected\": {},\n            \"show\": true,\n            \"padding\": 5,\n            \"itemGap\": 10,\n            \"itemWidth\": 25,\n            \"itemHeight\": 14\n        }\n    ],\n    \"tooltip\": {\n        \"show\": true,\n        \"trigger\": \"item\",\n        \"triggerOn\": \"mousemove|click\",\n        \"axisPointer\": {\n            \"type\": \"line\"\n        },\n        \"formatter\": function (params) {        return params.name + ' : ' + params.value[2];    },\n        \"textStyle\": {\n            \"fontSize\": 14\n        },\n        \"borderWidth\": 0\n    },\n    \"title\": [\n        {\n            \"text\": \"\\u53f0\\u6e7e\",\n            \"padding\": 5,\n            \"itemGap\": 10\n        }\n    ],\n    \"geo\": {\n        \"map\": \"\\u53f0\\u6e7e\",\n        \"roam\": true,\n        \"emphasis\": {}\n    }\n};\n                chart_c8f96ee100424587be5296db0cb44377.setOption(option_c8f96ee100424587be5296db0cb44377);\n        });\n    </script>\n"
     },
     "metadata": {},
     "execution_count": 168
    }
   ],
   "source": [
    "from pyecharts import options as opts\n",
    "from pyecharts.charts import Geo\n",
    "from pyecharts.datasets import register_url\n",
    "\n",
    "try:\n",
    "    register_url(\"https://echarts-maps.github.io/echarts-countries-js/\")\n",
    "except Exception:\n",
    "    import ssl\n",
    "\n",
    "    ssl._create_default_https_context = ssl._create_unverified_context\n",
    "    register_url(\"https://echarts-maps.github.io/echarts-countries-js/\")\n",
    "\n",
    "geo = (\n",
    "    Geo()\n",
    "    .add_schema(maptype=\"台湾\")\n",
    "    .set_global_opts(title_opts=opts.TitleOpts(title=\"台湾\"))\n",
    ")\n",
    "\n",
    "geo.render_notebook()"
   ]
  },
  {
   "cell_type": "code",
   "execution_count": 169,
   "metadata": {},
   "outputs": [
    {
     "output_type": "execute_result",
     "data": {
      "text/plain": "<pyecharts.render.display.HTML at 0x43c8580>",
      "text/html": "\n<script>\n    require.config({\n        paths: {\n            'echarts':'https://assets.pyecharts.org/assets/echarts.min', 'world':'https://assets.pyecharts.org/assets/maps/world'\n        }\n    });\n</script>\n\n        <div id=\"8d28947d49cf4d16bcb73bc04d11070f\" style=\"width:900px; height:500px;\"></div>\n\n<script>\n        require(['echarts', 'world'], function(echarts) {\n                var chart_8d28947d49cf4d16bcb73bc04d11070f = echarts.init(\n                    document.getElementById('8d28947d49cf4d16bcb73bc04d11070f'), 'white', {renderer: 'canvas'});\n                var option_8d28947d49cf4d16bcb73bc04d11070f = {\n    \"animation\": true,\n    \"animationThreshold\": 2000,\n    \"animationDuration\": 1000,\n    \"animationEasing\": \"cubicOut\",\n    \"animationDelay\": 0,\n    \"animationDurationUpdate\": 300,\n    \"animationEasingUpdate\": \"cubicOut\",\n    \"animationDelayUpdate\": 0,\n    \"color\": [\n        \"#c23531\",\n        \"#2f4554\",\n        \"#61a0a8\",\n        \"#d48265\",\n        \"#749f83\",\n        \"#ca8622\",\n        \"#bda29a\",\n        \"#6e7074\",\n        \"#546570\",\n        \"#c4ccd3\",\n        \"#f05b72\",\n        \"#ef5b9c\",\n        \"#f47920\",\n        \"#905a3d\",\n        \"#fab27b\",\n        \"#2a5caa\",\n        \"#444693\",\n        \"#726930\",\n        \"#b2d235\",\n        \"#6d8346\",\n        \"#ac6767\",\n        \"#1d953f\",\n        \"#6950a1\",\n        \"#918597\"\n    ],\n    \"series\": [\n        {\n            \"type\": \"map\",\n            \"label\": {\n                \"show\": false,\n                \"position\": \"top\",\n                \"margin\": 8\n            },\n            \"mapType\": \"world\",\n            \"data\": [\n                {\n                    \"name\": \"China\",\n                    \"value\": 124\n                },\n                {\n                    \"name\": \"Canada\",\n                    \"value\": 45\n                },\n                {\n                    \"name\": \"Brazil\",\n                    \"value\": 34\n                },\n                {\n                    \"name\": \"Russia\",\n                    \"value\": 88\n                },\n                {\n                    \"name\": \"United States\",\n                    \"value\": 115\n                },\n                {\n                    \"name\": \"Africa\",\n                    \"value\": 133\n                },\n                {\n                    \"name\": \"Germany\",\n                    \"value\": 106\n                }\n            ],\n            \"roam\": true,\n            \"zoom\": 1,\n            \"showLegendSymbol\": true,\n            \"emphasis\": {},\n            \"rippleEffect\": {\n                \"show\": true,\n                \"brushType\": \"stroke\",\n                \"scale\": 2.5,\n                \"period\": 4\n            }\n        }\n    ],\n    \"legend\": [\n        {\n            \"data\": [\n                \"\"\n            ],\n            \"selected\": {\n                \"\": true\n            },\n            \"show\": true,\n            \"padding\": 5,\n            \"itemGap\": 10,\n            \"itemWidth\": 25,\n            \"itemHeight\": 14\n        }\n    ],\n    \"tooltip\": {\n        \"show\": true,\n        \"trigger\": \"item\",\n        \"triggerOn\": \"mousemove|click\",\n        \"axisPointer\": {\n            \"type\": \"line\"\n        },\n        \"textStyle\": {\n            \"fontSize\": 14\n        },\n        \"borderWidth\": 0\n    },\n    \"title\": [\n        {\n            \"text\": \"Map-\\u4e16\\u754c\\u5730\\u56fe\",\n            \"right\": \"center\",\n            \"padding\": 5,\n            \"itemGap\": 10\n        }\n    ],\n    \"visualMap\": {\n        \"show\": true,\n        \"type\": \"continuous\",\n        \"min\": 0,\n        \"max\": 200,\n        \"inRange\": {\n            \"color\": [\n                \"#50a3ba\",\n                \"#eac763\",\n                \"#d94e5d\"\n            ]\n        },\n        \"calculable\": true,\n        \"inverse\": false,\n        \"splitNumber\": 5,\n        \"orient\": \"vertical\",\n        \"showLabel\": true,\n        \"itemWidth\": 20,\n        \"itemHeight\": 140,\n        \"borderWidth\": 0\n    }\n};\n                chart_8d28947d49cf4d16bcb73bc04d11070f.setOption(option_8d28947d49cf4d16bcb73bc04d11070f);\n        });\n    </script>\n"
     },
     "metadata": {},
     "execution_count": 169
    }
   ],
   "source": [
    "from pyecharts import options as opts\n",
    "from pyecharts.charts import Map\n",
    "from pyecharts.faker import Faker\n",
    "map = (\n",
    "    Map()\n",
    "    .add(\"\", [list(z) for z in zip(Faker.country, Faker.values())], \"world\")\n",
    "    .set_series_opts(label_opts=opts.LabelOpts(is_show=False))\n",
    "    .set_global_opts(\n",
    "        title_opts=opts.TitleOpts(title=\"Map-世界地图\",pos_right='center'),\n",
    "        visualmap_opts=opts.VisualMapOpts(max_=200),)\n",
    ")\n",
    "\n",
    "map.render_notebook()\n"
   ]
  },
  {
   "cell_type": "code",
   "execution_count": null,
   "metadata": {},
   "outputs": [],
   "source": []
  }
 ],
 "metadata": {
  "language_info": {
   "codemirror_mode": {
    "name": "ipython",
    "version": 3
   },
   "file_extension": ".py",
   "mimetype": "text/x-python",
   "name": "python",
   "nbconvert_exporter": "python",
   "pygments_lexer": "ipython3",
   "version": "3.6.5-final"
  },
  "orig_nbformat": 2,
  "kernelspec": {
   "name": "python3",
   "display_name": "Python 3"
  }
 },
 "nbformat": 4,
 "nbformat_minor": 2
}
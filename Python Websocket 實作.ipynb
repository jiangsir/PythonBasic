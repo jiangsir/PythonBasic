{
 "cells": [
  {
   "cell_type": "markdown",
   "metadata": {},
   "source": [
    "# Python Websocket 實作\n",
    "\n",
    "## 參考文件: [Python Websocket](https://blog.csdn.net/chile19/article/details/80581674https://blog.csdn.net/chile19/article/details/80581674)"
   ]
  },
  {
   "cell_type": "markdown",
   "metadata": {},
   "source": [
    "## Server"
   ]
  },
  {
   "cell_type": "code",
   "execution_count": null,
   "metadata": {},
   "outputs": [],
   "source": [
    "import websockets\n",
    "import asyncio\n",
    " \n",
    "async def hello(websocket,path):\n",
    "\t\tname = await websocket.recv()\n",
    "\t\tprint(f\"A new client : {name}\")\n",
    "\t\tgreeting = \"Welcome \" + name\n",
    "\t\tawait websocket.send(greeting)\n",
    "\t\tprint(f\"send '{greeting}' to '{name}'\")\n",
    "\t\t\n",
    "start_server = websockets.serve(hello,'localhost',8765)\n",
    "asyncio.get_event_loop().run_until_complete(start_server)\n",
    "asyncio.get_event_loop().run_forever()\n"
   ]
  },
  {
   "cell_type": "markdown",
   "metadata": {},
   "source": [
    "## Client"
   ]
  },
  {
   "cell_type": "code",
   "execution_count": null,
   "metadata": {},
   "outputs": [],
   "source": [
    "import websockets\n",
    "import asyncio\n",
    " \n",
    "async def hello():\n",
    "\tasync with websockets.connect('ws://localhost:8765') as websocket:\n",
    "\t\tname = input(\"what's your name?\")\n",
    "\t\tawait websocket.send(name)\n",
    "\t\tprint(f\"send server:{name}\")\n",
    "\t\tgreeting = await websocket.recv()\n",
    "\t\tprint(f\"receive from server:{greeting}\")\n",
    "asyncio.get_event_loop().run_until_complete(hello())\n"
   ]
  }
 ],
 "metadata": {
  "language_info": {
   "codemirror_mode": {
    "name": "ipython",
    "version": 3
   },
   "file_extension": ".py",
   "mimetype": "text/x-python",
   "name": "python",
   "nbconvert_exporter": "python",
   "pygments_lexer": "ipython3",
   "version": 3
  },
  "orig_nbformat": 2
 },
 "nbformat": 4,
 "nbformat_minor": 2
}
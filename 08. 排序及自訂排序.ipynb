{
 "cells": [
  {
   "cell_type": "markdown",
   "metadata": {},
   "source": [
    "# 基本的排序"
   ]
  },
  {
   "cell_type": "code",
   "execution_count": 1,
   "metadata": {},
   "outputs": [
    {
     "output_type": "stream",
     "name": "stdout",
     "text": "原始 ['Marry', 'Tom', 'John', 'C', 'E', 'D', 'apple', 'Apple']\nsorted:  ['Apple', 'C', 'D', 'E', 'John', 'Marry', 'Tom', 'apple']\nsorted set:  ['C', 'D', 'E', 'John', 'Marry', 'Tom', 'apple']\n反序:  ['apple', 'Tom', 'Marry', 'John', 'E', 'D', 'C']\nsorted dict:  ['Age', 'Class', 'Name', 'addr', 'school']\n[0, 4, 9, 9, 10, 15, 30, 38, 76, 98]\n[98, 76, 38, 30, 15, 10, 9, 9, 4, 0]\n"
    }
   ],
   "source": [
    "\n",
    "ls = ['Marry','Tom','John','C','E','D', 'apple', 'Apple']\n",
    "print('原始', ls)\n",
    "ls = sorted(ls) # 排序 字典序\n",
    "print('sorted: ', ls)\n",
    "\n",
    "myset = {'Marry','Tom','John','C','E','D', 'apple'}\n",
    "li = sorted(myset)\n",
    "print('sorted set: ', li)\n",
    "print('反序: ', sorted(li, reverse=True)) # 反向排序 大到小排序\n",
    "\n",
    "d = {'Name': 5, 'Age': 7, 'Class': 'First', 'school':'高師大附中', 'addr':'凱旋路'}\n",
    "my = sorted(d)\n",
    "print('sorted dict: ',my)\n",
    "\n",
    "\n",
    "from random import randint\n",
    "nlist = [randint(0, 99) for i in range(10)]\n",
    "\n",
    "print(sorted(nlist)) # 小到大排序\n",
    "print(sorted(nlist, reverse=True)) # 反向排序 大到小排序\n"
   ]
  },
  {
   "cell_type": "markdown",
   "metadata": {},
   "source": [
    "# 自訂排序\n",
    "\n",
    "標準排序是用標準的字典排序法，但如果需要特殊排序原則，則需要自訂排序。  \n",
    "比如: 有一批英文單字，想要依單字長度進行排序。"
   ]
  },
  {
   "cell_type": "markdown",
   "metadata": {},
   "source": [
    "## 用 key 指定排序函數\n",
    "\n",
    "    此時要自訂一個 key 函數來決定排序原則\n",
    "\n",
    "### 長度相同的，就按原始順序排序。稱作 stable 排序"
   ]
  },
  {
   "cell_type": "code",
   "execution_count": 1,
   "metadata": {},
   "outputs": [
    {
     "output_type": "stream",
     "name": "stdout",
     "text": "['hi', 'book', 'hello', 'apple']\n['hello', 'apple', 'book', 'hi']\n['apple', 'hello', 'book', 'hi']\n"
    }
   ],
   "source": [
    "# 用單字長度進行排序\n",
    "words = ['hello', 'hi', 'book', 'apple']\n",
    "\n",
    "def sort_key(word):\n",
    "    return len(word)\n",
    "\n",
    "words = sorted(words, key=sort_key)\n",
    "print(words)\n",
    "\n",
    "words = sorted(words, key=sort_key, reverse=True)\n",
    "print(words)\n",
    "\n",
    "\n",
    "# 長度相同的，就按原始順序排序。稱作 stable 排序\n",
    "words = ['apple', 'hello', 'hi', 'book']\n",
    "def sort_key(word):\n",
    "    return len(word)\n",
    "\n",
    "words = sorted(words, key=sort_key, reverse=True)\n",
    "print(words)\n"
   ]
  },
  {
   "cell_type": "markdown",
   "metadata": {},
   "source": [
    "## 對 dict 的 value 排序"
   ]
  },
  {
   "cell_type": "code",
   "execution_count": 14,
   "metadata": {},
   "outputs": [
    {
     "name": "stdout",
     "output_type": "stream",
     "text": [
      "[('sophie', 8), ('phil', 10), ('tommy', 17)]\n"
     ]
    }
   ],
   "source": [
    "d = {'phil': 10, 'tommy':17, 'sophie': 8}\n",
    "\n",
    "def sorted_key(item):\n",
    "    return item[1]\n",
    "\n",
    "print(sorted(d.items(), key=sorted_key))"
   ]
  },
  {
   "cell_type": "markdown",
   "metadata": {},
   "source": [
    "## 排序順位\n",
    "\n",
    "### 第一順位: 用單字長度進行排序\n",
    "### 第二順位: 長度一樣的話，用字典序小到大"
   ]
  },
  {
   "cell_type": "code",
   "execution_count": 4,
   "metadata": {},
   "outputs": [
    {
     "name": "stdout",
     "output_type": "stream",
     "text": [
      "['apple', 'hello', 'book', 'hi']\n"
     ]
    }
   ],
   "source": [
    "words = ['hello', 'hi', 'book', 'apple']\n",
    "\n",
    "def sort_key(word):\n",
    "    return len(word)\n",
    "\n",
    "words = sorted(words) ## 第二順位\n",
    "words = sorted(words, key=sort_key, reverse=True) ## 第一順位\n",
    "print(words)"
   ]
  },
  {
   "cell_type": "markdown",
   "metadata": {},
   "source": [
    "## 練習\n",
    "如：  \n",
    "60547020S  \n",
    "40547036S  \n",
    "40707001A  \n",
    "80652135E  \n",
    "40923313A  \n",
    "\n",
    "排序原則1: 依照最後一個英文字元 A~Z 排序  \n",
    "排序原則2: 原則1相同時，由第一個字元 4 6 8 由小到大排序  \n",
    "排序原則3: 前兩原則都相同時，依原順序排序  \n",
    "\n"
   ]
  },
  {
   "cell_type": "code",
   "execution_count": 5,
   "metadata": {},
   "outputs": [
    {
     "name": "stdout",
     "output_type": "stream",
     "text": [
      "40707001A\n",
      "40923313A\n",
      "80652135E\n",
      "40547036S\n",
      "60547020S\n"
     ]
    }
   ],
   "source": [
    "pids = ['60547020S', '40547036S', '40707001A', '80652135E', '40923313A']\n",
    "\n",
    "def sortkey2(pid):\n",
    "    return pid[0]\n",
    "\n",
    "def sortkey1(pid):\n",
    "    return pid[-1]\n",
    "\n",
    "# 先對 “原則2” 排序\n",
    "pids = sorted(pids, key=sortkey2)\n",
    "\n",
    "# 再對 “原則1” 排序\n",
    "pids = sorted(pids, key=sortkey1)\n",
    "\n",
    "for pid in pids:\n",
    "    print(pid)"
   ]
  },
  {
   "cell_type": "markdown",
   "metadata": {},
   "source": [
    "\n",
    "## 依 總分排序"
   ]
  },
  {
   "cell_type": "code",
   "execution_count": 1,
   "metadata": {},
   "outputs": [
    {
     "output_type": "stream",
     "name": "stdout",
     "text": "{'no.': 2, 'name': 'Mike', 'Math': 87, 'Chinese': 75, 'English': 64, 'sum': 226}\n{'no.': 3, 'name': 'God', 'Math': 64, 'Chinese': 83, 'English': 79, 'sum': 226}\n{'no.': 4, 'name': 'Ruby', 'Math': 59, 'Chinese': 76, 'English': 85, 'sum': 220}\n{'no.': 1, 'name': 'Cobe', 'Math': 66, 'Chinese': 96, 'English': 54, 'sum': 216}\n"
    }
   ],
   "source": [
    "s1 = {'no.': 1, 'name': 'Cobe', 'Math': 66, 'Chinese': 96, 'English': 54}\n",
    "s2 = {'no.': 2, 'name': 'Mike', 'Math': 87, 'Chinese': 75, 'English': 64}\n",
    "s3 = {'no.': 3, 'name': 'God', 'Math': 64, 'Chinese': 83, 'English': 79}\n",
    "s4 = {'no.': 4, 'name': 'Ruby', 'Math': 59, 'Chinese': 76, 'English': 85}\n",
    "ss = [s1, s2, s3, s4]\n",
    "\n",
    "def sort1(dd):\n",
    "    dd['sum'] = dd['Math'] + dd['Chinese'] + dd['English']\n",
    "    return dd['sum']\n",
    "    \n",
    "ss = sorted(ss, key=sort1, reverse=True)\n",
    "\n",
    "for s in ss:\n",
    "    print(s)"
   ]
  },
  {
   "cell_type": "markdown",
   "metadata": {},
   "source": [
    "## 兩級排序。依總分排序，總分相同依國文排序"
   ]
  },
  {
   "cell_type": "code",
   "execution_count": 28,
   "metadata": {},
   "outputs": [
    {
     "name": "stdout",
     "output_type": "stream",
     "text": [
      "{'no.': 3, 'name': 'God', 'Math': 64, 'Chinese': 83, 'English': 79, 'sum': 226}\n",
      "{'no.': 2, 'name': 'Mike', 'Math': 87, 'Chinese': 75, 'English': 64, 'sum': 226}\n",
      "{'no.': 4, 'name': 'Ruby', 'Math': 59, 'Chinese': 76, 'English': 85, 'sum': 220}\n",
      "{'no.': 1, 'name': 'Cobe', 'Math': 66, 'Chinese': 96, 'English': 54, 'sum': 216}\n"
     ]
    }
   ],
   "source": [
    "s1 = {'no.': 1, 'name': 'Cobe', 'Math': 66, 'Chinese': 96, 'English': 54}\n",
    "s2 = {'no.': 2, 'name': 'Mike', 'Math': 87, 'Chinese': 75, 'English': 64}\n",
    "s3 = {'no.': 3, 'name': 'God', 'Math': 64, 'Chinese': 83, 'English': 79}\n",
    "s4 = {'no.': 4, 'name': 'Ruby', 'Math': 59, 'Chinese': 76, 'English': 85}\n",
    "\n",
    "ss = [s1, s2, s3, s4]\n",
    "# 用 chinese 成績排序\n",
    "def sort2(dd):\n",
    "    return dd['Chinese']\n",
    "ss = sorted(ss, key=sort2, reverse=True)\n",
    "\n",
    "def sort1(dd):\n",
    "    dd['sum'] = dd['Math'] + dd['Chinese'] + dd['English']\n",
    "    return dd['Math'] + dd['Chinese'] + dd['English']\n",
    "ss = sorted(ss, key=sort1, reverse=True)\n",
    "\n",
    "for s in ss:\n",
    "    print(s)"
   ]
  },
  {
   "cell_type": "markdown",
   "metadata": {},
   "source": [
    "## 使用 lambda 函數來排序"
   ]
  },
  {
   "cell_type": "code",
   "execution_count": 14,
   "metadata": {},
   "outputs": [
    {
     "data": {
      "text/plain": [
       "[('dave', 'B', 10), ('jane', 'B', 12), ('john', 'A', 15)]"
      ]
     },
     "execution_count": 14,
     "metadata": {},
     "output_type": "execute_result"
    }
   ],
   "source": [
    "students = [('john', 'A', 15), ('jane', 'B', 12), ('dave','B', 10)]\n",
    "sorted(students,key=lambda x: x[2]) #依照年齡排序\n"
   ]
  },
  {
   "cell_type": "markdown",
   "metadata": {},
   "source": [
    "## 自行決定字母順序"
   ]
  },
  {
   "cell_type": "code",
   "execution_count": 13,
   "metadata": {},
   "outputs": [
    {
     "name": "stdout",
     "output_type": "stream",
     "text": [
      "['accba', 'ababa', 'cbaba', 'bbaa']\n"
     ]
    }
   ],
   "source": [
    "my_alphabet = ['a', 'c', 'b'] \n",
    "def custom_key(word):\n",
    "    numbers = [] \n",
    "    for letter in word: \n",
    "        numbers.append(my_alphabet.index(letter)) \n",
    "    return numbers # python 把所有字母變成相對應的位置 list 就可以透過 list 來排序。\n",
    "    # custom_key('cbaba')==[2, 1, 0, 1, 0] \n",
    "   \n",
    "\n",
    "x = ['cbaba', 'ababa', 'bbaa', 'accba'] \n",
    "x.sort(key=custom_key)\n",
    "\n",
    "print(x)\n"
   ]
  },
  {
   "cell_type": "markdown",
   "metadata": {},
   "source": [
    "# 使用 cmp_to_key 進行排序 (元素間有關聯)\n",
    "\n",
    "### 雖然 python3 的 sorted 取消了 cmp 參數，但有些動作用 cmp 做還是比較方便。\n",
    "### 因此仍有機會使用 cmp , 兩兩待比較的項目間有大小關聯的時候可以使用。\n",
    "\n",
    "### 比如一連串遞迴數字重新排列出最大的數字"
   ]
  },
  {
   "cell_type": "code",
   "execution_count": 2,
   "metadata": {},
   "outputs": [
    {
     "output_type": "stream",
     "name": "stdout",
     "text": "['1', '2', '333', '8', '234', '5923', '7', '49']\n8759234933323421\n8759234933323421\n"
    }
   ],
   "source": [
    "import functools\n",
    "\n",
    "ss = '1 2 333 8 234 5923 7 49'\n",
    "ss = ss.split()\n",
    "print(ss)\n",
    "\n",
    "def cmp(a, b):\n",
    "    '''\n",
    "    a > b: 正數\n",
    "    a < b: 負數\n",
    "    a = b: 0\n",
    "    '''\n",
    "    if a+b > b+a:\n",
    "        return 1\n",
    "    if a+b < b+a:\n",
    "        return -1\n",
    "    else:\n",
    "        return 0\n",
    "\n",
    "\n",
    "def cmp2(a, b):\n",
    "    '''\n",
    "    a > b: 正數\n",
    "    a < b: 負數\n",
    "    a = b: 0\n",
    "    '''\n",
    "    return int(a+b)-int(b+a)\n",
    "\n",
    "sss = sorted(ss, key=functools.cmp_to_key(cmp), reverse=True)\n",
    "print(''.join(map(str,sss)))\n",
    "\n",
    "sss = sorted(ss, key=functools.cmp_to_key(cmp2), reverse=True)\n",
    "print(''.join(map(str,sss)))\n"
   ]
  },
  {
   "cell_type": "code",
   "execution_count": null,
   "metadata": {},
   "outputs": [],
   "source": []
  }
 ],
 "metadata": {
  "kernelspec": {
   "display_name": "Python 3",
   "language": "python",
   "name": "python3"
  },
  "language_info": {
   "codemirror_mode": {
    "name": "ipython",
    "version": 3
   },
   "file_extension": ".py",
   "mimetype": "text/x-python",
   "name": "python",
   "nbconvert_exporter": "python",
   "pygments_lexer": "ipython3",
   "version": "3.8.2-final"
  }
 },
 "nbformat": 4,
 "nbformat_minor": 2
}
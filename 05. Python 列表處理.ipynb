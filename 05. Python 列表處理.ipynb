{
 "metadata": {
  "language_info": {
   "codemirror_mode": {
    "name": "ipython",
    "version": 3
   },
   "file_extension": ".py",
   "mimetype": "text/x-python",
   "name": "python",
   "nbconvert_exporter": "python",
   "pygments_lexer": "ipython3",
   "version": "3.7.2-final"
  },
  "orig_nbformat": 2,
  "kernelspec": {
   "name": "Python 3.7.2 32-bit",
   "display_name": "Python 3.7.2 32-bit",
   "metadata": {
    "interpreter": {
     "hash": "d9dc88e4aa9c05378aa5e64bcd0e11e2b1e5984d8afad505fdf0864ca3363bab"
    }
   }
  }
 },
 "nbformat": 4,
 "nbformat_minor": 2,
 "cells": [
  {
   "source": [
    "# 列表處理 list 處理， list 的名稱眾多，有\"列表\"，\"串列\"...等。\n",
    "\n",
    "\n",
    "## list [] 中括號容器 -- 串列\n"
   ],
   "cell_type": "markdown",
   "metadata": {}
  },
  {
   "source": [
    "## 列表初始化"
   ],
   "cell_type": "markdown",
   "metadata": {}
  },
  {
   "cell_type": "code",
   "execution_count": 10,
   "metadata": {},
   "outputs": [
    {
     "output_type": "stream",
     "name": "stdout",
     "text": [
      "ls1= []\nls2= [2, 4, 6, 8, 10]\nls2[1]= 4\nls3[1]= 4\nls3= range(2, 100, 2)\nls4[1]= B\nls4= ['A', 'B', 'C', 'D', 'E']\n"
     ]
    }
   ],
   "source": [
    "ls1 = [] # 用中括號 設定一個空的 list\n",
    "print(\"ls1=\", ls1)\n",
    "\n",
    "ls2 = [2, 4, 6, 8, 10] # 手動定義所有 list 內的元素\n",
    "print(\"ls2=\", ls2)\n",
    "print(\"ls2[1]=\", ls2[1])\n",
    "\n",
    "ls3 = range(2, 100, 2) # 用 range 創建 list\n",
    "print(\"ls3[1]=\", ls3[1])\n",
    "print(\"ls3=\", ls3)\n",
    "\n",
    "ls4 = ['A','B','C','D','E'] # 手動建立所有 list 內的元素\n",
    "print(\"ls4[1]=\", ls4[1])\n",
    "print(\"ls4=\", ls4)\n"
   ]
  },
  {
   "source": [
    "## 從字串分割獲得 list"
   ],
   "cell_type": "markdown",
   "metadata": {}
  },
  {
   "cell_type": "code",
   "execution_count": 9,
   "metadata": {},
   "outputs": [
    {
     "output_type": "stream",
     "name": "stdout",
     "text": [
      "['1', '3', '6', '7', '8', '9', '0']\n['a', 'b', 'c', 'd', 'e', 'f', 'g']\n['name', 'age', 'school', 'gender']\n"
     ]
    }
   ],
   "source": [
    "s = '1 3 6 7 8 9 0'\n",
    "ls5 = s.split()\n",
    "print(ls5)\n",
    "\n",
    "s = 'a b c d e f g'\n",
    "ls5 = s.split()\n",
    "print(ls5)\n",
    "\n",
    "s = 'name,age,school,gender'\n",
    "ls6 = s.split(',')\n",
    "print(ls6)"
   ]
  },
  {
   "source": [
    "## 存取列表內的元素(項目, item)"
   ],
   "cell_type": "markdown",
   "metadata": {}
  },
  {
   "cell_type": "code",
   "execution_count": 12,
   "metadata": {},
   "outputs": [
    {
     "output_type": "stream",
     "name": "stdout",
     "text": [
      "A\nD\n['F', 'B', 'C', 'D', 'E']\n"
     ]
    }
   ],
   "source": [
    "ls4 = ['A','B','C','D','E'] # 手動建立所有 list 內的元素\n",
    "print(ls4[0]) # 取得索引值為 0 的項目\n",
    "print(ls4[3]) # 取得索引值為 3 的項目\n",
    "\n",
    "ls4[0] = 'F' # 修改索引值為 0 的項目\n",
    "print(ls4)\n"
   ]
  },
  {
   "source": [
    "## 串列函數，list函數"
   ],
   "cell_type": "markdown",
   "metadata": {}
  },
  {
   "cell_type": "code",
   "execution_count": null,
   "metadata": {},
   "outputs": [],
   "source": [
    "ls = ['A','B','C']\n",
    "ls.append('F') # 在最後增加單一個項目 => append\n",
    "print(ls)\n",
    "ls.append([1,2,3])  # 最後增加一個項目，這個項目本身是一個 list\n",
    "print(ls)\n",
    "ls.extend(['G','H','I']) #在最後\"串接\"一個串列 print(slist)\n",
    "print(ls)\n",
    "ls = ls + ['J', 'K', 'L'] #在最後\"串接\"一個串列 \n",
    "print(ls)\n",
    "\n",
    "ls.insert(1,'0')  #insert(位置,item) \n",
    "print(ls)\n",
    "ls.insert(3,['3', '4'])  #insert(位置,item) \n",
    "print(ls)\n",
    "ls[2:] = ['a', 'b', 'c'] # 在 slist 2:最後 取代 list\n",
    "print(ls)"
   ]
  },
  {
   "cell_type": "code",
   "execution_count": null,
   "metadata": {},
   "outputs": [],
   "source": [
    "ls = ['A','B','C','D','E']\n",
    "del ls[1] #刪除指定位置項目 => del\n",
    "print(ls)\n",
    "ls[1:3] = [] # 刪除 1~2 的項目\n",
    "print(ls)\n",
    "\n",
    "ls = ['A','B','C','D','E']\n",
    "print(ls.pop()) #預設移出刪除最後一項 = pop(-1) , 若pop(0)則是移出開頭項\n",
    "print(ls)\n",
    "print(ls.index('B'))  #找出項目值的位置 => index 只會找出第一個出現的位置\n",
    "\n",
    "ls = ['A','B','C','D','E']\n",
    "print('B' in ls) # 判斷項目是否存在於list中 => in\n",
    "print('F' in ls)"
   ]
  },
  {
   "source": [
    "## 整批改變 list 內的元素\n",
    "\n",
    "### 使用 map 內建函數"
   ],
   "cell_type": "markdown",
   "metadata": {}
  },
  {
   "cell_type": "code",
   "execution_count": 14,
   "metadata": {},
   "outputs": [
    {
     "output_type": "stream",
     "name": "stdout",
     "text": [
      "4\n9\n36\n"
     ]
    }
   ],
   "source": [
    "s = '2 3 6'\n",
    "ls = s.split()\n",
    "a, b, c = map(int, ls)\n",
    "print(a**2)\n",
    "print(b**2)\n",
    "print(c**2)\n",
    "\n"
   ]
  },
  {
   "cell_type": "code",
   "execution_count": 15,
   "metadata": {},
   "outputs": [
    {
     "output_type": "stream",
     "name": "stdout",
     "text": [
      "['2', '3', '6', '5', '7', '8', '9', '9', '0', '0', '2', '34', '5131', '4', '514']\n[2, 3, 6, 5, 7, 8, 9, 9, 0, 0, 2, 34, 5131, 4, 514]\n"
     ]
    }
   ],
   "source": [
    "s = '2 3 6 5 7 8 9 9 0 0 2 34 5131 4 514 '\n",
    "ls = s.split()\n",
    "\n",
    "'''\n",
    "用 map 將 list 內的元素全部變成 int 再轉換成一個新的 list\n",
    "'''\n",
    "ls2 = list(map(int, ls))\n",
    "\n",
    "print(ls)\n",
    "print(ls2)\n"
   ]
  },
  {
   "source": [
    "## list 遍歷"
   ],
   "cell_type": "markdown",
   "metadata": {}
  },
  {
   "cell_type": "code",
   "execution_count": null,
   "metadata": {},
   "outputs": [],
   "source": [
    "for i in range(10):\n",
    "    print(i, end=',')\n",
    "print()\n",
    "\n",
    "for i in [1, 3, 5, 7, 9]:\n",
    "    print(i, end=',')\n",
    "print()\n",
    "\n",
    "ls = ['A','B','C','D','E'] # 手動列出所有 list 內的元素\n",
    "for item in ls:\n",
    "    print(item)"
   ]
  },
  {
   "source": [
    "## 列表推導式\n",
    "\n",
    "列表推導式基本語法如下:\n",
    "\n",
    "    [ 變數表達式 (for 變數 in 表達式)* (if 過濾器)* ]\n",
    "    "
   ],
   "cell_type": "markdown",
   "metadata": {}
  },
  {
   "cell_type": "code",
   "execution_count": 13,
   "metadata": {},
   "outputs": [
    {
     "output_type": "stream",
     "name": "stdout",
     "text": [
      "ls= ['1', '2', '3', '4', '5']\nls= [1, 2, 3, 4, 5]\nls1= [1, 4, 9, 16, 25, 36, 49, 64, 81]\nls2= [1, 2, 4, 5, 7, 8]\nls3= [4, 16, 36, 64, 100]\n"
     ]
    }
   ],
   "source": [
    "s = '1 2 3 4 5' # 也可以換成 input() 來讀取鍵盤輸入\n",
    "print('ls=', s.split())\n",
    "\n",
    "ls = [int(x) for x in s.split()] # 把讀取進來的數字全部轉換成整數\n",
    "print('ls=', ls)\n",
    "\n",
    "ls1 = [x**2 for x in range(1, 10)]\n",
    "print('ls1=', ls1)\n",
    "\n",
    "ls2 = [x for x in range(1, 10) if x%3!=0] # 只列出不被 3 整除的 x\n",
    "print('ls2=', ls2)\n",
    "\n",
    "ls3 = [x**2 for x in range(1, 11) if x%2==0] # 只列出偶數\n",
    "print('ls3=', ls3)\n"
   ]
  },
  {
   "cell_type": "code",
   "execution_count": null,
   "metadata": {},
   "outputs": [],
   "source": [
    "'''\n",
    "二維陣列, list of list\n",
    "# 用列表生程式建立矩陣。雙層list 或 二維陣列\n",
    "# 例: 一個 3x5 的矩陣 row=3, col=5\n",
    "'''\n",
    "matrix = [[0 for _ in range(5)] for _ in range(3)]\n",
    "for row in matrix:\n",
    "    print(row)\n",
    "\n",
    "\n",
    "'''\n",
    "也可以使用不只一個 for 迴圈\n",
    "'''\n",
    "ls5 = [x+y for x in 'ABC' for y in '1234']\n",
    "print('ls5=', ls5)\n",
    "\n",
    "#以上程式碼相當於下方雙層 for 迴圈\n",
    "ls5 = []\n",
    "for x in 'ABC':\n",
    "    for y in '1234':\n",
    "        ls5.append(x+y)\n",
    "print(ls5)\n"
   ]
  },
  {
   "cell_type": "code",
   "execution_count": null,
   "metadata": {},
   "outputs": [],
   "source": [
    "'''\n",
    "雙層 for 迴圈\n",
    "'''\n",
    "ls5 = [i+j for i in range(3) for j in range(5)]\n",
    "print('ls5=', ls5)\n",
    "\n",
    "'''\n",
    "同時符合兩個過濾器的 x 值就會被 append 進入 list。\n",
    "'''\n",
    "ls6 = [x for x in range(100) if x % 2 == 0 if x % 5 == 0]\n",
    "print(ls6)\n",
    "\n",
    "'''\n",
    "也可以在變數表達式裡面插入 \"Even\" if i%2==0 else \"Odd\" 判斷句\n",
    "'''\n",
    "ls7 = [\"Even\" if i%2==0 else \"Odd\" for i in range(10)]\n",
    "print(ls7)\n",
    "\n",
    "ls8 = [i+j for i in range(10) for j in range(10) if i % 2 == j % 3]\n",
    "print(ls8)"
   ]
  },
  {
   "source": [
    "## 串列的比較\n",
    "\n",
    "python 的串列有一個預設的比較方式，可以方便地進行比較。\n",
    "\n",
    "首先會比較第一個元素，第一個元素相同的話，就比較第二個元素。有元素會大於沒有元素。"
   ],
   "cell_type": "markdown",
   "metadata": {}
  },
  {
   "cell_type": "code",
   "execution_count": null,
   "metadata": {},
   "outputs": [],
   "source": [
    "def compare(l1, l2):\n",
    "    if l1 > l2:\n",
    "        print(l1,'>', l2)\n",
    "    elif l1 < l2:\n",
    "        print(l1,'<', l2)\n",
    "    else:\n",
    "        print(l1,'==', l2)\n",
    "        \n",
    "l1 = [1, 2, 3]\n",
    "l2 = [1, 3, 2]\n",
    "compare(l1, l2)\n",
    "\n",
    "l1 = [1, 2]\n",
    "l2 = [1, 2, 0]\n",
    "compare(l1, l2)\n"
   ]
  },
  {
   "source": [
    "## 其他用法"
   ],
   "cell_type": "markdown",
   "metadata": {}
  },
  {
   "cell_type": "code",
   "execution_count": null,
   "metadata": {},
   "outputs": [],
   "source": [
    "ls4[0] = 'B' # 把第一個元素設定為 'B'\n",
    "print(\"ls4=\", ls4)\n",
    "\n",
    "ls5 = [['A','B','C','D','E'] , [1,2,3,4,5]] # 雙重 List 類似於二維陣列\n",
    "print(\"ls5=\", ls5[1])\n",
    "print(\"ls5[1][4]=\", ls5[1][4])\n",
    "\n",
    "# 初始化一個特定長度的 list 並且給定一個初始值\n",
    "ls6 = [0] * 10\n",
    "print('ls6=', ls6)\n",
    "\n",
    "# 初始化 10 個 0 的 list\n",
    "ls7 = [0 for _ in range(10)]\n",
    "print('ls7=', ls7)\n",
    "\n",
    "'''\n",
    "內建函數與 list 的使用\n",
    "'''\n",
    "ls = [4,23,1,3,2,98,3]\n",
    "print('min=', min(ls))\n",
    "print('max=', max(ls))\n"
   ]
  }
 ]
}
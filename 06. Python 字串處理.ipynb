{
 "cells": [
  {
   "source": [
    "# 字串處理\n",
    "## * 取得子字串\n",
    "## * 字串函數\n",
    "## * 正規表達式"
   ],
   "cell_type": "markdown",
   "metadata": {}
  },
  {
   "cell_type": "markdown",
   "metadata": {
    "slideshow": {
     "slide_type": "slide"
    }
   },
   "source": [
    "## 取得子字串\n",
    "\n",
    "Python 字串編號圖示：\n",
    "\n",
    "![Alt text](images/substring.png)\n",
    "\n",
    "\n",
    "幾個子字串常見的寫法： \n",
    "* :冒號前的 INDEX 省略代表從 0 開始。\n",
    "* :冒號後的 INDEX 省略代表直到最後一個字元。\n",
    "*        str[INDEX] 取得 INDEX 的字元  \n",
    "*        str[-INDEX] 取得倒數 INDEX 的字元  \n",
    "*    str[START:END] 從 START 到 END-1 的子字串  \n",
    "*    str[START:END:STEP] 從 START 到 END-1 每隔 STEP 的子字串  "
   ]
  },
  {
   "cell_type": "code",
   "execution_count": 1,
   "metadata": {
    "slideshow": {
     "slide_type": "subslide"
    }
   },
   "outputs": [
    {
     "name": "stdout",
     "output_type": "stream",
     "text": [
      "s[0]= M M\n",
      "s[6:12]= Python\n",
      "s[6:]= Python\n",
      "s[:6]= Monty \n",
      "s[:]= Monty Python\n",
      "s[6:-2]= Pyth\n",
      "s[-6:]= Python\n",
      "s[0:6:2]= Mny\n",
      "s[::2]= MnyPto\n",
      "s[::-1]= nohtyP ytnoM\n"
     ]
    }
   ],
   "source": [
    "s = 'Monty Python'\n",
    "print(\"s[0]=\",s[0],s[-12]) # 字串 s 的第 0 個字元，python 使用 0 based 索引\n",
    "print(\"s[6:12]=\",s[6:12]) # 6~11 的子字串 6<=index<12\n",
    "\n",
    "print(\"s[6:]=\",s[6:]) # 6~字串尾端 的子字串\n",
    "print(\"s[:6]=\",s[:6]) # 0～5 子字串\n",
    "print(\"s[:]=\", s[:])\n",
    "print(\"s[6:-2]=\",s[6:-2]) # 6 代表倒數第 2位\n",
    "print(\"s[-6:]=\",s[-6:]) # 取得最後 6 位\n",
    "\n",
    "print(\"s[0:6:2]=\",s[0:6:2]) # 0~5 間隔 2 個字元\n",
    "print(\"s[::2]=\",s[::2]) # 從 0 開始間隔 2 個字元\n",
    "print(\"s[::-1]=\",s[::-1]) # 獲得一個倒反的字串"
   ]
  },
  {
   "cell_type": "markdown",
   "metadata": {},
   "source": [
    "## 字串函數\n"
   ]
  },
  {
   "cell_type": "code",
   "execution_count": 7,
   "metadata": {},
   "outputs": [
    {
     "output_type": "stream",
     "name": "stdout",
     "text": [
      "s=Hello, Beauty... Beauty... Beauty... \n['Hello,', 'Beauty...', 'Beauty...', 'Beauty...']\n['Hello', ' Beauty... Beauty... Beauty... ']\n1,2,3,4\nHello,,Beauty...,Beauty...,Beauty...\nHello, Beauty... Beauty... Beauty...\nstrip:  Hello, Beauty... Beauty... Beauty... \nHELLO, BEAUTY... BEAUTY... BEAUTY... \nhello, beauty... beauty... beauty... \n7\nHello, Ugly... Ugly... Ugly... \n3\nFalse\nFalse\n7\n王O同\n村OO樹\n"
     ]
    }
   ],
   "source": [
    "s = \"Hello, \" + \"Beauty... \"*3 # 字串重複\n",
    "print(\"s=\"+s)\n",
    "print(s.split()) # 字串分割 預設用 \" \" 分割\n",
    "print(s.split(',')) # 字串分割 用 \",\" 分割\n",
    "\n",
    "print(','.join(\"1 2 3 4\".split()))\n",
    "print(','.join(s.split())) # List 的每個元素中插入一個 ,\n",
    "print(s.strip()) # 清除掉頭尾的不可見字元\n",
    "print(\"strip: \",s.strip(',.-')) # 清除掉頭尾的字元\n",
    "\n",
    "print(s.upper()) # 將字母變成大寫\n",
    "print(s.lower()) # 將字母變成小寫\n",
    "print(s.find('B')) # 由左邊找起第一個找到的索引\n",
    "print(s.replace('Beauty', 'Ugly')) # 取代某個字串\n",
    "print(s.count('Beauty')) # 計算字串出現的次數\n",
    "\n",
    "i= s.endswith('dog')         #檢查字串尾部的子字串\n",
    "print(i)\n",
    "i= s.startswith('fox')      #檢查字串頭部的子字串\n",
    "print(i)\n",
    "i= s.index('Bea')     #查詢子字串在字串中出現的索引，若搜尋不到子字串，會拋出 ValueError\n",
    "print(i)\n",
    "\n",
    "haiku = \"\"\"matsushima-ya\n",
    "aah matsushima-ya\n",
    "matsushima-ya\"\"\"\n",
    "haiku.splitlines()      #splitlines()對換行符號進行分割\n",
    "\n",
    "\n",
    "#將姓名中間兩個子替換成相同個數的 O\n",
    "s = \"王大同\"\n",
    "s = s.replace(s[1], \"O\")\n",
    "print(s)\n",
    "\n",
    "s = \"村上春樹\"\n",
    "s = s.replace(s[1:-1], \"O\"*len(s[1:-1]))\n",
    "print(s)\n"
   ]
  },
  {
   "source": [
    "## 字元與整數\n",
    "```\n",
    "字元與整數互換。透過 ASCII 表。\n",
    "chr(97) ==》 A\n",
    "ord(\"A\") ==》 97\n",
    "```"
   ],
   "cell_type": "markdown",
   "metadata": {}
  },
  {
   "cell_type": "code",
   "execution_count": 6,
   "metadata": {},
   "outputs": [
    {
     "output_type": "stream",
     "name": "stdout",
     "text": [
      "A = 65\n68 = D\n"
     ]
    }
   ],
   "source": [
    "x = 'A'\n",
    "print(x, '=', ord(x))\n",
    "\n",
    "y = 68\n",
    "print(y, '=', chr(y))"
   ]
  },
  {
   "cell_type": "code",
   "execution_count": null,
   "metadata": {},
   "outputs": [],
   "source": []
  },
  {
   "cell_type": "markdown",
   "metadata": {},
   "source": [
    "# 正規表達式"
   ]
  },
  {
   "cell_type": "code",
   "execution_count": 3,
   "metadata": {},
   "outputs": [
    {
     "name": "stdout",
     "output_type": "stream",
     "text": [
      "['the', 'quick', 'brown', 'fox', 'jump', 'ed', 'over', 'a', 'la', 'zy', 'dog']\n",
      "' ' matches\n",
      "'abc ' does not match\n",
      "' abc' matches\n"
     ]
    },
    {
     "data": {
      "text/plain": [
       "'To email Guido, try --@--.-- or the older address --@--.--.'"
      ]
     },
     "execution_count": 3,
     "metadata": {},
     "output_type": "execute_result"
    }
   ],
   "source": [
    "import re\n",
    "\n",
    "line = 'the quick brown fox jump\\ned over a la\\tzy dog'\n",
    "\n",
    "regex = re.compile('\\s+')\n",
    "print(regex.split(line))\n",
    "#\\s是一個特殊的字元，匹配所有空白字元(包含空格、TAB字元、換行符號等)，+指名它在實體出現一次或多次。\n",
    "\n",
    "\n",
    "for s in [\" \", \"abc \", \" abc\"]:\n",
    "    if regex.match(s):\n",
    "        print(repr(s), \"matches\")\n",
    "    else:\n",
    "        print(repr(s), \"does not match\")\n",
    "\n",
    "        \n",
    "line = 'the quick brown fox jumped over a lazy dog'\n",
    "regex = re.compile('fox')\n",
    "match = regex.search(line)\n",
    "match.start()\n",
    "\n",
    "\n",
    "text = \"To email Guido, try guido@python.org or the older address \"\\\n",
    "         \"guido@google.com.\"\n",
    "email = re.compile('\\w+@\\w+\\.[a-z]{3}')\n",
    "email.findall(text)\n",
    "\n",
    "#我們可以進行進一步的操作，像是把電子郵件地址換成其他的字元串，達到保護個資的作用\n",
    "email.sub('--@--.--', text)"
   ]
  }
 ],
 "metadata": {
  "kernelspec": {
   "name": "python3",
   "display_name": "Python 3.8.2 32-bit",
   "metadata": {
    "interpreter": {
     "hash": "7987c57931f2365761dc2a5f85e647decf73af6edff0c78918b92bfe7c5512ba"
    }
   }
  },
  "language_info": {
   "codemirror_mode": {
    "name": "ipython",
    "version": 3
   },
   "file_extension": ".py",
   "mimetype": "text/x-python",
   "name": "python",
   "nbconvert_exporter": "python",
   "pygments_lexer": "ipython3",
   "version": "3.8.2-final"
  }
 },
 "nbformat": 4,
 "nbformat_minor": 2
}
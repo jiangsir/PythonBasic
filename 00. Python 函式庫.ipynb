{
 "cells": [
  {
   "cell_type": "markdown",
   "metadata": {},
   "source": [
    "# 內建函式庫與標準函式庫\n",
    "\n",
    "Python 內建許多必要的函式，像是 input()、print() 與 len() 等，除此之外還有一些常用的函式庫，視需要再 import 即可，稱為標準函式庫，像是 math 或者 random。\n",
    "\n"
   ]
  },
  {
   "source": [
    "# 函數\r\n",
    "\r\n",
    "* 內建函數\r\n",
    "* 標準函式庫\r\n",
    "* 外部函式庫\r\n",
    "* 自訂函數\r\n",
    "* 匿名函數 lambda\r\n",
    "\r\n",
    "![](images/library.png)"
   ],
   "cell_type": "markdown",
   "metadata": {}
  },
  {
   "source": [
    "## 內建函數 Built-in Functions\n",
    "\n",
    "內建函式庫不需要任何引入動作，就可以直接使用，可視為 Python 最核心最重要的函式庫。\n",
    "\n",
    "* print(), input(), range()\n",
    "* int(), type(), str()\n",
    "* sorted(), reversed(), iter()\n",
    "* map(), zip(), enmurator(), reduce()\n",
    "\n",
    "\n",
    "<p>The Python interpreter has a number of functions and types built into it that\n",
    "are always available.  They are listed here in alphabetical order.</p>\n",
    "<table class=\"docutils\" border=\"1\">\n",
    "<colgroup>\n",
    "<col width=\"21%\">\n",
    "<col width=\"18%\">\n",
    "<col width=\"20%\">\n",
    "<col width=\"20%\">\n",
    "<col width=\"22%\">\n",
    "</colgroup>\n",
    "<thead valign=\"bottom\">\n",
    "<tr class=\"row-odd\"><th class=\"head\"></th>\n",
    "<th class=\"head\"></th>\n",
    "<th class=\"head\">Built-in Functions</th>\n",
    "<th class=\"head\"></th>\n",
    "<th class=\"head\"></th>\n",
    "</tr>\n",
    "</thead>\n",
    "<tbody valign=\"top\">\n",
    "<tr class=\"row-even\"><td><a class=\"reference internal\" href=\"#abs\" title=\"abs\"><code class=\"xref py py-func docutils literal notranslate\"><span class=\"pre\">abs()</span></code></a></td>\n",
    "<td><a class=\"reference internal\" href=\"#delattr\" title=\"delattr\"><code class=\"xref py py-func docutils literal notranslate\"><span class=\"pre\">delattr()</span></code></a></td>\n",
    "<td><a class=\"reference internal\" href=\"#hash\" title=\"hash\"><code class=\"xref py py-func docutils literal notranslate\"><span class=\"pre\">hash()</span></code></a></td>\n",
    "<td><a class=\"reference internal\" href=\"#func-memoryview\"><code class=\"docutils literal notranslate\"><span class=\"pre\">memoryview()</span></code></a></td>\n",
    "<td><a class=\"reference internal\" href=\"#func-set\"><code class=\"docutils literal notranslate\"><span class=\"pre\">set()</span></code></a></td>\n",
    "</tr>\n",
    "<tr class=\"row-odd\"><td><a class=\"reference internal\" href=\"#all\" title=\"all\"><code class=\"xref py py-func docutils literal notranslate\"><span class=\"pre\">all()</span></code></a></td>\n",
    "<td><a class=\"reference internal\" href=\"#func-dict\"><code class=\"docutils literal notranslate\"><span class=\"pre\">dict()</span></code></a></td>\n",
    "<td><a class=\"reference internal\" href=\"#help\" title=\"help\"><code class=\"xref py py-func docutils literal notranslate\"><span class=\"pre\">help()</span></code></a></td>\n",
    "<td><a class=\"reference internal\" href=\"#min\" title=\"min\"><code class=\"xref py py-func docutils literal notranslate\"><span class=\"pre\">min()</span></code></a></td>\n",
    "<td><a class=\"reference internal\" href=\"#setattr\" title=\"setattr\"><code class=\"xref py py-func docutils literal notranslate\"><span class=\"pre\">setattr()</span></code></a></td>\n",
    "</tr>\n",
    "<tr class=\"row-even\"><td><a class=\"reference internal\" href=\"#any\" title=\"any\"><code class=\"xref py py-func docutils literal notranslate\"><span class=\"pre\">any()</span></code></a></td>\n",
    "<td><a class=\"reference internal\" href=\"#dir\" title=\"dir\"><code class=\"xref py py-func docutils literal notranslate\"><span class=\"pre\">dir()</span></code></a></td>\n",
    "<td><a class=\"reference internal\" href=\"#hex\" title=\"hex\"><code class=\"xref py py-func docutils literal notranslate\"><span class=\"pre\">hex()</span></code></a></td>\n",
    "<td><a class=\"reference internal\" href=\"#next\" title=\"next\"><code class=\"xref py py-func docutils literal notranslate\"><span class=\"pre\">next()</span></code></a></td>\n",
    "<td><a class=\"reference internal\" href=\"#slice\" title=\"slice\"><code class=\"xref py py-func docutils literal notranslate\"><span class=\"pre\">slice()</span></code></a></td>\n",
    "</tr>\n",
    "<tr class=\"row-odd\"><td><a class=\"reference internal\" href=\"#ascii\" title=\"ascii\"><code class=\"xref py py-func docutils literal notranslate\"><span class=\"pre\">ascii()</span></code></a></td>\n",
    "<td><a class=\"reference internal\" href=\"#divmod\" title=\"divmod\"><code class=\"xref py py-func docutils literal notranslate\"><span class=\"pre\">divmod()</span></code></a></td>\n",
    "<td><a class=\"reference internal\" href=\"#id\" title=\"id\"><code class=\"xref py py-func docutils literal notranslate\"><span class=\"pre\">id()</span></code></a></td>\n",
    "<td><a class=\"reference internal\" href=\"#object\" title=\"object\"><code class=\"xref py py-func docutils literal notranslate\"><span class=\"pre\">object()</span></code></a></td>\n",
    "<td><a class=\"reference internal\" href=\"#sorted\" title=\"sorted\"><code class=\"xref py py-func docutils literal notranslate\"><span class=\"pre\">sorted()</span></code></a></td>\n",
    "</tr>\n",
    "<tr class=\"row-even\"><td><a class=\"reference internal\" href=\"#bin\" title=\"bin\"><code class=\"xref py py-func docutils literal notranslate\"><span class=\"pre\">bin()</span></code></a></td>\n",
    "<td><a class=\"reference internal\" href=\"#enumerate\" title=\"enumerate\"><code class=\"xref py py-func docutils literal notranslate\"><span class=\"pre\">enumerate()</span></code></a></td>\n",
    "<td><a class=\"reference internal\" href=\"#input\" title=\"input\"><code class=\"xref py py-func docutils literal notranslate\"><span class=\"pre\">input()</span></code></a></td>\n",
    "<td><a class=\"reference internal\" href=\"#oct\" title=\"oct\"><code class=\"xref py py-func docutils literal notranslate\"><span class=\"pre\">oct()</span></code></a></td>\n",
    "<td><a class=\"reference internal\" href=\"#staticmethod\" title=\"staticmethod\"><code class=\"xref py py-func docutils literal notranslate\"><span class=\"pre\">staticmethod()</span></code></a></td>\n",
    "</tr>\n",
    "<tr class=\"row-odd\"><td><a class=\"reference internal\" href=\"#bool\" title=\"bool\"><code class=\"xref py py-func docutils literal notranslate\"><span class=\"pre\">bool()</span></code></a></td>\n",
    "<td><a class=\"reference internal\" href=\"#eval\" title=\"eval\"><code class=\"xref py py-func docutils literal notranslate\"><span class=\"pre\">eval()</span></code></a></td>\n",
    "<td><a class=\"reference internal\" href=\"#int\" title=\"int\"><code class=\"xref py py-func docutils literal notranslate\"><span class=\"pre\">int()</span></code></a></td>\n",
    "<td><a class=\"reference internal\" href=\"#open\" title=\"open\"><code class=\"xref py py-func docutils literal notranslate\"><span class=\"pre\">open()</span></code></a></td>\n",
    "<td><a class=\"reference internal\" href=\"#func-str\"><code class=\"docutils literal notranslate\"><span class=\"pre\">str()</span></code></a></td>\n",
    "</tr>\n",
    "<tr class=\"row-even\"><td><a class=\"reference internal\" href=\"#breakpoint\" title=\"breakpoint\"><code class=\"xref py py-func docutils literal notranslate\"><span class=\"pre\">breakpoint()</span></code></a></td>\n",
    "<td><a class=\"reference internal\" href=\"#exec\" title=\"exec\"><code class=\"xref py py-func docutils literal notranslate\"><span class=\"pre\">exec()</span></code></a></td>\n",
    "<td><a class=\"reference internal\" href=\"#isinstance\" title=\"isinstance\"><code class=\"xref py py-func docutils literal notranslate\"><span class=\"pre\">isinstance()</span></code></a></td>\n",
    "<td><a class=\"reference internal\" href=\"#ord\" title=\"ord\"><code class=\"xref py py-func docutils literal notranslate\"><span class=\"pre\">ord()</span></code></a></td>\n",
    "<td><a class=\"reference internal\" href=\"#sum\" title=\"sum\"><code class=\"xref py py-func docutils literal notranslate\"><span class=\"pre\">sum()</span></code></a></td>\n",
    "</tr>\n",
    "<tr class=\"row-odd\"><td><a class=\"reference internal\" href=\"#func-bytearray\"><code class=\"docutils literal notranslate\"><span class=\"pre\">bytearray()</span></code></a></td>\n",
    "<td><a class=\"reference internal\" href=\"#filter\" title=\"filter\"><code class=\"xref py py-func docutils literal notranslate\"><span class=\"pre\">filter()</span></code></a></td>\n",
    "<td><a class=\"reference internal\" href=\"#issubclass\" title=\"issubclass\"><code class=\"xref py py-func docutils literal notranslate\"><span class=\"pre\">issubclass()</span></code></a></td>\n",
    "<td><a class=\"reference internal\" href=\"#pow\" title=\"pow\"><code class=\"xref py py-func docutils literal notranslate\"><span class=\"pre\">pow()</span></code></a></td>\n",
    "<td><a class=\"reference internal\" href=\"#super\" title=\"super\"><code class=\"xref py py-func docutils literal notranslate\"><span class=\"pre\">super()</span></code></a></td>\n",
    "</tr>\n",
    "<tr class=\"row-even\"><td><a class=\"reference internal\" href=\"#func-bytes\"><code class=\"docutils literal notranslate\"><span class=\"pre\">bytes()</span></code></a></td>\n",
    "<td><a class=\"reference internal\" href=\"#float\" title=\"float\"><code class=\"xref py py-func docutils literal notranslate\"><span class=\"pre\">float()</span></code></a></td>\n",
    "<td><a class=\"reference internal\" href=\"#iter\" title=\"iter\"><code class=\"xref py py-func docutils literal notranslate\"><span class=\"pre\">iter()</span></code></a></td>\n",
    "<td><a class=\"reference internal\" href=\"#print\" title=\"print\"><code class=\"xref py py-func docutils literal notranslate\"><span class=\"pre\">print()</span></code></a></td>\n",
    "<td><a class=\"reference internal\" href=\"#func-tuple\"><code class=\"docutils literal notranslate\"><span class=\"pre\">tuple()</span></code></a></td>\n",
    "</tr>\n",
    "<tr class=\"row-odd\"><td><a class=\"reference internal\" href=\"#callable\" title=\"callable\"><code class=\"xref py py-func docutils literal notranslate\"><span class=\"pre\">callable()</span></code></a></td>\n",
    "<td><a class=\"reference internal\" href=\"#format\" title=\"format\"><code class=\"xref py py-func docutils literal notranslate\"><span class=\"pre\">format()</span></code></a></td>\n",
    "<td><a class=\"reference internal\" href=\"#len\" title=\"len\"><code class=\"xref py py-func docutils literal notranslate\"><span class=\"pre\">len()</span></code></a></td>\n",
    "<td><a class=\"reference internal\" href=\"#property\" title=\"property\"><code class=\"xref py py-func docutils literal notranslate\"><span class=\"pre\">property()</span></code></a></td>\n",
    "<td><a class=\"reference internal\" href=\"#type\" title=\"type\"><code class=\"xref py py-func docutils literal notranslate\"><span class=\"pre\">type()</span></code></a></td>\n",
    "</tr>\n",
    "<tr class=\"row-even\"><td><a class=\"reference internal\" href=\"#chr\" title=\"chr\"><code class=\"xref py py-func docutils literal notranslate\"><span class=\"pre\">chr()</span></code></a></td>\n",
    "<td><a class=\"reference internal\" href=\"#func-frozenset\"><code class=\"docutils literal notranslate\"><span class=\"pre\">frozenset()</span></code></a></td>\n",
    "<td><a class=\"reference internal\" href=\"#func-list\"><code class=\"docutils literal notranslate\"><span class=\"pre\">list()</span></code></a></td>\n",
    "<td><a class=\"reference internal\" href=\"#func-range\"><code class=\"docutils literal notranslate\"><span class=\"pre\">range()</span></code></a></td>\n",
    "<td><a class=\"reference internal\" href=\"#vars\" title=\"vars\"><code class=\"xref py py-func docutils literal notranslate\"><span class=\"pre\">vars()</span></code></a></td>\n",
    "</tr>\n",
    "<tr class=\"row-odd\"><td><a class=\"reference internal\" href=\"#classmethod\" title=\"classmethod\"><code class=\"xref py py-func docutils literal notranslate\"><span class=\"pre\">classmethod()</span></code></a></td>\n",
    "<td><a class=\"reference internal\" href=\"#getattr\" title=\"getattr\"><code class=\"xref py py-func docutils literal notranslate\"><span class=\"pre\">getattr()</span></code></a></td>\n",
    "<td><a class=\"reference internal\" href=\"#locals\" title=\"locals\"><code class=\"xref py py-func docutils literal notranslate\"><span class=\"pre\">locals()</span></code></a></td>\n",
    "<td><a class=\"reference internal\" href=\"#repr\" title=\"repr\"><code class=\"xref py py-func docutils literal notranslate\"><span class=\"pre\">repr()</span></code></a></td>\n",
    "<td><a class=\"reference internal\" href=\"#zip\" title=\"zip\"><code class=\"xref py py-func docutils literal notranslate\"><span class=\"pre\">zip()</span></code></a></td>\n",
    "</tr>\n",
    "<tr class=\"row-even\"><td><a class=\"reference internal\" href=\"#compile\" title=\"compile\"><code class=\"xref py py-func docutils literal notranslate\"><span class=\"pre\">compile()</span></code></a></td>\n",
    "<td><a class=\"reference internal\" href=\"#globals\" title=\"globals\"><code class=\"xref py py-func docutils literal notranslate\"><span class=\"pre\">globals()</span></code></a></td>\n",
    "<td><a class=\"reference internal\" href=\"#map\" title=\"map\"><code class=\"xref py py-func docutils literal notranslate\"><span class=\"pre\">map()</span></code></a></td>\n",
    "<td><a class=\"reference internal\" href=\"#reversed\" title=\"reversed\"><code class=\"xref py py-func docutils literal notranslate\"><span class=\"pre\">reversed()</span></code></a></td>\n",
    "<td><a class=\"reference internal\" href=\"#__import__\" title=\"__import__\"><code class=\"xref py py-func docutils literal notranslate\"><span class=\"pre\">__import__()</span></code></a></td>\n",
    "</tr>\n",
    "<tr class=\"row-odd\"><td><a class=\"reference internal\" href=\"#complex\" title=\"complex\"><code class=\"xref py py-func docutils literal notranslate\"><span class=\"pre\">complex()</span></code></a></td>\n",
    "<td><a class=\"reference internal\" href=\"#hasattr\" title=\"hasattr\"><code class=\"xref py py-func docutils literal notranslate\"><span class=\"pre\">hasattr()</span></code></a></td>\n",
    "<td><a class=\"reference internal\" href=\"#max\" title=\"max\"><code class=\"xref py py-func docutils literal notranslate\"><span class=\"pre\">max()</span></code></a></td>\n",
    "<td><a class=\"reference internal\" href=\"#round\" title=\"round\"><code class=\"xref py py-func docutils literal notranslate\"><span class=\"pre\">round()</span></code></a></td>\n",
    "<td>&nbsp;</td>\n",
    "</tr>\n",
    "</tbody>\n",
    "</table>\n"
   ],
   "cell_type": "markdown",
   "metadata": {}
  },
  {
   "source": [
    "## 標準函式庫使用方式\n",
    "\n",
    "標準函式庫需要使用 import 來引入使用，比如 import math\n",
    "\n",
    "    import math\n"
   ],
   "cell_type": "markdown",
   "metadata": {}
  },
  {
   "cell_type": "markdown",
   "metadata": {},
   "source": [
    "## 數學函式庫\n",
    "\n",
    "\n",
    "一些常見的數學函數已經被包含在數學函式庫當中了。\n",
    "\n",
    "引用函式庫 math，即可使用。\n",
    "\n",
    "詳細引用規範請參閱 [6. Python 引入模組與套件](6. Python 引入模組與套件.ipynb)\n",
    "\n",
    "### 函數的提示\n",
    "\n",
    "在 IDLE 中快速鍵 <h1>ctrl + shift + space</h1> 可以跳出內建函示庫提示\n",
    "\n",
    "![](images/IDLE_內建函示庫提示.PNG)\n",
    "\n",
    "\n",
    "在 IDLE 當中，鍵入函示庫名稱之後接上 . 等待 3秒鐘 即可提示該函示庫內有哪些函數可以使用\n",
    "\n",
    "![](images/IDLE_函數提示.PNG)\n",
    "\n",
    "\n",
    "函數用法提示:\n",
    "\n",
    "![](images/IDLE_函數用法.PNG)\n"
   ]
  },
  {
   "cell_type": "code",
   "execution_count": 2,
   "metadata": {},
   "outputs": [
    {
     "name": "stdout",
     "output_type": "stream",
     "text": [
      "圓周率: 3.141592653589793\n",
      "['__doc__', '__file__', '__loader__', '__name__', '__package__', '__spec__', 'acos', 'acosh', 'asin', 'asinh', 'atan', 'atan2', 'atanh', 'ceil', 'copysign', 'cos', 'cosh', 'degrees', 'e', 'erf', 'erfc', 'exp', 'expm1', 'fabs', 'factorial', 'floor', 'fmod', 'frexp', 'fsum', 'gamma', 'gcd', 'hypot', 'inf', 'isclose', 'isfinite', 'isinf', 'isnan', 'ldexp', 'lgamma', 'log', 'log10', 'log1p', 'log2', 'modf', 'nan', 'pi', 'pow', 'radians', 'sin', 'sinh', 'sqrt', 'tan', 'tanh', 'tau', 'trunc']\n",
      "Help on built-in function sqrt in module math:\n",
      "\n",
      "sqrt(...)\n",
      "    sqrt(x)\n",
      "    \n",
      "    Return the square root of x.\n",
      "\n",
      "None\n",
      "平方根: 3.0\n",
      "最大公因數: 6\n",
      "無條件捨去: 3\n",
      "絕對值: 2.0\n",
      "絕對值: 2\n",
      "Help on built-in function round in module builtins:\n",
      "\n",
      "round(...)\n",
      "    round(number[, ndigits]) -> number\n",
      "    \n",
      "    Round a number to a given precision in decimal digits (default 0 digits).\n",
      "    This returns an int when called with one argument, otherwise the\n",
      "    same type as the number. ndigits may be negative.\n",
      "\n",
      "四捨五入(2.4): 2\n",
      "四捨五入(2.5): 2\n",
      "四捨五入(3.5): 4\n",
      "四捨五入(4.5): 4\n"
     ]
    }
   ],
   "source": [
    "import math\n",
    "\n",
    "print('圓周率:', math.pi)\n",
    "\n",
    "# 查看函式庫裡面有哪些函式可供使用；\n",
    "print(dir(math))\n",
    "\n",
    "# 查看函式的使用方法\n",
    "print(help(math.sqrt))\n",
    "\n",
    "print('平方根:', math.sqrt(9))\n",
    "print('最大公因數:', math.gcd(12, 18))\n",
    "print('無條件捨去:', math.floor(3.99))\n",
    "print('絕對值:', math.fabs(-2)) # 等價於 abs(-2)\n",
    "print('絕對值:', abs(-2))\n",
    "\n",
    "\n",
    "help(round)\n",
    "\n",
    "## 四捨六入五成雙\n",
    "print('四捨五入(2.4):', round(2.4))\n",
    "print('四捨五入(2.5):', round(2.5))\n",
    "print('四捨五入(3.5):', round(3.5))\n",
    "print('四捨五入(4.5):', round(4.5))\n"
   ]
  },
  {
   "cell_type": "markdown",
   "metadata": {},
   "source": [
    "## [Python 中关于 round 函数的小坑](http://www.runoob.com/w3cnote/python-round-func-note.html)"
   ]
  },
  {
   "cell_type": "markdown",
   "metadata": {},
   "source": [
    "### 無限大的數"
   ]
  },
  {
   "cell_type": "code",
   "execution_count": 24,
   "metadata": {
    "scrolled": true
   },
   "outputs": [
    {
     "name": "stdout",
     "output_type": "stream",
     "text": [
      "無窮大: inf\n",
      "無窮大: inf\n",
      "無窮小: -inf\n"
     ]
    }
   ],
   "source": [
    "# 第一種寫法\n",
    "import math\n",
    "test = math.inf\n",
    "\n",
    "print('無窮大:', test)\n",
    "\n",
    "# 第二種寫法\n",
    "test = float('inf')\n",
    "print('無窮大:', test)\n",
    "\n",
    "print('無窮小:', -test)"
   ]
  },
  {
   "source": [
    "## 外部函式庫\n",
    "\n",
    "需要另行安裝的函式庫，比如: requests\n",
    "\n",
    "安裝指令:\n",
    "\n",
    "    pip install requests\n",
    "\n",
    "使用方式:\n",
    "    \n",
    "    import requests"
   ],
   "cell_type": "markdown",
   "metadata": {}
  },
  {
   "cell_type": "code",
   "execution_count": 4,
   "metadata": {},
   "outputs": [
    {
     "output_type": "stream",
     "name": "stdout",
     "text": [
      "Requirement already satisfied: requests in c:\\users\\user\\anaconda3\\lib\\site-packages (2.17.1)\n",
      "Requirement already satisfied: chardet<3.1.0,>=3.0.2 in c:\\users\\user\\anaconda3\\lib\\site-packages (from requests) (3.0.4)\n",
      "Requirement already satisfied: certifi>=2017.4.17 in c:\\users\\user\\anaconda3\\lib\\site-packages (from requests) (2020.4.5.1)\n",
      "Requirement already satisfied: idna<2.6,>=2.5 in c:\\users\\user\\anaconda3\\lib\\site-packages (from requests) (2.5)\n",
      "Requirement already satisfied: urllib3<1.22,>=1.21.1 in c:\\users\\user\\anaconda3\\lib\\site-packages (from requests) (1.21.1)\n",
      "WARNING: You are using pip version 20.0.2; however, version 20.3.3 is available.\n",
      "You should consider upgrading via the 'c:\\users\\user\\anaconda3\\python.exe -m pip install --upgrade pip' command.\n"
     ]
    }
   ],
   "source": [
    "!pip install requests"
   ]
  },
  {
   "cell_type": "code",
   "execution_count": 5,
   "metadata": {},
   "outputs": [
    {
     "output_type": "execute_result",
     "data": {
      "text/plain": [
       "'<!doctype html><html itemscope=\"\" itemtype=\"http://schema.org/WebPage\" lang=\"zh-TW\"><head><meta content=\"text/html; charset=UTF-8\" http-equiv=\"Content-Type\"><meta content=\"/logos/doodles/2020/december-holidays-days-2-30-6753651837108830.3-law.gif\" itemprop=\"image\"><meta content=\"December Holidays\" property=\"twitter:title\"><meta content=\"December Holidays 2020 #GoogleDoodle\" property=\"twitter:description\"><meta content=\"December Holidays 2020 #GoogleDoodle\" property=\"og:description\"><meta content=\"summary_large_image\" property=\"twitter:card\"><meta content=\"@GoogleDoodles\" property=\"twitter:site\"><meta content=\"https://www.google.com/logos/doodles/2020/december-holidays-days-2-30-6753651837108830.3-2xa.gif\" property=\"twitter:image\"><meta content=\"https://www.google.com/logos/doodles/2020/december-holidays-days-2-30-6753651837108830.3-2xa.gif\" property=\"og:image\"><meta content=\"1100\" property=\"og:image:width\"><meta content=\"440\" property=\"og:image:height\"><meta content=\"https://www.google.com/logos/doodles/2020/december-holidays-days-2-30-6753651837108830.3-2xa.gif\" property=\"og:url\"><meta content=\"video.other\" property=\"og:type\"><title>Google</title><script nonce=\"KVD3vsAnTpD+RxFugR6qYQ==\">(function(){window.google={kEI:\\'2XHcX7qVK9G3mAXxsaLIBA\\',kEXPI:\\'0,1359409,731,223,755,4350,206,3204,10,1144,82,364,1499,817,383,246,5,1354,4414,3,65,768,7,210,1264,2429,1611,7,1942,2049,1112997,1233,1196537,513,6,328978,13677,4855,32691,16115,6056,11388,1954,9286,9188,8384,4858,1362,9290,3029,4739,12841,4998,6242,1689,5297,2054,920,873,4192,6430,14528,4519,2775,919,2277,8,2796,1593,1279,2212,532,147,1103,840,517,1466,56,158,4100,312,1137,2,2063,606,2023,1777,520,1947,2229,93,328,1284,2943,2246,3600,3227,2845,7,12354,5096,7877,3748,1180,108,3407,908,2,941,2614,2397,1027,9718,3,346,230,970,865,4625,148,5990,7980,4,1533,2304,1236,271,874,405,42,1818,1817,1112,41,1214,125,4,2300,17,447,459,1555,4067,1035,1316,2018,1265,1426,2172,3323,1753,2658,872,3291,79,519,912,564,464,217,8,431,30,1302,982,1570,139,641,1798,655,990,52,3286,2213,1592,713,638,1494,130,475,2,888,4,590,2147,1031,319,992,1369,55,745,212,399,3229,773,2,73,50,1307,587,11,687,44,64,601,337,522,2,1284,114,1141,2400,2509,48,479,12,1142,413,849,59,777,363,20,476,2642,6,447,76,385,3,107,95,1325,1923,91,1,336,1179,149,173,164,2073,876,102,239,290,436,490,492,704,83,16,1876,196,316,255,147,290,13,2,50,156,223,127,333,946,2,237,1739,215,74,898,513,152,245,38,3328,250,638,18,511,2,1007,209,432,645,560,905,26,169,112,892,5716866,3870,35,8798011,549,333,444,1,2,80,1,900,896,1,9,2,2551,1,748,141,59,736,563,1,4265,1,1,2,1017,9,305,3299,248,595,1,2301,2,1,16,86,7,7,9,11,46,4,1,2,21,2,2,22,9,1,1,8,8,1,2,1,23957689\\',kBL:\\'ZWEf\\'};google.sn=\\'webhp\\';google.kHL=\\'zh-TW\\';})();(function(){\\ngoogle.lc=[];google.li=0;google.getEI=function(a){for(var b;a&&(!a.getAttribute||!(b=a.getAttribute(\"eid\")));)a=a.parentNode;return b||google.kEI};google.getLEI=function(a){for(var b=null;a&&(!a.getAttribute||!(b=a.getAttribute(\"leid\")));)a=a.parentNode;return b};google.ml=function(){return null};google.time=function(){return Date.now()};google.log=function(a,b,c,d,g){if(c=google.logUrl(a,b,c,d,g)){a=new Image;var e=google.lc,f=google.li;e[f]=a;a.onerror=a.onload=a.onabort=function(){delete e[f]};a.src=c;google.li=f+1}};google.logUrl=function(a,b,c,d,g){var e=\"\",f=google.ls||\"\";c||-1!=b.search(\"&ei=\")||(e=\"&ei=\"+google.getEI(d),-1==b.search(\"&lei=\")&&(d=google.getLEI(d))&&(e+=\"&lei=\"+d));d=\"\";!c&&google.cshid&&-1==b.search(\"&cshid=\")&&\"slh\"!=a&&(d=\"&cshid=\"+google.cshid);c=c||\"/\"+(g||\"gen_204\")+\"?atyp=i&ct=\"+a+\"&cad=\"+b+e+f+\"&zx=\"+google.time()+d;/^http:/i.test(c)&&\"https:\"==window.location.protocol&&(google.ml(Error(\"a\"),!1,{src:c,glmm:1}),c=\"\");return c};}).call(this);(function(){google.y={};google.x=function(a,b){if(a)var c=a.id;else{do c=Math.random();while(google.y[c])}google.y[c]=[a,b];return!1};google.lm=[];google.plm=function(a){google.lm.push.apply(google.lm,a)};google.lq=[];google.load=function(a,b,c){google.lq.push([[a],b,c])};google.loadAll=function(a,b){google.lq.push([a,b])};}).call(this);google.f={};(function(){\\ndocument.documentElement.addEventListener(\"submit\",function(b){var a;if(a=b.target){var c=a.getAttribute(\"data-submitfalse\");a=\"1\"==c||\"q\"==c&&!a.elements.q.value?!0:!1}else a=!1;a&&(b.preventDefault(),b.stopPropagation())},!0);document.documentElement.addEventListener(\"click\",function(b){var a;a:{for(a=b.target;a&&a!=document.documentElement;a=a.parentElement)if(\"A\"==a.tagName){a=\"1\"==a.getAttribute(\"data-nohref\");break a}a=!1}a&&b.preventDefault()},!0);}).call(this);\\nvar a=window.location,b=a.href.indexOf(\"#\");if(0<=b){var c=a.href.substring(b+1);/(^|&)q=/.test(c)&&-1==c.indexOf(\"#\")&&a.replace(\"/search?\"+c.replace(/(^|&)fp=[^&]*/g,\"\")+\"&cad=h\")};</script><style>#gbar,#guser{font-size:13px;padding-top:1px !important;}#gbar{height:22px}#guser{padding-bottom:7px !important;text-align:right}.gbh,.gbd{border-top:1px solid #c9d7f1;font-size:1px}.gbh{height:0;position:absolute;top:24px;width:100%}@media all{.gb1{height:22px;margin-right:.5em;vertical-align:top}#gbar{float:left}}a.gb1,a.gb4{text-decoration:underline !important}a.gb1,a.gb4{color:#00c !important}.gbi .gb4{color:#dd8e27 !important}.gbf .gb4{color:#900 !important}\\n</style><style>body,td,a,p,.h{font-family:arial,sans-serif}body{margin:0;overflow-y:scroll}#gog{padding:3px 8px 0}td{line-height:.8em}.gac_m td{line-height:17px}form{margin-bottom:20px}.h{color:#1558d6}em{color:#c5221f;font-style:normal;font-weight:normal}a em{text-decoration:underline}.lst{height:25px;width:496px}.gsfi,.lst{font:18px arial,sans-serif}.gsfs{font:17px arial,sans-serif}.ds{display:inline-box;display:inline-block;margin:3px 0 4px;margin-left:4px}input{font-family:inherit}body{background:#fff;color:#000}a{color:#4b11a8;text-decoration:none}a:hover,a:active{text-decoration:underline}.fl a{color:#1558d6}a:visited{color:#4b11a8}.sblc{padding-top:5px}.sblc a{display:block;margin:2px 0;margin-left:13px;font-size:11px}.lsbb{background:#f8f9fa;border:solid 1px;border-color:#dadce0 #70757a #70757a #dadce0;height:30px}.lsbb{display:block}#WqQANb a{display:inline-block;margin:0 12px}.lsb{background:url(/images/nav_logo229.png) 0 -261px repeat-x;border:none;color:#000;cursor:pointer;height:30px;margin:0;outline:0;font:15px arial,sans-serif;vertical-align:top}.lsb:active{background:#dadce0}.lst:focus{outline:none}</style><script nonce=\"KVD3vsAnTpD+RxFugR6qYQ==\"></script></head><body bgcolor=\"#fff\"><script nonce=\"KVD3vsAnTpD+RxFugR6qYQ==\">(function(){var src=\\'/images/nav_logo229.png\\';var iesg=false;document.body.onload = function(){window.n && window.n();if (document.images){new Image().src=src;}\\nif (!iesg){document.f&&document.f.q.focus();document.gbqf&&document.gbqf.q.focus();}\\n}\\n})();</script><div id=\"mngb\"><div id=gbar><nobr><b class=gb1>&#25628;&#23563;</b> <a class=gb1 href=\"https://www.google.com.tw/imghp?hl=zh-TW&tab=wi\">&#22294;&#29255;</a> <a class=gb1 href=\"https://maps.google.com.tw/maps?hl=zh-TW&tab=wl\">&#22320;&#22294;</a> <a class=gb1 href=\"https://play.google.com/?hl=zh-TW&tab=w8\">Play</a> <a class=gb1 href=\"https://www.youtube.com/?gl=TW&tab=w1\">YouTube</a> <a class=gb1 href=\"https://news.google.com/?tab=wn\">&#26032;&#32862;</a> <a class=gb1 href=\"https://mail.google.com/mail/?tab=wm\">Gmail</a> <a class=gb1 href=\"https://drive.google.com/?tab=wo\">&#38642;&#31471;&#30828;&#30879;</a> <a class=gb1 style=\"text-decoration:none\" href=\"https://www.google.com.tw/intl/zh-TW/about/products?tab=wh\"><u>&#26356;&#22810;</u> &raquo;</a></nobr></div><div id=guser width=100%><nobr><span id=gbn class=gbi></span><span id=gbf class=gbf></span><span id=gbe></span><a href=\"http://www.google.com.tw/history/optout?hl=zh-TW\" class=gb4>&#32178;&#38913;&#35352;&#37636;</a> | <a  href=\"/preferences?hl=zh-TW\" class=gb4>&#35373;&#23450;</a> | <a target=_top id=gb_70 href=\"https://accounts.google.com/ServiceLogin?hl=zh-TW&passive=true&continue=https://www.google.com/&ec=GAZAAQ\" class=gb4>&#30331;&#20837;</a></nobr></div><div class=gbh style=left:0></div><div class=gbh style=right:0></div></div><center><br clear=\"all\" id=\"lgpd\"><div id=\"lga\"><a href=\"/search?ie=UTF-8&amp;q=December+global+holidays&amp;oi=ddle&amp;ct=173710363&amp;hl=en&amp;kgmid=ddl&amp;sa=X&amp;ved=0ahUKEwj65eDBl9ftAhXRG6YKHfGYCEkQPQgD\"><img alt=\"December Holidays\" border=\"0\" height=\"180\" src=\"/logos/doodles/2020/december-holidays-days-2-30-6753651837108830.3-law.gif\" title=\"December Holidays\" width=\"500\" id=\"hplogo\"><br></a><br></div><form action=\"/search\" name=\"f\"><table cellpadding=\"0\" cellspacing=\"0\"><tr valign=\"top\"><td width=\"25%\">&nbsp;</td><td align=\"center\" nowrap=\"\"><input name=\"ie\" value=\"ISO-8859-1\" type=\"hidden\"><input value=\"zh-TW\" name=\"hl\" type=\"hidden\"><input name=\"source\" type=\"hidden\" value=\"hp\"><input name=\"biw\" type=\"hidden\"><input name=\"bih\" type=\"hidden\"><div class=\"ds\" style=\"height:32px;margin:4px 0\"><input class=\"lst\" style=\"margin:0;padding:5px 8px 0 6px;vertical-align:top;color:#000\" autocomplete=\"off\" value=\"\" title=\"Google &#25628;&#23563;\" maxlength=\"2048\" name=\"q\" size=\"57\"></div><br style=\"line-height:0\"><span class=\"ds\"><span class=\"lsbb\"><input class=\"lsb\" value=\"Google &#25628;&#23563;\" name=\"btnG\" type=\"submit\"></span></span><span class=\"ds\"><span class=\"lsbb\"><input class=\"lsb\" id=\"tsuid1\" value=\"&#22909;&#25163;&#27683;\" name=\"btnI\" type=\"submit\"><script nonce=\"KVD3vsAnTpD+RxFugR6qYQ==\">(function(){var id=\\'tsuid1\\';document.getElementById(id).onclick = function(){if (this.form.q.value){this.checked = 1;if (this.form.iflsig)this.form.iflsig.disabled = false;}\\nelse top.location=\\'/doodles/\\';};})();</script><input value=\"AINFCbYAAAAAX9x_6bZUf3xOIOyNE-ftf6ptoENsEoWj\" name=\"iflsig\" type=\"hidden\"></span></span></td><td class=\"fl sblc\" align=\"left\" nowrap=\"\" width=\"25%\"><a href=\"/advanced_search?hl=zh-TW&amp;authuser=0\">&#36914;&#38542;&#25628;&#23563;</a></td></tr></table><input id=\"gbv\" name=\"gbv\" type=\"hidden\" value=\"1\"><script nonce=\"KVD3vsAnTpD+RxFugR6qYQ==\">(function(){var a,b=\"1\";if(document&&document.getElementById)if(\"undefined\"!=typeof XMLHttpRequest)b=\"2\";else if(\"undefined\"!=typeof ActiveXObject){var c,d,e=[\"MSXML2.XMLHTTP.6.0\",\"MSXML2.XMLHTTP.3.0\",\"MSXML2.XMLHTTP\",\"Microsoft.XMLHTTP\"];for(c=0;d=e[c++];)try{new ActiveXObject(d),b=\"2\"}catch(h){}}a=b;if(\"2\"==a&&-1==location.search.indexOf(\"&gbv=2\")){var f=google.gbvu,g=document.getElementById(\"gbv\");g&&(g.value=a);f&&window.setTimeout(function(){location.href=f},0)};}).call(this);</script></form><div id=\"gac_scont\"></div><div style=\"font-size:83%;min-height:3.5em\"><br></div><span id=\"footer\"><div style=\"font-size:10pt\"><div style=\"margin:19px auto;text-align:center\" id=\"WqQANb\"><a href=\"/intl/zh-TW/ads/\">&#24291;&#21578;&#26381;&#21209;</a><a href=\"http://www.google.com.tw/intl/zh-TW/services/\">&#21830;&#26989;&#35299;&#27770;&#26041;&#26696;</a><a href=\"/intl/zh-TW/about.html\">&#38364;&#26044; Google</a><a href=\"https://www.google.com/setprefdomain?prefdom=TW&amp;prev=https://www.google.com.tw/&amp;sig=K_4hvXznDt__VfRbW2pxL2hhS5fYA%3D\">Google.com.tw</a></div></div><p style=\"font-size:8pt;color:#70757a\">&copy; 2020 - <a href=\"/intl/zh-TW/policies/privacy/\">&#38577;&#31169;&#27402;</a> - <a href=\"/intl/zh-TW/policies/terms/\">&#26381;&#21209;&#26781;&#27454;</a></p></span></center><script nonce=\"KVD3vsAnTpD+RxFugR6qYQ==\">(function(){window.google.cdo={height:0,width:0};(function(){var a=window.innerWidth,b=window.innerHeight;if(!a||!b){var c=window.document,d=\"CSS1Compat\"==c.compatMode?c.documentElement:c.body;a=d.clientWidth;b=d.clientHeight}a&&b&&(a!=google.cdo.width||b!=google.cdo.height)&&google.log(\"\",\"\",\"/client_204?&atyp=i&biw=\"+a+\"&bih=\"+b+\"&ei=\"+google.kEI);}).call(this);})();(function(){var u=\\'/xjs/_/js/k\\\\x3dxjs.hp.en.5THRwtAPYFk.O/m\\\\x3dsb_he,d/am\\\\x3dAHiCOA/d\\\\x3d1/rs\\\\x3dACT90oFKbc9Z7G9_DuzW-Np9DtaSdO3Krg\\';\\nvar c=this||self,e=/^[\\\\w+/_-]+[=]{0,2}$/,f=null,g=function(a){return(a=a.querySelector&&a.querySelector(\"script[nonce]\"))&&(a=a.nonce||a.getAttribute(\"nonce\"))&&e.test(a)?a:\"\"},h=function(a){return a};var l;var n=function(a,b){this.g=b===m?a:\"\"},m={};setTimeout(function(){var a=document;var b=\"SCRIPT\";\"application/xhtml+xml\"===a.contentType&&(b=b.toLowerCase());b=a.createElement(b);a=u;if(void 0===l){var d=null;var k=c.trustedTypes;if(k&&k.createPolicy){try{d=k.createPolicy(\"goog#html\",{createHTML:h,createScript:h,createScriptURL:h})}catch(p){c.console&&c.console.error(p.message)}l=d}else l=d}a=(d=l)?d.createScriptURL(a):a;a=new n(a,m);b.src=a instanceof n&&a.constructor===n?a.g:\"type_error:TrustedResourceUrl\";(a=b.ownerDocument&&b.ownerDocument.defaultView)&&\\na!=c?a=g(a.document):(null===f&&(f=g(c.document)),a=f);a&&b.setAttribute(\"nonce\",a);google.timers&&google.timers.load&&google.tick&&google.tick(\"load\",\"xjsls\");document.body.appendChild(b)},0);})();(function(){window.google.xjsu=\\'/xjs/_/js/k\\\\x3dxjs.hp.en.5THRwtAPYFk.O/m\\\\x3dsb_he,d/am\\\\x3dAHiCOA/d\\\\x3d1/rs\\\\x3dACT90oFKbc9Z7G9_DuzW-Np9DtaSdO3Krg\\';})();function _DumpException(e){throw e;}\\nfunction _F_installCss(c){}\\n(function(){google.jl={dw:false,em:[],emw:false,lls:\\'default\\',pdt:0,snet:true,uwp:true};})();(function(){var pmc=\\'{\\\\x22d\\\\x22:{},\\\\x22sb_he\\\\x22:{\\\\x22agen\\\\x22:true,\\\\x22cgen\\\\x22:true,\\\\x22client\\\\x22:\\\\x22heirloom-hp\\\\x22,\\\\x22dh\\\\x22:true,\\\\x22dhqt\\\\x22:true,\\\\x22ds\\\\x22:\\\\x22\\\\x22,\\\\x22ffql\\\\x22:\\\\x22zh-TW\\\\x22,\\\\x22fl\\\\x22:true,\\\\x22host\\\\x22:\\\\x22google.com\\\\x22,\\\\x22isbh\\\\x22:28,\\\\x22jsonp\\\\x22:true,\\\\x22msgs\\\\x22:{\\\\x22cibl\\\\x22:\\\\x22&#28165;&#38500;&#25628;&#23563;\\\\x22,\\\\x22dym\\\\x22:\\\\x22&#24744;&#26159;&#19981;&#26159;&#35201;&#26597;&#65306;\\\\x22,\\\\x22lcky\\\\x22:\\\\x22&#22909;&#25163;&#27683;\\\\x22,\\\\x22lml\\\\x22:\\\\x22&#30637;&#35299;&#35443;&#24773;\\\\x22,\\\\x22oskt\\\\x22:\\\\x22&#36664;&#20837;&#24037;&#20855;\\\\x22,\\\\x22psrc\\\\x22:\\\\x22&#24050;&#24478;&#24744;&#30340;&#12300;\\\\\\\\u003Ca href\\\\x3d\\\\\\\\\\\\x22/history\\\\\\\\\\\\x22\\\\\\\\u003E&#32178;&#38913;&#35352;&#37636;\\\\\\\\u003C/a\\\\\\\\u003E&#12301;&#20013;&#31227;&#38500;&#36889;&#31558;&#25628;&#23563;&#35352;&#37636;\\\\x22,\\\\x22psrl\\\\x22:\\\\x22&#31227;&#38500;\\\\x22,\\\\x22sbit\\\\x22:\\\\x22&#20197;&#22294;&#25628;&#23563;\\\\x22,\\\\x22srch\\\\x22:\\\\x22Google &#25628;&#23563;\\\\x22},\\\\x22nrft\\\\x22:false,\\\\x22ovr\\\\x22:{},\\\\x22pq\\\\x22:\\\\x22\\\\x22,\\\\x22refpd\\\\x22:true,\\\\x22refspre\\\\x22:true,\\\\x22rfs\\\\x22:[],\\\\x22sbas\\\\x22:\\\\x220 3px 8px 0 rgba(0,0,0,0.2),0 0 0 1px rgba(0,0,0,0.08)\\\\x22,\\\\x22sbpl\\\\x22:16,\\\\x22sbpr\\\\x22:16,\\\\x22scd\\\\x22:10,\\\\x22stok\\\\x22:\\\\x22nubcfarQoWUW5Ou09KPSld2psu8\\\\x22,\\\\x22uhde\\\\x22:false}}\\';google.pmc=JSON.parse(pmc);})();</script>        </body></html>'"
      ]
     },
     "metadata": {},
     "execution_count": 5
    }
   ],
   "source": [
    "import requests\n",
    "\n",
    "req = requests.get('https://google.com')\n",
    "req.text"
   ]
  }
 ],
 "metadata": {
  "kernelspec": {
   "display_name": "Python 3",
   "language": "python",
   "name": "python3"
  },
  "language_info": {
   "codemirror_mode": {
    "name": "ipython",
    "version": 3
   },
   "file_extension": ".py",
   "mimetype": "text/x-python",
   "name": "python",
   "nbconvert_exporter": "python",
   "pygments_lexer": "ipython3",
   "version": "3.6.5-final"
  }
 },
 "nbformat": 4,
 "nbformat_minor": 2
}
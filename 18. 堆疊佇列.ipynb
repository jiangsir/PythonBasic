{
 "cells": [
  {
   "cell_type": "markdown",
   "metadata": {},
   "source": [
    "![ss](images/stack.gif)\n",
    "====================\n",
    "![qq](images/queue.gif)"
   ]
  },
  {
   "cell_type": "markdown",
   "metadata": {},
   "source": [
    "# stack & queue \n",
    "\n",
    "在 python 中可以用 list or deque 來實現這兩個資料結構。"
   ]
  },
  {
   "cell_type": "markdown",
   "metadata": {},
   "source": [
    "## 用 list 實現 stack"
   ]
  },
  {
   "cell_type": "code",
   "execution_count": 1,
   "metadata": {},
   "outputs": [
    {
     "output_type": "stream",
     "name": "stdout",
     "text": "[3, 4, 5, 6, 7]\n7\n[3, 4, 5, 6]\n"
    }
   ],
   "source": [
    "stack = [3, 4, 5] \n",
    "stack.append(6) \n",
    "stack.append(7) \n",
    "print(stack) #output : [3, 4, 5, 6, 7] \n",
    "print(stack.pop()) #output : 7 \n",
    "print(stack) #output : [3, 4, 5, 6]\n",
    ""
   ]
  },
  {
   "cell_type": "markdown",
   "metadata": {},
   "source": [
    "## 用 deque 實現 stack"
   ]
  },
  {
   "cell_type": "code",
   "execution_count": 2,
   "metadata": {},
   "outputs": [
    {
     "output_type": "stream",
     "name": "stdout",
     "text": "deque([3, 4, 5, 6, 7])\n7\n[3, 4, 5, 6]\n"
    }
   ],
   "source": [
    "from collections import deque \n",
    "stack1 = deque([3, 4, 5]) \n",
    "stack1.append(6) \n",
    "stack1.append(7) \n",
    "print(stack1) #output : deque([3, 4, 5, 6, 7]) \n",
    "print(stack1.pop()) #output : 7 \n",
    "print(list(stack1)) #output : [3, 4, 5, 6]\n",
    ""
   ]
  },
  {
   "cell_type": "markdown",
   "metadata": {},
   "source": [
    "## 用 list 實現 queue\n",
    "\n",
    "由於 list 的資料結構的限制，對於 queue 的操作會導致效率不佳，因此應該以 deque 來實作。\n",
    "\n",
    "## 用 deque 實現 queue\n",
    "\n",
    "collections.deque 是為了高效率的的插入與刪除的雙向列表，適合用於 queue 以及 stack。"
   ]
  },
  {
   "cell_type": "code",
   "execution_count": 4,
   "metadata": {},
   "outputs": [
    {
     "name": "stdout",
     "output_type": "stream",
     "text": [
      "deque([3, 4, 5, 6, 7])\n",
      "[4, 5, 6, 7]\n"
     ]
    }
   ],
   "source": [
    "from collections import deque \n",
    "queue = deque([3, 4, 5]) \n",
    "queue.append(6) \n",
    "queue.append(7) \n",
    "print(queue) #output : deque([3, 4, 5, 6, 7]) \n",
    "queue.popleft() #output : 3 \n",
    "print(list(queue)) #output : [4, 5, 6, 7]\n"
   ]
  },
  {
   "cell_type": "code",
   "execution_count": 3,
   "metadata": {},
   "outputs": [
    {
     "data": {
      "text/plain": [
       "deque(['b', 'e', 'a'])"
      ]
     },
     "execution_count": 3,
     "metadata": {},
     "output_type": "execute_result"
    }
   ],
   "source": [
    "import collections\n",
    "\n",
    "d = collections.deque([])\n",
    "d.append('a') # 在最右边添加一个元素，此时 d=deque('a')\n",
    "d.appendleft('b') # 在最左边添加一个元素，此时 d=deque(['b', 'a'])\n",
    "d.extend(['c','d']) # 在最右边添加所有元素，此时 d=deque(['b', 'a', 'c', 'd'])\n",
    "d.extendleft(['e','f']) # 在最左边添加所有元素，此时 d=deque(['f', 'e', 'b', 'a', 'c', 'd'])\n",
    "d.pop() # 将最右边的元素取出，返回 'd'，此时 d=deque(['f', 'e', 'b', 'a', 'c'])\n",
    "d.popleft() # 将最左边的元素取出，返回 'f'，此时 d=deque(['e', 'b', 'a', 'c'])\n",
    "d.rotate(-2) # 向左旋转两个位置（正数则向右旋转），此时 d=deque(['a', 'c', 'e', 'b'])\n",
    "d.count('a') # 队列中'a'的个数，返回 1\n",
    "d.remove('c') # 从队列中将'c'删除，此时 d=deque(['a', 'e', 'b'])\n",
    "d.reverse() # 将队列倒序，此时 d=deque(['b', 'e', 'a'])\n",
    "\n",
    "d"
   ]
  }
 ],
 "metadata": {
  "kernelspec": {
   "display_name": "Python 3",
   "language": "python",
   "name": "python3"
  },
  "language_info": {
   "codemirror_mode": {
    "name": "ipython",
    "version": 3
   },
   "file_extension": ".py",
   "mimetype": "text/x-python",
   "name": "python",
   "nbconvert_exporter": "python",
   "pygments_lexer": "ipython3",
   "version": "3.8.0-final"
  }
 },
 "nbformat": 4,
 "nbformat_minor": 2
}
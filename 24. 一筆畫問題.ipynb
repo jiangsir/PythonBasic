{
 "cells": [
  {
   "cell_type": "markdown",
   "metadata": {},
   "source": [
    "# 一筆畫問題\n",
    "\n",
    "* 一筆畫通過所有的邊回到原點，稱為「尤拉迴路」，否則稱為「尤拉路徑」。\n",
    "* 一筆畫通過所有的點回到原點，稱為「漢米爾頓迴路」，否則稱為「漢米爾頓路徑」。\n",
    "\n",
    "漢米爾頓迴路問題可以轉化為旅行銷售員問題。\n",
    "## 旅行銷售員問題\n",
    "    也就是找到權重最小的漢米爾頓迴路。\n"
   ]
  },
  {
   "cell_type": "code",
   "execution_count": null,
   "metadata": {},
   "outputs": [],
   "source": []
  }
 ],
 "metadata": {
  "language_info": {
   "codemirror_mode": {
    "name": "ipython",
    "version": 3
   },
   "file_extension": ".py",
   "mimetype": "text/x-python",
   "name": "python",
   "nbconvert_exporter": "python",
   "pygments_lexer": "ipython3",
   "version": 3
  },
  "orig_nbformat": 2
 },
 "nbformat": 4,
 "nbformat_minor": 2
}